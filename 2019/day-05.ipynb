{
 "cells": [
  {
   "cell_type": "markdown",
   "metadata": {},
   "source": [
    "[Advent of Code - Day 05](https://adventofcode.com/2019/day/5)"
   ]
  },
  {
   "cell_type": "markdown",
   "metadata": {},
   "source": [
    "# Import input"
   ]
  },
  {
   "cell_type": "code",
   "execution_count": 1,
   "metadata": {
    "execution": {
     "iopub.execute_input": "2024-10-08T09:04:29.687380Z",
     "iopub.status.busy": "2024-10-08T09:04:29.687380Z",
     "iopub.status.idle": "2024-10-08T09:04:33.095464Z",
     "shell.execute_reply": "2024-10-08T09:04:33.093887Z",
     "shell.execute_reply.started": "2024-10-08T09:04:29.687380Z"
    }
   },
   "outputs": [],
   "source": [
    "import sys\n",
    "\n",
    "sys.path.insert(0, \"../\")\n",
    "from utils import aoc_input as inp\n",
    "\n",
    "in_ = inp.download_input(year=\"2019\", day=\"05\")[0]"
   ]
  },
  {
   "cell_type": "code",
   "execution_count": 2,
   "metadata": {
    "execution": {
     "iopub.execute_input": "2024-10-08T09:04:33.097469Z",
     "iopub.status.busy": "2024-10-08T09:04:33.096470Z",
     "iopub.status.idle": "2024-10-08T09:04:33.112617Z",
     "shell.execute_reply": "2024-10-08T09:04:33.111131Z",
     "shell.execute_reply.started": "2024-10-08T09:04:33.097469Z"
    }
   },
   "outputs": [
    {
     "data": {
      "text/plain": [
       "'3,225'"
      ]
     },
     "execution_count": 2,
     "metadata": {},
     "output_type": "execute_result"
    }
   ],
   "source": [
    "in_[:5]"
   ]
  },
  {
   "cell_type": "markdown",
   "metadata": {},
   "source": [
    "# Solulu"
   ]
  },
  {
   "cell_type": "code",
   "execution_count": 3,
   "metadata": {
    "execution": {
     "iopub.execute_input": "2024-10-08T09:04:33.114617Z",
     "iopub.status.busy": "2024-10-08T09:04:33.113617Z",
     "iopub.status.idle": "2024-10-08T09:04:33.134012Z",
     "shell.execute_reply": "2024-10-08T09:04:33.133005Z",
     "shell.execute_reply.started": "2024-10-08T09:04:33.114617Z"
    }
   },
   "outputs": [],
   "source": [
    "def solve(input_value: int, inp=in_) -> int:\n",
    "    output_index = 0\n",
    "\n",
    "    pointer = 0\n",
    "\n",
    "    while True:\n",
    "        opcode, modes, total_values = decode(intcode[pointer])\n",
    "\n",
    "        if opcode == 99:\n",
    "            break\n",
    "        elif opcode == 4:\n",
    "            output_index = intcode[pointer + 1]\n",
    "        elif opcode == 3:\n",
    "            input_index = intcode[pointer + 1]\n",
    "            intcode[input_index] = input_value\n",
    "        elif opcode in [1, 2, 7, 8]:\n",
    "            nums = []\n",
    "            for i, mode in enumerate(modes[:-1], start=1):\n",
    "                num = parameter_mode(mode, pointer, i)\n",
    "                nums.append(num)\n",
    "            if opcode == 1:\n",
    "                value = nums[0] + nums[1]\n",
    "            elif opcode == 2:\n",
    "                value = nums[0] * nums[1]\n",
    "            elif opcode == 7:\n",
    "                value = nums[0] < nums[1]\n",
    "            elif opcode == 8:\n",
    "                value = nums[0] == nums[1]\n",
    "            value_index = intcode[pointer + 3]\n",
    "            intcode[value_index] = value\n",
    "\n",
    "        if opcode == 5 and parameter_mode(modes[0], pointer, 1) != 0:\n",
    "            pointer = parameter_mode(modes[1], pointer, 2)\n",
    "        elif opcode == 6 and parameter_mode(modes[0], pointer, 1) == 0:\n",
    "            pointer = parameter_mode(modes[1], pointer, 2)\n",
    "        else:\n",
    "            pointer += total_values\n",
    "\n",
    "    return intcode[output_index]\n",
    "\n",
    "\n",
    "def parameter_mode(mode, pointer, param) -> int:\n",
    "    if mode == 0:\n",
    "        num_index = intcode[pointer + param]\n",
    "    elif mode == 1:\n",
    "        num_index = pointer + param\n",
    "    num = intcode[num_index]\n",
    "\n",
    "    return num\n",
    "\n",
    "\n",
    "def decode(instruction):\n",
    "    opcode = instruction % 100\n",
    "    modes = list()\n",
    "    total_values = 1\n",
    "    if opcode in (3, 4):\n",
    "        total_values += 1\n",
    "    else:\n",
    "        mode1 = (instruction // 100) % 10\n",
    "        mode2 = instruction // 1000\n",
    "        modes.extend([mode1, mode2])\n",
    "        if opcode not in (5, 6):\n",
    "            mode3 = instruction // 10000\n",
    "            modes.append(mode3)\n",
    "\n",
    "    total_values += len(modes)\n",
    "\n",
    "    return opcode, modes, total_values"
   ]
  },
  {
   "cell_type": "markdown",
   "metadata": {},
   "source": [
    "## Part 1"
   ]
  },
  {
   "cell_type": "code",
   "execution_count": 4,
   "metadata": {
    "execution": {
     "iopub.execute_input": "2024-10-08T09:04:33.136009Z",
     "iopub.status.busy": "2024-10-08T09:04:33.136009Z",
     "iopub.status.idle": "2024-10-08T09:04:33.147045Z",
     "shell.execute_reply": "2024-10-08T09:04:33.146040Z",
     "shell.execute_reply.started": "2024-10-08T09:04:33.136009Z"
    }
   },
   "outputs": [
    {
     "data": {
      "text/plain": [
       "5821753"
      ]
     },
     "execution_count": 4,
     "metadata": {},
     "output_type": "execute_result"
    }
   ],
   "source": [
    "intcode = list(map(int, in_.split(\",\")))\n",
    "solve(input_value=1)"
   ]
  },
  {
   "cell_type": "markdown",
   "metadata": {},
   "source": [
    "## Part 2"
   ]
  },
  {
   "cell_type": "code",
   "execution_count": 5,
   "metadata": {
    "execution": {
     "iopub.execute_input": "2024-10-08T09:04:33.149044Z",
     "iopub.status.busy": "2024-10-08T09:04:33.148044Z",
     "iopub.status.idle": "2024-10-08T09:04:33.156601Z",
     "shell.execute_reply": "2024-10-08T09:04:33.156601Z",
     "shell.execute_reply.started": "2024-10-08T09:04:33.149044Z"
    }
   },
   "outputs": [
    {
     "data": {
      "text/plain": [
       "11956381"
      ]
     },
     "execution_count": 5,
     "metadata": {},
     "output_type": "execute_result"
    }
   ],
   "source": [
    "intcode = list(map(int, in_.split(\",\")))\n",
    "solve(input_value=5)"
   ]
  }
 ],
 "metadata": {
  "kernelspec": {
   "display_name": "Python 3 (ipykernel)",
   "language": "python",
   "name": "python3"
  },
  "language_info": {
   "codemirror_mode": {
    "name": "ipython",
    "version": 3
   },
   "file_extension": ".py",
   "mimetype": "text/x-python",
   "name": "python",
   "nbconvert_exporter": "python",
   "pygments_lexer": "ipython3",
   "version": "3.11.4"
  }
 },
 "nbformat": 4,
 "nbformat_minor": 4
}
