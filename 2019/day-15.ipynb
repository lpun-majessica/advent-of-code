{
 "cells": [
  {
   "cell_type": "markdown",
   "metadata": {},
   "source": [
    "[Advent of Code - Day 15](https://adventofcode.com/2019/day/15)"
   ]
  },
  {
   "cell_type": "markdown",
   "metadata": {},
   "source": [
    "# Import input"
   ]
  },
  {
   "cell_type": "code",
   "execution_count": null,
   "metadata": {},
   "outputs": [],
   "source": [
    "import sys\n",
    "from collections import defaultdict\n",
    "\n",
    "sys.path.insert(0, \"../\")\n",
    "from utils import aoc_input as inp\n",
    "\n",
    "INPUT = inp.download_input(year=\"2019\", day=\"15\")[0]"
   ]
  },
  {
   "cell_type": "code",
   "execution_count": null,
   "metadata": {},
   "outputs": [],
   "source": [
    "INPUT[:5]"
   ]
  },
  {
   "cell_type": "markdown",
   "metadata": {},
   "source": [
    "# Solulu"
   ]
  },
  {
   "cell_type": "code",
   "execution_count": null,
   "metadata": {},
   "outputs": [],
   "source": [
    "def solve(intcode: list, direction:int, pointer: int, relative_base:int):\n",
    "    while True:\n",
    "        opcode, modes, total_values = decode(intcode[pointer])\n",
    "        if opcode == 99:\n",
    "            break\n",
    "\n",
    "        elif opcode == 9:\n",
    "            relative_base += parameter_mode(modes[0], pointer, 1, relative_base)\n",
    "\n",
    "        elif opcode == 4:\n",
    "            output_index = parameter_mode(\n",
    "                modes[0], pointer, 1, relative_base, index=True\n",
    "            )\n",
    "            output_value = intcode[output_index]\n",
    "            \n",
    "            return (output_value, direction, pointer+ total_values, relative_base)\n",
    "\n",
    "        elif opcode == 3:\n",
    "            input_value = direction\n",
    "            input_index = parameter_mode(\n",
    "                modes[0], pointer, 1, relative_base, index=True\n",
    "            )\n",
    "            intcode[input_index] = input_value\n",
    "\n",
    "        elif opcode in [1, 2, 7, 8]:\n",
    "            nums = []\n",
    "            for i, mode in enumerate(modes[:-1], start=1):\n",
    "                num = parameter_mode(mode, pointer, i, relative_base)\n",
    "                nums.append(num)\n",
    "            if opcode == 1:\n",
    "                value = nums[0] + nums[1]\n",
    "            elif opcode == 2:\n",
    "                value = nums[0] * nums[1]\n",
    "            elif opcode == 7:\n",
    "                value = nums[0] < nums[1]\n",
    "            elif opcode == 8:\n",
    "                value = nums[0] == nums[1]\n",
    "            value_index = parameter_mode(\n",
    "                modes[-1], pointer, 3, relative_base, index=True\n",
    "            )\n",
    "            intcode[value_index] = value\n",
    "\n",
    "        if opcode == 5 and parameter_mode(modes[0], pointer, 1, relative_base) != 0:\n",
    "            pointer = parameter_mode(modes[1], pointer, 2, relative_base)\n",
    "        elif opcode == 6 and parameter_mode(modes[0], pointer, 1, relative_base) == 0:\n",
    "            pointer = parameter_mode(modes[1], pointer, 2, relative_base)\n",
    "        else:\n",
    "            pointer += total_values\n",
    "\n",
    "    return steps\n",
    "\n",
    "\n",
    "def parameter_mode(mode, pointer, param, relative_base, index: bool = False) -> int:\n",
    "    if mode == 0:\n",
    "        num_index = intcode[pointer + param]\n",
    "    elif mode == 1:\n",
    "        num_index = pointer + param\n",
    "    elif mode == 2:\n",
    "        num_index = intcode[pointer + param] + relative_base\n",
    "\n",
    "    return num_index if index else intcode[num_index]\n",
    "\n",
    "\n",
    "def decode(instruction):\n",
    "    opcode = instruction % 100\n",
    "    modes = list()\n",
    "    total_values = 1\n",
    "\n",
    "    mode1 = (instruction // 100) % 10\n",
    "    modes.append(mode1)\n",
    "    if opcode not in (3, 4, 9):\n",
    "        mode2 = instruction // 1000 % 10\n",
    "        modes.append(mode2)\n",
    "        if opcode not in (5, 6):\n",
    "            mode3 = instruction // 10000\n",
    "            modes.append(mode3)\n",
    "\n",
    "    total_values += len(modes)\n",
    "\n",
    "    return opcode, modes, total_values\n",
    "\n",
    "\n",
    "def _reset_memory(inp=INPUT):\n",
    "    intcode = list(map(int, INPUT.split(\",\")))\n",
    "    d = defaultdict(int)\n",
    "    for address, value in enumerate(intcode):\n",
    "        d[address] = value\n",
    "    return d"
   ]
  },
  {
   "cell_type": "markdown",
   "metadata": {},
   "source": [
    "## Part 1"
   ]
  },
  {
   "cell_type": "code",
   "execution_count": null,
   "metadata": {},
   "outputs": [],
   "source": [
    "intcode = _reset_memory(INPUT)\n",
    "solve(intcode, 3, 249, 0)"
   ]
  },
  {
   "cell_type": "code",
   "execution_count": null,
   "metadata": {
    "scrolled": true
   },
   "outputs": [],
   "source": [
    "intcode = _reset_memory(INPUT)\n",
    "\n",
    "queue = [[(0, 0), 0, 0,0]]\n",
    "visited = set()\n",
    "directions = {1: (0, -1), 2: (0, +1), 3: (-1, 0), 4: (+1, 0)}\n",
    "input_values = [1, 2, 3, 4]\n",
    "\n",
    "output = -1\n",
    "pointer, relative_base = 0,0\n",
    "\n",
    "while output < 2:\n",
    "    (x,y), steps, pointer, relative_base= queue.pop(0)\n",
    "    if (x,y) in visited:\n",
    "        continue\n",
    "    visited.add((x,y))\n",
    "\n",
    "    for direction in input_values:\n",
    "        output, direction, p, rel_base = solve(intcode, direction, pointer, relative_base)\n",
    "        if output > 0:\n",
    "            xx, yy = directions[direction]\n",
    "            queue.append([(x+xx, y+yy), steps + 1, p, rel_base])\n",
    "    \n",
    "steps"
   ]
  },
  {
   "cell_type": "markdown",
   "metadata": {
    "jp-MarkdownHeadingCollapsed": true
   },
   "source": [
    "## Part 2"
   ]
  }
 ],
 "metadata": {
  "kernelspec": {
   "display_name": "Python 3 (ipykernel)",
   "language": "python",
   "name": "python3"
  },
  "language_info": {
   "codemirror_mode": {
    "name": "ipython",
    "version": 3
   },
   "file_extension": ".py",
   "mimetype": "text/x-python",
   "name": "python",
   "nbconvert_exporter": "python",
   "pygments_lexer": "ipython3",
   "version": "3.11.4"
  }
 },
 "nbformat": 4,
 "nbformat_minor": 4
}
