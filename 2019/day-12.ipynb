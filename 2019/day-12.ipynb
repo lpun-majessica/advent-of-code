{
 "cells": [
  {
   "cell_type": "markdown",
   "metadata": {},
   "source": [
    "[Advent of Code - Day 12](https://adventofcode.com/2019/day/12)"
   ]
  },
  {
   "cell_type": "markdown",
   "metadata": {},
   "source": [
    "# Import input"
   ]
  },
  {
   "cell_type": "code",
   "execution_count": 1,
   "metadata": {
    "execution": {
     "iopub.execute_input": "2024-10-22T05:41:42.200630Z",
     "iopub.status.busy": "2024-10-22T05:41:42.200630Z",
     "iopub.status.idle": "2024-10-22T05:41:43.200249Z",
     "shell.execute_reply": "2024-10-22T05:41:43.200249Z",
     "shell.execute_reply.started": "2024-10-22T05:41:42.200630Z"
    }
   },
   "outputs": [],
   "source": [
    "import sys\n",
    "from itertools import product\n",
    "from math import lcm\n",
    "\n",
    "sys.path.insert(0, \"../\")\n",
    "from utils import puzzle\n",
    "\n",
    "P = puzzle.Puzzle(year=\"2019\", day=\"12\")\n",
"INPUT = P.load_input()"
   ]
  },
  {
   "cell_type": "code",
   "execution_count": 2,
   "metadata": {
    "execution": {
     "iopub.execute_input": "2024-10-22T05:41:43.207020Z",
     "iopub.status.busy": "2024-10-22T05:41:43.206011Z",
     "iopub.status.idle": "2024-10-22T05:41:43.219689Z",
     "shell.execute_reply": "2024-10-22T05:41:43.218680Z",
     "shell.execute_reply.started": "2024-10-22T05:41:43.206011Z"
    }
   },
   "outputs": [
    {
     "data": {
      "text/plain": [
       "['<x=17, y=-9, z=4>',\n",
       " '<x=2, y=2, z=-13>',\n",
       " '<x=-1, y=5, z=-1>',\n",
       " '<x=4, y=7, z=-7>']"
      ]
     },
     "execution_count": 2,
     "metadata": {},
     "output_type": "execute_result"
    }
   ],
   "source": [
    "INPUT[:5]"
   ]
  },
  {
   "cell_type": "markdown",
   "metadata": {},
   "source": [
    "# Solulu"
   ]
  },
  {
   "cell_type": "code",
   "execution_count": 3,
   "metadata": {
    "execution": {
     "iopub.execute_input": "2024-10-22T05:41:43.221871Z",
     "iopub.status.busy": "2024-10-22T05:41:43.221871Z",
     "iopub.status.idle": "2024-10-22T05:41:43.236450Z",
     "shell.execute_reply": "2024-10-22T05:41:43.236450Z",
     "shell.execute_reply.started": "2024-10-22T05:41:43.221871Z"
    }
   },
   "outputs": [],
   "source": [
    "def _initial_state(inp: list = INPUT):\n",
    "    positions = dict()\n",
    "    velocities = dict()\n",
    "\n",
    "    for i, line in enumerate(INPUT):\n",
    "        x, y, z = line[1:-1].split(\", \")\n",
    "        x = int(x.split(\"=\")[1])\n",
    "        y = int(y.split(\"=\")[1])\n",
    "        z = int(z.split(\"=\")[1])\n",
    "\n",
    "        positions[i] = [x, y, z]\n",
    "        velocities[i] = [0, 0, 0]\n",
    "\n",
    "    return positions, velocities"
   ]
  },
  {
   "cell_type": "markdown",
   "metadata": {},
   "source": [
    "## Part 1"
   ]
  },
  {
   "cell_type": "code",
   "execution_count": 4,
   "metadata": {
    "execution": {
     "iopub.execute_input": "2024-10-22T05:41:43.236450Z",
     "iopub.status.busy": "2024-10-22T05:41:43.236450Z",
     "iopub.status.idle": "2024-10-22T05:41:43.268614Z",
     "shell.execute_reply": "2024-10-22T05:41:43.268614Z",
     "shell.execute_reply.started": "2024-10-22T05:41:43.236450Z"
    }
   },
   "outputs": [],
   "source": [
    "positions, velocities = _initial_state()\n",
    "steps = 1000\n",
    "moons_observed = 4\n",
    "dimension = 3\n",
    "\n",
    "for _ in range(steps):\n",
    "    for moon1, moon2 in product(range(moons_observed), range(moons_observed)):\n",
    "        if moon1 == moon2:\n",
    "            continue\n",
    "\n",
    "        for i in range(dimension):\n",
    "            pos1 = positions[moon1][i]\n",
    "            pos2 = positions[moon2][i]\n",
    "            if pos1 > pos2:\n",
    "                velocities[moon1][i] -= 1\n",
    "                velocities[moon2][i] += 1\n",
    "            elif pos1 > pos2:\n",
    "                velocities[moon1][i] += 1\n",
    "                velocities[moon2][i] -= 1\n",
    "\n",
    "    for moon in range(moons_observed):\n",
    "        for i in range(dimension):\n",
    "            positions[moon][i] += velocities[moon][i]"
   ]
  },
  {
   "cell_type": "code",
   "execution_count": 5,
   "metadata": {
    "execution": {
     "iopub.execute_input": "2024-10-22T05:41:43.269622Z",
     "iopub.status.busy": "2024-10-22T05:41:43.269622Z",
     "iopub.status.idle": "2024-10-22T05:41:43.275283Z",
     "shell.execute_reply": "2024-10-22T05:41:43.275283Z",
     "shell.execute_reply.started": "2024-10-22T05:41:43.269622Z"
    }
   },
   "outputs": [
    {
     "data": {
      "text/plain": [
       "7202"
      ]
     },
     "execution_count": 5,
     "metadata": {},
     "output_type": "execute_result"
    }
   ],
   "source": [
    "res = 0\n",
    "\n",
    "for moon in range(moons_observed):\n",
    "    pot = sum([abs(pos) for pos in positions[moon]])\n",
    "    kin = sum([abs(veloc) for veloc in velocities[moon]])\n",
    "    res += pot * kin\n",
    "\n",
    "res"
   ]
  },
  {
   "cell_type": "markdown",
   "metadata": {},
   "source": [
    "## Part 2"
   ]
  },
  {
   "cell_type": "code",
   "execution_count": 6,
   "metadata": {
    "execution": {
     "iopub.execute_input": "2024-10-22T05:41:43.277328Z",
     "iopub.status.busy": "2024-10-22T05:41:43.276372Z",
     "iopub.status.idle": "2024-10-22T05:41:47.142365Z",
     "shell.execute_reply": "2024-10-22T05:41:47.142365Z",
     "shell.execute_reply.started": "2024-10-22T05:41:43.277328Z"
    }
   },
   "outputs": [
    {
     "data": {
      "text/plain": [
       "537881600740876"
      ]
     },
     "execution_count": 6,
     "metadata": {},
     "output_type": "execute_result"
    }
   ],
   "source": [
    "positions, velocities = _initial_state()\n",
    "cycles = [0, 0, 0]\n",
    "moons_observed = 4\n",
    "dimension = 3\n",
    "\n",
    "for i in range(dimension):\n",
    "    steps = 0\n",
    "    original_pos = [pos[i] for pos in positions.values()]\n",
    "\n",
    "    while True:\n",
    "        steps += 1\n",
    "        if steps > 1 and original_pos == [pos[i] for pos in positions.values()]:\n",
    "            cycles[i] += steps\n",
    "            break\n",
    "\n",
    "        for moon1, moon2 in product(range(moons_observed), range(moons_observed)):\n",
    "            if moon1 == moon2:\n",
    "                continue\n",
    "\n",
    "            pos1 = positions[moon1][i]\n",
    "            pos2 = positions[moon2][i]\n",
    "            if pos1 > pos2:\n",
    "                velocities[moon1][i] -= 1\n",
    "                velocities[moon2][i] += 1\n",
    "            elif pos1 > pos2:\n",
    "                velocities[moon1][i] += 1\n",
    "                velocities[moon2][i] -= 1\n",
    "\n",
    "        for moon in range(moons_observed):\n",
    "            positions[moon][i] += velocities[moon][i]\n",
    "\n",
    "lcm(*cycles)"
   ]
  }
 ],
 "metadata": {
  "kernelspec": {
   "display_name": "Python 3 (ipykernel)",
   "language": "python",
   "name": "python3"
  },
  "language_info": {
   "codemirror_mode": {
    "name": "ipython",
    "version": 3
   },
   "file_extension": ".py",
   "mimetype": "text/x-python",
   "name": "python",
   "nbconvert_exporter": "python",
   "pygments_lexer": "ipython3",
   "version": "3.11.4"
  }
 },
 "nbformat": 4,
 "nbformat_minor": 4
}
