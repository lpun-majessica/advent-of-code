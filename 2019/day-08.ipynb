{
 "cells": [
  {
   "cell_type": "markdown",
   "metadata": {},
   "source": [
    "[Advent of Code - Day 08](https://adventofcode.com/2019/day/8)"
   ]
  },
  {
   "cell_type": "markdown",
   "metadata": {},
   "source": [
    "# Import input"
   ]
  },
  {
   "cell_type": "code",
   "execution_count": 1,
   "metadata": {
    "execution": {
     "iopub.execute_input": "2024-10-09T05:53:15.065589Z",
     "iopub.status.busy": "2024-10-09T05:53:15.065589Z",
     "iopub.status.idle": "2024-10-09T05:53:16.660342Z",
     "shell.execute_reply": "2024-10-09T05:53:16.660342Z",
     "shell.execute_reply.started": "2024-10-09T05:53:15.065589Z"
    }
   },
   "outputs": [],
   "source": [
    "import sys\n",
    "import math\n",
    "\n",
    "sys.path.insert(0, \"../\")\n",
    "from utils import aoc_input as inp\n",
    "\n",
    "INPUT = inp.download_input(year=\"2019\", day=\"08\")[0]"
   ]
  },
  {
   "cell_type": "code",
   "execution_count": 2,
   "metadata": {
    "execution": {
     "iopub.execute_input": "2024-10-09T05:53:16.660342Z",
     "iopub.status.busy": "2024-10-09T05:53:16.660342Z",
     "iopub.status.idle": "2024-10-09T05:53:16.691283Z",
     "shell.execute_reply": "2024-10-09T05:53:16.691283Z",
     "shell.execute_reply.started": "2024-10-09T05:53:16.660342Z"
    }
   },
   "outputs": [
    {
     "data": {
      "text/plain": [
       "'22220'"
      ]
     },
     "execution_count": 2,
     "metadata": {},
     "output_type": "execute_result"
    }
   ],
   "source": [
    "INPUT[:5]"
   ]
  },
  {
   "cell_type": "markdown",
   "metadata": {},
   "source": [
    "# Solulu"
   ]
  },
  {
   "cell_type": "code",
   "execution_count": 3,
   "metadata": {
    "execution": {
     "iopub.execute_input": "2024-10-09T05:53:16.691283Z",
     "iopub.status.busy": "2024-10-09T05:53:16.691283Z",
     "iopub.status.idle": "2024-10-09T05:53:16.723127Z",
     "shell.execute_reply": "2024-10-09T05:53:16.723127Z",
     "shell.execute_reply.started": "2024-10-09T05:53:16.691283Z"
    }
   },
   "outputs": [],
   "source": [
    "width, height = 25, 6\n",
    "total_pixels = width * height"
   ]
  },
  {
   "cell_type": "markdown",
   "metadata": {},
   "source": [
    "## Part 1"
   ]
  },
  {
   "cell_type": "code",
   "execution_count": 4,
   "metadata": {
    "execution": {
     "iopub.execute_input": "2024-10-09T05:53:16.727125Z",
     "iopub.status.busy": "2024-10-09T05:53:16.727125Z",
     "iopub.status.idle": "2024-10-09T05:53:16.745798Z",
     "shell.execute_reply": "2024-10-09T05:53:16.745798Z",
     "shell.execute_reply.started": "2024-10-09T05:53:16.727125Z"
    }
   },
   "outputs": [
    {
     "data": {
      "text/plain": [
       "1572"
      ]
     },
     "execution_count": 4,
     "metadata": {},
     "output_type": "execute_result"
    }
   ],
   "source": [
    "res = 0\n",
    "fewest_zero_count = math.inf\n",
    "\n",
    "for i in range(0, len(INPUT), total_pixels):\n",
    "    layer = INPUT[i : i + (total_pixels)]\n",
    "    zero_count = layer.count(\"0\")\n",
    "\n",
    "    if zero_count < fewest_zero_count:\n",
    "        res = layer.count(\"1\") * layer.count(\"2\")\n",
    "        fewest_zero_count = zero_count\n",
    "\n",
    "res"
   ]
  },
  {
   "cell_type": "markdown",
   "metadata": {},
   "source": [
    "## Part 2"
   ]
  },
  {
   "cell_type": "code",
   "execution_count": 5,
   "metadata": {
    "execution": {
     "iopub.execute_input": "2024-10-09T05:53:16.749310Z",
     "iopub.status.busy": "2024-10-09T05:53:16.749310Z",
     "iopub.status.idle": "2024-10-09T05:53:16.769168Z",
     "shell.execute_reply": "2024-10-09T05:53:16.768652Z",
     "shell.execute_reply.started": "2024-10-09T05:53:16.749310Z"
    }
   },
   "outputs": [
    {
     "name": "stdout",
     "output_type": "stream",
     "text": [
      "\n",
      "*     *   *       * *     *   * * * *   * * * *   \n",
      "*   *     *       * *     *   *         *         \n",
      "* *         *   *   * * * *   * * *     * * *     \n",
      "*   *         *     *     *   *         *         \n",
      "*   *         *     *     *   *         *         \n",
      "*     *       *     *     *   *         * * * *   "
     ]
    }
   ],
   "source": [
    "for pixel in range(total_pixels):\n",
    "    if pixel % width == 0:\n",
    "        print()\n",
    "    for i in range(0, len(INPUT), total_pixels):\n",
    "        layer = INPUT[i : i + (total_pixels)]\n",
    "        color = layer[pixel]\n",
    "        if color in (\"0\", \"1\"):\n",
    "            message = \"*\" if color == \"1\" else \" \"\n",
    "            print(message, end=\" \")\n",
    "            break"
   ]
  }
 ],
 "metadata": {
  "kernelspec": {
   "display_name": "Python 3 (ipykernel)",
   "language": "python",
   "name": "python3"
  },
  "language_info": {
   "codemirror_mode": {
    "name": "ipython",
    "version": 3
   },
   "file_extension": ".py",
   "mimetype": "text/x-python",
   "name": "python",
   "nbconvert_exporter": "python",
   "pygments_lexer": "ipython3",
   "version": "3.11.4"
  }
 },
 "nbformat": 4,
 "nbformat_minor": 4
}
