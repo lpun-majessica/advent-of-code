{
 "cells": [
  {
   "cell_type": "markdown",
   "metadata": {},
   "source": [
    "[Advent of Code - Day 10](https://adventofcode.com/2019/day/10)"
   ]
  },
  {
   "cell_type": "markdown",
   "metadata": {},
   "source": [
    "# Import input"
   ]
  },
  {
   "cell_type": "code",
   "execution_count": 17,
   "metadata": {
    "execution": {
     "iopub.execute_input": "2024-10-15T11:02:36.070217Z",
     "iopub.status.busy": "2024-10-15T11:02:36.070217Z",
     "iopub.status.idle": "2024-10-15T11:02:36.912583Z",
     "shell.execute_reply": "2024-10-15T11:02:36.911567Z",
     "shell.execute_reply.started": "2024-10-15T11:02:36.070217Z"
    }
   },
   "outputs": [],
   "source": [
    "import sys\n",
    "import itertools\n",
    "from math import lcm\n",
    "\n",
    "sys.path.insert(0, \"../\")\n",
    "from utils import aoc_input as inp\n",
    "\n",
    "in_ = inp.download_input(year=\"2019\", day=\"10\")"
   ]
  },
  {
   "cell_type": "code",
   "execution_count": 9,
   "metadata": {
    "execution": {
     "iopub.execute_input": "2024-10-15T10:31:34.408702Z",
     "iopub.status.busy": "2024-10-15T10:31:34.408702Z",
     "iopub.status.idle": "2024-10-15T10:31:34.418811Z",
     "shell.execute_reply": "2024-10-15T10:31:34.417536Z",
     "shell.execute_reply.started": "2024-10-15T10:31:34.408702Z"
    }
   },
   "outputs": [
    {
     "data": {
      "text/plain": [
       "['.###.#...#.#.##.#.####..',\n",
       " '.#....#####...#.######..',\n",
       " '#.#.###.###.#.....#.####',\n",
       " '##.###..##..####.#.####.',\n",
       " '###########.#######.##.#']"
      ]
     },
     "execution_count": 9,
     "metadata": {},
     "output_type": "execute_result"
    }
   ],
   "source": [
    "in_[:5]"
   ]
  },
  {
   "cell_type": "markdown",
   "metadata": {},
   "source": [
    "# Solulu"
   ]
  },
  {
   "cell_type": "code",
   "execution_count": 16,
   "metadata": {
    "execution": {
     "iopub.execute_input": "2024-10-15T10:54:50.512993Z",
     "iopub.status.busy": "2024-10-15T10:54:50.511996Z",
     "iopub.status.idle": "2024-10-15T10:54:50.523568Z",
     "shell.execute_reply": "2024-10-15T10:54:50.521543Z",
     "shell.execute_reply.started": "2024-10-15T10:54:50.511996Z"
    }
   },
   "outputs": [],
   "source": [
    "asteroids = list()\n",
    "height, width = len(in_), len(in_[0])\n",
    "\n",
    "for row, col in itertools.product(range(height), range(width)):\n",
    "    if in_[row][col] == \"#\":\n",
    "        asteroids.append((col, row))"
   ]
  },
  {
   "cell_type": "code",
   "execution_count": null,
   "metadata": {
    "execution": {
     "iopub.execute_input": "2024-10-15T11:12:01.183236Z",
     "iopub.status.busy": "2024-10-15T11:12:01.182166Z",
     "iopub.status.idle": "2024-10-15T11:12:01.771635Z",
     "shell.execute_reply": "2024-10-15T11:12:01.770514Z",
     "shell.execute_reply.started": "2024-10-15T11:12:01.183236Z"
    }
   },
   "outputs": [],
   "source": [
    "total_asteroids = len(asteroids)\n",
    "\n",
    "for i in range(total_asteroids):\n",
    "    monitoring_asteroid = asteroids[i]\n",
    "    lines = dict()\n",
    "    \n",
    "    for asteroid in asteroids:\n",
    "        if asteroid == monitoring_asteroid:\n",
    "            continue\n",
    "        xm, ym = monitoring_asteroid\n",
    "        xa, ya = asteroid\n",
    "\n",
    "        if xm == xa:\n",
    "            continue\n",
    "            \n",
    "        a = abs((ym - ya) / (xm - xa))\n",
    "        b = ym - (a * xm)\n",
    "        right = xa>xm\n",
    "\n",
    "        if (a,b) not in lines:\n",
    "            lines[(a,b)] = [None, None]\n",
    "            lines[(a,b)][right] = asteroid\n",
    "        elif not lines[(a,b)][right]:\n",
    "            lines[(a,b)][right] = asteroid\n",
    "        else:\n",
    "            asteroid_on_line = xaa,yaa = lines[(a,b)][right]\n",
    "            if abs(xm-xa)< abs(xm - xaa):\n",
    "                lines[(a,b)][right] = asteroid"
   ]
  },
  {
   "cell_type": "code",
   "execution_count": null,
   "metadata": {},
   "outputs": [],
   "source": [
    "res = 0\n",
    "for line in lines:\n"
   ]
  },
  {
   "cell_type": "markdown",
   "metadata": {},
   "source": [
    "## Part 1"
   ]
  },
  {
   "cell_type": "markdown",
   "metadata": {
    "jp-MarkdownHeadingCollapsed": true
   },
   "source": [
    "## Part 2"
   ]
  }
 ],
 "metadata": {
  "kernelspec": {
   "display_name": "Python 3 (ipykernel)",
   "language": "python",
   "name": "python3"
  },
  "language_info": {
   "codemirror_mode": {
    "name": "ipython",
    "version": 3
   },
   "file_extension": ".py",
   "mimetype": "text/x-python",
   "name": "python",
   "nbconvert_exporter": "python",
   "pygments_lexer": "ipython3",
   "version": "3.11.4"
  }
 },
 "nbformat": 4,
 "nbformat_minor": 4
}
