{
 "cells": [
  {
   "cell_type": "markdown",
   "metadata": {},
   "source": [
    "[Advent of Code - Day 10](https://adventofcode.com/2019/day/10)"
   ]
  },
  {
   "cell_type": "markdown",
   "metadata": {},
   "source": [
    "# Import input"
   ]
  },
  {
   "cell_type": "code",
   "execution_count": 1,
   "metadata": {
    "execution": {
     "iopub.execute_input": "2024-10-21T08:19:05.356998Z",
     "iopub.status.busy": "2024-10-21T08:19:05.356998Z",
     "iopub.status.idle": "2024-10-21T08:19:06.924832Z",
     "shell.execute_reply": "2024-10-21T08:19:06.924832Z",
     "shell.execute_reply.started": "2024-10-21T08:19:05.356998Z"
    }
   },
   "outputs": [],
   "source": [
    "import sys\n",
    "import itertools\n",
    "from heapq import heappush, heappop\n",
    "\n",
    "sys.path.insert(0, \"../\")\n",
    "from utils import puzzle\n",
    "\n",
    "P = puzzle.Puzzle(year=\"2019\", day=\"10\")\n",
"INPUT = P.load_input()"
   ]
  },
  {
   "cell_type": "code",
   "execution_count": 2,
   "metadata": {
    "execution": {
     "iopub.execute_input": "2024-10-21T08:19:06.932808Z",
     "iopub.status.busy": "2024-10-21T08:19:06.932808Z",
     "iopub.status.idle": "2024-10-21T08:19:06.957265Z",
     "shell.execute_reply": "2024-10-21T08:19:06.957265Z",
     "shell.execute_reply.started": "2024-10-21T08:19:06.932808Z"
    },
    "scrolled": true
   },
   "outputs": [
    {
     "data": {
      "text/plain": [
       "['.###.#...#.#.##.#.####..',\n",
       " '.#....#####...#.######..',\n",
       " '#.#.###.###.#.....#.####',\n",
       " '##.###..##..####.#.####.',\n",
       " '###########.#######.##.#']"
      ]
     },
     "execution_count": 2,
     "metadata": {},
     "output_type": "execute_result"
    }
   ],
   "source": [
    "INPUT[:5]"
   ]
  },
  {
   "cell_type": "markdown",
   "metadata": {},
   "source": [
    "# Solulu"
   ]
  },
  {
   "cell_type": "code",
   "execution_count": 3,
   "metadata": {
    "execution": {
     "iopub.execute_input": "2024-10-21T08:19:06.964770Z",
     "iopub.status.busy": "2024-10-21T08:19:06.964770Z",
     "iopub.status.idle": "2024-10-21T08:19:06.982443Z",
     "shell.execute_reply": "2024-10-21T08:19:06.982443Z",
     "shell.execute_reply.started": "2024-10-21T08:19:06.964770Z"
    }
   },
   "outputs": [],
   "source": [
    "asteroids = dict()\n",
    "height, width = len(INPUT), len(INPUT[0])\n",
    "\n",
    "for row, col in itertools.product(range(height), range(width)):\n",
    "    if INPUT[row][col] == \"#\":\n",
    "        asteroids[(col, row)] = dict()"
   ]
  },
  {
   "cell_type": "markdown",
   "metadata": {},
   "source": [
    "## Part 1"
   ]
  },
  {
   "cell_type": "code",
   "execution_count": 4,
   "metadata": {
    "execution": {
     "iopub.execute_input": "2024-10-21T08:19:06.989849Z",
     "iopub.status.busy": "2024-10-21T08:19:06.989849Z",
     "iopub.status.idle": "2024-10-21T08:19:07.666784Z",
     "shell.execute_reply": "2024-10-21T08:19:07.666784Z",
     "shell.execute_reply.started": "2024-10-21T08:19:06.989849Z"
    }
   },
   "outputs": [
    {
     "data": {
      "text/plain": [
       "280"
      ]
     },
     "execution_count": 4,
     "metadata": {},
     "output_type": "execute_result"
    }
   ],
   "source": [
    "res = 0\n",
    "monitoring_asteroid = None\n",
    "\n",
    "for current_asteroid, lines in asteroids.items():\n",
    "    for asteroid in asteroids:\n",
    "        if asteroid == current_asteroid:\n",
    "            continue\n",
    "        xm, ym = current_asteroid\n",
    "        xa, ya = asteroid\n",
    "\n",
    "        if xm == xa:\n",
    "            a = 0\n",
    "            b = 1\n",
    "            c = -xm\n",
    "            loc = ya < ym\n",
    "        elif ym == ya:\n",
    "            a = 1\n",
    "            b = 0\n",
    "            c = ym\n",
    "            loc = xa > xm\n",
    "        else:\n",
    "            a = 1\n",
    "            b = (ym - ya) / (xm - xa)\n",
    "            c = ym - (a * xm)\n",
    "            loc = xa > xm\n",
    "\n",
    "        if (a, b, c) not in lines:\n",
    "            lines[(a, b, c)] = [list(), list()]\n",
    "        distance = abs(ym - ya) if xm == xa else abs(xm - xa)\n",
    "        heappush(lines[(a, b, c)][loc], (distance, asteroid))\n",
    "\n",
    "    total_monitored = 0\n",
    "    for sides in lines.values():\n",
    "        total_monitored += sum([1 if asteroid else 0 for asteroid in sides])\n",
    "\n",
    "    if total_monitored > res:\n",
    "        res = total_monitored\n",
    "        monitoring_asteroid = current_asteroid\n",
    "\n",
    "res"
   ]
  },
  {
   "cell_type": "markdown",
   "metadata": {},
   "source": [
    "## Part 2"
   ]
  },
  {
   "cell_type": "code",
   "execution_count": 5,
   "metadata": {
    "execution": {
     "iopub.execute_input": "2024-10-21T08:19:07.671115Z",
     "iopub.status.busy": "2024-10-21T08:19:07.671115Z",
     "iopub.status.idle": "2024-10-21T08:19:07.683610Z",
     "shell.execute_reply": "2024-10-21T08:19:07.682471Z",
     "shell.execute_reply.started": "2024-10-21T08:19:07.671115Z"
    }
   },
   "outputs": [
    {
     "data": {
      "text/plain": [
       "706"
      ]
     },
     "execution_count": 5,
     "metadata": {},
     "output_type": "execute_result"
    }
   ],
   "source": [
    "bet = 200\n",
    "evaporate_order = list()\n",
    "surroundings = asteroids[monitoring_asteroid]\n",
    "line_order = sorted(surroundings, key=lambda line: (line[0], line[1], line[2]))\n",
    "\n",
    "\n",
    "while len(evaporate_order) < res:\n",
    "    for loc in range(1, -1, -1):\n",
    "        for line in line_order:\n",
    "            current_side = surroundings[line][loc]\n",
    "            if current_side:\n",
    "                evaporate_order.append(heappop(current_side)[-1])\n",
    "\n",
    "x, y = evaporate_order[bet - 1]\n",
    "x * 100 + y"
   ]
  }
 ],
 "metadata": {
  "kernelspec": {
   "display_name": "Python 3 (ipykernel)",
   "language": "python",
   "name": "python3"
  },
  "language_info": {
   "codemirror_mode": {
    "name": "ipython",
    "version": 3
   },
   "file_extension": ".py",
   "mimetype": "text/x-python",
   "name": "python",
   "nbconvert_exporter": "python",
   "pygments_lexer": "ipython3",
   "version": "3.11.4"
  }
 },
 "nbformat": 4,
 "nbformat_minor": 4
}
