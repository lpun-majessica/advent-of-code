{
 "cells": [
  {
   "cell_type": "markdown",
   "metadata": {},
   "source": [
    "[Advent of Code - Day 13](https://adventofcode.com/2019/day/13)"
   ]
  },
  {
   "cell_type": "markdown",
   "metadata": {},
   "source": [
    "# Import input"
   ]
  },
  {
   "cell_type": "code",
   "execution_count": 1,
   "metadata": {
    "execution": {
     "iopub.execute_input": "2024-10-22T06:51:00.367935Z",
     "iopub.status.busy": "2024-10-22T06:51:00.367935Z",
     "iopub.status.idle": "2024-10-22T06:51:01.318742Z",
     "shell.execute_reply": "2024-10-22T06:51:01.318742Z",
     "shell.execute_reply.started": "2024-10-22T06:51:00.367935Z"
    }
   },
   "outputs": [],
   "source": [
    "import sys\n",
    "from collections import defaultdict\n",
    "\n",
    "sys.path.insert(0, \"../\")\n",
    "from utils import aoc_input as inp\n",
    "\n",
    "in_ = inp.download_input(year=\"2019\", day=\"13\")[0]"
   ]
  },
  {
   "cell_type": "code",
   "execution_count": 2,
   "metadata": {
    "execution": {
     "iopub.execute_input": "2024-10-22T06:51:01.318742Z",
     "iopub.status.busy": "2024-10-22T06:51:01.318742Z",
     "iopub.status.idle": "2024-10-22T06:51:01.337280Z",
     "shell.execute_reply": "2024-10-22T06:51:01.337280Z",
     "shell.execute_reply.started": "2024-10-22T06:51:01.318742Z"
    }
   },
   "outputs": [
    {
     "data": {
      "text/plain": [
       "'1,380'"
      ]
     },
     "execution_count": 2,
     "metadata": {},
     "output_type": "execute_result"
    }
   ],
   "source": [
    "in_[:5]"
   ]
  },
  {
   "cell_type": "markdown",
   "metadata": {},
   "source": [
    "# Solulu"
   ]
  },
  {
   "cell_type": "code",
   "execution_count": 3,
   "metadata": {
    "execution": {
     "iopub.execute_input": "2024-10-22T06:51:01.337280Z",
     "iopub.status.busy": "2024-10-22T06:51:01.337280Z",
     "iopub.status.idle": "2024-10-22T06:51:01.365016Z",
     "shell.execute_reply": "2024-10-22T06:51:01.364139Z",
     "shell.execute_reply.started": "2024-10-22T06:51:01.337280Z"
    }
   },
   "outputs": [],
   "source": [
    "def solve(intcode: list, pointer: int = 0):\n",
    "    tiles = defaultdict(list)\n",
    "    score: int = None\n",
    "    output_index = 0\n",
    "    output_values = list()\n",
    "    relative_base = 0\n",
    "\n",
    "    while True:\n",
    "        opcode, modes, total_values = decode(intcode[pointer])\n",
    "\n",
    "        if 4 in tiles and 3 in tiles:\n",
    "            x_ball = tiles[4][-1][0]\n",
    "            x_paddle = tiles[3][-1][0]\n",
    "\n",
    "            if x_ball == x_paddle:\n",
    "                input_value = 0\n",
    "            elif x_ball > x_paddle:\n",
    "                input_value = +1\n",
    "            elif x_ball < x_paddle:\n",
    "                input_value = -1\n",
    "\n",
    "        if opcode == 99:\n",
    "            break\n",
    "\n",
    "        elif opcode == 9:\n",
    "            relative_base += parameter_mode(modes[0], pointer, 1, relative_base)\n",
    "\n",
    "        elif opcode == 4:\n",
    "            output_index = parameter_mode(\n",
    "                modes[0], pointer, 1, relative_base, index=True\n",
    "            )\n",
    "            output_values.append(intcode[output_index])\n",
    "\n",
    "            if len(output_values) == 3:\n",
    "                x, y, tile_id = output_values\n",
    "                if (x, y) == (-1, 0):\n",
    "                    score = tile_id\n",
    "                else:\n",
    "                    tiles[tile_id].append((x, y))\n",
    "                output_values = list()\n",
    "\n",
    "        elif opcode == 3:\n",
    "            input_index = parameter_mode(\n",
    "                modes[0], pointer, 1, relative_base, index=True\n",
    "            )\n",
    "            intcode[input_index] = input_value\n",
    "\n",
    "        elif opcode in [1, 2, 7, 8]:\n",
    "            nums = []\n",
    "            for i, mode in enumerate(modes[:-1], start=1):\n",
    "                num = parameter_mode(mode, pointer, i, relative_base)\n",
    "                nums.append(num)\n",
    "            if opcode == 1:\n",
    "                value = nums[0] + nums[1]\n",
    "            elif opcode == 2:\n",
    "                value = nums[0] * nums[1]\n",
    "            elif opcode == 7:\n",
    "                value = nums[0] < nums[1]\n",
    "            elif opcode == 8:\n",
    "                value = nums[0] == nums[1]\n",
    "            value_index = parameter_mode(\n",
    "                modes[-1], pointer, 3, relative_base, index=True\n",
    "            )\n",
    "            intcode[value_index] = value\n",
    "\n",
    "        if opcode == 5 and parameter_mode(modes[0], pointer, 1, relative_base) != 0:\n",
    "            pointer = parameter_mode(modes[1], pointer, 2, relative_base)\n",
    "        elif opcode == 6 and parameter_mode(modes[0], pointer, 1, relative_base) == 0:\n",
    "            pointer = parameter_mode(modes[1], pointer, 2, relative_base)\n",
    "        else:\n",
    "            pointer += total_values\n",
    "\n",
    "    return tiles, score\n",
    "\n",
    "\n",
    "def parameter_mode(mode, pointer, param, relative_base, index: bool = False) -> int:\n",
    "    if mode == 0:\n",
    "        num_index = intcode[pointer + param]\n",
    "    elif mode == 1:\n",
    "        num_index = pointer + param\n",
    "    elif mode == 2:\n",
    "        num_index = intcode[pointer + param] + relative_base\n",
    "\n",
    "    return num_index if index else intcode[num_index]\n",
    "\n",
    "\n",
    "def decode(instruction):\n",
    "    opcode = instruction % 100\n",
    "    modes = list()\n",
    "    total_values = 1\n",
    "\n",
    "    mode1 = (instruction // 100) % 10\n",
    "    modes.append(mode1)\n",
    "    if opcode not in (3, 4, 9):\n",
    "        mode2 = instruction // 1000 % 10\n",
    "        modes.append(mode2)\n",
    "        if opcode not in (5, 6):\n",
    "            mode3 = instruction // 10000\n",
    "            modes.append(mode3)\n",
    "\n",
    "    total_values += len(modes)\n",
    "\n",
    "    return opcode, modes, total_values\n",
    "\n",
    "\n",
    "def _reset_memory(inp=in_):\n",
    "    intcode = list(map(int, in_.split(\",\")))\n",
    "    d = defaultdict(int)\n",
    "    for address, value in enumerate(intcode):\n",
    "        d[address] = value\n",
    "    return d"
   ]
  },
  {
   "cell_type": "markdown",
   "metadata": {},
   "source": [
    "## Part 1"
   ]
  },
  {
   "cell_type": "code",
   "execution_count": 4,
   "metadata": {
    "execution": {
     "iopub.execute_input": "2024-10-22T06:51:01.365016Z",
     "iopub.status.busy": "2024-10-22T06:51:01.365016Z",
     "iopub.status.idle": "2024-10-22T06:51:01.398423Z",
     "shell.execute_reply": "2024-10-22T06:51:01.398423Z",
     "shell.execute_reply.started": "2024-10-22T06:51:01.365016Z"
    }
   },
   "outputs": [
    {
     "data": {
      "text/plain": [
       "309"
      ]
     },
     "execution_count": 4,
     "metadata": {},
     "output_type": "execute_result"
    }
   ],
   "source": [
    "intcode = _reset_memory(in_)\n",
    "tile_type = 2\n",
    "\n",
    "tiles, _ = solve(intcode)\n",
    "len(tiles[tile_type])"
   ]
  },
  {
   "cell_type": "markdown",
   "metadata": {},
   "source": [
    "## Part 2"
   ]
  },
  {
   "cell_type": "code",
   "execution_count": 5,
   "metadata": {
    "execution": {
     "iopub.execute_input": "2024-10-22T06:51:01.398423Z",
     "iopub.status.busy": "2024-10-22T06:51:01.398423Z",
     "iopub.status.idle": "2024-10-22T06:51:02.518265Z",
     "shell.execute_reply": "2024-10-22T06:51:02.517824Z",
     "shell.execute_reply.started": "2024-10-22T06:51:01.398423Z"
    }
   },
   "outputs": [
    {
     "data": {
      "text/plain": [
       "15410"
      ]
     },
     "execution_count": 5,
     "metadata": {},
     "output_type": "execute_result"
    }
   ],
   "source": [
    "intcode = _reset_memory(in_)\n",
    "intcode[0] = 2\n",
    "\n",
    "_, score = solve(intcode)\n",
    "score"
   ]
  }
 ],
 "metadata": {
  "kernelspec": {
   "display_name": "Python 3 (ipykernel)",
   "language": "python",
   "name": "python3"
  },
  "language_info": {
   "codemirror_mode": {
    "name": "ipython",
    "version": 3
   },
   "file_extension": ".py",
   "mimetype": "text/x-python",
   "name": "python",
   "nbconvert_exporter": "python",
   "pygments_lexer": "ipython3",
   "version": "3.11.4"
  }
 },
 "nbformat": 4,
 "nbformat_minor": 4
}
