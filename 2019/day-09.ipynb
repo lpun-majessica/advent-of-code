{
 "cells": [
  {
   "cell_type": "markdown",
   "metadata": {},
   "source": [
    "[Advent of Code - Day 09](https://adventofcode.com/2019/day/9)"
   ]
  },
  {
   "cell_type": "markdown",
   "metadata": {},
   "source": [
    "# Import input"
   ]
  },
  {
   "cell_type": "code",
   "execution_count": 3,
   "metadata": {
    "execution": {
     "iopub.execute_input": "2024-10-09T06:33:31.101278Z",
     "iopub.status.busy": "2024-10-09T06:33:31.092551Z",
     "iopub.status.idle": "2024-10-09T06:33:32.150927Z",
     "shell.execute_reply": "2024-10-09T06:33:32.150927Z",
     "shell.execute_reply.started": "2024-10-09T06:33:31.101278Z"
    }
   },
   "outputs": [],
   "source": [
    "import sys\n",
    "\n",
    "sys.path.insert(0, \"../\")\n",
    "from utils import aoc_input as inp\n",
    "\n",
    "in_ = inp.download_input(year=\"2019\", day=\"09\")[0]"
   ]
  },
  {
   "cell_type": "code",
   "execution_count": 4,
   "metadata": {
    "execution": {
     "iopub.execute_input": "2024-10-09T06:33:32.150927Z",
     "iopub.status.busy": "2024-10-09T06:33:32.150927Z",
     "iopub.status.idle": "2024-10-09T06:33:32.169193Z",
     "shell.execute_reply": "2024-10-09T06:33:32.166828Z",
     "shell.execute_reply.started": "2024-10-09T06:33:32.150927Z"
    }
   },
   "outputs": [
    {
     "data": {
      "text/plain": [
       "'1102,'"
      ]
     },
     "execution_count": 4,
     "metadata": {},
     "output_type": "execute_result"
    }
   ],
   "source": [
    "in_[:5]"
   ]
  },
  {
   "cell_type": "markdown",
   "metadata": {},
   "source": [
    "# Solulu"
   ]
  },
  {
   "cell_type": "code",
   "execution_count": 16,
   "metadata": {
    "execution": {
     "iopub.execute_input": "2024-10-09T06:55:37.410263Z",
     "iopub.status.busy": "2024-10-09T06:55:37.407250Z",
     "iopub.status.idle": "2024-10-09T06:55:37.443990Z",
     "shell.execute_reply": "2024-10-09T06:55:37.442037Z",
     "shell.execute_reply.started": "2024-10-09T06:55:37.410263Z"
    }
   },
   "outputs": [],
   "source": [
    "def solve(input_value, intcode: list, pointer: int = 0, part: int = 1):\n",
    "    output_index = 0\n",
    "    relative_base = 0\n",
    "\n",
    "    while True:\n",
    "        opcode, modes, total_values = decode(intcode[pointer])\n",
    "\n",
    "        if opcode == 99:\n",
    "            break\n",
    "            \n",
    "        elif opcode == 9:\n",
    "            relative_base += parameter_mode(modes[0], pointer, 1, relative_base)\n",
    "            \n",
    "        elif opcode == 4:\n",
    "            output_index = intcode[pointer + 1]\n",
    "            \n",
    "        elif opcode == 3:\n",
    "            input_index = intcode[pointer + 1]\n",
    "            intcode[input_index] = input_value\n",
    "            \n",
    "        elif opcode in [1, 2, 7, 8]:\n",
    "            nums = []\n",
    "            for i, mode in enumerate(modes[:-1], start=1):\n",
    "                num = parameter_mode(mode, pointer, i, relative_base)\n",
    "                nums.append(num)\n",
    "            if opcode == 1:\n",
    "                value = nums[0] + nums[1]\n",
    "            elif opcode == 2:\n",
    "                value = nums[0] * nums[1]\n",
    "            elif opcode == 7:\n",
    "                value = nums[0] < nums[1]\n",
    "            elif opcode == 8:\n",
    "                value = nums[0] == nums[1]\n",
    "            value_index = intcode[pointer + 3]\n",
    "            intcode[value_index] = value\n",
    "\n",
    "        if opcode == 5 and parameter_mode(modes[0], pointer, 1, relative_base) != 0:\n",
    "            pointer = parameter_mode(modes[1], pointer, 2, relative_base)\n",
    "        elif opcode == 6 and parameter_mode(modes[0], pointer, 1, relative_base) == 0:\n",
    "            pointer = parameter_mode(modes[1], pointer, 2, relative_base)\n",
    "        else:\n",
    "            pointer += total_values\n",
    "\n",
    "    output_value = intcode[output_index]\n",
    "\n",
    "    return output_value\n",
    "\n",
    "\n",
    "def parameter_mode(mode, pointer, param, relative_base) -> int:\n",
    "    if mode == 0:\n",
    "        num_index = intcode[pointer + param]\n",
    "    elif mode == 1:\n",
    "        num_index = pointer + param\n",
    "    elif mode == 2:\n",
    "        num_index = intcode[pointer + param] + relative_base\n",
    "    num = intcode[num_index]\n",
    "\n",
    "    return num\n",
    "\n",
    "\n",
    "def decode(instruction):\n",
    "    opcode = instruction % 100\n",
    "    modes = list()\n",
    "    total_values = 1\n",
    "    if opcode in (3, 4):\n",
    "        total_values += 1\n",
    "    else:\n",
    "        mode1 = (instruction // 100) % 10\n",
    "        modes.append(mode1)\n",
    "        if opcode != 9:\n",
    "            mode2 = instruction // 1000\n",
    "            modes.append(mode2)\n",
    "            if opcode not in (5, 6):\n",
    "                mode3 = instruction // 10000\n",
    "                modes.append(mode3)\n",
    "\n",
    "    total_values += len(modes)\n",
    "\n",
    "    return opcode, modes, total_values\n",
    "\n",
    "\n",
    "def _reset_memory(inp=in_, dictify = False):\n",
    "    intcode = list(map(int, in_.split(\",\")))\n",
    "    if not dictify:\n",
    "        return intcode\n",
    "    else:\n",
    "        d = dict()\n",
    "        for address, value in enumerate(intcode):\n",
    "            d[address] = value\n",
    "        return d"
   ]
  },
  {
   "cell_type": "markdown",
   "metadata": {},
   "source": [
    "## Part 1"
   ]
  },
  {
   "cell_type": "code",
   "execution_count": 23,
   "metadata": {
    "execution": {
     "iopub.execute_input": "2024-10-09T07:02:13.914430Z",
     "iopub.status.busy": "2024-10-09T07:02:13.914430Z",
     "iopub.status.idle": "2024-10-09T07:02:13.934640Z",
     "shell.execute_reply": "2024-10-09T07:02:13.933089Z",
     "shell.execute_reply.started": "2024-10-09T07:02:13.914430Z"
    }
   },
   "outputs": [],
   "source": [
    "in_ = '109,1,204,-1,1001,100,1,100,1008,100,16,101,1006,101,0,99'"
   ]
  },
  {
   "cell_type": "code",
   "execution_count": 24,
   "metadata": {
    "execution": {
     "iopub.execute_input": "2024-10-09T07:02:14.855601Z",
     "iopub.status.busy": "2024-10-09T07:02:14.855601Z",
     "iopub.status.idle": "2024-10-09T07:02:14.965233Z",
     "shell.execute_reply": "2024-10-09T07:02:14.963717Z",
     "shell.execute_reply.started": "2024-10-09T07:02:14.855601Z"
    }
   },
   "outputs": [
    {
     "ename": "KeyError",
     "evalue": "100",
     "output_type": "error",
     "traceback": [
      "\u001b[1;31m---------------------------------------------------------------------------\u001b[0m",
      "\u001b[1;31mKeyError\u001b[0m                                  Traceback (most recent call last)",
      "Cell \u001b[1;32mIn[24], line 3\u001b[0m\n\u001b[0;32m      1\u001b[0m intcode \u001b[38;5;241m=\u001b[39m _reset_memory(dictify \u001b[38;5;241m=\u001b[39m \u001b[38;5;28;01mTrue\u001b[39;00m)\n\u001b[1;32m----> 3\u001b[0m solve(input_value\u001b[38;5;241m=\u001b[39m\u001b[38;5;241m1\u001b[39m,intcode\u001b[38;5;241m=\u001b[39mintcode)\n",
      "Cell \u001b[1;32mIn[16], line 24\u001b[0m, in \u001b[0;36msolve\u001b[1;34m(input_value, intcode, pointer, part)\u001b[0m\n\u001b[0;32m     22\u001b[0m nums \u001b[38;5;241m=\u001b[39m []\n\u001b[0;32m     23\u001b[0m \u001b[38;5;28;01mfor\u001b[39;00m i, mode \u001b[38;5;129;01min\u001b[39;00m \u001b[38;5;28menumerate\u001b[39m(modes[:\u001b[38;5;241m-\u001b[39m\u001b[38;5;241m1\u001b[39m], start\u001b[38;5;241m=\u001b[39m\u001b[38;5;241m1\u001b[39m):\n\u001b[1;32m---> 24\u001b[0m     num \u001b[38;5;241m=\u001b[39m parameter_mode(mode, pointer, i, relative_base)\n\u001b[0;32m     25\u001b[0m     nums\u001b[38;5;241m.\u001b[39mappend(num)\n\u001b[0;32m     26\u001b[0m \u001b[38;5;28;01mif\u001b[39;00m opcode \u001b[38;5;241m==\u001b[39m \u001b[38;5;241m1\u001b[39m:\n",
      "Cell \u001b[1;32mIn[16], line 56\u001b[0m, in \u001b[0;36mparameter_mode\u001b[1;34m(mode, pointer, param, relative_base)\u001b[0m\n\u001b[0;32m     54\u001b[0m \u001b[38;5;28;01melif\u001b[39;00m mode \u001b[38;5;241m==\u001b[39m \u001b[38;5;241m2\u001b[39m:\n\u001b[0;32m     55\u001b[0m     num_index \u001b[38;5;241m=\u001b[39m intcode[pointer \u001b[38;5;241m+\u001b[39m param] \u001b[38;5;241m+\u001b[39m relative_base\n\u001b[1;32m---> 56\u001b[0m num \u001b[38;5;241m=\u001b[39m intcode[num_index]\n\u001b[0;32m     58\u001b[0m \u001b[38;5;28;01mreturn\u001b[39;00m num\n",
      "\u001b[1;31mKeyError\u001b[0m: 100"
     ]
    }
   ],
   "source": [
    "intcode = _reset_memory(dictify = True)\n",
    "\n",
    "solve(input_value=1,intcode=intcode)"
   ]
  },
  {
   "cell_type": "code",
   "execution_count": 22,
   "metadata": {
    "execution": {
     "iopub.execute_input": "2024-10-09T06:58:42.174693Z",
     "iopub.status.busy": "2024-10-09T06:58:42.174693Z",
     "iopub.status.idle": "2024-10-09T06:58:42.187823Z",
     "shell.execute_reply": "2024-10-09T06:58:42.186814Z",
     "shell.execute_reply.started": "2024-10-09T06:58:42.174693Z"
    }
   },
   "outputs": [
    {
     "data": {
      "text/plain": [
       "16"
      ]
     },
     "execution_count": 22,
     "metadata": {},
     "output_type": "execute_result"
    }
   ],
   "source": [
    "len('1219070632396864')"
   ]
  },
  {
   "cell_type": "markdown",
   "metadata": {
    "jp-MarkdownHeadingCollapsed": true
   },
   "source": [
    "## Part 2"
   ]
  }
 ],
 "metadata": {
  "kernelspec": {
   "display_name": "Python 3 (ipykernel)",
   "language": "python",
   "name": "python3"
  },
  "language_info": {
   "codemirror_mode": {
    "name": "ipython",
    "version": 3
   },
   "file_extension": ".py",
   "mimetype": "text/x-python",
   "name": "python",
   "nbconvert_exporter": "python",
   "pygments_lexer": "ipython3",
   "version": "3.11.4"
  }
 },
 "nbformat": 4,
 "nbformat_minor": 4
}
