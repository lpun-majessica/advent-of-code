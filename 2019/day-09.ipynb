{
 "cells": [
  {
   "cell_type": "markdown",
   "metadata": {},
   "source": [
    "[Advent of Code - Day 09](https://adventofcode.com/2019/day/9)"
   ]
  },
  {
   "cell_type": "markdown",
   "metadata": {},
   "source": [
    "# Import input"
   ]
  },
  {
   "cell_type": "code",
   "execution_count": 1,
   "metadata": {
    "execution": {
     "iopub.execute_input": "2024-10-15T10:18:23.785341Z",
     "iopub.status.busy": "2024-10-15T10:18:23.785341Z",
     "iopub.status.idle": "2024-10-15T10:18:24.781023Z",
     "shell.execute_reply": "2024-10-15T10:18:24.779940Z",
     "shell.execute_reply.started": "2024-10-15T10:18:23.785341Z"
    }
   },
   "outputs": [],
   "source": [
    "import sys\n",
    "\n",
    "sys.path.insert(0, \"../\")\n",
    "from utils import aoc_input as inp\n",
    "\n",
    "in_ = inp.download_input(year=\"2019\", day=\"09\")[0]"
   ]
  },
  {
   "cell_type": "code",
   "execution_count": 2,
   "metadata": {
    "execution": {
     "iopub.execute_input": "2024-10-15T10:18:24.783973Z",
     "iopub.status.busy": "2024-10-15T10:18:24.782975Z",
     "iopub.status.idle": "2024-10-15T10:18:24.800268Z",
     "shell.execute_reply": "2024-10-15T10:18:24.798712Z",
     "shell.execute_reply.started": "2024-10-15T10:18:24.783973Z"
    }
   },
   "outputs": [
    {
     "data": {
      "text/plain": [
       "'1102,'"
      ]
     },
     "execution_count": 2,
     "metadata": {},
     "output_type": "execute_result"
    }
   ],
   "source": [
    "in_[:5]"
   ]
  },
  {
   "cell_type": "markdown",
   "metadata": {},
   "source": [
    "# Solulu"
   ]
  },
  {
   "cell_type": "code",
   "execution_count": 3,
   "metadata": {
    "execution": {
     "iopub.execute_input": "2024-10-15T10:18:24.801812Z",
     "iopub.status.busy": "2024-10-15T10:18:24.801812Z",
     "iopub.status.idle": "2024-10-15T10:18:24.816828Z",
     "shell.execute_reply": "2024-10-15T10:18:24.816828Z",
     "shell.execute_reply.started": "2024-10-15T10:18:24.801812Z"
    }
   },
   "outputs": [],
   "source": [
    "def solve(input_value, intcode: list, pointer: int = 0, part: int = 1):\n",
    "    output_index = 0\n",
    "    relative_base = 0\n",
    "\n",
    "    while True:\n",
    "        opcode, modes, total_values = decode(intcode[pointer])\n",
    "        if opcode == 99:\n",
    "            break\n",
    "\n",
    "        elif opcode == 9:\n",
    "            relative_base += parameter_mode(modes[0], pointer, 1, relative_base)\n",
    "\n",
    "        elif opcode == 4:\n",
    "            output_index = parameter_mode(\n",
    "                modes[0], pointer, 1, relative_base, index=True\n",
    "            )\n",
    "\n",
    "        elif opcode == 3:\n",
    "            input_index = parameter_mode(\n",
    "                modes[0], pointer, 1, relative_base, index=True\n",
    "            )\n",
    "            intcode[input_index] = input_value\n",
    "\n",
    "        elif opcode in [1, 2, 7, 8]:\n",
    "            nums = []\n",
    "            for i, mode in enumerate(modes[:-1], start=1):\n",
    "                num = parameter_mode(mode, pointer, i, relative_base)\n",
    "                nums.append(num)\n",
    "            if opcode == 1:\n",
    "                value = nums[0] + nums[1]\n",
    "            elif opcode == 2:\n",
    "                value = nums[0] * nums[1]\n",
    "            elif opcode == 7:\n",
    "                value = nums[0] < nums[1]\n",
    "            elif opcode == 8:\n",
    "                value = nums[0] == nums[1]\n",
    "            value_index = parameter_mode(\n",
    "                modes[-1], pointer, 3, relative_base, index=True\n",
    "            )\n",
    "            intcode[value_index] = value\n",
    "\n",
    "        if opcode == 5 and parameter_mode(modes[0], pointer, 1, relative_base) != 0:\n",
    "            pointer = parameter_mode(modes[1], pointer, 2, relative_base)\n",
    "        elif opcode == 6 and parameter_mode(modes[0], pointer, 1, relative_base) == 0:\n",
    "            pointer = parameter_mode(modes[1], pointer, 2, relative_base)\n",
    "        else:\n",
    "            pointer += total_values\n",
    "\n",
    "    output_value = intcode[output_index]\n",
    "\n",
    "    return output_value\n",
    "\n",
    "\n",
    "def parameter_mode(mode, pointer, param, relative_base, index: bool = False) -> int:\n",
    "    if mode == 0:\n",
    "        num_index = intcode[pointer + param]\n",
    "    elif mode == 1:\n",
    "        num_index = pointer + param\n",
    "    elif mode == 2:\n",
    "        num_index = intcode[pointer + param] + relative_base\n",
    "\n",
    "    return num_index if index else intcode[num_index]\n",
    "\n",
    "\n",
    "def decode(instruction):\n",
    "    opcode = instruction % 100\n",
    "    modes = list()\n",
    "    total_values = 1\n",
    "\n",
    "    mode1 = (instruction // 100) % 10\n",
    "    modes.append(mode1)\n",
    "    if opcode not in (3, 4, 9):\n",
    "        mode2 = instruction // 1000 % 10\n",
    "        modes.append(mode2)\n",
    "        if opcode not in (5, 6):\n",
    "            mode3 = instruction // 10000\n",
    "            modes.append(mode3)\n",
    "\n",
    "    total_values += len(modes)\n",
    "\n",
    "    return opcode, modes, total_values\n",
    "\n",
    "\n",
    "def _reset_memory(inp=in_, dictify=False):\n",
    "    intcode = list(map(int, in_.split(\",\")))\n",
    "    if not dictify:\n",
    "        return intcode\n",
    "    else:\n",
    "        d = dict()\n",
    "        for address, value in enumerate(intcode):\n",
    "            d[address] = value\n",
    "        return d"
   ]
  },
  {
   "cell_type": "markdown",
   "metadata": {},
   "source": [
    "## Part 1"
   ]
  },
  {
   "cell_type": "code",
   "execution_count": 4,
   "metadata": {
    "execution": {
     "iopub.execute_input": "2024-10-15T10:18:24.818342Z",
     "iopub.status.busy": "2024-10-15T10:18:24.818342Z",
     "iopub.status.idle": "2024-10-15T10:18:24.827281Z",
     "shell.execute_reply": "2024-10-15T10:18:24.827281Z",
     "shell.execute_reply.started": "2024-10-15T10:18:24.818342Z"
    }
   },
   "outputs": [
    {
     "data": {
      "text/plain": [
       "4261108180"
      ]
     },
     "execution_count": 4,
     "metadata": {},
     "output_type": "execute_result"
    }
   ],
   "source": [
    "intcode = _reset_memory(dictify=True)\n",
    "\n",
    "solve(input_value=1, intcode=intcode)"
   ]
  },
  {
   "cell_type": "markdown",
   "metadata": {},
   "source": [
    "## Part 2"
   ]
  },
  {
   "cell_type": "code",
   "execution_count": 5,
   "metadata": {
    "execution": {
     "iopub.execute_input": "2024-10-15T10:18:24.829365Z",
     "iopub.status.busy": "2024-10-15T10:18:24.829365Z",
     "iopub.status.idle": "2024-10-15T10:18:25.284624Z",
     "shell.execute_reply": "2024-10-15T10:18:25.284624Z",
     "shell.execute_reply.started": "2024-10-15T10:18:24.829365Z"
    }
   },
   "outputs": [
    {
     "data": {
      "text/plain": [
       "77944"
      ]
     },
     "execution_count": 5,
     "metadata": {},
     "output_type": "execute_result"
    }
   ],
   "source": [
    "intcode = _reset_memory(dictify=True)\n",
    "\n",
    "solve(input_value=2, intcode=intcode)"
   ]
  }
 ],
 "metadata": {
  "kernelspec": {
   "display_name": "Python 3 (ipykernel)",
   "language": "python",
   "name": "python3"
  },
  "language_info": {
   "codemirror_mode": {
    "name": "ipython",
    "version": 3
   },
   "file_extension": ".py",
   "mimetype": "text/x-python",
   "name": "python",
   "nbconvert_exporter": "python",
   "pygments_lexer": "ipython3",
   "version": "3.11.4"
  }
 },
 "nbformat": 4,
 "nbformat_minor": 4
}
