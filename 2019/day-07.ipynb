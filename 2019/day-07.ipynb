{
 "cells": [
  {
   "cell_type": "markdown",
   "metadata": {},
   "source": [
    "[Advent of Code - Day 07](https://adventofcode.com/2019/day/7)"
   ]
  },
  {
   "cell_type": "markdown",
   "metadata": {},
   "source": [
    "# Import input"
   ]
  },
  {
   "cell_type": "code",
   "execution_count": 1,
   "metadata": {
    "execution": {
     "iopub.execute_input": "2024-10-09T05:20:23.510492Z",
     "iopub.status.busy": "2024-10-09T05:20:23.510492Z",
     "iopub.status.idle": "2024-10-09T05:20:25.003896Z",
     "shell.execute_reply": "2024-10-09T05:20:25.003896Z",
     "shell.execute_reply.started": "2024-10-09T05:20:23.510492Z"
    }
   },
   "outputs": [],
   "source": [
    "import sys\n",
    "from itertools import permutations\n",
    "\n",
    "sys.path.insert(0, \"../\")\n",
    "from utils import aoc_input as inp\n",
    "\n",
    "in_ = inp.download_input(year=\"2019\", day=\"07\")[0]"
   ]
  },
  {
   "cell_type": "code",
   "execution_count": 2,
   "metadata": {
    "execution": {
     "iopub.execute_input": "2024-10-09T05:20:25.003896Z",
     "iopub.status.busy": "2024-10-09T05:20:25.003896Z",
     "iopub.status.idle": "2024-10-09T05:20:25.026531Z",
     "shell.execute_reply": "2024-10-09T05:20:25.026531Z",
     "shell.execute_reply.started": "2024-10-09T05:20:25.003896Z"
    }
   },
   "outputs": [
    {
     "data": {
      "text/plain": [
       "'3,8,1'"
      ]
     },
     "execution_count": 2,
     "metadata": {},
     "output_type": "execute_result"
    }
   ],
   "source": [
    "in_[:5]"
   ]
  },
  {
   "cell_type": "markdown",
   "metadata": {},
   "source": [
    "# Solulu"
   ]
  },
  {
   "cell_type": "code",
   "execution_count": 3,
   "metadata": {
    "execution": {
     "iopub.execute_input": "2024-10-09T05:20:25.031135Z",
     "iopub.status.busy": "2024-10-09T05:20:25.026531Z",
     "iopub.status.idle": "2024-10-09T05:20:25.066473Z",
     "shell.execute_reply": "2024-10-09T05:20:25.066473Z",
     "shell.execute_reply.started": "2024-10-09T05:20:25.031135Z"
    }
   },
   "outputs": [],
   "source": [
    "def solve(input_values, intcode: list, pointer: int = 0, part: int = 1):\n",
    "    output_index = 0\n",
    "    input_count = 0 if pointer == 0 else 1\n",
    "    used_input = False\n",
    "\n",
    "    while True:\n",
    "        opcode, modes, total_values = decode(intcode[pointer])\n",
    "\n",
    "        if opcode == 99:\n",
    "            break\n",
    "            \n",
    "        elif opcode == 4:\n",
    "            output_index = intcode[pointer + 1]\n",
    "\n",
    "        elif opcode == 3:\n",
    "            if used_input:\n",
    "                break\n",
    "            input_index = intcode[pointer + 1]\n",
    "            intcode[input_index] = input_values[input_count]\n",
    "            if input_count == 0:\n",
    "                input_count += 1\n",
    "            elif input_count == 1 and part == 2:\n",
    "                used_input = True\n",
    "                \n",
    "        elif opcode in [1, 2, 7, 8]:\n",
    "            nums = []\n",
    "            for i, mode in enumerate(modes[:-1], start=1):\n",
    "                num = parameter_mode(mode, pointer, i, intcode)\n",
    "                nums.append(num)\n",
    "            if opcode == 1:\n",
    "                value = nums[0] + nums[1]\n",
    "            elif opcode == 2:\n",
    "                value = nums[0] * nums[1]\n",
    "            elif opcode == 7:\n",
    "                value = nums[0] < nums[1]\n",
    "            elif opcode == 8:\n",
    "                value = nums[0] == nums[1]\n",
    "            value_index = intcode[pointer + 3]\n",
    "            intcode[value_index] = value\n",
    "\n",
    "        if opcode == 5 and parameter_mode(modes[0], pointer, 1, intcode) != 0:\n",
    "            pointer = parameter_mode(modes[1], pointer, 2, intcode)\n",
    "        elif opcode == 6 and parameter_mode(modes[0], pointer, 1, intcode) == 0:\n",
    "            pointer = parameter_mode(modes[1], pointer, 2, intcode)\n",
    "        else:\n",
    "            pointer += total_values\n",
    "\n",
    "    output_value = intcode[output_index]\n",
    "\n",
    "    return output_value, intcode, pointer, opcode\n",
    "\n",
    "\n",
    "def parameter_mode(mode, pointer, param, intcode) -> int:\n",
    "    if mode == 0:\n",
    "        num_index = intcode[pointer + param]\n",
    "    elif mode == 1:\n",
    "        num_index = pointer + param\n",
    "    num = intcode[num_index]\n",
    "\n",
    "    return num\n",
    "\n",
    "\n",
    "def decode(instruction):\n",
    "    opcode = instruction % 100\n",
    "    modes = list()\n",
    "    total_values = 1\n",
    "    if opcode in (3, 4):\n",
    "        total_values += 1\n",
    "    else:\n",
    "        mode1 = (instruction // 100) % 10\n",
    "        mode2 = instruction // 1000\n",
    "        modes.extend([mode1, mode2])\n",
    "        if opcode not in (5, 6):\n",
    "            mode3 = instruction // 10000\n",
    "            modes.append(mode3)\n",
    "\n",
    "    total_values += len(modes)\n",
    "\n",
    "    return opcode, modes, total_values\n",
    "\n",
    "\n",
    "def _reset_memory(inp=in_):\n",
    "    return list(map(int, in_.split(\",\")))"
   ]
  },
  {
   "cell_type": "markdown",
   "metadata": {},
   "source": [
    "## Part 1"
   ]
  },
  {
   "cell_type": "code",
   "execution_count": 4,
   "metadata": {
    "execution": {
     "iopub.execute_input": "2024-10-09T05:20:25.066473Z",
     "iopub.status.busy": "2024-10-09T05:20:25.066473Z",
     "iopub.status.idle": "2024-10-09T05:20:25.174221Z",
     "shell.execute_reply": "2024-10-09T05:20:25.173212Z",
     "shell.execute_reply.started": "2024-10-09T05:20:25.066473Z"
    }
   },
   "outputs": [
    {
     "data": {
      "text/plain": [
       "272368"
      ]
     },
     "execution_count": 4,
     "metadata": {},
     "output_type": "execute_result"
    }
   ],
   "source": [
    "no_amplifiers = 5\n",
    "combos = permutations([i for i in range(no_amplifiers)])\n",
    "max_output_signal = 0\n",
    "\n",
    "for combo in combos:\n",
    "    input_signal = 0\n",
    "\n",
    "    for phase in combo:\n",
    "        intcode = _reset_memory()\n",
    "        output_signal, _, _, _ = solve(\n",
    "            input_values=[phase, input_signal], intcode=intcode\n",
    "        )\n",
    "        input_signal = output_signal\n",
    "\n",
    "    max_output_signal = max(output_signal, max_output_signal)\n",
    "\n",
    "max_output_signal"
   ]
  },
  {
   "cell_type": "markdown",
   "metadata": {},
   "source": [
    "## Part 2"
   ]
  },
  {
   "cell_type": "code",
   "execution_count": 5,
   "metadata": {
    "execution": {
     "iopub.execute_input": "2024-10-09T05:20:25.174221Z",
     "iopub.status.busy": "2024-10-09T05:20:25.174221Z",
     "iopub.status.idle": "2024-10-09T05:20:25.306412Z",
     "shell.execute_reply": "2024-10-09T05:20:25.306412Z",
     "shell.execute_reply.started": "2024-10-09T05:20:25.174221Z"
    }
   },
   "outputs": [
    {
     "data": {
      "text/plain": [
       "19741286"
      ]
     },
     "execution_count": 5,
     "metadata": {},
     "output_type": "execute_result"
    }
   ],
   "source": [
    "no_amplifiers = 5\n",
    "combos = permutations([i for i in range(no_amplifiers, no_amplifiers * 2)])\n",
    "max_output_signal = 0\n",
    "\n",
    "for combo in combos:\n",
    "    input_signal = 0\n",
    "    current = 0\n",
    "    amplifiers = {\n",
    "        0: {\"phase\": combo[0], \"memory\": None, \"pointer\": 0, \"input\": input_signal},\n",
    "        1: {\"phase\": combo[1], \"memory\": None, \"pointer\": 0, \"input\": None},\n",
    "        2: {\"phase\": combo[2], \"memory\": None, \"pointer\": 0, \"input\": None},\n",
    "        3: {\"phase\": combo[3], \"memory\": None, \"pointer\": 0, \"input\": None},\n",
    "        4: {\"phase\": combo[4], \"memory\": None, \"pointer\": 0, \"input\": None},\n",
    "    }\n",
    "\n",
    "    while True:\n",
    "        if not amplifiers[current][\"memory\"]:\n",
    "            amplifiers[current][\"memory\"] = _reset_memory()\n",
    "\n",
    "        output_signal, intcode, pointer, opcode = solve(\n",
    "            input_values=[amplifiers[current][\"phase\"], amplifiers[current][\"input\"]],\n",
    "            intcode=amplifiers[current][\"memory\"],\n",
    "            pointer=amplifiers[current][\"pointer\"],\n",
    "            part=2,\n",
    "        )\n",
    "\n",
    "        if opcode == 99 and current == 4:\n",
    "            max_output_signal = max(output_signal, max_output_signal)\n",
    "            break\n",
    "\n",
    "        amplifiers[current][\"memory\"] = intcode\n",
    "        amplifiers[current][\"pointer\"] = pointer\n",
    "        current = (current + 1) % no_amplifiers\n",
    "        amplifiers[current][\"input\"] = output_signal\n",
    "\n",
    "max_output_signal"
   ]
  }
 ],
 "metadata": {
  "kernelspec": {
   "display_name": "Python 3 (ipykernel)",
   "language": "python",
   "name": "python3"
  },
  "language_info": {
   "codemirror_mode": {
    "name": "ipython",
    "version": 3
   },
   "file_extension": ".py",
   "mimetype": "text/x-python",
   "name": "python",
   "nbconvert_exporter": "python",
   "pygments_lexer": "ipython3",
   "version": "3.11.4"
  }
 },
 "nbformat": 4,
 "nbformat_minor": 4
}
