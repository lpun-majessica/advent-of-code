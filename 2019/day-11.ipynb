{
 "cells": [
  {
   "cell_type": "markdown",
   "metadata": {},
   "source": [
    "[Advent of Code - Day 11](https://adventofcode.com/2019/day/11)"
   ]
  },
  {
   "cell_type": "markdown",
   "metadata": {},
   "source": [
    "# Import input"
   ]
  },
  {
   "cell_type": "code",
   "execution_count": 1,
   "metadata": {
    "execution": {
     "iopub.execute_input": "2024-10-22T06:50:26.234592Z",
     "iopub.status.busy": "2024-10-22T06:50:26.234592Z",
     "iopub.status.idle": "2024-10-22T06:50:27.169981Z",
     "shell.execute_reply": "2024-10-22T06:50:27.168363Z",
     "shell.execute_reply.started": "2024-10-22T06:50:26.234592Z"
    }
   },
   "outputs": [],
   "source": [
    "import sys\n",
    "from collections import defaultdict\n",
    "\n",
    "sys.path.insert(0, \"../\")\n",
    "from utils import aoc_input as inp\n",
    "\n",
    "INPUT = inp.download_input(year=\"2019\", day=\"11\")[0]"
   ]
  },
  {
   "cell_type": "code",
   "execution_count": 2,
   "metadata": {
    "execution": {
     "iopub.execute_input": "2024-10-22T06:50:27.169981Z",
     "iopub.status.busy": "2024-10-22T06:50:27.169981Z",
     "iopub.status.idle": "2024-10-22T06:50:27.183655Z",
     "shell.execute_reply": "2024-10-22T06:50:27.182925Z",
     "shell.execute_reply.started": "2024-10-22T06:50:27.169981Z"
    }
   },
   "outputs": [
    {
     "data": {
      "text/plain": [
       "'3,8,1'"
      ]
     },
     "execution_count": 2,
     "metadata": {},
     "output_type": "execute_result"
    }
   ],
   "source": [
    "INPUT[:5]"
   ]
  },
  {
   "cell_type": "markdown",
   "metadata": {},
   "source": [
    "# Solulu"
   ]
  },
  {
   "cell_type": "code",
   "execution_count": 3,
   "metadata": {
    "execution": {
     "iopub.execute_input": "2024-10-22T06:50:27.185869Z",
     "iopub.status.busy": "2024-10-22T06:50:27.184670Z",
     "iopub.status.idle": "2024-10-22T06:50:27.218811Z",
     "shell.execute_reply": "2024-10-22T06:50:27.218811Z",
     "shell.execute_reply.started": "2024-10-22T06:50:27.185869Z"
    }
   },
   "outputs": [],
   "source": [
    "def solve(\n",
    "    intcode: list,\n",
    "    panel_color: int,\n",
    "    pointer: int = 0,\n",
    "    loc: set = (0, 0),\n",
    "    direction: int = 0,\n",
    "):\n",
    "    colored = dict()\n",
    "    directions = [(0, +1), (+1, 0), (0, -1), (-1, 0)]\n",
    "    output_index = 0\n",
    "    output_values = list()\n",
    "    relative_base = 0\n",
    "\n",
    "    while True:\n",
    "        opcode, modes, total_values = decode(intcode[pointer])\n",
    "        if opcode == 99:\n",
    "            break\n",
    "\n",
    "        elif opcode == 9:\n",
    "            relative_base += parameter_mode(modes[0], pointer, 1, relative_base)\n",
    "\n",
    "        elif opcode == 4:\n",
    "            output_index = parameter_mode(\n",
    "                modes[0], pointer, 1, relative_base, index=True\n",
    "            )\n",
    "            output_values.append(intcode[output_index])\n",
    "\n",
    "            if len(output_values) == 2:\n",
    "                color, right = output_values\n",
    "\n",
    "                if not right:\n",
    "                    direction = (direction - 1) % len(directions)\n",
    "                else:\n",
    "                    direction = (direction + 1) % len(directions)\n",
    "                x, y = directions[direction]\n",
    "                colored[loc] = color\n",
    "                loc = (loc[0] + x, loc[1] + y)\n",
    "                output_values = list()\n",
    "\n",
    "        elif opcode == 3:\n",
    "            input_value = colored.get(loc, panel_color)\n",
    "            input_index = parameter_mode(\n",
    "                modes[0], pointer, 1, relative_base, index=True\n",
    "            )\n",
    "            intcode[input_index] = input_value\n",
    "\n",
    "        elif opcode in [1, 2, 7, 8]:\n",
    "            nums = []\n",
    "            for i, mode in enumerate(modes[:-1], start=1):\n",
    "                num = parameter_mode(mode, pointer, i, relative_base)\n",
    "                nums.append(num)\n",
    "            if opcode == 1:\n",
    "                value = nums[0] + nums[1]\n",
    "            elif opcode == 2:\n",
    "                value = nums[0] * nums[1]\n",
    "            elif opcode == 7:\n",
    "                value = nums[0] < nums[1]\n",
    "            elif opcode == 8:\n",
    "                value = nums[0] == nums[1]\n",
    "            value_index = parameter_mode(\n",
    "                modes[-1], pointer, 3, relative_base, index=True\n",
    "            )\n",
    "            intcode[value_index] = value\n",
    "\n",
    "        if opcode == 5 and parameter_mode(modes[0], pointer, 1, relative_base) != 0:\n",
    "            pointer = parameter_mode(modes[1], pointer, 2, relative_base)\n",
    "        elif opcode == 6 and parameter_mode(modes[0], pointer, 1, relative_base) == 0:\n",
    "            pointer = parameter_mode(modes[1], pointer, 2, relative_base)\n",
    "        else:\n",
    "            pointer += total_values\n",
    "\n",
    "    return colored\n",
    "\n",
    "\n",
    "def parameter_mode(mode, pointer, param, relative_base, index: bool = False) -> int:\n",
    "    if mode == 0:\n",
    "        num_index = intcode[pointer + param]\n",
    "    elif mode == 1:\n",
    "        num_index = pointer + param\n",
    "    elif mode == 2:\n",
    "        num_index = intcode[pointer + param] + relative_base\n",
    "\n",
    "    return num_index if index else intcode[num_index]\n",
    "\n",
    "\n",
    "def decode(instruction):\n",
    "    opcode = instruction % 100\n",
    "    modes = list()\n",
    "    total_values = 1\n",
    "\n",
    "    mode1 = (instruction // 100) % 10\n",
    "    modes.append(mode1)\n",
    "    if opcode not in (3, 4, 9):\n",
    "        mode2 = instruction // 1000 % 10\n",
    "        modes.append(mode2)\n",
    "        if opcode not in (5, 6):\n",
    "            mode3 = instruction // 10000\n",
    "            modes.append(mode3)\n",
    "\n",
    "    total_values += len(modes)\n",
    "\n",
    "    return opcode, modes, total_values\n",
    "\n",
    "\n",
    "def _reset_memory(inp=INPUT):\n",
    "    intcode = list(map(int, INPUT.split(\",\")))\n",
    "    d = defaultdict(int)\n",
    "    for address, value in enumerate(intcode):\n",
    "        d[address] = value\n",
    "    return d"
   ]
  },
  {
   "cell_type": "markdown",
   "metadata": {},
   "source": [
    "## Part 1"
   ]
  },
  {
   "cell_type": "code",
   "execution_count": 4,
   "metadata": {
    "execution": {
     "iopub.execute_input": "2024-10-22T06:50:27.221664Z",
     "iopub.status.busy": "2024-10-22T06:50:27.218811Z",
     "iopub.status.idle": "2024-10-22T06:50:27.351824Z",
     "shell.execute_reply": "2024-10-22T06:50:27.351824Z",
     "shell.execute_reply.started": "2024-10-22T06:50:27.221664Z"
    }
   },
   "outputs": [
    {
     "data": {
      "text/plain": [
       "1932"
      ]
     },
     "execution_count": 4,
     "metadata": {},
     "output_type": "execute_result"
    }
   ],
   "source": [
    "intcode = _reset_memory(INPUT)\n",
    "\n",
    "colored = solve(intcode, panel_color=0)\n",
    "len(colored)"
   ]
  },
  {
   "cell_type": "markdown",
   "metadata": {},
   "source": [
    "## Part 2"
   ]
  },
  {
   "cell_type": "code",
   "execution_count": 5,
   "metadata": {
    "execution": {
     "iopub.execute_input": "2024-10-22T06:50:27.351824Z",
     "iopub.status.busy": "2024-10-22T06:50:27.351824Z",
     "iopub.status.idle": "2024-10-22T06:50:27.367653Z",
     "shell.execute_reply": "2024-10-22T06:50:27.367653Z",
     "shell.execute_reply.started": "2024-10-22T06:50:27.351824Z"
    }
   },
   "outputs": [],
   "source": [
    "intcode = _reset_memory(INPUT)\n",
    "\n",
    "colored = solve(intcode, panel_color=1)"
   ]
  },
  {
   "cell_type": "code",
   "execution_count": 6,
   "metadata": {
    "execution": {
     "iopub.execute_input": "2024-10-22T06:50:27.367653Z",
     "iopub.status.busy": "2024-10-22T06:50:27.367653Z",
     "iopub.status.idle": "2024-10-22T06:50:27.382306Z",
     "shell.execute_reply": "2024-10-22T06:50:27.382306Z",
     "shell.execute_reply.started": "2024-10-22T06:50:27.367653Z"
    }
   },
   "outputs": [
    {
     "name": "stdout",
     "output_type": "stream",
     "text": [
      "\n",
      "  # # # #     # #     #     #   #     #     # #         # #   # # # #   # # #         \n",
      "  #         #     #   #     #   #   #     #     #         #   #         #     #       \n",
      "  # # #     #         # # # #   # #       #               #   # # #     #     #       \n",
      "  #         #   # #   #     #   #   #     #   # #         #   #         # # #         \n",
      "  #         #     #   #     #   #   #     #     #   #     #   #         #   #         \n",
      "  # # # #     # # #   #     #   #     #     # # #     # #     # # # #   #     #       "
     ]
    }
   ],
   "source": [
    "minx, maxx = 0, 0\n",
    "miny, maxy = 0, 0\n",
    "\n",
    "for x, y in colored:\n",
    "    minx = min(minx, x)\n",
    "    maxx = max(maxx, x)\n",
    "    miny = min(miny, y)\n",
    "    maxy = max(maxy, y)\n",
    "\n",
    "for y in range(maxy, miny - 1, -1):\n",
    "    print()\n",
    "    for x in range(minx, maxx + 1):\n",
    "        if colored.get((x, y), 0) == 1:\n",
    "            print(\"#\", end=\" \")\n",
    "        else:\n",
    "            print(\" \", end=\" \")"
   ]
  }
 ],
 "metadata": {
  "kernelspec": {
   "display_name": "Python 3 (ipykernel)",
   "language": "python",
   "name": "python3"
  },
  "language_info": {
   "codemirror_mode": {
    "name": "ipython",
    "version": 3
   },
   "file_extension": ".py",
   "mimetype": "text/x-python",
   "name": "python",
   "nbconvert_exporter": "python",
   "pygments_lexer": "ipython3",
   "version": "3.11.4"
  }
 },
 "nbformat": 4,
 "nbformat_minor": 4
}
