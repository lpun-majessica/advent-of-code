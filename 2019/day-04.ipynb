{
 "cells": [
  {
   "cell_type": "markdown",
   "metadata": {},
   "source": [
    "[Advent of Code - Day 04](https://adventofcode.com/2019/day/4)"
   ]
  },
  {
   "cell_type": "markdown",
   "metadata": {},
   "source": [
    "# Import input"
   ]
  },
  {
   "cell_type": "code",
   "execution_count": 1,
   "metadata": {
    "execution": {
     "iopub.execute_input": "2024-10-08T06:28:33.010056Z",
     "iopub.status.busy": "2024-10-08T06:28:32.999611Z",
     "iopub.status.idle": "2024-10-08T06:28:33.996204Z",
     "shell.execute_reply": "2024-10-08T06:28:33.996204Z",
     "shell.execute_reply.started": "2024-10-08T06:28:33.010056Z"
    }
   },
   "outputs": [],
   "source": [
    "import sys\n",
    "\n",
    "sys.path.insert(0, \"../\")\n",
    "from utils import aoc_input as inp\n",
    "\n",
    "INPUT = inp.download_input(year=\"2019\", day=\"04\")[0]"
   ]
  },
  {
   "cell_type": "code",
   "execution_count": 2,
   "metadata": {
    "execution": {
     "iopub.execute_input": "2024-10-08T06:28:33.996204Z",
     "iopub.status.busy": "2024-10-08T06:28:33.996204Z",
     "iopub.status.idle": "2024-10-08T06:28:34.016107Z",
     "shell.execute_reply": "2024-10-08T06:28:34.015024Z",
     "shell.execute_reply.started": "2024-10-08T06:28:33.996204Z"
    }
   },
   "outputs": [
    {
     "data": {
      "text/plain": [
       "'240920-789857'"
      ]
     },
     "execution_count": 2,
     "metadata": {},
     "output_type": "execute_result"
    }
   ],
   "source": [
    "INPUT"
   ]
  },
  {
   "cell_type": "markdown",
   "metadata": {},
   "source": [
    "# Solulu"
   ]
  },
  {
   "cell_type": "code",
   "execution_count": 3,
   "metadata": {
    "execution": {
     "iopub.execute_input": "2024-10-08T06:28:34.019442Z",
     "iopub.status.busy": "2024-10-08T06:28:34.018432Z",
     "iopub.status.idle": "2024-10-08T06:28:34.033160Z",
     "shell.execute_reply": "2024-10-08T06:28:34.033160Z",
     "shell.execute_reply.started": "2024-10-08T06:28:34.019442Z"
    }
   },
   "outputs": [],
   "source": [
    "start, end = map(int, INPUT.split(\"-\"))"
   ]
  },
  {
   "cell_type": "code",
   "execution_count": 4,
   "metadata": {
    "execution": {
     "iopub.execute_input": "2024-10-08T06:28:34.033160Z",
     "iopub.status.busy": "2024-10-08T06:28:34.033160Z",
     "iopub.status.idle": "2024-10-08T06:28:34.048371Z",
     "shell.execute_reply": "2024-10-08T06:28:34.046886Z",
     "shell.execute_reply.started": "2024-10-08T06:28:34.033160Z"
    }
   },
   "outputs": [],
   "source": [
    "def is_valid(password: int, part: int) -> bool:\n",
    "    password = str(password)\n",
    "    digits = set(password)\n",
    "\n",
    "    if not _is_increasing(password):\n",
    "        return False\n",
    "    elif part == 1 and any(password.count(digit) >= 2 for digit in digits):\n",
    "        return True\n",
    "    elif part == 2 and any(password.count(digit) == 2 for digit in digits):\n",
    "        return True\n",
    "    else:\n",
    "        return False\n",
    "\n",
    "\n",
    "def _is_increasing(password: str) -> bool:\n",
    "    for i in range(len(password) - 1):\n",
    "        digit1 = password[i]\n",
    "        digit2 = password[i + 1]\n",
    "\n",
    "        if digit1 > digit2:\n",
    "            return False\n",
    "    else:\n",
    "        return True"
   ]
  },
  {
   "cell_type": "markdown",
   "metadata": {},
   "source": [
    "## Part 1"
   ]
  },
  {
   "cell_type": "code",
   "execution_count": 5,
   "metadata": {
    "execution": {
     "iopub.execute_input": "2024-10-08T06:28:34.048371Z",
     "iopub.status.busy": "2024-10-08T06:28:34.048371Z",
     "iopub.status.idle": "2024-10-08T06:28:34.553383Z",
     "shell.execute_reply": "2024-10-08T06:28:34.553383Z",
     "shell.execute_reply.started": "2024-10-08T06:28:34.048371Z"
    }
   },
   "outputs": [
    {
     "data": {
      "text/plain": [
       "1154"
      ]
     },
     "execution_count": 5,
     "metadata": {},
     "output_type": "execute_result"
    }
   ],
   "source": [
    "res = 0\n",
    "for password in range(start, end + 1):\n",
    "    if is_valid(password, part=1):\n",
    "        res += 1\n",
    "\n",
    "res"
   ]
  },
  {
   "cell_type": "markdown",
   "metadata": {},
   "source": [
    "## Part 2"
   ]
  },
  {
   "cell_type": "code",
   "execution_count": 6,
   "metadata": {
    "execution": {
     "iopub.execute_input": "2024-10-08T06:28:34.554478Z",
     "iopub.status.busy": "2024-10-08T06:28:34.554478Z",
     "iopub.status.idle": "2024-10-08T06:28:35.049304Z",
     "shell.execute_reply": "2024-10-08T06:28:35.049304Z",
     "shell.execute_reply.started": "2024-10-08T06:28:34.554478Z"
    }
   },
   "outputs": [
    {
     "data": {
      "text/plain": [
       "750"
      ]
     },
     "execution_count": 6,
     "metadata": {},
     "output_type": "execute_result"
    }
   ],
   "source": [
    "res = 0\n",
    "for password in range(start, end + 1):\n",
    "    if is_valid(password, part=2):\n",
    "        res += 1\n",
    "\n",
    "res"
   ]
  }
 ],
 "metadata": {
  "kernelspec": {
   "display_name": "Python 3 (ipykernel)",
   "language": "python",
   "name": "python3"
  },
  "language_info": {
   "codemirror_mode": {
    "name": "ipython",
    "version": 3
   },
   "file_extension": ".py",
   "mimetype": "text/x-python",
   "name": "python",
   "nbconvert_exporter": "python",
   "pygments_lexer": "ipython3",
   "version": "3.11.4"
  }
 },
 "nbformat": 4,
 "nbformat_minor": 4
}
