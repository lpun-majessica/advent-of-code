{
 "cells": [
  {
   "cell_type": "markdown",
   "metadata": {},
   "source": [
    "[Advent of Code - Day 16](https://adventofcode.com/2019/day/16)"
   ]
  },
  {
   "cell_type": "markdown",
   "metadata": {},
   "source": [
    "# Import input"
   ]
  },
  {
   "cell_type": "code",
   "execution_count": 1,
   "metadata": {
    "execution": {
     "iopub.execute_input": "2024-11-20T10:23:28.604607Z",
     "iopub.status.busy": "2024-11-20T10:23:28.604607Z",
     "iopub.status.idle": "2024-11-20T10:23:29.738888Z",
     "shell.execute_reply": "2024-11-20T10:23:29.738888Z",
     "shell.execute_reply.started": "2024-11-20T10:23:28.604607Z"
    }
   },
   "outputs": [],
   "source": [
    "import sys\n",
    "\n",
    "sys.path.insert(0, \"../\")\n",
    "from utils import puzzle\n",
    "\n",
    "P = puzzle.Puzzle(year=\"2019\", day=\"16\")\n",
"INPUT = P.load_input()[0]"
   ]
  },
  {
   "cell_type": "code",
   "execution_count": 2,
   "metadata": {
    "execution": {
     "iopub.execute_input": "2024-11-20T10:23:29.741929Z",
     "iopub.status.busy": "2024-11-20T10:23:29.741929Z",
     "iopub.status.idle": "2024-11-20T10:23:29.758714Z",
     "shell.execute_reply": "2024-11-20T10:23:29.758714Z",
     "shell.execute_reply.started": "2024-11-20T10:23:29.741929Z"
    }
   },
   "outputs": [
    {
     "data": {
      "text/plain": [
       "'59734'"
      ]
     },
     "execution_count": 2,
     "metadata": {},
     "output_type": "execute_result"
    }
   ],
   "source": [
    "INPUT[:5]"
   ]
  },
  {
   "cell_type": "markdown",
   "metadata": {},
   "source": [
    "# Solulu"
   ]
  },
  {
   "cell_type": "code",
   "execution_count": 3,
   "metadata": {
    "execution": {
     "iopub.execute_input": "2024-11-20T10:23:29.761844Z",
     "iopub.status.busy": "2024-11-20T10:23:29.761844Z",
     "iopub.status.idle": "2024-11-20T10:23:29.771651Z",
     "shell.execute_reply": "2024-11-20T10:23:29.771651Z",
     "shell.execute_reply.started": "2024-11-20T10:23:29.761844Z"
    }
   },
   "outputs": [],
   "source": [
    "PATTERN = [0, 1, 0, -1]"
   ]
  },
  {
   "cell_type": "markdown",
   "metadata": {},
   "source": [
    "## Part 1"
   ]
  },
  {
   "cell_type": "code",
   "execution_count": 4,
   "metadata": {
    "execution": {
     "iopub.execute_input": "2024-11-20T10:23:29.775455Z",
     "iopub.status.busy": "2024-11-20T10:23:29.775455Z",
     "iopub.status.idle": "2024-11-20T10:23:57.274365Z",
     "shell.execute_reply": "2024-11-20T10:23:57.274365Z",
     "shell.execute_reply.started": "2024-11-20T10:23:29.775455Z"
    }
   },
   "outputs": [
    {
     "data": {
      "text/plain": [
       "'37153056'"
      ]
     },
     "execution_count": 4,
     "metadata": {},
     "output_type": "execute_result"
    }
   ],
   "source": [
    "SIGNAL = list(map(int, INPUT))\n",
    "n = len(SIGNAL)\n",
    "\n",
    "TURN = 100\n",
    "signal = SIGNAL\n",
    "\n",
    "for _ in range(TURN):\n",
    "    new_signal = list()\n",
    "\n",
    "    for i in range(1, n + 1):\n",
    "        total = 0\n",
    "\n",
    "        for idx, num in enumerate(signal, start=1):\n",
    "            ipattern = (idx // i) % len(PATTERN)\n",
    "            if not PATTERN[ipattern] or not num:\n",
    "                continue\n",
    "            total += PATTERN[ipattern] * num\n",
    "\n",
    "        new_signal.append(abs(total) % 10)\n",
    "\n",
    "    signal = new_signal\n",
    "\n",
    "\"\".join(map(str, signal[:8]))"
   ]
  },
  {
   "cell_type": "markdown",
   "metadata": {},
   "source": [
    "## Part 2"
   ]
  },
  {
   "cell_type": "code",
   "execution_count": 5,
   "metadata": {
    "execution": {
     "iopub.execute_input": "2024-11-20T10:23:57.274365Z",
     "iopub.status.busy": "2024-11-20T10:23:57.274365Z",
     "iopub.status.idle": "2024-11-20T10:24:25.794663Z",
     "shell.execute_reply": "2024-11-20T10:24:25.794663Z",
     "shell.execute_reply.started": "2024-11-20T10:23:57.274365Z"
    }
   },
   "outputs": [
    {
     "data": {
      "text/plain": [
       "'60592199'"
      ]
     },
     "execution_count": 5,
     "metadata": {},
     "output_type": "execute_result"
    }
   ],
   "source": [
    "offset = int(INPUT[:7])\n",
    "SIGNAL = list(map(int, INPUT * 10_000))[offset:]\n",
    "n = len(SIGNAL)\n",
    "\n",
    "TURN = 100\n",
    "signal = SIGNAL\n",
    "\n",
    "for _ in range(TURN):\n",
    "    for i in range(n - 1, 0, -1):\n",
    "        signal[i - 1] = (signal[i] + signal[i - 1]) % 10\n",
    "\n",
    "\"\".join(map(str, signal[:8]))"
   ]
  }
 ],
 "metadata": {
  "kernelspec": {
   "display_name": "Python 3 (ipykernel)",
   "language": "python",
   "name": "python3"
  },
  "language_info": {
   "codemirror_mode": {
    "name": "ipython",
    "version": 3
   },
   "file_extension": ".py",
   "mimetype": "text/x-python",
   "name": "python",
   "nbconvert_exporter": "python",
   "pygments_lexer": "ipython3",
   "version": "3.11.4"
  }
 },
 "nbformat": 4,
 "nbformat_minor": 4
}
