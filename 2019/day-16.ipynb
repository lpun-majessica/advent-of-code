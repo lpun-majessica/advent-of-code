{
 "cells": [
  {
   "cell_type": "markdown",
   "metadata": {},
   "source": [
    "[Advent of Code - Day 16](https://adventofcode.com/2019/day/16)"
   ]
  },
  {
   "cell_type": "markdown",
   "metadata": {},
   "source": [
    "# Import input"
   ]
  },
  {
   "cell_type": "code",
   "execution_count": 3,
   "metadata": {
    "execution": {
     "iopub.execute_input": "2024-11-20T08:36:18.994471Z",
     "iopub.status.busy": "2024-11-20T08:36:18.994471Z",
     "iopub.status.idle": "2024-11-20T08:36:19.911402Z",
     "shell.execute_reply": "2024-11-20T08:36:19.910194Z",
     "shell.execute_reply.started": "2024-11-20T08:36:18.994471Z"
    }
   },
   "outputs": [],
   "source": [
    "import sys\n",
    "\n",
    "sys.path.insert(0, \"../\")\n",
    "from utils import aoc_input as inp\n",
    "\n",
    "INPUT = inp.download_input(year=\"2019\", day=\"16\")[0]"
   ]
  },
  {
   "cell_type": "code",
   "execution_count": 4,
   "metadata": {
    "execution": {
     "iopub.execute_input": "2024-11-20T08:36:19.916010Z",
     "iopub.status.busy": "2024-11-20T08:36:19.914918Z",
     "iopub.status.idle": "2024-11-20T08:36:19.927091Z",
     "shell.execute_reply": "2024-11-20T08:36:19.925857Z",
     "shell.execute_reply.started": "2024-11-20T08:36:19.916010Z"
    }
   },
   "outputs": [
    {
     "data": {
      "text/plain": [
       "'59734'"
      ]
     },
     "execution_count": 4,
     "metadata": {},
     "output_type": "execute_result"
    }
   ],
   "source": [
    "INPUT[:5]"
   ]
  },
  {
   "cell_type": "markdown",
   "metadata": {},
   "source": [
    "# Solulu"
   ]
  },
  {
   "cell_type": "code",
   "execution_count": 5,
   "metadata": {
    "execution": {
     "iopub.execute_input": "2024-11-20T08:37:01.393904Z",
     "iopub.status.busy": "2024-11-20T08:37:01.393904Z",
     "iopub.status.idle": "2024-11-20T08:37:01.405434Z",
     "shell.execute_reply": "2024-11-20T08:37:01.404247Z",
     "shell.execute_reply.started": "2024-11-20T08:37:01.393904Z"
    }
   },
   "outputs": [],
   "source": [
    "PATTERN = [0, 1, 0, -1]"
   ]
  },
  {
   "cell_type": "markdown",
   "metadata": {},
   "source": [
    "## Part 1"
   ]
  },
  {
   "cell_type": "code",
   "execution_count": null,
   "metadata": {},
   "outputs": [],
   "source": [
    "END = 100\n",
    "turn = 1\n",
    "\n",
    "while turn < 100:\n",
    "    NEW_INPUT = ''\n",
    "\n",
    "    for i\n",
    "\n",
    "    INPUT = NEW_INPUT"
   ]
  },
  {
   "cell_type": "markdown",
   "metadata": {
    "jp-MarkdownHeadingCollapsed": true
   },
   "source": [
    "## Part 2"
   ]
  }
 ],
 "metadata": {
  "kernelspec": {
   "display_name": "Python 3 (ipykernel)",
   "language": "python",
   "name": "python3"
  },
  "language_info": {
   "codemirror_mode": {
    "name": "ipython",
    "version": 3
   },
   "file_extension": ".py",
   "mimetype": "text/x-python",
   "name": "python",
   "nbconvert_exporter": "python",
   "pygments_lexer": "ipython3",
   "version": "3.11.4"
  }
 },
 "nbformat": 4,
 "nbformat_minor": 4
}
