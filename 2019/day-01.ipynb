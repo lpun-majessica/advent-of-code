{
 "cells": [
  {
   "cell_type": "markdown",
   "metadata": {},
   "source": [
    "[Advent of Code - Day 01](https://adventofcode.com/2019/day/1)"
   ]
  },
  {
   "cell_type": "markdown",
   "metadata": {},
   "source": [
    "# Import input"
   ]
  },
  {
   "cell_type": "code",
   "execution_count": 1,
   "metadata": {
    "execution": {
     "iopub.execute_input": "2024-10-08T04:36:33.558757Z",
     "iopub.status.busy": "2024-10-08T04:36:33.558757Z",
     "iopub.status.idle": "2024-10-08T04:36:35.626559Z",
     "shell.execute_reply": "2024-10-08T04:36:35.624918Z",
     "shell.execute_reply.started": "2024-10-08T04:36:33.558757Z"
    }
   },
   "outputs": [],
   "source": [
    "import sys\n",
    "\n",
    "sys.path.insert(0, \"../\")\n",
    "from utils import aoc_input as inp\n",
    "\n",
    "INPUT = inp.download_input(year=\"2019\", day=\"01\")"
   ]
  },
  {
   "cell_type": "code",
   "execution_count": 2,
   "metadata": {
    "execution": {
     "iopub.execute_input": "2024-10-08T04:36:35.628567Z",
     "iopub.status.busy": "2024-10-08T04:36:35.627568Z",
     "iopub.status.idle": "2024-10-08T04:36:35.642247Z",
     "shell.execute_reply": "2024-10-08T04:36:35.642247Z",
     "shell.execute_reply.started": "2024-10-08T04:36:35.628567Z"
    }
   },
   "outputs": [
    {
     "data": {
      "text/plain": [
       "['50951', '69212', '119076', '124303', '95335']"
      ]
     },
     "execution_count": 2,
     "metadata": {},
     "output_type": "execute_result"
    }
   ],
   "source": [
    "INPUT[:5]"
   ]
  },
  {
   "cell_type": "markdown",
   "metadata": {},
   "source": [
    "# Solulu"
   ]
  },
  {
   "cell_type": "markdown",
   "metadata": {},
   "source": [
    "## Part 1"
   ]
  },
  {
   "cell_type": "code",
   "execution_count": 3,
   "metadata": {
    "execution": {
     "iopub.execute_input": "2024-10-08T04:36:35.642247Z",
     "iopub.status.busy": "2024-10-08T04:36:35.642247Z",
     "iopub.status.idle": "2024-10-08T04:36:35.657653Z",
     "shell.execute_reply": "2024-10-08T04:36:35.656641Z",
     "shell.execute_reply.started": "2024-10-08T04:36:35.642247Z"
    }
   },
   "outputs": [
    {
     "data": {
      "text/plain": [
       "3295539"
      ]
     },
     "execution_count": 3,
     "metadata": {},
     "output_type": "execute_result"
    }
   ],
   "source": [
    "res = 0\n",
    "for line in INPUT:\n",
    "    mass = int(line)\n",
    "    fuel = mass // 3 - 2\n",
    "    res += fuel\n",
    "\n",
    "res"
   ]
  },
  {
   "cell_type": "markdown",
   "metadata": {},
   "source": [
    "## Part 2"
   ]
  },
  {
   "cell_type": "code",
   "execution_count": 4,
   "metadata": {
    "execution": {
     "iopub.execute_input": "2024-10-08T04:36:35.658650Z",
     "iopub.status.busy": "2024-10-08T04:36:35.658650Z",
     "iopub.status.idle": "2024-10-08T04:36:35.667275Z",
     "shell.execute_reply": "2024-10-08T04:36:35.667275Z",
     "shell.execute_reply.started": "2024-10-08T04:36:35.658650Z"
    }
   },
   "outputs": [
    {
     "data": {
      "text/plain": [
       "4940441"
      ]
     },
     "execution_count": 4,
     "metadata": {},
     "output_type": "execute_result"
    }
   ],
   "source": [
    "res = 0\n",
    "for line in INPUT:\n",
    "    mass = int(line)\n",
    "    while (fuel := mass // 3 - 2) > 0:\n",
    "        res += fuel\n",
    "        mass = fuel\n",
    "\n",
    "res"
   ]
  }
 ],
 "metadata": {
  "kernelspec": {
   "display_name": "Python 3 (ipykernel)",
   "language": "python",
   "name": "python3"
  },
  "language_info": {
   "codemirror_mode": {
    "name": "ipython",
    "version": 3
   },
   "file_extension": ".py",
   "mimetype": "text/x-python",
   "name": "python",
   "nbconvert_exporter": "python",
   "pygments_lexer": "ipython3",
   "version": "3.11.4"
  }
 },
 "nbformat": 4,
 "nbformat_minor": 4
}
