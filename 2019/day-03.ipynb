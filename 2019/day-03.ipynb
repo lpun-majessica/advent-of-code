{
 "cells": [
  {
   "cell_type": "markdown",
   "metadata": {},
   "source": [
    "[Advent of Code - Day 03](https://adventofcode.com/2019/day/3)"
   ]
  },
  {
   "cell_type": "markdown",
   "metadata": {},
   "source": [
    "# Import input"
   ]
  },
  {
   "cell_type": "code",
   "execution_count": 1,
   "metadata": {
    "execution": {
     "iopub.execute_input": "2024-10-08T06:06:58.987759Z",
     "iopub.status.busy": "2024-10-08T06:06:58.987759Z",
     "iopub.status.idle": "2024-10-08T06:07:00.328897Z",
     "shell.execute_reply": "2024-10-08T06:07:00.327884Z",
     "shell.execute_reply.started": "2024-10-08T06:06:58.987759Z"
    }
   },
   "outputs": [],
   "source": [
    "import sys\n",
    "import math\n",
    "\n",
    "sys.path.insert(0, \"../\")\n",
    "from utils import aoc_input as inp\n",
    "\n",
    "in_ = inp.download_input(year=\"2019\", day=\"03\")"
   ]
  },
  {
   "cell_type": "code",
   "execution_count": 2,
   "metadata": {
    "execution": {
     "iopub.execute_input": "2024-10-08T06:07:00.330894Z",
     "iopub.status.busy": "2024-10-08T06:07:00.329894Z",
     "iopub.status.idle": "2024-10-08T06:07:00.343178Z",
     "shell.execute_reply": "2024-10-08T06:07:00.342172Z",
     "shell.execute_reply.started": "2024-10-08T06:07:00.329894Z"
    }
   },
   "outputs": [
    {
     "data": {
      "text/plain": [
       "['R994,D213,L483,U102,L292,U153,L123,D568,R54,U482,L971,D679,L17,U492,R448,U75,R472,D209,R872,D271,L271,U175,L373,D968,R867,U191,R746,U717,L918,D171,L205,D399,R889,D626,R683,D853,R571,U42,L406,D390,R716,U364,L596,U226,L34,D805,R474,D304,R54,D854,L140,U923,L800,D833,L127,D576,R779,U433,L270,U602,L266,D874,R275,D146,L469,U623,R932,D564,R683,D769,L824,U818,L743,U846,R607,D860,R989,U927,R467,D465,R915,D531,L206,U366,R476,U516,R688,D144,L3,D612,L50,D519,R765,D684,L100,U233,R898,U957,R335,D614,R672,U428,R104,U294,L817,D83,R165,U328,L348,D231,R192,D982,R930,D949,R849,D144,R181,D691,R953,D796,L262,D883,L141,U264,L876,U445,R705,U802,L418,U177,R695,U138,L486,D598,R473,D704,R322,U818,R740,U218,R718,D942,R621,D277,L277,U338,L134,U586,L32,U89,L117,U296,R954,D775,L744,D655,R405,U67,R586,U37,L976,D486,L431,U671,R871,D865,R671,D434,L754,D933,L353,D430,L494,D729,R88,D438,R301,D111,L70,U561,L446,D973,R646,D419,R499,D496,L933,D463,L624,U999,L899,U954,R971,U533,R110,U483,R100,D452,R143,D73,L144,D220,L621,U62,R695,U270,L655,U404,L207,U946,L989,U767,L953,U271,L206,U315,L675,D579,L910,D413,R283,D118,L405,U724,L144,U969,R256,D940,L592,D714,L898,D937,R3,D175,L578,D981,R110,D217,L60,D57,R559,D913,R251,D883,L431,U450,L755,D126,L236,U532,R62,U33,L499,D29,R304,U25,R923,U732,L930,U812,R923,D12,L991,U223,R58,D638,R166,D980,R999,D825,L707,D956,L107,U676,R263,U949,L924,D928,L747,U641,L179,D398,R714,U715,R525,D515,R887,D21,R100,D424,L265,U704,R119,U77,L619,D308,R857,U272,L571,U650,L793',\n",
       " 'L1010,D906,R561,D862,R541,D243,L958,D538,L930,U270,R282,D56,R692,U625,R962,U95,L834,D477,R375,D859,L158,D664,L874,U817,R218,U428,L194,U713,R1,D291,R608,D79,L582,U570,R952,U217,R441,U43,L966,U40,R103,U419,L387,U198,R306,U239,R714,U193,L111,D98,L308,U856,L702,D596,R903,D607,R86,D967,L191,D676,R606,D638,R512,D373,L623,U596,L151,U394,L241,D429,L324,D710,L663,U821,L351,D538,L917,U449,R120,D746,R833,U812,L691,D751,L631,U612,L107,D276,L997,D764,R644,U823,L574,U276,L48,U968,L97,D118,L976,U511,L976,U862,L232,D425,R586,U665,R893,D744,R317,D152,L406,U997,R377,D552,R226,D960,L232,D834,L911,U548,L127,U845,L687,U835,R18,D524,R226,D896,R89,U497,L748,U105,R174,U17,R212,U347,L942,U633,R799,U907,L971,D490,R690,D399,L725,U807,R244,U558,L754,D490,L726,D126,L639,D548,L18,D173,L188,D33,L707,D980,L728,U663,R593,D172,R314,U873,R409,U476,R312,U970,R28,U514,L378,D681,R611,U733,R135,U682,L736,D253,L432,D736,L777,U447,L174,D664,L652,D984,L714,D990,R608,D383,R51,U497,L343,D569,R515,D144,L949,D827,R112,U595,L109,D215,L401,U635,L953,U20,R780,U324,R955,D346,R762,D693,R56,U341,R481,U70,R385,U330,R278,D923,L835,D733,R235,U628,R505,U372,R469,D659,R618,U899,L21,U698,R688,U409,R775,D405,R846,D783,R675,U261,R721,D637,R957,D355,L50,U759,R769,D612,R538,U923,L780,U786,R104,D66,L67,U175,L820,D723,R124,U937,R923,D130,R758,U678,R215,U671,R366,U163,L783,U790,L832,D731,L736,D879,R508,U433,R705,U939,L969,U920,R683,D188,L349,U812,L36,D333,L88,U356,L140,D735,L217,D365,R23,D88,L20,D854,L437,U153,L307']"
      ]
     },
     "execution_count": 2,
     "metadata": {},
     "output_type": "execute_result"
    }
   ],
   "source": [
    "in_[:5]"
   ]
  },
  {
   "cell_type": "markdown",
   "metadata": {},
   "source": [
    "# Solulu"
   ]
  },
  {
   "cell_type": "code",
   "execution_count": 3,
   "metadata": {
    "execution": {
     "iopub.execute_input": "2024-10-08T06:07:00.345177Z",
     "iopub.status.busy": "2024-10-08T06:07:00.344178Z",
     "iopub.status.idle": "2024-10-08T06:07:00.353303Z",
     "shell.execute_reply": "2024-10-08T06:07:00.351886Z",
     "shell.execute_reply.started": "2024-10-08T06:07:00.345177Z"
    }
   },
   "outputs": [],
   "source": [
    "path1, path2 = in_[0].split(\",\"), in_[1].split(\",\")\n",
    "directions = {\n",
    "    \"U\": [0, +1],\n",
    "    \"D\": [0, -1],\n",
    "    \"L\": [-1, 0],\n",
    "    \"R\": [+1, 0],\n",
    "}"
   ]
  },
  {
   "cell_type": "code",
   "execution_count": 4,
   "metadata": {
    "execution": {
     "iopub.execute_input": "2024-10-08T06:07:00.356313Z",
     "iopub.status.busy": "2024-10-08T06:07:00.355315Z",
     "iopub.status.idle": "2024-10-08T06:07:00.362287Z",
     "shell.execute_reply": "2024-10-08T06:07:00.362287Z",
     "shell.execute_reply.started": "2024-10-08T06:07:00.356313Z"
    }
   },
   "outputs": [],
   "source": [
    "def create(path: list) -> dict:\n",
    "    wire = dict()\n",
    "    x, y, steps_counter = 0, 0, 0\n",
    "    for element in path:\n",
    "        direction, steps = element[0], int(element[1:])\n",
    "        xx, yy = directions[direction]\n",
    "        for _ in range(steps):\n",
    "            x += xx\n",
    "            y += yy\n",
    "            steps_counter += 1\n",
    "            if (x, y) not in wire:\n",
    "                wire[(x, y)] = steps_counter\n",
    "\n",
    "    return wire"
   ]
  },
  {
   "cell_type": "code",
   "execution_count": 5,
   "metadata": {
    "execution": {
     "iopub.execute_input": "2024-10-08T06:07:00.364296Z",
     "iopub.status.busy": "2024-10-08T06:07:00.364296Z",
     "iopub.status.idle": "2024-10-08T06:07:00.529139Z",
     "shell.execute_reply": "2024-10-08T06:07:00.529139Z",
     "shell.execute_reply.started": "2024-10-08T06:07:00.364296Z"
    }
   },
   "outputs": [],
   "source": [
    "wire1 = create(path1)\n",
    "wire2 = create(path2)\n",
    "\n",
    "coords1 = [coord for coord in wire1.keys()]\n",
    "coords2 = [coord for coord in wire2.keys()]\n",
    "intersections = set(coords1) & set(coords2)"
   ]
  },
  {
   "cell_type": "markdown",
   "metadata": {},
   "source": [
    "## Part 1"
   ]
  },
  {
   "cell_type": "code",
   "execution_count": 6,
   "metadata": {
    "execution": {
     "iopub.execute_input": "2024-10-08T06:07:00.529139Z",
     "iopub.status.busy": "2024-10-08T06:07:00.529139Z",
     "iopub.status.idle": "2024-10-08T06:07:00.536448Z",
     "shell.execute_reply": "2024-10-08T06:07:00.535785Z",
     "shell.execute_reply.started": "2024-10-08T06:07:00.529139Z"
    }
   },
   "outputs": [
    {
     "data": {
      "text/plain": [
       "293"
      ]
     },
     "execution_count": 6,
     "metadata": {},
     "output_type": "execute_result"
    }
   ],
   "source": [
    "min_distance = math.inf\n",
    "for intersection_coord in intersections:\n",
    "    if intersection_coord == (0, 0):\n",
    "        continue\n",
    "    x, y = intersection_coord\n",
    "    distance = abs(x) + abs(y)\n",
    "\n",
    "    min_distance = min(min_distance, distance)\n",
    "\n",
    "min_distance"
   ]
  },
  {
   "cell_type": "markdown",
   "metadata": {},
   "source": [
    "## Part 2"
   ]
  },
  {
   "cell_type": "code",
   "execution_count": 7,
   "metadata": {
    "execution": {
     "iopub.execute_input": "2024-10-08T06:07:00.537454Z",
     "iopub.status.busy": "2024-10-08T06:07:00.537454Z",
     "iopub.status.idle": "2024-10-08T06:07:00.545575Z",
     "shell.execute_reply": "2024-10-08T06:07:00.545575Z",
     "shell.execute_reply.started": "2024-10-08T06:07:00.537454Z"
    }
   },
   "outputs": [
    {
     "data": {
      "text/plain": [
       "27306"
      ]
     },
     "execution_count": 7,
     "metadata": {},
     "output_type": "execute_result"
    }
   ],
   "source": [
    "min_steps = math.inf\n",
    "for intersection_coord in intersections:\n",
    "    steps1 = wire1[intersection_coord]\n",
    "    steps2 = wire2[intersection_coord]\n",
    "    total_steps = steps1 + steps2\n",
    "\n",
    "    min_steps = min(min_steps, total_steps)\n",
    "\n",
    "min_steps"
   ]
  }
 ],
 "metadata": {
  "kernelspec": {
   "display_name": "Python 3 (ipykernel)",
   "language": "python",
   "name": "python3"
  },
  "language_info": {
   "codemirror_mode": {
    "name": "ipython",
    "version": 3
   },
   "file_extension": ".py",
   "mimetype": "text/x-python",
   "name": "python",
   "nbconvert_exporter": "python",
   "pygments_lexer": "ipython3",
   "version": "3.11.4"
  }
 },
 "nbformat": 4,
 "nbformat_minor": 4
}
