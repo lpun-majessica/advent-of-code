{
 "cells": [
  {
   "cell_type": "markdown",
   "metadata": {},
   "source": [
    "[Advent of Code - Day 14](https://adventofcode.com/2019/day/14)"
   ]
  },
  {
   "cell_type": "markdown",
   "metadata": {},
   "source": [
    "# Import input"
   ]
  },
  {
   "cell_type": "code",
   "execution_count": 1,
   "metadata": {
    "execution": {
     "iopub.execute_input": "2024-10-23T03:37:33.722080Z",
     "iopub.status.busy": "2024-10-23T03:37:33.722080Z",
     "iopub.status.idle": "2024-10-23T03:37:34.745242Z",
     "shell.execute_reply": "2024-10-23T03:37:34.743704Z",
     "shell.execute_reply.started": "2024-10-23T03:37:33.722080Z"
    }
   },
   "outputs": [],
   "source": [
    "import sys\n",
    "from collections import defaultdict\n",
    "from math import ceil, log10\n",
    "\n",
    "sys.path.insert(0, \"../\")\n",
    "from utils import aoc_input as inp\n",
    "\n",
    "in_ = inp.download_input(year=\"2019\", day=\"14\")"
   ]
  },
  {
   "cell_type": "code",
   "execution_count": 2,
   "metadata": {
    "execution": {
     "iopub.execute_input": "2024-10-23T03:37:34.745242Z",
     "iopub.status.busy": "2024-10-23T03:37:34.745242Z",
     "iopub.status.idle": "2024-10-23T03:37:34.764336Z",
     "shell.execute_reply": "2024-10-23T03:37:34.763304Z",
     "shell.execute_reply.started": "2024-10-23T03:37:34.745242Z"
    }
   },
   "outputs": [
    {
     "data": {
      "text/plain": [
       "['9 GJSNW, 9 GHJHK => 6 DRKW',\n",
       " '1 SJNKX, 1 GHJHK, 7 DCPM => 1 BFGL',\n",
       " '7 RBJHJ, 8 CHPCH, 1 SJHGH, 9 ZMRD, 2 VDVN, 17 SFSN, 4 DPZW => 9 TXWFP',\n",
       " '1 KBJXG, 6 GJSNW, 2 RKBM => 9 QMVN',\n",
       " '1 QMVN, 1 MWXF => 9 QZRM']"
      ]
     },
     "execution_count": 2,
     "metadata": {},
     "output_type": "execute_result"
    }
   ],
   "source": [
    "in_[:5]"
   ]
  },
  {
   "cell_type": "markdown",
   "metadata": {},
   "source": [
    "# Solulu\n",
    "\n",
    "Inspired by [asmartins](https://asmartins.com/blog/rocket-fuel/)"
   ]
  },
  {
   "cell_type": "code",
   "execution_count": 3,
   "metadata": {
    "execution": {
     "iopub.execute_input": "2024-10-23T03:37:34.768898Z",
     "iopub.status.busy": "2024-10-23T03:37:34.767794Z",
     "iopub.status.idle": "2024-10-23T03:37:34.790153Z",
     "shell.execute_reply": "2024-10-23T03:37:34.790153Z",
     "shell.execute_reply.started": "2024-10-23T03:37:34.768898Z"
    }
   },
   "outputs": [],
   "source": [
    "reactions = dict()\n",
    "\n",
    "for line in in_:\n",
    "    req, prod = line.split(\" => \")\n",
    "    amount_prod, chemical_prod = prod.split()\n",
    "    reactions[chemical_prod] = [int(amount_prod), dict()]\n",
    "    components = reactions[chemical_prod][-1]\n",
    "\n",
    "    for component in req.split(\", \"):\n",
    "        amount_req, chemical_req = component.split()\n",
    "        components[chemical_req] = int(amount_req)"
   ]
  },
  {
   "cell_type": "code",
   "execution_count": 4,
   "metadata": {
    "execution": {
     "iopub.execute_input": "2024-10-23T03:37:34.792549Z",
     "iopub.status.busy": "2024-10-23T03:37:34.792549Z",
     "iopub.status.idle": "2024-10-23T03:37:34.804868Z",
     "shell.execute_reply": "2024-10-23T03:37:34.804868Z",
     "shell.execute_reply.started": "2024-10-23T03:37:34.792549Z"
    }
   },
   "outputs": [],
   "source": [
    "ORE, FUEL = \"ORE\", \"FUEL\"\n",
    "\n",
    "\n",
    "def calc_ore_required(amount_fuel):\n",
    "    res = 0\n",
    "    queue = defaultdict(int, {FUEL: amount_fuel})\n",
    "    stock = defaultdict(int)\n",
    "\n",
    "    while queue:\n",
    "        chemical, amount = queue.popitem()\n",
    "        in_stock = stock[chemical]\n",
    "        out_of_stock = amount - in_stock\n",
    "        stock[chemical] = 0 if out_of_stock else (in_stock - amount)\n",
    "        from_stock = in_stock - stock[chemical]\n",
    "\n",
    "        amount -= from_stock\n",
    "        amount_produced, components = reactions[chemical]\n",
    "        n = ceil(amount / amount_produced)\n",
    "        stock[chemical] = (amount_produced * n) - amount\n",
    "\n",
    "        for component, amount_required in components.items():\n",
    "            if component == ORE:\n",
    "                res += n * amount_required\n",
    "            else:\n",
    "                queue[component] += n * amount_required\n",
    "\n",
    "    return res"
   ]
  },
  {
   "cell_type": "markdown",
   "metadata": {},
   "source": [
    "## Part 1"
   ]
  },
  {
   "cell_type": "code",
   "execution_count": 5,
   "metadata": {
    "execution": {
     "iopub.execute_input": "2024-10-23T03:37:34.804868Z",
     "iopub.status.busy": "2024-10-23T03:37:34.804868Z",
     "iopub.status.idle": "2024-10-23T03:37:34.816535Z",
     "shell.execute_reply": "2024-10-23T03:37:34.816535Z",
     "shell.execute_reply.started": "2024-10-23T03:37:34.804868Z"
    }
   },
   "outputs": [
    {
     "data": {
      "text/plain": [
       "202617"
      ]
     },
     "execution_count": 5,
     "metadata": {},
     "output_type": "execute_result"
    }
   ],
   "source": [
    "calc_ore_required(amount_fuel=1)"
   ]
  },
  {
   "cell_type": "markdown",
   "metadata": {},
   "source": [
    "## Part 2"
   ]
  },
  {
   "cell_type": "code",
   "execution_count": 6,
   "metadata": {
    "execution": {
     "iopub.execute_input": "2024-10-23T03:37:34.820801Z",
     "iopub.status.busy": "2024-10-23T03:37:34.820801Z",
     "iopub.status.idle": "2024-10-23T03:37:34.832188Z",
     "shell.execute_reply": "2024-10-23T03:37:34.832188Z",
     "shell.execute_reply.started": "2024-10-23T03:37:34.820801Z"
    }
   },
   "outputs": [],
   "source": [
    "def bisect(func, target: int, lo: int, hi: int):\n",
    "    while lo <= hi:\n",
    "        mid = lo + (hi - lo) // 2\n",
    "        f_mid = func(mid)\n",
    "        if f_mid == target:\n",
    "            return mid\n",
    "        if f_mid < target:\n",
    "            lo = mid + 1\n",
    "        else:\n",
    "            hi = mid - 1\n",
    "    return lo - 1\n",
    "\n",
    "\n",
    "def calc_hilo(amount):\n",
    "    part1_res = calc_ore_required(amount_fuel=1)\n",
    "    lo = amount // part1_res\n",
    "    log = log10(lo)\n",
    "    ore_hi = calc_ore_required(lo)\n",
    "\n",
    "    while ore_hi < amount:\n",
    "        log += 1\n",
    "        ore_hi = calc_ore_required(amount_fuel=10**log)\n",
    "\n",
    "    ratio = ore_hi // 10**log\n",
    "    hi = int(amount // ratio)\n",
    "    return lo, hi"
   ]
  },
  {
   "cell_type": "code",
   "execution_count": 7,
   "metadata": {
    "execution": {
     "iopub.execute_input": "2024-10-23T03:37:34.832188Z",
     "iopub.status.busy": "2024-10-23T03:37:34.832188Z",
     "iopub.status.idle": "2024-10-23T03:37:34.875702Z",
     "shell.execute_reply": "2024-10-23T03:37:34.875702Z",
     "shell.execute_reply.started": "2024-10-23T03:37:34.832188Z"
    }
   },
   "outputs": [
    {
     "data": {
      "text/plain": [
       "7863863"
      ]
     },
     "execution_count": 7,
     "metadata": {},
     "output_type": "execute_result"
    }
   ],
   "source": [
    "TRILLION = int(1e12)\n",
    "\n",
    "lo, hi = calc_hilo(TRILLION)\n",
    "bisect(func=calc_ore_required, target=TRILLION, lo=lo, hi=hi)"
   ]
  }
 ],
 "metadata": {
  "kernelspec": {
   "display_name": "Python 3 (ipykernel)",
   "language": "python",
   "name": "python3"
  },
  "language_info": {
   "codemirror_mode": {
    "name": "ipython",
    "version": 3
   },
   "file_extension": ".py",
   "mimetype": "text/x-python",
   "name": "python",
   "nbconvert_exporter": "python",
   "pygments_lexer": "ipython3",
   "version": "3.11.4"
  }
 },
 "nbformat": 4,
 "nbformat_minor": 4
}
