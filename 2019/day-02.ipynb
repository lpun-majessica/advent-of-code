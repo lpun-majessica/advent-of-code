{
 "cells": [
  {
   "cell_type": "markdown",
   "metadata": {},
   "source": [
    "[Advent of Code - Day 02](https://adventofcode.com/2019/day/2)"
   ]
  },
  {
   "cell_type": "markdown",
   "metadata": {},
   "source": [
    "# Import input"
   ]
  },
  {
   "cell_type": "code",
   "execution_count": 1,
   "metadata": {
    "execution": {
     "iopub.execute_input": "2024-10-08T05:18:51.799163Z",
     "iopub.status.busy": "2024-10-08T05:18:51.799163Z",
     "iopub.status.idle": "2024-10-08T05:18:52.885119Z",
     "shell.execute_reply": "2024-10-08T05:18:52.884393Z",
     "shell.execute_reply.started": "2024-10-08T05:18:51.799163Z"
    }
   },
   "outputs": [],
   "source": [
    "import sys\n",
    "\n",
    "sys.path.insert(0, \"../\")\n",
    "from utils import aoc_input as inp\n",
    "\n",
    "in_ = inp.download_input(year=\"2019\", day=\"02\")[0]"
   ]
  },
  {
   "cell_type": "code",
   "execution_count": 2,
   "metadata": {
    "execution": {
     "iopub.execute_input": "2024-10-08T05:18:52.887463Z",
     "iopub.status.busy": "2024-10-08T05:18:52.887463Z",
     "iopub.status.idle": "2024-10-08T05:18:52.899972Z",
     "shell.execute_reply": "2024-10-08T05:18:52.899972Z",
     "shell.execute_reply.started": "2024-10-08T05:18:52.887463Z"
    }
   },
   "outputs": [
    {
     "data": {
      "text/plain": [
       "'1,0,0'"
      ]
     },
     "execution_count": 2,
     "metadata": {},
     "output_type": "execute_result"
    }
   ],
   "source": [
    "in_[:5]"
   ]
  },
  {
   "cell_type": "markdown",
   "metadata": {},
   "source": [
    "# Solulu"
   ]
  },
  {
   "cell_type": "code",
   "execution_count": 3,
   "metadata": {
    "execution": {
     "iopub.execute_input": "2024-10-08T05:18:52.899972Z",
     "iopub.status.busy": "2024-10-08T05:18:52.899972Z",
     "iopub.status.idle": "2024-10-08T05:18:52.910156Z",
     "shell.execute_reply": "2024-10-08T05:18:52.908843Z",
     "shell.execute_reply.started": "2024-10-08T05:18:52.899972Z"
    }
   },
   "outputs": [],
   "source": [
    "def reset_memory(inp=in_):\n",
    "    return list(map(int, in_.split(\",\")))"
   ]
  },
  {
   "cell_type": "markdown",
   "metadata": {},
   "source": [
    "## Part 1"
   ]
  },
  {
   "cell_type": "code",
   "execution_count": 4,
   "metadata": {
    "execution": {
     "iopub.execute_input": "2024-10-08T05:18:52.911726Z",
     "iopub.status.busy": "2024-10-08T05:18:52.911726Z",
     "iopub.status.idle": "2024-10-08T05:18:52.927623Z",
     "shell.execute_reply": "2024-10-08T05:18:52.926075Z",
     "shell.execute_reply.started": "2024-10-08T05:18:52.911726Z"
    }
   },
   "outputs": [
    {
     "data": {
      "text/plain": [
       "3790645"
      ]
     },
     "execution_count": 4,
     "metadata": {},
     "output_type": "execute_result"
    }
   ],
   "source": [
    "intcode = reset_memory()\n",
    "intcode[1] = 12\n",
    "intcode[2] = 2\n",
    "\n",
    "counter = 0\n",
    "\n",
    "while (opcode := intcode[counter]) != 99:\n",
    "    n1 = intcode[intcode[counter + 1]]\n",
    "    n2 = intcode[intcode[counter + 2]]\n",
    "    i = intcode[counter + 3]\n",
    "\n",
    "    if opcode == 1:\n",
    "        value = n1 + n2\n",
    "    elif opcode == 2:\n",
    "        value = n1 * n2\n",
    "\n",
    "    intcode[i] = value\n",
    "    counter += 4\n",
    "\n",
    "intcode[0]"
   ]
  },
  {
   "cell_type": "markdown",
   "metadata": {},
   "source": [
    "## Part 2"
   ]
  },
  {
   "cell_type": "code",
   "execution_count": 5,
   "metadata": {
    "execution": {
     "iopub.execute_input": "2024-10-08T05:18:52.928631Z",
     "iopub.status.busy": "2024-10-08T05:18:52.928631Z",
     "iopub.status.idle": "2024-10-08T05:18:53.169227Z",
     "shell.execute_reply": "2024-10-08T05:18:53.169227Z",
     "shell.execute_reply.started": "2024-10-08T05:18:52.928631Z"
    }
   },
   "outputs": [
    {
     "data": {
      "text/plain": [
       "6577"
      ]
     },
     "execution_count": 5,
     "metadata": {},
     "output_type": "execute_result"
    }
   ],
   "source": [
    "input_range = 99\n",
    "requirement = 19690720\n",
    "\n",
    "output = 0\n",
    "noun, verb = 0, 0\n",
    "while output != requirement:\n",
    "    intcode = reset_memory()\n",
    "    if noun == input_range:\n",
    "        verb += 1\n",
    "        noun = 0\n",
    "    else:\n",
    "        noun += 1\n",
    "    intcode[1] = noun\n",
    "    intcode[2] = verb\n",
    "\n",
    "    counter = 0\n",
    "\n",
    "    while (opcode := intcode[counter]) != 99:\n",
    "        n1 = intcode[intcode[counter + 1]]\n",
    "        n2 = intcode[intcode[counter + 2]]\n",
    "        i = intcode[counter + 3]\n",
    "\n",
    "        if opcode == 1:\n",
    "            value = n1 + n2\n",
    "        elif opcode == 2:\n",
    "            value = n1 * n2\n",
    "\n",
    "        intcode[i] = value\n",
    "        counter += 4\n",
    "\n",
    "    output = intcode[0]\n",
    "\n",
    "100 * noun + verb"
   ]
  }
 ],
 "metadata": {
  "kernelspec": {
   "display_name": "Python 3 (ipykernel)",
   "language": "python",
   "name": "python3"
  },
  "language_info": {
   "codemirror_mode": {
    "name": "ipython",
    "version": 3
   },
   "file_extension": ".py",
   "mimetype": "text/x-python",
   "name": "python",
   "nbconvert_exporter": "python",
   "pygments_lexer": "ipython3",
   "version": "3.11.4"
  }
 },
 "nbformat": 4,
 "nbformat_minor": 4
}
