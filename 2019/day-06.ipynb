{
 "cells": [
  {
   "cell_type": "markdown",
   "metadata": {},
   "source": [
    "[Advent of Code - Day 06](https://adventofcode.com/2019/day/6)"
   ]
  },
  {
   "cell_type": "markdown",
   "metadata": {},
   "source": [
    "# Import input"
   ]
  },
  {
   "cell_type": "code",
   "execution_count": 1,
   "metadata": {
    "execution": {
     "iopub.execute_input": "2024-10-08T09:37:27.969676Z",
     "iopub.status.busy": "2024-10-08T09:37:27.969676Z",
     "iopub.status.idle": "2024-10-08T09:37:28.908224Z",
     "shell.execute_reply": "2024-10-08T09:37:28.908224Z",
     "shell.execute_reply.started": "2024-10-08T09:37:27.969676Z"
    }
   },
   "outputs": [],
   "source": [
    "import sys\n",
    "from collections import defaultdict\n",
    "\n",
    "sys.path.insert(0, \"../\")\n",
    "from utils import aoc_input as inp\n",
    "\n",
    "INPUT = inp.download_input(year=\"2019\", day=\"06\")"
   ]
  },
  {
   "cell_type": "code",
   "execution_count": 2,
   "metadata": {
    "execution": {
     "iopub.execute_input": "2024-10-08T09:37:28.908224Z",
     "iopub.status.busy": "2024-10-08T09:37:28.908224Z",
     "iopub.status.idle": "2024-10-08T09:37:28.924404Z",
     "shell.execute_reply": "2024-10-08T09:37:28.923290Z",
     "shell.execute_reply.started": "2024-10-08T09:37:28.908224Z"
    }
   },
   "outputs": [
    {
     "data": {
      "text/plain": [
       "['DGS)1HY', 'FYY)13C', 'RPN)9C5', 'NNV)CVR', 'BVN)BCH']"
      ]
     },
     "execution_count": 2,
     "metadata": {},
     "output_type": "execute_result"
    }
   ],
   "source": [
    "INPUT[:5]"
   ]
  },
  {
   "cell_type": "markdown",
   "metadata": {},
   "source": [
    "# Solulu"
   ]
  },
  {
   "cell_type": "code",
   "execution_count": 3,
   "metadata": {
    "execution": {
     "iopub.execute_input": "2024-10-08T09:37:28.925418Z",
     "iopub.status.busy": "2024-10-08T09:37:28.925418Z",
     "iopub.status.idle": "2024-10-08T09:37:28.941004Z",
     "shell.execute_reply": "2024-10-08T09:37:28.941004Z",
     "shell.execute_reply.started": "2024-10-08T09:37:28.925418Z"
    }
   },
   "outputs": [],
   "source": [
    "orbits = defaultdict(list)\n",
    "for line in INPUT:\n",
    "    orbited, orbiting = line.split(\")\")\n",
    "    orbits[orbited].append(orbiting)"
   ]
  },
  {
   "cell_type": "markdown",
   "metadata": {},
   "source": [
    "## Part 1"
   ]
  },
  {
   "cell_type": "code",
   "execution_count": 4,
   "metadata": {
    "execution": {
     "iopub.execute_input": "2024-10-08T09:37:28.941004Z",
     "iopub.status.busy": "2024-10-08T09:37:28.941004Z",
     "iopub.status.idle": "2024-10-08T09:37:28.967698Z",
     "shell.execute_reply": "2024-10-08T09:37:28.967035Z",
     "shell.execute_reply.started": "2024-10-08T09:37:28.941004Z"
    }
   },
   "outputs": [
    {
     "data": {
      "text/plain": [
       "227612"
      ]
     },
     "execution_count": 4,
     "metadata": {},
     "output_type": "execute_result"
    }
   ],
   "source": [
    "res = 0\n",
    "queue = [[\"COM\", [\"COM\"]]]\n",
    "visited = set()\n",
    "\n",
    "while queue:\n",
    "    obj, path = queue.pop(0)\n",
    "    if \"YOU\" in path:\n",
    "        you = path\n",
    "    elif \"SAN\" in path:\n",
    "        san = path\n",
    "    res += len(path) - 1\n",
    "    for orbiter in orbits[obj]:\n",
    "        next_path = path + [orbiter]\n",
    "        queue.append([orbiter, next_path])\n",
    "\n",
    "res"
   ]
  },
  {
   "cell_type": "markdown",
   "metadata": {},
   "source": [
    "## Part 2"
   ]
  },
  {
   "cell_type": "code",
   "execution_count": 5,
   "metadata": {
    "execution": {
     "iopub.execute_input": "2024-10-08T09:37:28.967698Z",
     "iopub.status.busy": "2024-10-08T09:37:28.967698Z",
     "iopub.status.idle": "2024-10-08T09:37:28.977145Z",
     "shell.execute_reply": "2024-10-08T09:37:28.977145Z",
     "shell.execute_reply.started": "2024-10-08T09:37:28.967698Z"
    }
   },
   "outputs": [
    {
     "data": {
      "text/plain": [
       "454"
      ]
     },
     "execution_count": 5,
     "metadata": {},
     "output_type": "execute_result"
    }
   ],
   "source": [
    "len(set(you) ^ set(san) ^ set([\"YOU\", \"SAN\"]))"
   ]
  }
 ],
 "metadata": {
  "kernelspec": {
   "display_name": "Python 3 (ipykernel)",
   "language": "python",
   "name": "python3"
  },
  "language_info": {
   "codemirror_mode": {
    "name": "ipython",
    "version": 3
   },
   "file_extension": ".py",
   "mimetype": "text/x-python",
   "name": "python",
   "nbconvert_exporter": "python",
   "pygments_lexer": "ipython3",
   "version": "3.11.4"
  }
 },
 "nbformat": 4,
 "nbformat_minor": 4
}
