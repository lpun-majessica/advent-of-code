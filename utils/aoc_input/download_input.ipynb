{
 "cells": [
  {
   "cell_type": "code",
   "execution_count": 1,
   "id": "2c3a8a8d-e822-4065-afde-464b752f29b5",
   "metadata": {
    "execution": {
     "iopub.execute_input": "2024-10-04T09:43:25.932253Z",
     "iopub.status.busy": "2024-10-04T09:43:25.931254Z",
     "iopub.status.idle": "2024-10-04T09:43:26.076019Z",
     "shell.execute_reply": "2024-10-04T09:43:26.076019Z",
     "shell.execute_reply.started": "2024-10-04T09:43:25.932253Z"
    }
   },
   "outputs": [],
   "source": [
    "import requests\n",
    "from pathlib import Path\n",
    "from typing import Union"
   ]
  },
  {
   "cell_type": "code",
   "execution_count": 2,
   "id": "9a392d3f",
   "metadata": {
    "execution": {
     "iopub.execute_input": "2024-10-04T09:43:26.077547Z",
     "iopub.status.busy": "2024-10-04T09:43:26.077547Z",
     "iopub.status.idle": "2024-10-04T09:43:26.081639Z",
     "shell.execute_reply": "2024-10-04T09:43:26.081639Z",
     "shell.execute_reply.started": "2024-10-04T09:43:26.077547Z"
    },
    "lines_to_next_cell": 1
   },
   "outputs": [],
   "source": [
    "assert_message = \"\"\"\n",
    "Get your session cookie to retrieve the correct input!\n",
    "\n",
    "Go to any AoC input link > `Inspect` > `Network` tab > Refresh the page > Find `Cookie` header > Copy the text after `session=` :)\n",
    "\"\"\".strip()"
   ]
  },
  {
   "cell_type": "code",
   "execution_count": 3,
   "id": "22cf4681-64dc-4892-aae7-3359385a2565",
   "metadata": {
    "execution": {
     "iopub.execute_input": "2024-10-04T09:43:26.083913Z",
     "iopub.status.busy": "2024-10-04T09:43:26.083913Z",
     "iopub.status.idle": "2024-10-04T09:43:26.092545Z",
     "shell.execute_reply": "2024-10-04T09:43:26.091533Z",
     "shell.execute_reply.started": "2024-10-04T09:43:26.083913Z"
    }
   },
   "outputs": [],
   "source": [
    "def download_input(\n",
    "    year: Union[int, str], day: Union[int, str], session_cookie: str = None\n",
    "):\n",
    "    if isinstance(year, int):\n",
    "        year = str(year)\n",
    "\n",
    "    if isinstance(day, int):\n",
    "        day = str(day)\n",
    "    day = day.lstrip(\"0\")\n",
    "\n",
    "    if session_cookie is None:\n",
    "        session_cookie = get_session_cookie()\n",
    "    assert session_cookie, assert_message\n",
    "\n",
    "    s = requests.Session()\n",
    "    r = s.get(\n",
    "        f\"https://adventofcode.com/{year}/day/{day}/input\",\n",
    "        cookies={\"session\": session_cookie},\n",
    "    )\n",
    "    inp = r.text.split(\"\\n\")\n",
    "\n",
    "    return inp[:-1] if not inp[-1] else inp"
   ]
  },
  {
   "cell_type": "code",
   "execution_count": 4,
   "id": "c324a432-cefd-49e3-a80b-258ac39761e6",
   "metadata": {
    "execution": {
     "iopub.execute_input": "2024-10-04T09:43:26.093551Z",
     "iopub.status.busy": "2024-10-04T09:43:26.093551Z",
     "iopub.status.idle": "2024-10-04T09:43:26.100008Z",
     "shell.execute_reply": "2024-10-04T09:43:26.100008Z",
     "shell.execute_reply.started": "2024-10-04T09:43:26.093551Z"
    }
   },
   "outputs": [],
   "source": [
    "def get_session_cookie(\n",
    "    path: Union[Path, str] = \"../utils/aoc_input/session_cookie.txt\"\n",
    "):\n",
    "    try:\n",
    "        with Path(path).open(mode=\"r\") as file:\n",
    "            return file.read()\n",
    "    except FileNotFoundError:\n",
    "        return None"
   ]
  }
 ],
 "metadata": {
  "jupytext": {
   "formats": "ipynb,py:nomarker"
  },
  "kernelspec": {
   "display_name": "Python 3 (ipykernel)",
   "language": "python",
   "name": "python3"
  },
  "language_info": {
   "codemirror_mode": {
    "name": "ipython",
    "version": 3
   },
   "file_extension": ".py",
   "mimetype": "text/x-python",
   "name": "python",
   "nbconvert_exporter": "python",
   "pygments_lexer": "ipython3",
   "version": "3.11.4"
  }
 },
 "nbformat": 4,
 "nbformat_minor": 5
}
