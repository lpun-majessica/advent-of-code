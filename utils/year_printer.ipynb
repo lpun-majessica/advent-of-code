{
 "cells": [
  {
   "cell_type": "code",
   "execution_count": 1,
   "id": "10d7febf-6737-4299-93c6-c25603409d74",
   "metadata": {
    "execution": {
     "iopub.execute_input": "2024-10-08T04:26:17.315182Z",
     "iopub.status.busy": "2024-10-08T04:26:17.315182Z",
     "iopub.status.idle": "2024-10-08T04:26:17.335689Z",
     "shell.execute_reply": "2024-10-08T04:26:17.335689Z",
     "shell.execute_reply.started": "2024-10-08T04:26:17.315182Z"
    }
   },
   "outputs": [],
   "source": [
    "year = \"2019\""
   ]
  },
  {
   "cell_type": "markdown",
   "id": "5d0edafd-3347-4f7e-b14f-a7f68d950c45",
   "metadata": {},
   "source": [
    "# Prep"
   ]
  },
  {
   "cell_type": "code",
   "execution_count": 2,
   "id": "f7931d19-49cb-40dc-904a-7942182ccd12",
   "metadata": {
    "execution": {
     "iopub.execute_input": "2024-10-08T04:26:17.336792Z",
     "iopub.status.busy": "2024-10-08T04:26:17.336792Z",
     "iopub.status.idle": "2024-10-08T04:26:17.389082Z",
     "shell.execute_reply": "2024-10-08T04:26:17.389082Z",
     "shell.execute_reply.started": "2024-10-08T04:26:17.336792Z"
    }
   },
   "outputs": [],
   "source": [
    "import shutil\n",
    "import glob\n",
    "from pathlib import Path"
   ]
  },
  {
   "cell_type": "markdown",
   "id": "2e505f98-a18d-481b-b842-2489530d3312",
   "metadata": {},
   "source": [
    "# Create folder + copy `progress.md` file over"
   ]
  },
  {
   "cell_type": "code",
   "execution_count": 3,
   "id": "c96007d2-7b21-4cda-9f0c-392c0b9958ee",
   "metadata": {
    "execution": {
     "iopub.execute_input": "2024-10-08T04:26:17.396223Z",
     "iopub.status.busy": "2024-10-08T04:26:17.396223Z",
     "iopub.status.idle": "2024-10-08T04:26:17.404011Z",
     "shell.execute_reply": "2024-10-08T04:26:17.404011Z",
     "shell.execute_reply.started": "2024-10-08T04:26:17.396223Z"
    }
   },
   "outputs": [],
   "source": [
    "year_folder = Path(f\"../{year}\")\n",
    "year_folder.mkdir(exist_ok=True)"
   ]
  },
  {
   "cell_type": "code",
   "execution_count": 4,
   "id": "c042cea4-b919-432a-a88e-1f3665460b31",
   "metadata": {
    "execution": {
     "iopub.execute_input": "2024-10-08T04:26:17.405935Z",
     "iopub.status.busy": "2024-10-08T04:26:17.405935Z",
     "iopub.status.idle": "2024-10-08T04:26:17.441724Z",
     "shell.execute_reply": "2024-10-08T04:26:17.441724Z",
     "shell.execute_reply.started": "2024-10-08T04:26:17.405935Z"
    }
   },
   "outputs": [
    {
     "data": {
      "text/plain": [
       "1052"
      ]
     },
     "execution_count": 4,
     "metadata": {},
     "output_type": "execute_result"
    }
   ],
   "source": [
    "shutil.copy(\"./templates/progress.md\", dst=f\"../{year}/README.md\")\n",
    "\n",
    "readme = Path(f\"../{year}/README.md\")\n",
    "content = readme.open(mode=\"r\").read().replace(\"yyyy\", year)\n",
    "readme.open(mode=\"w\").write(content)"
   ]
  },
  {
   "cell_type": "markdown",
   "id": "7fbdb359-1cee-4aa3-9046-45ad7bc74787",
   "metadata": {},
   "source": [
    "# Clone daily folders into {year} folder"
   ]
  },
  {
   "cell_type": "code",
   "execution_count": 5,
   "id": "ec6e8de2-2622-4a73-ba4d-9d53f11e1212",
   "metadata": {
    "execution": {
     "iopub.execute_input": "2024-10-08T04:26:17.441724Z",
     "iopub.status.busy": "2024-10-08T04:26:17.441724Z",
     "iopub.status.idle": "2024-10-08T04:26:17.646006Z",
     "shell.execute_reply": "2024-10-08T04:26:17.646006Z",
     "shell.execute_reply.started": "2024-10-08T04:26:17.441724Z"
    }
   },
   "outputs": [],
   "source": [
    "for i in range(1, 26):\n",
    "    num = str(i)\n",
    "    numz = num.zfill(2)\n",
    "    shutil.copytree(\n",
    "        src=\"./templates/day-xx/\", dst=f\"../{year}\", dirs_exist_ok=True\n",
    "    )\n",
    "\n",
    "    nb = f'../{year}/day-xx.ipynb'\n",
    "    Path(nb).rename(nb.replace(\"xx\", numz))\n",
    "\n",
    "    file = Path(f\"../{year}/day-{numz}.ipynb\")\n",
    "    content = (\n",
    "        file.open(mode=\"r\")\n",
    "        .read()\n",
    "        .replace(\"xx\", numz)\n",
    "        .replace(\"yyyy\", year)\n",
    "        .replace(\"dd\", num)\n",
    "    )\n",
    "    file.open(mode=\"w\").write(content)"
   ]
  }
 ],
 "metadata": {
  "kernelspec": {
   "display_name": "Python 3 (ipykernel)",
   "language": "python",
   "name": "python3"
  },
  "language_info": {
   "codemirror_mode": {
    "name": "ipython",
    "version": 3
   },
   "file_extension": ".py",
   "mimetype": "text/x-python",
   "name": "python",
   "nbconvert_exporter": "python",
   "pygments_lexer": "ipython3",
   "version": "3.11.4"
  }
 },
 "nbformat": 4,
 "nbformat_minor": 5
}
