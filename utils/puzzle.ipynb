{
 "cells": [
  {
   "cell_type": "code",
   "execution_count": null,
   "id": "b6e6c4fd-daf6-49a7-86ea-2d877fab089e",
   "metadata": {},
   "outputs": [],
   "source": [
    "import requests\n",
    "from bs4 import BeautifulSoup\n",
    "from collections import defaultdict\n",
    "from typing import Union\n",
    "from . import session_cookie as SC"
   ]
  },
  {
   "cell_type": "markdown",
   "id": "dd2c4c88-ab64-4e9b-9d8f-35d2b4fe13e1",
   "metadata": {},
   "source": [
    "Get your session cookie to retrieve the correct input!"
   ]
  },
  {
   "cell_type": "markdown",
   "id": "28943272",
   "metadata": {},
   "source": [
    "Go to any AoC input link > `Inspect` > `Network` tab > Refresh the page > Find `Cookie` header > Copy the text after `session=` :)"
   ]
  },
  {
   "cell_type": "code",
   "execution_count": 3,
   "id": "d47aa775-e2a3-4976-a03b-69e08f21d139",
   "metadata": {
    "execution": {
     "iopub.execute_input": "2024-12-18T09:47:24.955463Z",
     "iopub.status.busy": "2024-12-18T09:47:24.955463Z",
     "iopub.status.idle": "2024-12-18T09:47:24.983851Z",
     "shell.execute_reply": "2024-12-18T09:47:24.983851Z",
     "shell.execute_reply.started": "2024-12-18T09:47:24.955463Z"
    }
   },
   "outputs": [],
   "source": [
    "class Puzzle:\n",
    "    def __init__(\n",
    "        self,\n",
    "        year: Union[int, str],\n",
    "        day: Union[int, str],\n",
    "        session_cookie=SC.get_session_cookie(),\n",
    "    ):\n",
    "\n",
    "        msgdy = \"int or str only pls\"\n",
    "        msgsc = \"str only pls\"\n",
    "        assert isinstance(year, int) or isinstance(year, str), msgdy\n",
    "        assert isinstance(day, int) or isinstance(day, str), msgdy\n",
    "        assert isinstance(session_cookie, str), msgsc\n",
    "\n",
    "        self.year = str(year)\n",
    "        self.day = str(day).lstrip(\"0\")\n",
    "        self.session_cookie = session_cookie\n",
    "        self.submission = defaultdict(list)\n",
    "\n",
    "    def load_input(self):\n",
    "        r = requests.get(\n",
    "            f\"https://adventofcode.com/{self.year}/day/{self.day}/input\",\n",
    "            cookies={\"session\": self.session_cookie},\n",
    "        )\n",
    "        inp = r.text.split(\"\\n\")\n",
    "        return inp[:-1] if not inp[-1] else inp\n",
    "\n",
    "    def submit(self, part: Union[int, str], answer: Union[int, str]):\n",
    "        msg = \"int or str only pls\"\n",
    "        assert isinstance(part, int) or isinstance(part, str), msg\n",
    "        assert isinstance(answer, int) or isinstance(answer, str), msg\n",
    "        part = str(part)\n",
    "        answer = str(answer)\n",
    "        self.submission[part].append(answer)\n",
    "\n",
    "        r = requests.post(\n",
    "            f\"https://adventofcode.com/{self.year}/day/{self.day}/answer\",\n",
    "            data={\"level\": part, \"answer\": answer},\n",
    "            cookies={\"session\": self.session_cookie},\n",
    "        )\n",
    "        response = BeautifulSoup(r.text).article.stripped_strings\n",
    "        print(\" \".join(list(response)).replace(\"  \", \" \"))"
   ]
  }
 ],
 "metadata": {
  "jupytext": {
   "formats": "ipynb,py:nomarker"
  },
  "kernelspec": {
   "display_name": "Python 3 (ipykernel)",
   "language": "python",
   "name": "python3"
  },
  "language_info": {
   "codemirror_mode": {
    "name": "ipython",
    "version": 3
   },
   "file_extension": ".py",
   "mimetype": "text/x-python",
   "name": "python",
   "nbconvert_exporter": "python",
   "pygments_lexer": "ipython3",
   "version": "3.11.4"
  }
 },
 "nbformat": 4,
 "nbformat_minor": 5
}
