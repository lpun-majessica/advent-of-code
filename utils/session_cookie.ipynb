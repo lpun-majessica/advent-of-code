{
 "cells": [
  {
   "cell_type": "code",
   "execution_count": 2,
   "id": "8e0717d2-001c-4303-946d-5d86ec2434fc",
   "metadata": {
    "execution": {
     "iopub.execute_input": "2024-12-18T09:45:24.386623Z",
     "iopub.status.busy": "2024-12-18T09:45:24.386623Z",
     "iopub.status.idle": "2024-12-18T09:45:24.401084Z",
     "shell.execute_reply": "2024-12-18T09:45:24.399508Z",
     "shell.execute_reply.started": "2024-12-18T09:45:24.386623Z"
    }
   },
   "outputs": [],
   "source": [
    "from pathlib import Path\n",
    "from typing import Union"
   ]
  },
  {
   "cell_type": "code",
   "execution_count": 6,
   "id": "4d85bbf3-4768-4ec8-97e2-4d5c1b7da76c",
   "metadata": {
    "execution": {
     "iopub.execute_input": "2024-12-18T09:55:06.290731Z",
     "iopub.status.busy": "2024-12-18T09:55:06.290731Z",
     "iopub.status.idle": "2024-12-18T09:55:06.368644Z",
     "shell.execute_reply": "2024-12-18T09:55:06.367275Z",
     "shell.execute_reply.started": "2024-12-18T09:55:06.290731Z"
    }
   },
   "outputs": [
    {
     "ename": "NameError",
     "evalue": "name '__file__' is not defined",
     "output_type": "error",
     "traceback": [
      "\u001b[1;31m---------------------------------------------------------------------------\u001b[0m",
      "\u001b[1;31mNameError\u001b[0m                                 Traceback (most recent call last)",
      "Cell \u001b[1;32mIn[6], line 2\u001b[0m\n\u001b[0;32m      1\u001b[0m \u001b[38;5;28;01mdef\u001b[39;00m \u001b[38;5;21mget_session_cookie\u001b[39m(\n\u001b[1;32m----> 2\u001b[0m         path: Union[Path, \u001b[38;5;28mstr\u001b[39m] \u001b[38;5;241m=\u001b[39m Path(\u001b[38;5;18m__file__\u001b[39m)\u001b[38;5;241m/\u001b[39m\u001b[38;5;124m\"\u001b[39m\u001b[38;5;124msession_cookie.txt\u001b[39m\u001b[38;5;124m\"\u001b[39m\n\u001b[0;32m      3\u001b[0m     ):\n\u001b[0;32m      4\u001b[0m     \u001b[38;5;28;01mwith\u001b[39;00m Path(path)\u001b[38;5;241m.\u001b[39mopen(mode\u001b[38;5;241m=\u001b[39m\u001b[38;5;124m\"\u001b[39m\u001b[38;5;124mr\u001b[39m\u001b[38;5;124m\"\u001b[39m) \u001b[38;5;28;01mas\u001b[39;00m file:\n\u001b[0;32m      5\u001b[0m         \u001b[38;5;28;01mreturn\u001b[39;00m file\u001b[38;5;241m.\u001b[39mread()\n",
      "\u001b[1;31mNameError\u001b[0m: name '__file__' is not defined"
     ]
    }
   ],
   "source": [
    "def get_session_cookie(\n",
    "        path: Union[Path, str] = Path(__file__).parent/\"session_cookie.txt\"\n",
    "    ):\n",
    "    with Path(path).open(mode=\"r\") as file:\n",
    "        return file.read()"
   ]
  },
  {
   "cell_type": "code",
   "execution_count": null,
   "id": "96103d22-1ebc-41df-9a25-bad008fd7cef",
   "metadata": {},
   "outputs": [],
   "source": [
    "# to-do: update session cookie"
   ]
  }
 ],
 "metadata": {
  "jupytext": {
   "formats": "ipynb,auto:nomarker"
  },
  "kernelspec": {
   "display_name": "Python 3 (ipykernel)",
   "language": "python",
   "name": "python3"
  },
  "language_info": {
   "codemirror_mode": {
    "name": "ipython",
    "version": 3
   },
   "file_extension": ".py",
   "mimetype": "text/x-python",
   "name": "python",
   "nbconvert_exporter": "python",
   "pygments_lexer": "ipython3",
   "version": "3.11.4"
  }
 },
 "nbformat": 4,
 "nbformat_minor": 5
}
