{
 "cells": [
  {
   "cell_type": "code",
   "execution_count": null,
   "id": "02e563b8",
   "metadata": {},
   "outputs": [],
   "source": [
    "import json\n",
    "from pathlib import Path\n",
    "from selenium import webdriver\n",
    "from typing import Union"
   ]
  },
  {
   "cell_type": "code",
   "execution_count": 1,
   "id": "4cbddfe6-5216-477f-91f6-9129d74c4e3a",
   "metadata": {
    "execution": {
     "iopub.execute_input": "2024-12-19T10:01:37.801289Z",
     "iopub.status.busy": "2024-12-19T10:01:37.801289Z",
     "iopub.status.idle": "2024-12-19T10:01:38.151479Z",
     "shell.execute_reply": "2024-12-19T10:01:38.149460Z",
     "shell.execute_reply.started": "2024-12-19T10:01:37.801289Z"
    }
   },
   "outputs": [],
   "source": [
    "from getpass import getpass"
   ]
  },
  {
   "cell_type": "markdown",
   "id": "4c4648aa",
   "metadata": {},
   "source": [
    "to-do: hash creds"
   ]
  },
  {
   "cell_type": "code",
   "execution_count": null,
   "id": "4d85bbf3-4768-4ec8-97e2-4d5c1b7da76c",
   "metadata": {},
   "outputs": [],
   "source": [
    "def get_session_cookie(\n",
    "        path: Union[Path, str] = Path(__file__).parent/\"session_cookie.txt\"\n",
    "    ):\n",
    "    with Path(path).open(mode=\"r\") as file:\n",
    "        return file.read()"
   ]
  },
  {
   "cell_type": "code",
   "execution_count": null,
   "id": "acce7105",
   "metadata": {},
   "outputs": [],
   "source": [
    "def update_session_cookie(site: str):\n",
    "    accepted = (\"github\", \"google\", \"twitter\", \"reddit\")\n",
    "    site = site.lower().strip().replace(\" \", \"\")\n",
    "    assert site in accepted, f\"You can only login from one of the following: {accepted}\"\n",
    "\n",
    "    data = _get_data(site=site)\n",
    "    _overwrite(logs=data)"
   ]
  },
  {
   "cell_type": "code",
   "execution_count": null,
   "id": "e2b8fc09",
   "metadata": {},
   "outputs": [],
   "source": [
    "def _get_data(site: str, log_type: str = \"performance\"):\n",
    "    login = \"/2024/auth/login\"\n",
    "    auth_url = f\"/auth/{site}\"\n",
    "    username = input('Account: ')\n",
    "    password = getpass('Enter password: ')\n",
    "\n",
    "    options = webdriver.ChromeOptions()\n",
    "    options.add_argument(\"headless\")\n",
    "    options.add_experimental_option(\"detach\", True)\n",
    "    options.add_argument(\"--enable-logging\")\n",
    "    options.set_capability(\"goog:loggingPrefs\", {\"performance\": \"ALL\"})\n",
    "\n",
    "    driver = webdriver.Chrome(options=options)\n",
    "    driver.get(\"https://adventofcode.com/\")\n",
    "\n",
    "    driver.find_element(by=\"xpath\", value=f'//a[@href=\"{login}\"]').click()\n",
    "    driver.find_element(by=\"xpath\", value=f'//a[@href=\"{auth_url}\"]').click()\n",
    "\n",
    "    if site == \"github\":\n",
    "        driver.find_element(\"id\", \"login_field\").send_keys(username)\n",
    "        driver.find_element(\"id\", \"password\").send_keys(password)\n",
    "        driver.find_element(\"name\", \"commit\").click()\n",
    "\n",
    "        totp = input(\"Please enter your TOTP from authentication app: \")\n",
    "        driver.find_element(\"id\", \"app_totp\").send_keys(totp)\n",
    "    driver.refresh()\n",
    "\n",
    "    logs = driver.get_log(log_type)\n",
    "    driver.close()\n",
    "    return logs"
   ]
  },
  {
   "cell_type": "code",
   "execution_count": 3,
   "id": "895fa99c-95c9-4271-a054-589a28115340",
   "metadata": {
    "execution": {
     "iopub.execute_input": "2024-12-19T10:01:54.854743Z",
     "iopub.status.busy": "2024-12-19T10:01:54.854743Z",
     "iopub.status.idle": "2024-12-19T10:01:54.886736Z",
     "shell.execute_reply": "2024-12-19T10:01:54.885720Z",
     "shell.execute_reply.started": "2024-12-19T10:01:54.854743Z"
    }
   },
   "outputs": [],
   "source": [
    "def _overwrite(logs: list, file_path: Union[str, Path] = None):\n",
    "    updated = False\n",
    "    for log in logs:\n",
    "        try:\n",
    "            message_obj = json.loads(log.get(\"message\"))\n",
    "            message = message_obj.get(\"message\")\n",
    "            method = message.get(\"method\")\n",
    "            if method == \"Network.requestWillBeSentExtraInfo\":\n",
    "                cookies = message.get(\"params\").get(\"associatedCookies\")\n",
    "                for cookie in cookies:\n",
    "                    cookie_name = cookie[\"cookie\"][\"name\"]\n",
    "                    if cookie_name == \"session\":\n",
    "                        session_cookie = cookie[\"cookie\"][\"value\"]\n",
    "                        if not file_path:\n",
    "                            file_path = (\n",
    "                                Path(\"./wip.ipynb\").parent / \"session_cookie.txt\"\n",
    "                            )\n",
    "                        Path(file_path).write_text(session_cookie)\n",
    "                        updated = True\n",
    "                        break\n",
    "        except Exception as e:\n",
    "            print(e)\n",
    "        if updated:\n",
    "            break\n",
    "\n",
    "    if not updated:\n",
    "        print(\"Cannot find session cookie :(\")\n",
    "    else:\n",
    "        print(\"Done!\")"
   ]
  }
 ],
 "metadata": {
  "jupytext": {
   "formats": "ipynb,py:nomarker"
  },
  "kernelspec": {
   "display_name": "Python 3 (ipykernel)",
   "language": "python",
   "name": "python3"
  },
  "language_info": {
   "codemirror_mode": {
    "name": "ipython",
    "version": 3
   },
   "file_extension": ".py",
   "mimetype": "text/x-python",
   "name": "python",
   "nbconvert_exporter": "python",
   "pygments_lexer": "ipython3",
   "version": "3.11.4"
  }
 },
 "nbformat": 4,
 "nbformat_minor": 5
}
