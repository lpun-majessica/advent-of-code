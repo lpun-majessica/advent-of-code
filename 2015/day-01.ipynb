{
 "cells": [
  {
   "cell_type": "markdown",
   "metadata": {},
   "source": [
    "[Advent of Code - Day 01](https://adventofcode.com/2015/day/1)"
   ]
  },
  {
   "cell_type": "markdown",
   "metadata": {},
   "source": [
    "# Import input"
   ]
  },
  {
   "cell_type": "code",
   "execution_count": 1,
   "metadata": {
    "execution": {
     "iopub.execute_input": "2024-10-23T05:57:02.060227Z",
     "iopub.status.busy": "2024-10-23T05:57:02.060227Z",
     "iopub.status.idle": "2024-10-23T05:57:03.313051Z",
     "shell.execute_reply": "2024-10-23T05:57:03.310619Z",
     "shell.execute_reply.started": "2024-10-23T05:57:02.060227Z"
    }
   },
   "outputs": [],
   "source": [
    "import sys\n",
    "\n",
    "sys.path.insert(0, \"../\")\n",
    "from utils import aoc_input as inp\n",
    "\n",
    "in_ = inp.download_input(year=\"2015\", day=\"01\")[0]"
   ]
  },
  {
   "cell_type": "code",
   "execution_count": 2,
   "metadata": {
    "execution": {
     "iopub.execute_input": "2024-10-23T05:57:03.314789Z",
     "iopub.status.busy": "2024-10-23T05:57:03.314789Z",
     "iopub.status.idle": "2024-10-23T05:57:03.332698Z",
     "shell.execute_reply": "2024-10-23T05:57:03.330628Z",
     "shell.execute_reply.started": "2024-10-23T05:57:03.314789Z"
    }
   },
   "outputs": [
    {
     "data": {
      "text/plain": [
       "'()((('"
      ]
     },
     "execution_count": 2,
     "metadata": {},
     "output_type": "execute_result"
    }
   ],
   "source": [
    "in_[:5]"
   ]
  },
  {
   "cell_type": "markdown",
   "metadata": {},
   "source": [
    "# Solulu"
   ]
  },
  {
   "cell_type": "markdown",
   "metadata": {},
   "source": [
    "## Part 1"
   ]
  },
  {
   "cell_type": "code",
   "execution_count": 3,
   "metadata": {
    "execution": {
     "iopub.execute_input": "2024-10-23T05:57:03.334337Z",
     "iopub.status.busy": "2024-10-23T05:57:03.334337Z",
     "iopub.status.idle": "2024-10-23T05:57:03.355883Z",
     "shell.execute_reply": "2024-10-23T05:57:03.355883Z",
     "shell.execute_reply.started": "2024-10-23T05:57:03.334337Z"
    }
   },
   "outputs": [
    {
     "data": {
      "text/plain": [
       "138"
      ]
     },
     "execution_count": 3,
     "metadata": {},
     "output_type": "execute_result"
    }
   ],
   "source": [
    "floor = 0\n",
    "\n",
    "for instruction in in_:\n",
    "    if instruction == \"(\":\n",
    "        floor += 1\n",
    "    elif instruction == \")\":\n",
    "        floor -= 1\n",
    "\n",
    "floor"
   ]
  },
  {
   "cell_type": "markdown",
   "metadata": {},
   "source": [
    "## Part 2"
   ]
  },
  {
   "cell_type": "code",
   "execution_count": 4,
   "metadata": {
    "execution": {
     "iopub.execute_input": "2024-10-23T05:57:03.358217Z",
     "iopub.status.busy": "2024-10-23T05:57:03.358217Z",
     "iopub.status.idle": "2024-10-23T05:57:03.375083Z",
     "shell.execute_reply": "2024-10-23T05:57:03.374376Z",
     "shell.execute_reply.started": "2024-10-23T05:57:03.358217Z"
    }
   },
   "outputs": [
    {
     "data": {
      "text/plain": [
       "1771"
      ]
     },
     "execution_count": 4,
     "metadata": {},
     "output_type": "execute_result"
    }
   ],
   "source": [
    "floor = 0\n",
    "\n",
    "for i, instruction in enumerate(in_, start=1):\n",
    "    if instruction == \"(\":\n",
    "        floor += 1\n",
    "    elif instruction == \")\":\n",
    "        floor -= 1\n",
    "\n",
    "    if floor < 0:\n",
    "        break\n",
    "\n",
    "i"
   ]
  }
 ],
 "metadata": {
  "kernelspec": {
   "display_name": "Python 3 (ipykernel)",
   "language": "python",
   "name": "python3"
  },
  "language_info": {
   "codemirror_mode": {
    "name": "ipython",
    "version": 3
   },
   "file_extension": ".py",
   "mimetype": "text/x-python",
   "name": "python",
   "nbconvert_exporter": "python",
   "pygments_lexer": "ipython3",
   "version": "3.11.4"
  }
 },
 "nbformat": 4,
 "nbformat_minor": 4
}
