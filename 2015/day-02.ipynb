{
 "cells": [
  {
   "cell_type": "markdown",
   "metadata": {},
   "source": [
    "[Advent of Code - Day 02](https://adventofcode.com/2015/day/2)"
   ]
  },
  {
   "cell_type": "markdown",
   "metadata": {},
   "source": [
    "# Import input"
   ]
  },
  {
   "cell_type": "code",
   "execution_count": 1,
   "metadata": {
    "execution": {
     "iopub.execute_input": "2024-10-23T06:09:42.185421Z",
     "iopub.status.busy": "2024-10-23T06:09:42.185421Z",
     "iopub.status.idle": "2024-10-23T06:09:43.320600Z",
     "shell.execute_reply": "2024-10-23T06:09:43.320600Z",
     "shell.execute_reply.started": "2024-10-23T06:09:42.185421Z"
    }
   },
   "outputs": [],
   "source": [
    "import sys\n",
    "from itertools import combinations\n",
    "from math import prod\n",
    "\n",
    "sys.path.insert(0, \"../\")\n",
    "from utils import puzzle\n",
    "\n",
    "P = puzzle.Puzzle(year=\"2015\", day=\"02\")\n",
"INPUT = P.load_input()"
   ]
  },
  {
   "cell_type": "code",
   "execution_count": 2,
   "metadata": {
    "execution": {
     "iopub.execute_input": "2024-10-23T06:09:43.320600Z",
     "iopub.status.busy": "2024-10-23T06:09:43.320600Z",
     "iopub.status.idle": "2024-10-23T06:09:43.342002Z",
     "shell.execute_reply": "2024-10-23T06:09:43.340363Z",
     "shell.execute_reply.started": "2024-10-23T06:09:43.320600Z"
    }
   },
   "outputs": [
    {
     "data": {
      "text/plain": [
       "['4x23x21', '22x29x19', '11x4x11', '8x10x5', '24x18x16']"
      ]
     },
     "execution_count": 2,
     "metadata": {},
     "output_type": "execute_result"
    }
   ],
   "source": [
    "INPUT[:5]"
   ]
  },
  {
   "cell_type": "markdown",
   "metadata": {},
   "source": [
    "# Solulu"
   ]
  },
  {
   "cell_type": "markdown",
   "metadata": {},
   "source": [
    "## Part 1"
   ]
  },
  {
   "cell_type": "code",
   "execution_count": 3,
   "metadata": {
    "execution": {
     "iopub.execute_input": "2024-10-23T06:09:43.344109Z",
     "iopub.status.busy": "2024-10-23T06:09:43.344109Z",
     "iopub.status.idle": "2024-10-23T06:09:43.369966Z",
     "shell.execute_reply": "2024-10-23T06:09:43.369966Z",
     "shell.execute_reply.started": "2024-10-23T06:09:43.344109Z"
    }
   },
   "outputs": [
    {
     "data": {
      "text/plain": [
       "1598415"
      ]
     },
     "execution_count": 3,
     "metadata": {},
     "output_type": "execute_result"
    }
   ],
   "source": [
    "res = 0\n",
    "\n",
    "for present in INPUT:\n",
    "    l, w, h = map(int, present.split(\"x\"))\n",
    "    dimensions = [l, w, h]\n",
    "    surface_areas = [dim1 * dim2 for dim1, dim2 in combinations(dimensions, 2)]\n",
    "    res += 2 * sum(surface_areas) + min(surface_areas)\n",
    "\n",
    "res"
   ]
  },
  {
   "cell_type": "markdown",
   "metadata": {},
   "source": [
    "## Part 2"
   ]
  },
  {
   "cell_type": "code",
   "execution_count": 4,
   "metadata": {
    "execution": {
     "iopub.execute_input": "2024-10-23T06:09:43.369966Z",
     "iopub.status.busy": "2024-10-23T06:09:43.369966Z",
     "iopub.status.idle": "2024-10-23T06:09:43.390343Z",
     "shell.execute_reply": "2024-10-23T06:09:43.390343Z",
     "shell.execute_reply.started": "2024-10-23T06:09:43.369966Z"
    }
   },
   "outputs": [
    {
     "data": {
      "text/plain": [
       "3812909"
      ]
     },
     "execution_count": 4,
     "metadata": {},
     "output_type": "execute_result"
    }
   ],
   "source": [
    "res = 0\n",
    "\n",
    "for present in INPUT:\n",
    "    l, w, h = map(int, present.split(\"x\"))\n",
    "    dimensions = [l, w, h]\n",
    "    perimeters = [dim1 + dim2 for dim1, dim2 in combinations(dimensions, 2)]\n",
    "    res += 2 * min(perimeters) + prod(dimensions)\n",
    "\n",
    "res"
   ]
  }
 ],
 "metadata": {
  "kernelspec": {
   "display_name": "Python 3 (ipykernel)",
   "language": "python",
   "name": "python3"
  },
  "language_info": {
   "codemirror_mode": {
    "name": "ipython",
    "version": 3
   },
   "file_extension": ".py",
   "mimetype": "text/x-python",
   "name": "python",
   "nbconvert_exporter": "python",
   "pygments_lexer": "ipython3",
   "version": "3.11.4"
  }
 },
 "nbformat": 4,
 "nbformat_minor": 4
}
