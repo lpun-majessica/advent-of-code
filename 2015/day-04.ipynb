{
 "cells": [
  {
   "cell_type": "markdown",
   "metadata": {},
   "source": [
    "[Advent of Code - Day 04](https://adventofcode.com/2015/day/4)"
   ]
  },
  {
   "cell_type": "markdown",
   "metadata": {},
   "source": [
    "# Import input"
   ]
  },
  {
   "cell_type": "code",
   "execution_count": 1,
   "metadata": {
    "execution": {
     "iopub.execute_input": "2024-10-23T07:17:28.973569Z",
     "iopub.status.busy": "2024-10-23T07:17:28.972224Z",
     "iopub.status.idle": "2024-10-23T07:17:32.373687Z",
     "shell.execute_reply": "2024-10-23T07:17:32.373687Z",
     "shell.execute_reply.started": "2024-10-23T07:17:28.973569Z"
    }
   },
   "outputs": [],
   "source": [
    "import sys\n",
    "from hashlib import md5\n",
    "\n",
    "sys.path.insert(0, \"../\")\n",
    "from utils import aoc_input as inp\n",
    "\n",
    "INPUT = inp.download_input(year=\"2015\", day=\"04\")[0]"
   ]
  },
  {
   "cell_type": "code",
   "execution_count": 2,
   "metadata": {
    "execution": {
     "iopub.execute_input": "2024-10-23T07:17:32.373687Z",
     "iopub.status.busy": "2024-10-23T07:17:32.373687Z",
     "iopub.status.idle": "2024-10-23T07:17:32.394008Z",
     "shell.execute_reply": "2024-10-23T07:17:32.394008Z",
     "shell.execute_reply.started": "2024-10-23T07:17:32.373687Z"
    }
   },
   "outputs": [
    {
     "data": {
      "text/plain": [
       "'ckczp'"
      ]
     },
     "execution_count": 2,
     "metadata": {},
     "output_type": "execute_result"
    }
   ],
   "source": [
    "INPUT[:5]"
   ]
  },
  {
   "cell_type": "markdown",
   "metadata": {},
   "source": [
    "# Solulu"
   ]
  },
  {
   "cell_type": "code",
   "execution_count": 3,
   "metadata": {
    "execution": {
     "iopub.execute_input": "2024-10-23T07:17:32.398103Z",
     "iopub.status.busy": "2024-10-23T07:17:32.398103Z",
     "iopub.status.idle": "2024-10-23T07:17:32.458231Z",
     "shell.execute_reply": "2024-10-23T07:17:32.458231Z",
     "shell.execute_reply.started": "2024-10-23T07:17:32.398103Z"
    }
   },
   "outputs": [],
   "source": [
    "def solve(total_zeros: int) -> int:\n",
    "    res = 0\n",
    "\n",
    "    while True:\n",
    "        inp = f\"{INPUT}{res}\"\n",
    "        hashed = md5(inp.encode()).hexdigest()\n",
    "\n",
    "        if hashed.startswith(\"0\" * total_zeros):\n",
    "            break\n",
    "        else:\n",
    "            res += 1\n",
    "    return res"
   ]
  },
  {
   "cell_type": "markdown",
   "metadata": {},
   "source": [
    "## Part 1"
   ]
  },
  {
   "cell_type": "code",
   "execution_count": 4,
   "metadata": {
    "execution": {
     "iopub.execute_input": "2024-10-23T07:17:32.461822Z",
     "iopub.status.busy": "2024-10-23T07:17:32.458231Z",
     "iopub.status.idle": "2024-10-23T07:17:32.750723Z",
     "shell.execute_reply": "2024-10-23T07:17:32.750723Z",
     "shell.execute_reply.started": "2024-10-23T07:17:32.461822Z"
    }
   },
   "outputs": [
    {
     "data": {
      "text/plain": [
       "117946"
      ]
     },
     "execution_count": 4,
     "metadata": {},
     "output_type": "execute_result"
    }
   ],
   "source": [
    "solve(total_zeros=5)"
   ]
  },
  {
   "cell_type": "markdown",
   "metadata": {},
   "source": [
    "## Part 2"
   ]
  },
  {
   "cell_type": "code",
   "execution_count": null,
   "metadata": {
    "execution": {
     "iopub.execute_input": "2024-10-23T07:17:32.750723Z",
     "iopub.status.busy": "2024-10-23T07:17:32.750723Z"
    }
   },
   "outputs": [],
   "source": [
    "solve(total_zeros=6)"
   ]
  }
 ],
 "metadata": {
  "kernelspec": {
   "display_name": "Python 3 (ipykernel)",
   "language": "python",
   "name": "python3"
  },
  "language_info": {
   "codemirror_mode": {
    "name": "ipython",
    "version": 3
   },
   "file_extension": ".py",
   "mimetype": "text/x-python",
   "name": "python",
   "nbconvert_exporter": "python",
   "pygments_lexer": "ipython3",
   "version": "3.11.4"
  }
 },
 "nbformat": 4,
 "nbformat_minor": 4
}
