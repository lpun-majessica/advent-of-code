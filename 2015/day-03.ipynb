{
 "cells": [
  {
   "cell_type": "markdown",
   "metadata": {},
   "source": [
    "[Advent of Code - Day 03](https://adventofcode.com/2015/day/3)"
   ]
  },
  {
   "cell_type": "markdown",
   "metadata": {},
   "source": [
    "# Import input"
   ]
  },
  {
   "cell_type": "code",
   "execution_count": 1,
   "metadata": {
    "execution": {
     "iopub.execute_input": "2024-10-23T06:50:36.309865Z",
     "iopub.status.busy": "2024-10-23T06:50:36.309865Z",
     "iopub.status.idle": "2024-10-23T06:50:37.522956Z",
     "shell.execute_reply": "2024-10-23T06:50:37.522956Z",
     "shell.execute_reply.started": "2024-10-23T06:50:36.309865Z"
    }
   },
   "outputs": [],
   "source": [
    "import sys\n",
    "\n",
    "sys.path.insert(0, \"../\")\n",
    "from utils import puzzle\n",
    "\n",
    "P = puzzle.Puzzle(year=\"2015\", day=\"03\")\n",
"INPUT = P.load_input()[0]"
   ]
  },
  {
   "cell_type": "code",
   "execution_count": 2,
   "metadata": {
    "execution": {
     "iopub.execute_input": "2024-10-23T06:50:37.527045Z",
     "iopub.status.busy": "2024-10-23T06:50:37.522956Z",
     "iopub.status.idle": "2024-10-23T06:50:37.546395Z",
     "shell.execute_reply": "2024-10-23T06:50:37.545584Z",
     "shell.execute_reply.started": "2024-10-23T06:50:37.527045Z"
    }
   },
   "outputs": [
    {
     "data": {
      "text/plain": [
       "'^^<<v'"
      ]
     },
     "execution_count": 2,
     "metadata": {},
     "output_type": "execute_result"
    }
   ],
   "source": [
    "INPUT[:5]"
   ]
  },
  {
   "cell_type": "markdown",
   "metadata": {},
   "source": [
    "# Solulu"
   ]
  },
  {
   "cell_type": "code",
   "execution_count": 3,
   "metadata": {
    "execution": {
     "iopub.execute_input": "2024-10-23T06:50:37.548538Z",
     "iopub.status.busy": "2024-10-23T06:50:37.548538Z",
     "iopub.status.idle": "2024-10-23T06:50:37.568658Z",
     "shell.execute_reply": "2024-10-23T06:50:37.568658Z",
     "shell.execute_reply.started": "2024-10-23T06:50:37.548538Z"
    }
   },
   "outputs": [],
   "source": [
    "def solve(total_santa: int) -> int:\n",
    "    n = len(INPUT)\n",
    "    delivered = set()\n",
    "    directions = {\n",
    "        \"^\": (0, -1),\n",
    "        \"v\": (0, +1),\n",
    "        \"<\": (-1, 0),\n",
    "        \">\": (+1, 0),\n",
    "    }\n",
    "\n",
    "    for santa in range(total_santa):\n",
    "        x, y = 0, 0\n",
    "        delivered.add((x, y))\n",
    "        for i in range(santa, n, total_santa):\n",
    "            xx, yy = directions[INPUT[i]]\n",
    "            x += xx\n",
    "            y += yy\n",
    "            delivered.add((x, y))\n",
    "\n",
    "    return len(delivered)"
   ]
  },
  {
   "cell_type": "markdown",
   "metadata": {},
   "source": [
    "## Part 1"
   ]
  },
  {
   "cell_type": "code",
   "execution_count": 4,
   "metadata": {
    "execution": {
     "iopub.execute_input": "2024-10-23T06:50:37.568658Z",
     "iopub.status.busy": "2024-10-23T06:50:37.568658Z",
     "iopub.status.idle": "2024-10-23T06:50:37.581591Z",
     "shell.execute_reply": "2024-10-23T06:50:37.581591Z",
     "shell.execute_reply.started": "2024-10-23T06:50:37.568658Z"
    }
   },
   "outputs": [
    {
     "data": {
      "text/plain": [
       "2565"
      ]
     },
     "execution_count": 4,
     "metadata": {},
     "output_type": "execute_result"
    }
   ],
   "source": [
    "solve(total_santa=1)"
   ]
  },
  {
   "cell_type": "markdown",
   "metadata": {},
   "source": [
    "## Part 2"
   ]
  },
  {
   "cell_type": "code",
   "execution_count": 5,
   "metadata": {
    "execution": {
     "iopub.execute_input": "2024-10-23T06:50:37.581591Z",
     "iopub.status.busy": "2024-10-23T06:50:37.581591Z",
     "iopub.status.idle": "2024-10-23T06:50:37.598214Z",
     "shell.execute_reply": "2024-10-23T06:50:37.598214Z",
     "shell.execute_reply.started": "2024-10-23T06:50:37.581591Z"
    }
   },
   "outputs": [
    {
     "data": {
      "text/plain": [
       "2639"
      ]
     },
     "execution_count": 5,
     "metadata": {},
     "output_type": "execute_result"
    }
   ],
   "source": [
    "solve(total_santa=2)"
   ]
  }
 ],
 "metadata": {
  "kernelspec": {
   "display_name": "Python 3 (ipykernel)",
   "language": "python",
   "name": "python3"
  },
  "language_info": {
   "codemirror_mode": {
    "name": "ipython",
    "version": 3
   },
   "file_extension": ".py",
   "mimetype": "text/x-python",
   "name": "python",
   "nbconvert_exporter": "python",
   "pygments_lexer": "ipython3",
   "version": "3.11.4"
  }
 },
 "nbformat": 4,
 "nbformat_minor": 4
}
