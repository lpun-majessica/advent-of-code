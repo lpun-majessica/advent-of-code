{
 "cells": [
  {
   "cell_type": "markdown",
   "metadata": {},
   "source": [
    "[Advent of Code - Day 06](https://adventofcode.com/2015/day/6)"
   ]
  },
  {
   "cell_type": "markdown",
   "metadata": {},
   "source": [
    "# Import input"
   ]
  },
  {
   "cell_type": "code",
   "execution_count": 3,
   "metadata": {
    "execution": {
     "iopub.execute_input": "2024-10-23T07:45:44.420158Z",
     "iopub.status.busy": "2024-10-23T07:45:44.420158Z",
     "iopub.status.idle": "2024-10-23T07:45:49.823727Z",
     "shell.execute_reply": "2024-10-23T07:45:49.823727Z",
     "shell.execute_reply.started": "2024-10-23T07:45:44.420158Z"
    }
   },
   "outputs": [],
   "source": [
    "import sys\n",
    "from collections import defaultdict\n",
    "from itertools import product\n",
    "\n",
    "sys.path.insert(0, \"../\")\n",
    "from utils import aoc_input as inp\n",
    "\n",
    "in_ = inp.download_input(year=\"2015\", day=\"06\")"
   ]
  },
  {
   "cell_type": "code",
   "execution_count": 2,
   "metadata": {
    "execution": {
     "iopub.execute_input": "2024-10-23T07:45:06.003754Z",
     "iopub.status.busy": "2024-10-23T07:45:06.003754Z",
     "iopub.status.idle": "2024-10-23T07:45:06.028504Z",
     "shell.execute_reply": "2024-10-23T07:45:06.028504Z",
     "shell.execute_reply.started": "2024-10-23T07:45:06.003754Z"
    }
   },
   "outputs": [
    {
     "data": {
      "text/plain": [
       "['turn on 489,959 through 759,964',\n",
       " 'turn off 820,516 through 871,914',\n",
       " 'turn off 427,423 through 929,502',\n",
       " 'turn on 774,14 through 977,877',\n",
       " 'turn on 410,146 through 864,337']"
      ]
     },
     "execution_count": 2,
     "metadata": {},
     "output_type": "execute_result"
    }
   ],
   "source": [
    "in_[:5]"
   ]
  },
  {
   "cell_type": "markdown",
   "metadata": {},
   "source": [
    "# Solulu"
   ]
  },
  {
   "cell_type": "code",
   "execution_count": 18,
   "metadata": {
    "execution": {
     "iopub.execute_input": "2024-10-23T08:10:04.041044Z",
     "iopub.status.busy": "2024-10-23T08:10:04.041044Z",
     "iopub.status.idle": "2024-10-23T08:10:04.049275Z",
     "shell.execute_reply": "2024-10-23T08:10:04.049275Z",
     "shell.execute_reply.started": "2024-10-23T08:10:04.041044Z"
    }
   },
   "outputs": [],
   "source": [
    "n = 1_000\n",
    "ON, OFF, TOGGLE = \"on\", \"off\", \"toggle\"\n",
    "\n",
    "\n",
    "def reset_lights(n):\n",
    "    lights = dict()\n",
    "    for position in product(range(n), range(n)):\n",
    "        lights[position] = 0\n",
    "    return lights"
   ]
  },
  {
   "cell_type": "markdown",
   "metadata": {},
   "source": [
    "## Part 1"
   ]
  },
  {
   "cell_type": "code",
   "execution_count": 20,
   "metadata": {
    "execution": {
     "iopub.execute_input": "2024-10-23T08:10:22.167185Z",
     "iopub.status.busy": "2024-10-23T08:10:22.167185Z",
     "iopub.status.idle": "2024-10-23T08:10:22.186596Z",
     "shell.execute_reply": "2024-10-23T08:10:22.184866Z",
     "shell.execute_reply.started": "2024-10-23T08:10:22.167185Z"
    }
   },
   "outputs": [],
   "source": [
    "def follow1(instruction: str, start: set, end: set):\n",
    "    global lights\n",
    "    x_start, y_start = map(int, start.split(\",\"))\n",
    "    x_end, y_end = map(int, end.split(\",\"))\n",
    "\n",
    "    for position in product(range(x_start, x_end + 1), range(y_start, y_end + 1)):\n",
    "        if instruction == ON:\n",
    "            lights[position] = 1\n",
    "        elif instruction == OFF:\n",
    "            lights[position] = 0\n",
    "        elif instruction == TOGGLE:\n",
    "            light = lights[position]\n",
    "            lights[position] = 0 if light else 1"
   ]
  },
  {
   "cell_type": "code",
   "execution_count": 21,
   "metadata": {
    "execution": {
     "iopub.execute_input": "2024-10-23T08:10:23.280873Z",
     "iopub.status.busy": "2024-10-23T08:10:23.280873Z",
     "iopub.status.idle": "2024-10-23T08:10:37.163480Z",
     "shell.execute_reply": "2024-10-23T08:10:37.163480Z",
     "shell.execute_reply.started": "2024-10-23T08:10:23.280873Z"
    }
   },
   "outputs": [
    {
     "data": {
      "text/plain": [
       "569999"
      ]
     },
     "execution_count": 21,
     "metadata": {},
     "output_type": "execute_result"
    }
   ],
   "source": [
    "lights = reset_lights(n)\n",
    "\n",
    "for line in in_:\n",
    "    if TOGGLE in line:\n",
    "        _, start, _, end = line.split()\n",
    "        instruction = TOGGLE\n",
    "    else:\n",
    "        _, instruction, start, _, end = line.split()\n",
    "    follow1(instruction, start, end)\n",
    "\n",
    "res = 0\n",
    "for light_on in lights.values():\n",
    "    res += 1 if light_on else 0\n",
    "\n",
    "res"
   ]
  },
  {
   "cell_type": "markdown",
   "metadata": {},
   "source": [
    "## Part 2"
   ]
  },
  {
   "cell_type": "code",
   "execution_count": 22,
   "metadata": {
    "execution": {
     "iopub.execute_input": "2024-10-23T08:10:40.095810Z",
     "iopub.status.busy": "2024-10-23T08:10:40.095810Z",
     "iopub.status.idle": "2024-10-23T08:10:40.115971Z",
     "shell.execute_reply": "2024-10-23T08:10:40.114807Z",
     "shell.execute_reply.started": "2024-10-23T08:10:40.095810Z"
    }
   },
   "outputs": [],
   "source": [
    "def follow2(instruction: str, start: set, end: set):\n",
    "    global lights\n",
    "    x_start, y_start = map(int, start.split(\",\"))\n",
    "    x_end, y_end = map(int, end.split(\",\"))\n",
    "\n",
    "    for position in product(range(x_start, x_end + 1), range(y_start, y_end + 1)):\n",
    "        if instruction == ON:\n",
    "            lights[position] += 1\n",
    "        elif instruction == OFF and lights[position] > 0:\n",
    "            lights[position] -= 1\n",
    "        elif instruction == TOGGLE:\n",
    "            lights[position] += 2"
   ]
  },
  {
   "cell_type": "code",
   "execution_count": 23,
   "metadata": {
    "execution": {
     "iopub.execute_input": "2024-10-23T08:10:56.542444Z",
     "iopub.status.busy": "2024-10-23T08:10:56.542444Z",
     "iopub.status.idle": "2024-10-23T08:11:13.832262Z",
     "shell.execute_reply": "2024-10-23T08:11:13.832262Z",
     "shell.execute_reply.started": "2024-10-23T08:10:56.542444Z"
    }
   },
   "outputs": [
    {
     "data": {
      "text/plain": [
       "17836115"
      ]
     },
     "execution_count": 23,
     "metadata": {},
     "output_type": "execute_result"
    }
   ],
   "source": [
    "lights = reset_lights(n)\n",
    "\n",
    "for line in in_:\n",
    "    if TOGGLE in line:\n",
    "        _, start, _, end = line.split()\n",
    "        instruction = TOGGLE\n",
    "    else:\n",
    "        _, instruction, start, _, end = line.split()\n",
    "    follow2(instruction, start, end)\n",
    "\n",
    "res = 0\n",
    "for brightness in lights.values():\n",
    "    res += brightness\n",
    "\n",
    "res"
   ]
  }
 ],
 "metadata": {
  "kernelspec": {
   "display_name": "Python 3 (ipykernel)",
   "language": "python",
   "name": "python3"
  },
  "language_info": {
   "codemirror_mode": {
    "name": "ipython",
    "version": 3
   },
   "file_extension": ".py",
   "mimetype": "text/x-python",
   "name": "python",
   "nbconvert_exporter": "python",
   "pygments_lexer": "ipython3",
   "version": "3.11.4"
  }
 },
 "nbformat": 4,
 "nbformat_minor": 4
}
