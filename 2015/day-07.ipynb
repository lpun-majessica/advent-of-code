{
 "cells": [
  {
   "cell_type": "markdown",
   "metadata": {},
   "source": [
    "[Advent of Code - Day 07](https://adventofcode.com/2015/day/7)"
   ]
  },
  {
   "cell_type": "markdown",
   "metadata": {},
   "source": [
    "# Import input"
   ]
  },
  {
   "cell_type": "code",
   "execution_count": 1,
   "metadata": {
    "execution": {
     "iopub.execute_input": "2024-10-31T08:35:08.639920Z",
     "iopub.status.busy": "2024-10-31T08:35:08.638920Z",
     "iopub.status.idle": "2024-10-31T08:35:11.507094Z",
     "shell.execute_reply": "2024-10-31T08:35:11.506451Z",
     "shell.execute_reply.started": "2024-10-31T08:35:08.639920Z"
    }
   },
   "outputs": [],
   "source": [
    "import sys\n",
    "\n",
    "sys.path.insert(0, \"../\")\n",
    "from utils import aoc_input as inp\n",
    "\n",
    "INPUT = inp.download_input(year=\"2015\", day=\"07\")"
   ]
  },
  {
   "cell_type": "code",
   "execution_count": 4,
   "metadata": {
    "execution": {
     "iopub.execute_input": "2024-10-31T08:36:13.567438Z",
     "iopub.status.busy": "2024-10-31T08:36:13.567438Z",
     "iopub.status.idle": "2024-10-31T08:36:13.578236Z",
     "shell.execute_reply": "2024-10-31T08:36:13.576706Z",
     "shell.execute_reply.started": "2024-10-31T08:36:13.567438Z"
    }
   },
   "outputs": [
    {
     "data": {
      "text/plain": [
       "['bn RSHIFT 2 -> bo',\n",
       " 'lf RSHIFT 1 -> ly',\n",
       " 'fo RSHIFT 3 -> fq',\n",
       " 'cj OR cp -> cq',\n",
       " 'fo OR fz -> ga']"
      ]
     },
     "execution_count": 4,
     "metadata": {},
     "output_type": "execute_result"
    }
   ],
   "source": [
    "INPUT[:5]"
   ]
  },
  {
   "cell_type": "markdown",
   "metadata": {},
   "source": [
    "# Solulu"
   ]
  },
  {
   "cell_type": "code",
   "execution_count": 16,
   "metadata": {
    "execution": {
     "iopub.execute_input": "2024-10-31T08:50:28.329913Z",
     "iopub.status.busy": "2024-10-31T08:50:28.328915Z",
     "iopub.status.idle": "2024-10-31T08:50:28.341422Z",
     "shell.execute_reply": "2024-10-31T08:50:28.339404Z",
     "shell.execute_reply.started": "2024-10-31T08:50:28.328915Z"
    }
   },
   "outputs": [
    {
     "data": {
      "text/plain": [
       "['123']"
      ]
     },
     "execution_count": 16,
     "metadata": {},
     "output_type": "execute_result"
    }
   ],
   "source": [
    "'123'.split()"
   ]
  },
  {
   "cell_type": "code",
   "execution_count": 26,
   "metadata": {
    "execution": {
     "iopub.execute_input": "2024-10-31T09:02:13.205478Z",
     "iopub.status.busy": "2024-10-31T09:02:13.204479Z",
     "iopub.status.idle": "2024-10-31T09:02:13.212942Z",
     "shell.execute_reply": "2024-10-31T09:02:13.211933Z",
     "shell.execute_reply.started": "2024-10-31T09:02:13.205478Z"
    }
   },
   "outputs": [],
   "source": [
    "logics = dict()\n",
    "for line in INPUT:\n",
    "    logic, wire = line.split(' -> ')\n",
    "    logics[wire]= logic"
   ]
  },
  {
   "cell_type": "markdown",
   "metadata": {},
   "source": [
    "## Part 1"
   ]
  },
  {
   "cell_type": "code",
   "execution_count": 43,
   "metadata": {
    "execution": {
     "iopub.execute_input": "2024-10-31T09:18:17.600252Z",
     "iopub.status.busy": "2024-10-31T09:18:17.599252Z",
     "iopub.status.idle": "2024-10-31T09:18:17.616656Z",
     "shell.execute_reply": "2024-10-31T09:18:17.615529Z",
     "shell.execute_reply.started": "2024-10-31T09:18:17.600252Z"
    }
   },
   "outputs": [],
   "source": []
  },
  {
   "cell_type": "markdown",
   "metadata": {
    "jp-MarkdownHeadingCollapsed": true
   },
   "source": [
    "## Part 2"
   ]
  }
 ],
 "metadata": {
  "kernelspec": {
   "display_name": "Python 3 (ipykernel)",
   "language": "python",
   "name": "python3"
  },
  "language_info": {
   "codemirror_mode": {
    "name": "ipython",
    "version": 3
   },
   "file_extension": ".py",
   "mimetype": "text/x-python",
   "name": "python",
   "nbconvert_exporter": "python",
   "pygments_lexer": "ipython3",
   "version": "3.11.4"
  }
 },
 "nbformat": 4,
 "nbformat_minor": 4
}
