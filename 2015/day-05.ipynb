{
 "cells": [
  {
   "cell_type": "markdown",
   "metadata": {},
   "source": [
    "[Advent of Code - Day 05](https://adventofcode.com/2015/day/5)"
   ]
  },
  {
   "cell_type": "markdown",
   "metadata": {},
   "source": [
    "# Import input"
   ]
  },
  {
   "cell_type": "code",
   "execution_count": 1,
   "metadata": {
    "execution": {
     "iopub.execute_input": "2024-10-23T07:38:22.635523Z",
     "iopub.status.busy": "2024-10-23T07:38:22.632307Z",
     "iopub.status.idle": "2024-10-23T07:38:23.897865Z",
     "shell.execute_reply": "2024-10-23T07:38:23.897865Z",
     "shell.execute_reply.started": "2024-10-23T07:38:22.635523Z"
    }
   },
   "outputs": [],
   "source": [
    "import sys\n",
    "\n",
    "sys.path.insert(0, \"../\")\n",
    "from utils import puzzle\n",
    "\n",
    "P = puzzle.Puzzle(year=\"2015\", day=\"05\")\n",
"INPUT = P.load_input()"
   ]
  },
  {
   "cell_type": "code",
   "execution_count": 2,
   "metadata": {
    "execution": {
     "iopub.execute_input": "2024-10-23T07:38:23.901061Z",
     "iopub.status.busy": "2024-10-23T07:38:23.901061Z",
     "iopub.status.idle": "2024-10-23T07:38:23.917904Z",
     "shell.execute_reply": "2024-10-23T07:38:23.917904Z",
     "shell.execute_reply.started": "2024-10-23T07:38:23.901061Z"
    }
   },
   "outputs": [
    {
     "data": {
      "text/plain": [
       "['zgsnvdmlfuplrubt',\n",
       " 'vlhagaovgqjmgvwq',\n",
       " 'ffumlmqwfcsyqpss',\n",
       " 'zztdcqzqddaazdjp',\n",
       " 'eavfzjajkjesnlsb']"
      ]
     },
     "execution_count": 2,
     "metadata": {},
     "output_type": "execute_result"
    }
   ],
   "source": [
    "INPUT[:5]"
   ]
  },
  {
   "cell_type": "markdown",
   "metadata": {},
   "source": [
    "# Solulu"
   ]
  },
  {
   "cell_type": "code",
   "execution_count": 3,
   "metadata": {
    "execution": {
     "iopub.execute_input": "2024-10-23T07:38:23.917904Z",
     "iopub.status.busy": "2024-10-23T07:38:23.917904Z",
     "iopub.status.idle": "2024-10-23T07:38:23.940544Z",
     "shell.execute_reply": "2024-10-23T07:38:23.940544Z",
     "shell.execute_reply.started": "2024-10-23T07:38:23.917904Z"
    }
   },
   "outputs": [],
   "source": [
    "banned_strings = [\"ab\", \"cd\", \"pq\", \"xy\"]\n",
    "vowels = \"aiueo\""
   ]
  },
  {
   "cell_type": "markdown",
   "metadata": {},
   "source": [
    "## Part 1"
   ]
  },
  {
   "cell_type": "code",
   "execution_count": 4,
   "metadata": {
    "execution": {
     "iopub.execute_input": "2024-10-23T07:38:23.943575Z",
     "iopub.status.busy": "2024-10-23T07:38:23.943575Z",
     "iopub.status.idle": "2024-10-23T07:38:23.970177Z",
     "shell.execute_reply": "2024-10-23T07:38:23.964165Z",
     "shell.execute_reply.started": "2024-10-23T07:38:23.943575Z"
    }
   },
   "outputs": [],
   "source": [
    "def is_nice1(string: str) -> bool:\n",
    "    n = len(string)\n",
    "    nice = False\n",
    "    duplicated_char = False\n",
    "    vowel_count = 0\n",
    "    no_banned_string = not any(\n",
    "        [banned_string in string for banned_string in banned_strings]\n",
    "    )\n",
    "\n",
    "    for i in range(n):\n",
    "        prev = string[i - 1] if i > 0 else None\n",
    "        curr = string[i]\n",
    "        if curr in vowels:\n",
    "            vowel_count += 1\n",
    "        if curr == prev:\n",
    "            duplicated_char = True\n",
    "\n",
    "    if vowel_count >= 3 and duplicated_char and no_banned_string:\n",
    "        nice = True\n",
    "\n",
    "    return nice"
   ]
  },
  {
   "cell_type": "code",
   "execution_count": 5,
   "metadata": {
    "execution": {
     "iopub.execute_input": "2024-10-23T07:38:23.970177Z",
     "iopub.status.busy": "2024-10-23T07:38:23.970177Z",
     "iopub.status.idle": "2024-10-23T07:38:23.997400Z",
     "shell.execute_reply": "2024-10-23T07:38:23.996123Z",
     "shell.execute_reply.started": "2024-10-23T07:38:23.970177Z"
    }
   },
   "outputs": [
    {
     "data": {
      "text/plain": [
       "238"
      ]
     },
     "execution_count": 5,
     "metadata": {},
     "output_type": "execute_result"
    }
   ],
   "source": [
    "res = 0\n",
    "for string in INPUT:\n",
    "    if is_nice1(string):\n",
    "        res += 1\n",
    "\n",
    "res"
   ]
  },
  {
   "cell_type": "markdown",
   "metadata": {},
   "source": [
    "## Part 2"
   ]
  },
  {
   "cell_type": "code",
   "execution_count": 6,
   "metadata": {
    "execution": {
     "iopub.execute_input": "2024-10-23T07:38:24.001931Z",
     "iopub.status.busy": "2024-10-23T07:38:24.001931Z",
     "iopub.status.idle": "2024-10-23T07:38:24.017839Z",
     "shell.execute_reply": "2024-10-23T07:38:24.016327Z",
     "shell.execute_reply.started": "2024-10-23T07:38:24.001931Z"
    }
   },
   "outputs": [],
   "source": [
    "def is_nice2(string: str) -> bool:\n",
    "    n = len(string)\n",
    "    nice = False\n",
    "    two_letters_twice = False\n",
    "    sandwich = False\n",
    "\n",
    "    for i in range(2, n):\n",
    "        prev = string[i - 2]\n",
    "        mid = string[i - 1]\n",
    "        curr = string[i]\n",
    "        if string.count(mid + curr) >= 2:\n",
    "            two_letters_twice = True\n",
    "        if curr == prev:\n",
    "            sandwich = True\n",
    "\n",
    "    if two_letters_twice and sandwich:\n",
    "        nice = True\n",
    "\n",
    "    return nice"
   ]
  },
  {
   "cell_type": "code",
   "execution_count": 7,
   "metadata": {
    "execution": {
     "iopub.execute_input": "2024-10-23T07:38:24.017839Z",
     "iopub.status.busy": "2024-10-23T07:38:24.017839Z",
     "iopub.status.idle": "2024-10-23T07:38:24.045717Z",
     "shell.execute_reply": "2024-10-23T07:38:24.045717Z",
     "shell.execute_reply.started": "2024-10-23T07:38:24.017839Z"
    }
   },
   "outputs": [
    {
     "data": {
      "text/plain": [
       "69"
      ]
     },
     "execution_count": 7,
     "metadata": {},
     "output_type": "execute_result"
    }
   ],
   "source": [
    "res = 0\n",
    "for string in INPUT:\n",
    "    if is_nice2(string):\n",
    "        res += 1\n",
    "\n",
    "res"
   ]
  }
 ],
 "metadata": {
  "kernelspec": {
   "display_name": "Python 3 (ipykernel)",
   "language": "python",
   "name": "python3"
  },
  "language_info": {
   "codemirror_mode": {
    "name": "ipython",
    "version": 3
   },
   "file_extension": ".py",
   "mimetype": "text/x-python",
   "name": "python",
   "nbconvert_exporter": "python",
   "pygments_lexer": "ipython3",
   "version": "3.11.4"
  }
 },
 "nbformat": 4,
 "nbformat_minor": 4
}
