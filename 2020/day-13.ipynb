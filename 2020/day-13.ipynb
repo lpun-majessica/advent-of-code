{
 "cells": [
  {
   "cell_type": "markdown",
   "metadata": {},
   "source": [
    "[Advent of Code - Day 13](https://adventofcode.com/2020/day/13)"
   ]
  },
  {
   "cell_type": "markdown",
   "metadata": {},
   "source": [
    "# Import input"
   ]
  },
  {
   "cell_type": "code",
   "execution_count": 1,
   "metadata": {
    "execution": {
     "iopub.execute_input": "2024-11-19T09:09:47.413602Z",
     "iopub.status.busy": "2024-11-19T09:09:47.411856Z",
     "iopub.status.idle": "2024-11-19T09:09:50.183721Z",
     "shell.execute_reply": "2024-11-19T09:09:50.183721Z",
     "shell.execute_reply.started": "2024-11-19T09:09:47.413602Z"
    }
   },
   "outputs": [],
   "source": [
    "import sys\n",
    "from math import ceil, lcm\n",
    "\n",
    "sys.path.insert(0, \"../\")\n",
    "from utils import aoc_input as inp\n",
    "\n",
    "INPUT = inp.download_input(year=\"2020\", day=\"13\")"
   ]
  },
  {
   "cell_type": "markdown",
   "metadata": {},
   "source": [
    "# Solulu"
   ]
  },
  {
   "cell_type": "code",
   "execution_count": 2,
   "metadata": {
    "execution": {
     "iopub.execute_input": "2024-11-19T09:09:50.186733Z",
     "iopub.status.busy": "2024-11-19T09:09:50.186733Z",
     "iopub.status.idle": "2024-11-19T09:09:50.197568Z",
     "shell.execute_reply": "2024-11-19T09:09:50.195696Z",
     "shell.execute_reply.started": "2024-11-19T09:09:50.186733Z"
    }
   },
   "outputs": [],
   "source": [
    "ARRIVE = int(INPUT[0])"
   ]
  },
  {
   "cell_type": "markdown",
   "metadata": {},
   "source": [
    "## Part 1"
   ]
  },
  {
   "cell_type": "code",
   "execution_count": 3,
   "metadata": {
    "execution": {
     "iopub.execute_input": "2024-11-19T09:09:50.198197Z",
     "iopub.status.busy": "2024-11-19T09:09:50.198197Z",
     "iopub.status.idle": "2024-11-19T09:09:50.228472Z",
     "shell.execute_reply": "2024-11-19T09:09:50.227470Z",
     "shell.execute_reply.started": "2024-11-19T09:09:50.198197Z"
    }
   },
   "outputs": [
    {
     "data": {
      "text/plain": [
       "153"
      ]
     },
     "execution_count": 3,
     "metadata": {},
     "output_type": "execute_result"
    }
   ],
   "source": [
    "IDs = list(map(int, [i for i in INPUT[1].split(',') if i != 'x']))\n",
    "depart = [ID*ceil(ARRIVE / ID) for ID in IDs]\n",
    "i = depart.index(min(depart))\n",
    "\n",
    "res = IDs[i] * (min(depart) - ARRIVE)\n",
    "res"
   ]
  },
  {
   "cell_type": "markdown",
   "metadata": {},
   "source": [
    "## Part 2\n",
    "\n",
    "Ref: [Chinese remainder theorem - Sieving](https://en.wikipedia.org/wiki/Chinese_remainder_theorem#Computation)"
   ]
  },
  {
   "cell_type": "code",
   "execution_count": 4,
   "metadata": {
    "execution": {
     "iopub.execute_input": "2024-11-19T09:09:50.230831Z",
     "iopub.status.busy": "2024-11-19T09:09:50.229538Z",
     "iopub.status.idle": "2024-11-19T09:09:50.241472Z",
     "shell.execute_reply": "2024-11-19T09:09:50.241472Z",
     "shell.execute_reply.started": "2024-11-19T09:09:50.230831Z"
    }
   },
   "outputs": [
    {
     "data": {
      "text/plain": [
       "471793476184394"
      ]
     },
     "execution_count": 4,
     "metadata": {},
     "output_type": "execute_result"
    }
   ],
   "source": [
    "IDs = [(int(i), int(i)-mod) for mod, i in enumerate(INPUT[1].split(',')) if i != 'x']\n",
    "n = len(IDs)\n",
    "mul,res = IDs[0]\n",
    "\n",
    "for i in range(1, n):\n",
    "    curr_id, curr_mod = IDs[i]\n",
    "    \n",
    "    while (res - curr_mod) % curr_id != 0:\n",
    "        res+= mul\n",
    "    mul = lcm(mul, curr_id)    \n",
    "\n",
    "res"
   ]
  }
 ],
 "metadata": {
  "kernelspec": {
   "display_name": "Python 3 (ipykernel)",
   "language": "python",
   "name": "python3"
  },
  "language_info": {
   "codemirror_mode": {
    "name": "ipython",
    "version": 3
   },
   "file_extension": ".py",
   "mimetype": "text/x-python",
   "name": "python",
   "nbconvert_exporter": "python",
   "pygments_lexer": "ipython3",
   "version": "3.11.4"
  }
 },
 "nbformat": 4,
 "nbformat_minor": 4
}
