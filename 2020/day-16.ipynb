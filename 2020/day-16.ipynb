{
 "cells": [
  {
   "cell_type": "markdown",
   "metadata": {},
   "source": [
    "[Advent of Code - Day 16](https://adventofcode.com/2020/day/16)"
   ]
  },
  {
   "cell_type": "markdown",
   "metadata": {},
   "source": [
    "# Import input"
   ]
  },
  {
   "cell_type": "code",
   "execution_count": 1,
   "metadata": {
    "execution": {
     "iopub.execute_input": "2024-11-22T06:19:27.188745Z",
     "iopub.status.busy": "2024-11-22T06:19:27.188745Z",
     "iopub.status.idle": "2024-11-22T06:19:28.274295Z",
     "shell.execute_reply": "2024-11-22T06:19:28.274295Z",
     "shell.execute_reply.started": "2024-11-22T06:19:27.188745Z"
    }
   },
   "outputs": [],
   "source": [
    "import sys\n",
    "from collections import defaultdict\n",
    "\n",
    "sys.path.insert(0, \"../\")\n",
    "from utils import aoc_input as inp\n",
    "\n",
    "INPUT = inp.download_input(year=\"2020\", day=\"16\")"
   ]
  },
  {
   "cell_type": "code",
   "execution_count": 2,
   "metadata": {
    "execution": {
     "iopub.execute_input": "2024-11-22T06:19:28.276808Z",
     "iopub.status.busy": "2024-11-22T06:19:28.276808Z",
     "iopub.status.idle": "2024-11-22T06:19:28.294572Z",
     "shell.execute_reply": "2024-11-22T06:19:28.292782Z",
     "shell.execute_reply.started": "2024-11-22T06:19:28.276808Z"
    }
   },
   "outputs": [
    {
     "data": {
      "text/plain": [
       "['departure location: 36-626 or 651-973',\n",
       " 'departure station: 38-134 or 142-966',\n",
       " 'departure platform: 32-465 or 489-972',\n",
       " 'departure track: 40-420 or 446-973',\n",
       " 'departure date: 38-724 or 738-961']"
      ]
     },
     "execution_count": 2,
     "metadata": {},
     "output_type": "execute_result"
    }
   ],
   "source": [
    "INPUT[:5]"
   ]
  },
  {
   "cell_type": "markdown",
   "metadata": {},
   "source": [
    "# Solulu"
   ]
  },
  {
   "cell_type": "code",
   "execution_count": 3,
   "metadata": {
    "execution": {
     "iopub.execute_input": "2024-11-22T06:19:28.295816Z",
     "iopub.status.busy": "2024-11-22T06:19:28.295816Z",
     "iopub.status.idle": "2024-11-22T06:19:28.316783Z",
     "shell.execute_reply": "2024-11-22T06:19:28.315177Z",
     "shell.execute_reply.started": "2024-11-22T06:19:28.295816Z"
    }
   },
   "outputs": [],
   "source": [
    "blanks = [i for i, line in enumerate(INPUT) if not line]\n",
    "RULES = INPUT[: blanks[0]]\n",
    "MINE = list(map(int, INPUT[blanks[0] + 2].split(\",\")))\n",
    "OTHERS = [list(map(int, line.split(\",\"))) for line in INPUT[blanks[1] + 2 :]]"
   ]
  },
  {
   "cell_type": "markdown",
   "metadata": {},
   "source": [
    "## Part 1"
   ]
  },
  {
   "cell_type": "code",
   "execution_count": 4,
   "metadata": {
    "execution": {
     "iopub.execute_input": "2024-11-22T06:19:28.316783Z",
     "iopub.status.busy": "2024-11-22T06:19:28.316783Z",
     "iopub.status.idle": "2024-11-22T06:19:28.340156Z",
     "shell.execute_reply": "2024-11-22T06:19:28.339105Z",
     "shell.execute_reply.started": "2024-11-22T06:19:28.316783Z"
    }
   },
   "outputs": [
    {
     "data": {
      "text/plain": [
       "30869"
      ]
     },
     "execution_count": 4,
     "metadata": {},
     "output_type": "execute_result"
    }
   ],
   "source": [
    "fields = defaultdict(set)\n",
    "valids = set()\n",
    "invalids = set()\n",
    "res = 0\n",
    "\n",
    "for rule in RULES:\n",
    "    field, _ = rule.split(\": \")\n",
    "    ranges = _.split(\" or \")\n",
    "\n",
    "    for r in ranges:\n",
    "        left, right = map(int, r.split(\"-\"))\n",
    "        for num in range(left, right + 1):\n",
    "            fields[field].add(num)\n",
    "    valids |= fields[field]\n",
    "\n",
    "for i, ticket in enumerate(OTHERS):\n",
    "    for num in ticket:\n",
    "        if num not in valids:\n",
    "            res += num\n",
    "            invalids.add(i)\n",
    "            break\n",
    "\n",
    "res"
   ]
  },
  {
   "cell_type": "markdown",
   "metadata": {},
   "source": [
    "## Part 2"
   ]
  },
  {
   "cell_type": "code",
   "execution_count": 5,
   "metadata": {
    "execution": {
     "iopub.execute_input": "2024-11-22T06:19:28.342114Z",
     "iopub.status.busy": "2024-11-22T06:19:28.342114Z",
     "iopub.status.idle": "2024-11-22T06:19:28.370182Z",
     "shell.execute_reply": "2024-11-22T06:19:28.370182Z",
     "shell.execute_reply.started": "2024-11-22T06:19:28.342114Z"
    }
   },
   "outputs": [],
   "source": [
    "field_orders = {i: set(fields) for i in range(len(MINE))}\n",
    "count = 0\n",
    "\n",
    "for itick, ticket in enumerate(OTHERS):\n",
    "    if itick in invalids:\n",
    "        count += 1\n",
    "        continue\n",
    "    for i, num in enumerate(ticket):\n",
    "        possible = set(fields)\n",
    "        for field, valid_nums in fields.items():\n",
    "            if num not in valid_nums:\n",
    "                possible.remove(field)\n",
    "\n",
    "        field_orders[i] &= possible"
   ]
  },
  {
   "cell_type": "code",
   "execution_count": 6,
   "metadata": {
    "execution": {
     "iopub.execute_input": "2024-11-22T06:19:28.370182Z",
     "iopub.status.busy": "2024-11-22T06:19:28.370182Z",
     "iopub.status.idle": "2024-11-22T06:19:28.378199Z",
     "shell.execute_reply": "2024-11-22T06:19:28.378199Z",
     "shell.execute_reply.started": "2024-11-22T06:19:28.370182Z"
    }
   },
   "outputs": [
    {
     "data": {
      "text/plain": [
       "4381476149273"
      ]
     },
     "execution_count": 6,
     "metadata": {},
     "output_type": "execute_result"
    }
   ],
   "source": [
    "DEPARTURE = \"departure\"\n",
    "taken = set()\n",
    "orders = sorted(field_orders, key=lambda k: len(field_orders[k]))\n",
    "res = 1\n",
    "\n",
    "for order in orders:\n",
    "    field_orders[order] -= taken\n",
    "    taken |= field_orders[order]\n",
    "\n",
    "for i, field in field_orders.items():\n",
    "    field = list(field)[0]\n",
    "    if DEPARTURE in field:\n",
    "        res *= MINE[i]\n",
    "\n",
    "res"
   ]
  }
 ],
 "metadata": {
  "kernelspec": {
   "display_name": "Python 3 (ipykernel)",
   "language": "python",
   "name": "python3"
  },
  "language_info": {
   "codemirror_mode": {
    "name": "ipython",
    "version": 3
   },
   "file_extension": ".py",
   "mimetype": "text/x-python",
   "name": "python",
   "nbconvert_exporter": "python",
   "pygments_lexer": "ipython3",
   "version": "3.11.4"
  }
 },
 "nbformat": 4,
 "nbformat_minor": 4
}
