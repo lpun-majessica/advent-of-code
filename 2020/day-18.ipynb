{
 "cells": [
  {
   "cell_type": "markdown",
   "metadata": {},
   "source": [
    "[Advent of Code - Day 18](https://adventofcode.com/2020/day/18)"
   ]
  },
  {
   "cell_type": "markdown",
   "metadata": {},
   "source": [
    "# Import input"
   ]
  },
  {
   "cell_type": "code",
   "execution_count": 1,
   "metadata": {
    "execution": {
     "iopub.execute_input": "2024-11-22T08:59:21.168211Z",
     "iopub.status.busy": "2024-11-22T08:59:21.168211Z",
     "iopub.status.idle": "2024-11-22T08:59:22.138721Z",
     "shell.execute_reply": "2024-11-22T08:59:22.138089Z",
     "shell.execute_reply.started": "2024-11-22T08:59:21.168211Z"
    }
   },
   "outputs": [],
   "source": [
    "import sys\n",
    "\n",
    "sys.path.insert(0, \"../\")\n",
    "from utils import puzzle\n",
    "\n",
    "P = puzzle.Puzzle(year=\"2020\", day=\"18\")\n",
"INPUT = P.load_input()"
   ]
  },
  {
   "cell_type": "code",
   "execution_count": 2,
   "metadata": {
    "execution": {
     "iopub.execute_input": "2024-11-22T08:59:22.140744Z",
     "iopub.status.busy": "2024-11-22T08:59:22.140744Z",
     "iopub.status.idle": "2024-11-22T08:59:22.154719Z",
     "shell.execute_reply": "2024-11-22T08:59:22.152996Z",
     "shell.execute_reply.started": "2024-11-22T08:59:22.140744Z"
    }
   },
   "outputs": [
    {
     "data": {
      "text/plain": [
       "['3 * (2 + (9 * 2 * 2 + 8) * (7 * 6 * 7 * 3) * (3 * 9 * 7) * (6 * 6)) * 9 * 8 + 6',\n",
       " '6 + 4 + 6 * 2 + 5 * (8 + 5 + 5 + (8 * 7 + 2 + 6 * 5 * 4))',\n",
       " '9 + 3 + 5 + 3 * (5 + (8 + 7 * 8 * 8) * (5 + 9 + 9 * 9 * 4)) * (6 * (8 * 5 * 6 * 8 + 4 * 5))',\n",
       " '4 * ((8 * 6 + 3 * 3 * 9 * 8) + (2 * 3 * 4 + 9 * 2 * 3) + 4)',\n",
       " '4 * 9 + (6 + 4) * 6']"
      ]
     },
     "execution_count": 2,
     "metadata": {},
     "output_type": "execute_result"
    }
   ],
   "source": [
    "INPUT[:5]"
   ]
  },
  {
   "cell_type": "markdown",
   "metadata": {},
   "source": [
    "# Solulu"
   ]
  },
  {
   "cell_type": "code",
   "execution_count": 3,
   "metadata": {
    "execution": {
     "iopub.execute_input": "2024-11-22T08:59:22.156997Z",
     "iopub.status.busy": "2024-11-22T08:59:22.155872Z",
     "iopub.status.idle": "2024-11-22T08:59:22.171664Z",
     "shell.execute_reply": "2024-11-22T08:59:22.171268Z",
     "shell.execute_reply.started": "2024-11-22T08:59:22.156997Z"
    }
   },
   "outputs": [],
   "source": [
    "MULT, ADD = \"*\", \"+\"\n",
    "OPEN, CLOSE = \"(\", \")\""
   ]
  },
  {
   "cell_type": "markdown",
   "metadata": {},
   "source": [
    "## Part 1"
   ]
  },
  {
   "cell_type": "code",
   "execution_count": 4,
   "metadata": {
    "execution": {
     "iopub.execute_input": "2024-11-22T08:59:22.171664Z",
     "iopub.status.busy": "2024-11-22T08:59:22.171664Z",
     "iopub.status.idle": "2024-11-22T08:59:22.186242Z",
     "shell.execute_reply": "2024-11-22T08:59:22.185207Z",
     "shell.execute_reply.started": "2024-11-22T08:59:22.171664Z"
    }
   },
   "outputs": [],
   "source": [
    "def mathing(expr: str) -> int:\n",
    "    expr = expr.strip(OPEN).strip(CLOSE).split()\n",
    "    res = int(expr[0])\n",
    "    ops = None\n",
    "\n",
    "    for char in expr[1:]:\n",
    "        if char.isdigit():\n",
    "            num = int(char)\n",
    "            if ops == ADD:\n",
    "                res += num\n",
    "            elif ops == MULT:\n",
    "                res *= num\n",
    "\n",
    "        elif char in (MULT, ADD):\n",
    "            ops = char\n",
    "\n",
    "    return res"
   ]
  },
  {
   "cell_type": "code",
   "execution_count": 5,
   "metadata": {
    "execution": {
     "iopub.execute_input": "2024-11-22T08:59:22.187243Z",
     "iopub.status.busy": "2024-11-22T08:59:22.187243Z",
     "iopub.status.idle": "2024-11-22T08:59:22.209140Z",
     "shell.execute_reply": "2024-11-22T08:59:22.209140Z",
     "shell.execute_reply.started": "2024-11-22T08:59:22.187243Z"
    }
   },
   "outputs": [
    {
     "data": {
      "text/plain": [
       "45283905029161"
      ]
     },
     "execution_count": 5,
     "metadata": {},
     "output_type": "execute_result"
    }
   ],
   "source": [
    "res = 0\n",
    "\n",
    "for expr in INPUT:\n",
    "    subexpr = \"\"\n",
    "\n",
    "    while OPEN in expr:\n",
    "        new_expr = expr\n",
    "        for char in expr:\n",
    "            subexpr += char\n",
    "            if char == OPEN:\n",
    "                subexpr = subexpr[-1]\n",
    "            elif char == CLOSE and OPEN in subexpr:\n",
    "                new_expr = new_expr.replace(subexpr, str(mathing(subexpr)))\n",
    "                subexpr = \"\"\n",
    "        expr = new_expr\n",
    "\n",
    "    res += mathing(expr)\n",
    "\n",
    "res"
   ]
  },
  {
   "cell_type": "markdown",
   "metadata": {},
   "source": [
    "## Part 2"
   ]
  },
  {
   "cell_type": "code",
   "execution_count": 6,
   "metadata": {
    "execution": {
     "iopub.execute_input": "2024-11-22T08:59:22.209140Z",
     "iopub.status.busy": "2024-11-22T08:59:22.209140Z",
     "iopub.status.idle": "2024-11-22T08:59:22.219109Z",
     "shell.execute_reply": "2024-11-22T08:59:22.219109Z",
     "shell.execute_reply.started": "2024-11-22T08:59:22.209140Z"
    }
   },
   "outputs": [],
   "source": [
    "def mathing(expr: str) -> int:\n",
    "    expr = expr.strip(OPEN).strip(CLOSE).split(MULT)\n",
    "    res = 1\n",
    "\n",
    "    for s in expr:\n",
    "        res *= eval(s)\n",
    "\n",
    "    return res"
   ]
  },
  {
   "cell_type": "code",
   "execution_count": 7,
   "metadata": {
    "execution": {
     "iopub.execute_input": "2024-11-22T08:59:22.219109Z",
     "iopub.status.busy": "2024-11-22T08:59:22.219109Z",
     "iopub.status.idle": "2024-11-22T08:59:22.259537Z",
     "shell.execute_reply": "2024-11-22T08:59:22.259537Z",
     "shell.execute_reply.started": "2024-11-22T08:59:22.219109Z"
    }
   },
   "outputs": [
    {
     "data": {
      "text/plain": [
       "216975281211165"
      ]
     },
     "execution_count": 7,
     "metadata": {},
     "output_type": "execute_result"
    }
   ],
   "source": [
    "res = 0\n",
    "\n",
    "for expr in INPUT:\n",
    "    subexpr = \"\"\n",
    "\n",
    "    while OPEN in expr:\n",
    "        new_expr = expr\n",
    "        for char in expr:\n",
    "            subexpr += char\n",
    "            if char == OPEN:\n",
    "                subexpr = subexpr[-1]\n",
    "            elif char == CLOSE and OPEN in subexpr:\n",
    "                new_expr = new_expr.replace(subexpr, str(mathing(subexpr)))\n",
    "                subexpr = \"\"\n",
    "        expr = new_expr\n",
    "\n",
    "    res += mathing(expr)\n",
    "\n",
    "res"
   ]
  }
 ],
 "metadata": {
  "kernelspec": {
   "display_name": "Python 3 (ipykernel)",
   "language": "python",
   "name": "python3"
  },
  "language_info": {
   "codemirror_mode": {
    "name": "ipython",
    "version": 3
   },
   "file_extension": ".py",
   "mimetype": "text/x-python",
   "name": "python",
   "nbconvert_exporter": "python",
   "pygments_lexer": "ipython3",
   "version": "3.11.4"
  }
 },
 "nbformat": 4,
 "nbformat_minor": 4
}
