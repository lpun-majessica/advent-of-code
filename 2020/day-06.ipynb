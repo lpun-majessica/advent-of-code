{
 "cells": [
  {
   "cell_type": "markdown",
   "metadata": {},
   "source": [
    "[Advent of Code - Day 06](https://adventofcode.com/2020/day/6)"
   ]
  },
  {
   "cell_type": "markdown",
   "metadata": {},
   "source": [
    "# Import input"
   ]
  },
  {
   "cell_type": "code",
   "execution_count": 1,
   "metadata": {
    "execution": {
     "iopub.execute_input": "2024-11-12T10:46:59.251073Z",
     "iopub.status.busy": "2024-11-12T10:46:59.251073Z",
     "iopub.status.idle": "2024-11-12T10:47:00.549757Z",
     "shell.execute_reply": "2024-11-12T10:47:00.549757Z",
     "shell.execute_reply.started": "2024-11-12T10:46:59.251073Z"
    }
   },
   "outputs": [],
   "source": [
    "import sys\n",
    "from string import ascii_lowercase\n",
    "\n",
    "sys.path.insert(0, \"../\")\n",
    "from utils import puzzle\n",
    "\n",
    "P = puzzle.Puzzle(year=\"2020\", day=\"06\")\n",
"INPUT = P.load_input()"
   ]
  },
  {
   "cell_type": "code",
   "execution_count": 2,
   "metadata": {
    "execution": {
     "iopub.execute_input": "2024-11-12T10:47:00.549757Z",
     "iopub.status.busy": "2024-11-12T10:47:00.549757Z",
     "iopub.status.idle": "2024-11-12T10:47:00.571449Z",
     "shell.execute_reply": "2024-11-12T10:47:00.571449Z",
     "shell.execute_reply.started": "2024-11-12T10:47:00.549757Z"
    }
   },
   "outputs": [
    {
     "data": {
      "text/plain": [
       "['clvxybjp', 'kripatlzy', '', 'yrn', 'labirzd']"
      ]
     },
     "execution_count": 2,
     "metadata": {},
     "output_type": "execute_result"
    }
   ],
   "source": [
    "INPUT[:5]"
   ]
  },
  {
   "cell_type": "markdown",
   "metadata": {},
   "source": [
    "# Solulu"
   ]
  },
  {
   "cell_type": "code",
   "execution_count": 3,
   "metadata": {
    "execution": {
     "iopub.execute_input": "2024-11-12T10:47:00.571449Z",
     "iopub.status.busy": "2024-11-12T10:47:00.571449Z",
     "iopub.status.idle": "2024-11-12T10:47:00.627486Z",
     "shell.execute_reply": "2024-11-12T10:47:00.627486Z",
     "shell.execute_reply.started": "2024-11-12T10:47:00.571449Z"
    }
   },
   "outputs": [],
   "source": [
    "INPUT.append(\"\")"
   ]
  },
  {
   "cell_type": "markdown",
   "metadata": {},
   "source": [
    "## Part 1"
   ]
  },
  {
   "cell_type": "code",
   "execution_count": 4,
   "metadata": {
    "execution": {
     "iopub.execute_input": "2024-11-12T10:47:00.639579Z",
     "iopub.status.busy": "2024-11-12T10:47:00.639579Z",
     "iopub.status.idle": "2024-11-12T10:47:00.660375Z",
     "shell.execute_reply": "2024-11-12T10:47:00.660375Z",
     "shell.execute_reply.started": "2024-11-12T10:47:00.639579Z"
    }
   },
   "outputs": [
    {
     "data": {
      "text/plain": [
       "6457"
      ]
     },
     "execution_count": 4,
     "metadata": {},
     "output_type": "execute_result"
    }
   ],
   "source": [
    "yeses = set()\n",
    "total = 0\n",
    "\n",
    "for line in INPUT:\n",
    "    if not line:\n",
    "        total += len(yeses)\n",
    "        yeses = set()\n",
    "    else:\n",
    "        yeses = yeses | set(line)\n",
    "\n",
    "total"
   ]
  },
  {
   "cell_type": "markdown",
   "metadata": {},
   "source": [
    "## Part 2"
   ]
  },
  {
   "cell_type": "code",
   "execution_count": 5,
   "metadata": {
    "execution": {
     "iopub.execute_input": "2024-11-12T10:47:00.660375Z",
     "iopub.status.busy": "2024-11-12T10:47:00.660375Z",
     "iopub.status.idle": "2024-11-12T10:47:00.688653Z",
     "shell.execute_reply": "2024-11-12T10:47:00.688653Z",
     "shell.execute_reply.started": "2024-11-12T10:47:00.660375Z"
    }
   },
   "outputs": [
    {
     "data": {
      "text/plain": [
       "3260"
      ]
     },
     "execution_count": 5,
     "metadata": {},
     "output_type": "execute_result"
    }
   ],
   "source": [
    "yeses = set(ascii_lowercase)\n",
    "total = 0\n",
    "\n",
    "for line in INPUT:\n",
    "    if not line:\n",
    "        total += len(yeses)\n",
    "        yeses = set(ascii_lowercase)\n",
    "    else:\n",
    "        yeses = yeses & set(line)\n",
    "\n",
    "total"
   ]
  }
 ],
 "metadata": {
  "kernelspec": {
   "display_name": "Python 3 (ipykernel)",
   "language": "python",
   "name": "python3"
  },
  "language_info": {
   "codemirror_mode": {
    "name": "ipython",
    "version": 3
   },
   "file_extension": ".py",
   "mimetype": "text/x-python",
   "name": "python",
   "nbconvert_exporter": "python",
   "pygments_lexer": "ipython3",
   "version": "3.11.4"
  }
 },
 "nbformat": 4,
 "nbformat_minor": 4
}
