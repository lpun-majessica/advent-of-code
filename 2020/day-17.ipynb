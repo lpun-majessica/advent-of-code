{
 "cells": [
  {
   "cell_type": "markdown",
   "metadata": {},
   "source": [
    "[Advent of Code - Day 17](https://adventofcode.com/2020/day/17)"
   ]
  },
  {
   "cell_type": "markdown",
   "metadata": {},
   "source": [
    "# Import input"
   ]
  },
  {
   "cell_type": "code",
   "execution_count": 1,
   "metadata": {
    "execution": {
     "iopub.execute_input": "2024-11-22T07:48:47.177562Z",
     "iopub.status.busy": "2024-11-22T07:48:47.177562Z",
     "iopub.status.idle": "2024-11-22T07:48:48.244717Z",
     "shell.execute_reply": "2024-11-22T07:48:48.244717Z",
     "shell.execute_reply.started": "2024-11-22T07:48:47.177562Z"
    }
   },
   "outputs": [],
   "source": [
    "import sys\n",
    "from collections import defaultdict\n",
    "from itertools import product\n",
    "\n",
    "sys.path.insert(0, \"../\")\n",
    "from utils import puzzle\n",
    "\n",
    "P = puzzle.Puzzle(year=\"2020\", day=\"17\")\n",
"INPUT = P.load_input()"
   ]
  },
  {
   "cell_type": "code",
   "execution_count": 2,
   "metadata": {
    "execution": {
     "iopub.execute_input": "2024-11-22T07:48:48.244717Z",
     "iopub.status.busy": "2024-11-22T07:48:48.244717Z",
     "iopub.status.idle": "2024-11-22T07:48:48.261666Z",
     "shell.execute_reply": "2024-11-22T07:48:48.260571Z",
     "shell.execute_reply.started": "2024-11-22T07:48:48.244717Z"
    }
   },
   "outputs": [
    {
     "data": {
      "text/plain": [
       "['.##.##..', '..###.##', '.##....#', '###..##.', '#.###.##']"
      ]
     },
     "execution_count": 2,
     "metadata": {},
     "output_type": "execute_result"
    }
   ],
   "source": [
    "INPUT[:5]"
   ]
  },
  {
   "cell_type": "markdown",
   "metadata": {},
   "source": [
    "# Solulu"
   ]
  },
  {
   "cell_type": "markdown",
   "metadata": {},
   "source": [
    "## Part 1"
   ]
  },
  {
   "cell_type": "code",
   "execution_count": 3,
   "metadata": {
    "execution": {
     "iopub.execute_input": "2024-11-22T07:48:48.262677Z",
     "iopub.status.busy": "2024-11-22T07:48:48.262677Z",
     "iopub.status.idle": "2024-11-22T07:48:48.276831Z",
     "shell.execute_reply": "2024-11-22T07:48:48.275821Z",
     "shell.execute_reply.started": "2024-11-22T07:48:48.262677Z"
    }
   },
   "outputs": [],
   "source": [
    "Y, X, Z = len(INPUT), len(INPUT[0]), 0\n",
    "ACTIVE = \"#\"\n",
    "CUBES = defaultdict(int)\n",
    "\n",
    "for x, y in product(range(X), range(Y)):\n",
    "    CUBES[(x, y, Z)] = INPUT[y][x] == ACTIVE"
   ]
  },
  {
   "cell_type": "code",
   "execution_count": 4,
   "metadata": {
    "execution": {
     "iopub.execute_input": "2024-11-22T07:48:48.278838Z",
     "iopub.status.busy": "2024-11-22T07:48:48.278838Z",
     "iopub.status.idle": "2024-11-22T07:48:48.481113Z",
     "shell.execute_reply": "2024-11-22T07:48:48.481113Z",
     "shell.execute_reply.started": "2024-11-22T07:48:48.278838Z"
    }
   },
   "outputs": [
    {
     "data": {
      "text/plain": [
       "257"
      ]
     },
     "execution_count": 4,
     "metadata": {},
     "output_type": "execute_result"
    }
   ],
   "source": [
    "END = 6\n",
    "cycles = 0\n",
    "cubes = CUBES\n",
    "\n",
    "while cycles < END:\n",
    "    cycles += 1\n",
    "    new_cubes = defaultdict(int)\n",
    "\n",
    "    for xc, yc, zc in product(\n",
    "        range(-cycles + 1, X + cycles),\n",
    "        range(-cycles + 1, Y + cycles),\n",
    "        range(Z - cycles, Z + cycles + 1),\n",
    "    ):\n",
    "        is_active = cubes[(xc, yc, zc)]\n",
    "        actives = 0\n",
    "\n",
    "        for x, y, z in product(\n",
    "            range(xc - 1, xc + 2),\n",
    "            range(yc - 1, yc + 2),\n",
    "            range(zc - 1, zc + 2),\n",
    "        ):\n",
    "            if (x, y, z) == (xc, yc, zc):\n",
    "                continue\n",
    "            actives += cubes.get((x, y, z), 0)\n",
    "            \n",
    "        if is_active and actives in (2, 3):\n",
    "            new_cubes[(xc, yc, zc)] = 1\n",
    "        elif not is_active and actives == 3:\n",
    "            new_cubes[(xc, yc, zc)] = 1\n",
    "        else:\n",
    "            new_cubes[(xc, yc, zc)] = 0\n",
    "    cubes = new_cubes\n",
    "\n",
    "sum(cubes.values())"
   ]
  },
  {
   "cell_type": "markdown",
   "metadata": {},
   "source": [
    "## Part 2"
   ]
  },
  {
   "cell_type": "code",
   "execution_count": 5,
   "metadata": {
    "execution": {
     "iopub.execute_input": "2024-11-22T07:48:48.482156Z",
     "iopub.status.busy": "2024-11-22T07:48:48.481113Z",
     "iopub.status.idle": "2024-11-22T07:48:48.485207Z",
     "shell.execute_reply": "2024-11-22T07:48:48.485207Z",
     "shell.execute_reply.started": "2024-11-22T07:48:48.482156Z"
    }
   },
   "outputs": [],
   "source": [
    "X, Y, Z, W = len(INPUT[0]), len(INPUT), 0, 0\n",
    "ACTIVE = \"#\"\n",
    "CUBES = defaultdict(int)\n",
    "\n",
    "for x, y in product(range(X), range(Y)):\n",
    "    CUBES[(x, y, Z, W)] = INPUT[y][x] == ACTIVE"
   ]
  },
  {
   "cell_type": "code",
   "execution_count": 6,
   "metadata": {
    "execution": {
     "iopub.execute_input": "2024-11-22T07:48:48.487422Z",
     "iopub.status.busy": "2024-11-22T07:48:48.487422Z",
     "iopub.status.idle": "2024-11-22T07:48:55.015116Z",
     "shell.execute_reply": "2024-11-22T07:48:55.015116Z",
     "shell.execute_reply.started": "2024-11-22T07:48:48.487422Z"
    }
   },
   "outputs": [
    {
     "data": {
      "text/plain": [
       "2532"
      ]
     },
     "execution_count": 6,
     "metadata": {},
     "output_type": "execute_result"
    }
   ],
   "source": [
    "END = 6\n",
    "cycles = 0\n",
    "cubes = CUBES\n",
    "\n",
    "while cycles < END:\n",
    "    cycles += 1\n",
    "    new_cubes = defaultdict(int)\n",
    "\n",
    "    for xc, yc, zc, wc in product(\n",
    "        range(-cycles + 1, X + cycles),\n",
    "        range(-cycles + 1, Y + cycles),\n",
    "        range(Z - cycles, Z + cycles + 1),\n",
    "        range(W - cycles, W + cycles + 1),\n",
    "    ):\n",
    "        is_active = cubes[(xc, yc, zc, wc)]\n",
    "        actives = 0\n",
    "\n",
    "        for x, y, z, w in product(\n",
    "            range(xc - 1, xc + 2),\n",
    "            range(yc - 1, yc + 2),\n",
    "            range(zc - 1, zc + 2),\n",
    "            range(wc - 1, wc + 2),\n",
    "        ):\n",
    "            if (x, y, z, w) == (xc, yc, zc, wc):\n",
    "                continue\n",
    "            actives += cubes.get((x, y, z, w), 0)\n",
    "\n",
    "        if is_active and actives in (2, 3):\n",
    "            new_cubes[(xc, yc, zc, wc)] = 1\n",
    "        elif not is_active and actives == 3:\n",
    "            new_cubes[(xc, yc, zc, wc)] = 1\n",
    "        else:\n",
    "            new_cubes[(xc, yc, zc, wc)] = 0\n",
    "    cubes = new_cubes\n",
    "\n",
    "sum(cubes.values())"
   ]
  }
 ],
 "metadata": {
  "kernelspec": {
   "display_name": "Python 3 (ipykernel)",
   "language": "python",
   "name": "python3"
  },
  "language_info": {
   "codemirror_mode": {
    "name": "ipython",
    "version": 3
   },
   "file_extension": ".py",
   "mimetype": "text/x-python",
   "name": "python",
   "nbconvert_exporter": "python",
   "pygments_lexer": "ipython3",
   "version": "3.11.4"
  }
 },
 "nbformat": 4,
 "nbformat_minor": 4
}
