{
 "cells": [
  {
   "cell_type": "markdown",
   "metadata": {},
   "source": [
    "[Advent of Code - Day 19](https://adventofcode.com/2020/day/19)"
   ]
  },
  {
   "cell_type": "markdown",
   "metadata": {},
   "source": [
    "# Import input"
   ]
  },
  {
   "cell_type": "code",
   "execution_count": 1,
   "metadata": {
    "execution": {
     "iopub.execute_input": "2024-11-25T06:47:36.893590Z",
     "iopub.status.busy": "2024-11-25T06:47:36.893590Z",
     "iopub.status.idle": "2024-11-25T06:47:38.656171Z",
     "shell.execute_reply": "2024-11-25T06:47:38.656171Z",
     "shell.execute_reply.started": "2024-11-25T06:47:36.893590Z"
    }
   },
   "outputs": [],
   "source": [
    "import sys\n",
    "from collections import defaultdict\n",
    "\n",
    "sys.path.insert(0, \"../\")\n",
    "from utils import puzzle\n",
    "\n",
    "P = puzzle.Puzzle(year=\"2020\", day=\"19\")\n",
"INPUT = P.load_input()"
   ]
  },
  {
   "cell_type": "code",
   "execution_count": 2,
   "metadata": {
    "execution": {
     "iopub.execute_input": "2024-11-25T06:47:38.656171Z",
     "iopub.status.busy": "2024-11-25T06:47:38.656171Z",
     "iopub.status.idle": "2024-11-25T06:47:38.678358Z",
     "shell.execute_reply": "2024-11-25T06:47:38.677650Z",
     "shell.execute_reply.started": "2024-11-25T06:47:38.656171Z"
    }
   },
   "outputs": [
    {
     "data": {
      "text/plain": [
       "['2: 12 16 | 41 26',\n",
       " '55: 92 16 | 84 26',\n",
       " '107: 48 26 | 29 16',\n",
       " '91: 16 86 | 26 120',\n",
       " '56: 19 16 | 30 26']"
      ]
     },
     "execution_count": 2,
     "metadata": {},
     "output_type": "execute_result"
    }
   ],
   "source": [
    "INPUT[:5]"
   ]
  },
  {
   "cell_type": "markdown",
   "metadata": {},
   "source": [
    "# Solulu"
   ]
  },
  {
   "cell_type": "code",
   "execution_count": 3,
   "metadata": {
    "execution": {
     "iopub.execute_input": "2024-11-25T06:47:38.678358Z",
     "iopub.status.busy": "2024-11-25T06:47:38.678358Z",
     "iopub.status.idle": "2024-11-25T06:47:38.688104Z",
     "shell.execute_reply": "2024-11-25T06:47:38.688104Z",
     "shell.execute_reply.started": "2024-11-25T06:47:38.678358Z"
    }
   },
   "outputs": [],
   "source": [
    "INPUT=[\n",
    "'0: 4 1 5',\n",
    "'1: 2 3 | 3 2',\n",
    "'2: 4 4 | 5 5',\n",
    "'3: 4 5 | 5 4',\n",
    "'4: \"a\"',\n",
    "'5: \"b\"',\n",
    "'',\n",
    "'jfla'\n",
    "]"
   ]
  },
  {
   "cell_type": "code",
   "execution_count": 4,
   "metadata": {
    "execution": {
     "iopub.execute_input": "2024-11-25T06:47:38.688104Z",
     "iopub.status.busy": "2024-11-25T06:47:38.688104Z",
     "iopub.status.idle": "2024-11-25T06:47:38.703642Z",
     "shell.execute_reply": "2024-11-25T06:47:38.703642Z",
     "shell.execute_reply.started": "2024-11-25T06:47:38.688104Z"
    }
   },
   "outputs": [],
   "source": [
    "sep = INPUT.index(\"\")\n",
    "RULES, MESSAGES = INPUT[:sep], INPUT[sep + 1 :]\n",
    "ZERO =0"
   ]
  },
  {
   "cell_type": "code",
   "execution_count": 5,
   "metadata": {
    "execution": {
     "iopub.execute_input": "2024-11-25T06:47:38.707101Z",
     "iopub.status.busy": "2024-11-25T06:47:38.707101Z",
     "iopub.status.idle": "2024-11-25T06:47:38.720864Z",
     "shell.execute_reply": "2024-11-25T06:47:38.720864Z",
     "shell.execute_reply.started": "2024-11-25T06:47:38.707101Z"
    }
   },
   "outputs": [],
   "source": [
    "OR, QUOTE = \"|\", '\"'\n",
    "rules = dict()\n",
    "\n",
    "for line in RULES:\n",
    "    i, rule = line.split(\": \")\n",
    "    i = int(i)\n",
    "\n",
    "    if QUOTE in rule:\n",
    "        rules[i] = rule.strip(QUOTE)\n",
    "    else:\n",
    "        if OR in rule:\n",
    "            lrule = rule.split(f\" {OR} \")\n",
    "        else:\n",
    "            lrule = [rule]\n",
    "        rules[i] = [list(map(int, r.split())) for r in lrule]"
   ]
  },
  {
   "cell_type": "markdown",
   "metadata": {},
   "source": [
    "## Part 1"
   ]
  },
  {
   "cell_type": "code",
   "execution_count": 7,
   "metadata": {
    "execution": {
     "iopub.execute_input": "2024-11-25T06:47:58.468954Z",
     "iopub.status.busy": "2024-11-25T06:47:58.468954Z",
     "iopub.status.idle": "2024-11-25T06:47:58.495097Z",
     "shell.execute_reply": "2024-11-25T06:47:58.494055Z",
     "shell.execute_reply.started": "2024-11-25T06:47:58.468954Z"
    }
   },
   "outputs": [
    {
     "data": {
      "text/plain": [
       "{0: [[4, 1, 5]],\n",
       " 1: [[2, 3], [3, 2]],\n",
       " 2: [[4, 4], [5, 5]],\n",
       " 3: [[4, 5], [5, 4]],\n",
       " 4: 'a',\n",
       " 5: 'b'}"
      ]
     },
     "execution_count": 7,
     "metadata": {},
     "output_type": "execute_result"
    }
   ],
   "source": [
    "rules"
   ]
  },
  {
   "cell_type": "code",
   "execution_count": 18,
   "metadata": {
    "execution": {
     "iopub.execute_input": "2024-11-25T06:52:36.500820Z",
     "iopub.status.busy": "2024-11-25T06:52:36.500820Z",
     "iopub.status.idle": "2024-11-25T06:52:36.522411Z",
     "shell.execute_reply": "2024-11-25T06:52:36.522411Z",
     "shell.execute_reply.started": "2024-11-25T06:52:36.500820Z"
    }
   },
   "outputs": [
    {
     "name": "stdout",
     "output_type": "stream",
     "text": [
      "b\n",
      "b\n",
      "a\n",
      "a\n",
      "a\n",
      "b\n",
      "b\n",
      "a\n",
      "a\n",
      "b\n",
      "b\n",
      "a\n",
      "b\n",
      "b\n",
      "a\n",
      "a\n"
     ]
    },
    {
     "data": {
      "text/plain": [
       "'a'"
      ]
     },
     "execution_count": 18,
     "metadata": {},
     "output_type": "execute_result"
    }
   ],
   "source": [
    "queue = [(ZERO, '')]\n",
    "\n",
    "while queue:\n",
    "    curr, code = queue.pop()\n",
    "\n",
    "    if rules[curr] in ('a', 'b'):\n",
    "        code += rules[curr]\n",
    "    else:\n",
    "        for rs in rules[curr]:\n",
    "            for r in rs:\n",
    "                queue.append((r, code))\n",
    "\n",
    "code"
   ]
  },
  {
   "cell_type": "markdown",
   "metadata": {
    "jp-MarkdownHeadingCollapsed": true
   },
   "source": [
    "## Part 2"
   ]
  }
 ],
 "metadata": {
  "kernelspec": {
   "display_name": "Python 3 (ipykernel)",
   "language": "python",
   "name": "python3"
  },
  "language_info": {
   "codemirror_mode": {
    "name": "ipython",
    "version": 3
   },
   "file_extension": ".py",
   "mimetype": "text/x-python",
   "name": "python",
   "nbconvert_exporter": "python",
   "pygments_lexer": "ipython3",
   "version": "3.11.4"
  }
 },
 "nbformat": 4,
 "nbformat_minor": 4
}
