{
 "cells": [
  {
   "cell_type": "markdown",
   "metadata": {},
   "source": [
    "[Advent of Code - Day 09](https://adventofcode.com/2020/day/9)"
   ]
  },
  {
   "cell_type": "markdown",
   "metadata": {},
   "source": [
    "# Import input"
   ]
  },
  {
   "cell_type": "code",
   "execution_count": 1,
   "metadata": {
    "execution": {
     "iopub.execute_input": "2024-11-18T08:29:06.113816Z",
     "iopub.status.busy": "2024-11-18T08:29:06.113816Z",
     "iopub.status.idle": "2024-11-18T08:29:07.495358Z",
     "shell.execute_reply": "2024-11-18T08:29:07.495358Z",
     "shell.execute_reply.started": "2024-11-18T08:29:06.113816Z"
    }
   },
   "outputs": [],
   "source": [
    "import sys\n",
    "\n",
    "sys.path.insert(0, \"../\")\n",
    "from utils import aoc_input as inp\n",
    "\n",
    "INPUT = inp.download_input(year=\"2020\", day=\"09\")"
   ]
  },
  {
   "cell_type": "code",
   "execution_count": 2,
   "metadata": {
    "execution": {
     "iopub.execute_input": "2024-11-18T08:29:07.495358Z",
     "iopub.status.busy": "2024-11-18T08:29:07.495358Z",
     "iopub.status.idle": "2024-11-18T08:29:07.521609Z",
     "shell.execute_reply": "2024-11-18T08:29:07.521609Z",
     "shell.execute_reply.started": "2024-11-18T08:29:07.495358Z"
    }
   },
   "outputs": [
    {
     "data": {
      "text/plain": [
       "['37', '1', '33', '42', '17']"
      ]
     },
     "execution_count": 2,
     "metadata": {},
     "output_type": "execute_result"
    }
   ],
   "source": [
    "INPUT[:5]"
   ]
  },
  {
   "cell_type": "markdown",
   "metadata": {},
   "source": [
    "# Solulu"
   ]
  },
  {
   "cell_type": "code",
   "execution_count": 4,
   "metadata": {
    "execution": {
     "iopub.execute_input": "2024-11-18T08:29:07.546393Z",
     "iopub.status.busy": "2024-11-18T08:29:07.546393Z",
     "iopub.status.idle": "2024-11-18T08:29:07.558013Z",
     "shell.execute_reply": "2024-11-18T08:29:07.558013Z",
     "shell.execute_reply.started": "2024-11-18T08:29:07.546393Z"
    }
   },
   "outputs": [],
   "source": [
    "length = 25\n",
    "XMAS = list(map(int, INPUT))\n",
    "PREAMBLE = XMAS[:length]"
   ]
  },
  {
   "cell_type": "markdown",
   "metadata": {},
   "source": [
    "## Part 1"
   ]
  },
  {
   "cell_type": "code",
   "execution_count": 5,
   "metadata": {
    "execution": {
     "iopub.execute_input": "2024-11-18T08:29:07.558013Z",
     "iopub.status.busy": "2024-11-18T08:29:07.558013Z",
     "iopub.status.idle": "2024-11-18T08:29:07.572720Z",
     "shell.execute_reply": "2024-11-18T08:29:07.572720Z",
     "shell.execute_reply.started": "2024-11-18T08:29:07.558013Z"
    }
   },
   "outputs": [
    {
     "data": {
      "text/plain": [
       "50047984"
      ]
     },
     "execution_count": 5,
     "metadata": {},
     "output_type": "execute_result"
    }
   ],
   "source": [
    "for num in XMAS[length:]:\n",
    "    if any((num - pre_num) in PREAMBLE for pre_num in PREAMBLE):\n",
    "        PREAMBLE.pop(0)\n",
    "        PREAMBLE.append(num)\n",
    "    else:\n",
    "        invalid_num = num\n",
    "        break\n",
    "\n",
    "invalid_num"
   ]
  },
  {
   "cell_type": "markdown",
   "metadata": {},
   "source": [
    "## Part 2"
   ]
  },
  {
   "cell_type": "code",
   "execution_count": 6,
   "metadata": {
    "execution": {
     "iopub.execute_input": "2024-11-18T08:29:07.572720Z",
     "iopub.status.busy": "2024-11-18T08:29:07.572720Z",
     "iopub.status.idle": "2024-11-18T08:29:07.592452Z",
     "shell.execute_reply": "2024-11-18T08:29:07.592452Z",
     "shell.execute_reply.started": "2024-11-18T08:29:07.572720Z"
    }
   },
   "outputs": [
    {
     "data": {
      "text/plain": [
       "5407707"
      ]
     },
     "execution_count": 6,
     "metadata": {},
     "output_type": "execute_result"
    }
   ],
   "source": [
    "n = len(XMAS)\n",
    "DP = [0 for _ in range(n)]\n",
    "DP[0] = XMAS[0]\n",
    "\n",
    "for i in range(1, n):\n",
    "    DP[i] = DP[i - 1] + XMAS[i]\n",
    "\n",
    "for cumsum in DP:\n",
    "    rem = cumsum - invalid_num\n",
    "    \n",
    "    if rem in DP:\n",
    "        start, stop = DP.index(rem) + 1, DP.index(cumsum) + 1\n",
    "        break\n",
    "\n",
    "min(XMAS[start:stop]) + max(XMAS[start:stop])"
   ]
  }
 ],
 "metadata": {
  "kernelspec": {
   "display_name": "Python 3 (ipykernel)",
   "language": "python",
   "name": "python3"
  },
  "language_info": {
   "codemirror_mode": {
    "name": "ipython",
    "version": 3
   },
   "file_extension": ".py",
   "mimetype": "text/x-python",
   "name": "python",
   "nbconvert_exporter": "python",
   "pygments_lexer": "ipython3",
   "version": "3.11.4"
  }
 },
 "nbformat": 4,
 "nbformat_minor": 4
}
