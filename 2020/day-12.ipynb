{
 "cells": [
  {
   "cell_type": "markdown",
   "metadata": {},
   "source": [
    "[Advent of Code - Day 12](https://adventofcode.com/2020/day/12)"
   ]
  },
  {
   "cell_type": "markdown",
   "metadata": {},
   "source": [
    "# Import input"
   ]
  },
  {
   "cell_type": "code",
   "execution_count": 1,
   "metadata": {
    "execution": {
     "iopub.execute_input": "2024-11-19T06:55:15.030035Z",
     "iopub.status.busy": "2024-11-19T06:55:15.029351Z",
     "iopub.status.idle": "2024-11-19T06:55:16.046861Z",
     "shell.execute_reply": "2024-11-19T06:55:16.045842Z",
     "shell.execute_reply.started": "2024-11-19T06:55:15.030035Z"
    }
   },
   "outputs": [],
   "source": [
    "import sys\n",
    "\n",
    "sys.path.insert(0, \"../\")\n",
    "from utils import puzzle\n",
    "\n",
    "P = puzzle.Puzzle(year=\"2020\", day=\"12\")\n",
"INPUT = P.load_input()"
   ]
  },
  {
   "cell_type": "code",
   "execution_count": 2,
   "metadata": {
    "execution": {
     "iopub.execute_input": "2024-11-19T06:55:16.047856Z",
     "iopub.status.busy": "2024-11-19T06:55:16.047856Z",
     "iopub.status.idle": "2024-11-19T06:55:16.063094Z",
     "shell.execute_reply": "2024-11-19T06:55:16.061568Z",
     "shell.execute_reply.started": "2024-11-19T06:55:16.047856Z"
    }
   },
   "outputs": [
    {
     "data": {
      "text/plain": [
       "['F93', 'R90', 'F81', 'E3', 'F80']"
      ]
     },
     "execution_count": 2,
     "metadata": {},
     "output_type": "execute_result"
    }
   ],
   "source": [
    "INPUT[:5]"
   ]
  },
  {
   "cell_type": "markdown",
   "metadata": {},
   "source": [
    "# Solulu"
   ]
  },
  {
   "cell_type": "code",
   "execution_count": 3,
   "metadata": {
    "execution": {
     "iopub.execute_input": "2024-11-19T06:55:16.065091Z",
     "iopub.status.busy": "2024-11-19T06:55:16.064092Z",
     "iopub.status.idle": "2024-11-19T06:55:16.074382Z",
     "shell.execute_reply": "2024-11-19T06:55:16.073370Z",
     "shell.execute_reply.started": "2024-11-19T06:55:16.065091Z"
    }
   },
   "outputs": [],
   "source": [
    "LEFT, RIGHT = \"L\", \"R\"\n",
    "FORWARD = \"F\"\n",
    "\n",
    "news = {\n",
    "    0: (+0, +1),\n",
    "    1: (-1, +0),\n",
    "    2: (+0, -1),\n",
    "    3: (+1, +0),\n",
    "}\n",
    "\n",
    "directions = {\n",
    "    \"E\": 0,\n",
    "    \"S\": 1,\n",
    "    \"W\": 2,\n",
    "    \"N\": 3,\n",
    "}"
   ]
  },
  {
   "cell_type": "markdown",
   "metadata": {},
   "source": [
    "## Part 1"
   ]
  },
  {
   "cell_type": "code",
   "execution_count": 4,
   "metadata": {
    "execution": {
     "iopub.execute_input": "2024-11-19T06:55:16.075403Z",
     "iopub.status.busy": "2024-11-19T06:55:16.075403Z",
     "iopub.status.idle": "2024-11-19T06:55:16.085474Z",
     "shell.execute_reply": "2024-11-19T06:55:16.085474Z",
     "shell.execute_reply.started": "2024-11-19T06:55:16.075403Z"
    }
   },
   "outputs": [
    {
     "data": {
      "text/plain": [
       "362"
      ]
     },
     "execution_count": 4,
     "metadata": {},
     "output_type": "execute_result"
    }
   ],
   "source": [
    "START = \"E\"\n",
    "facing = directions[START]\n",
    "x, y = 0, 0\n",
    "\n",
    "for line in INPUT:\n",
    "    d, num = line[0], int(line[1:])\n",
    "    if d == FORWARD:\n",
    "        dx, dy = news[facing]\n",
    "        x += dx * num\n",
    "        y += dy * num\n",
    "    elif d in (LEFT, RIGHT):\n",
    "        step = num // 90\n",
    "        turn = 1 if d == RIGHT else -1\n",
    "        facing = (facing + turn * step) % len(news)\n",
    "    elif directions[d] in news:\n",
    "        dx, dy = news[directions[d]]\n",
    "        x += dx * num\n",
    "        y += dy * num\n",
    "\n",
    "abs(x) + abs(y)"
   ]
  },
  {
   "cell_type": "markdown",
   "metadata": {},
   "source": [
    "## Part 2"
   ]
  },
  {
   "cell_type": "code",
   "execution_count": 5,
   "metadata": {
    "execution": {
     "iopub.execute_input": "2024-11-19T06:55:16.087928Z",
     "iopub.status.busy": "2024-11-19T06:55:16.087928Z",
     "iopub.status.idle": "2024-11-19T06:55:16.093449Z",
     "shell.execute_reply": "2024-11-19T06:55:16.093449Z",
     "shell.execute_reply.started": "2024-11-19T06:55:16.087928Z"
    }
   },
   "outputs": [],
   "source": [
    "def turn_waypoint(x: int, y: int, turn: int, step: int) -> tuple:\n",
    "    coords = [(x, y), (-y, x), (-x, -y), (y, -x)]\n",
    "    i = (step * turn) % len(news)\n",
    "    return coords[i]"
   ]
  },
  {
   "cell_type": "code",
   "execution_count": 6,
   "metadata": {
    "execution": {
     "iopub.execute_input": "2024-11-19T06:55:16.096360Z",
     "iopub.status.busy": "2024-11-19T06:55:16.095458Z",
     "iopub.status.idle": "2024-11-19T06:55:16.106126Z",
     "shell.execute_reply": "2024-11-19T06:55:16.105103Z",
     "shell.execute_reply.started": "2024-11-19T06:55:16.096360Z"
    }
   },
   "outputs": [
    {
     "data": {
      "text/plain": [
       "29895"
      ]
     },
     "execution_count": 6,
     "metadata": {},
     "output_type": "execute_result"
    }
   ],
   "source": [
    "sx, sy = 0, 0\n",
    "wx, wy = 1, 10\n",
    "\n",
    "for line in INPUT:\n",
    "    d, num = line[0], int(line[1:])\n",
    "    if d == FORWARD:\n",
    "        sx += wx * num\n",
    "        sy += wy * num\n",
    "    elif d in (LEFT, RIGHT):\n",
    "        step = num // 90\n",
    "        turn = 1 if d == RIGHT else -1\n",
    "        wx, wy = turn_waypoint(wx, wy, turn, step)\n",
    "    elif directions[d] in news:\n",
    "        dx, dy = news[directions[d]]\n",
    "        wx += dx * num\n",
    "        wy += dy * num\n",
    "\n",
    "abs(sx) + abs(sy)"
   ]
  }
 ],
 "metadata": {
  "kernelspec": {
   "display_name": "Python 3 (ipykernel)",
   "language": "python",
   "name": "python3"
  },
  "language_info": {
   "codemirror_mode": {
    "name": "ipython",
    "version": 3
   },
   "file_extension": ".py",
   "mimetype": "text/x-python",
   "name": "python",
   "nbconvert_exporter": "python",
   "pygments_lexer": "ipython3",
   "version": "3.11.4"
  }
 },
 "nbformat": 4,
 "nbformat_minor": 4
}
