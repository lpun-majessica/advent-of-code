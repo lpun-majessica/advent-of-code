{
 "cells": [
  {
   "cell_type": "markdown",
   "metadata": {},
   "source": [
    "[Advent of Code - Day 05](https://adventofcode.com/2020/day/5)"
   ]
  },
  {
   "cell_type": "markdown",
   "metadata": {},
   "source": [
    "# Import input"
   ]
  },
  {
   "cell_type": "code",
   "execution_count": 1,
   "metadata": {
    "execution": {
     "iopub.execute_input": "2024-11-12T10:35:41.133869Z",
     "iopub.status.busy": "2024-11-12T10:35:41.133869Z",
     "iopub.status.idle": "2024-11-12T10:35:42.354249Z",
     "shell.execute_reply": "2024-11-12T10:35:42.354249Z",
     "shell.execute_reply.started": "2024-11-12T10:35:41.133869Z"
    }
   },
   "outputs": [],
   "source": [
    "import sys\n",
    "\n",
    "sys.path.insert(0, \"../\")\n",
    "from utils import aoc_input as inp\n",
    "\n",
    "INPUT = inp.download_input(year=\"2020\", day=\"05\")"
   ]
  },
  {
   "cell_type": "code",
   "execution_count": 2,
   "metadata": {
    "execution": {
     "iopub.execute_input": "2024-11-12T10:35:42.354249Z",
     "iopub.status.busy": "2024-11-12T10:35:42.354249Z",
     "iopub.status.idle": "2024-11-12T10:35:42.373303Z",
     "shell.execute_reply": "2024-11-12T10:35:42.372267Z",
     "shell.execute_reply.started": "2024-11-12T10:35:42.354249Z"
    }
   },
   "outputs": [
    {
     "data": {
      "text/plain": [
       "['FFFFBFBLLR', 'BFBFFBBLLR', 'BBFFFFBLRR', 'FBFBFFFRLL', 'BFFBFFFRRR']"
      ]
     },
     "execution_count": 2,
     "metadata": {},
     "output_type": "execute_result"
    }
   ],
   "source": [
    "INPUT[:5]"
   ]
  },
  {
   "cell_type": "markdown",
   "metadata": {},
   "source": [
    "# Solulu"
   ]
  },
  {
   "cell_type": "markdown",
   "metadata": {},
   "source": [
    "## Part 1"
   ]
  },
  {
   "cell_type": "code",
   "execution_count": 3,
   "metadata": {
    "execution": {
     "iopub.execute_input": "2024-11-12T10:35:42.375787Z",
     "iopub.status.busy": "2024-11-12T10:35:42.375173Z",
     "iopub.status.idle": "2024-11-12T10:35:42.400867Z",
     "shell.execute_reply": "2024-11-12T10:35:42.400867Z",
     "shell.execute_reply.started": "2024-11-12T10:35:42.375787Z"
    }
   },
   "outputs": [
    {
     "data": {
      "text/plain": [
       "835"
      ]
     },
     "execution_count": 3,
     "metadata": {},
     "output_type": "execute_result"
    }
   ],
   "source": [
    "seat_ids = list()\n",
    "\n",
    "for ticket in INPUT:\n",
    "    row, col = \"\", \"\"\n",
    "\n",
    "    for code in ticket:\n",
    "        if code == \"F\":\n",
    "            row += \"0\"\n",
    "        elif code == \"B\":\n",
    "            row += \"1\"\n",
    "        elif code == \"L\":\n",
    "            col += \"0\"\n",
    "        elif code == \"R\":\n",
    "            col += \"1\"\n",
    "\n",
    "    seat_id = int(row, base=2) * 8 + int(col, base=2)\n",
    "    seat_ids.append(seat_id)\n",
    "\n",
    "max(seat_ids)"
   ]
  },
  {
   "cell_type": "markdown",
   "metadata": {},
   "source": [
    "## Part 2"
   ]
  },
  {
   "cell_type": "code",
   "execution_count": 4,
   "metadata": {
    "execution": {
     "iopub.execute_input": "2024-11-12T10:35:42.404192Z",
     "iopub.status.busy": "2024-11-12T10:35:42.404192Z",
     "iopub.status.idle": "2024-11-12T10:35:42.413067Z",
     "shell.execute_reply": "2024-11-12T10:35:42.413067Z",
     "shell.execute_reply.started": "2024-11-12T10:35:42.404192Z"
    }
   },
   "outputs": [
    {
     "data": {
      "text/plain": [
       "649"
      ]
     },
     "execution_count": 4,
     "metadata": {},
     "output_type": "execute_result"
    }
   ],
   "source": [
    "seat_ids.sort()\n",
    "\n",
    "for i, seat_id in enumerate(seat_ids, start=min(seat_ids)):\n",
    "    if i != seat_id:\n",
    "        break\n",
    "\n",
    "i"
   ]
  }
 ],
 "metadata": {
  "kernelspec": {
   "display_name": "Python 3 (ipykernel)",
   "language": "python",
   "name": "python3"
  },
  "language_info": {
   "codemirror_mode": {
    "name": "ipython",
    "version": 3
   },
   "file_extension": ".py",
   "mimetype": "text/x-python",
   "name": "python",
   "nbconvert_exporter": "python",
   "pygments_lexer": "ipython3",
   "version": "3.11.4"
  }
 },
 "nbformat": 4,
 "nbformat_minor": 4
}
