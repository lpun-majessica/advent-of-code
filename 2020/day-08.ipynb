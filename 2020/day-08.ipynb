{
 "cells": [
  {
   "cell_type": "markdown",
   "metadata": {},
   "source": [
    "[Advent of Code - Day 08](https://adventofcode.com/2020/day/8)"
   ]
  },
  {
   "cell_type": "markdown",
   "metadata": {},
   "source": [
    "# Import input"
   ]
  },
  {
   "cell_type": "code",
   "execution_count": 1,
   "metadata": {
    "execution": {
     "iopub.execute_input": "2024-11-18T07:40:59.539829Z",
     "iopub.status.busy": "2024-11-18T07:40:59.539829Z",
     "iopub.status.idle": "2024-11-18T07:41:00.727206Z",
     "shell.execute_reply": "2024-11-18T07:41:00.727206Z",
     "shell.execute_reply.started": "2024-11-18T07:40:59.539829Z"
    }
   },
   "outputs": [],
   "source": [
    "import sys\n",
    "\n",
    "sys.path.insert(0, \"../\")\n",
    "from utils import puzzle\n",
    "\n",
    "P = puzzle.Puzzle(year=\"2020\", day=\"08\")\n",
"INPUT = P.load_input()"
   ]
  },
  {
   "cell_type": "code",
   "execution_count": 2,
   "metadata": {
    "execution": {
     "iopub.execute_input": "2024-11-18T07:41:00.731337Z",
     "iopub.status.busy": "2024-11-18T07:41:00.727206Z",
     "iopub.status.idle": "2024-11-18T07:41:00.743523Z",
     "shell.execute_reply": "2024-11-18T07:41:00.743523Z",
     "shell.execute_reply.started": "2024-11-18T07:41:00.731337Z"
    }
   },
   "outputs": [
    {
     "data": {
      "text/plain": [
       "['acc +13', 'jmp +412', 'nop +137', 'nop +144', 'acc +33']"
      ]
     },
     "execution_count": 2,
     "metadata": {},
     "output_type": "execute_result"
    }
   ],
   "source": [
    "INPUT[:5]"
   ]
  },
  {
   "cell_type": "markdown",
   "metadata": {},
   "source": [
    "# Solulu"
   ]
  },
  {
   "cell_type": "code",
   "execution_count": 3,
   "metadata": {
    "execution": {
     "iopub.execute_input": "2024-11-18T07:41:00.745540Z",
     "iopub.status.busy": "2024-11-18T07:41:00.745540Z",
     "iopub.status.idle": "2024-11-18T07:41:00.760501Z",
     "shell.execute_reply": "2024-11-18T07:41:00.760501Z",
     "shell.execute_reply.started": "2024-11-18T07:41:00.745540Z"
    }
   },
   "outputs": [],
   "source": [
    "NOPE, ACC, JUMP = \"nop\", \"acc\", \"jmp\"\n",
    "\n",
    "\n",
    "def execute(loc: int, accumulator: int, inp: list) -> tuple:\n",
    "    line = inp[loc]\n",
    "    instruction, num = line.split()\n",
    "    num = int(num)\n",
    "    if instruction == ACC:\n",
    "        accumulator += num\n",
    "        loc += 1\n",
    "    elif instruction == JUMP:\n",
    "        loc += num\n",
    "    elif instruction == NOPE:\n",
    "        loc += 1\n",
    "\n",
    "    return loc, accumulator"
   ]
  },
  {
   "cell_type": "markdown",
   "metadata": {},
   "source": [
    "## Part 1"
   ]
  },
  {
   "cell_type": "code",
   "execution_count": 4,
   "metadata": {
    "execution": {
     "iopub.execute_input": "2024-11-18T07:41:00.762468Z",
     "iopub.status.busy": "2024-11-18T07:41:00.762468Z",
     "iopub.status.idle": "2024-11-18T07:41:00.773104Z",
     "shell.execute_reply": "2024-11-18T07:41:00.772596Z",
     "shell.execute_reply.started": "2024-11-18T07:41:00.762468Z"
    }
   },
   "outputs": [
    {
     "data": {
      "text/plain": [
       "1475"
      ]
     },
     "execution_count": 4,
     "metadata": {},
     "output_type": "execute_result"
    }
   ],
   "source": [
    "accumulator = 0\n",
    "executed = set()\n",
    "queue = [0]\n",
    "\n",
    "while queue:\n",
    "    loc = queue.pop(0)\n",
    "    if loc not in executed:\n",
    "        executed.add(loc)\n",
    "    else:\n",
    "        continue\n",
    "    loc, accumulator = execute(loc, accumulator, INPUT)\n",
    "    queue.append(loc)\n",
    "\n",
    "accumulator"
   ]
  },
  {
   "cell_type": "markdown",
   "metadata": {},
   "source": [
    "## Part 2"
   ]
  },
  {
   "cell_type": "code",
   "execution_count": 5,
   "metadata": {
    "execution": {
     "iopub.execute_input": "2024-11-18T07:41:00.773868Z",
     "iopub.status.busy": "2024-11-18T07:41:00.773868Z",
     "iopub.status.idle": "2024-11-18T07:41:00.809484Z",
     "shell.execute_reply": "2024-11-18T07:41:00.809484Z",
     "shell.execute_reply.started": "2024-11-18T07:41:00.773868Z"
    }
   },
   "outputs": [
    {
     "data": {
      "text/plain": [
       "1270"
      ]
     },
     "execution_count": 5,
     "metadata": {},
     "output_type": "execute_result"
    }
   ],
   "source": [
    "loop = True\n",
    "\n",
    "for i, line in enumerate(INPUT):\n",
    "    if line.startswith(ACC):\n",
    "        continue\n",
    "    instruction, num = line.split()\n",
    "    fixed_line = f\"{NOPE if instruction == JUMP else JUMP} {num}\"\n",
    "    FIXED_INPUT = INPUT[:i] + [fixed_line] + INPUT[i + 1 :]\n",
    "\n",
    "    accumulator = 0\n",
    "    executed = set()\n",
    "    queue = [0]\n",
    "\n",
    "    while queue:\n",
    "        loc = queue.pop(0)\n",
    "        if loc not in executed:\n",
    "            executed.add(loc)\n",
    "        else:\n",
    "            continue\n",
    "        loc, accumulator = execute(loc, accumulator, FIXED_INPUT)\n",
    "        queue.append(loc)\n",
    "        if loc == len(INPUT):\n",
    "            loop = False\n",
    "            break\n",
    "\n",
    "    if not loop:\n",
    "        break\n",
    "\n",
    "accumulator"
   ]
  }
 ],
 "metadata": {
  "kernelspec": {
   "display_name": "Python 3 (ipykernel)",
   "language": "python",
   "name": "python3"
  },
  "language_info": {
   "codemirror_mode": {
    "name": "ipython",
    "version": 3
   },
   "file_extension": ".py",
   "mimetype": "text/x-python",
   "name": "python",
   "nbconvert_exporter": "python",
   "pygments_lexer": "ipython3",
   "version": "3.11.4"
  }
 },
 "nbformat": 4,
 "nbformat_minor": 4
}
