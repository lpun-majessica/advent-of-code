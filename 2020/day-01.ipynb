{
 "cells": [
  {
   "cell_type": "markdown",
   "metadata": {},
   "source": [
    "[Advent of Code - Day 01](https://adventofcode.com/2020/day/1)"
   ]
  },
  {
   "cell_type": "markdown",
   "metadata": {},
   "source": [
    "# Import input"
   ]
  },
  {
   "cell_type": "code",
   "execution_count": 1,
   "metadata": {
    "execution": {
     "iopub.execute_input": "2024-11-08T10:06:50.293309Z",
     "iopub.status.busy": "2024-11-08T10:06:50.293309Z",
     "iopub.status.idle": "2024-11-08T10:06:51.294881Z",
     "shell.execute_reply": "2024-11-08T10:06:51.294881Z",
     "shell.execute_reply.started": "2024-11-08T10:06:50.293309Z"
    }
   },
   "outputs": [],
   "source": [
    "import sys\n",
    "\n",
    "sys.path.insert(0, \"../\")\n",
    "from utils import aoc_input as inp\n",
    "\n",
    "INPUT = inp.download_input(year=\"2020\", day=\"01\")"
   ]
  },
  {
   "cell_type": "code",
   "execution_count": 2,
   "metadata": {
    "execution": {
     "iopub.execute_input": "2024-11-08T10:06:51.296969Z",
     "iopub.status.busy": "2024-11-08T10:06:51.296969Z",
     "iopub.status.idle": "2024-11-08T10:06:51.316634Z",
     "shell.execute_reply": "2024-11-08T10:06:51.315877Z",
     "shell.execute_reply.started": "2024-11-08T10:06:51.296969Z"
    }
   },
   "outputs": [
    {
     "data": {
      "text/plain": [
       "['1778', '1845', '1813', '1889', '1939']"
      ]
     },
     "execution_count": 2,
     "metadata": {},
     "output_type": "execute_result"
    }
   ],
   "source": [
    "INPUT[:5]"
   ]
  },
  {
   "cell_type": "markdown",
   "metadata": {},
   "source": [
    "# Solulu"
   ]
  },
  {
   "cell_type": "code",
   "execution_count": 3,
   "metadata": {
    "execution": {
     "iopub.execute_input": "2024-11-08T10:06:51.320023Z",
     "iopub.status.busy": "2024-11-08T10:06:51.319419Z",
     "iopub.status.idle": "2024-11-08T10:06:51.334154Z",
     "shell.execute_reply": "2024-11-08T10:06:51.333151Z",
     "shell.execute_reply.started": "2024-11-08T10:06:51.319515Z"
    }
   },
   "outputs": [],
   "source": [
    "TARGET = 2020\n",
    "expenses = list(map(int, INPUT))\n",
    "n = len(expenses)"
   ]
  },
  {
   "cell_type": "markdown",
   "metadata": {},
   "source": [
    "## Part 1"
   ]
  },
  {
   "cell_type": "code",
   "execution_count": 4,
   "metadata": {
    "execution": {
     "iopub.execute_input": "2024-11-08T10:06:51.335154Z",
     "iopub.status.busy": "2024-11-08T10:06:51.334154Z",
     "iopub.status.idle": "2024-11-08T10:06:51.345058Z",
     "shell.execute_reply": "2024-11-08T10:06:51.345058Z",
     "shell.execute_reply.started": "2024-11-08T10:06:51.335154Z"
    }
   },
   "outputs": [
    {
     "data": {
      "text/plain": [
       "806656"
      ]
     },
     "execution_count": 4,
     "metadata": {},
     "output_type": "execute_result"
    }
   ],
   "source": [
    "DP = dict()\n",
    "\n",
    "for i in range(n):\n",
    "    expense = expenses[i]\n",
    "    if expense in DP:\n",
    "        break\n",
    "    DP[TARGET - expense] = expense\n",
    "\n",
    "expense * DP[expense]"
   ]
  },
  {
   "cell_type": "markdown",
   "metadata": {},
   "source": [
    "## Part 2"
   ]
  },
  {
   "cell_type": "code",
   "execution_count": 5,
   "metadata": {
    "execution": {
     "iopub.execute_input": "2024-11-08T10:06:51.345058Z",
     "iopub.status.busy": "2024-11-08T10:06:51.345058Z",
     "iopub.status.idle": "2024-11-08T10:06:51.361413Z",
     "shell.execute_reply": "2024-11-08T10:06:51.361413Z",
     "shell.execute_reply.started": "2024-11-08T10:06:51.345058Z"
    }
   },
   "outputs": [
    {
     "data": {
      "text/plain": [
       "230608320"
      ]
     },
     "execution_count": 5,
     "metadata": {},
     "output_type": "execute_result"
    }
   ],
   "source": [
    "DP = dict()\n",
    "\n",
    "for i in range(n):\n",
    "    expense = expenses[i]\n",
    "    if expense in DP:\n",
    "        break\n",
    "\n",
    "    for j in range(i + 1, n):\n",
    "        expense1 = expenses[i]\n",
    "        expense2 = expenses[j]\n",
    "        DP[TARGET - (expense1 + expense2)] = expense1 * expense2\n",
    "\n",
    "expense * DP[expense]"
   ]
  }
 ],
 "metadata": {
  "kernelspec": {
   "display_name": "Python 3 (ipykernel)",
   "language": "python",
   "name": "python3"
  },
  "language_info": {
   "codemirror_mode": {
    "name": "ipython",
    "version": 3
   },
   "file_extension": ".py",
   "mimetype": "text/x-python",
   "name": "python",
   "nbconvert_exporter": "python",
   "pygments_lexer": "ipython3",
   "version": "3.11.4"
  }
 },
 "nbformat": 4,
 "nbformat_minor": 4
}
