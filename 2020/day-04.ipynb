{
 "cells": [
  {
   "cell_type": "markdown",
   "metadata": {},
   "source": [
    "[Advent of Code - Day 04](https://adventofcode.com/2020/day/4)"
   ]
  },
  {
   "cell_type": "markdown",
   "metadata": {},
   "source": [
    "# Import input"
   ]
  },
  {
   "cell_type": "code",
   "execution_count": 1,
   "metadata": {
    "execution": {
     "iopub.execute_input": "2024-11-08T11:04:31.517309Z",
     "iopub.status.busy": "2024-11-08T11:04:31.516301Z",
     "iopub.status.idle": "2024-11-08T11:04:32.484834Z",
     "shell.execute_reply": "2024-11-08T11:04:32.482824Z",
     "shell.execute_reply.started": "2024-11-08T11:04:31.517309Z"
    }
   },
   "outputs": [],
   "source": [
    "import sys\n",
    "from collections import defaultdict\n",
    "\n",
    "sys.path.insert(0, \"../\")\n",
    "from utils import puzzle\n",
    "\n",
    "P = puzzle.Puzzle(year=\"2020\", day=\"04\")\n",
"INPUT = P.load_input()"
   ]
  },
  {
   "cell_type": "code",
   "execution_count": 2,
   "metadata": {
    "execution": {
     "iopub.execute_input": "2024-11-08T11:04:32.485694Z",
     "iopub.status.busy": "2024-11-08T11:04:32.485694Z",
     "iopub.status.idle": "2024-11-08T11:04:32.505353Z",
     "shell.execute_reply": "2024-11-08T11:04:32.504347Z",
     "shell.execute_reply.started": "2024-11-08T11:04:32.485694Z"
    }
   },
   "outputs": [
    {
     "data": {
      "text/plain": [
       "['eyr:2029 iyr:2013',\n",
       " 'hcl:#ceb3a1 byr:1939 ecl:blu',\n",
       " 'hgt:163cm',\n",
       " 'pid:660456119',\n",
       " '']"
      ]
     },
     "execution_count": 2,
     "metadata": {},
     "output_type": "execute_result"
    }
   ],
   "source": [
    "INPUT[:5]"
   ]
  },
  {
   "cell_type": "markdown",
   "metadata": {},
   "source": [
    "# Solulu"
   ]
  },
  {
   "cell_type": "code",
   "execution_count": 3,
   "metadata": {
    "execution": {
     "iopub.execute_input": "2024-11-08T11:04:32.508354Z",
     "iopub.status.busy": "2024-11-08T11:04:32.507352Z",
     "iopub.status.idle": "2024-11-08T11:04:32.513667Z",
     "shell.execute_reply": "2024-11-08T11:04:32.513667Z",
     "shell.execute_reply.started": "2024-11-08T11:04:32.508354Z"
    }
   },
   "outputs": [],
   "source": [
    "INPUT.append(\"\")\n",
    "req = set([\"byr\", \"iyr\", \"eyr\", \"hgt\", \"hcl\", \"ecl\", \"pid\"])"
   ]
  },
  {
   "cell_type": "markdown",
   "metadata": {},
   "source": [
    "## Part 1"
   ]
  },
  {
   "cell_type": "code",
   "execution_count": 4,
   "metadata": {
    "execution": {
     "iopub.execute_input": "2024-11-08T11:04:32.516507Z",
     "iopub.status.busy": "2024-11-08T11:04:32.515169Z",
     "iopub.status.idle": "2024-11-08T11:04:32.526245Z",
     "shell.execute_reply": "2024-11-08T11:04:32.526245Z",
     "shell.execute_reply.started": "2024-11-08T11:04:32.516507Z"
    }
   },
   "outputs": [
    {
     "data": {
      "text/plain": [
       "204"
      ]
     },
     "execution_count": 4,
     "metadata": {},
     "output_type": "execute_result"
    }
   ],
   "source": [
    "valid = 0\n",
    "passports = defaultdict(set)\n",
    "i = 0\n",
    "\n",
    "for line in INPUT:\n",
    "    if not line:\n",
    "        valid += not req - passports[i]\n",
    "        i += 1\n",
    "    else:\n",
    "        fields = line.split()\n",
    "        for field in fields:\n",
    "            passports[i].add(field.split(\":\")[0])\n",
    "\n",
    "valid"
   ]
  },
  {
   "cell_type": "markdown",
   "metadata": {},
   "source": [
    "## Part 2"
   ]
  },
  {
   "cell_type": "code",
   "execution_count": 5,
   "metadata": {
    "execution": {
     "iopub.execute_input": "2024-11-08T11:04:32.526245Z",
     "iopub.status.busy": "2024-11-08T11:04:32.526245Z",
     "iopub.status.idle": "2024-11-08T11:04:32.542491Z",
     "shell.execute_reply": "2024-11-08T11:04:32.542491Z",
     "shell.execute_reply.started": "2024-11-08T11:04:32.526245Z"
    }
   },
   "outputs": [
    {
     "data": {
      "text/plain": [
       "179"
      ]
     },
     "execution_count": 5,
     "metadata": {},
     "output_type": "execute_result"
    }
   ],
   "source": [
    "hair_code = \"0123456789abcdef\"\n",
    "eye_colors = [\"amb\", \"blu\", \"brn\", \"gry\", \"grn\", \"hzl\", \"oth\"]\n",
    "\n",
    "valid = 0\n",
    "passports = defaultdict(set)\n",
    "i = 0\n",
    "\n",
    "for line in INPUT:\n",
    "    if not line:\n",
    "        valid += not req - passports[i]\n",
    "        i += 1\n",
    "        continue\n",
    "\n",
    "    fields = line.split()\n",
    "    for field in fields:\n",
    "        f, val = field.split(\":\")\n",
    "\n",
    "        if f == \"cid\":\n",
    "            passports[i].add(f)\n",
    "        elif f == \"byr\" and 1920 <= int(val) <= 2002:\n",
    "            passports[i].add(f)\n",
    "        elif f == \"iyr\" and 2010 <= int(val) <= 2020:\n",
    "            passports[i].add(f)\n",
    "        elif f == \"eyr\" and 2020 <= int(val) <= 2030:\n",
    "            passports[i].add(f)\n",
    "        elif f == \"hgt\":\n",
    "            if val[-2:] == \"cm\" and 150 <= int(val[:-2]) <= 193:\n",
    "                passports[i].add(f)\n",
    "            elif val[-2:] == \"in\" and 59 <= int(val[:-2]) <= 76:\n",
    "                passports[i].add(f)\n",
    "        elif f == \"hcl\":\n",
    "            if val.startswith(\"#\") and all(ch in hair_code for ch in val[1:]):\n",
    "                passports[i].add(f)\n",
    "        elif f == \"ecl\" and val in eye_colors:\n",
    "            passports[i].add(f)\n",
    "        elif f == \"pid\" and len(val) == 9 and val.isdigit():\n",
    "            passports[i].add(f)\n",
    "\n",
    "valid"
   ]
  }
 ],
 "metadata": {
  "kernelspec": {
   "display_name": "Python 3 (ipykernel)",
   "language": "python",
   "name": "python3"
  },
  "language_info": {
   "codemirror_mode": {
    "name": "ipython",
    "version": 3
   },
   "file_extension": ".py",
   "mimetype": "text/x-python",
   "name": "python",
   "nbconvert_exporter": "python",
   "pygments_lexer": "ipython3",
   "version": "3.11.4"
  }
 },
 "nbformat": 4,
 "nbformat_minor": 4
}
