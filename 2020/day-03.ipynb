{
 "cells": [
  {
   "cell_type": "markdown",
   "metadata": {},
   "source": [
    "[Advent of Code - Day 03](https://adventofcode.com/2020/day/3)"
   ]
  },
  {
   "cell_type": "markdown",
   "metadata": {},
   "source": [
    "# Import input"
   ]
  },
  {
   "cell_type": "code",
   "execution_count": 1,
   "metadata": {
    "execution": {
     "iopub.execute_input": "2024-11-08T10:28:47.801409Z",
     "iopub.status.busy": "2024-11-08T10:28:47.798646Z",
     "iopub.status.idle": "2024-11-08T10:28:48.776425Z",
     "shell.execute_reply": "2024-11-08T10:28:48.776425Z",
     "shell.execute_reply.started": "2024-11-08T10:28:47.801409Z"
    }
   },
   "outputs": [],
   "source": [
    "import sys\n",
    "from math import prod\n",
    "\n",
    "sys.path.insert(0, \"../\")\n",
    "from utils import aoc_input as inp\n",
    "\n",
    "INPUT = inp.download_input(year=\"2020\", day=\"03\")"
   ]
  },
  {
   "cell_type": "code",
   "execution_count": 2,
   "metadata": {
    "execution": {
     "iopub.execute_input": "2024-11-08T10:28:48.776425Z",
     "iopub.status.busy": "2024-11-08T10:28:48.776425Z",
     "iopub.status.idle": "2024-11-08T10:28:48.794627Z",
     "shell.execute_reply": "2024-11-08T10:28:48.793161Z",
     "shell.execute_reply.started": "2024-11-08T10:28:48.776425Z"
    }
   },
   "outputs": [
    {
     "data": {
      "text/plain": [
       "['.....#.##......#..##..........#',\n",
       " '##.#.##..#............##....#..',\n",
       " '......###...#..............#.##',\n",
       " '.....#..##.#..#......#.#.#..#..',\n",
       " '..#.......###..#..........#.#..']"
      ]
     },
     "execution_count": 2,
     "metadata": {},
     "output_type": "execute_result"
    }
   ],
   "source": [
    "INPUT[:5]"
   ]
  },
  {
   "cell_type": "markdown",
   "metadata": {},
   "source": [
    "# Solulu"
   ]
  },
  {
   "cell_type": "code",
   "execution_count": 3,
   "metadata": {
    "execution": {
     "iopub.execute_input": "2024-11-08T10:28:48.796814Z",
     "iopub.status.busy": "2024-11-08T10:28:48.796814Z",
     "iopub.status.idle": "2024-11-08T10:28:48.806924Z",
     "shell.execute_reply": "2024-11-08T10:28:48.805837Z",
     "shell.execute_reply.started": "2024-11-08T10:28:48.796814Z"
    }
   },
   "outputs": [],
   "source": [
    "TREE = \"#\"\n",
    "height, width = len(INPUT), len(INPUT[0])"
   ]
  },
  {
   "cell_type": "markdown",
   "metadata": {},
   "source": [
    "## Part 1"
   ]
  },
  {
   "cell_type": "code",
   "execution_count": 4,
   "metadata": {
    "execution": {
     "iopub.execute_input": "2024-11-08T10:28:48.808858Z",
     "iopub.status.busy": "2024-11-08T10:28:48.808858Z",
     "iopub.status.idle": "2024-11-08T10:28:48.819739Z",
     "shell.execute_reply": "2024-11-08T10:28:48.818731Z",
     "shell.execute_reply.started": "2024-11-08T10:28:48.808858Z"
    }
   },
   "outputs": [
    {
     "data": {
      "text/plain": [
       "276"
      ]
     },
     "execution_count": 4,
     "metadata": {},
     "output_type": "execute_result"
    }
   ],
   "source": [
    "trees = 0\n",
    "col = -3\n",
    "\n",
    "for row in range(0, height):\n",
    "    col = (col + 3) % width\n",
    "    trees += INPUT[row][col] == TREE\n",
    "\n",
    "trees"
   ]
  },
  {
   "cell_type": "markdown",
   "metadata": {},
   "source": [
    "## Part 2"
   ]
  },
  {
   "cell_type": "code",
   "execution_count": 5,
   "metadata": {
    "execution": {
     "iopub.execute_input": "2024-11-08T10:28:48.820742Z",
     "iopub.status.busy": "2024-11-08T10:28:48.820742Z",
     "iopub.status.idle": "2024-11-08T10:28:48.827894Z",
     "shell.execute_reply": "2024-11-08T10:28:48.827894Z",
     "shell.execute_reply.started": "2024-11-08T10:28:48.820742Z"
    }
   },
   "outputs": [
    {
     "data": {
      "text/plain": [
       "7812180000"
      ]
     },
     "execution_count": 5,
     "metadata": {},
     "output_type": "execute_result"
    }
   ],
   "source": [
    "trees = list()\n",
    "slopes = [(1, 1), (1, 3), (1, 5), (1, 7), (2, 1)]\n",
    "\n",
    "for down, right in slopes:\n",
    "    count = 0\n",
    "    col = -right\n",
    "    for row in range(0, height, down):\n",
    "        col = (col + right) % width\n",
    "        count += INPUT[row][col] == TREE\n",
    "\n",
    "    trees.append(count)\n",
    "\n",
    "prod(trees)"
   ]
  }
 ],
 "metadata": {
  "kernelspec": {
   "display_name": "Python 3 (ipykernel)",
   "language": "python",
   "name": "python3"
  },
  "language_info": {
   "codemirror_mode": {
    "name": "ipython",
    "version": 3
   },
   "file_extension": ".py",
   "mimetype": "text/x-python",
   "name": "python",
   "nbconvert_exporter": "python",
   "pygments_lexer": "ipython3",
   "version": "3.11.4"
  }
 },
 "nbformat": 4,
 "nbformat_minor": 4
}
