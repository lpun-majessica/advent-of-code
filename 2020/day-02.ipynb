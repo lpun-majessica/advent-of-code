{
 "cells": [
  {
   "cell_type": "markdown",
   "metadata": {},
   "source": [
    "[Advent of Code - Day 02](https://adventofcode.com/2020/day/2)"
   ]
  },
  {
   "cell_type": "markdown",
   "metadata": {},
   "source": [
    "# Import input"
   ]
  },
  {
   "cell_type": "code",
   "execution_count": 1,
   "metadata": {
    "execution": {
     "iopub.execute_input": "2024-11-08T10:15:46.858368Z",
     "iopub.status.busy": "2024-11-08T10:15:46.858368Z",
     "iopub.status.idle": "2024-11-08T10:15:47.805618Z",
     "shell.execute_reply": "2024-11-08T10:15:47.805618Z",
     "shell.execute_reply.started": "2024-11-08T10:15:46.858368Z"
    }
   },
   "outputs": [],
   "source": [
    "import sys\n",
    "\n",
    "sys.path.insert(0, \"../\")\n",
    "from utils import puzzle\n",
    "\n",
    "P = puzzle.Puzzle(year=\"2020\", day=\"02\")\n",
"INPUT = P.load_input()"
   ]
  },
  {
   "cell_type": "code",
   "execution_count": 2,
   "metadata": {
    "execution": {
     "iopub.execute_input": "2024-11-08T10:15:47.805618Z",
     "iopub.status.busy": "2024-11-08T10:15:47.805618Z",
     "iopub.status.idle": "2024-11-08T10:15:47.822319Z",
     "shell.execute_reply": "2024-11-08T10:15:47.820992Z",
     "shell.execute_reply.started": "2024-11-08T10:15:47.805618Z"
    }
   },
   "outputs": [
    {
     "data": {
      "text/plain": [
       "['1-5 k: kkkkhkkkkkkkkkk',\n",
       " '5-7 k: blkqhtxfgktdkxzkksk',\n",
       " '15-16 x: xxxxxxxxxxxxxxlf',\n",
       " '3-5 j: fjpvj',\n",
       " '17-20 x: zsxjrxkgxxxxxxxmxgxf']"
      ]
     },
     "execution_count": 2,
     "metadata": {},
     "output_type": "execute_result"
    }
   ],
   "source": [
    "INPUT[:5]"
   ]
  },
  {
   "cell_type": "markdown",
   "metadata": {},
   "source": [
    "# Solulu"
   ]
  },
  {
   "cell_type": "markdown",
   "metadata": {},
   "source": [
    "## Part 1"
   ]
  },
  {
   "cell_type": "code",
   "execution_count": 3,
   "metadata": {
    "execution": {
     "iopub.execute_input": "2024-11-08T10:15:47.823414Z",
     "iopub.status.busy": "2024-11-08T10:15:47.823414Z",
     "iopub.status.idle": "2024-11-08T10:15:47.841804Z",
     "shell.execute_reply": "2024-11-08T10:15:47.840770Z",
     "shell.execute_reply.started": "2024-11-08T10:15:47.823414Z"
    }
   },
   "outputs": [
    {
     "data": {
      "text/plain": [
       "519"
      ]
     },
     "execution_count": 3,
     "metadata": {},
     "output_type": "execute_result"
    }
   ],
   "source": [
    "res = 0\n",
    "\n",
    "for policy in INPUT:\n",
    "    words = policy.split()\n",
    "    lower, upper = map(int, words[0].split(\"-\"))\n",
    "    char = words[1][0]\n",
    "    pw = words[2]\n",
    "\n",
    "    res += pw.count(char) in range(lower, upper + 1)\n",
    "\n",
    "res"
   ]
  },
  {
   "cell_type": "markdown",
   "metadata": {},
   "source": [
    "## Part 2"
   ]
  },
  {
   "cell_type": "code",
   "execution_count": 4,
   "metadata": {
    "execution": {
     "iopub.execute_input": "2024-11-08T10:15:47.843787Z",
     "iopub.status.busy": "2024-11-08T10:15:47.842778Z",
     "iopub.status.idle": "2024-11-08T10:15:47.852197Z",
     "shell.execute_reply": "2024-11-08T10:15:47.852197Z",
     "shell.execute_reply.started": "2024-11-08T10:15:47.843787Z"
    }
   },
   "outputs": [
    {
     "data": {
      "text/plain": [
       "708"
      ]
     },
     "execution_count": 4,
     "metadata": {},
     "output_type": "execute_result"
    }
   ],
   "source": [
    "res = 0\n",
    "\n",
    "for policy in INPUT:\n",
    "    words = policy.split()\n",
    "    i1, i2 = map(int, words[0].split(\"-\"))\n",
    "    char = words[1][0]\n",
    "    pw = words[2]\n",
    "\n",
    "    res += (pw[i1 - 1] == char) ^ (pw[i2 - 1] == char)\n",
    "\n",
    "res"
   ]
  }
 ],
 "metadata": {
  "kernelspec": {
   "display_name": "Python 3 (ipykernel)",
   "language": "python",
   "name": "python3"
  },
  "language_info": {
   "codemirror_mode": {
    "name": "ipython",
    "version": 3
   },
   "file_extension": ".py",
   "mimetype": "text/x-python",
   "name": "python",
   "nbconvert_exporter": "python",
   "pygments_lexer": "ipython3",
   "version": "3.11.4"
  }
 },
 "nbformat": 4,
 "nbformat_minor": 4
}
