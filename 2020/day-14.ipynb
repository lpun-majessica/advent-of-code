{
 "cells": [
  {
   "cell_type": "markdown",
   "metadata": {},
   "source": [
    "[Advent of Code - Day 14](https://adventofcode.com/2020/day/14)"
   ]
  },
  {
   "cell_type": "markdown",
   "metadata": {},
   "source": [
    "# Import input"
   ]
  },
  {
   "cell_type": "code",
   "execution_count": 1,
   "metadata": {
    "execution": {
     "iopub.execute_input": "2024-11-19T10:38:32.563152Z",
     "iopub.status.busy": "2024-11-19T10:38:32.563152Z",
     "iopub.status.idle": "2024-11-19T10:38:33.579750Z",
     "shell.execute_reply": "2024-11-19T10:38:33.578702Z",
     "shell.execute_reply.started": "2024-11-19T10:38:32.563152Z"
    }
   },
   "outputs": [],
   "source": [
    "import sys\n",
    "\n",
    "sys.path.insert(0, \"../\")\n",
    "from utils import puzzle\n",
    "\n",
    "P = puzzle.Puzzle(year=\"2020\", day=\"14\")\n",
"INPUT = P.load_input()"
   ]
  },
  {
   "cell_type": "code",
   "execution_count": 2,
   "metadata": {
    "execution": {
     "iopub.execute_input": "2024-11-19T10:38:33.581712Z",
     "iopub.status.busy": "2024-11-19T10:38:33.581712Z",
     "iopub.status.idle": "2024-11-19T10:38:33.597240Z",
     "shell.execute_reply": "2024-11-19T10:38:33.596353Z",
     "shell.execute_reply.started": "2024-11-19T10:38:33.581712Z"
    }
   },
   "outputs": [
    {
     "data": {
      "text/plain": [
       "['mask = 0101111110011010X110100010X100000XX0',\n",
       " 'mem[46424] = 216719',\n",
       " 'mem[43628] = 6647',\n",
       " 'mem[21582] = 4737255',\n",
       " 'mem[62945] = 25540']"
      ]
     },
     "execution_count": 2,
     "metadata": {},
     "output_type": "execute_result"
    }
   ],
   "source": [
    "INPUT[:5]"
   ]
  },
  {
   "cell_type": "markdown",
   "metadata": {},
   "source": [
    "# Solulu"
   ]
  },
  {
   "cell_type": "code",
   "execution_count": 3,
   "metadata": {
    "execution": {
     "iopub.execute_input": "2024-11-19T10:38:33.599883Z",
     "iopub.status.busy": "2024-11-19T10:38:33.599883Z",
     "iopub.status.idle": "2024-11-19T10:38:33.606489Z",
     "shell.execute_reply": "2024-11-19T10:38:33.605197Z",
     "shell.execute_reply.started": "2024-11-19T10:38:33.599883Z"
    }
   },
   "outputs": [],
   "source": [
    "MASK, MEM = \"mask\", \"mem\""
   ]
  },
  {
   "cell_type": "markdown",
   "metadata": {},
   "source": [
    "## Part 1"
   ]
  },
  {
   "cell_type": "code",
   "execution_count": 4,
   "metadata": {
    "execution": {
     "iopub.execute_input": "2024-11-19T10:38:33.607489Z",
     "iopub.status.busy": "2024-11-19T10:38:33.607489Z",
     "iopub.status.idle": "2024-11-19T10:38:33.623125Z",
     "shell.execute_reply": "2024-11-19T10:38:33.622098Z",
     "shell.execute_reply.started": "2024-11-19T10:38:33.607489Z"
    }
   },
   "outputs": [
    {
     "data": {
      "text/plain": [
       "11612740949946"
      ]
     },
     "execution_count": 4,
     "metadata": {},
     "output_type": "execute_result"
    }
   ],
   "source": [
    "memory = dict()\n",
    "\n",
    "for line in INPUT:\n",
    "    if line.startswith(MASK):\n",
    "        _, mask = line.split(\" = \")\n",
    "\n",
    "    elif line.startswith(MEM):\n",
    "        address, decimal = line.split(\" = \")\n",
    "        address = int(address[4:-1])\n",
    "        decimal = int(decimal)\n",
    "        bit = bin(decimal)[2:].zfill(len(mask))\n",
    "        masked = \"\"\n",
    "\n",
    "        for m, d in zip(mask, bit):\n",
    "            if m == \"X\":\n",
    "                masked += d\n",
    "            else:\n",
    "                masked += m\n",
    "\n",
    "        memory[address] = int(masked, base=2)\n",
    "\n",
    "sum(memory.values())"
   ]
  },
  {
   "cell_type": "markdown",
   "metadata": {},
   "source": [
    "## Part 2"
   ]
  },
  {
   "cell_type": "code",
   "execution_count": 5,
   "metadata": {
    "execution": {
     "iopub.execute_input": "2024-11-19T10:38:33.623774Z",
     "iopub.status.busy": "2024-11-19T10:38:33.623774Z",
     "iopub.status.idle": "2024-11-19T10:38:34.441662Z",
     "shell.execute_reply": "2024-11-19T10:38:34.441662Z",
     "shell.execute_reply.started": "2024-11-19T10:38:33.623774Z"
    }
   },
   "outputs": [
    {
     "data": {
      "text/plain": [
       "3394509207186"
      ]
     },
     "execution_count": 5,
     "metadata": {},
     "output_type": "execute_result"
    }
   ],
   "source": [
    "memory = dict()\n",
    "\n",
    "for line in INPUT:\n",
    "    if line.startswith(MASK):\n",
    "        _, mask = line.split(\" = \")\n",
    "\n",
    "    elif line.startswith(MEM):\n",
    "        address, decimal = line.split(\" = \")\n",
    "        address = int(address[4:-1])\n",
    "        decimal = int(decimal)\n",
    "        bit = bin(address)[2:].zfill(len(mask))\n",
    "\n",
    "        queue = [\"\"]\n",
    "        addresses = list()\n",
    "\n",
    "        while queue:\n",
    "            num = queue.pop(0)\n",
    "            if len(num) == len(mask):\n",
    "                addresses.append(int(num, base=2))\n",
    "                continue\n",
    "\n",
    "            m, d = mask[len(num)], bit[len(num)]\n",
    "            if m == \"0\":\n",
    "                queue.append(num + d)\n",
    "            elif m == \"1\":\n",
    "                queue.append(num + m)\n",
    "            elif m == \"X\":\n",
    "                queue.extend([num + \"0\", num + \"1\"])\n",
    "\n",
    "        for add in addresses:\n",
    "            memory[add] = decimal\n",
    "\n",
    "sum(memory.values())"
   ]
  }
 ],
 "metadata": {
  "kernelspec": {
   "display_name": "Python 3 (ipykernel)",
   "language": "python",
   "name": "python3"
  },
  "language_info": {
   "codemirror_mode": {
    "name": "ipython",
    "version": 3
   },
   "file_extension": ".py",
   "mimetype": "text/x-python",
   "name": "python",
   "nbconvert_exporter": "python",
   "pygments_lexer": "ipython3",
   "version": "3.11.4"
  }
 },
 "nbformat": 4,
 "nbformat_minor": 4
}
