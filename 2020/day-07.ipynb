{
 "cells": [
  {
   "cell_type": "markdown",
   "metadata": {},
   "source": [
    "[Advent of Code - Day 07](https://adventofcode.com/2020/day/7)"
   ]
  },
  {
   "cell_type": "markdown",
   "metadata": {},
   "source": [
    "# Import input"
   ]
  },
  {
   "cell_type": "code",
   "execution_count": 1,
   "metadata": {
    "execution": {
     "iopub.execute_input": "2024-11-12T11:17:14.414866Z",
     "iopub.status.busy": "2024-11-12T11:17:14.414866Z",
     "iopub.status.idle": "2024-11-12T11:17:15.684948Z",
     "shell.execute_reply": "2024-11-12T11:17:15.684948Z",
     "shell.execute_reply.started": "2024-11-12T11:17:14.414866Z"
    }
   },
   "outputs": [],
   "source": [
    "import sys\n",
    "from collections import defaultdict\n",
    "\n",
    "sys.path.insert(0, \"../\")\n",
    "from utils import aoc_input as inp\n",
    "\n",
    "INPUT = inp.download_input(year=\"2020\", day=\"07\")"
   ]
  },
  {
   "cell_type": "code",
   "execution_count": 2,
   "metadata": {
    "execution": {
     "iopub.execute_input": "2024-11-12T11:17:15.684948Z",
     "iopub.status.busy": "2024-11-12T11:17:15.684948Z",
     "iopub.status.idle": "2024-11-12T11:17:15.703947Z",
     "shell.execute_reply": "2024-11-12T11:17:15.703947Z",
     "shell.execute_reply.started": "2024-11-12T11:17:15.684948Z"
    }
   },
   "outputs": [
    {
     "data": {
      "text/plain": [
       "['muted lavender bags contain 5 dull brown bags, 4 pale maroon bags, 2 drab orange bags.',\n",
       " 'plaid aqua bags contain 1 posh violet bag, 5 pale yellow bags, 4 bright salmon bags.',\n",
       " 'wavy lime bags contain 3 vibrant indigo bags, 1 posh gray bag.',\n",
       " 'pale coral bags contain 5 mirrored olive bags, 2 posh salmon bags.',\n",
       " 'faded chartreuse bags contain 1 plaid blue bag, 4 clear salmon bags, 5 muted teal bags.']"
      ]
     },
     "execution_count": 2,
     "metadata": {},
     "output_type": "execute_result"
    }
   ],
   "source": [
    "INPUT[:5]"
   ]
  },
  {
   "cell_type": "markdown",
   "metadata": {},
   "source": [
    "# Solulu"
   ]
  },
  {
   "cell_type": "code",
   "execution_count": 3,
   "metadata": {
    "execution": {
     "iopub.execute_input": "2024-11-12T11:17:15.705459Z",
     "iopub.status.busy": "2024-11-12T11:17:15.705459Z",
     "iopub.status.idle": "2024-11-12T11:17:15.729324Z",
     "shell.execute_reply": "2024-11-12T11:17:15.729324Z",
     "shell.execute_reply.started": "2024-11-12T11:17:15.705459Z"
    }
   },
   "outputs": [],
   "source": [
    "EMPTY = \"no\"\n",
    "SHINY_GOLD = \"shiny gold\""
   ]
  },
  {
   "cell_type": "code",
   "execution_count": 4,
   "metadata": {
    "execution": {
     "iopub.execute_input": "2024-11-12T11:17:15.733293Z",
     "iopub.status.busy": "2024-11-12T11:17:15.733293Z",
     "iopub.status.idle": "2024-11-12T11:17:15.754602Z",
     "shell.execute_reply": "2024-11-12T11:17:15.754602Z",
     "shell.execute_reply.started": "2024-11-12T11:17:15.733293Z"
    }
   },
   "outputs": [],
   "source": [
    "rules = defaultdict(list)\n",
    "\n",
    "for line in INPUT:\n",
    "    color, contents = line.split(\" contain \")\n",
    "    color = \" \".join(color.split()[:2])\n",
    "\n",
    "    for content in contents.split(\", \"):\n",
    "        if content.startswith(EMPTY):\n",
    "            rules[color].append(None)\n",
    "        else:\n",
    "            _ = content.split()\n",
    "            num, content_color = int(_[0]), \" \".join(_[1:3])\n",
    "\n",
    "            rules[color].append((content_color, num))"
   ]
  },
  {
   "cell_type": "markdown",
   "metadata": {},
   "source": [
    "## Part 1"
   ]
  },
  {
   "cell_type": "code",
   "execution_count": 5,
   "metadata": {
    "execution": {
     "iopub.execute_input": "2024-11-12T11:17:15.754602Z",
     "iopub.status.busy": "2024-11-12T11:17:15.754602Z",
     "iopub.status.idle": "2024-11-12T11:17:15.841345Z",
     "shell.execute_reply": "2024-11-12T11:17:15.841345Z",
     "shell.execute_reply.started": "2024-11-12T11:17:15.754602Z"
    }
   },
   "outputs": [
    {
     "data": {
      "text/plain": [
       "248"
      ]
     },
     "execution_count": 5,
     "metadata": {},
     "output_type": "execute_result"
    }
   ],
   "source": [
    "res = 0\n",
    "\n",
    "for color in rules:\n",
    "    if color == SHINY_GOLD:\n",
    "        continue\n",
    "\n",
    "    queue = [color]\n",
    "    while queue:\n",
    "        curr = queue.pop(0)\n",
    "        if curr == SHINY_GOLD:\n",
    "            res += 1\n",
    "            break\n",
    "\n",
    "        for rule in rules[curr]:\n",
    "            if rule:\n",
    "                queue.append(rule[0])\n",
    "\n",
    "res"
   ]
  },
  {
   "cell_type": "markdown",
   "metadata": {},
   "source": [
    "## Part 2"
   ]
  },
  {
   "cell_type": "code",
   "execution_count": 6,
   "metadata": {
    "execution": {
     "iopub.execute_input": "2024-11-12T11:17:15.841345Z",
     "iopub.status.busy": "2024-11-12T11:17:15.841345Z",
     "iopub.status.idle": "2024-11-12T11:17:15.854227Z",
     "shell.execute_reply": "2024-11-12T11:17:15.854227Z",
     "shell.execute_reply.started": "2024-11-12T11:17:15.841345Z"
    }
   },
   "outputs": [
    {
     "data": {
      "text/plain": [
       "57281"
      ]
     },
     "execution_count": 6,
     "metadata": {},
     "output_type": "execute_result"
    }
   ],
   "source": [
    "res = 0\n",
    "\n",
    "queue = [(SHINY_GOLD, 1)]\n",
    "\n",
    "while queue:\n",
    "    curr, qty = queue.pop(0)\n",
    "    if curr != SHINY_GOLD:\n",
    "        res += qty\n",
    "    for rule in rules[curr]:\n",
    "        if rule:\n",
    "            content_color, num = rule\n",
    "            queue.append((content_color, qty * num))\n",
    "\n",
    "res"
   ]
  }
 ],
 "metadata": {
  "kernelspec": {
   "display_name": "Python 3 (ipykernel)",
   "language": "python",
   "name": "python3"
  },
  "language_info": {
   "codemirror_mode": {
    "name": "ipython",
    "version": 3
   },
   "file_extension": ".py",
   "mimetype": "text/x-python",
   "name": "python",
   "nbconvert_exporter": "python",
   "pygments_lexer": "ipython3",
   "version": "3.11.4"
  }
 },
 "nbformat": 4,
 "nbformat_minor": 4
}
