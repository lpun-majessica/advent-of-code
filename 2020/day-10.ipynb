{
 "cells": [
  {
   "cell_type": "markdown",
   "metadata": {},
   "source": [
    "[Advent of Code - Day 10](https://adventofcode.com/2020/day/10)"
   ]
  },
  {
   "cell_type": "markdown",
   "metadata": {},
   "source": [
    "# Import input"
   ]
  },
  {
   "cell_type": "code",
   "execution_count": 1,
   "metadata": {
    "execution": {
     "iopub.execute_input": "2024-11-18T09:30:35.714192Z",
     "iopub.status.busy": "2024-11-18T09:30:35.714192Z",
     "iopub.status.idle": "2024-11-18T09:30:39.504310Z",
     "shell.execute_reply": "2024-11-18T09:30:39.504310Z",
     "shell.execute_reply.started": "2024-11-18T09:30:35.714192Z"
    }
   },
   "outputs": [],
   "source": [
    "import sys\n",
    "\n",
    "sys.path.insert(0, \"../\")\n",
    "from utils import puzzle\n",
    "\n",
    "P = puzzle.Puzzle(year=\"2020\", day=\"10\")\n",
"INPUT = P.load_input()"
   ]
  },
  {
   "cell_type": "code",
   "execution_count": 2,
   "metadata": {
    "execution": {
     "iopub.execute_input": "2024-11-18T09:30:39.507332Z",
     "iopub.status.busy": "2024-11-18T09:30:39.507332Z",
     "iopub.status.idle": "2024-11-18T09:30:39.519743Z",
     "shell.execute_reply": "2024-11-18T09:30:39.519743Z",
     "shell.execute_reply.started": "2024-11-18T09:30:39.507332Z"
    }
   },
   "outputs": [
    {
     "data": {
      "text/plain": [
       "['38', '23', '31', '16', '141']"
      ]
     },
     "execution_count": 2,
     "metadata": {},
     "output_type": "execute_result"
    }
   ],
   "source": [
    "INPUT[:5]"
   ]
  },
  {
   "cell_type": "markdown",
   "metadata": {},
   "source": [
    "# Solulu"
   ]
  },
  {
   "cell_type": "code",
   "execution_count": 3,
   "metadata": {
    "execution": {
     "iopub.execute_input": "2024-11-18T09:30:39.522128Z",
     "iopub.status.busy": "2024-11-18T09:30:39.522128Z",
     "iopub.status.idle": "2024-11-18T09:30:39.546277Z",
     "shell.execute_reply": "2024-11-18T09:30:39.546277Z",
     "shell.execute_reply.started": "2024-11-18T09:30:39.522128Z"
    }
   },
   "outputs": [],
   "source": [
    "start = 0\n",
    "ADAPTERS = [start] + sorted(map(int, INPUT))"
   ]
  },
  {
   "cell_type": "markdown",
   "metadata": {},
   "source": [
    "## Part 1"
   ]
  },
  {
   "cell_type": "code",
   "execution_count": 4,
   "metadata": {
    "execution": {
     "iopub.execute_input": "2024-11-18T09:30:39.548703Z",
     "iopub.status.busy": "2024-11-18T09:30:39.548703Z",
     "iopub.status.idle": "2024-11-18T09:30:39.559308Z",
     "shell.execute_reply": "2024-11-18T09:30:39.559308Z",
     "shell.execute_reply.started": "2024-11-18T09:30:39.548703Z"
    }
   },
   "outputs": [
    {
     "data": {
      "text/plain": [
       "1984"
      ]
     },
     "execution_count": 4,
     "metadata": {},
     "output_type": "execute_result"
    }
   ],
   "source": [
    "n = len(ADAPTERS)\n",
    "ADAPTERS.append(ADAPTERS[-1] + 3)\n",
    "\n",
    "diffs = list()\n",
    "\n",
    "for i in range(n):\n",
    "    curr, after = ADAPTERS[i], ADAPTERS[i + 1]\n",
    "    diff = after - curr\n",
    "    diffs.append(diff)\n",
    "\n",
    "diffs.count(3) * diffs.count(1)"
   ]
  },
  {
   "cell_type": "markdown",
   "metadata": {},
   "source": [
    "## Part 2"
   ]
  },
  {
   "cell_type": "code",
   "execution_count": 5,
   "metadata": {
    "execution": {
     "iopub.execute_input": "2024-11-18T09:30:39.559308Z",
     "iopub.status.busy": "2024-11-18T09:30:39.559308Z",
     "iopub.status.idle": "2024-11-18T09:30:39.573547Z",
     "shell.execute_reply": "2024-11-18T09:30:39.573547Z",
     "shell.execute_reply.started": "2024-11-18T09:30:39.559308Z"
    }
   },
   "outputs": [
    {
     "data": {
      "text/plain": [
       "3543369523456"
      ]
     },
     "execution_count": 5,
     "metadata": {},
     "output_type": "execute_result"
    }
   ],
   "source": [
    "count = 0\n",
    "res = 1\n",
    "arrangements = {1: 1, 2: 2, 3: 4, 4: 7}\n",
    "\n",
    "for diff in diffs:\n",
    "    if diff == 1:\n",
    "        count += 1\n",
    "    elif diff == 3 and count:\n",
    "        res *= arrangements[count]\n",
    "        count = 0\n",
    "\n",
    "res"
   ]
  }
 ],
 "metadata": {
  "kernelspec": {
   "display_name": "Python 3 (ipykernel)",
   "language": "python",
   "name": "python3"
  },
  "language_info": {
   "codemirror_mode": {
    "name": "ipython",
    "version": 3
   },
   "file_extension": ".py",
   "mimetype": "text/x-python",
   "name": "python",
   "nbconvert_exporter": "python",
   "pygments_lexer": "ipython3",
   "version": "3.11.4"
  }
 },
 "nbformat": 4,
 "nbformat_minor": 4
}
