{
 "cells": [
  {
   "cell_type": "markdown",
   "metadata": {},
   "source": [
    "[Advent of Code - Day 15](https://adventofcode.com/2020/day/15)"
   ]
  },
  {
   "cell_type": "markdown",
   "metadata": {},
   "source": [
    "# Import input"
   ]
  },
  {
   "cell_type": "code",
   "execution_count": 1,
   "metadata": {
    "execution": {
     "iopub.execute_input": "2024-11-20T07:36:19.339846Z",
     "iopub.status.busy": "2024-11-20T07:36:19.339846Z",
     "iopub.status.idle": "2024-11-20T07:36:20.841383Z",
     "shell.execute_reply": "2024-11-20T07:36:20.841383Z",
     "shell.execute_reply.started": "2024-11-20T07:36:19.339846Z"
    }
   },
   "outputs": [],
   "source": [
    "import sys\n",
    "\n",
    "sys.path.insert(0, \"../\")\n",
    "from utils import puzzle\n",
    "\n",
    "P = puzzle.Puzzle(year=\"2020\", day=\"15\")\n",
"INPUT = P.load_input()[0]"
   ]
  },
  {
   "cell_type": "code",
   "execution_count": 2,
   "metadata": {
    "execution": {
     "iopub.execute_input": "2024-11-20T07:36:20.845113Z",
     "iopub.status.busy": "2024-11-20T07:36:20.845113Z",
     "iopub.status.idle": "2024-11-20T07:36:20.865204Z",
     "shell.execute_reply": "2024-11-20T07:36:20.865204Z",
     "shell.execute_reply.started": "2024-11-20T07:36:20.845113Z"
    }
   },
   "outputs": [
    {
     "data": {
      "text/plain": [
       "'16,11'"
      ]
     },
     "execution_count": 2,
     "metadata": {},
     "output_type": "execute_result"
    }
   ],
   "source": [
    "INPUT[:5]"
   ]
  },
  {
   "cell_type": "markdown",
   "metadata": {},
   "source": [
    "# Solulu"
   ]
  },
  {
   "cell_type": "code",
   "execution_count": 3,
   "metadata": {
    "execution": {
     "iopub.execute_input": "2024-11-20T07:36:20.870219Z",
     "iopub.status.busy": "2024-11-20T07:36:20.870219Z",
     "iopub.status.idle": "2024-11-20T07:36:20.897275Z",
     "shell.execute_reply": "2024-11-20T07:36:20.897275Z",
     "shell.execute_reply.started": "2024-11-20T07:36:20.870219Z"
    }
   },
   "outputs": [],
   "source": [
    "nums = list(map(int, INPUT.split(\",\")))"
   ]
  },
  {
   "cell_type": "markdown",
   "metadata": {},
   "source": [
    "## Part 1"
   ]
  },
  {
   "cell_type": "code",
   "execution_count": 4,
   "metadata": {
    "execution": {
     "iopub.execute_input": "2024-11-20T07:36:20.897275Z",
     "iopub.status.busy": "2024-11-20T07:36:20.897275Z",
     "iopub.status.idle": "2024-11-20T07:36:20.921006Z",
     "shell.execute_reply": "2024-11-20T07:36:20.921006Z",
     "shell.execute_reply.started": "2024-11-20T07:36:20.897275Z"
    }
   },
   "outputs": [
    {
     "data": {
      "text/plain": [
       "662"
      ]
     },
     "execution_count": 4,
     "metadata": {},
     "output_type": "execute_result"
    }
   ],
   "source": [
    "END = 2020\n",
    "called = {num: i for i, num in enumerate(nums, start=1)}\n",
    "turn = len(nums) + 1\n",
    "num = 0\n",
    "\n",
    "while turn < END:\n",
    "    if num in called:\n",
    "        new_num = turn - called[num]\n",
    "    else:\n",
    "        new_num = 0\n",
    "\n",
    "    called[num] = turn\n",
    "    num = new_num\n",
    "    turn += 1\n",
    "\n",
    "num"
   ]
  },
  {
   "cell_type": "markdown",
   "metadata": {},
   "source": [
    "## Part 2"
   ]
  },
  {
   "cell_type": "code",
   "execution_count": 5,
   "metadata": {
    "execution": {
     "iopub.execute_input": "2024-11-20T07:36:20.921006Z",
     "iopub.status.busy": "2024-11-20T07:36:20.921006Z",
     "iopub.status.idle": "2024-11-20T07:36:58.286913Z",
     "shell.execute_reply": "2024-11-20T07:36:58.286913Z",
     "shell.execute_reply.started": "2024-11-20T07:36:20.921006Z"
    }
   },
   "outputs": [
    {
     "data": {
      "text/plain": [
       "37312"
      ]
     },
     "execution_count": 5,
     "metadata": {},
     "output_type": "execute_result"
    }
   ],
   "source": [
    "END = 30_000_000\n",
    "called = {num: i for i, num in enumerate(nums, start=1)}\n",
    "turn = len(nums) + 1\n",
    "num = 0\n",
    "\n",
    "while turn < END:\n",
    "    if num in called:\n",
    "        new_num = turn - called[num]\n",
    "    else:\n",
    "        new_num = 0\n",
    "\n",
    "    called[num] = turn\n",
    "    num = new_num\n",
    "    turn += 1\n",
    "\n",
    "num"
   ]
  }
 ],
 "metadata": {
  "kernelspec": {
   "display_name": "Python 3 (ipykernel)",
   "language": "python",
   "name": "python3"
  },
  "language_info": {
   "codemirror_mode": {
    "name": "ipython",
    "version": 3
   },
   "file_extension": ".py",
   "mimetype": "text/x-python",
   "name": "python",
   "nbconvert_exporter": "python",
   "pygments_lexer": "ipython3",
   "version": "3.11.4"
  }
 },
 "nbformat": 4,
 "nbformat_minor": 4
}
