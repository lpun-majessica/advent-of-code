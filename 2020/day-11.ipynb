{
 "cells": [
  {
   "cell_type": "markdown",
   "metadata": {},
   "source": [
    "[Advent of Code - Day 11](https://adventofcode.com/2020/day/11)"
   ]
  },
  {
   "cell_type": "markdown",
   "metadata": {},
   "source": [
    "# Import input"
   ]
  },
  {
   "cell_type": "code",
   "execution_count": 1,
   "metadata": {
    "execution": {
     "iopub.execute_input": "2024-11-18T10:05:53.215491Z",
     "iopub.status.busy": "2024-11-18T10:05:53.215491Z",
     "iopub.status.idle": "2024-11-18T10:05:54.392780Z",
     "shell.execute_reply": "2024-11-18T10:05:54.392780Z",
     "shell.execute_reply.started": "2024-11-18T10:05:53.215491Z"
    }
   },
   "outputs": [],
   "source": [
    "import sys\n",
    "from collections import defaultdict\n",
    "from itertools import product\n",
    "\n",
    "sys.path.insert(0, \"../\")\n",
    "from utils import puzzle\n",
    "\n",
    "P = puzzle.Puzzle(year=\"2020\", day=\"11\")\n",
"INPUT = P.load_input()"
   ]
  },
  {
   "cell_type": "code",
   "execution_count": 2,
   "metadata": {
    "execution": {
     "iopub.execute_input": "2024-11-18T10:05:54.395604Z",
     "iopub.status.busy": "2024-11-18T10:05:54.395604Z",
     "iopub.status.idle": "2024-11-18T10:05:54.413507Z",
     "shell.execute_reply": "2024-11-18T10:05:54.413507Z",
     "shell.execute_reply.started": "2024-11-18T10:05:54.395604Z"
    }
   },
   "outputs": [
    {
     "data": {
      "text/plain": [
       "['LLLLLLLLLL.LLLLLL.LLLLLLLLLLLL.LL.LLLL.LLLLL.LLLLLLL.LLLLLL.LLLLLL.LLLLLL.LLLLLLLLLLLLLLLLLL',\n",
       " 'LLLLLLLLLLLLLLLLLLLLLLLLLLLLLL.LLLLLLL.LLLLL.LLLLLLL.LLLLLLLLLLLLL.LLLL.L.LLLLLLLLLL.LLLLLLL',\n",
       " 'LLLLLLLLLL.LLLLLL.LLLLLL.LLLLL.LLLLLLLLLLLLLLLLLLLLL.LLLLLL..LLLLL.LLLLLL.LLLLLL.LLLLLLLLLLL',\n",
       " 'LLLLLLLLLL.LLLLLLLLLLLLL.LL.LL.LLLLL.L.LLLLL.LLLLLLL.LLLLLL.LLLLLLLLLLLLL.LLLLLLLLLLLLLLLLLL',\n",
       " 'LLLLLLLLLLLLLLLLL.LLLLLL.LLLLLLLLLLLLLLLLLLL.LLLLLLL.LLL.LL.LLLLLL.LLLLLL.LLLLLLLLLLLLLLLLLL']"
      ]
     },
     "execution_count": 2,
     "metadata": {},
     "output_type": "execute_result"
    }
   ],
   "source": [
    "INPUT[:5]"
   ]
  },
  {
   "cell_type": "markdown",
   "metadata": {},
   "source": [
    "# Solulu"
   ]
  },
  {
   "cell_type": "code",
   "execution_count": 3,
   "metadata": {
    "execution": {
     "iopub.execute_input": "2024-11-18T10:05:54.415898Z",
     "iopub.status.busy": "2024-11-18T10:05:54.415898Z",
     "iopub.status.idle": "2024-11-18T10:05:54.550863Z",
     "shell.execute_reply": "2024-11-18T10:05:54.550863Z",
     "shell.execute_reply.started": "2024-11-18T10:05:54.415898Z"
    }
   },
   "outputs": [],
   "source": [
    "HEIGHT, WIDTH = len(INPUT), len(INPUT[0])\n",
    "SEATS = dict()\n",
    "\n",
    "for row, col in product(range(HEIGHT), range(WIDTH)):\n",
    "    if INPUT[row][col] == \"L\":\n",
    "        SEATS[(row, col)] = 0"
   ]
  },
  {
   "cell_type": "code",
   "execution_count": 4,
   "metadata": {
    "execution": {
     "iopub.execute_input": "2024-11-18T10:05:54.551912Z",
     "iopub.status.busy": "2024-11-18T10:05:54.551912Z",
     "iopub.status.idle": "2024-11-18T10:05:54.580482Z",
     "shell.execute_reply": "2024-11-18T10:05:54.580482Z",
     "shell.execute_reply.started": "2024-11-18T10:05:54.551912Z"
    }
   },
   "outputs": [],
   "source": [
    "def simulate(seats: dict, neighbors: dict, tolerance: int) -> int:\n",
    "    change = True\n",
    "\n",
    "    while change:\n",
    "        new_seats = dict()\n",
    "        change = False\n",
    "\n",
    "        for row, col in seats:\n",
    "            occupied = 0\n",
    "\n",
    "            for neighbor in neighbors[(row, col)]:\n",
    "                nrow, ncol = neighbor\n",
    "                if neighbor in seats:\n",
    "                    if seats[(nrow, ncol)]:\n",
    "                        occupied += 1\n",
    "\n",
    "            if not seats[(row, col)] and not occupied:\n",
    "                change = True\n",
    "                new_seats[(row, col)] = 1\n",
    "            elif seats[(row, col)] and occupied >= tolerance:\n",
    "                change = True\n",
    "                new_seats[(row, col)] = 0\n",
    "            else:\n",
    "                new_seats[(row, col)] = seats[(row, col)]\n",
    "\n",
    "        seats = new_seats\n",
    "\n",
    "    return sum(seats.values())"
   ]
  },
  {
   "cell_type": "markdown",
   "metadata": {},
   "source": [
    "## Part 1"
   ]
  },
  {
   "cell_type": "code",
   "execution_count": 5,
   "metadata": {
    "execution": {
     "iopub.execute_input": "2024-11-18T10:05:54.580482Z",
     "iopub.status.busy": "2024-11-18T10:05:54.580482Z",
     "iopub.status.idle": "2024-11-18T10:05:54.641110Z",
     "shell.execute_reply": "2024-11-18T10:05:54.641110Z",
     "shell.execute_reply.started": "2024-11-18T10:05:54.580482Z"
    }
   },
   "outputs": [],
   "source": [
    "neighbors = dict()\n",
    "\n",
    "for row, col in SEATS:\n",
    "    neighbors[(row, col)] = [\n",
    "        (row - 1, col - 1),\n",
    "        (row - 1, col),\n",
    "        (row - 1, col + 1),\n",
    "        (row, col - 1),\n",
    "        (row, col + 1),\n",
    "        (row + 1, col - 1),\n",
    "        (row + 1, col),\n",
    "        (row + 1, col + 1),\n",
    "    ]"
   ]
  },
  {
   "cell_type": "code",
   "execution_count": 6,
   "metadata": {
    "execution": {
     "iopub.execute_input": "2024-11-18T10:05:54.641110Z",
     "iopub.status.busy": "2024-11-18T10:05:54.641110Z",
     "iopub.status.idle": "2024-11-18T10:05:55.893598Z",
     "shell.execute_reply": "2024-11-18T10:05:55.892477Z",
     "shell.execute_reply.started": "2024-11-18T10:05:54.641110Z"
    }
   },
   "outputs": [
    {
     "data": {
      "text/plain": [
       "2359"
      ]
     },
     "execution_count": 6,
     "metadata": {},
     "output_type": "execute_result"
    }
   ],
   "source": [
    "simulate(SEATS, neighbors, tolerance=4)"
   ]
  },
  {
   "cell_type": "markdown",
   "metadata": {},
   "source": [
    "## Part 2"
   ]
  },
  {
   "cell_type": "code",
   "execution_count": 7,
   "metadata": {
    "execution": {
     "iopub.execute_input": "2024-11-18T10:05:55.894798Z",
     "iopub.status.busy": "2024-11-18T10:05:55.894798Z",
     "iopub.status.idle": "2024-11-18T10:05:56.003197Z",
     "shell.execute_reply": "2024-11-18T10:05:56.003197Z",
     "shell.execute_reply.started": "2024-11-18T10:05:55.894798Z"
    }
   },
   "outputs": [],
   "source": [
    "neighbors = defaultdict(list)\n",
    "\n",
    "for row, col in SEATS:\n",
    "    directions = [\n",
    "        (-1, -1),\n",
    "        (-1, 0),\n",
    "        (-1, +1),\n",
    "        (0, -1),\n",
    "        (0, +1),\n",
    "        (+1, -1),\n",
    "        (+1, 0),\n",
    "        (+1, +1),\n",
    "    ]\n",
    "\n",
    "    for r, c in directions:\n",
    "        drow, dcol = row, col\n",
    "        while drow in range(HEIGHT) and dcol in range(WIDTH):\n",
    "            drow += r\n",
    "            dcol += c\n",
    "            if (drow, dcol) in SEATS:\n",
    "                neighbors[(row, col)].append((drow, dcol))\n",
    "                break"
   ]
  },
  {
   "cell_type": "code",
   "execution_count": 8,
   "metadata": {
    "execution": {
     "iopub.execute_input": "2024-11-18T10:05:56.003197Z",
     "iopub.status.busy": "2024-11-18T10:05:56.003197Z",
     "iopub.status.idle": "2024-11-18T10:05:57.752269Z",
     "shell.execute_reply": "2024-11-18T10:05:57.752269Z",
     "shell.execute_reply.started": "2024-11-18T10:05:56.003197Z"
    }
   },
   "outputs": [
    {
     "data": {
      "text/plain": [
       "2131"
      ]
     },
     "execution_count": 8,
     "metadata": {},
     "output_type": "execute_result"
    }
   ],
   "source": [
    "simulate(SEATS, neighbors, tolerance=5)"
   ]
  }
 ],
 "metadata": {
  "kernelspec": {
   "display_name": "Python 3 (ipykernel)",
   "language": "python",
   "name": "python3"
  },
  "language_info": {
   "codemirror_mode": {
    "name": "ipython",
    "version": 3
   },
   "file_extension": ".py",
   "mimetype": "text/x-python",
   "name": "python",
   "nbconvert_exporter": "python",
   "pygments_lexer": "ipython3",
   "version": "3.11.4"
  }
 },
 "nbformat": 4,
 "nbformat_minor": 4
}
