{
 "cells": [
  {
   "cell_type": "markdown",
   "id": "7226c8b0",
   "metadata": {},
   "source": [
    "[Advent of Code - Day 09](https://adventofcode.com/2023/day/9)"
   ]
  },
  {
   "cell_type": "markdown",
   "id": "8a5f4fc5",
   "metadata": {},
   "source": [
    "# Import *OASIS history report*"
   ]
  },
  {
   "cell_type": "code",
   "execution_count": 1,
   "id": "b49de109-bc40-42db-80da-909c325576a6",
   "metadata": {
    "execution": {
     "iopub.execute_input": "2024-10-04T10:32:27.782709Z",
     "iopub.status.busy": "2024-10-04T10:32:27.782709Z",
     "iopub.status.idle": "2024-10-04T10:32:28.775740Z",
     "shell.execute_reply": "2024-10-04T10:32:28.774460Z",
     "shell.execute_reply.started": "2024-10-04T10:32:27.782709Z"
    }
   },
   "outputs": [],
   "source": [
    "import sys\n",
    "\n",
    "sys.path.insert(0, \"../\")\n",
    "from utils import aoc_input as inp\n",
    "\n",
    "report = inp.download_input(year=\"2023\", day=\"09\")"
   ]
  },
  {
   "cell_type": "code",
   "execution_count": 2,
   "id": "dcd6ae1c",
   "metadata": {
    "execution": {
     "iopub.execute_input": "2024-10-04T10:32:28.779526Z",
     "iopub.status.busy": "2024-10-04T10:32:28.777471Z",
     "iopub.status.idle": "2024-10-04T10:32:28.793406Z",
     "shell.execute_reply": "2024-10-04T10:32:28.793406Z",
     "shell.execute_reply.started": "2024-10-04T10:32:28.779526Z"
    }
   },
   "outputs": [
    {
     "data": {
      "text/plain": [
       "[20,\n",
       " 42,\n",
       " 73,\n",
       " 115,\n",
       " 170,\n",
       " 240,\n",
       " 327,\n",
       " 433,\n",
       " 560,\n",
       " 710,\n",
       " 885,\n",
       " 1087,\n",
       " 1318,\n",
       " 1580,\n",
       " 1875,\n",
       " 2205,\n",
       " 2572,\n",
       " 2978,\n",
       " 3425,\n",
       " 3915,\n",
       " 4450]"
      ]
     },
     "execution_count": 2,
     "metadata": {},
     "output_type": "execute_result"
    }
   ],
   "source": [
    "report = [[int(x) for x in line.split()] for line in report]\n",
    "report[0]"
   ]
  },
  {
   "cell_type": "markdown",
   "id": "2af67d8d",
   "metadata": {},
   "source": [
    "# Sum of extrapolated values"
   ]
  },
  {
   "cell_type": "code",
   "execution_count": 3,
   "id": "500ebd26",
   "metadata": {
    "execution": {
     "iopub.execute_input": "2024-10-04T10:32:28.795408Z",
     "iopub.status.busy": "2024-10-04T10:32:28.794411Z",
     "iopub.status.idle": "2024-10-04T10:32:28.803360Z",
     "shell.execute_reply": "2024-10-04T10:32:28.803360Z",
     "shell.execute_reply.started": "2024-10-04T10:32:28.795408Z"
    }
   },
   "outputs": [],
   "source": [
    "def extrapolated_sum(report, reverse=False):\n",
    "    sequences = []\n",
    "\n",
    "    for index, history in enumerate(report):\n",
    "        if reverse:\n",
    "            current = history\n",
    "            report[index] = history\n",
    "        elif not reverse:\n",
    "            current = history[::-1]\n",
    "        substraction = {}\n",
    "        index = 1\n",
    "        while not all(value == 0 for value in current):\n",
    "            substraction[index] = []\n",
    "            for before, after in zip(current[:-1], current[1:]):\n",
    "                substraction[index].append(after - before)\n",
    "            current = substraction[index]\n",
    "            index += 1\n",
    "        sequences.append(substraction)\n",
    "\n",
    "    extrapolate = []\n",
    "\n",
    "    for line in sequences:\n",
    "        next_value = 0\n",
    "        for value in line.values():\n",
    "            next_value += value[-1]\n",
    "        extrapolate.append(next_value)\n",
    "\n",
    "    sum_ = 0\n",
    "\n",
    "    for history, next_value in zip(report, extrapolate):\n",
    "        if reverse:\n",
    "            sum_ += history[-1] + next_value\n",
    "        elif not reverse:\n",
    "            sum_ += history[0] + next_value\n",
    "\n",
    "    return sum_"
   ]
  },
  {
   "cell_type": "markdown",
   "id": "43163db9",
   "metadata": {},
   "source": [
    "## Part 1"
   ]
  },
  {
   "cell_type": "code",
   "execution_count": 4,
   "id": "b8c186f1",
   "metadata": {
    "execution": {
     "iopub.execute_input": "2024-10-04T10:32:28.803360Z",
     "iopub.status.busy": "2024-10-04T10:32:28.803360Z",
     "iopub.status.idle": "2024-10-04T10:32:28.819150Z",
     "shell.execute_reply": "2024-10-04T10:32:28.819150Z",
     "shell.execute_reply.started": "2024-10-04T10:32:28.803360Z"
    }
   },
   "outputs": [
    {
     "data": {
      "text/plain": [
       "995"
      ]
     },
     "execution_count": 4,
     "metadata": {},
     "output_type": "execute_result"
    }
   ],
   "source": [
    "extrapolated_sum(report, reverse=False)"
   ]
  },
  {
   "cell_type": "markdown",
   "id": "0a508294",
   "metadata": {},
   "source": [
    "## Part 2"
   ]
  },
  {
   "cell_type": "code",
   "execution_count": 5,
   "id": "8270ecf7",
   "metadata": {
    "execution": {
     "iopub.execute_input": "2024-10-04T10:32:28.819150Z",
     "iopub.status.busy": "2024-10-04T10:32:28.819150Z",
     "iopub.status.idle": "2024-10-04T10:32:28.833146Z",
     "shell.execute_reply": "2024-10-04T10:32:28.833146Z",
     "shell.execute_reply.started": "2024-10-04T10:32:28.819150Z"
    }
   },
   "outputs": [
    {
     "data": {
      "text/plain": [
       "1757008019"
      ]
     },
     "execution_count": 5,
     "metadata": {},
     "output_type": "execute_result"
    }
   ],
   "source": [
    "extrapolated_sum(report, reverse=True)"
   ]
  }
 ],
 "metadata": {
  "kernelspec": {
   "display_name": "Python 3 (ipykernel)",
   "language": "python",
   "name": "python3"
  },
  "language_info": {
   "codemirror_mode": {
    "name": "ipython",
    "version": 3
   },
   "file_extension": ".py",
   "mimetype": "text/x-python",
   "name": "python",
   "nbconvert_exporter": "python",
   "pygments_lexer": "ipython3",
   "version": "3.11.4"
  }
 },
 "nbformat": 4,
 "nbformat_minor": 5
}
