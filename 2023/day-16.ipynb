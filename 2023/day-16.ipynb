{
 "cells": [
  {
   "cell_type": "markdown",
   "id": "b08b44e3",
   "metadata": {},
   "source": [
    "[Advent of Code - Day 16](https://adventofcode.com/2023/day/16)"
   ]
  },
  {
   "cell_type": "markdown",
   "id": "6d06e159",
   "metadata": {},
   "source": [
    "# Import *Contraption*"
   ]
  },
  {
   "cell_type": "code",
   "execution_count": 1,
   "id": "39e62274-b574-4bfb-9ef5-f6cc3609d88e",
   "metadata": {
    "execution": {
     "iopub.execute_input": "2024-10-24T02:40:17.080793Z",
     "iopub.status.busy": "2024-10-24T02:40:17.080793Z",
     "iopub.status.idle": "2024-10-24T02:40:18.141945Z",
     "shell.execute_reply": "2024-10-24T02:40:18.141945Z",
     "shell.execute_reply.started": "2024-10-24T02:40:17.080793Z"
    }
   },
   "outputs": [],
   "source": [
    "import sys\n",
    "from itertools import product\n",
    "\n",
    "sys.path.insert(0, \"../\")\n",
    "from utils import aoc_input as inp\n",
    "\n",
    "contraption = inp.download_input(year=\"2023\", day=\"16\")"
   ]
  },
  {
   "cell_type": "code",
   "execution_count": 2,
   "id": "91447876-f240-4152-b144-ddfef0c483cd",
   "metadata": {
    "execution": {
     "iopub.execute_input": "2024-10-24T02:40:18.141945Z",
     "iopub.status.busy": "2024-10-24T02:40:18.141945Z",
     "iopub.status.idle": "2024-10-24T02:40:18.160016Z",
     "shell.execute_reply": "2024-10-24T02:40:18.160016Z",
     "shell.execute_reply.started": "2024-10-24T02:40:18.141945Z"
    }
   },
   "outputs": [
    {
     "data": {
      "text/plain": [
       "['\\\\./....\\\\../......................|............../-.......|....................|....../|\\\\..../.............\\\\...',\n",
       " '...........|.-.............|.././........../........................./...........||.....................-....\\\\',\n",
       " '...............\\\\.............-...................-............/.|...|.......-...............................-.',\n",
       " '.......................................\\\\..|-.../\\\\....../.........|............/...|.....-.|...........\\\\...|...',\n",
       " '............/.-..|...\\\\........|...........-......................\\\\.........-........\\\\....../....|.........|...']"
      ]
     },
     "execution_count": 2,
     "metadata": {},
     "output_type": "execute_result"
    }
   ],
   "source": [
    "contraption[:5]"
   ]
  },
  {
   "cell_type": "markdown",
   "id": "2c9daf45",
   "metadata": {},
   "source": [
    "# (Maximum) total of *Energised tiles*"
   ]
  },
  {
   "cell_type": "code",
   "execution_count": 3,
   "id": "ec8cb150-93f8-40c7-83d2-63db2c110b9d",
   "metadata": {
    "execution": {
     "iopub.execute_input": "2024-10-24T02:40:18.162615Z",
     "iopub.status.busy": "2024-10-24T02:40:18.162615Z",
     "iopub.status.idle": "2024-10-24T02:40:18.172355Z",
     "shell.execute_reply": "2024-10-24T02:40:18.172355Z",
     "shell.execute_reply.started": "2024-10-24T02:40:18.162615Z"
    }
   },
   "outputs": [],
   "source": [
    "height, width = len(contraption), len(contraption[0])\n",
    "directions = {\n",
    "    0: (0, +1),\n",
    "    1: (+1, 0),\n",
    "    2: (0, -1),\n",
    "    3: (-1, 0),\n",
    "}\n",
    "horizontals = [0, 2]\n",
    "verticals = [1, 3]"
   ]
  },
  {
   "cell_type": "code",
   "execution_count": 4,
   "id": "2d1c3d8e-de74-4cea-9f62-ef0227707375",
   "metadata": {
    "execution": {
     "iopub.execute_input": "2024-10-24T02:40:18.172355Z",
     "iopub.status.busy": "2024-10-24T02:40:18.172355Z",
     "iopub.status.idle": "2024-10-24T02:40:18.188302Z",
     "shell.execute_reply": "2024-10-24T02:40:18.188302Z",
     "shell.execute_reply.started": "2024-10-24T02:40:18.172355Z"
    }
   },
   "outputs": [],
   "source": [
    "def energise(start: tuple, starting_direction: int) -> int:\n",
    "    queue = [[start, starting_direction]]\n",
    "    visited = set()\n",
    "    energised = set()\n",
    "\n",
    "    while queue:\n",
    "        position, direction = queue.pop(0)\n",
    "        row, col = position\n",
    "\n",
    "        while row in range(height) and col in range(width):\n",
    "            if (position, direction) in visited:\n",
    "                break\n",
    "            visited.add((position, direction))\n",
    "            tile = contraption[row][col]\n",
    "\n",
    "            if tile == \"/\":\n",
    "                if direction in horizontals:\n",
    "                    direction = (direction - 1) % len(directions)\n",
    "                elif direction in verticals:\n",
    "                    direction = (direction + 1) % len(directions)\n",
    "            elif tile == \"\\\\\":\n",
    "                if direction in horizontals:\n",
    "                    direction = (direction + 1) % len(directions)\n",
    "                elif direction in verticals:\n",
    "                    direction = (direction - 1) % len(directions)\n",
    "            elif tile == \"|\" and direction in horizontals:\n",
    "                direction = verticals[0]\n",
    "                queue.append([position, verticals[1]])\n",
    "            elif tile == \"-\" and direction in verticals:\n",
    "                direction = horizontals[0]\n",
    "                queue.append([position, horizontals[1]])\n",
    "\n",
    "            rr, cc = directions[direction]\n",
    "            position = (row := row + rr, col := col + cc)\n",
    "\n",
    "    for tile, _ in visited:\n",
    "        energised.add(tile)\n",
    "\n",
    "    return len(energised)"
   ]
  },
  {
   "cell_type": "code",
   "execution_count": 5,
   "id": "3965f6db-4a4d-4fda-b0f5-75ff27a5002f",
   "metadata": {
    "execution": {
     "iopub.execute_input": "2024-10-24T02:40:18.188302Z",
     "iopub.status.busy": "2024-10-24T02:40:18.188302Z",
     "iopub.status.idle": "2024-10-24T02:40:18.199238Z",
     "shell.execute_reply": "2024-10-24T02:40:18.199238Z",
     "shell.execute_reply.started": "2024-10-24T02:40:18.188302Z"
    }
   },
   "outputs": [],
   "source": [
    "def calc_direction(start: tuple) -> list:\n",
    "    global height, width\n",
    "    row, col = start\n",
    "    directions = list()\n",
    "    if row == 0:\n",
    "        directions.append(1)\n",
    "    elif row == height - 1:\n",
    "        directions.append(3)\n",
    "\n",
    "    if col == 0:\n",
    "        directions.append(0)\n",
    "    elif col == width - 1:\n",
    "        directions.append(2)\n",
    "\n",
    "    return directions"
   ]
  },
  {
   "cell_type": "markdown",
   "id": "f65149a5",
   "metadata": {},
   "source": [
    "## Part 1: Total of *Energised tiles*"
   ]
  },
  {
   "cell_type": "code",
   "execution_count": 6,
   "id": "87a19b13-2796-415e-94a2-57424a158304",
   "metadata": {
    "execution": {
     "iopub.execute_input": "2024-10-24T02:40:18.199238Z",
     "iopub.status.busy": "2024-10-24T02:40:18.199238Z",
     "iopub.status.idle": "2024-10-24T02:40:18.238747Z",
     "shell.execute_reply": "2024-10-24T02:40:18.238747Z",
     "shell.execute_reply.started": "2024-10-24T02:40:18.199238Z"
    }
   },
   "outputs": [
    {
     "data": {
      "text/plain": [
       "7210"
      ]
     },
     "execution_count": 6,
     "metadata": {},
     "output_type": "execute_result"
    }
   ],
   "source": [
    "energise(start=(0, 0), starting_direction=0)"
   ]
  },
  {
   "cell_type": "markdown",
   "id": "fd1cb0ef",
   "metadata": {},
   "source": [
    "## Part 2: Maximum total of *Energised tiles*"
   ]
  },
  {
   "cell_type": "code",
   "execution_count": 7,
   "id": "d5d11565-a021-4538-8213-34f2f9166894",
   "metadata": {
    "execution": {
     "iopub.execute_input": "2024-10-24T02:40:18.238747Z",
     "iopub.status.busy": "2024-10-24T02:40:18.238747Z",
     "iopub.status.idle": "2024-10-24T02:40:25.219379Z",
     "shell.execute_reply": "2024-10-24T02:40:25.219379Z",
     "shell.execute_reply.started": "2024-10-24T02:40:18.238747Z"
    }
   },
   "outputs": [
    {
     "data": {
      "text/plain": [
       "7673"
      ]
     },
     "execution_count": 7,
     "metadata": {},
     "output_type": "execute_result"
    }
   ],
   "source": [
    "max_energised = 0\n",
    "combos = [[[0, height - 1], range(width)], [range(height), [0, width - 1]]]\n",
    "\n",
    "for combo in combos:\n",
    "    for start in product(*combo):\n",
    "        starting_directions = calc_direction(start)\n",
    "        for starting_direction in starting_directions:\n",
    "            energised = energise(start, starting_direction)\n",
    "            max_energised = max(max_energised, energised)\n",
    "\n",
    "max_energised"
   ]
  }
 ],
 "metadata": {
  "kernelspec": {
   "display_name": "Python 3 (ipykernel)",
   "language": "python",
   "name": "python3"
  },
  "language_info": {
   "codemirror_mode": {
    "name": "ipython",
    "version": 3
   },
   "file_extension": ".py",
   "mimetype": "text/x-python",
   "name": "python",
   "nbconvert_exporter": "python",
   "pygments_lexer": "ipython3",
   "version": "3.11.4"
  }
 },
 "nbformat": 4,
 "nbformat_minor": 5
}
