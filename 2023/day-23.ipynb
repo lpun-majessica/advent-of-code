{
 "cells": [
  {
   "cell_type": "markdown",
   "id": "d0e30fb6-e583-4897-a3a4-4579da220be1",
   "metadata": {},
   "source": [
    "[Advent of Code - Day 23](https://adventofcode.com/2023/day/23)"
   ]
  },
  {
   "cell_type": "markdown",
   "id": "9e316571-ff48-40e5-8357-5e0d51859e9c",
   "metadata": {},
   "source": [
    "# Import *Map of Hiking trails*"
   ]
  },
  {
   "cell_type": "code",
   "execution_count": 1,
   "id": "c032d008-7582-4899-934b-8bf025d07e38",
   "metadata": {
    "execution": {
     "iopub.execute_input": "2024-11-06T03:03:12.523124Z",
     "iopub.status.busy": "2024-11-06T03:03:12.523124Z",
     "iopub.status.idle": "2024-11-06T03:03:13.841110Z",
     "shell.execute_reply": "2024-11-06T03:03:13.841110Z",
     "shell.execute_reply.started": "2024-11-06T03:03:12.523124Z"
    }
   },
   "outputs": [],
   "source": [
    "import sys\n",
    "from itertools import product\n",
    "\n",
    "sys.path.insert(0, \"../\")\n",
    "from utils import aoc_input as inp\n",
    "\n",
    "MAP = inp.download_input(year=\"2023\", day=\"23\")"
   ]
  },
  {
   "cell_type": "code",
   "execution_count": 2,
   "id": "f4c117d2-4eae-4dd4-9b00-0fb7a3640e29",
   "metadata": {
    "execution": {
     "iopub.execute_input": "2024-11-06T03:03:13.845122Z",
     "iopub.status.busy": "2024-11-06T03:03:13.845122Z",
     "iopub.status.idle": "2024-11-06T03:03:13.862968Z",
     "shell.execute_reply": "2024-11-06T03:03:13.862968Z",
     "shell.execute_reply.started": "2024-11-06T03:03:13.845122Z"
    },
    "tags": []
   },
   "outputs": [
    {
     "data": {
      "text/plain": [
       "['#.###########################################################################################################################################',\n",
       " '#.#.................#...#...#...###.....#####...#.....###...#...###...#.......#.....#...#...###...###...#...###...###...#...#.....#...#.....#',\n",
       " '#.#.###############.#.#.#.#.#.#.###.###.#####.#.#.###.###.#.#.#.###.#.#.#####.#.###.#.#.#.#.###.#.###.#.#.#.###.#.###.#.#.#.#.###.#.#.#.###.#',\n",
       " '#.#...#.............#.#...#.#.#...#.#...#.....#.#...#...#.#...#.#...#.#.....#...#...#.#.#.#.#...#.###.#.#.#.#...#.....#.#.#.#...#...#.#...#.#',\n",
       " '#.###.#.#############.#####.#.###.#.#.###.#####.###.###.#.#####.#.###.#####.#####.###.#.#.#.#.###.###.#.#.#.#.#########.#.#.###.#####.###.#.#']"
      ]
     },
     "execution_count": 2,
     "metadata": {},
     "output_type": "execute_result"
    }
   ],
   "source": [
    "MAP[:5]"
   ]
  },
  {
   "cell_type": "markdown",
   "id": "ac1be7e3-3be1-408a-9cfd-8e958b86b414",
   "metadata": {},
   "source": [
    "# Longest *Hiking trail*"
   ]
  },
  {
   "cell_type": "code",
   "execution_count": 3,
   "id": "ad09c334-f801-467b-96ff-dc03a084b988",
   "metadata": {
    "execution": {
     "iopub.execute_input": "2024-11-06T03:03:13.862968Z",
     "iopub.status.busy": "2024-11-06T03:03:13.862968Z",
     "iopub.status.idle": "2024-11-06T03:03:13.885272Z",
     "shell.execute_reply": "2024-11-06T03:03:13.884762Z",
     "shell.execute_reply.started": "2024-11-06T03:03:13.862968Z"
    }
   },
   "outputs": [],
   "source": [
    "MAP = [list(line) for line in MAP]"
   ]
  },
  {
   "cell_type": "code",
   "execution_count": 4,
   "id": "08fcef34-e3e7-4fba-a313-df538fa66b80",
   "metadata": {
    "execution": {
     "iopub.execute_input": "2024-11-06T03:03:13.886681Z",
     "iopub.status.busy": "2024-11-06T03:03:13.886681Z",
     "iopub.status.idle": "2024-11-06T03:03:13.904607Z",
     "shell.execute_reply": "2024-11-06T03:03:13.904607Z",
     "shell.execute_reply.started": "2024-11-06T03:03:13.886681Z"
    },
    "tags": []
   },
   "outputs": [],
   "source": [
    "PATH, FOREST = \".\", \"#\"\n",
    "HEIGHT, WIDTH = len(MAP), len(MAP[0])\n",
    "\n",
    "START = (0, MAP[0].index(PATH))\n",
    "END = (HEIGHT - 1, MAP[HEIGHT - 1].index(PATH))"
   ]
  },
  {
   "cell_type": "code",
   "execution_count": 5,
   "id": "1e43e7cf-2d82-40a4-9ff8-e96c85a9adcb",
   "metadata": {
    "execution": {
     "iopub.execute_input": "2024-11-06T03:03:13.908438Z",
     "iopub.status.busy": "2024-11-06T03:03:13.907424Z",
     "iopub.status.idle": "2024-11-06T03:03:13.917868Z",
     "shell.execute_reply": "2024-11-06T03:03:13.917868Z",
     "shell.execute_reply.started": "2024-11-06T03:03:13.908438Z"
    }
   },
   "outputs": [],
   "source": [
    "UP, DOWN, LEFT, RIGHT = \"^\", \"v\", \"<\", \">\"\n",
    "\n",
    "SLOPES = {\n",
    "    UP: (-1, 0),\n",
    "    DOWN: (+1, 0),\n",
    "    LEFT: (0, -1),\n",
    "    RIGHT: (0, +1),\n",
    "}"
   ]
  },
  {
   "cell_type": "markdown",
   "id": "a82f43da-18a1-4d44-a3b6-b2944726ffe6",
   "metadata": {},
   "source": [
    "## Part 1: With *Slopes*"
   ]
  },
  {
   "cell_type": "code",
   "execution_count": 6,
   "id": "6b8ea2e8-471e-422a-a360-3e6291cfaba9",
   "metadata": {
    "execution": {
     "iopub.execute_input": "2024-11-06T03:03:13.923782Z",
     "iopub.status.busy": "2024-11-06T03:03:13.923172Z",
     "iopub.status.idle": "2024-11-06T03:03:17.044312Z",
     "shell.execute_reply": "2024-11-06T03:03:17.044312Z",
     "shell.execute_reply.started": "2024-11-06T03:03:13.923782Z"
    }
   },
   "outputs": [
    {
     "data": {
      "text/plain": [
       "1966"
      ]
     },
     "execution_count": 6,
     "metadata": {},
     "output_type": "execute_result"
    }
   ],
   "source": [
    "queue = [(START, set())]\n",
    "trails = list()\n",
    "\n",
    "while queue:\n",
    "    (row, col), trail = queue.pop()\n",
    "    new_trail = trail.copy()\n",
    "    new_trail.add((row, col))\n",
    "\n",
    "    if row not in range(HEIGHT) or col not in range(WIDTH):\n",
    "        continue\n",
    "    position = MAP[row][col]\n",
    "\n",
    "    if (row, col) == END:\n",
    "        trails.append(len(trail))\n",
    "    elif position == FOREST:\n",
    "        continue\n",
    "    elif position in SLOPES:\n",
    "        rr, cc = SLOPES[position]\n",
    "        next_coord = (row + rr, col + cc)\n",
    "        queue.append((next_coord, new_trail))\n",
    "    elif position == PATH:\n",
    "        for slope, (rr, cc) in SLOPES.items():\n",
    "            next_row, next_col = row + rr, col + cc\n",
    "            next_coord = (next_row, next_col)\n",
    "\n",
    "            if MAP[next_row][next_col] not in (slope, PATH):\n",
    "                continue\n",
    "\n",
    "            if next_coord in new_trail:\n",
    "                continue\n",
    "            else:\n",
    "                queue.append((next_coord, new_trail))\n",
    "\n",
    "max(trails)"
   ]
  },
  {
   "cell_type": "markdown",
   "id": "be3150c9-131e-40d4-9288-38a3dff1a8d3",
   "metadata": {},
   "source": [
    "## Part 2: Without *Slopes*"
   ]
  },
  {
   "cell_type": "code",
   "execution_count": 7,
   "id": "32d3f7f3-e22d-4d88-90a0-9f9fa8731aa7",
   "metadata": {
    "execution": {
     "iopub.execute_input": "2024-11-06T03:03:17.049209Z",
     "iopub.status.busy": "2024-11-06T03:03:17.049209Z",
     "iopub.status.idle": "2024-11-06T03:03:17.073387Z",
     "shell.execute_reply": "2024-11-06T03:03:17.072880Z",
     "shell.execute_reply.started": "2024-11-06T03:03:17.049209Z"
    }
   },
   "outputs": [],
   "source": [
    "for row, col in product(range(HEIGHT), range(WIDTH)):\n",
    "    if MAP[row][col] in SLOPES:\n",
    "        MAP[row][col] = PATH"
   ]
  }
 ],
 "metadata": {
  "kernelspec": {
   "display_name": "Python 3 (ipykernel)",
   "language": "python",
   "name": "python3"
  },
  "language_info": {
   "codemirror_mode": {
    "name": "ipython",
    "version": 3
   },
   "file_extension": ".py",
   "mimetype": "text/x-python",
   "name": "python",
   "nbconvert_exporter": "python",
   "pygments_lexer": "ipython3",
   "version": "3.11.4"
  }
 },
 "nbformat": 4,
 "nbformat_minor": 5
}
