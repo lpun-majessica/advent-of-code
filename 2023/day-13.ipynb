{
 "cells": [
  {
   "cell_type": "markdown",
   "id": "c86d2a44",
   "metadata": {},
   "source": [
    "[Advent of Code - Day 13](https://adventofcode.com/2023/day/13)"
   ]
  },
  {
   "cell_type": "markdown",
   "id": "658a89ae",
   "metadata": {},
   "source": [
    "# Import *Patterns of ashes and rocks*"
   ]
  },
  {
   "cell_type": "code",
   "execution_count": 1,
   "id": "b020132f-2fa3-4c52-9d94-d79c403ded64",
   "metadata": {
    "execution": {
     "iopub.execute_input": "2024-10-04T10:44:18.547174Z",
     "iopub.status.busy": "2024-10-04T10:44:18.547174Z",
     "iopub.status.idle": "2024-10-04T10:44:19.576182Z",
     "shell.execute_reply": "2024-10-04T10:44:19.576182Z",
     "shell.execute_reply.started": "2024-10-04T10:44:18.547174Z"
    }
   },
   "outputs": [],
   "source": [
    "import sys\n",
    "import numpy as np\n",
    "\n",
    "sys.path.insert(0, \"../\")\n",
    "from utils import aoc_input as inp\n",
    "\n",
    "INPUT = inp.download_input(year=\"2023\", day=\"13\")"
   ]
  },
  {
   "cell_type": "code",
   "execution_count": 2,
   "id": "70a95b67-2680-4b3e-b9a0-ef56c61f3d64",
   "metadata": {
    "execution": {
     "iopub.execute_input": "2024-10-04T10:44:19.580847Z",
     "iopub.status.busy": "2024-10-04T10:44:19.576182Z",
     "iopub.status.idle": "2024-10-04T10:44:19.594425Z",
     "shell.execute_reply": "2024-10-04T10:44:19.593279Z",
     "shell.execute_reply.started": "2024-10-04T10:44:19.580847Z"
    }
   },
   "outputs": [
    {
     "data": {
      "text/plain": [
       "['#.#.##..#.#..',\n",
       " '.##.##...#.##',\n",
       " '.######.....#',\n",
       " '#....#..###..',\n",
       " '#########.#..']"
      ]
     },
     "execution_count": 2,
     "metadata": {},
     "output_type": "execute_result"
    }
   ],
   "source": [
    "INPUT[:5]"
   ]
  },
  {
   "cell_type": "code",
   "execution_count": 3,
   "id": "5aaae31d",
   "metadata": {
    "execution": {
     "iopub.execute_input": "2024-10-04T10:44:19.597594Z",
     "iopub.status.busy": "2024-10-04T10:44:19.596906Z",
     "iopub.status.idle": "2024-10-04T10:44:19.608520Z",
     "shell.execute_reply": "2024-10-04T10:44:19.608520Z",
     "shell.execute_reply.started": "2024-10-04T10:44:19.597594Z"
    }
   },
   "outputs": [],
   "source": [
    "index = 1\n",
    "patterns = {index: []}\n",
    "\n",
    "for line in INPUT:\n",
    "    if line == \"\":\n",
    "        index += 1\n",
    "        patterns[index] = []\n",
    "\n",
    "    else:\n",
    "        patterns[index].append(list(line))"
   ]
  },
  {
   "cell_type": "code",
   "execution_count": 4,
   "id": "39238e9d",
   "metadata": {
    "execution": {
     "iopub.execute_input": "2024-10-04T10:44:19.608520Z",
     "iopub.status.busy": "2024-10-04T10:44:19.608520Z",
     "iopub.status.idle": "2024-10-04T10:44:19.620190Z",
     "shell.execute_reply": "2024-10-04T10:44:19.620190Z",
     "shell.execute_reply.started": "2024-10-04T10:44:19.608520Z"
    }
   },
   "outputs": [],
   "source": [
    "for arr_no, arr in patterns.items():\n",
    "    patterns.update({arr_no: np.array(arr)})"
   ]
  },
  {
   "cell_type": "markdown",
   "id": "b073198f",
   "metadata": {},
   "source": [
    "# Sums of *Reflection notes*"
   ]
  },
  {
   "cell_type": "code",
   "execution_count": 5,
   "id": "4638dd7b",
   "metadata": {
    "execution": {
     "iopub.execute_input": "2024-10-04T10:44:19.620190Z",
     "iopub.status.busy": "2024-10-04T10:44:19.620190Z",
     "iopub.status.idle": "2024-10-04T10:44:19.631410Z",
     "shell.execute_reply": "2024-10-04T10:44:19.631410Z",
     "shell.execute_reply.started": "2024-10-04T10:44:19.620190Z"
    }
   },
   "outputs": [],
   "source": [
    "def note_sum(patterns, smudge=False):\n",
    "    sum_ = 0\n",
    "\n",
    "    for arr in patterns.values():\n",
    "        horiz, vertic = arr.shape\n",
    "\n",
    "        for mirror in range(1, int((horiz + 1) / 2)):\n",
    "            if mirror == 1:\n",
    "                if np.size(arr[mirror]) - np.count_nonzero(arr[0] == arr[1]) == smudge:\n",
    "                    sum_ += mirror * 100\n",
    "                if (\n",
    "                    np.size(arr[mirror]) - np.count_nonzero(arr[-1] == arr[-2])\n",
    "                    == smudge\n",
    "                ):\n",
    "                    sum_ += (horiz - mirror) * 100\n",
    "            else:\n",
    "                if (\n",
    "                    np.size(arr[:mirror])\n",
    "                    - np.count_nonzero(\n",
    "                        arr[:mirror] == arr[(mirror * 2) - 1 : mirror - 1 : -1]\n",
    "                    )\n",
    "                    == smudge\n",
    "                ):\n",
    "                    sum_ += mirror * 100\n",
    "                if (\n",
    "                    np.size(arr[:mirror])\n",
    "                    - np.count_nonzero(\n",
    "                        arr[-mirror:] == arr[-mirror - 1 : (-mirror * 2) - 1 : -1]\n",
    "                    )\n",
    "                    == smudge\n",
    "                ):\n",
    "                    sum_ += (horiz - mirror) * 100\n",
    "\n",
    "        for mirror in range(1, int((vertic + 1) / 2)):\n",
    "            if mirror == 1:\n",
    "                if (\n",
    "                    np.size(arr.T[mirror]) - np.count_nonzero(arr.T[0] == arr.T[1])\n",
    "                    == smudge\n",
    "                ):\n",
    "                    sum_ += mirror\n",
    "                if (\n",
    "                    np.size(arr.T[mirror]) - np.count_nonzero(arr.T[-1] == arr.T[-2])\n",
    "                    == smudge\n",
    "                ):\n",
    "                    sum_ += vertic - mirror\n",
    "            else:\n",
    "                if (\n",
    "                    np.size(arr.T[:mirror])\n",
    "                    - np.count_nonzero(\n",
    "                        arr.T[:mirror] == arr.T[(mirror * 2) - 1 : mirror - 1 : -1]\n",
    "                    )\n",
    "                    == smudge\n",
    "                ):\n",
    "                    sum_ += mirror\n",
    "                if (\n",
    "                    np.size(arr.T[:mirror])\n",
    "                    - np.count_nonzero(\n",
    "                        arr.T[-mirror:] == arr.T[-mirror - 1 : (-mirror * 2) - 1 : -1]\n",
    "                    )\n",
    "                    == smudge\n",
    "                ):\n",
    "                    sum_ += vertic - mirror\n",
    "\n",
    "    return sum_"
   ]
  },
  {
   "cell_type": "markdown",
   "id": "4be9a22b",
   "metadata": {},
   "source": [
    "## Part 1"
   ]
  },
  {
   "cell_type": "code",
   "execution_count": 6,
   "id": "c2212f30",
   "metadata": {
    "execution": {
     "iopub.execute_input": "2024-10-04T10:44:19.631410Z",
     "iopub.status.busy": "2024-10-04T10:44:19.631410Z",
     "iopub.status.idle": "2024-10-04T10:44:19.651673Z",
     "shell.execute_reply": "2024-10-04T10:44:19.651673Z",
     "shell.execute_reply.started": "2024-10-04T10:44:19.631410Z"
    }
   },
   "outputs": [
    {
     "data": {
      "text/plain": [
       "39939"
      ]
     },
     "execution_count": 6,
     "metadata": {},
     "output_type": "execute_result"
    }
   ],
   "source": [
    "note_sum(patterns, smudge=False)"
   ]
  },
  {
   "cell_type": "markdown",
   "id": "1da94798",
   "metadata": {},
   "source": [
    "## Part 2"
   ]
  },
  {
   "cell_type": "code",
   "execution_count": 7,
   "id": "dfc8d358",
   "metadata": {
    "execution": {
     "iopub.execute_input": "2024-10-04T10:44:19.651673Z",
     "iopub.status.busy": "2024-10-04T10:44:19.651673Z",
     "iopub.status.idle": "2024-10-04T10:44:19.671564Z",
     "shell.execute_reply": "2024-10-04T10:44:19.671564Z",
     "shell.execute_reply.started": "2024-10-04T10:44:19.651673Z"
    }
   },
   "outputs": [
    {
     "data": {
      "text/plain": [
       "32069"
      ]
     },
     "execution_count": 7,
     "metadata": {},
     "output_type": "execute_result"
    }
   ],
   "source": [
    "note_sum(patterns, smudge=True)"
   ]
  }
 ],
 "metadata": {
  "kernelspec": {
   "display_name": "Python 3 (ipykernel)",
   "language": "python",
   "name": "python3"
  },
  "language_info": {
   "codemirror_mode": {
    "name": "ipython",
    "version": 3
   },
   "file_extension": ".py",
   "mimetype": "text/x-python",
   "name": "python",
   "nbconvert_exporter": "python",
   "pygments_lexer": "ipython3",
   "version": "3.11.4"
  }
 },
 "nbformat": 4,
 "nbformat_minor": 5
}
