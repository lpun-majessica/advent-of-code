{
 "cells": [
  {
   "cell_type": "markdown",
   "id": "b08b44e3",
   "metadata": {},
   "source": [
    "[Advent of Code - Day 17](https://adventofcode.com/2023/day/17)"
   ]
  },
  {
   "cell_type": "markdown",
   "id": "6d06e159",
   "metadata": {},
   "source": [
    "# Import *Map*"
   ]
  },
  {
   "cell_type": "code",
   "execution_count": 1,
   "id": "39e62274-b574-4bfb-9ef5-f6cc3609d88e",
   "metadata": {
    "execution": {
     "iopub.execute_input": "2024-10-24T04:40:11.782868Z",
     "iopub.status.busy": "2024-10-24T04:40:11.782868Z",
     "iopub.status.idle": "2024-10-24T04:40:14.748249Z",
     "shell.execute_reply": "2024-10-24T04:40:14.747195Z",
     "shell.execute_reply.started": "2024-10-24T04:40:11.782868Z"
    }
   },
   "outputs": [],
   "source": [
    "import sys\n",
    "import math\n",
    "from heapq import heappop, heappush\n",
    "from itertools import product\n",
    "\n",
    "sys.path.insert(0, \"../\")\n",
    "from utils import aoc_input as inp\n",
    "\n",
    "in_ = inp.download_input(year=\"2023\", day=\"17\")"
   ]
  },
  {
   "cell_type": "code",
   "execution_count": 2,
   "id": "94f391bb-5b72-45c6-8455-7bb9e803535f",
   "metadata": {
    "execution": {
     "iopub.execute_input": "2024-10-24T04:40:14.751213Z",
     "iopub.status.busy": "2024-10-24T04:40:14.750221Z",
     "iopub.status.idle": "2024-10-24T04:40:14.764331Z",
     "shell.execute_reply": "2024-10-24T04:40:14.763211Z",
     "shell.execute_reply.started": "2024-10-24T04:40:14.751213Z"
    }
   },
   "outputs": [
    {
     "data": {
      "text/plain": [
       "['333213136361262336321612214531777457112145343436646554277834586842636477377358665483232322865545123271135255712112742775561145666154365233356',\n",
       " '625436214642112116663631316165754345156613447614784645884723775385422237785533457846422687888517441575665644164125345724771731422533345336535',\n",
       " '135464262413363523172353673663343124614327663325483447348582478365458326464522365884857228745883344645545337271265517463212456153534241544452',\n",
       " '463341164253235233654257664712176156221273446338438725387868466637872246443458373458772474446735864427171225417624722447465614145334226531133',\n",
       " '612123231364647651775663426212224226114337776577776736788424832776656343782563357835523563646643373362516426762263641757743221457544513132115']"
      ]
     },
     "execution_count": 2,
     "metadata": {},
     "output_type": "execute_result"
    }
   ],
   "source": [
    "in_[:5]"
   ]
  },
  {
   "cell_type": "markdown",
   "id": "2c9daf45",
   "metadata": {},
   "source": [
    "# Minimum *Heat loss*"
   ]
  },
  {
   "cell_type": "code",
   "execution_count": 3,
   "id": "b0d49e06-29cc-4af1-b5fa-c8fd19e70c38",
   "metadata": {
    "execution": {
     "iopub.execute_input": "2024-10-24T04:40:14.766344Z",
     "iopub.status.busy": "2024-10-24T04:40:14.765339Z",
     "iopub.status.idle": "2024-10-24T04:40:14.782525Z",
     "shell.execute_reply": "2024-10-24T04:40:14.781488Z",
     "shell.execute_reply.started": "2024-10-24T04:40:14.766344Z"
    }
   },
   "outputs": [],
   "source": [
    "height, width = len(in_), len(in_[0])\n",
    "start, end = (0, 0), (height - 1, width - 1)\n",
    "directions = {\n",
    "    0: (0, +1),\n",
    "    1: (+1, 0),\n",
    "    2: (0, -1),\n",
    "    3: (-1, 0),\n",
    "}"
   ]
  },
  {
   "cell_type": "code",
   "execution_count": 4,
   "id": "4401ffd8-3ca1-458f-8fb3-00400e9de996",
   "metadata": {
    "execution": {
     "iopub.execute_input": "2024-10-24T04:40:14.783532Z",
     "iopub.status.busy": "2024-10-24T04:40:14.783532Z",
     "iopub.status.idle": "2024-10-24T04:40:14.797781Z",
     "shell.execute_reply": "2024-10-24T04:40:14.797296Z",
     "shell.execute_reply.started": "2024-10-24T04:40:14.783532Z"
    }
   },
   "outputs": [],
   "source": [
    "city_map = {\n",
    "    (row, col): int(in_[row][col]) for row, col in product(range(height), range(width))\n",
    "}"
   ]
  },
  {
   "cell_type": "code",
   "execution_count": 5,
   "id": "b048bc50-2cc2-42ac-82ee-3dec9dfe9885",
   "metadata": {
    "execution": {
     "iopub.execute_input": "2024-10-24T04:40:14.799797Z",
     "iopub.status.busy": "2024-10-24T04:40:14.798796Z",
     "iopub.status.idle": "2024-10-24T04:40:14.808195Z",
     "shell.execute_reply": "2024-10-24T04:40:14.808195Z",
     "shell.execute_reply.started": "2024-10-24T04:40:14.799797Z"
    }
   },
   "outputs": [],
   "source": [
    "def calc_moves(\n",
    "    heat_loss: int,\n",
    "    position: tuple,\n",
    "    direction: int,\n",
    "    count: int,\n",
    "    min_count: int,\n",
    "    max_count: int,\n",
    ") -> list:\n",
    "    row, col = position\n",
    "    moves = list()\n",
    "\n",
    "    if count < max_count:\n",
    "        straight = _go_straight(row, col, direction)\n",
    "        if straight in city_map:\n",
    "            straight_hl = heat_loss + city_map[straight]\n",
    "            moves.append([straight_hl, straight, direction, count + 1])\n",
    "\n",
    "    if count >= min_count:\n",
    "        left, left_dir = _turn_left(row, col, direction)\n",
    "        if left in city_map:\n",
    "            left_hl = heat_loss + city_map[left]\n",
    "            moves.append([left_hl, left, left_dir, 1])\n",
    "\n",
    "        right, right_dir = _turn_right(row, col, direction)\n",
    "        if right in city_map:\n",
    "            right_hl = heat_loss + city_map[right]\n",
    "            moves.append([right_hl, right, right_dir, 1])\n",
    "\n",
    "    return moves\n",
    "\n",
    "\n",
    "def _go_straight(row, col, direction):\n",
    "    rr, cc = directions[direction]\n",
    "    return (row + rr, col + cc)\n",
    "\n",
    "\n",
    "def _turn_left(row, col, direction):\n",
    "    direction = (direction - 1) % len(directions)\n",
    "    rr, cc = directions[direction]\n",
    "    return (row + rr, col + cc), direction\n",
    "\n",
    "\n",
    "def _turn_right(row, col, direction):\n",
    "    direction = (direction + 1) % len(directions)\n",
    "    rr, cc = directions[direction]\n",
    "    return (row + rr, col + cc), direction"
   ]
  },
  {
   "cell_type": "markdown",
   "id": "f65149a5",
   "metadata": {},
   "source": [
    "## Part 1: *Crucible*"
   ]
  },
  {
   "cell_type": "code",
   "execution_count": 6,
   "id": "5ff32349-5b93-4c90-ad4b-ab8b71852323",
   "metadata": {
    "execution": {
     "iopub.execute_input": "2024-10-24T04:40:14.810199Z",
     "iopub.status.busy": "2024-10-24T04:40:14.810199Z",
     "iopub.status.idle": "2024-10-24T04:40:17.038891Z",
     "shell.execute_reply": "2024-10-24T04:40:17.038891Z",
     "shell.execute_reply.started": "2024-10-24T04:40:14.810199Z"
    }
   },
   "outputs": [
    {
     "data": {
      "text/plain": [
       "1128"
      ]
     },
     "execution_count": 6,
     "metadata": {},
     "output_type": "execute_result"
    }
   ],
   "source": [
    "min_count, max_count = 0, 3\n",
    "\n",
    "res = math.inf\n",
    "queue = [[0, start, 0, 0], [0, start, 1, 0]]\n",
    "visited = set()\n",
    "\n",
    "while queue:\n",
    "    heat_loss, position, direction, count = heappop(queue)\n",
    "    if position == end:\n",
    "        res = min(res, heat_loss)\n",
    "    elif (position, direction, count) in visited:\n",
    "        continue\n",
    "\n",
    "    visited.add((position, direction, count))\n",
    "    for move in calc_moves(heat_loss, position, direction, count, min_count, max_count):\n",
    "        heappush(queue, move)\n",
    "\n",
    "res"
   ]
  },
  {
   "cell_type": "markdown",
   "id": "fd1cb0ef",
   "metadata": {},
   "source": [
    "## Part 2: *Ultra Crucible*"
   ]
  },
  {
   "cell_type": "code",
   "execution_count": 7,
   "id": "a91a3b47-bce3-4d5c-afed-a77469a886a1",
   "metadata": {
    "execution": {
     "iopub.execute_input": "2024-10-24T04:40:17.040955Z",
     "iopub.status.busy": "2024-10-24T04:40:17.040955Z",
     "iopub.status.idle": "2024-10-24T04:40:26.634415Z",
     "shell.execute_reply": "2024-10-24T04:40:26.633372Z",
     "shell.execute_reply.started": "2024-10-24T04:40:17.040955Z"
    }
   },
   "outputs": [
    {
     "data": {
      "text/plain": [
       "1268"
      ]
     },
     "execution_count": 7,
     "metadata": {},
     "output_type": "execute_result"
    }
   ],
   "source": [
    "min_count, max_count = 4, 10\n",
    "\n",
    "res = math.inf\n",
    "queue = [[0, start, 0, 0], [0, start, 1, 0]]\n",
    "visited = set()\n",
    "\n",
    "while queue:\n",
    "    heat_loss, position, direction, count = heappop(queue)\n",
    "    if position == end:\n",
    "        res = min(res, heat_loss)\n",
    "    elif (position, direction, count) in visited:\n",
    "        continue\n",
    "\n",
    "    visited.add((position, direction, count))\n",
    "    for move in calc_moves(heat_loss, position, direction, count, min_count, max_count):\n",
    "        heappush(queue, move)\n",
    "\n",
    "res"
   ]
  }
 ],
 "metadata": {
  "kernelspec": {
   "display_name": "Python 3 (ipykernel)",
   "language": "python",
   "name": "python3"
  },
  "language_info": {
   "codemirror_mode": {
    "name": "ipython",
    "version": 3
   },
   "file_extension": ".py",
   "mimetype": "text/x-python",
   "name": "python",
   "nbconvert_exporter": "python",
   "pygments_lexer": "ipython3",
   "version": "3.11.4"
  }
 },
 "nbformat": 4,
 "nbformat_minor": 5
}
