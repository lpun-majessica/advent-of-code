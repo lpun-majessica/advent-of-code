{
 "cells": [
  {
   "cell_type": "markdown",
   "id": "d0e30fb6-e583-4897-a3a4-4579da220be1",
   "metadata": {},
   "source": [
    "[Advent of Code - Day 21](https://adventofcode.com/2023/day/21)"
   ]
  },
  {
   "cell_type": "markdown",
   "id": "9e316571-ff48-40e5-8357-5e0d51859e9c",
   "metadata": {},
   "source": [
    "# Import *Map ~~of the day~~*"
   ]
  },
  {
   "cell_type": "code",
   "execution_count": 1,
   "id": "c032d008-7582-4899-934b-8bf025d07e38",
   "metadata": {
    "execution": {
     "iopub.execute_input": "2024-10-04T10:55:24.927916Z",
     "iopub.status.busy": "2024-10-04T10:55:24.927916Z",
     "iopub.status.idle": "2024-10-04T10:55:25.931413Z",
     "shell.execute_reply": "2024-10-04T10:55:25.931413Z",
     "shell.execute_reply.started": "2024-10-04T10:55:24.927916Z"
    }
   },
   "outputs": [],
   "source": [
    "import sys\n",
    "import numpy as np\n",
    "\n",
    "sys.path.insert(0, \"../\")\n",
    "from utils import aoc_input as inp\n",
    "\n",
    "INPUT = inp.download_input(year=\"2023\", day=\"21\")"
   ]
  },
  {
   "cell_type": "code",
   "execution_count": 2,
   "id": "b6e0b3e1-ecb1-4448-aacd-f2e957471910",
   "metadata": {
    "execution": {
     "iopub.execute_input": "2024-10-04T10:55:25.931413Z",
     "iopub.status.busy": "2024-10-04T10:55:25.931413Z",
     "iopub.status.idle": "2024-10-04T10:55:25.950061Z",
     "shell.execute_reply": "2024-10-04T10:55:25.948360Z",
     "shell.execute_reply.started": "2024-10-04T10:55:25.931413Z"
    },
    "tags": []
   },
   "outputs": [],
   "source": [
    "map_ = np.array([list(line) for line in INPUT])"
   ]
  },
  {
   "cell_type": "code",
   "execution_count": 3,
   "id": "f4c117d2-4eae-4dd4-9b00-0fb7a3640e29",
   "metadata": {
    "execution": {
     "iopub.execute_input": "2024-10-04T10:55:25.951893Z",
     "iopub.status.busy": "2024-10-04T10:55:25.951893Z",
     "iopub.status.idle": "2024-10-04T10:55:25.967890Z",
     "shell.execute_reply": "2024-10-04T10:55:25.966880Z",
     "shell.execute_reply.started": "2024-10-04T10:55:25.951893Z"
    },
    "tags": []
   },
   "outputs": [
    {
     "data": {
      "text/plain": [
       "array([['.', '.', '.', '.', '.', '.', '.', '.', '.', '.', '.', '.', '.',\n",
       "        '.', '.', '.', '.', '.', '.', '.', '.', '.', '.', '.', '.', '.',\n",
       "        '.', '.', '.', '.', '.', '.', '.', '.', '.', '.', '.', '.', '.',\n",
       "        '.', '.', '.', '.', '.', '.', '.', '.', '.', '.', '.', '.', '.',\n",
       "        '.', '.', '.', '.', '.', '.', '.', '.', '.', '.', '.', '.', '.',\n",
       "        '.', '.', '.', '.', '.', '.', '.', '.', '.', '.', '.', '.', '.',\n",
       "        '.', '.', '.', '.', '.', '.', '.', '.', '.', '.', '.', '.', '.',\n",
       "        '.', '.', '.', '.', '.', '.', '.', '.', '.', '.', '.', '.', '.',\n",
       "        '.', '.', '.', '.', '.', '.', '.', '.', '.', '.', '.', '.', '.',\n",
       "        '.', '.', '.', '.', '.', '.', '.', '.', '.', '.', '.', '.', '.',\n",
       "        '.'],\n",
       "       ['.', '.', '.', '#', '#', '.', '.', '.', '.', '.', '.', '#', '.',\n",
       "        '.', '.', '.', '#', '.', '.', '.', '#', '.', '.', '.', '.', '.',\n",
       "        '#', '.', '#', '.', '.', '.', '.', '#', '.', '.', '.', '#', '.',\n",
       "        '.', '.', '#', '.', '.', '.', '#', '.', '.', '.', '.', '.', '.',\n",
       "        '#', '.', '.', '.', '.', '.', '.', '.', '.', '.', '.', '.', '.',\n",
       "        '.', '.', '.', '.', '.', '.', '.', '.', '.', '.', '.', '.', '#',\n",
       "        '#', '.', '.', '.', '.', '.', '.', '#', '.', '.', '#', '.', '.',\n",
       "        '#', '.', '#', '.', '.', '.', '.', '.', '.', '.', '.', '#', '.',\n",
       "        '.', '.', '.', '.', '.', '.', '.', '.', '.', '.', '.', '.', '.',\n",
       "        '.', '.', '.', '.', '.', '.', '#', '#', '.', '.', '.', '.', '.',\n",
       "        '.']], dtype='<U1')"
      ]
     },
     "execution_count": 3,
     "metadata": {},
     "output_type": "execute_result"
    }
   ],
   "source": [
    "map_[:2]"
   ]
  },
  {
   "cell_type": "markdown",
   "id": "ac1be7e3-3be1-408a-9cfd-8e958b86b414",
   "metadata": {},
   "source": [
    "# Total reachable *Garden plots*"
   ]
  },
  {
   "cell_type": "markdown",
   "id": "a82f43da-18a1-4d44-a3b6-b2944726ffe6",
   "metadata": {},
   "source": [
    "## Part 1"
   ]
  },
  {
   "cell_type": "code",
   "execution_count": 4,
   "id": "08fcef34-e3e7-4fba-a313-df538fa66b80",
   "metadata": {
    "execution": {
     "iopub.execute_input": "2024-10-04T10:55:25.969890Z",
     "iopub.status.busy": "2024-10-04T10:55:25.969890Z",
     "iopub.status.idle": "2024-10-04T10:55:25.996167Z",
     "shell.execute_reply": "2024-10-04T10:55:25.995219Z",
     "shell.execute_reply.started": "2024-10-04T10:55:25.969890Z"
    },
    "tags": []
   },
   "outputs": [],
   "source": [
    "rocks = []\n",
    "starts = []\n",
    "\n",
    "for coord, tile in np.ndenumerate(map_):\n",
    "    if tile == \"#\":\n",
    "        rocks.append(coord)\n",
    "    elif tile == \"S\":\n",
    "        starts.append(coord)"
   ]
  },
  {
   "cell_type": "code",
   "execution_count": 5,
   "id": "42e815b6",
   "metadata": {
    "execution": {
     "iopub.execute_input": "2024-10-04T10:55:25.998173Z",
     "iopub.status.busy": "2024-10-04T10:55:25.997174Z",
     "iopub.status.idle": "2024-10-04T10:55:41.438707Z",
     "shell.execute_reply": "2024-10-04T10:55:41.438707Z",
     "shell.execute_reply.started": "2024-10-04T10:55:25.998173Z"
    }
   },
   "outputs": [
    {
     "data": {
      "text/plain": [
       "3795"
      ]
     },
     "execution_count": 5,
     "metadata": {},
     "output_type": "execute_result"
    }
   ],
   "source": [
    "for i in range(64):\n",
    "    next = []\n",
    "\n",
    "    for start in starts:\n",
    "        next_tiles = [\n",
    "            (start[0] + 1, start[1]),\n",
    "            (start[0] - 1, start[1]),\n",
    "            (start[0], start[1] + 1),\n",
    "            (start[0], start[1] - 1),\n",
    "        ]\n",
    "\n",
    "        for next_tile in next_tiles:\n",
    "            if next_tile not in rocks:\n",
    "                next.append(next_tile)\n",
    "\n",
    "    starts = set(next)\n",
    "\n",
    "len(starts)"
   ]
  }
 ],
 "metadata": {
  "kernelspec": {
   "display_name": "Python 3 (ipykernel)",
   "language": "python",
   "name": "python3"
  },
  "language_info": {
   "codemirror_mode": {
    "name": "ipython",
    "version": 3
   },
   "file_extension": ".py",
   "mimetype": "text/x-python",
   "name": "python",
   "nbconvert_exporter": "python",
   "pygments_lexer": "ipython3",
   "version": "3.11.4"
  }
 },
 "nbformat": 4,
 "nbformat_minor": 5
}
