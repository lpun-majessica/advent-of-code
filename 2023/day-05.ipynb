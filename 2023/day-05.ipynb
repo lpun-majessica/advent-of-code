{
 "cells": [
  {
   "cell_type": "markdown",
   "metadata": {},
   "source": [
    "[Advent of Code - Day 05](https://adventofcode.com/2023/day/5)"
   ]
  },
  {
   "cell_type": "markdown",
   "metadata": {},
   "source": [
    "# Import *Almanac*"
   ]
  },
  {
   "cell_type": "code",
   "execution_count": 1,
   "metadata": {
    "execution": {
     "iopub.execute_input": "2024-10-04T10:26:54.826522Z",
     "iopub.status.busy": "2024-10-04T10:26:54.825398Z",
     "iopub.status.idle": "2024-10-04T10:26:55.817944Z",
     "shell.execute_reply": "2024-10-04T10:26:55.816242Z",
     "shell.execute_reply.started": "2024-10-04T10:26:54.826522Z"
    }
   },
   "outputs": [],
   "source": [
    "import sys\n",
    "\n",
    "sys.path.insert(0, \"../\")\n",
    "from utils import aoc_input as inp\n",
    "\n",
    "almanac = inp.download_input(year=\"2023\", day=\"05\")"
   ]
  },
  {
   "cell_type": "code",
   "execution_count": 2,
   "metadata": {
    "execution": {
     "iopub.execute_input": "2024-10-04T10:26:55.819945Z",
     "iopub.status.busy": "2024-10-04T10:26:55.818946Z",
     "iopub.status.idle": "2024-10-04T10:26:55.837009Z",
     "shell.execute_reply": "2024-10-04T10:26:55.835464Z",
     "shell.execute_reply.started": "2024-10-04T10:26:55.819945Z"
    }
   },
   "outputs": [
    {
     "data": {
      "text/plain": [
       "['seeds: 2880930400 17599561 549922357 200746426 1378552684 43534336 155057073 56546377 824205101 378503603 1678376802 130912435 2685513694 137778160 2492361384 188575752 3139914842 1092214826 2989476473 58874625',\n",
       " '',\n",
       " 'seed-to-soil map:',\n",
       " '341680072 47360832 98093750',\n",
       " '1677587229 1836834678 160297919']"
      ]
     },
     "execution_count": 2,
     "metadata": {},
     "output_type": "execute_result"
    }
   ],
   "source": [
    "almanac[:5]"
   ]
  },
  {
   "cell_type": "markdown",
   "metadata": {},
   "source": [
    "# Lowest location"
   ]
  },
  {
   "cell_type": "code",
   "execution_count": 3,
   "metadata": {
    "execution": {
     "iopub.execute_input": "2024-10-04T10:26:55.839371Z",
     "iopub.status.busy": "2024-10-04T10:26:55.838362Z",
     "iopub.status.idle": "2024-10-04T10:26:55.855644Z",
     "shell.execute_reply": "2024-10-04T10:26:55.854628Z",
     "shell.execute_reply.started": "2024-10-04T10:26:55.839371Z"
    }
   },
   "outputs": [],
   "source": [
    "map_ = {}\n",
    "\n",
    "map_line = \"\"\n",
    "\n",
    "for line in almanac[2:]:\n",
    "    if not line:\n",
    "        continue\n",
    "    if \"map\" in line:\n",
    "        map_line = line.strip()[:-5]\n",
    "        map_[map_line] = []\n",
    "        continue\n",
    "\n",
    "    destination, source, length = line.strip().split()\n",
    "    destination = int(destination)\n",
    "    source = int(source)\n",
    "    length = int(length)\n",
    "\n",
    "    map_[map_line].append([destination, source, length])"
   ]
  },
  {
   "cell_type": "code",
   "execution_count": 4,
   "metadata": {
    "execution": {
     "iopub.execute_input": "2024-10-04T10:26:55.856633Z",
     "iopub.status.busy": "2024-10-04T10:26:55.856633Z",
     "iopub.status.idle": "2024-10-04T10:26:55.864337Z",
     "shell.execute_reply": "2024-10-04T10:26:55.863331Z",
     "shell.execute_reply.started": "2024-10-04T10:26:55.856633Z"
    }
   },
   "outputs": [],
   "source": [
    "def get_destination(map_type=str, number=int):\n",
    "    map_content = map_[map_type]\n",
    "\n",
    "    for line in map_content:\n",
    "        destination, source, length = line\n",
    "        if source <= number <= source + length - 1:\n",
    "            return destination + number - source\n",
    "    return number"
   ]
  },
  {
   "cell_type": "markdown",
   "metadata": {},
   "source": [
    "## Part 1"
   ]
  },
  {
   "cell_type": "code",
   "execution_count": 5,
   "metadata": {
    "execution": {
     "iopub.execute_input": "2024-10-04T10:26:55.865334Z",
     "iopub.status.busy": "2024-10-04T10:26:55.865334Z",
     "iopub.status.idle": "2024-10-04T10:26:55.874617Z",
     "shell.execute_reply": "2024-10-04T10:26:55.873609Z",
     "shell.execute_reply.started": "2024-10-04T10:26:55.865334Z"
    }
   },
   "outputs": [],
   "source": [
    "scrap, seed = almanac[0].split(\":\")\n",
    "\n",
    "seeds = [int(x) for x in seed.split()]"
   ]
  },
  {
   "cell_type": "code",
   "execution_count": 6,
   "metadata": {
    "execution": {
     "iopub.execute_input": "2024-10-04T10:26:55.876614Z",
     "iopub.status.busy": "2024-10-04T10:26:55.876614Z",
     "iopub.status.idle": "2024-10-04T10:26:55.884842Z",
     "shell.execute_reply": "2024-10-04T10:26:55.884842Z",
     "shell.execute_reply.started": "2024-10-04T10:26:55.876614Z"
    }
   },
   "outputs": [
    {
     "data": {
      "text/plain": [
       "227653707"
      ]
     },
     "execution_count": 6,
     "metadata": {},
     "output_type": "execute_result"
    }
   ],
   "source": [
    "lowest_location_1 = 0\n",
    "\n",
    "for seed in seeds:\n",
    "    soil = get_destination(\"seed-to-soil\", seed)\n",
    "    fertiliser = get_destination(\"soil-to-fertilizer\", soil)\n",
    "    water = get_destination(\"fertilizer-to-water\", fertiliser)\n",
    "    light = get_destination(\"water-to-light\", water)\n",
    "    temperature = get_destination(\"light-to-temperature\", light)\n",
    "    humidity = get_destination(\"temperature-to-humidity\", temperature)\n",
    "    location = get_destination(\"humidity-to-location\", humidity)\n",
    "\n",
    "    if lowest_location_1 == 0 or location < lowest_location_1:\n",
    "        lowest_location_1 = location\n",
    "\n",
    "lowest_location_1"
   ]
  },
  {
   "cell_type": "markdown",
   "metadata": {},
   "source": [
    "## Part 2\n",
    "### Gonna come back to find another way to solve, this one takes impossibly long :D"
   ]
  },
  {
   "cell_type": "code",
   "execution_count": null,
   "metadata": {},
   "outputs": [],
   "source": [
    "seed_range = {}\n",
    "\n",
    "for index, seed in enumerate(seeds):\n",
    "    if index % 2 == 0:\n",
    "        seed_range[seed] = seeds[index + 1]\n",
    "\n",
    "new_seeds = []\n",
    "\n",
    "for seed, length in seed_range.items():\n",
    "    new_seeds.append([seed + length for length in range(length)])\n",
    "\n",
    "new_seeds"
   ]
  },
  {
   "cell_type": "code",
   "execution_count": null,
   "metadata": {
    "execution": {
     "iopub.status.busy": "2024-10-04T10:27:08.511331Z",
     "iopub.status.idle": "2024-10-04T10:27:08.511828Z",
     "shell.execute_reply": "2024-10-04T10:27:08.511458Z",
     "shell.execute_reply.started": "2024-10-04T10:27:08.511458Z"
    }
   },
   "outputs": [],
   "source": [
    "lowest_location_2 = 0\n",
    "\n",
    "for seed in seeds:\n",
    "    soil = get_destination(\"seed-to-soil\", seed)\n",
    "    fertiliser = get_destination(\"soil-to-fertilizer\", soil)\n",
    "    water = get_destination(\"fertilizer-to-water\", fertiliser)\n",
    "    light = get_destination(\"water-to-light\", water)\n",
    "    temperature = get_destination(\"light-to-temperature\", light)\n",
    "    humidity = get_destination(\"temperature-to-humidity\", temperature)\n",
    "    location = get_destination(\"humidity-to-location\", humidity)\n",
    "\n",
    "    if lowest_location_2 == 0 or location < lowest_location_2:\n",
    "        lowest_location_2 = location\n",
    "\n",
    "lowest_location_2"
   ]
  }
 ],
 "metadata": {
  "kernelspec": {
   "display_name": "Python 3 (ipykernel)",
   "language": "python",
   "name": "python3"
  },
  "language_info": {
   "codemirror_mode": {
    "name": "ipython",
    "version": 3
   },
   "file_extension": ".py",
   "mimetype": "text/x-python",
   "name": "python",
   "nbconvert_exporter": "python",
   "pygments_lexer": "ipython3",
   "version": "3.11.4"
  }
 },
 "nbformat": 4,
 "nbformat_minor": 4
}
