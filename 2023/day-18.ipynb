{
 "cells": [
  {
   "cell_type": "markdown",
   "id": "b08b44e3",
   "metadata": {},
   "source": [
    "[Advent of Code - Day 18](https://adventofcode.com/2023/day/18)"
   ]
  },
  {
   "cell_type": "markdown",
   "id": "6d06e159",
   "metadata": {},
   "source": [
    "# Import *Dig plan*"
   ]
  },
  {
   "cell_type": "code",
   "execution_count": 1,
   "id": "39e62274-b574-4bfb-9ef5-f6cc3609d88e",
   "metadata": {
    "execution": {
     "iopub.execute_input": "2024-10-24T08:00:13.881333Z",
     "iopub.status.busy": "2024-10-24T08:00:13.881333Z",
     "iopub.status.idle": "2024-10-24T08:00:14.881299Z",
     "shell.execute_reply": "2024-10-24T08:00:14.879577Z",
     "shell.execute_reply.started": "2024-10-24T08:00:13.881333Z"
    }
   },
   "outputs": [],
   "source": [
    "import sys\n",
    "from itertools import pairwise\n",
    "\n",
    "sys.path.insert(0, \"../\")\n",
    "from utils import aoc_input as inp\n",
    "\n",
    "plan = inp.download_input(year=\"2023\", day=\"18\")"
   ]
  },
  {
   "cell_type": "code",
   "execution_count": 2,
   "id": "94f391bb-5b72-45c6-8455-7bb9e803535f",
   "metadata": {
    "execution": {
     "iopub.execute_input": "2024-10-24T08:00:14.883294Z",
     "iopub.status.busy": "2024-10-24T08:00:14.882301Z",
     "iopub.status.idle": "2024-10-24T08:00:14.895456Z",
     "shell.execute_reply": "2024-10-24T08:00:14.894492Z",
     "shell.execute_reply.started": "2024-10-24T08:00:14.883294Z"
    }
   },
   "outputs": [
    {
     "data": {
      "text/plain": [
       "['L 6 (#2d8140)',\n",
       " 'U 5 (#029b43)',\n",
       " 'L 5 (#16fde0)',\n",
       " 'U 2 (#5d8343)',\n",
       " 'L 6 (#456570)']"
      ]
     },
     "execution_count": 2,
     "metadata": {},
     "output_type": "execute_result"
    }
   ],
   "source": [
    "plan[:5]"
   ]
  },
  {
   "cell_type": "markdown",
   "id": "2c9daf45",
   "metadata": {},
   "source": [
    "# *Lagoon* Volume"
   ]
  },
  {
   "cell_type": "code",
   "execution_count": 3,
   "id": "f1f93adf-30de-46bb-878e-44c0f21d64eb",
   "metadata": {
    "execution": {
     "iopub.execute_input": "2024-10-24T08:00:14.897389Z",
     "iopub.status.busy": "2024-10-24T08:00:14.897389Z",
     "iopub.status.idle": "2024-10-24T08:00:14.905810Z",
     "shell.execute_reply": "2024-10-24T08:00:14.905810Z",
     "shell.execute_reply.started": "2024-10-24T08:00:14.897389Z"
    }
   },
   "outputs": [],
   "source": [
    "directions = {\n",
    "    \"U\": (-1, 0),\n",
    "    \"D\": (+1, 0),\n",
    "    \"L\": (0, -1),\n",
    "    \"R\": (0, +1),\n",
    "}"
   ]
  },
  {
   "cell_type": "code",
   "execution_count": 4,
   "id": "a93de171-9c16-4ace-af4d-95a767d494eb",
   "metadata": {
    "execution": {
     "iopub.execute_input": "2024-10-24T08:00:14.905810Z",
     "iopub.status.busy": "2024-10-24T08:00:14.905810Z",
     "iopub.status.idle": "2024-10-24T08:00:14.915270Z",
     "shell.execute_reply": "2024-10-24T08:00:14.914262Z",
     "shell.execute_reply.started": "2024-10-24T08:00:14.905810Z"
    }
   },
   "outputs": [],
   "source": [
    "def calc_volume(border: list, outer_points: int) -> int:\n",
    "    area = 0\n",
    "    for (row1, col1), (row2, col2) in pairwise(border):\n",
    "        area += (row1 * col2) - (row2 * col1)\n",
    "\n",
    "    area = abs(area // 2)\n",
    "\n",
    "    vol = area - outer_points // 2 + 1 + outer_points\n",
    "    return vol"
   ]
  },
  {
   "cell_type": "markdown",
   "id": "f65149a5",
   "metadata": {},
   "source": [
    "## Part 1: *Crucible*"
   ]
  },
  {
   "cell_type": "code",
   "execution_count": 5,
   "id": "b0d49e06-29cc-4af1-b5fa-c8fd19e70c38",
   "metadata": {
    "execution": {
     "iopub.execute_input": "2024-10-24T08:00:14.916271Z",
     "iopub.status.busy": "2024-10-24T08:00:14.916271Z",
     "iopub.status.idle": "2024-10-24T08:00:14.923061Z",
     "shell.execute_reply": "2024-10-24T08:00:14.923061Z",
     "shell.execute_reply.started": "2024-10-24T08:00:14.916271Z"
    }
   },
   "outputs": [],
   "source": [
    "row, col = 0, 0\n",
    "border = list()\n",
    "outer_points = 0\n",
    "\n",
    "for line in plan:\n",
    "    direction, steps, _ = line.split()\n",
    "    steps = int(steps)\n",
    "    rr, cc = directions[direction]\n",
    "\n",
    "    row, col = row + rr * steps, col + cc * steps\n",
    "    border.append((row, col))\n",
    "    outer_points += steps"
   ]
  },
  {
   "cell_type": "code",
   "execution_count": 6,
   "id": "2910ee95-1d2c-4992-98fa-1b03ad23e7d3",
   "metadata": {
    "execution": {
     "iopub.execute_input": "2024-10-24T08:00:14.926870Z",
     "iopub.status.busy": "2024-10-24T08:00:14.923061Z",
     "iopub.status.idle": "2024-10-24T08:00:14.936076Z",
     "shell.execute_reply": "2024-10-24T08:00:14.936076Z",
     "shell.execute_reply.started": "2024-10-24T08:00:14.926870Z"
    }
   },
   "outputs": [
    {
     "data": {
      "text/plain": [
       "46359"
      ]
     },
     "execution_count": 6,
     "metadata": {},
     "output_type": "execute_result"
    }
   ],
   "source": [
    "calc_volume(border, outer_points)"
   ]
  },
  {
   "cell_type": "markdown",
   "id": "fd1cb0ef",
   "metadata": {},
   "source": [
    "## Part 2: *Ultra Crucible*"
   ]
  },
  {
   "cell_type": "code",
   "execution_count": 7,
   "id": "9a621bf7-e212-4e02-bd80-0b4b16f3346c",
   "metadata": {
    "execution": {
     "iopub.execute_input": "2024-10-24T08:00:14.936076Z",
     "iopub.status.busy": "2024-10-24T08:00:14.936076Z",
     "iopub.status.idle": "2024-10-24T08:00:14.944369Z",
     "shell.execute_reply": "2024-10-24T08:00:14.943364Z",
     "shell.execute_reply.started": "2024-10-24T08:00:14.936076Z"
    }
   },
   "outputs": [],
   "source": [
    "num_to_dir = {\n",
    "    \"0\": \"R\",\n",
    "    \"1\": \"D\",\n",
    "    \"2\": \"L\",\n",
    "    \"3\": \"U\",\n",
    "}"
   ]
  },
  {
   "cell_type": "code",
   "execution_count": 8,
   "id": "0aec12e2-d8eb-4d1b-845c-df0b6de53af5",
   "metadata": {
    "execution": {
     "iopub.execute_input": "2024-10-24T08:00:14.945367Z",
     "iopub.status.busy": "2024-10-24T08:00:14.945367Z",
     "iopub.status.idle": "2024-10-24T08:00:14.954219Z",
     "shell.execute_reply": "2024-10-24T08:00:14.954219Z",
     "shell.execute_reply.started": "2024-10-24T08:00:14.945367Z"
    }
   },
   "outputs": [],
   "source": [
    "row, col = 0, 0\n",
    "border = list()\n",
    "outer_points = 0\n",
    "\n",
    "for line in plan:\n",
    "    hexadecimal = line.split()[-1][2:-1]\n",
    "    steps = int(hexadecimal[:-1], 16)\n",
    "    direction = num_to_dir[hexadecimal[-1]]\n",
    "\n",
    "    rr, cc = directions[direction]\n",
    "    row, col = row + rr * steps, col + cc * steps\n",
    "    border.append((row, col))\n",
    "    outer_points += steps"
   ]
  },
  {
   "cell_type": "code",
   "execution_count": 9,
   "id": "c87be26e-ec68-4775-8ae1-f133813326ad",
   "metadata": {
    "execution": {
     "iopub.execute_input": "2024-10-24T08:00:14.954219Z",
     "iopub.status.busy": "2024-10-24T08:00:14.954219Z",
     "iopub.status.idle": "2024-10-24T08:00:14.964303Z",
     "shell.execute_reply": "2024-10-24T08:00:14.963456Z",
     "shell.execute_reply.started": "2024-10-24T08:00:14.954219Z"
    }
   },
   "outputs": [
    {
     "data": {
      "text/plain": [
       "59574883048274"
      ]
     },
     "execution_count": 9,
     "metadata": {},
     "output_type": "execute_result"
    }
   ],
   "source": [
    "calc_volume(border, outer_points)"
   ]
  }
 ],
 "metadata": {
  "kernelspec": {
   "display_name": "Python 3 (ipykernel)",
   "language": "python",
   "name": "python3"
  },
  "language_info": {
   "codemirror_mode": {
    "name": "ipython",
    "version": 3
   },
   "file_extension": ".py",
   "mimetype": "text/x-python",
   "name": "python",
   "nbconvert_exporter": "python",
   "pygments_lexer": "ipython3",
   "version": "3.11.4"
  }
 },
 "nbformat": 4,
 "nbformat_minor": 5
}
