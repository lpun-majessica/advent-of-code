{
 "cells": [
  {
   "cell_type": "markdown",
   "metadata": {},
   "source": [
    "[Advent of Code - Day 04](https://adventofcode.com/2023/day/4)"
   ]
  },
  {
   "cell_type": "markdown",
   "metadata": {},
   "source": [
    "# Import *Pile of scratchcards*"
   ]
  },
  {
   "cell_type": "code",
   "execution_count": 1,
   "metadata": {
    "execution": {
     "iopub.execute_input": "2024-10-04T10:27:44.142999Z",
     "iopub.status.busy": "2024-10-04T10:27:44.142999Z",
     "iopub.status.idle": "2024-10-04T10:27:45.075532Z",
     "shell.execute_reply": "2024-10-04T10:27:45.074349Z",
     "shell.execute_reply.started": "2024-10-04T10:27:44.142999Z"
    }
   },
   "outputs": [],
   "source": [
    "import sys\n",
    "\n",
    "sys.path.insert(0, \"../\")\n",
    "from utils import aoc_input as inp\n",
    "\n",
    "card_pile = inp.download_input(year=\"2023\", day=\"04\")"
   ]
  },
  {
   "cell_type": "code",
   "execution_count": 2,
   "metadata": {
    "execution": {
     "iopub.execute_input": "2024-10-04T10:27:45.076525Z",
     "iopub.status.busy": "2024-10-04T10:27:45.076525Z",
     "iopub.status.idle": "2024-10-04T10:27:45.089121Z",
     "shell.execute_reply": "2024-10-04T10:27:45.088112Z",
     "shell.execute_reply.started": "2024-10-04T10:27:45.076525Z"
    }
   },
   "outputs": [
    {
     "data": {
      "text/plain": [
       "['Card   1: 69 24 51 87  9 49 17 16 21 48 |  5 52 86 35 57 18 60 84 50 76 96 47 38 41 34 36 55 20 25 37  6 70 66 45  3',\n",
       " 'Card   2: 59 63 94  2 95 30 57 69 85  7 | 95 44 84 30 92 21 74  9 99 49 24 23  8 68  7 63 45 28 96  2 69 77 93 59 85',\n",
       " 'Card   3: 90 28  1 14 41 83 24 59 55  6 | 29 15 72 47 32 96 73 76 52 20 53 26 78 39 85 92  3 67 51 75 64 54 99 65 22',\n",
       " 'Card   4: 88 86 30  6 50 32 66 89 81 93 | 99 93 68 37 13 56 66 88 78 89 81 69  6 50 53 86 45 34 32 38 36 84 49 30 35',\n",
       " 'Card   5: 97 23 64 49 50 60 80 55 65 66 | 30 25 93 92 39 91 85 38 80 52 86  6 40 64 89 15 98 81 13 66 68 87 43  2 74']"
      ]
     },
     "execution_count": 2,
     "metadata": {},
     "output_type": "execute_result"
    }
   ],
   "source": [
    "card_pile[:5]"
   ]
  },
  {
   "cell_type": "markdown",
   "metadata": {},
   "source": [
    "# Total *Winning points* and *Scratchcard copies*"
   ]
  },
  {
   "cell_type": "markdown",
   "metadata": {},
   "source": [
    "## Part 1: Total *Winning points*"
   ]
  },
  {
   "cell_type": "code",
   "execution_count": 3,
   "metadata": {
    "execution": {
     "iopub.execute_input": "2024-10-04T10:27:45.091117Z",
     "iopub.status.busy": "2024-10-04T10:27:45.091117Z",
     "iopub.status.idle": "2024-10-04T10:27:45.109904Z",
     "shell.execute_reply": "2024-10-04T10:27:45.108617Z",
     "shell.execute_reply.started": "2024-10-04T10:27:45.091117Z"
    }
   },
   "outputs": [
    {
     "data": {
      "text/plain": [
       "24175"
      ]
     },
     "execution_count": 3,
     "metadata": {},
     "output_type": "execute_result"
    }
   ],
   "source": [
    "sum_point = 0\n",
    "\n",
    "for card in card_pile:\n",
    "    win_num, my_num = [num.split() for num in card[card.find(\":\") + 1 :].split(\"|\")]\n",
    "    match = len(set(my_num) & set(win_num))\n",
    "    if match > 0:\n",
    "        sum_point += 2 ** (match - 1)\n",
    "\n",
    "sum_point"
   ]
  },
  {
   "cell_type": "markdown",
   "metadata": {},
   "source": [
    "## Part 2: Total *Scratchcard copies*"
   ]
  },
  {
   "cell_type": "code",
   "execution_count": 4,
   "metadata": {
    "execution": {
     "iopub.execute_input": "2024-10-04T10:27:45.109904Z",
     "iopub.status.busy": "2024-10-04T10:27:45.109904Z",
     "iopub.status.idle": "2024-10-04T10:27:45.126408Z",
     "shell.execute_reply": "2024-10-04T10:27:45.126211Z",
     "shell.execute_reply.started": "2024-10-04T10:27:45.109904Z"
    },
    "tags": []
   },
   "outputs": [
    {
     "data": {
      "text/plain": [
       "18846301"
      ]
     },
     "execution_count": 4,
     "metadata": {},
     "output_type": "execute_result"
    }
   ],
   "source": [
    "copy = [1 for card in card_pile]\n",
    "\n",
    "for index, card in enumerate(card_pile):\n",
    "    win_num, my_num = [num.split() for num in card[card.find(\":\") + 1 :].split(\"|\")]\n",
    "    match = len(set(my_num) & set(win_num))\n",
    "    for win in range(match):\n",
    "        copy[index + win + 1] += copy[index]\n",
    "\n",
    "sum(copy)"
   ]
  }
 ],
 "metadata": {
  "kernelspec": {
   "display_name": "Python 3 (ipykernel)",
   "language": "python",
   "name": "python3"
  },
  "language_info": {
   "codemirror_mode": {
    "name": "ipython",
    "version": 3
   },
   "file_extension": ".py",
   "mimetype": "text/x-python",
   "name": "python",
   "nbconvert_exporter": "python",
   "pygments_lexer": "ipython3",
   "version": "3.11.4"
  }
 },
 "nbformat": 4,
 "nbformat_minor": 4
}
