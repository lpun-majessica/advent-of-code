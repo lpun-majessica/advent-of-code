{
 "cells": [
  {
   "cell_type": "markdown",
   "metadata": {},
   "source": [
    "[Advent of Code - Day 06](https://adventofcode.com/2023/day/6)"
   ]
  },
  {
   "cell_type": "markdown",
   "metadata": {},
   "source": [
    "# Import *Time and Record sheet*"
   ]
  },
  {
   "cell_type": "code",
   "execution_count": 1,
   "metadata": {
    "execution": {
     "iopub.execute_input": "2024-10-04T10:28:15.921750Z",
     "iopub.status.busy": "2024-10-04T10:28:15.921750Z",
     "iopub.status.idle": "2024-10-04T10:28:16.883411Z",
     "shell.execute_reply": "2024-10-04T10:28:16.883411Z",
     "shell.execute_reply.started": "2024-10-04T10:28:15.921750Z"
    }
   },
   "outputs": [],
   "source": [
    "import sys\n",
    "\n",
    "sys.path.insert(0, \"../\")\n",
    "from utils import aoc_input as inp\n",
    "\n",
    "sheet = inp.download_input(year=\"2023\", day=\"06\")"
   ]
  },
  {
   "cell_type": "code",
   "execution_count": 2,
   "metadata": {
    "execution": {
     "iopub.execute_input": "2024-10-04T10:28:16.883411Z",
     "iopub.status.busy": "2024-10-04T10:28:16.883411Z",
     "iopub.status.idle": "2024-10-04T10:28:16.901868Z",
     "shell.execute_reply": "2024-10-04T10:28:16.900860Z",
     "shell.execute_reply.started": "2024-10-04T10:28:16.883411Z"
    }
   },
   "outputs": [
    {
     "data": {
      "text/plain": [
       "['Time:        41     66     72     66',\n",
       " 'Distance:   244   1047   1228   1040']"
      ]
     },
     "execution_count": 2,
     "metadata": {},
     "output_type": "execute_result"
    }
   ],
   "source": [
    "sheet"
   ]
  },
  {
   "cell_type": "markdown",
   "metadata": {},
   "source": [
    "# All possible winning strats"
   ]
  },
  {
   "cell_type": "markdown",
   "metadata": {},
   "source": [
    "## Part 1"
   ]
  },
  {
   "cell_type": "code",
   "execution_count": 3,
   "metadata": {
    "execution": {
     "iopub.execute_input": "2024-10-04T10:28:16.904870Z",
     "iopub.status.busy": "2024-10-04T10:28:16.903870Z",
     "iopub.status.idle": "2024-10-04T10:28:16.913641Z",
     "shell.execute_reply": "2024-10-04T10:28:16.912634Z",
     "shell.execute_reply.started": "2024-10-04T10:28:16.904870Z"
    }
   },
   "outputs": [],
   "source": [
    "time = [int(x) for x in sheet[0].split(\":\")[1].split()]\n",
    "distance = [int(x) for x in sheet[1].split(\":\")[1].split()]"
   ]
  },
  {
   "cell_type": "code",
   "execution_count": 4,
   "metadata": {
    "execution": {
     "iopub.execute_input": "2024-10-04T10:28:16.914647Z",
     "iopub.status.busy": "2024-10-04T10:28:16.914647Z",
     "iopub.status.idle": "2024-10-04T10:28:16.923609Z",
     "shell.execute_reply": "2024-10-04T10:28:16.923609Z",
     "shell.execute_reply.started": "2024-10-04T10:28:16.914647Z"
    }
   },
   "outputs": [
    {
     "data": {
      "text/plain": [
       "74698"
      ]
     },
     "execution_count": 4,
     "metadata": {},
     "output_type": "execute_result"
    }
   ],
   "source": [
    "product = 1\n",
    "\n",
    "for time, distance in zip(time, distance):\n",
    "    beat_record = 0\n",
    "    for hold in range(time + 1):\n",
    "        if hold * (time - hold) > distance:\n",
    "            beat_record += 1\n",
    "    product = product * beat_record\n",
    "\n",
    "product"
   ]
  },
  {
   "cell_type": "markdown",
   "metadata": {},
   "source": [
    "## Part 2"
   ]
  },
  {
   "cell_type": "code",
   "execution_count": 5,
   "metadata": {
    "execution": {
     "iopub.execute_input": "2024-10-04T10:28:16.923609Z",
     "iopub.status.busy": "2024-10-04T10:28:16.923609Z",
     "iopub.status.idle": "2024-10-04T10:28:16.932888Z",
     "shell.execute_reply": "2024-10-04T10:28:16.931920Z",
     "shell.execute_reply.started": "2024-10-04T10:28:16.923609Z"
    }
   },
   "outputs": [],
   "source": [
    "time = int(sheet[0].split(\":\")[1].replace(\" \", \"\"))\n",
    "distance = int(sheet[1].split(\":\")[1].replace(\" \", \"\"))"
   ]
  },
  {
   "cell_type": "code",
   "execution_count": 6,
   "metadata": {
    "execution": {
     "iopub.execute_input": "2024-10-04T10:28:16.932888Z",
     "iopub.status.busy": "2024-10-04T10:28:16.932888Z",
     "iopub.status.idle": "2024-10-04T10:28:16.943072Z",
     "shell.execute_reply": "2024-10-04T10:28:16.943072Z",
     "shell.execute_reply.started": "2024-10-04T10:28:16.932888Z"
    }
   },
   "outputs": [
    {
     "data": {
      "text/plain": [
       "27563421"
      ]
     },
     "execution_count": 6,
     "metadata": {},
     "output_type": "execute_result"
    }
   ],
   "source": [
    "import cmath\n",
    "\n",
    "upper_lim = (-time - cmath.sqrt((time**2) - (4 * (-1) * (-distance)))) / (2 * (-1))\n",
    "lower_lim = (-time + cmath.sqrt((time**2) - (4 * (-1) * (-distance)))) / (2 * (-1))\n",
    "\n",
    "beat_record = int(upper_lim.real) - int(lower_lim.real)\n",
    "\n",
    "beat_record"
   ]
  }
 ],
 "metadata": {
  "kernelspec": {
   "display_name": "Python 3 (ipykernel)",
   "language": "python",
   "name": "python3"
  },
  "language_info": {
   "codemirror_mode": {
    "name": "ipython",
    "version": 3
   },
   "file_extension": ".py",
   "mimetype": "text/x-python",
   "name": "python",
   "nbconvert_exporter": "python",
   "pygments_lexer": "ipython3",
   "version": "3.11.4"
  }
 },
 "nbformat": 4,
 "nbformat_minor": 4
}
