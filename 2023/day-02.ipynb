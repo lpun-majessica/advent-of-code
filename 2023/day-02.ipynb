{
 "cells": [
  {
   "cell_type": "markdown",
   "id": "4aab113f",
   "metadata": {},
   "source": [
    "[Advent of Code - Day 02](https://adventofcode.com/2023/day/2)"
   ]
  },
  {
   "cell_type": "markdown",
   "id": "71a4798f",
   "metadata": {},
   "source": [
    "# Import *Game records*"
   ]
  },
  {
   "cell_type": "code",
   "execution_count": 1,
   "id": "af41f7b9-0ee7-4266-9ff7-dc3077b6bbf9",
   "metadata": {
    "execution": {
     "iopub.execute_input": "2024-10-04T10:23:50.133479Z",
     "iopub.status.busy": "2024-10-04T10:23:50.133479Z",
     "iopub.status.idle": "2024-10-04T10:23:51.123986Z",
     "shell.execute_reply": "2024-10-04T10:23:51.122843Z",
     "shell.execute_reply.started": "2024-10-04T10:23:50.133479Z"
    }
   },
   "outputs": [],
   "source": [
    "import sys\n",
    "\n",
    "sys.path.insert(0, \"../\")\n",
    "from utils import aoc_input as inp\n",
    "\n",
    "record = inp.download_input(year=\"2023\", day=\"02\")"
   ]
  },
  {
   "cell_type": "code",
   "execution_count": 2,
   "id": "ebc13d54",
   "metadata": {
    "execution": {
     "iopub.execute_input": "2024-10-04T10:23:51.125990Z",
     "iopub.status.busy": "2024-10-04T10:23:51.125990Z",
     "iopub.status.idle": "2024-10-04T10:23:51.140877Z",
     "shell.execute_reply": "2024-10-04T10:23:51.140334Z",
     "shell.execute_reply.started": "2024-10-04T10:23:51.125990Z"
    }
   },
   "outputs": [
    {
     "data": {
      "text/plain": [
       "['Game 1: 4 blue, 7 red, 5 green; 3 blue, 4 red, 16 green; 3 red, 11 green',\n",
       " 'Game 2: 20 blue, 8 red, 1 green; 1 blue, 2 green, 8 red; 9 red, 4 green, 18 blue; 2 green, 7 red, 2 blue; 10 blue, 2 red, 5 green',\n",
       " 'Game 3: 2 red, 5 green, 1 blue; 3 blue, 5 green; 8 blue, 13 green, 2 red; 9 green, 3 blue; 12 green, 13 blue; 3 green, 3 blue, 1 red',\n",
       " 'Game 4: 1 red, 6 green, 4 blue; 3 green, 1 blue, 1 red; 7 blue, 1 red, 2 green',\n",
       " 'Game 5: 2 green, 9 blue, 1 red; 3 green, 1 blue, 3 red; 1 red, 4 blue, 9 green']"
      ]
     },
     "execution_count": 2,
     "metadata": {},
     "output_type": "execute_result"
    }
   ],
   "source": [
    "record[:5]"
   ]
  },
  {
   "cell_type": "markdown",
   "id": "b5297b0a",
   "metadata": {},
   "source": [
    "# Possible games"
   ]
  },
  {
   "cell_type": "markdown",
   "id": "c79a9308",
   "metadata": {},
   "source": [
    "## Part 1"
   ]
  },
  {
   "cell_type": "code",
   "execution_count": 3,
   "id": "dbde4ad7",
   "metadata": {
    "execution": {
     "iopub.execute_input": "2024-10-04T10:23:51.143539Z",
     "iopub.status.busy": "2024-10-04T10:23:51.143539Z",
     "iopub.status.idle": "2024-10-04T10:23:51.157859Z",
     "shell.execute_reply": "2024-10-04T10:23:51.156845Z",
     "shell.execute_reply.started": "2024-10-04T10:23:51.143539Z"
    }
   },
   "outputs": [],
   "source": [
    "max = {\"red\": 12, \"green\": 13, \"blue\": 14}"
   ]
  },
  {
   "cell_type": "code",
   "execution_count": 4,
   "id": "fb90dc6f",
   "metadata": {
    "execution": {
     "iopub.execute_input": "2024-10-04T10:23:51.159857Z",
     "iopub.status.busy": "2024-10-04T10:23:51.159857Z",
     "iopub.status.idle": "2024-10-04T10:23:51.172419Z",
     "shell.execute_reply": "2024-10-04T10:23:51.171409Z",
     "shell.execute_reply.started": "2024-10-04T10:23:51.159857Z"
    }
   },
   "outputs": [
    {
     "data": {
      "text/plain": [
       "2512"
      ]
     },
     "execution_count": 4,
     "metadata": {},
     "output_type": "execute_result"
    }
   ],
   "source": [
    "sum_1 = 0\n",
    "\n",
    "for game in record:\n",
    "    possible_game = True\n",
    "\n",
    "    game_no = int(game.split(\":\")[0].split(\" \")[1])\n",
    "    result = game.split(\":\")[1]\n",
    "\n",
    "    for set in result.strip().split(\"; \"):\n",
    "\n",
    "        for draw in set.split(\", \"):\n",
    "\n",
    "            for color in max.keys():\n",
    "\n",
    "                if draw.split(\" \")[1] == color and int(draw.split(\" \")[0]) > max[color]:\n",
    "                    possible_game = False\n",
    "\n",
    "    if possible_game:\n",
    "        sum_1 += game_no\n",
    "\n",
    "sum_1"
   ]
  },
  {
   "cell_type": "markdown",
   "id": "7a2eb08a",
   "metadata": {},
   "source": [
    "## Part 2"
   ]
  },
  {
   "cell_type": "code",
   "execution_count": 5,
   "id": "524ea15b",
   "metadata": {
    "execution": {
     "iopub.execute_input": "2024-10-04T10:23:51.173942Z",
     "iopub.status.busy": "2024-10-04T10:23:51.173942Z",
     "iopub.status.idle": "2024-10-04T10:23:51.184876Z",
     "shell.execute_reply": "2024-10-04T10:23:51.184674Z",
     "shell.execute_reply.started": "2024-10-04T10:23:51.173942Z"
    }
   },
   "outputs": [
    {
     "data": {
      "text/plain": [
       "67335"
      ]
     },
     "execution_count": 5,
     "metadata": {},
     "output_type": "execute_result"
    }
   ],
   "source": [
    "sum_2 = 0\n",
    "\n",
    "for game in record:\n",
    "    red = 0\n",
    "    green = 0\n",
    "    blue = 0\n",
    "\n",
    "    result = game.split(\":\")[1]\n",
    "\n",
    "    for set in result.strip().split(\"; \"):\n",
    "\n",
    "        for draw in set.split(\", \"):\n",
    "            if draw.split(\" \")[1] == \"red\":\n",
    "                if int(draw.split(\" \")[0]) > red:\n",
    "                    red = int(draw.split(\" \")[0])\n",
    "\n",
    "            if draw.split(\" \")[1] == \"green\":\n",
    "                if int(draw.split(\" \")[0]) > green:\n",
    "                    green = int(draw.split(\" \")[0])\n",
    "\n",
    "            if draw.split(\" \")[1] == \"blue\":\n",
    "                if int(draw.split(\" \")[0]) > blue:\n",
    "                    blue = int(draw.split(\" \")[0])\n",
    "\n",
    "    sum_2 += red * green * blue\n",
    "\n",
    "sum_2"
   ]
  }
 ],
 "metadata": {
  "kernelspec": {
   "display_name": "Python 3 (ipykernel)",
   "language": "python",
   "name": "python3"
  },
  "language_info": {
   "codemirror_mode": {
    "name": "ipython",
    "version": 3
   },
   "file_extension": ".py",
   "mimetype": "text/x-python",
   "name": "python",
   "nbconvert_exporter": "python",
   "pygments_lexer": "ipython3",
   "version": "3.11.4"
  }
 },
 "nbformat": 4,
 "nbformat_minor": 5
}
