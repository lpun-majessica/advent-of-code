{
 "cells": [
  {
   "cell_type": "markdown",
   "id": "b08b44e3",
   "metadata": {},
   "source": [
    "[Advent of Code - Day 15](https://adventofcode.com/2023/day/15)"
   ]
  },
  {
   "cell_type": "markdown",
   "id": "6d06e159",
   "metadata": {},
   "source": [
    "# Import *Initialisation sequence*"
   ]
  },
  {
   "cell_type": "code",
   "execution_count": 1,
   "id": "39e62274-b574-4bfb-9ef5-f6cc3609d88e",
   "metadata": {
    "execution": {
     "iopub.execute_input": "2024-10-04T10:48:48.110693Z",
     "iopub.status.busy": "2024-10-04T10:48:48.110693Z",
     "iopub.status.idle": "2024-10-04T10:48:49.076991Z",
     "shell.execute_reply": "2024-10-04T10:48:49.075803Z",
     "shell.execute_reply.started": "2024-10-04T10:48:48.110693Z"
    }
   },
   "outputs": [],
   "source": [
    "import sys\n",
    "\n",
    "sys.path.insert(0, \"../\")\n",
    "from utils import aoc_input as inp\n",
    "\n",
    "ini_seq = inp.download_input(year=\"2023\", day=\"15\")"
   ]
  },
  {
   "cell_type": "code",
   "execution_count": 2,
   "id": "4ec7f5fc",
   "metadata": {
    "execution": {
     "iopub.execute_input": "2024-10-04T10:48:49.079000Z",
     "iopub.status.busy": "2024-10-04T10:48:49.079000Z",
     "iopub.status.idle": "2024-10-04T10:48:49.086516Z",
     "shell.execute_reply": "2024-10-04T10:48:49.085509Z",
     "shell.execute_reply.started": "2024-10-04T10:48:49.079000Z"
    }
   },
   "outputs": [],
   "source": [
    "ini_seq = ini_seq[0].split(\",\")"
   ]
  },
  {
   "cell_type": "code",
   "execution_count": 3,
   "id": "91447876-f240-4152-b144-ddfef0c483cd",
   "metadata": {
    "execution": {
     "iopub.execute_input": "2024-10-04T10:48:49.089260Z",
     "iopub.status.busy": "2024-10-04T10:48:49.089260Z",
     "iopub.status.idle": "2024-10-04T10:48:49.115127Z",
     "shell.execute_reply": "2024-10-04T10:48:49.114052Z",
     "shell.execute_reply.started": "2024-10-04T10:48:49.089260Z"
    }
   },
   "outputs": [
    {
     "data": {
      "text/plain": [
       "['vpq=6', 'fbf-', 'pft-', 'fjsh=5', 'pg=4']"
      ]
     },
     "execution_count": 3,
     "metadata": {},
     "output_type": "execute_result"
    }
   ],
   "source": [
    "ini_seq[:5]"
   ]
  },
  {
   "cell_type": "markdown",
   "id": "2c9daf45",
   "metadata": {},
   "source": [
    "# Sums of *Step values* and *Focusing power*"
   ]
  },
  {
   "cell_type": "code",
   "execution_count": 4,
   "id": "b6f650dd",
   "metadata": {
    "execution": {
     "iopub.execute_input": "2024-10-04T10:48:49.115127Z",
     "iopub.status.busy": "2024-10-04T10:48:49.115127Z",
     "iopub.status.idle": "2024-10-04T10:48:49.125492Z",
     "shell.execute_reply": "2024-10-04T10:48:49.124484Z",
     "shell.execute_reply.started": "2024-10-04T10:48:49.115127Z"
    }
   },
   "outputs": [],
   "source": [
    "def hash_algo(step: str):\n",
    "    value = 0\n",
    "    for char in step:\n",
    "        value += ord(char)\n",
    "        value = (value * 17) % 256\n",
    "    return value"
   ]
  },
  {
   "cell_type": "markdown",
   "id": "f65149a5",
   "metadata": {},
   "source": [
    "## Part 1: Sum of *Step values*"
   ]
  },
  {
   "cell_type": "code",
   "execution_count": 5,
   "id": "765db400",
   "metadata": {
    "execution": {
     "iopub.execute_input": "2024-10-04T10:48:49.126492Z",
     "iopub.status.busy": "2024-10-04T10:48:49.126492Z",
     "iopub.status.idle": "2024-10-04T10:48:49.137523Z",
     "shell.execute_reply": "2024-10-04T10:48:49.136394Z",
     "shell.execute_reply.started": "2024-10-04T10:48:49.126492Z"
    }
   },
   "outputs": [
    {
     "data": {
      "text/plain": [
       "513643"
      ]
     },
     "execution_count": 5,
     "metadata": {},
     "output_type": "execute_result"
    }
   ],
   "source": [
    "sum(hash_algo(step) for step in ini_seq)"
   ]
  },
  {
   "cell_type": "markdown",
   "id": "fd1cb0ef",
   "metadata": {},
   "source": [
    "## Part 2: Sum of *Focusing power*"
   ]
  },
  {
   "cell_type": "code",
   "execution_count": 6,
   "id": "abb5e1f8",
   "metadata": {
    "execution": {
     "iopub.execute_input": "2024-10-04T10:48:49.139527Z",
     "iopub.status.busy": "2024-10-04T10:48:49.138527Z",
     "iopub.status.idle": "2024-10-04T10:48:49.151591Z",
     "shell.execute_reply": "2024-10-04T10:48:49.151591Z",
     "shell.execute_reply.started": "2024-10-04T10:48:49.139527Z"
    }
   },
   "outputs": [],
   "source": [
    "boxes = {}\n",
    "\n",
    "for i in range(256):\n",
    "    boxes[i] = {}\n",
    "\n",
    "for step in ini_seq:\n",
    "    if \"=\" in step:\n",
    "        letter, focal_length = step.split(\"=\")\n",
    "        boxes[hash_algo(letter)][letter] = int(focal_length)\n",
    "    else:\n",
    "        letter = step.strip(\"-\")\n",
    "        boxes[hash_algo(letter)].pop(letter, None)"
   ]
  },
  {
   "cell_type": "code",
   "execution_count": 7,
   "id": "1b39df00",
   "metadata": {
    "execution": {
     "iopub.execute_input": "2024-10-04T10:48:49.151591Z",
     "iopub.status.busy": "2024-10-04T10:48:49.151591Z",
     "iopub.status.idle": "2024-10-04T10:48:49.161148Z",
     "shell.execute_reply": "2024-10-04T10:48:49.160642Z",
     "shell.execute_reply.started": "2024-10-04T10:48:49.151591Z"
    }
   },
   "outputs": [
    {
     "data": {
      "text/plain": [
       "265345"
      ]
     },
     "execution_count": 7,
     "metadata": {},
     "output_type": "execute_result"
    }
   ],
   "source": [
    "focusing_pwr = 0\n",
    "\n",
    "for box_no, content in boxes.items():\n",
    "    slot = 0\n",
    "    for lens, focal_length in content.items():\n",
    "        slot += 1\n",
    "        focusing_pwr += (box_no + 1) * slot * focal_length\n",
    "\n",
    "focusing_pwr"
   ]
  }
 ],
 "metadata": {
  "kernelspec": {
   "display_name": "Python 3 (ipykernel)",
   "language": "python",
   "name": "python3"
  },
  "language_info": {
   "codemirror_mode": {
    "name": "ipython",
    "version": 3
   },
   "file_extension": ".py",
   "mimetype": "text/x-python",
   "name": "python",
   "nbconvert_exporter": "python",
   "pygments_lexer": "ipython3",
   "version": "3.11.4"
  }
 },
 "nbformat": 4,
 "nbformat_minor": 5
}
