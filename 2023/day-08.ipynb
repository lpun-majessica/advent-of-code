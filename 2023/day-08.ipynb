{
 "cells": [
  {
   "cell_type": "markdown",
   "id": "b24c4aab",
   "metadata": {},
   "source": [
    "[Advent of Code - Day 08](https://adventofcode.com/2023/day/8)"
   ]
  },
  {
   "cell_type": "markdown",
   "id": "ecc3f43c",
   "metadata": {},
   "source": [
    "# Import *~~Ghost~~ map*"
   ]
  },
  {
   "cell_type": "code",
   "execution_count": 1,
   "id": "0b64ca3d-4b1d-4215-9733-fdc8277bbf18",
   "metadata": {
    "execution": {
     "iopub.execute_input": "2024-10-04T10:29:58.857415Z",
     "iopub.status.busy": "2024-10-04T10:29:58.857415Z",
     "iopub.status.idle": "2024-10-04T10:29:59.847119Z",
     "shell.execute_reply": "2024-10-04T10:29:59.847119Z",
     "shell.execute_reply.started": "2024-10-04T10:29:58.857415Z"
    }
   },
   "outputs": [],
   "source": [
    "import sys\n",
    "\n",
    "sys.path.insert(0, \"../\")\n",
    "from utils import aoc_input as inp\n",
    "\n",
    "maps = inp.download_input(year=\"2023\", day=\"08\")"
   ]
  },
  {
   "cell_type": "code",
   "execution_count": 2,
   "id": "c4490672",
   "metadata": {
    "execution": {
     "iopub.execute_input": "2024-10-04T10:29:59.847119Z",
     "iopub.status.busy": "2024-10-04T10:29:59.847119Z",
     "iopub.status.idle": "2024-10-04T10:29:59.862760Z",
     "shell.execute_reply": "2024-10-04T10:29:59.861850Z",
     "shell.execute_reply.started": "2024-10-04T10:29:59.847119Z"
    }
   },
   "outputs": [
    {
     "data": {
      "text/plain": [
       "['LRRLLRLRRRLRRRLRRLRRRLRRLRRRLRRLRRRLRLRRRLRRRLRRRLRLRRLRRRLRRRLRRLRRLRRLRLLLRRRLRRRLRLRLRRLLRRRLRRLRRRLRLRRLRRRLRRRLLRLRLLRRRLRRRLLRRRLRRRLRRRLRRLRRRLLLRRRLRLLLRLRLRLLRLRLLLRRLRRLLRRLRRRLRRLRRLRLRRLLRRLRLRRLLLRRRLLRRRLLRLRLLRRRLRLLRRLRLRRLRLRRRLLRRRLLRRLRLRRLRRLLRLRLRRRLRLRRRR',\n",
       " '',\n",
       " 'GLJ = (QQV, JTL)',\n",
       " 'JSJ = (DKN, GQN)',\n",
       " 'MGD = (BPL, LQC)']"
      ]
     },
     "execution_count": 2,
     "metadata": {},
     "output_type": "execute_result"
    }
   ],
   "source": [
    "maps[:5]"
   ]
  },
  {
   "cell_type": "markdown",
   "id": "3fdbc997",
   "metadata": {},
   "source": [
    "# Steps to reach end point(s)"
   ]
  },
  {
   "cell_type": "code",
   "execution_count": 3,
   "id": "c0af4c8d",
   "metadata": {
    "execution": {
     "iopub.execute_input": "2024-10-04T10:29:59.864878Z",
     "iopub.status.busy": "2024-10-04T10:29:59.864878Z",
     "iopub.status.idle": "2024-10-04T10:29:59.873372Z",
     "shell.execute_reply": "2024-10-04T10:29:59.873372Z",
     "shell.execute_reply.started": "2024-10-04T10:29:59.864878Z"
    }
   },
   "outputs": [],
   "source": [
    "directions = maps[0]\n",
    "\n",
    "paths = {}\n",
    "for path in maps[2:]:\n",
    "    node, turn = path.split(\"=\")\n",
    "    paths[node.strip()] = turn.replace(\"(\", \"\").replace(\")\", \"\").strip().split(\", \")"
   ]
  },
  {
   "cell_type": "markdown",
   "id": "45766204",
   "metadata": {},
   "source": [
    "## Part 1"
   ]
  },
  {
   "cell_type": "code",
   "execution_count": 4,
   "id": "7151fd7c",
   "metadata": {
    "execution": {
     "iopub.execute_input": "2024-10-04T10:29:59.877004Z",
     "iopub.status.busy": "2024-10-04T10:29:59.875993Z",
     "iopub.status.idle": "2024-10-04T10:29:59.889507Z",
     "shell.execute_reply": "2024-10-04T10:29:59.889507Z",
     "shell.execute_reply.started": "2024-10-04T10:29:59.877004Z"
    }
   },
   "outputs": [
    {
     "data": {
      "text/plain": [
       "14681"
      ]
     },
     "execution_count": 4,
     "metadata": {},
     "output_type": "execute_result"
    }
   ],
   "source": [
    "current = \"AAA\"\n",
    "end = \"ZZZ\"\n",
    "\n",
    "step = 0\n",
    "\n",
    "while True:\n",
    "    for direction in directions:\n",
    "        step += 1\n",
    "        current = paths[current][0 if direction == \"L\" else 1]\n",
    "        if current == end:\n",
    "            break\n",
    "    if current == end:\n",
    "        break\n",
    "\n",
    "step"
   ]
  },
  {
   "cell_type": "markdown",
   "id": "68099b65",
   "metadata": {},
   "source": [
    "## Part 2"
   ]
  },
  {
   "cell_type": "code",
   "execution_count": 5,
   "id": "a9e2afa2",
   "metadata": {
    "execution": {
     "iopub.execute_input": "2024-10-04T10:29:59.889507Z",
     "iopub.status.busy": "2024-10-04T10:29:59.889507Z",
     "iopub.status.idle": "2024-10-04T10:29:59.929340Z",
     "shell.execute_reply": "2024-10-04T10:29:59.928944Z",
     "shell.execute_reply.started": "2024-10-04T10:29:59.889507Z"
    }
   },
   "outputs": [
    {
     "data": {
      "text/plain": [
       "14321394058031"
      ]
     },
     "execution_count": 5,
     "metadata": {},
     "output_type": "execute_result"
    }
   ],
   "source": [
    "from math import lcm\n",
    "\n",
    "currents = [key for key in paths.keys() if key.endswith(\"A\")]\n",
    "end = [key for key in paths.keys() if key.endswith(\"Z\")]\n",
    "\n",
    "steps = []\n",
    "\n",
    "for current in currents:\n",
    "    step = 0\n",
    "    while True:\n",
    "        for direction in directions:\n",
    "            step += 1\n",
    "            current = paths[current][0 if direction == \"L\" else 1]\n",
    "            if current in end:\n",
    "                steps.append(step)\n",
    "                break\n",
    "        if current in end:\n",
    "            break\n",
    "\n",
    "lcm(*steps)"
   ]
  }
 ],
 "metadata": {
  "kernelspec": {
   "display_name": "Python 3 (ipykernel)",
   "language": "python",
   "name": "python3"
  },
  "language_info": {
   "codemirror_mode": {
    "name": "ipython",
    "version": 3
   },
   "file_extension": ".py",
   "mimetype": "text/x-python",
   "name": "python",
   "nbconvert_exporter": "python",
   "pygments_lexer": "ipython3",
   "version": "3.11.4"
  }
 },
 "nbformat": 4,
 "nbformat_minor": 5
}
