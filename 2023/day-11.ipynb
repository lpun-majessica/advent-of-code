{
 "cells": [
  {
   "cell_type": "markdown",
   "metadata": {},
   "source": [
    "[Adven of Code - Day 11](https://adventofcode.com/2023/day/11)"
   ]
  },
  {
   "cell_type": "markdown",
   "metadata": {},
   "source": [
    "# Import *Cosmic image*"
   ]
  },
  {
   "cell_type": "code",
   "execution_count": 1,
   "metadata": {
    "execution": {
     "iopub.execute_input": "2024-10-04T10:34:16.437163Z",
     "iopub.status.busy": "2024-10-04T10:34:16.436502Z",
     "iopub.status.idle": "2024-10-04T10:34:17.501164Z",
     "shell.execute_reply": "2024-10-04T10:34:17.499441Z",
     "shell.execute_reply.started": "2024-10-04T10:34:16.437163Z"
    }
   },
   "outputs": [],
   "source": [
    "import sys\n",
    "import numpy as np\n",
    "\n",
    "sys.path.insert(0, \"../\")\n",
    "from utils import aoc_input as inp\n",
    "\n",
    "image = inp.download_input(year=\"2023\", day=\"11\")"
   ]
  },
  {
   "cell_type": "code",
   "execution_count": 2,
   "metadata": {
    "execution": {
     "iopub.execute_input": "2024-10-04T10:34:17.502236Z",
     "iopub.status.busy": "2024-10-04T10:34:17.501164Z",
     "iopub.status.idle": "2024-10-04T10:34:17.513842Z",
     "shell.execute_reply": "2024-10-04T10:34:17.513213Z",
     "shell.execute_reply.started": "2024-10-04T10:34:17.502236Z"
    }
   },
   "outputs": [
    {
     "data": {
      "text/plain": [
       "['.....................#..................#..................................................................#...........#....................',\n",
       " '................................................................#..................#........................................................',\n",
       " '..........................#.....#.............................................................#........#..................................#.',\n",
       " '...#.......#...........................................#........................................................#...........................',\n",
       " '............................................................................................................................................']"
      ]
     },
     "execution_count": 2,
     "metadata": {},
     "output_type": "execute_result"
    }
   ],
   "source": [
    "image[:5]"
   ]
  },
  {
   "cell_type": "markdown",
   "metadata": {},
   "source": [
    "# Sum of shortest distances"
   ]
  },
  {
   "cell_type": "code",
   "execution_count": 3,
   "metadata": {
    "execution": {
     "iopub.execute_input": "2024-10-04T10:34:17.517651Z",
     "iopub.status.busy": "2024-10-04T10:34:17.516132Z",
     "iopub.status.idle": "2024-10-04T10:34:17.539648Z",
     "shell.execute_reply": "2024-10-04T10:34:17.539648Z",
     "shell.execute_reply.started": "2024-10-04T10:34:17.517651Z"
    }
   },
   "outputs": [],
   "source": [
    "for index, line in enumerate(image):\n",
    "    image[index] = []\n",
    "    for point in line:\n",
    "        image[index].append(point)\n",
    "\n",
    "matrix = np.array([line for line in image])"
   ]
  },
  {
   "cell_type": "code",
   "execution_count": 4,
   "metadata": {
    "execution": {
     "iopub.execute_input": "2024-10-04T10:34:17.539648Z",
     "iopub.status.busy": "2024-10-04T10:34:17.539648Z",
     "iopub.status.idle": "2024-10-04T10:34:17.549104Z",
     "shell.execute_reply": "2024-10-04T10:34:17.547945Z",
     "shell.execute_reply.started": "2024-10-04T10:34:17.539648Z"
    }
   },
   "outputs": [],
   "source": [
    "expand_cols = []\n",
    "\n",
    "for col in range(matrix.shape[1]):\n",
    "    if all(matrix[:, col] == \".\"):\n",
    "        expand_cols.append(col)\n",
    "\n",
    "expand_rows = []\n",
    "\n",
    "for row in range(matrix.shape[0]):\n",
    "    if all(matrix[row, :] == \".\"):\n",
    "        expand_rows.append(row)"
   ]
  },
  {
   "cell_type": "code",
   "execution_count": 5,
   "metadata": {
    "execution": {
     "iopub.execute_input": "2024-10-04T10:34:17.550108Z",
     "iopub.status.busy": "2024-10-04T10:34:17.550108Z",
     "iopub.status.idle": "2024-10-04T10:34:17.556695Z",
     "shell.execute_reply": "2024-10-04T10:34:17.556695Z",
     "shell.execute_reply.started": "2024-10-04T10:34:17.550108Z"
    }
   },
   "outputs": [],
   "source": [
    "for col in expand_cols[::-1]:\n",
    "    matrix = np.insert(matrix, col, \".\", axis=1)\n",
    "\n",
    "for row in expand_rows[::-1]:\n",
    "    matrix = np.insert(matrix, row, \".\", axis=0)"
   ]
  },
  {
   "cell_type": "code",
   "execution_count": 6,
   "metadata": {
    "execution": {
     "iopub.execute_input": "2024-10-04T10:34:17.556695Z",
     "iopub.status.busy": "2024-10-04T10:34:17.556695Z",
     "iopub.status.idle": "2024-10-04T10:34:17.575975Z",
     "shell.execute_reply": "2024-10-04T10:34:17.575975Z",
     "shell.execute_reply.started": "2024-10-04T10:34:17.556695Z"
    }
   },
   "outputs": [],
   "source": [
    "galaxies = {}\n",
    "index = 0\n",
    "\n",
    "for idx, point in np.ndenumerate(matrix):\n",
    "    if point == \"#\":\n",
    "        index += 1\n",
    "        galaxies[index] = idx"
   ]
  },
  {
   "cell_type": "markdown",
   "metadata": {},
   "source": [
    "## Part 1"
   ]
  },
  {
   "cell_type": "code",
   "execution_count": 7,
   "metadata": {
    "execution": {
     "iopub.execute_input": "2024-10-04T10:34:17.575975Z",
     "iopub.status.busy": "2024-10-04T10:34:17.575975Z",
     "iopub.status.idle": "2024-10-04T10:34:17.623571Z",
     "shell.execute_reply": "2024-10-04T10:34:17.623571Z",
     "shell.execute_reply.started": "2024-10-04T10:34:17.575975Z"
    }
   },
   "outputs": [
    {
     "data": {
      "text/plain": [
       "9522407"
      ]
     },
     "execution_count": 7,
     "metadata": {},
     "output_type": "execute_result"
    }
   ],
   "source": [
    "sum_1 = 0\n",
    "\n",
    "for galaxy in galaxies.keys():\n",
    "    for number in range(galaxy, len(galaxies) + 1):\n",
    "        sum_1 += abs(galaxies[galaxy][0] - galaxies[number][0]) + abs(\n",
    "            galaxies[galaxy][1] - galaxies[number][1]\n",
    "        )\n",
    "\n",
    "sum_1"
   ]
  },
  {
   "cell_type": "markdown",
   "metadata": {},
   "source": [
    "## Part 2"
   ]
  },
  {
   "cell_type": "code",
   "execution_count": 8,
   "metadata": {
    "execution": {
     "iopub.execute_input": "2024-10-04T10:34:17.623571Z",
     "iopub.status.busy": "2024-10-04T10:34:17.623571Z",
     "iopub.status.idle": "2024-10-04T10:34:17.635725Z",
     "shell.execute_reply": "2024-10-04T10:34:17.634714Z",
     "shell.execute_reply.started": "2024-10-04T10:34:17.623571Z"
    }
   },
   "outputs": [],
   "source": [
    "for index, line in enumerate(image):\n",
    "    image[index] = []\n",
    "    for point in line:\n",
    "        image[index].append(point)\n",
    "\n",
    "matrix = np.array([line for line in image])"
   ]
  },
  {
   "cell_type": "code",
   "execution_count": 9,
   "metadata": {
    "execution": {
     "iopub.execute_input": "2024-10-04T10:34:17.635903Z",
     "iopub.status.busy": "2024-10-04T10:34:17.635903Z",
     "iopub.status.idle": "2024-10-04T10:34:17.644670Z",
     "shell.execute_reply": "2024-10-04T10:34:17.644670Z",
     "shell.execute_reply.started": "2024-10-04T10:34:17.635903Z"
    }
   },
   "outputs": [],
   "source": [
    "expansion_size = 999999\n",
    "expanded_galaxies = {}\n",
    "\n",
    "for galaxy, loc in galaxies.items():\n",
    "    pass_expand_rows = 0\n",
    "    pass_expand_cols = 0\n",
    "    for row in expand_rows:\n",
    "        if loc[0] > row:\n",
    "            pass_expand_rows += 1\n",
    "    for col in expand_cols:\n",
    "        if loc[1] > col:\n",
    "            pass_expand_cols += 1\n",
    "    expanded_galaxies[galaxy] = [\n",
    "        loc[0] + expansion_size * pass_expand_rows,\n",
    "        loc[1] + expansion_size * pass_expand_cols,\n",
    "    ]"
   ]
  },
  {
   "cell_type": "code",
   "execution_count": 10,
   "metadata": {
    "execution": {
     "iopub.execute_input": "2024-10-04T10:34:17.644670Z",
     "iopub.status.busy": "2024-10-04T10:34:17.644670Z",
     "iopub.status.idle": "2024-10-04T10:34:17.699564Z",
     "shell.execute_reply": "2024-10-04T10:34:17.699564Z",
     "shell.execute_reply.started": "2024-10-04T10:34:17.644670Z"
    }
   },
   "outputs": [
    {
     "data": {
      "text/plain": [
       "551284971131"
      ]
     },
     "execution_count": 10,
     "metadata": {},
     "output_type": "execute_result"
    }
   ],
   "source": [
    "sum_2 = 0\n",
    "\n",
    "for galaxy in expanded_galaxies.keys():\n",
    "    for number in range(galaxy, len(expanded_galaxies) + 1):\n",
    "        sum_2 += abs(expanded_galaxies[galaxy][0] - expanded_galaxies[number][0]) + abs(\n",
    "            expanded_galaxies[galaxy][1] - expanded_galaxies[number][1]\n",
    "        )\n",
    "\n",
    "sum_2"
   ]
  }
 ],
 "metadata": {
  "kernelspec": {
   "display_name": "Python 3 (ipykernel)",
   "language": "python",
   "name": "python3"
  },
  "language_info": {
   "codemirror_mode": {
    "name": "ipython",
    "version": 3
   },
   "file_extension": ".py",
   "mimetype": "text/x-python",
   "name": "python",
   "nbconvert_exporter": "python",
   "pygments_lexer": "ipython3",
   "version": "3.11.4"
  }
 },
 "nbformat": 4,
 "nbformat_minor": 4
}
