{
 "cells": [
  {
   "cell_type": "markdown",
   "metadata": {},
   "source": [
    "[Advent of Code - Day 12](https://adventofcode.com/2023/day/12)"
   ]
  },
  {
   "cell_type": "markdown",
   "metadata": {},
   "source": [
    "# Import input"
   ]
  },
  {
   "cell_type": "code",
   "execution_count": 1,
   "metadata": {
    "execution": {
     "iopub.execute_input": "2024-10-07T07:27:02.436614Z",
     "iopub.status.busy": "2024-10-07T07:27:02.436614Z",
     "iopub.status.idle": "2024-10-07T07:27:03.811638Z",
     "shell.execute_reply": "2024-10-07T07:27:03.811638Z",
     "shell.execute_reply.started": "2024-10-07T07:27:02.436614Z"
    }
   },
   "outputs": [],
   "source": [
    "import sys\n",
    "\n",
    "sys.path.insert(0, \"../\")\n",
    "from utils import aoc_input as inp\n",
    "\n",
    "INPUT = inp.download_input(year=\"2023\", day=\"12\")"
   ]
  },
  {
   "cell_type": "code",
   "execution_count": 2,
   "metadata": {
    "execution": {
     "iopub.execute_input": "2024-10-07T07:27:03.811638Z",
     "iopub.status.busy": "2024-10-07T07:27:03.811638Z",
     "iopub.status.idle": "2024-10-07T07:27:03.833443Z",
     "shell.execute_reply": "2024-10-07T07:27:03.832195Z",
     "shell.execute_reply.started": "2024-10-07T07:27:03.811638Z"
    }
   },
   "outputs": [
    {
     "data": {
      "text/plain": [
       "['???#...#.?#??#?#? 1,1,1,8',\n",
       " '#?.???????#????#???. 1,1,12',\n",
       " '????.#??##??? 1,2,3',\n",
       " '??#.#????#???#.??. 2,10,1',\n",
       " '??????.?.???##?#?. 6,1,7']"
      ]
     },
     "execution_count": 2,
     "metadata": {},
     "output_type": "execute_result"
    }
   ],
   "source": [
    "INPUT[:5]"
   ]
  },
  {
   "cell_type": "markdown",
   "metadata": {},
   "source": [
    "# Solulu"
   ]
  },
  {
   "cell_type": "code",
   "execution_count": 3,
   "metadata": {
    "execution": {
     "iopub.execute_input": "2024-10-07T07:27:05.249768Z",
     "iopub.status.busy": "2024-10-07T07:27:05.249768Z",
     "iopub.status.idle": "2024-10-07T07:27:05.269928Z",
     "shell.execute_reply": "2024-10-07T07:27:05.268594Z",
     "shell.execute_reply.started": "2024-10-07T07:27:05.249768Z"
    }
   },
   "outputs": [],
   "source": [
    "def arrange(record: str) -> list:\n",
    "    arrangements = [record]\n",
    "    while \"?\" in arrangements[0]:\n",
    "        arrangement = arrangements.pop(0)\n",
    "        for possibility in [\".\", \"#\"]:\n",
    "            arrangements.append(arrangement.replace(\"?\", possibility, 1))\n",
    "\n",
    "    return arrangements\n",
    "\n",
    "\n",
    "def is_valid(arrangement: str, criteria: list) -> bool:\n",
    "    arrangement += \".\"\n",
    "    nums = []\n",
    "    count = 0\n",
    "    for spring in arrangement:\n",
    "        if spring == \"#\":\n",
    "            count += 1\n",
    "        elif spring == \".\" and count:\n",
    "            nums.append(count)\n",
    "            count = 0\n",
    "\n",
    "    if nums == criteria:\n",
    "        return True\n",
    "    else:\n",
    "        return False"
   ]
  },
  {
   "cell_type": "markdown",
   "metadata": {},
   "source": [
    "## Part 1"
   ]
  },
  {
   "cell_type": "code",
   "execution_count": 4,
   "metadata": {
    "execution": {
     "iopub.execute_input": "2024-10-07T07:27:07.001166Z",
     "iopub.status.busy": "2024-10-07T07:27:07.001166Z",
     "iopub.status.idle": "2024-10-07T07:28:57.108232Z",
     "shell.execute_reply": "2024-10-07T07:28:57.108232Z",
     "shell.execute_reply.started": "2024-10-07T07:27:07.001166Z"
    }
   },
   "outputs": [
    {
     "data": {
      "text/plain": [
       "7307"
      ]
     },
     "execution_count": 4,
     "metadata": {},
     "output_type": "execute_result"
    }
   ],
   "source": [
    "res = 0\n",
    "for line in INPUT:\n",
    "    record, criteria = line.split(\" \")\n",
    "    record = record.strip(\".\")\n",
    "    while \"..\" in record:\n",
    "        record = record.replace(\"..\", \".\")\n",
    "    criteria = list(map(int, criteria.split(\",\")))\n",
    "\n",
    "    for arrangement in arrange(record):\n",
    "        if is_valid(arrangement, criteria):\n",
    "            res += 1\n",
    "\n",
    "res"
   ]
  },
  {
   "cell_type": "markdown",
   "metadata": {
    "jp-MarkdownHeadingCollapsed": true
   },
   "source": [
    "## Part 2"
   ]
  }
 ],
 "metadata": {
  "kernelspec": {
   "display_name": "Python 3 (ipykernel)",
   "language": "python",
   "name": "python3"
  },
  "language_info": {
   "codemirror_mode": {
    "name": "ipython",
    "version": 3
   },
   "file_extension": ".py",
   "mimetype": "text/x-python",
   "name": "python",
   "nbconvert_exporter": "python",
   "pygments_lexer": "ipython3",
   "version": "3.11.4"
  }
 },
 "nbformat": 4,
 "nbformat_minor": 4
}
