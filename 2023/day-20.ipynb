{
 "cells": [
  {
   "cell_type": "markdown",
   "metadata": {},
   "source": [
    "[Advent of Code - Day 20](https://adventofcode.com/2023/day/20)"
   ]
  },
  {
   "cell_type": "markdown",
   "metadata": {},
   "source": [
    "# Import *Module Config*"
   ]
  },
  {
   "cell_type": "code",
   "execution_count": 1,
   "metadata": {
    "execution": {
     "iopub.execute_input": "2024-10-25T07:13:01.125853Z",
     "iopub.status.busy": "2024-10-25T07:13:01.125853Z",
     "iopub.status.idle": "2024-10-25T07:13:02.243394Z",
     "shell.execute_reply": "2024-10-25T07:13:02.243394Z",
     "shell.execute_reply.started": "2024-10-25T07:13:01.125853Z"
    }
   },
   "outputs": [],
   "source": [
    "import sys\n",
    "from collections import defaultdict\n",
    "from math import lcm\n",
    "\n",
    "sys.path.insert(0, \"../\")\n",
    "from utils import aoc_input as inp\n",
    "\n",
    "config = inp.download_input(year=\"2023\", day=\"20\")"
   ]
  },
  {
   "cell_type": "code",
   "execution_count": 2,
   "metadata": {
    "execution": {
     "iopub.execute_input": "2024-10-25T07:13:02.243394Z",
     "iopub.status.busy": "2024-10-25T07:13:02.243394Z",
     "iopub.status.idle": "2024-10-25T07:13:02.258066Z",
     "shell.execute_reply": "2024-10-25T07:13:02.256036Z",
     "shell.execute_reply.started": "2024-10-25T07:13:02.243394Z"
    },
    "tags": []
   },
   "outputs": [
    {
     "data": {
      "text/plain": [
       "['%gv -> lq, pm',\n",
       " '%rv -> jd, nh',\n",
       " '%nh -> rs, jd',\n",
       " '&vt -> tj',\n",
       " '%zv -> pm, gv']"
      ]
     },
     "execution_count": 2,
     "metadata": {},
     "output_type": "execute_result"
    }
   ],
   "source": [
    "config[:5]"
   ]
  },
  {
   "cell_type": "markdown",
   "metadata": {},
   "source": [
    "# Total *Low & High pulses*"
   ]
  },
  {
   "cell_type": "code",
   "execution_count": 3,
   "metadata": {
    "execution": {
     "iopub.execute_input": "2024-10-25T07:13:02.259160Z",
     "iopub.status.busy": "2024-10-25T07:13:02.259160Z",
     "iopub.status.idle": "2024-10-25T07:13:02.278578Z",
     "shell.execute_reply": "2024-10-25T07:13:02.278578Z",
     "shell.execute_reply.started": "2024-10-25T07:13:02.259160Z"
    }
   },
   "outputs": [],
   "source": [
    "BROADCASTER = \"broadcaster\"\n",
    "FLIP_FLOP = \"%\"\n",
    "CONJUNCTION = \"&\""
   ]
  },
  {
   "cell_type": "code",
   "execution_count": 4,
   "metadata": {
    "execution": {
     "iopub.execute_input": "2024-10-25T07:13:02.278578Z",
     "iopub.status.busy": "2024-10-25T07:13:02.278578Z",
     "iopub.status.idle": "2024-10-25T07:13:02.296353Z",
     "shell.execute_reply": "2024-10-25T07:13:02.296353Z",
     "shell.execute_reply.started": "2024-10-25T07:13:02.278578Z"
    },
    "tags": []
   },
   "outputs": [],
   "source": [
    "def reset_modules(config):\n",
    "    modules = defaultdict(list)\n",
    "    ff = dict()\n",
    "    cnj = dict()\n",
    "\n",
    "    for line in config:\n",
    "        module, receive = line.split(\" -> \")\n",
    "        if module[0] == FLIP_FLOP:\n",
    "            module = module[1:]\n",
    "            ff[module] = 0\n",
    "        elif module[0] == CONJUNCTION:\n",
    "            module = module[1:]\n",
    "            cnj[module] = dict()\n",
    "\n",
    "        for r in receive.split(\", \"):\n",
    "            modules[module].append(r)\n",
    "\n",
    "    for c in cnj:\n",
    "        for module, receive in modules.items():\n",
    "            if c in receive:\n",
    "                cnj[c][module] = 0\n",
    "\n",
    "    return modules, ff, cnj"
   ]
  },
  {
   "cell_type": "markdown",
   "metadata": {},
   "source": [
    "## Part 1: *Low & High pulses* multiplication"
   ]
  },
  {
   "cell_type": "code",
   "execution_count": 5,
   "metadata": {
    "execution": {
     "iopub.execute_input": "2024-10-25T07:13:02.296353Z",
     "iopub.status.busy": "2024-10-25T07:13:02.296353Z",
     "iopub.status.idle": "2024-10-25T07:13:02.388863Z",
     "shell.execute_reply": "2024-10-25T07:13:02.388863Z",
     "shell.execute_reply.started": "2024-10-25T07:13:02.296353Z"
    },
    "tags": []
   },
   "outputs": [
    {
     "data": {
      "text/plain": [
       "818649769"
      ]
     },
     "execution_count": 5,
     "metadata": {},
     "output_type": "execute_result"
    }
   ],
   "source": [
    "modules, ff, cnj = reset_modules(config)\n",
    "times = 1_000\n",
    "lows, highs = 0, 0\n",
    "\n",
    "while times:\n",
    "    times -= 1\n",
    "    queue = [(BROADCASTER, False)]\n",
    "\n",
    "    while queue:\n",
    "        module, hi = queue.pop(0)\n",
    "        lows += not hi\n",
    "        highs += hi\n",
    "\n",
    "        if module in ff:\n",
    "            if hi:\n",
    "                continue\n",
    "            elif not hi and ff[module]:\n",
    "                ff[module] = False\n",
    "            elif not hi and not ff[module]:\n",
    "                hi = not hi\n",
    "                ff[module] = True\n",
    "        elif module in cnj:\n",
    "            if all(inp for inp in cnj[module].values()):\n",
    "                hi = False\n",
    "            else:\n",
    "                hi = True\n",
    "\n",
    "        for receive in modules[module]:\n",
    "            queue.append((receive, hi))\n",
    "            if receive in cnj:\n",
    "                cnj[receive][module] = hi\n",
    "\n",
    "lows * highs"
   ]
  },
  {
   "cell_type": "markdown",
   "metadata": {},
   "source": [
    "## Part 2: Fewest *Button presses*"
   ]
  },
  {
   "cell_type": "code",
   "execution_count": 6,
   "metadata": {
    "execution": {
     "iopub.execute_input": "2024-10-25T07:13:02.388863Z",
     "iopub.status.busy": "2024-10-25T07:13:02.388863Z",
     "iopub.status.idle": "2024-10-25T07:13:02.628619Z",
     "shell.execute_reply": "2024-10-25T07:13:02.628619Z",
     "shell.execute_reply.started": "2024-10-25T07:13:02.388863Z"
    },
    "tags": []
   },
   "outputs": [
    {
     "data": {
      "text/plain": [
       "246313604784977"
      ]
     },
     "execution_count": 6,
     "metadata": {},
     "output_type": "execute_result"
    }
   ],
   "source": [
    "target = \"rx\"\n",
    "modules, ff, cnj = reset_modules(config)\n",
    "high_cycles = dict()\n",
    "\n",
    "for module, receive in modules.items():\n",
    "    if target in receive:\n",
    "        for inp in cnj[module]:\n",
    "            high_cycles[inp] = 0\n",
    "\n",
    "times = 0\n",
    "\n",
    "while any(inp == 0 for inp in high_cycles.values()):\n",
    "    times += 1\n",
    "    queue = [(BROADCASTER, False)]\n",
    "\n",
    "    while queue:\n",
    "        module, hi = queue.pop(0)\n",
    "\n",
    "        if module in ff:\n",
    "            if hi:\n",
    "                continue\n",
    "            elif not hi and ff[module]:\n",
    "                ff[module] = False\n",
    "            elif not hi and not ff[module]:\n",
    "                hi = not hi\n",
    "                ff[module] = True\n",
    "        elif module in cnj:\n",
    "            if all(inp for inp in cnj[module].values()):\n",
    "                hi = False\n",
    "            else:\n",
    "                hi = True\n",
    "\n",
    "        for receive in modules[module]:\n",
    "            queue.append((receive, hi))\n",
    "            if receive in cnj:\n",
    "                cnj[receive][module] = hi\n",
    "\n",
    "        if module in high_cycles and hi and not high_cycles[module]:\n",
    "            high_cycles[module] = times\n",
    "\n",
    "lcm(*high_cycles.values())"
   ]
  }
 ],
 "metadata": {
  "kernelspec": {
   "display_name": "Python 3 (ipykernel)",
   "language": "python",
   "name": "python3"
  },
  "language_info": {
   "codemirror_mode": {
    "name": "ipython",
    "version": 3
   },
   "file_extension": ".py",
   "mimetype": "text/x-python",
   "name": "python",
   "nbconvert_exporter": "python",
   "pygments_lexer": "ipython3",
   "version": "3.11.4"
  }
 },
 "nbformat": 4,
 "nbformat_minor": 4
}
