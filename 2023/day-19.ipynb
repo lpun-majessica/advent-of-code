{
 "cells": [
  {
   "cell_type": "markdown",
   "metadata": {},
   "source": [
    "[Advent of Code - Day 19](https://adventofcode.com/2023/day/19)"
   ]
  },
  {
   "cell_type": "markdown",
   "metadata": {},
   "source": [
    "# Import *Workflow list and Part ratings*"
   ]
  },
  {
   "cell_type": "code",
   "execution_count": 1,
   "metadata": {
    "execution": {
     "iopub.execute_input": "2024-10-25T04:39:40.556236Z",
     "iopub.status.busy": "2024-10-25T04:39:40.556236Z",
     "iopub.status.idle": "2024-10-25T04:39:41.713539Z",
     "shell.execute_reply": "2024-10-25T04:39:41.711521Z",
     "shell.execute_reply.started": "2024-10-25T04:39:40.556236Z"
    }
   },
   "outputs": [],
   "source": [
    "import sys\n",
    "\n",
    "sys.path.insert(0, \"../\")\n",
    "from utils import aoc_input as inp\n",
    "\n",
    "INPUT = inp.download_input(year=\"2023\", day=\"19\")"
   ]
  },
  {
   "cell_type": "code",
   "execution_count": 2,
   "metadata": {
    "execution": {
     "iopub.execute_input": "2024-10-25T04:39:41.715300Z",
     "iopub.status.busy": "2024-10-25T04:39:41.715300Z",
     "iopub.status.idle": "2024-10-25T04:39:41.725965Z",
     "shell.execute_reply": "2024-10-25T04:39:41.725965Z",
     "shell.execute_reply.started": "2024-10-25T04:39:41.715300Z"
    },
    "tags": []
   },
   "outputs": [],
   "source": [
    "blank = INPUT.index(\"\")"
   ]
  },
  {
   "cell_type": "code",
   "execution_count": 3,
   "metadata": {
    "execution": {
     "iopub.execute_input": "2024-10-25T04:39:41.729474Z",
     "iopub.status.busy": "2024-10-25T04:39:41.725965Z",
     "iopub.status.idle": "2024-10-25T04:39:41.757354Z",
     "shell.execute_reply": "2024-10-25T04:39:41.757354Z",
     "shell.execute_reply.started": "2024-10-25T04:39:41.729474Z"
    },
    "tags": []
   },
   "outputs": [],
   "source": [
    "input_1 = [x.strip(\"}\") for x in INPUT[:blank]]\n",
    "input_2 = [x.strip(\"}\").strip(\"{\") for x in INPUT[blank + 1 :]]"
   ]
  },
  {
   "cell_type": "code",
   "execution_count": 4,
   "metadata": {
    "execution": {
     "iopub.execute_input": "2024-10-25T04:39:41.762078Z",
     "iopub.status.busy": "2024-10-25T04:39:41.760867Z",
     "iopub.status.idle": "2024-10-25T04:39:41.782707Z",
     "shell.execute_reply": "2024-10-25T04:39:41.782707Z",
     "shell.execute_reply.started": "2024-10-25T04:39:41.762078Z"
    },
    "tags": []
   },
   "outputs": [
    {
     "data": {
      "text/plain": [
       "(['fmz{x<2152:R,s>3520:A,a<3391:A,A',\n",
       "  'qhh{a>2045:A,s>3259:A,R',\n",
       "  'xh{m<1065:bxz,spk',\n",
       "  'kmp{m>2580:R,s>3306:A,x<420:R,R',\n",
       "  'rdg{a<2587:md,tgj'],\n",
       " ['x=53,m=706,a=908,s=10',\n",
       "  'x=518,m=1763,a=669,s=832',\n",
       "  'x=745,m=1031,a=529,s=1094',\n",
       "  'x=92,m=724,a=1146,s=1',\n",
       "  'x=221,m=945,a=188,s=280'])"
      ]
     },
     "execution_count": 4,
     "metadata": {},
     "output_type": "execute_result"
    }
   ],
   "source": [
    "input_1[:5], input_2[:5]"
   ]
  },
  {
   "cell_type": "markdown",
   "metadata": {},
   "source": [
    "# *Accepted parts*"
   ]
  },
  {
   "cell_type": "code",
   "execution_count": 5,
   "metadata": {
    "execution": {
     "iopub.execute_input": "2024-10-25T04:39:41.782707Z",
     "iopub.status.busy": "2024-10-25T04:39:41.782707Z",
     "iopub.status.idle": "2024-10-25T04:39:41.795185Z",
     "shell.execute_reply": "2024-10-25T04:39:41.794571Z",
     "shell.execute_reply.started": "2024-10-25T04:39:41.782707Z"
    }
   },
   "outputs": [],
   "source": [
    "IN = \"in\"\n",
    "ACCEPT, REJECT = \"A\", \"R\""
   ]
  },
  {
   "cell_type": "code",
   "execution_count": 6,
   "metadata": {
    "execution": {
     "iopub.execute_input": "2024-10-25T04:39:41.795739Z",
     "iopub.status.busy": "2024-10-25T04:39:41.795739Z",
     "iopub.status.idle": "2024-10-25T04:39:41.813974Z",
     "shell.execute_reply": "2024-10-25T04:39:41.813974Z",
     "shell.execute_reply.started": "2024-10-25T04:39:41.795739Z"
    },
    "tags": []
   },
   "outputs": [],
   "source": [
    "flows = {}\n",
    "\n",
    "for line in input_1:\n",
    "    flow, rules = line.split(\"{\")\n",
    "    rule = rules.split(\",\")\n",
    "    flows[flow] = rule\n",
    "\n",
    "parts = []\n",
    "\n",
    "for line in input_2:\n",
    "    parts.append(line.split(\",\"))"
   ]
  },
  {
   "cell_type": "markdown",
   "metadata": {},
   "source": [
    "## Part 1: Sum of *X-M-A-S ratings*"
   ]
  },
  {
   "cell_type": "code",
   "execution_count": 7,
   "metadata": {
    "execution": {
     "iopub.execute_input": "2024-10-25T04:39:41.813974Z",
     "iopub.status.busy": "2024-10-25T04:39:41.813974Z",
     "iopub.status.idle": "2024-10-25T04:39:41.847852Z",
     "shell.execute_reply": "2024-10-25T04:39:41.847852Z",
     "shell.execute_reply.started": "2024-10-25T04:39:41.813974Z"
    },
    "tags": []
   },
   "outputs": [],
   "source": [
    "accept = []\n",
    "\n",
    "\n",
    "def sorter(workflow, x, m, a, s):\n",
    "    for step in workflow[:-1]:\n",
    "        rule, dest = step.split(\":\")\n",
    "\n",
    "        if eval(rule):\n",
    "            return dest\n",
    "    else:\n",
    "        return workflow[-1]\n",
    "\n",
    "\n",
    "for part in parts:\n",
    "    current = IN\n",
    "    for cat in part:\n",
    "        exec(cat)\n",
    "\n",
    "    while current not in [REJECT, ACCEPT]:\n",
    "        current = sorter(flows[current], x, m, a, s)\n",
    "\n",
    "    if current == ACCEPT:\n",
    "        accept.append([x, m, a, s])"
   ]
  },
  {
   "cell_type": "code",
   "execution_count": 8,
   "metadata": {
    "execution": {
     "iopub.execute_input": "2024-10-25T04:39:41.847852Z",
     "iopub.status.busy": "2024-10-25T04:39:41.847852Z",
     "iopub.status.idle": "2024-10-25T04:39:41.859393Z",
     "shell.execute_reply": "2024-10-25T04:39:41.859393Z",
     "shell.execute_reply.started": "2024-10-25T04:39:41.847852Z"
    },
    "tags": []
   },
   "outputs": [
    {
     "data": {
      "text/plain": [
       "348378"
      ]
     },
     "execution_count": 8,
     "metadata": {},
     "output_type": "execute_result"
    }
   ],
   "source": [
    "sum_1 = 0\n",
    "\n",
    "for rating in accept:\n",
    "    sum_1 += sum(rating)\n",
    "\n",
    "sum_1"
   ]
  },
  {
   "cell_type": "markdown",
   "metadata": {},
   "source": [
    "## Part 2: Distinct *Rating combinations*"
   ]
  },
  {
   "cell_type": "code",
   "execution_count": 9,
   "metadata": {
    "execution": {
     "iopub.execute_input": "2024-10-25T04:39:41.862193Z",
     "iopub.status.busy": "2024-10-25T04:39:41.862193Z",
     "iopub.status.idle": "2024-10-25T04:39:41.871959Z",
     "shell.execute_reply": "2024-10-25T04:39:41.871959Z",
     "shell.execute_reply.started": "2024-10-25T04:39:41.862193Z"
    }
   },
   "outputs": [],
   "source": [
    "def update_ranges(cat, op, num, xl, xh, ml, mh, al, ah, sl, sh):\n",
    "    if cat == \"x\":\n",
    "        xl, xh = update_range(op, num, xl, xh)\n",
    "    elif cat == \"m\":\n",
    "        ml, mh = update_range(op, num, ml, mh)\n",
    "    elif cat == \"a\":\n",
    "        al, ah = update_range(op, num, al, ah)\n",
    "    elif cat == \"s\":\n",
    "        sl, sh = update_range(op, num, sl, sh)\n",
    "\n",
    "    return (xl, xh, ml, mh, al, ah, sl, sh)\n",
    "\n",
    "\n",
    "def update_range(op, num, lo, hi):\n",
    "    if op == \">\":\n",
    "        lo = max(lo, num + 1)\n",
    "    elif op == \"<\":\n",
    "        hi = min(hi, num - 1)\n",
    "    elif op == \">=\":\n",
    "        lo = max(lo, num)\n",
    "    elif op == \"<=\":\n",
    "        hi = min(hi, num)\n",
    "\n",
    "    return (lo, hi)"
   ]
  },
  {
   "cell_type": "code",
   "execution_count": 10,
   "metadata": {
    "execution": {
     "iopub.execute_input": "2024-10-25T04:39:41.874283Z",
     "iopub.status.busy": "2024-10-25T04:39:41.874283Z",
     "iopub.status.idle": "2024-10-25T04:39:41.894413Z",
     "shell.execute_reply": "2024-10-25T04:39:41.894413Z",
     "shell.execute_reply.started": "2024-10-25T04:39:41.874283Z"
    }
   },
   "outputs": [
    {
     "data": {
      "text/plain": [
       "121158073425385"
      ]
     },
     "execution_count": 10,
     "metadata": {},
     "output_type": "execute_result"
    }
   ],
   "source": [
    "queue = [(IN, (1, 4000, 1, 4000, 1, 4000, 1, 4000))]\n",
    "\n",
    "res = 0\n",
    "\n",
    "while queue:\n",
    "    flow, ranges = queue.pop()\n",
    "    xl, xh, ml, mh, al, ah, sl, sh = ranges\n",
    "    if xl > xh or ml > mh or al > ah or sl > sh:\n",
    "        continue\n",
    "\n",
    "    if flow == REJECT:\n",
    "        continue\n",
    "    elif flow == ACCEPT:\n",
    "        res += (xh - xl + 1) * (mh - ml + 1) * (ah - al + 1) * (sh - sl + 1)\n",
    "        continue\n",
    "    else:\n",
    "        current_flow = flows[flow]\n",
    "\n",
    "        for step in current_flow:\n",
    "            dest = step\n",
    "            if \":\" in step:\n",
    "                rule, dest = step.split(\":\")\n",
    "                cat, op, num = rule[0], rule[1], int(rule[2:])\n",
    "                queue.append((dest, update_ranges(cat, op, num, *ranges)))\n",
    "\n",
    "                opp_op = \">=\" if op == \"<\" else \"<=\"\n",
    "                ranges = update_ranges(cat, opp_op, num, *ranges)\n",
    "\n",
    "            else:\n",
    "                queue.append((dest, ranges))\n",
    "                break\n",
    "\n",
    "res"
   ]
  }
 ],
 "metadata": {
  "kernelspec": {
   "display_name": "Python 3 (ipykernel)",
   "language": "python",
   "name": "python3"
  },
  "language_info": {
   "codemirror_mode": {
    "name": "ipython",
    "version": 3
   },
   "file_extension": ".py",
   "mimetype": "text/x-python",
   "name": "python",
   "nbconvert_exporter": "python",
   "pygments_lexer": "ipython3",
   "version": "3.11.4"
  }
 },
 "nbformat": 4,
 "nbformat_minor": 4
}
