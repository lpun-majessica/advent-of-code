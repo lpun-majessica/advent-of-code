{
 "cells": [
  {
   "cell_type": "markdown",
   "metadata": {},
   "source": [
    "[Advent of Code - Day 19](https://adventofcode.com/2023/day/19)"
   ]
  },
  {
   "cell_type": "markdown",
   "metadata": {},
   "source": [
    "# Import *Workflow list and Part ratings*"
   ]
  },
  {
   "cell_type": "code",
   "execution_count": 1,
   "metadata": {
    "execution": {
     "iopub.execute_input": "2024-10-04T10:51:49.942922Z",
     "iopub.status.busy": "2024-10-04T10:51:49.930811Z",
     "iopub.status.idle": "2024-10-04T10:51:50.900636Z",
     "shell.execute_reply": "2024-10-04T10:51:50.900636Z",
     "shell.execute_reply.started": "2024-10-04T10:51:49.942922Z"
    }
   },
   "outputs": [],
   "source": [
    "import sys\n",
    "\n",
    "sys.path.insert(0, \"../\")\n",
    "from utils import aoc_input as inp\n",
    "\n",
    "in_ = inp.download_input(year=\"2023\", day=\"19\")"
   ]
  },
  {
   "cell_type": "code",
   "execution_count": 2,
   "metadata": {
    "execution": {
     "iopub.execute_input": "2024-10-04T10:51:50.900636Z",
     "iopub.status.busy": "2024-10-04T10:51:50.900636Z",
     "iopub.status.idle": "2024-10-04T10:51:50.913227Z",
     "shell.execute_reply": "2024-10-04T10:51:50.912081Z",
     "shell.execute_reply.started": "2024-10-04T10:51:50.900636Z"
    },
    "tags": []
   },
   "outputs": [],
   "source": [
    "blank = in_.index(\"\")"
   ]
  },
  {
   "cell_type": "code",
   "execution_count": 3,
   "metadata": {
    "execution": {
     "iopub.execute_input": "2024-10-04T10:51:50.915283Z",
     "iopub.status.busy": "2024-10-04T10:51:50.915283Z",
     "iopub.status.idle": "2024-10-04T10:51:50.933224Z",
     "shell.execute_reply": "2024-10-04T10:51:50.931951Z",
     "shell.execute_reply.started": "2024-10-04T10:51:50.915283Z"
    },
    "tags": []
   },
   "outputs": [],
   "source": [
    "input_1 = [x.strip(\"}\") for x in in_[:blank]]\n",
    "input_2 = [x.strip(\"}\").strip(\"{\") for x in in_[blank + 1 :]]"
   ]
  },
  {
   "cell_type": "code",
   "execution_count": 4,
   "metadata": {
    "execution": {
     "iopub.execute_input": "2024-10-04T10:51:50.934672Z",
     "iopub.status.busy": "2024-10-04T10:51:50.934672Z",
     "iopub.status.idle": "2024-10-04T10:51:50.947147Z",
     "shell.execute_reply": "2024-10-04T10:51:50.947147Z",
     "shell.execute_reply.started": "2024-10-04T10:51:50.934672Z"
    },
    "tags": []
   },
   "outputs": [
    {
     "data": {
      "text/plain": [
       "(['fmz{x<2152:R,s>3520:A,a<3391:A,A',\n",
       "  'qhh{a>2045:A,s>3259:A,R',\n",
       "  'xh{m<1065:bxz,spk',\n",
       "  'kmp{m>2580:R,s>3306:A,x<420:R,R',\n",
       "  'rdg{a<2587:md,tgj'],\n",
       " ['x=53,m=706,a=908,s=10',\n",
       "  'x=518,m=1763,a=669,s=832',\n",
       "  'x=745,m=1031,a=529,s=1094',\n",
       "  'x=92,m=724,a=1146,s=1',\n",
       "  'x=221,m=945,a=188,s=280'])"
      ]
     },
     "execution_count": 4,
     "metadata": {},
     "output_type": "execute_result"
    }
   ],
   "source": [
    "input_1[:5], input_2[:5]"
   ]
  },
  {
   "cell_type": "markdown",
   "metadata": {},
   "source": [
    "# *Accepted parts*"
   ]
  },
  {
   "cell_type": "markdown",
   "metadata": {},
   "source": [
    "## Part 1: Sum of *X-M-A-S ratings*"
   ]
  },
  {
   "cell_type": "code",
   "execution_count": 5,
   "metadata": {
    "execution": {
     "iopub.execute_input": "2024-10-04T10:51:50.949150Z",
     "iopub.status.busy": "2024-10-04T10:51:50.948150Z",
     "iopub.status.idle": "2024-10-04T10:51:50.956897Z",
     "shell.execute_reply": "2024-10-04T10:51:50.956323Z",
     "shell.execute_reply.started": "2024-10-04T10:51:50.949150Z"
    },
    "tags": []
   },
   "outputs": [],
   "source": [
    "flows = {}\n",
    "\n",
    "for line in input_1:\n",
    "    flow, rules = line.split(\"{\")\n",
    "    rule = rules.split(\",\")\n",
    "    flows[flow] = rule\n",
    "\n",
    "parts = []\n",
    "\n",
    "for line in input_2:\n",
    "    parts.append(line.split(\",\"))"
   ]
  },
  {
   "cell_type": "code",
   "execution_count": 6,
   "metadata": {
    "execution": {
     "iopub.execute_input": "2024-10-04T10:51:50.959428Z",
     "iopub.status.busy": "2024-10-04T10:51:50.958426Z",
     "iopub.status.idle": "2024-10-04T10:51:50.984354Z",
     "shell.execute_reply": "2024-10-04T10:51:50.984354Z",
     "shell.execute_reply.started": "2024-10-04T10:51:50.959428Z"
    },
    "tags": []
   },
   "outputs": [],
   "source": [
    "accept = []\n",
    "\n",
    "\n",
    "def sorter(workflow, x, m, a, s):\n",
    "    for step in workflow[:-1]:\n",
    "        rule, destination = step.split(\":\")\n",
    "\n",
    "        if eval(rule):\n",
    "            return destination\n",
    "    else:\n",
    "        return workflow[-1]\n",
    "\n",
    "\n",
    "for part in parts:\n",
    "    current = \"in\"\n",
    "    for category in part:\n",
    "        exec(category)\n",
    "\n",
    "    while current not in [\"R\", \"A\"]:\n",
    "        current = sorter(flows[current], x, m, a, s)\n",
    "\n",
    "    if current == \"A\":\n",
    "        accept.append([x, m, a, s])"
   ]
  },
  {
   "cell_type": "code",
   "execution_count": 7,
   "metadata": {
    "execution": {
     "iopub.execute_input": "2024-10-04T10:51:50.986607Z",
     "iopub.status.busy": "2024-10-04T10:51:50.984354Z",
     "iopub.status.idle": "2024-10-04T10:51:50.991525Z",
     "shell.execute_reply": "2024-10-04T10:51:50.991525Z",
     "shell.execute_reply.started": "2024-10-04T10:51:50.986607Z"
    },
    "tags": []
   },
   "outputs": [
    {
     "data": {
      "text/plain": [
       "348378"
      ]
     },
     "execution_count": 7,
     "metadata": {},
     "output_type": "execute_result"
    }
   ],
   "source": [
    "sum_1 = 0\n",
    "\n",
    "for rating in accept:\n",
    "    sum_1 += sum(rating)\n",
    "\n",
    "sum_1"
   ]
  },
  {
   "cell_type": "markdown",
   "metadata": {},
   "source": [
    "## Part 2: Distinct *Rating combinations*"
   ]
  }
 ],
 "metadata": {
  "kernelspec": {
   "display_name": "Python 3 (ipykernel)",
   "language": "python",
   "name": "python3"
  },
  "language_info": {
   "codemirror_mode": {
    "name": "ipython",
    "version": 3
   },
   "file_extension": ".py",
   "mimetype": "text/x-python",
   "name": "python",
   "nbconvert_exporter": "python",
   "pygments_lexer": "ipython3",
   "version": "3.11.4"
  }
 },
 "nbformat": 4,
 "nbformat_minor": 4
}
