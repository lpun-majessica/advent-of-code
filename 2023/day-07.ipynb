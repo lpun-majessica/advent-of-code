{
 "cells": [
  {
   "cell_type": "markdown",
   "metadata": {},
   "source": [
    "[Advent of Code - Day 07](https://adventofcode.com/2023/day/7)"
   ]
  },
  {
   "cell_type": "markdown",
   "metadata": {},
   "source": [
    "# Import *Hands and Bids list*"
   ]
  },
  {
   "cell_type": "code",
   "execution_count": 1,
   "metadata": {
    "execution": {
     "iopub.execute_input": "2024-10-04T10:29:20.533102Z",
     "iopub.status.busy": "2024-10-04T10:29:20.533102Z",
     "iopub.status.idle": "2024-10-04T10:29:21.539397Z",
     "shell.execute_reply": "2024-10-04T10:29:21.539397Z",
     "shell.execute_reply.started": "2024-10-04T10:29:20.533102Z"
    }
   },
   "outputs": [],
   "source": [
    "import sys\n",
    "from collections import Counter\n",
    "\n",
    "sys.path.insert(0, \"../\")\n",
    "from utils import aoc_input as inp\n",
    "\n",
    "list_ = inp.download_input(year=\"2023\", day=\"07\")"
   ]
  },
  {
   "cell_type": "code",
   "execution_count": 2,
   "metadata": {
    "execution": {
     "iopub.execute_input": "2024-10-04T10:29:21.539397Z",
     "iopub.status.busy": "2024-10-04T10:29:21.539397Z",
     "iopub.status.idle": "2024-10-04T10:29:21.555964Z",
     "shell.execute_reply": "2024-10-04T10:29:21.555964Z",
     "shell.execute_reply.started": "2024-10-04T10:29:21.539397Z"
    }
   },
   "outputs": [
    {
     "data": {
      "text/plain": [
       "['Q94A5 121', 'AQ56Q 611', 'T6746 196', '38853 434', '69K88 178']"
      ]
     },
     "execution_count": 2,
     "metadata": {},
     "output_type": "execute_result"
    }
   ],
   "source": [
    "list_[:5]"
   ]
  },
  {
   "cell_type": "markdown",
   "metadata": {},
   "source": [
    "# Total winnings"
   ]
  },
  {
   "cell_type": "code",
   "execution_count": 3,
   "metadata": {
    "execution": {
     "iopub.execute_input": "2024-10-04T10:29:21.555964Z",
     "iopub.status.busy": "2024-10-04T10:29:21.555964Z",
     "iopub.status.idle": "2024-10-04T10:29:21.567909Z",
     "shell.execute_reply": "2024-10-04T10:29:21.566904Z",
     "shell.execute_reply.started": "2024-10-04T10:29:21.555964Z"
    }
   },
   "outputs": [],
   "source": [
    "# '*' is the Joker, aka wildcard in part 2\n",
    "card_strength = \"AKQJT98765432*\""
   ]
  },
  {
   "cell_type": "code",
   "execution_count": 4,
   "metadata": {
    "execution": {
     "iopub.execute_input": "2024-10-04T10:29:21.570913Z",
     "iopub.status.busy": "2024-10-04T10:29:21.569912Z",
     "iopub.status.idle": "2024-10-04T10:29:21.578168Z",
     "shell.execute_reply": "2024-10-04T10:29:21.578168Z",
     "shell.execute_reply.started": "2024-10-04T10:29:21.570913Z"
    }
   },
   "outputs": [],
   "source": [
    "def hand_type(hand):\n",
    "    count = Counter(hand)\n",
    "\n",
    "    jokers = count.pop(\"*\", 0)\n",
    "\n",
    "    if jokers == 5:\n",
    "        counts = [0]\n",
    "    else:\n",
    "        counts = sorted(count.values())\n",
    "    # Turn Jokers into the cards with most dupes or into the one of highest strength within that hand\n",
    "    counts[-1] += jokers\n",
    "\n",
    "    match counts:\n",
    "        case *_, 5:  # list that contains 5 - aka Five of a kind\n",
    "            return 1\n",
    "        case *_, 4:  # Four of a kind\n",
    "            return 2\n",
    "        case *_, 2, 3:  # Full house\n",
    "            return 3\n",
    "        case *_, 3:  # Three of a kind\n",
    "            return 4\n",
    "        case *_, 2, 2:  # Two pairs\n",
    "            return 5\n",
    "        case *_, 2:  # One pair\n",
    "            return 6\n",
    "    return 7  # High"
   ]
  },
  {
   "cell_type": "markdown",
   "metadata": {},
   "source": [
    "## Part 1"
   ]
  },
  {
   "cell_type": "code",
   "execution_count": 5,
   "metadata": {
    "execution": {
     "iopub.execute_input": "2024-10-04T10:29:21.578168Z",
     "iopub.status.busy": "2024-10-04T10:29:21.578168Z",
     "iopub.status.idle": "2024-10-04T10:29:21.593882Z",
     "shell.execute_reply": "2024-10-04T10:29:21.593882Z",
     "shell.execute_reply.started": "2024-10-04T10:29:21.578168Z"
    }
   },
   "outputs": [
    {
     "data": {
      "text/plain": [
       "251287184"
      ]
     },
     "execution_count": 5,
     "metadata": {},
     "output_type": "execute_result"
    }
   ],
   "source": [
    "hands = []\n",
    "\n",
    "for line in list_:\n",
    "    hand, bid = line.split()\n",
    "    hands.append((hand_type(hand), *map(card_strength.index, hand), bid))\n",
    "\n",
    "\n",
    "sum_1 = 0\n",
    "hands = sorted(hands, reverse=True)\n",
    "\n",
    "for rank, hand in enumerate(hands, 1):\n",
    "    sum_1 += rank * int(hand[-1])\n",
    "\n",
    "sum_1"
   ]
  },
  {
   "cell_type": "markdown",
   "metadata": {},
   "source": [
    "## Part 2"
   ]
  },
  {
   "cell_type": "code",
   "execution_count": 6,
   "metadata": {
    "execution": {
     "iopub.execute_input": "2024-10-04T10:29:21.593882Z",
     "iopub.status.busy": "2024-10-04T10:29:21.593882Z",
     "iopub.status.idle": "2024-10-04T10:29:21.610448Z",
     "shell.execute_reply": "2024-10-04T10:29:21.610448Z",
     "shell.execute_reply.started": "2024-10-04T10:29:21.593882Z"
    }
   },
   "outputs": [
    {
     "data": {
      "text/plain": [
       "250757288"
      ]
     },
     "execution_count": 6,
     "metadata": {},
     "output_type": "execute_result"
    }
   ],
   "source": [
    "hands = []\n",
    "\n",
    "for line in list_:\n",
    "    line = line.replace(\"J\", \"*\")  # Replace any J with joker (wildcard)\n",
    "    hand, bid = line.split()\n",
    "    hands.append((hand_type(hand), *map(card_strength.index, hand), bid))\n",
    "\n",
    "\n",
    "sum_2 = 0\n",
    "hands = sorted(hands, reverse=True)\n",
    "\n",
    "for rank, hand in enumerate(hands, 1):\n",
    "    sum_2 += rank * int(hand[-1])\n",
    "\n",
    "sum_2"
   ]
  }
 ],
 "metadata": {
  "kernelspec": {
   "display_name": "Python 3 (ipykernel)",
   "language": "python",
   "name": "python3"
  },
  "language_info": {
   "codemirror_mode": {
    "name": "ipython",
    "version": 3
   },
   "file_extension": ".py",
   "mimetype": "text/x-python",
   "name": "python",
   "nbconvert_exporter": "python",
   "pygments_lexer": "ipython3",
   "version": "3.11.4"
  }
 },
 "nbformat": 4,
 "nbformat_minor": 4
}
