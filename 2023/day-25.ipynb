{
 "cells": [
  {
   "cell_type": "markdown",
   "metadata": {},
   "source": [
    "[Advent of Code - Day 25](https://adventofcode.com/2023/day/25)"
   ]
  },
  {
   "cell_type": "markdown",
   "metadata": {},
   "source": [
    "# Import *Wiring diagram*"
   ]
  },
  {
   "cell_type": "code",
   "execution_count": 1,
   "metadata": {
    "execution": {
     "iopub.execute_input": "2024-11-06T05:48:15.642820Z",
     "iopub.status.busy": "2024-11-06T05:48:15.642820Z",
     "iopub.status.idle": "2024-11-06T05:48:17.183133Z",
     "shell.execute_reply": "2024-11-06T05:48:17.183133Z",
     "shell.execute_reply.started": "2024-11-06T05:48:15.642820Z"
    }
   },
   "outputs": [],
   "source": [
    "import sys\n",
    "import networkx as nx\n",
    "from collections import Counter\n",
    "\n",
    "sys.path.insert(0, \"../\")\n",
    "from utils import aoc_input as inp\n",
    "\n",
    "INPUT = inp.download_input(year=\"2023\", day=\"25\")"
   ]
  },
  {
   "cell_type": "code",
   "execution_count": 2,
   "metadata": {
    "execution": {
     "iopub.execute_input": "2024-11-06T05:48:17.187347Z",
     "iopub.status.busy": "2024-11-06T05:48:17.187347Z",
     "iopub.status.idle": "2024-11-06T05:48:17.201302Z",
     "shell.execute_reply": "2024-11-06T05:48:17.201302Z",
     "shell.execute_reply.started": "2024-11-06T05:48:17.187347Z"
    }
   },
   "outputs": [
    {
     "data": {
      "text/plain": [
       "['pxv: xtm lsh jgq',\n",
       " 'tgb: jqb rmh fzx',\n",
       " 'fnf: mpx lzb vnb sgd lhz',\n",
       " 'blx: xrj',\n",
       " 'zql: czm kqz gjt rxn']"
      ]
     },
     "execution_count": 2,
     "metadata": {},
     "output_type": "execute_result"
    }
   ],
   "source": [
    "INPUT[:5]"
   ]
  },
  {
   "cell_type": "markdown",
   "metadata": {},
   "source": [
    "# Solutions"
   ]
  },
  {
   "cell_type": "code",
   "execution_count": 3,
   "metadata": {
    "execution": {
     "iopub.execute_input": "2024-11-06T05:48:17.201302Z",
     "iopub.status.busy": "2024-11-06T05:48:17.201302Z",
     "iopub.status.idle": "2024-11-06T05:48:17.324230Z",
     "shell.execute_reply": "2024-11-06T05:48:17.324230Z",
     "shell.execute_reply.started": "2024-11-06T05:48:17.201302Z"
    }
   },
   "outputs": [],
   "source": [
    "machine = nx.Graph()\n",
    "\n",
    "for line in INPUT:\n",
    "    start, _ = line.split(\": \")\n",
    "    ends = _.split()\n",
    "\n",
    "    for end in ends:\n",
    "        machine.add_edge(start, end)"
   ]
  },
  {
   "cell_type": "code",
   "execution_count": 4,
   "metadata": {
    "execution": {
     "iopub.execute_input": "2024-11-06T05:48:17.324230Z",
     "iopub.status.busy": "2024-11-06T05:48:17.324230Z",
     "iopub.status.idle": "2024-11-06T05:48:26.901572Z",
     "shell.execute_reply": "2024-11-06T05:48:26.901572Z",
     "shell.execute_reply.started": "2024-11-06T05:48:17.324230Z"
    }
   },
   "outputs": [],
   "source": [
    "bridges = nx.minimum_edge_cut(machine)\n",
    "machine.remove_edges_from(bridges)"
   ]
  },
  {
   "cell_type": "code",
   "execution_count": 5,
   "metadata": {
    "execution": {
     "iopub.execute_input": "2024-11-06T05:48:26.910662Z",
     "iopub.status.busy": "2024-11-06T05:48:26.901572Z",
     "iopub.status.idle": "2024-11-06T05:48:27.020779Z",
     "shell.execute_reply": "2024-11-06T05:48:27.020779Z",
     "shell.execute_reply.started": "2024-11-06T05:48:26.910662Z"
    }
   },
   "outputs": [
    {
     "data": {
      "text/plain": [
       "580800"
      ]
     },
     "execution_count": 5,
     "metadata": {},
     "output_type": "execute_result"
    }
   ],
   "source": [
    "res = 1\n",
    "for subgraph in nx.connected_components(machine):\n",
    "    res *= len(subgraph)\n",
    "\n",
    "res"
   ]
  }
 ],
 "metadata": {
  "kernelspec": {
   "display_name": "Python 3 (ipykernel)",
   "language": "python",
   "name": "python3"
  },
  "language_info": {
   "codemirror_mode": {
    "name": "ipython",
    "version": 3
   },
   "file_extension": ".py",
   "mimetype": "text/x-python",
   "name": "python",
   "nbconvert_exporter": "python",
   "pygments_lexer": "ipython3",
   "version": "3.11.4"
  }
 },
 "nbformat": 4,
 "nbformat_minor": 4
}
