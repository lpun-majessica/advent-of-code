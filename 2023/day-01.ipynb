{
 "cells": [
  {
   "cell_type": "markdown",
   "metadata": {},
   "source": [
    "[Advent of Code - Day 01](https://adventofcode.com/2023/day/1)"
   ]
  },
  {
   "cell_type": "markdown",
   "metadata": {},
   "source": [
    "# Import *Calibration document*"
   ]
  },
  {
   "cell_type": "code",
   "execution_count": 1,
   "metadata": {
    "execution": {
     "iopub.execute_input": "2024-10-04T10:03:16.655198Z",
     "iopub.status.busy": "2024-10-04T10:03:16.654198Z",
     "iopub.status.idle": "2024-10-04T10:03:17.572957Z",
     "shell.execute_reply": "2024-10-04T10:03:17.571938Z",
     "shell.execute_reply.started": "2024-10-04T10:03:16.655198Z"
    }
   },
   "outputs": [],
   "source": [
    "import sys\n",
    "\n",
    "sys.path.insert(0, \"../\")\n",
    "from utils import aoc_input as inp\n",
    "\n",
    "doc = inp.download_input(year=\"2023\", day=\"01\")"
   ]
  },
  {
   "cell_type": "code",
   "execution_count": 2,
   "metadata": {
    "execution": {
     "iopub.execute_input": "2024-10-04T10:03:17.574957Z",
     "iopub.status.busy": "2024-10-04T10:03:17.574957Z",
     "iopub.status.idle": "2024-10-04T10:03:17.591133Z",
     "shell.execute_reply": "2024-10-04T10:03:17.589602Z",
     "shell.execute_reply.started": "2024-10-04T10:03:17.574957Z"
    }
   },
   "outputs": [
    {
     "data": {
      "text/plain": [
       "['7jlncfksix7rjgrpglmn9',\n",
       " 'vcgkgxninerqjltdbhqzzpd4nine23',\n",
       " 'fx3',\n",
       " '8nrbjbpjpnineseven',\n",
       " '7qlfhcsnxn7fpfhjcgr6eightsevenjlpchjtzpztwo']"
      ]
     },
     "execution_count": 2,
     "metadata": {},
     "output_type": "execute_result"
    }
   ],
   "source": [
    "doc[:5]"
   ]
  },
  {
   "cell_type": "markdown",
   "metadata": {},
   "source": [
    "# Calibration values"
   ]
  },
  {
   "cell_type": "markdown",
   "metadata": {},
   "source": [
    "## Part 1"
   ]
  },
  {
   "cell_type": "code",
   "execution_count": 3,
   "metadata": {
    "execution": {
     "iopub.execute_input": "2024-10-04T10:03:17.594142Z",
     "iopub.status.busy": "2024-10-04T10:03:17.593134Z",
     "iopub.status.idle": "2024-10-04T10:03:17.601257Z",
     "shell.execute_reply": "2024-10-04T10:03:17.600238Z",
     "shell.execute_reply.started": "2024-10-04T10:03:17.594142Z"
    }
   },
   "outputs": [],
   "source": [
    "digit = \"123456789\"\n",
    "\n",
    "\n",
    "def get_digit(line: str):\n",
    "    for text in line:\n",
    "        if text in digit:\n",
    "            return int(text)"
   ]
  },
  {
   "cell_type": "code",
   "execution_count": 4,
   "metadata": {
    "execution": {
     "iopub.execute_input": "2024-10-04T10:03:17.604261Z",
     "iopub.status.busy": "2024-10-04T10:03:17.603261Z",
     "iopub.status.idle": "2024-10-04T10:03:17.621059Z",
     "shell.execute_reply": "2024-10-04T10:03:17.620046Z",
     "shell.execute_reply.started": "2024-10-04T10:03:17.604261Z"
    }
   },
   "outputs": [
    {
     "data": {
      "text/plain": [
       "55488"
      ]
     },
     "execution_count": 4,
     "metadata": {},
     "output_type": "execute_result"
    }
   ],
   "source": [
    "cali_value_1 = 0\n",
    "\n",
    "for line in doc:\n",
    "    cali_value_1 += get_digit(line) * 10 + get_digit(line[::-1])\n",
    "\n",
    "cali_value_1"
   ]
  },
  {
   "cell_type": "markdown",
   "metadata": {},
   "source": [
    "## Part 2"
   ]
  },
  {
   "cell_type": "code",
   "execution_count": 5,
   "metadata": {
    "execution": {
     "iopub.execute_input": "2024-10-04T10:03:17.622056Z",
     "iopub.status.busy": "2024-10-04T10:03:17.622056Z",
     "iopub.status.idle": "2024-10-04T10:03:17.628496Z",
     "shell.execute_reply": "2024-10-04T10:03:17.627491Z",
     "shell.execute_reply.started": "2024-10-04T10:03:17.622056Z"
    }
   },
   "outputs": [],
   "source": [
    "# Stoopid work-around since there are overlapping letters (e.g., twone, threeight, etc.)\n",
    "\n",
    "new_digit = {\n",
    "    \"one\": \"one1one\",\n",
    "    \"two\": \"two2two\",\n",
    "    \"three\": \"three3three\",\n",
    "    \"four\": \"four4four\",\n",
    "    \"five\": \"five5five\",\n",
    "    \"six\": \"six6six\",\n",
    "    \"seven\": \"seven7seven\",\n",
    "    \"eight\": \"eight8eight\",\n",
    "    \"nine\": \"nine9nine\",\n",
    "}"
   ]
  },
  {
   "cell_type": "code",
   "execution_count": 6,
   "metadata": {
    "execution": {
     "iopub.execute_input": "2024-10-04T10:03:17.630828Z",
     "iopub.status.busy": "2024-10-04T10:03:17.629809Z",
     "iopub.status.idle": "2024-10-04T10:03:17.635890Z",
     "shell.execute_reply": "2024-10-04T10:03:17.635890Z",
     "shell.execute_reply.started": "2024-10-04T10:03:17.629809Z"
    }
   },
   "outputs": [],
   "source": [
    "def replace_with_number(line: str):\n",
    "    for letter, number in new_digit.items():\n",
    "        if letter in line:\n",
    "            line = line.replace(letter, number)\n",
    "    return line"
   ]
  },
  {
   "cell_type": "code",
   "execution_count": 7,
   "metadata": {
    "execution": {
     "iopub.execute_input": "2024-10-04T10:03:17.636941Z",
     "iopub.status.busy": "2024-10-04T10:03:17.636941Z",
     "iopub.status.idle": "2024-10-04T10:03:17.651115Z",
     "shell.execute_reply": "2024-10-04T10:03:17.651115Z",
     "shell.execute_reply.started": "2024-10-04T10:03:17.636941Z"
    }
   },
   "outputs": [
    {
     "data": {
      "text/plain": [
       "55614"
      ]
     },
     "execution_count": 7,
     "metadata": {},
     "output_type": "execute_result"
    }
   ],
   "source": [
    "cali_value_2 = 0\n",
    "\n",
    "for line in doc:\n",
    "    line = replace_with_number(line)\n",
    "    cali_value_2 += get_digit(line) * 10 + get_digit(line[::-1])\n",
    "\n",
    "cali_value_2"
   ]
  }
 ],
 "metadata": {
  "kernelspec": {
   "display_name": "Python 3 (ipykernel)",
   "language": "python",
   "name": "python3"
  },
  "language_info": {
   "codemirror_mode": {
    "name": "ipython",
    "version": 3
   },
   "file_extension": ".py",
   "mimetype": "text/x-python",
   "name": "python",
   "nbconvert_exporter": "python",
   "pygments_lexer": "ipython3",
   "version": "3.11.4"
  }
 },
 "nbformat": 4,
 "nbformat_minor": 4
}
