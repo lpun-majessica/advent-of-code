{
 "cells": [
  {
   "cell_type": "markdown",
   "id": "e3cf9afa-eb8e-47e6-a46d-80af5834244b",
   "metadata": {},
   "source": [
    "[Advent of Code - Day 14](https://adventofcode.com/2023/day/14)"
   ]
  },
  {
   "cell_type": "markdown",
   "id": "17404c2d",
   "metadata": {},
   "source": [
    "# Import *Rock and Empty space positions*"
   ]
  },
  {
   "cell_type": "code",
   "execution_count": 1,
   "id": "200b48ac-0079-4e8c-99b3-7c1b5f6e4277",
   "metadata": {
    "execution": {
     "iopub.execute_input": "2024-10-04T10:46:42.206673Z",
     "iopub.status.busy": "2024-10-04T10:46:42.206673Z",
     "iopub.status.idle": "2024-10-04T10:46:43.158115Z",
     "shell.execute_reply": "2024-10-04T10:46:43.156498Z",
     "shell.execute_reply.started": "2024-10-04T10:46:42.206673Z"
    }
   },
   "outputs": [],
   "source": [
    "import sys\n",
    "import numpy as np\n",
    "\n",
    "sys.path.insert(0, \"../\")\n",
    "from utils import aoc_input as inp\n",
    "\n",
    "INPUT = inp.download_input(year=\"2023\", day=\"14\")"
   ]
  },
  {
   "cell_type": "code",
   "execution_count": 2,
   "id": "49670ab4",
   "metadata": {
    "execution": {
     "iopub.execute_input": "2024-10-04T10:46:43.159159Z",
     "iopub.status.busy": "2024-10-04T10:46:43.159159Z",
     "iopub.status.idle": "2024-10-04T10:46:43.169095Z",
     "shell.execute_reply": "2024-10-04T10:46:43.168580Z",
     "shell.execute_reply.started": "2024-10-04T10:46:43.159159Z"
    }
   },
   "outputs": [],
   "source": [
    "position = np.array([list(line) for line in INPUT])"
   ]
  },
  {
   "cell_type": "code",
   "execution_count": 3,
   "id": "ddec8862",
   "metadata": {
    "execution": {
     "iopub.execute_input": "2024-10-04T10:46:43.172140Z",
     "iopub.status.busy": "2024-10-04T10:46:43.172140Z",
     "iopub.status.idle": "2024-10-04T10:46:43.192908Z",
     "shell.execute_reply": "2024-10-04T10:46:43.192908Z",
     "shell.execute_reply.started": "2024-10-04T10:46:43.172140Z"
    }
   },
   "outputs": [
    {
     "data": {
      "text/plain": [
       "array(['.', '.', '.', '#', '#', '#', '.', '#', 'O', 'O', '.', '.', '#',\n",
       "       '.', 'O', '.', '.', '.', '.', '.', '.', '#', '.', '.', '.', '#',\n",
       "       '.', '.', '.', 'O', '.', '.', '#', '.', '.', '.', '.', '.', '#',\n",
       "       '.', '.', '.', 'O', '#', '.', '.', 'O', '#', '.', '.', '.', '.',\n",
       "       '.', '.', '.', '.', 'O', '.', '#', 'O', '#', 'O', '.', '.', 'O',\n",
       "       '.', '.', '.', '.', '.', 'O', '.', '.', '.', '.', '.', '.', '.',\n",
       "       '#', 'O', '.', '.', '.', '.', '.', '.', '.', '.', '.', '.', '.',\n",
       "       '.', '.', 'O', '#', '.', 'O', '#', '#', '#'], dtype='<U1')"
      ]
     },
     "execution_count": 3,
     "metadata": {},
     "output_type": "execute_result"
    }
   ],
   "source": [
    "position[0]"
   ]
  },
  {
   "cell_type": "markdown",
   "id": "96cf55e8",
   "metadata": {},
   "source": [
    "# Total load on the north support beams"
   ]
  },
  {
   "cell_type": "markdown",
   "id": "cb60d102",
   "metadata": {},
   "source": [
    "## Part 1"
   ]
  },
  {
   "cell_type": "code",
   "execution_count": 4,
   "id": "d886e4ab",
   "metadata": {
    "execution": {
     "iopub.execute_input": "2024-10-04T10:46:43.192908Z",
     "iopub.status.busy": "2024-10-04T10:46:43.192908Z",
     "iopub.status.idle": "2024-10-04T10:46:43.207214Z",
     "shell.execute_reply": "2024-10-04T10:46:43.207214Z",
     "shell.execute_reply.started": "2024-10-04T10:46:43.192908Z"
    }
   },
   "outputs": [
    {
     "data": {
      "text/plain": [
       "108641"
      ]
     },
     "execution_count": 4,
     "metadata": {},
     "output_type": "execute_result"
    }
   ],
   "source": [
    "sum_1 = 0\n",
    "\n",
    "for col in position.T:\n",
    "    load = position.shape[0]\n",
    "    for index, pos in enumerate(col, 1):\n",
    "        if pos == \"#\":\n",
    "            load = position.shape[0] - index\n",
    "        if pos == \"O\":\n",
    "            sum_1 += load\n",
    "            load -= 1\n",
    "\n",
    "sum_1"
   ]
  }
 ],
 "metadata": {
  "kernelspec": {
   "display_name": "Python 3 (ipykernel)",
   "language": "python",
   "name": "python3"
  },
  "language_info": {
   "codemirror_mode": {
    "name": "ipython",
    "version": 3
   },
   "file_extension": ".py",
   "mimetype": "text/x-python",
   "name": "python",
   "nbconvert_exporter": "python",
   "pygments_lexer": "ipython3",
   "version": "3.11.4"
  }
 },
 "nbformat": 4,
 "nbformat_minor": 5
}
