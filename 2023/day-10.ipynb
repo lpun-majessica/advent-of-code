{
 "cells": [
  {
   "cell_type": "markdown",
   "metadata": {},
   "source": [
    "[Advent of Code - Day 10](https://adventofcode.com/2023/day/10)"
   ]
  },
  {
   "cell_type": "markdown",
   "metadata": {},
   "source": [
    "# Import input"
   ]
  },
  {
   "cell_type": "code",
   "execution_count": 1,
   "metadata": {
    "execution": {
     "iopub.execute_input": "2024-10-04T10:33:22.715133Z",
     "iopub.status.busy": "2024-10-04T10:33:22.715133Z",
     "iopub.status.idle": "2024-10-04T10:33:23.609379Z",
     "shell.execute_reply": "2024-10-04T10:33:23.609379Z",
     "shell.execute_reply.started": "2024-10-04T10:33:22.715133Z"
    }
   },
   "outputs": [],
   "source": [
    "import sys\n",
    "\n",
    "sys.path.insert(0, \"../\")\n",
    "from utils import aoc_input as inp\n",
    "\n",
    "INPUT = inp.download_input(year=\"2023\", day=\"10\")"
   ]
  },
  {
   "cell_type": "code",
   "execution_count": 2,
   "metadata": {
    "execution": {
     "iopub.execute_input": "2024-10-04T10:33:23.613417Z",
     "iopub.status.busy": "2024-10-04T10:33:23.609379Z",
     "iopub.status.idle": "2024-10-04T10:33:23.634607Z",
     "shell.execute_reply": "2024-10-04T10:33:23.633602Z",
     "shell.execute_reply.started": "2024-10-04T10:33:23.613417Z"
    }
   },
   "outputs": [
    {
     "data": {
      "text/plain": [
       "['|J.7F7-L--77F7-J-F-77FF-7FLLJ7F-J-F---7-J-L-FJ-FJFJ7-7-FF--L7.L--|.FJ-J77FFF|77-7F-7-FFL7-|7-F7-L7F7FF7.|----LL-77FF.F--F-J-LFFL-F-LF7--F-FL',\n",
       " 'L.---7FF--LJ7J7..L7LFJ.||FJL|LJ.|77.LJ|F|||7J|.|7|JJFF-L--F-|7..L.F-J7JLL--7|J|7.|L-7-7J|F-7-L|J|||-F7F-FJ|..|LFJLJ.-.|||JJ-LFL.||.L|L-JLJJ.',\n",
       " '.|L|7|FJJ7L-7F777L|FLJ-FFL-FL-7FJ.|F-LLLJ||.L--77J7-FLJ.L-F-F-7.LFLJ-|L||..77.|F77-L7JL-7JFJ7|FF-L7-LL--|-L.|-7L-J|7..L7||.LFJ7L7JF7.7J7-7-|',\n",
       " 'LFF--7F|FJLLLJL|7J||.LF-JLL|J.|77F-J7.LJ-|--7F7|L7--|.L.7J||F7L7L7F|FF7-J|7||7F||J7-7.LJJ7J--L7JL7||.LL-||L77||-LF-7FF7L--F-LFJJJF|L7L---JJ|',\n",
       " '.LL|L7JF|||..L7|.FF-77|||77.LL7-JJJLL.F..LF-FJLL-L7L|7|F|FF7F7JF7JF7|||7--|7FFFJ|FF7F777..F-J-|.LJ|FFF-7FF.|L-J.FJ.|7LJ.L7|FLFJJF||LL.|.|J.J']"
      ]
     },
     "execution_count": 2,
     "metadata": {},
     "output_type": "execute_result"
    }
   ],
   "source": [
    "INPUT[:5]"
   ]
  },
  {
   "cell_type": "markdown",
   "metadata": {},
   "source": [
    "# Solulu"
   ]
  },
  {
   "cell_type": "code",
   "execution_count": 3,
   "metadata": {
    "execution": {
     "iopub.execute_input": "2024-10-04T10:33:23.635716Z",
     "iopub.status.busy": "2024-10-04T10:33:23.635716Z",
     "iopub.status.idle": "2024-10-04T10:33:23.653840Z",
     "shell.execute_reply": "2024-10-04T10:33:23.653840Z",
     "shell.execute_reply.started": "2024-10-04T10:33:23.635716Z"
    }
   },
   "outputs": [],
   "source": [
    "maze = []\n",
    "start = None\n",
    "for i, line in enumerate(INPUT):\n",
    "    maze.append(list(line))\n",
    "    if \"S\" in line:\n",
    "        start = (i, line.index(\"S\"))\n",
    "\n",
    "news = {\n",
    "    \"N\": {\"coord\": (-1, 0), \"connect\": \"S\"},\n",
    "    \"E\": {\"coord\": (0, +1), \"connect\": \"W\"},\n",
    "    \"W\": {\"coord\": (0, -1), \"connect\": \"E\"},\n",
    "    \"S\": {\"coord\": (+1, 0), \"connect\": \"N\"},\n",
    "}\n",
    "\n",
    "pipes = {\n",
    "    \"S\": [\"N\", \"E\", \"W\", \"S\"],\n",
    "    \"|\": [\"N\", \"S\"],\n",
    "    \"-\": [\"E\", \"W\"],\n",
    "    \"L\": [\"N\", \"E\"],\n",
    "    \"J\": [\"N\", \"W\"],\n",
    "    \"7\": [\"W\", \"S\"],\n",
    "    \"F\": [\"E\", \"S\"],\n",
    "}"
   ]
  },
  {
   "cell_type": "markdown",
   "metadata": {},
   "source": [
    "## Part 1"
   ]
  },
  {
   "cell_type": "code",
   "execution_count": 4,
   "metadata": {
    "execution": {
     "iopub.execute_input": "2024-10-04T10:33:23.653840Z",
     "iopub.status.busy": "2024-10-04T10:33:23.653840Z",
     "iopub.status.idle": "2024-10-04T10:33:23.705095Z",
     "shell.execute_reply": "2024-10-04T10:33:23.705095Z",
     "shell.execute_reply.started": "2024-10-04T10:33:23.653840Z"
    }
   },
   "outputs": [
    {
     "data": {
      "text/plain": [
       "6897"
      ]
     },
     "execution_count": 4,
     "metadata": {},
     "output_type": "execute_result"
    }
   ],
   "source": [
    "height, width = len(maze), len(maze[0])\n",
    "queue = [start + (0, None)]\n",
    "test = [[\".\" for _ in range(width)] for _ in range(height)]\n",
    "returned = False\n",
    "\n",
    "while not returned:\n",
    "    row, col, steps, enter = queue.pop()\n",
    "    pipe = maze[row][col]\n",
    "    directions = list(set(pipes[pipe]) - set([enter]))\n",
    "    test[row][col] = pipe\n",
    "\n",
    "    for direction in directions:\n",
    "        r, c = news[direction][\"coord\"]\n",
    "        next_row = row + r\n",
    "        next_col = col + c\n",
    "\n",
    "        if next_row in range(height) and next_col in range(width):\n",
    "            next_pipe = maze[next_row][next_col]\n",
    "            if next_pipe == \".\":\n",
    "                continue\n",
    "            elif next_pipe == \"S\":\n",
    "                returned = True\n",
    "                steps += 1\n",
    "                break\n",
    "\n",
    "            queue.append((next_row, next_col, steps + 1, news[direction][\"connect\"]))\n",
    "\n",
    "steps // 2"
   ]
  },
  {
   "cell_type": "markdown",
   "metadata": {
    "jp-MarkdownHeadingCollapsed": true
   },
   "source": [
    "## Part 2"
   ]
  }
 ],
 "metadata": {
  "kernelspec": {
   "display_name": "Python 3 (ipykernel)",
   "language": "python",
   "name": "python3"
  },
  "language_info": {
   "codemirror_mode": {
    "name": "ipython",
    "version": 3
   },
   "file_extension": ".py",
   "mimetype": "text/x-python",
   "name": "python",
   "nbconvert_exporter": "python",
   "pygments_lexer": "ipython3",
   "version": "3.11.4"
  }
 },
 "nbformat": 4,
 "nbformat_minor": 4
}
