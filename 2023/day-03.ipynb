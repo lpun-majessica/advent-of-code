{
 "cells": [
  {
   "cell_type": "markdown",
   "id": "b827a688",
   "metadata": {},
   "source": [
    "[Advent of Code - Day 03](https://adventofcode.com/2023/day/3)"
   ]
  },
  {
   "cell_type": "markdown",
   "id": "baf1e397",
   "metadata": {},
   "source": [
    "# Import *Engine schematic*"
   ]
  },
  {
   "cell_type": "code",
   "execution_count": 1,
   "id": "28f7f234-26bc-444b-8260-21b1a91838a5",
   "metadata": {
    "execution": {
     "iopub.execute_input": "2024-10-04T10:24:41.825848Z",
     "iopub.status.busy": "2024-10-04T10:24:41.824762Z",
     "iopub.status.idle": "2024-10-04T10:24:42.754301Z",
     "shell.execute_reply": "2024-10-04T10:24:42.753267Z",
     "shell.execute_reply.started": "2024-10-04T10:24:41.825848Z"
    }
   },
   "outputs": [],
   "source": [
    "import sys\n",
    "\n",
    "sys.path.insert(0, \"../\")\n",
    "from utils import aoc_input as inp\n",
    "\n",
    "schema = inp.download_input(year=\"2023\", day=\"03\")"
   ]
  },
  {
   "cell_type": "code",
   "execution_count": 2,
   "id": "f7d0586b",
   "metadata": {
    "execution": {
     "iopub.execute_input": "2024-10-04T10:24:42.756339Z",
     "iopub.status.busy": "2024-10-04T10:24:42.756339Z",
     "iopub.status.idle": "2024-10-04T10:24:42.770380Z",
     "shell.execute_reply": "2024-10-04T10:24:42.768846Z",
     "shell.execute_reply.started": "2024-10-04T10:24:42.756339Z"
    }
   },
   "outputs": [
    {
     "data": {
      "text/plain": [
       "['...........................................751........501...................................890.231...............829..168......143.........',\n",
       " '......................................*.........841....*....../................+..311.......................441..........*...........202....',\n",
       " '.........332...60....537..697.......901.................609....678....261.....90................870....519...........272..449.......%.......',\n",
       " '840.........*...........*....*..968......273...440.415..................*..................&......*...*......447................883...&.....',\n",
       " '.....34....651.786...646...804.*..........*.../.....-..........=...............94......96..760.222.....637.%...&.290...55..368.....*..565...']"
      ]
     },
     "execution_count": 2,
     "metadata": {},
     "output_type": "execute_result"
    }
   ],
   "source": [
    "schema[:5]"
   ]
  },
  {
   "cell_type": "markdown",
   "id": "e44b72d9",
   "metadata": {},
   "source": [
    "# Sum of *Part numbers* and *Gear ratios*"
   ]
  },
  {
   "cell_type": "markdown",
   "id": "27e40a2c",
   "metadata": {},
   "source": [
    "## Part 1: Sum of *Part numbers*"
   ]
  },
  {
   "cell_type": "code",
   "execution_count": 3,
   "id": "28453855",
   "metadata": {
    "execution": {
     "iopub.execute_input": "2024-10-04T10:24:42.772406Z",
     "iopub.status.busy": "2024-10-04T10:24:42.771399Z",
     "iopub.status.idle": "2024-10-04T10:24:42.818413Z",
     "shell.execute_reply": "2024-10-04T10:24:42.817403Z",
     "shell.execute_reply.started": "2024-10-04T10:24:42.772406Z"
    }
   },
   "outputs": [
    {
     "data": {
      "text/plain": [
       "522726"
      ]
     },
     "execution_count": 3,
     "metadata": {},
     "output_type": "execute_result"
    }
   ],
   "source": [
    "numbers = \"0123456789\"\n",
    "sum_1 = 0\n",
    "\n",
    "for row, line in enumerate(schema):\n",
    "    line = line.strip()\n",
    "    number = 0\n",
    "    part_num = False\n",
    "\n",
    "    for col, char in enumerate(line):\n",
    "        if char in numbers:\n",
    "            number = number * 10 + int(char)\n",
    "\n",
    "            for adj_row in [-1, 0, 1]:\n",
    "                for adj_col in [-1, 0, 1]:\n",
    "                    if (\n",
    "                        0 <= row + adj_row <= len(schema) - 1\n",
    "                        and 0 <= col + adj_col <= len(line) - 1\n",
    "                    ):\n",
    "                        adj_char = schema[row + adj_row][col + adj_col]\n",
    "                        if adj_char != \".\" and not adj_char in numbers:\n",
    "                            part_num = True\n",
    "\n",
    "        if not char in numbers or col == len(line) - 1:\n",
    "            if part_num:\n",
    "                sum_1 += number\n",
    "                part_num = False\n",
    "            number = 0\n",
    "\n",
    "sum_1"
   ]
  },
  {
   "cell_type": "markdown",
   "id": "c3103253",
   "metadata": {},
   "source": [
    "## Part 2: Sum of *Gear ratios*"
   ]
  },
  {
   "cell_type": "code",
   "execution_count": 4,
   "id": "ef0b5465",
   "metadata": {
    "execution": {
     "iopub.execute_input": "2024-10-04T10:24:42.819414Z",
     "iopub.status.busy": "2024-10-04T10:24:42.819414Z",
     "iopub.status.idle": "2024-10-04T10:24:42.848861Z",
     "shell.execute_reply": "2024-10-04T10:24:42.848861Z",
     "shell.execute_reply.started": "2024-10-04T10:24:42.819414Z"
    }
   },
   "outputs": [
    {
     "data": {
      "text/plain": [
       "81721933"
      ]
     },
     "execution_count": 4,
     "metadata": {},
     "output_type": "execute_result"
    }
   ],
   "source": [
    "numbers = \"0123456789\"\n",
    "sum_2 = 0\n",
    "gear = {}\n",
    "\n",
    "for row, line in enumerate(schema):\n",
    "    line = line.strip()\n",
    "    number = 0\n",
    "    asterisk = False\n",
    "\n",
    "    for col, char in enumerate(line):\n",
    "        if char in numbers:\n",
    "            number = number * 10 + int(char)\n",
    "\n",
    "            for adj_row in [-1, 0, 1]:\n",
    "                for adj_col in [-1, 0, 1]:\n",
    "                    if (\n",
    "                        0 <= row + adj_row <= len(schema) - 1\n",
    "                        and 0 <= col + adj_col <= len(line) - 1\n",
    "                    ):\n",
    "                        adj_char = schema[row + adj_row][col + adj_col]\n",
    "\n",
    "                        if adj_char == \"*\":\n",
    "                            asterisk = (row + adj_row, col + adj_col)\n",
    "\n",
    "        if not char in numbers or col == len(line) - 1:\n",
    "            if asterisk:\n",
    "                if asterisk not in gear:\n",
    "                    gear[asterisk] = []\n",
    "                gear[asterisk].append(number)\n",
    "                if len(gear[asterisk]) == 2:\n",
    "                    sum_2 += number * gear[asterisk][0]\n",
    "                asterisk = False\n",
    "            number = 0\n",
    "\n",
    "sum_2"
   ]
  }
 ],
 "metadata": {
  "kernelspec": {
   "display_name": "Python 3 (ipykernel)",
   "language": "python",
   "name": "python3"
  },
  "language_info": {
   "codemirror_mode": {
    "name": "ipython",
    "version": 3
   },
   "file_extension": ".py",
   "mimetype": "text/x-python",
   "name": "python",
   "nbconvert_exporter": "python",
   "pygments_lexer": "ipython3",
   "version": "3.11.4"
  }
 },
 "nbformat": 4,
 "nbformat_minor": 5
}
