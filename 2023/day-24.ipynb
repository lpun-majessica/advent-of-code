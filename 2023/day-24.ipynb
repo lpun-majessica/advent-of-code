{
 "cells": [
  {
   "cell_type": "markdown",
   "metadata": {},
   "source": [
    "[Advent of Code - Day 24](https://adventofcode.com/2023/day/24)"
   ]
  },
  {
   "cell_type": "markdown",
   "metadata": {},
   "source": [
    "# Import *Hailstones' postion and velocity notes*"
   ]
  },
  {
   "cell_type": "code",
   "execution_count": 1,
   "metadata": {
    "execution": {
     "iopub.execute_input": "2024-10-04T10:56:38.712629Z",
     "iopub.status.busy": "2024-10-04T10:56:38.712629Z",
     "iopub.status.idle": "2024-10-04T10:56:41.518706Z",
     "shell.execute_reply": "2024-10-04T10:56:41.518706Z",
     "shell.execute_reply.started": "2024-10-04T10:56:38.712629Z"
    }
   },
   "outputs": [],
   "source": [
    "import sys\n",
    "import numpy as np\n",
    "\n",
    "sys.path.insert(0, \"../\")\n",
    "from utils import aoc_input as inp\n",
    "\n",
    "INPUT = inp.download_input(year=\"2023\", day=\"24\")"
   ]
  },
  {
   "cell_type": "code",
   "execution_count": 2,
   "metadata": {
    "execution": {
     "iopub.execute_input": "2024-10-04T10:56:41.522776Z",
     "iopub.status.busy": "2024-10-04T10:56:41.521722Z",
     "iopub.status.idle": "2024-10-04T10:56:41.533253Z",
     "shell.execute_reply": "2024-10-04T10:56:41.532017Z",
     "shell.execute_reply.started": "2024-10-04T10:56:41.522776Z"
    }
   },
   "outputs": [],
   "source": [
    "hailstones = []\n",
    "\n",
    "for line in INPUT:\n",
    "    position, velocity = line.split(\" @ \")\n",
    "\n",
    "    hailstones.append(\n",
    "        [\n",
    "            [int(pos.strip()) for pos in position.split(\",\")],\n",
    "            [int(veloc.strip()) for veloc in velocity.split(\",\")],\n",
    "        ]\n",
    "    )"
   ]
  },
  {
   "cell_type": "code",
   "execution_count": 3,
   "metadata": {
    "execution": {
     "iopub.execute_input": "2024-10-04T10:56:41.536674Z",
     "iopub.status.busy": "2024-10-04T10:56:41.535519Z",
     "iopub.status.idle": "2024-10-04T10:56:41.563015Z",
     "shell.execute_reply": "2024-10-04T10:56:41.563015Z",
     "shell.execute_reply.started": "2024-10-04T10:56:41.536674Z"
    }
   },
   "outputs": [
    {
     "data": {
      "text/plain": [
       "[[[247058281022548, 192766389934431, 81827832165583], [89, 450, 382]],\n",
       " [[238266575479152, 277109802279281, 177024891330353], [115, 8, 158]],\n",
       " [[261045702761260, 122483307789279, 8764899903055], [80, 200, 439]],\n",
       " [[246860868714041, 315426953233224, 114394748213725], [52, 183, 154]],\n",
       " [[199589407344780, 211339682702979, 335160906875043], [154, 27, 48]]]"
      ]
     },
     "execution_count": 3,
     "metadata": {},
     "output_type": "execute_result"
    }
   ],
   "source": [
    "hailstones[:5]"
   ]
  },
  {
   "cell_type": "markdown",
   "metadata": {},
   "source": [
    "# Sums of *Intersections* and *Intitial position coordinates*"
   ]
  },
  {
   "cell_type": "markdown",
   "metadata": {},
   "source": [
    "# Part 1: Sum of *Intersections*"
   ]
  },
  {
   "cell_type": "code",
   "execution_count": 4,
   "metadata": {
    "execution": {
     "iopub.execute_input": "2024-10-04T10:56:41.565283Z",
     "iopub.status.busy": "2024-10-04T10:56:41.565283Z",
     "iopub.status.idle": "2024-10-04T10:56:42.207088Z",
     "shell.execute_reply": "2024-10-04T10:56:42.206222Z",
     "shell.execute_reply.started": "2024-10-04T10:56:41.565283Z"
    }
   },
   "outputs": [
    {
     "data": {
      "text/plain": [
       "26611"
      ]
     },
     "execution_count": 4,
     "metadata": {},
     "output_type": "execute_result"
    }
   ],
   "source": [
    "sum_1 = 0\n",
    "\n",
    "for index, hs in enumerate(hailstones):\n",
    "    pos_a, veloc_a = hs\n",
    "\n",
    "    for i in range(index + 1, len(hailstones)):\n",
    "        pos_b, veloc_b = hailstones[i]\n",
    "\n",
    "        coeff = np.array([[veloc_a[0], -veloc_b[0]], [veloc_a[1], -veloc_b[1]]])\n",
    "\n",
    "        ordinate = np.array([-pos_a[0] + pos_b[0], -pos_a[1] + pos_b[1]])\n",
    "\n",
    "        try:\n",
    "            t_a, t_b = np.linalg.solve(coeff, ordinate)  # time of collision\n",
    "        except np.linalg.LinAlgError as err:\n",
    "            if \"Singular matrix\" in str(err):\n",
    "                continue\n",
    "\n",
    "        if (t_a > 0) & (t_b > 0):\n",
    "            x = veloc_a[0] * t_a + pos_a[0]\n",
    "            y = veloc_a[1] * t_a + pos_a[1]\n",
    "\n",
    "            if (200_000_000_000_000 <= x <= 400_000_000_000_000) & (\n",
    "                200_000_000_000_000 <= y <= 400_000_000_000_000\n",
    "            ):\n",
    "                sum_1 += 1\n",
    "sum_1"
   ]
  },
  {
   "cell_type": "markdown",
   "metadata": {},
   "source": [
    "# Part 2: Sum of *Initial position coordinates*"
   ]
  }
 ],
 "metadata": {
  "kernelspec": {
   "display_name": "Python 3 (ipykernel)",
   "language": "python",
   "name": "python3"
  },
  "language_info": {
   "codemirror_mode": {
    "name": "ipython",
    "version": 3
   },
   "file_extension": ".py",
   "mimetype": "text/x-python",
   "name": "python",
   "nbconvert_exporter": "python",
   "pygments_lexer": "ipython3",
   "version": "3.11.4"
  }
 },
 "nbformat": 4,
 "nbformat_minor": 4
}
