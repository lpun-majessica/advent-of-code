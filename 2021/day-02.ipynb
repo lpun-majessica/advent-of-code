{
 "cells": [
  {
   "cell_type": "markdown",
   "metadata": {},
   "source": [
    "[Advent of Code - Day 02](https://adventofcode.com/2021/day/2)"
   ]
  },
  {
   "cell_type": "markdown",
   "metadata": {},
   "source": [
    "# Import input"
   ]
  },
  {
   "cell_type": "code",
   "execution_count": 1,
   "metadata": {
    "execution": {
     "iopub.execute_input": "2024-10-07T10:05:27.131423Z",
     "iopub.status.busy": "2024-10-07T10:05:27.131278Z",
     "iopub.status.idle": "2024-10-07T10:05:28.441441Z",
     "shell.execute_reply": "2024-10-07T10:05:28.439579Z",
     "shell.execute_reply.started": "2024-10-07T10:05:27.131423Z"
    }
   },
   "outputs": [],
   "source": [
    "import sys\n",
    "\n",
    "sys.path.insert(0, \"../\")\n",
    "from utils import aoc_input as inp\n",
    "\n",
    "INPUT = inp.download_input(year=\"2021\", day=\"02\")"
   ]
  },
  {
   "cell_type": "code",
   "execution_count": 2,
   "metadata": {
    "execution": {
     "iopub.execute_input": "2024-10-07T10:05:28.443052Z",
     "iopub.status.busy": "2024-10-07T10:05:28.443052Z",
     "iopub.status.idle": "2024-10-07T10:05:28.463389Z",
     "shell.execute_reply": "2024-10-07T10:05:28.462380Z",
     "shell.execute_reply.started": "2024-10-07T10:05:28.443052Z"
    }
   },
   "outputs": [
    {
     "data": {
      "text/plain": [
       "['forward 5', 'down 8', 'down 6', 'down 7', 'down 8']"
      ]
     },
     "execution_count": 2,
     "metadata": {},
     "output_type": "execute_result"
    }
   ],
   "source": [
    "INPUT[:5]"
   ]
  },
  {
   "cell_type": "markdown",
   "metadata": {},
   "source": [
    "# Solulu"
   ]
  },
  {
   "cell_type": "code",
   "execution_count": 3,
   "metadata": {
    "execution": {
     "iopub.execute_input": "2024-10-07T10:05:28.467888Z",
     "iopub.status.busy": "2024-10-07T10:05:28.467888Z",
     "iopub.status.idle": "2024-10-07T10:05:28.496348Z",
     "shell.execute_reply": "2024-10-07T10:05:28.494339Z",
     "shell.execute_reply.started": "2024-10-07T10:05:28.467888Z"
    }
   },
   "outputs": [],
   "source": [
    "commands = {\"forward\": [+1, 0], \"down\": [0, +1], \"up\": [0, -1]}"
   ]
  },
  {
   "cell_type": "markdown",
   "metadata": {},
   "source": [
    "## Part 1"
   ]
  },
  {
   "cell_type": "code",
   "execution_count": 4,
   "metadata": {
    "execution": {
     "iopub.execute_input": "2024-10-07T10:05:28.500378Z",
     "iopub.status.busy": "2024-10-07T10:05:28.497429Z",
     "iopub.status.idle": "2024-10-07T10:05:28.517865Z",
     "shell.execute_reply": "2024-10-07T10:05:28.517865Z",
     "shell.execute_reply.started": "2024-10-07T10:05:28.500378Z"
    }
   },
   "outputs": [
    {
     "data": {
      "text/plain": [
       "1660158"
      ]
     },
     "execution_count": 4,
     "metadata": {},
     "output_type": "execute_result"
    }
   ],
   "source": [
    "x, y = 0, 0\n",
    "\n",
    "for line in INPUT:\n",
    "    command, total = line.split(\" \")\n",
    "    total = int(total)\n",
    "    move_x, move_y = commands[command]\n",
    "    x += move_x * total\n",
    "    y += move_y * total\n",
    "\n",
    "x * y"
   ]
  },
  {
   "cell_type": "markdown",
   "metadata": {},
   "source": [
    "## Part 2"
   ]
  },
  {
   "cell_type": "code",
   "execution_count": 5,
   "metadata": {
    "execution": {
     "iopub.execute_input": "2024-10-07T10:05:28.521383Z",
     "iopub.status.busy": "2024-10-07T10:05:28.517865Z",
     "iopub.status.idle": "2024-10-07T10:05:28.538202Z",
     "shell.execute_reply": "2024-10-07T10:05:28.538202Z",
     "shell.execute_reply.started": "2024-10-07T10:05:28.521383Z"
    }
   },
   "outputs": [
    {
     "data": {
      "text/plain": [
       "1604592846"
      ]
     },
     "execution_count": 5,
     "metadata": {},
     "output_type": "execute_result"
    }
   ],
   "source": [
    "x, y, aim = 0, 0, 0\n",
    "\n",
    "for line in INPUT:\n",
    "    command, total = line.split(\" \")\n",
    "    total = int(total)\n",
    "    move, mod_aim = commands[command]\n",
    "    if not move:\n",
    "        aim += mod_aim * total\n",
    "    elif move:\n",
    "        x += move * total\n",
    "        y += aim * total\n",
    "\n",
    "x * y"
   ]
  }
 ],
 "metadata": {
  "kernelspec": {
   "display_name": "Python 3 (ipykernel)",
   "language": "python",
   "name": "python3"
  },
  "language_info": {
   "codemirror_mode": {
    "name": "ipython",
    "version": 3
   },
   "file_extension": ".py",
   "mimetype": "text/x-python",
   "name": "python",
   "nbconvert_exporter": "python",
   "pygments_lexer": "ipython3",
   "version": "3.11.4"
  }
 },
 "nbformat": 4,
 "nbformat_minor": 4
}
