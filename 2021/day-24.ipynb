{
 "cells": [
  {
   "cell_type": "markdown",
   "metadata": {},
   "source": [
    "[Advent of Code - Day 24](https://adventofcode.com/2021/day/24)"
   ]
  },
  {
   "cell_type": "markdown",
   "metadata": {},
   "source": [
    "# Import input"
   ]
  },
  {
   "cell_type": "code",
   "execution_count": 3,
   "metadata": {
    "execution": {
     "iopub.execute_input": "2024-11-08T08:14:27.666061Z",
     "iopub.status.busy": "2024-11-08T08:14:27.665250Z",
     "iopub.status.idle": "2024-11-08T08:14:31.159319Z",
     "shell.execute_reply": "2024-11-08T08:14:31.159319Z",
     "shell.execute_reply.started": "2024-11-08T08:14:27.666061Z"
    }
   },
   "outputs": [],
   "source": [
    "import sys\n",
    "from collections import defaultdict\n",
    "\n",
    "sys.path.insert(0, \"../\")\n",
    "from utils import puzzle\n",
    "\n",
    "P = puzzle.Puzzle(year=\"2021\", day=\"24\")\n",
"INPUT = P.load_input()"
   ]
  },
  {
   "cell_type": "code",
   "execution_count": 2,
   "metadata": {
    "execution": {
     "iopub.execute_input": "2024-11-08T08:14:16.175265Z",
     "iopub.status.busy": "2024-11-08T08:14:16.175265Z",
     "iopub.status.idle": "2024-11-08T08:14:16.190736Z",
     "shell.execute_reply": "2024-11-08T08:14:16.188540Z",
     "shell.execute_reply.started": "2024-11-08T08:14:16.175265Z"
    }
   },
   "outputs": [
    {
     "data": {
      "text/plain": [
       "['inp w', 'mul x 0', 'add x z', 'mod x 26', 'div z 1']"
      ]
     },
     "execution_count": 2,
     "metadata": {},
     "output_type": "execute_result"
    }
   ],
   "source": [
    "INPUT[:5]"
   ]
  },
  {
   "cell_type": "markdown",
   "metadata": {},
   "source": [
    "# Solulu"
   ]
  },
  {
   "cell_type": "markdown",
   "metadata": {},
   "source": [
    "## Part 1"
   ]
  },
  {
   "cell_type": "code",
   "execution_count": 21,
   "metadata": {
    "execution": {
     "iopub.execute_input": "2024-11-08T08:43:47.916802Z",
     "iopub.status.busy": "2024-11-08T08:43:47.915340Z",
     "iopub.status.idle": "2024-11-08T08:45:10.511129Z",
     "shell.execute_reply": "2024-11-08T08:45:10.511129Z",
     "shell.execute_reply.started": "2024-11-08T08:43:47.916802Z"
    }
   },
   "outputs": [
    {
     "ename": "KeyboardInterrupt",
     "evalue": "",
     "output_type": "error",
     "traceback": [
      "\u001b[1;31m---------------------------------------------------------------------------\u001b[0m",
      "\u001b[1;31mKeyboardInterrupt\u001b[0m                         Traceback (most recent call last)",
      "Cell \u001b[1;32mIn[21], line 23\u001b[0m\n\u001b[0;32m     21\u001b[0m \u001b[38;5;28;01melse\u001b[39;00m:\n\u001b[0;32m     22\u001b[0m     a \u001b[38;5;241m=\u001b[39m values[\u001b[38;5;241m0\u001b[39m]\n\u001b[1;32m---> 23\u001b[0m     \u001b[38;5;28;01mif\u001b[39;00m values[\u001b[38;5;241m1\u001b[39m]\u001b[38;5;241m.\u001b[39misdigit():\n\u001b[0;32m     24\u001b[0m         b \u001b[38;5;241m=\u001b[39m \u001b[38;5;28mint\u001b[39m(values[\u001b[38;5;241m1\u001b[39m])\n\u001b[0;32m     25\u001b[0m     \u001b[38;5;28;01melse\u001b[39;00m:\n",
      "\u001b[1;31mKeyboardInterrupt\u001b[0m: "
     ]
    }
   ],
   "source": [
    "monad = 10**15\n",
    "\n",
    "while True:\n",
    "    var = defaultdict(int)\n",
    "    monad -= 1\n",
    "    smonad = str(monad)\n",
    "\n",
    "    if smonad.count('0') > 0:\n",
    "        continue\n",
    "\n",
    "    for line in INPUT:\n",
    "        instruction = line[:3]\n",
    "        values = line[4:].split()\n",
    "        \n",
    "        if instruction == 'inp':\n",
    "            a = line[-1]\n",
    "            var[a] = int(smonad[i])\n",
    "            i+= 1\n",
    "        \n",
    "        else:\n",
    "            a = values[0]\n",
    "            if values[1].isdigit():\n",
    "                b = int(values[1])\n",
    "            else:\n",
    "                b = var[values[1]]\n",
    "                \n",
    "            match instruction:\n",
    "                case 'add':\n",
    "                    var[a] += b\n",
    "                case 'mul':\n",
    "                    var[a] *= b\n",
    "                case 'div':\n",
    "                    var[a] //= b\n",
    "                case 'mod':\n",
    "                    var[a] %= b\n",
    "                case 'eql':\n",
    "                    var[a] = var[a] == b\n",
    "    \n",
    "    if var['z'] == 0:\n",
    "        break\n",
    "\n",
    "monad"
   ]
  },
  {
   "cell_type": "markdown",
   "metadata": {
    "jp-MarkdownHeadingCollapsed": true
   },
   "source": [
    "## Part 2"
   ]
  }
 ],
 "metadata": {
  "kernelspec": {
   "display_name": "Python 3 (ipykernel)",
   "language": "python",
   "name": "python3"
  },
  "language_info": {
   "codemirror_mode": {
    "name": "ipython",
    "version": 3
   },
   "file_extension": ".py",
   "mimetype": "text/x-python",
   "name": "python",
   "nbconvert_exporter": "python",
   "pygments_lexer": "ipython3",
   "version": "3.11.4"
  }
 },
 "nbformat": 4,
 "nbformat_minor": 4
}
