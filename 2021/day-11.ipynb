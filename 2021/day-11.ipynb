{
 "cells": [
  {
   "cell_type": "markdown",
   "metadata": {},
   "source": [
    "[Advent of Code - Day 11](https://adventofcode.com/2021/day/11)"
   ]
  },
  {
   "cell_type": "markdown",
   "metadata": {},
   "source": [
    "# Import input"
   ]
  },
  {
   "cell_type": "code",
   "execution_count": 1,
   "metadata": {
    "execution": {
     "iopub.execute_input": "2024-10-17T08:31:47.205186Z",
     "iopub.status.busy": "2024-10-17T08:31:47.205186Z",
     "iopub.status.idle": "2024-10-17T08:31:48.410110Z",
     "shell.execute_reply": "2024-10-17T08:31:48.410110Z",
     "shell.execute_reply.started": "2024-10-17T08:31:47.205186Z"
    }
   },
   "outputs": [],
   "source": [
    "import sys\n",
    "import itertools\n",
    "\n",
    "sys.path.insert(0, \"../\")\n",
    "from utils import puzzle\n",
    "\n",
    "P = puzzle.Puzzle(year=\"2021\", day=\"11\")\n",
"INPUT = P.load_input()"
   ]
  },
  {
   "cell_type": "code",
   "execution_count": 2,
   "metadata": {
    "execution": {
     "iopub.execute_input": "2024-10-17T08:31:48.413120Z",
     "iopub.status.busy": "2024-10-17T08:31:48.413120Z",
     "iopub.status.idle": "2024-10-17T08:31:48.430124Z",
     "shell.execute_reply": "2024-10-17T08:31:48.430124Z",
     "shell.execute_reply.started": "2024-10-17T08:31:48.413120Z"
    }
   },
   "outputs": [
    {
     "data": {
      "text/plain": [
       "['8577245547', '1654333653', '5365633785', '1333243226', '4272385165']"
      ]
     },
     "execution_count": 2,
     "metadata": {},
     "output_type": "execute_result"
    }
   ],
   "source": [
    "INPUT[:5]"
   ]
  },
  {
   "cell_type": "markdown",
   "metadata": {},
   "source": [
    "# Solulu"
   ]
  },
  {
   "cell_type": "code",
   "execution_count": 3,
   "metadata": {
    "execution": {
     "iopub.execute_input": "2024-10-17T08:31:48.432735Z",
     "iopub.status.busy": "2024-10-17T08:31:48.432735Z",
     "iopub.status.idle": "2024-10-17T08:31:48.477546Z",
     "shell.execute_reply": "2024-10-17T08:31:48.477546Z",
     "shell.execute_reply.started": "2024-10-17T08:31:48.432735Z"
    }
   },
   "outputs": [],
   "source": [
    "def solve(part: int, energy_level: int = 9, adjacent: list = [-1, 0, 1]) -> int:\n",
    "    steps = 0\n",
    "    flashes = 0\n",
    "\n",
    "    global INPUT\n",
    "    octopuses = [list(map(int, list(line))) for line in INPUT]\n",
    "    n = len(octopuses)\n",
    "\n",
    "    while True:\n",
    "        steps += 1\n",
    "        visited = set()\n",
    "        for row, col in itertools.product(range(n), range(n)):\n",
    "            octopuses[row][col] += 1\n",
    "            octopus = octopuses[row][col]\n",
    "            if octopus > energy_level:\n",
    "                queue = [(row, col)]\n",
    "\n",
    "                while queue:\n",
    "                    r, c = queue.pop(0)\n",
    "                    if (r, c) not in visited:\n",
    "                        visited.add((r, c))\n",
    "                        for rr, cc in itertools.product(adjacent, adjacent):\n",
    "                            adj_row = r + rr\n",
    "                            adj_col = c + cc\n",
    "                            if adj_row not in range(n) or adj_col not in range(n):\n",
    "                                continue\n",
    "                            elif adj_row == r and adj_col == c:\n",
    "                                continue\n",
    "                            octopuses[r + rr][c + cc] += 1\n",
    "                            if octopuses[r + rr][c + cc] > energy_level:\n",
    "                                queue.append((r + rr, c + cc))\n",
    "\n",
    "        for row, col in visited:\n",
    "            octopuses[row][col] = 0\n",
    "        flashes += len(visited)\n",
    "\n",
    "        if part == 1 and steps == 100:\n",
    "            return flashes\n",
    "        elif part == 2 and len(visited) == n * n:\n",
    "            return steps"
   ]
  },
  {
   "cell_type": "markdown",
   "metadata": {},
   "source": [
    "## Part 1"
   ]
  },
  {
   "cell_type": "code",
   "execution_count": 4,
   "metadata": {
    "execution": {
     "iopub.execute_input": "2024-10-17T08:31:48.480433Z",
     "iopub.status.busy": "2024-10-17T08:31:48.480433Z",
     "iopub.status.idle": "2024-10-17T08:31:48.514918Z",
     "shell.execute_reply": "2024-10-17T08:31:48.514918Z",
     "shell.execute_reply.started": "2024-10-17T08:31:48.480433Z"
    }
   },
   "outputs": [
    {
     "data": {
      "text/plain": [
       "1702"
      ]
     },
     "execution_count": 4,
     "metadata": {},
     "output_type": "execute_result"
    }
   ],
   "source": [
    "solve(part=1)"
   ]
  },
  {
   "cell_type": "markdown",
   "metadata": {},
   "source": [
    "## Part 2"
   ]
  },
  {
   "cell_type": "code",
   "execution_count": 5,
   "metadata": {
    "execution": {
     "iopub.execute_input": "2024-10-17T08:31:48.514918Z",
     "iopub.status.busy": "2024-10-17T08:31:48.514918Z",
     "iopub.status.idle": "2024-10-17T08:31:48.565072Z",
     "shell.execute_reply": "2024-10-17T08:31:48.565072Z",
     "shell.execute_reply.started": "2024-10-17T08:31:48.514918Z"
    }
   },
   "outputs": [
    {
     "data": {
      "text/plain": [
       "251"
      ]
     },
     "execution_count": 5,
     "metadata": {},
     "output_type": "execute_result"
    }
   ],
   "source": [
    "solve(part=2)"
   ]
  }
 ],
 "metadata": {
  "kernelspec": {
   "display_name": "Python 3 (ipykernel)",
   "language": "python",
   "name": "python3"
  },
  "language_info": {
   "codemirror_mode": {
    "name": "ipython",
    "version": 3
   },
   "file_extension": ".py",
   "mimetype": "text/x-python",
   "name": "python",
   "nbconvert_exporter": "python",
   "pygments_lexer": "ipython3",
   "version": "3.11.4"
  }
 },
 "nbformat": 4,
 "nbformat_minor": 4
}
