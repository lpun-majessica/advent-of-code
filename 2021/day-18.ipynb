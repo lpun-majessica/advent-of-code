{
 "cells": [
  {
   "cell_type": "markdown",
   "metadata": {},
   "source": [
    "[Advent of Code - Day 18](https://adventofcode.com/2021/day/18)"
   ]
  },
  {
   "cell_type": "markdown",
   "metadata": {},
   "source": [
    "# Import input"
   ]
  },
  {
   "cell_type": "code",
   "execution_count": 2,
   "metadata": {
    "execution": {
     "iopub.execute_input": "2024-11-01T10:36:23.042942Z",
     "iopub.status.busy": "2024-11-01T10:36:23.042942Z",
     "iopub.status.idle": "2024-11-01T10:36:26.023009Z",
     "shell.execute_reply": "2024-11-01T10:36:26.023009Z",
     "shell.execute_reply.started": "2024-11-01T10:36:23.042942Z"
    }
   },
   "outputs": [],
   "source": [
    "import sys\n",
    "\n",
    "sys.path.insert(0, \"../\")\n",
    "from utils import aoc_input as inp\n",
    "\n",
    "INPUT = inp.download_input(year=\"2021\", day=\"18\")"
   ]
  },
  {
   "cell_type": "code",
   "execution_count": 3,
   "metadata": {
    "execution": {
     "iopub.execute_input": "2024-11-01T10:36:26.043987Z",
     "iopub.status.busy": "2024-11-01T10:36:26.043987Z",
     "iopub.status.idle": "2024-11-01T10:36:26.070816Z",
     "shell.execute_reply": "2024-11-01T10:36:26.070816Z",
     "shell.execute_reply.started": "2024-11-01T10:36:26.043987Z"
    }
   },
   "outputs": [
    {
     "data": {
      "text/plain": [
       "['[[[6,6],3],0]',\n",
       " '[[[0,[9,9]],[[7,7],[4,6]]],[[5,6],[5,9]]]',\n",
       " '[[[1,[6,5]],7],[[6,[3,6]],5]]',\n",
       " '[[0,[9,[0,2]]],[[[1,9],3],[[0,1],[5,1]]]]',\n",
       " '[[[3,[7,6]],[1,0]],[[4,[7,9]],[5,4]]]']"
      ]
     },
     "execution_count": 3,
     "metadata": {},
     "output_type": "execute_result"
    }
   ],
   "source": [
    "INPUT[:5]"
   ]
  },
  {
   "cell_type": "markdown",
   "metadata": {},
   "source": [
    "# Solulu"
   ]
  },
  {
   "cell_type": "code",
   "execution_count": 7,
   "metadata": {
    "execution": {
     "iopub.execute_input": "2024-11-01T10:42:09.460746Z",
     "iopub.status.busy": "2024-11-01T10:42:09.460746Z",
     "iopub.status.idle": "2024-11-01T10:42:09.476485Z",
     "shell.execute_reply": "2024-11-01T10:42:09.475607Z",
     "shell.execute_reply.started": "2024-11-01T10:42:09.460746Z"
    }
   },
   "outputs": [
    {
     "data": {
      "text/plain": [
       "'[[[[[1,1],[2,2]],[3,3]],[4,4]],[5,5]]'"
      ]
     },
     "execution_count": 7,
     "metadata": {},
     "output_type": "execute_result"
    }
   ],
   "source": [
    "INPUT = [\n",
    "'[1,1]',\n",
    "'[2,2]',\n",
    "'[3,3]',\n",
    "'[4,4]',\n",
    "'[5,5]',\n",
    "]"
   ]
  },
  {
   "cell_type": "code",
   "execution_count": 10,
   "metadata": {
    "execution": {
     "iopub.execute_input": "2024-11-01T10:49:11.801227Z",
     "iopub.status.busy": "2024-11-01T10:49:11.801227Z",
     "iopub.status.idle": "2024-11-01T10:49:11.815858Z",
     "shell.execute_reply": "2024-11-01T10:49:11.813405Z",
     "shell.execute_reply.started": "2024-11-01T10:49:11.801227Z"
    }
   },
   "outputs": [
    {
     "data": {
      "text/plain": [
       "[[2, 1]]"
      ]
     },
     "execution_count": 10,
     "metadata": {},
     "output_type": "execute_result"
    }
   ],
   "source": [
    "def reduce(num):\n",
    "    reduced = False\n",
    "    while not reduced:\n",
    "        level = 0\n",
    "        for ch in num:\n",
    "            if ch == '[':\n",
    "                level += 1\n",
    "            if ch == ']' and level >= 5:\n",
    "                "
   ]
  },
  {
   "cell_type": "markdown",
   "metadata": {},
   "source": [
    "## Part 1"
   ]
  },
  {
   "cell_type": "markdown",
   "metadata": {
    "jp-MarkdownHeadingCollapsed": true
   },
   "source": [
    "## Part 2"
   ]
  }
 ],
 "metadata": {
  "kernelspec": {
   "display_name": "Python 3 (ipykernel)",
   "language": "python",
   "name": "python3"
  },
  "language_info": {
   "codemirror_mode": {
    "name": "ipython",
    "version": 3
   },
   "file_extension": ".py",
   "mimetype": "text/x-python",
   "name": "python",
   "nbconvert_exporter": "python",
   "pygments_lexer": "ipython3",
   "version": "3.11.4"
  }
 },
 "nbformat": 4,
 "nbformat_minor": 4
}
