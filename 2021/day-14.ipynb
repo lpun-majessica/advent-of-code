{
 "cells": [
  {
   "cell_type": "markdown",
   "metadata": {},
   "source": [
    "[Advent of Code - Day 14](https://adventofcode.com/2021/day/14)"
   ]
  },
  {
   "cell_type": "markdown",
   "metadata": {},
   "source": [
    "# Import input"
   ]
  },
  {
   "cell_type": "code",
   "execution_count": 1,
   "metadata": {
    "execution": {
     "iopub.execute_input": "2024-10-28T07:34:50.858172Z",
     "iopub.status.busy": "2024-10-28T07:34:50.858172Z",
     "iopub.status.idle": "2024-10-28T07:34:51.928729Z",
     "shell.execute_reply": "2024-10-28T07:34:51.928729Z",
     "shell.execute_reply.started": "2024-10-28T07:34:50.858172Z"
    }
   },
   "outputs": [],
   "source": [
    "import sys\n",
    "from collections import Counter\n",
    "\n",
    "sys.path.insert(0, \"../\")\n",
    "from utils import aoc_input as inp\n",
    "\n",
    "INPUT = inp.download_input(year=\"2021\", day=\"14\")"
   ]
  },
  {
   "cell_type": "code",
   "execution_count": 2,
   "metadata": {
    "execution": {
     "iopub.execute_input": "2024-10-28T07:34:51.928729Z",
     "iopub.status.busy": "2024-10-28T07:34:51.928729Z",
     "iopub.status.idle": "2024-10-28T07:34:51.941106Z",
     "shell.execute_reply": "2024-10-28T07:34:51.940003Z",
     "shell.execute_reply.started": "2024-10-28T07:34:51.928729Z"
    }
   },
   "outputs": [
    {
     "data": {
      "text/plain": [
       "['SHPPPVOFPBFCHHBKBNCV', '', 'HK -> C', 'SP -> H', 'VH -> K']"
      ]
     },
     "execution_count": 2,
     "metadata": {},
     "output_type": "execute_result"
    }
   ],
   "source": [
    "INPUT[:5]"
   ]
  },
  {
   "cell_type": "markdown",
   "metadata": {},
   "source": [
    "# Solulu"
   ]
  },
  {
   "cell_type": "code",
   "execution_count": 3,
   "metadata": {
    "execution": {
     "iopub.execute_input": "2024-10-28T07:34:51.942193Z",
     "iopub.status.busy": "2024-10-28T07:34:51.942193Z",
     "iopub.status.idle": "2024-10-28T07:34:51.955876Z",
     "shell.execute_reply": "2024-10-28T07:34:51.955876Z",
     "shell.execute_reply.started": "2024-10-28T07:34:51.942193Z"
    }
   },
   "outputs": [],
   "source": [
    "s = INPUT[0]\n",
    "insert = dict()\n",
    "\n",
    "for line in INPUT[2:]:\n",
    "    pair, ins = line.split(\" -> \")\n",
    "    insert[pair] = ins"
   ]
  },
  {
   "cell_type": "code",
   "execution_count": 4,
   "metadata": {
    "execution": {
     "iopub.execute_input": "2024-10-28T07:34:51.955876Z",
     "iopub.status.busy": "2024-10-28T07:34:51.955876Z",
     "iopub.status.idle": "2024-10-28T07:34:51.965660Z",
     "shell.execute_reply": "2024-10-28T07:34:51.965660Z",
     "shell.execute_reply.started": "2024-10-28T07:34:51.955876Z"
    }
   },
   "outputs": [],
   "source": [
    "n = len(s)\n",
    "pairs = list()\n",
    "for i in range(1, n):\n",
    "    pairs.append(s[i - 1 : i + 1])\n",
    "\n",
    "counter = Counter(pairs)"
   ]
  },
  {
   "cell_type": "code",
   "execution_count": 5,
   "metadata": {
    "execution": {
     "iopub.execute_input": "2024-10-28T07:34:51.965660Z",
     "iopub.status.busy": "2024-10-28T07:34:51.965660Z",
     "iopub.status.idle": "2024-10-28T07:34:51.975297Z",
     "shell.execute_reply": "2024-10-28T07:34:51.975297Z",
     "shell.execute_reply.started": "2024-10-28T07:34:51.965660Z"
    }
   },
   "outputs": [],
   "source": [
    "def solve(steps: int, counter=counter) -> int:\n",
    "    while steps:\n",
    "        steps -= 1\n",
    "        new_counter = Counter()\n",
    "        for pair, count in counter.items():\n",
    "            left, right = pair\n",
    "            mid = insert[pair]\n",
    "            new_counter[left + mid] += count\n",
    "            new_counter[mid + right] += count\n",
    "\n",
    "        counter = new_counter\n",
    "\n",
    "    letters = Counter()\n",
    "    for pair, count in counter.items():\n",
    "        left, right = pair\n",
    "        letters[left] += count\n",
    "        letters[right] += count\n",
    "\n",
    "    for letter in letters:\n",
    "        if letters[letter] % 2 == 1:\n",
    "            letters[letter] += 1\n",
    "        letters[letter] //= 2\n",
    "\n",
    "    mc = letters.most_common()\n",
    "    return mc[0][1] - mc[-1][1]"
   ]
  },
  {
   "cell_type": "markdown",
   "metadata": {},
   "source": [
    "## Part 1"
   ]
  },
  {
   "cell_type": "code",
   "execution_count": 6,
   "metadata": {
    "execution": {
     "iopub.execute_input": "2024-10-28T07:34:51.977958Z",
     "iopub.status.busy": "2024-10-28T07:34:51.977958Z",
     "iopub.status.idle": "2024-10-28T07:34:51.986526Z",
     "shell.execute_reply": "2024-10-28T07:34:51.986526Z",
     "shell.execute_reply.started": "2024-10-28T07:34:51.977958Z"
    }
   },
   "outputs": [
    {
     "data": {
      "text/plain": [
       "2915"
      ]
     },
     "execution_count": 6,
     "metadata": {},
     "output_type": "execute_result"
    }
   ],
   "source": [
    "solve(steps=10)"
   ]
  },
  {
   "cell_type": "markdown",
   "metadata": {},
   "source": [
    "## Part 2"
   ]
  },
  {
   "cell_type": "code",
   "execution_count": 7,
   "metadata": {
    "execution": {
     "iopub.execute_input": "2024-10-28T07:34:51.986526Z",
     "iopub.status.busy": "2024-10-28T07:34:51.986526Z",
     "iopub.status.idle": "2024-10-28T07:34:51.997402Z",
     "shell.execute_reply": "2024-10-28T07:34:51.997402Z",
     "shell.execute_reply.started": "2024-10-28T07:34:51.986526Z"
    }
   },
   "outputs": [
    {
     "data": {
      "text/plain": [
       "3353146900153"
      ]
     },
     "execution_count": 7,
     "metadata": {},
     "output_type": "execute_result"
    }
   ],
   "source": [
    "solve(steps=40)"
   ]
  }
 ],
 "metadata": {
  "kernelspec": {
   "display_name": "Python 3 (ipykernel)",
   "language": "python",
   "name": "python3"
  },
  "language_info": {
   "codemirror_mode": {
    "name": "ipython",
    "version": 3
   },
   "file_extension": ".py",
   "mimetype": "text/x-python",
   "name": "python",
   "nbconvert_exporter": "python",
   "pygments_lexer": "ipython3",
   "version": "3.11.4"
  }
 },
 "nbformat": 4,
 "nbformat_minor": 4
}
