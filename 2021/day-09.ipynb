{
 "cells": [
  {
   "cell_type": "markdown",
   "metadata": {},
   "source": [
    "[Advent of Code - Day 09](https://adventofcode.com/2021/day/9)"
   ]
  },
  {
   "cell_type": "markdown",
   "metadata": {},
   "source": [
    "# Import input"
   ]
  },
  {
   "cell_type": "code",
   "execution_count": 1,
   "metadata": {
    "execution": {
     "iopub.execute_input": "2024-10-17T06:43:59.658569Z",
     "iopub.status.busy": "2024-10-17T06:43:59.658569Z",
     "iopub.status.idle": "2024-10-17T06:44:01.082993Z",
     "shell.execute_reply": "2024-10-17T06:44:01.082993Z",
     "shell.execute_reply.started": "2024-10-17T06:43:59.658569Z"
    }
   },
   "outputs": [],
   "source": [
    "import sys\n",
    "import itertools\n",
    "\n",
    "sys.path.insert(0, \"../\")\n",
    "from utils import aoc_input as inp\n",
    "\n",
    "in_ = inp.download_input(year=\"2021\", day=\"09\")"
   ]
  },
  {
   "cell_type": "code",
   "execution_count": 2,
   "metadata": {
    "execution": {
     "iopub.execute_input": "2024-10-17T06:44:01.082993Z",
     "iopub.status.busy": "2024-10-17T06:44:01.082993Z",
     "iopub.status.idle": "2024-10-17T06:44:01.099739Z",
     "shell.execute_reply": "2024-10-17T06:44:01.098722Z",
     "shell.execute_reply.started": "2024-10-17T06:44:01.082993Z"
    }
   },
   "outputs": [
    {
     "data": {
      "text/plain": [
       "['9987675345698765453987654321234589999899878923493212345678999998656782467898999899878301234578998787',\n",
       " '9876543234789765322398743210123567898789767899986101239899789876543101567897898798763212355989987656',\n",
       " '3987784014897654310987654331235679965697644998765232345997654989765212799956999679854343466799976545',\n",
       " '2199875323998765421298776542346789434595433498754345456789543499876353489549876542975858977899876439',\n",
       " '1012965439899896432359987667457896546789322349987656987898932445987454578932987621986767898943989598']"
      ]
     },
     "execution_count": 2,
     "metadata": {},
     "output_type": "execute_result"
    }
   ],
   "source": [
    "in_[:5]"
   ]
  },
  {
   "cell_type": "markdown",
   "metadata": {},
   "source": [
    "# Solulu"
   ]
  },
  {
   "cell_type": "code",
   "execution_count": 3,
   "metadata": {
    "execution": {
     "iopub.execute_input": "2024-10-17T06:44:01.102209Z",
     "iopub.status.busy": "2024-10-17T06:44:01.102209Z",
     "iopub.status.idle": "2024-10-17T06:44:01.215423Z",
     "shell.execute_reply": "2024-10-17T06:44:01.215423Z",
     "shell.execute_reply.started": "2024-10-17T06:44:01.102209Z"
    }
   },
   "outputs": [],
   "source": [
    "heightmap = [list(map(int, list(line))) for line in in_]\n",
    "length, width = len(heightmap), len(heightmap[0])\n",
    "low_points = dict()\n",
    "\n",
    "for row, col in itertools.product(range(length), range(width)):\n",
    "    height = heightmap[row][col]\n",
    "    adjacents_coords = [(row - 1, col), (row + 1, col), (row, col - 1), (row, col + 1)]\n",
    "    adjacent_heights = []\n",
    "\n",
    "    for row_a, col_a in adjacents_coords:\n",
    "        if row_a not in range(length) or col_a not in range(width):\n",
    "            continue\n",
    "        adjacent_heights.append(heightmap[row_a][col_a])\n",
    "\n",
    "    if height < min(adjacent_heights):\n",
    "        low_points[(row, col)] = {\"risk\": height + 1}"
   ]
  },
  {
   "cell_type": "markdown",
   "metadata": {},
   "source": [
    "## Part 1"
   ]
  },
  {
   "cell_type": "code",
   "execution_count": 4,
   "metadata": {
    "execution": {
     "iopub.execute_input": "2024-10-17T06:44:01.215423Z",
     "iopub.status.busy": "2024-10-17T06:44:01.215423Z",
     "iopub.status.idle": "2024-10-17T06:44:01.229495Z",
     "shell.execute_reply": "2024-10-17T06:44:01.229495Z",
     "shell.execute_reply.started": "2024-10-17T06:44:01.215423Z"
    }
   },
   "outputs": [
    {
     "data": {
      "text/plain": [
       "524"
      ]
     },
     "execution_count": 4,
     "metadata": {},
     "output_type": "execute_result"
    }
   ],
   "source": [
    "sum([low_point[\"risk\"] for low_point in low_points.values()])"
   ]
  },
  {
   "cell_type": "markdown",
   "metadata": {},
   "source": [
    "## Part 2"
   ]
  },
  {
   "cell_type": "code",
   "execution_count": 5,
   "metadata": {
    "execution": {
     "iopub.execute_input": "2024-10-17T06:44:01.229495Z",
     "iopub.status.busy": "2024-10-17T06:44:01.229495Z",
     "iopub.status.idle": "2024-10-17T06:44:01.302038Z",
     "shell.execute_reply": "2024-10-17T06:44:01.302038Z",
     "shell.execute_reply.started": "2024-10-17T06:44:01.229495Z"
    }
   },
   "outputs": [],
   "source": [
    "for low_point in low_points:\n",
    "    queue = [low_point]\n",
    "    visited = set()\n",
    "\n",
    "    while queue:\n",
    "        row, col = queue.pop(0)\n",
    "        if (row, col) not in visited:\n",
    "            visited.add((row, col))\n",
    "            adjacents_coords = [\n",
    "                (row - 1, col),\n",
    "                (row + 1, col),\n",
    "                (row, col - 1),\n",
    "                (row, col + 1),\n",
    "            ]\n",
    "\n",
    "            for row_a, col_a in adjacents_coords:\n",
    "                if row_a not in range(length) or col_a not in range(width):\n",
    "                    continue\n",
    "                adjacent_height = heightmap[row_a][col_a]\n",
    "                if adjacent_height < 9:\n",
    "                    queue.append((row_a, col_a))\n",
    "\n",
    "    low_points[low_point][\"basin_size\"] = len(visited)"
   ]
  },
  {
   "cell_type": "code",
   "execution_count": 6,
   "metadata": {
    "execution": {
     "iopub.execute_input": "2024-10-17T06:44:01.304046Z",
     "iopub.status.busy": "2024-10-17T06:44:01.304046Z",
     "iopub.status.idle": "2024-10-17T06:44:01.315066Z",
     "shell.execute_reply": "2024-10-17T06:44:01.315066Z",
     "shell.execute_reply.started": "2024-10-17T06:44:01.304046Z"
    }
   },
   "outputs": [
    {
     "data": {
      "text/plain": [
       "1235430"
      ]
     },
     "execution_count": 6,
     "metadata": {},
     "output_type": "execute_result"
    }
   ],
   "source": [
    "top = 3\n",
    "basin_sizes = sorted([low_point[\"basin_size\"] for low_point in low_points.values()])\n",
    "res = 1\n",
    "\n",
    "for basin_size in basin_sizes[-top:]:\n",
    "    res *= basin_size\n",
    "\n",
    "res"
   ]
  }
 ],
 "metadata": {
  "kernelspec": {
   "display_name": "Python 3 (ipykernel)",
   "language": "python",
   "name": "python3"
  },
  "language_info": {
   "codemirror_mode": {
    "name": "ipython",
    "version": 3
   },
   "file_extension": ".py",
   "mimetype": "text/x-python",
   "name": "python",
   "nbconvert_exporter": "python",
   "pygments_lexer": "ipython3",
   "version": "3.11.4"
  }
 },
 "nbformat": 4,
 "nbformat_minor": 4
}
