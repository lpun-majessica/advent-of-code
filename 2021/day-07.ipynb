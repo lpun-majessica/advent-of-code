{
 "cells": [
  {
   "cell_type": "markdown",
   "metadata": {},
   "source": [
    "[Advent of Code - Day 07](https://adventofcode.com/2021/day/7)"
   ]
  },
  {
   "cell_type": "markdown",
   "metadata": {},
   "source": [
    "# Import input"
   ]
  },
  {
   "cell_type": "code",
   "execution_count": 1,
   "metadata": {
    "execution": {
     "iopub.execute_input": "2024-10-10T04:06:39.653318Z",
     "iopub.status.busy": "2024-10-10T04:06:39.653318Z",
     "iopub.status.idle": "2024-10-10T04:06:42.932931Z",
     "shell.execute_reply": "2024-10-10T04:06:42.932931Z",
     "shell.execute_reply.started": "2024-10-10T04:06:39.653318Z"
    }
   },
   "outputs": [],
   "source": [
    "import sys\n",
    "from scipy.optimize import minimize\n",
    "\n",
    "sys.path.insert(0, \"../\")\n",
    "from utils import aoc_input as inp\n",
    "\n",
    "INPUT = inp.download_input(year=\"2021\", day=\"07\")[0]"
   ]
  },
  {
   "cell_type": "code",
   "execution_count": 2,
   "metadata": {
    "execution": {
     "iopub.execute_input": "2024-10-10T04:06:42.932931Z",
     "iopub.status.busy": "2024-10-10T04:06:42.932931Z",
     "iopub.status.idle": "2024-10-10T04:06:42.946378Z",
     "shell.execute_reply": "2024-10-10T04:06:42.945363Z",
     "shell.execute_reply.started": "2024-10-10T04:06:42.932931Z"
    }
   },
   "outputs": [
    {
     "data": {
      "text/plain": [
       "'1101,'"
      ]
     },
     "execution_count": 2,
     "metadata": {},
     "output_type": "execute_result"
    }
   ],
   "source": [
    "INPUT[:5]"
   ]
  },
  {
   "cell_type": "markdown",
   "metadata": {},
   "source": [
    "# Solulu"
   ]
  },
  {
   "cell_type": "code",
   "execution_count": 3,
   "metadata": {
    "execution": {
     "iopub.execute_input": "2024-10-10T04:06:42.947454Z",
     "iopub.status.busy": "2024-10-10T04:06:42.947454Z",
     "iopub.status.idle": "2024-10-10T04:06:42.963668Z",
     "shell.execute_reply": "2024-10-10T04:06:42.962661Z",
     "shell.execute_reply.started": "2024-10-10T04:06:42.947454Z"
    }
   },
   "outputs": [],
   "source": [
    "crabs = list(map(int, INPUT.split(\",\")))\n",
    "\n",
    "num_crabs = len(crabs)\n",
    "median = sorted(crabs)[num_crabs // 2]"
   ]
  },
  {
   "cell_type": "code",
   "execution_count": 4,
   "metadata": {
    "execution": {
     "iopub.execute_input": "2024-10-10T04:06:42.964668Z",
     "iopub.status.busy": "2024-10-10T04:06:42.964668Z",
     "iopub.status.idle": "2024-10-10T04:06:42.972388Z",
     "shell.execute_reply": "2024-10-10T04:06:42.972388Z",
     "shell.execute_reply.started": "2024-10-10T04:06:42.964668Z"
    }
   },
   "outputs": [],
   "source": [
    "def calculate_cost(target: int, part: int):\n",
    "    costs = 0\n",
    "\n",
    "    for crab_position in crabs:\n",
    "        dist = abs(crab_position - target)\n",
    "        cost = dist if part == 1 else dist * (dist + 1) / 2\n",
    "        costs += cost\n",
    "\n",
    "    return costs"
   ]
  },
  {
   "cell_type": "markdown",
   "metadata": {},
   "source": [
    "## Part 1"
   ]
  },
  {
   "cell_type": "code",
   "execution_count": 5,
   "metadata": {
    "execution": {
     "iopub.execute_input": "2024-10-10T04:06:42.975343Z",
     "iopub.status.busy": "2024-10-10T04:06:42.975343Z",
     "iopub.status.idle": "2024-10-10T04:06:43.237773Z",
     "shell.execute_reply": "2024-10-10T04:06:43.237773Z",
     "shell.execute_reply.started": "2024-10-10T04:06:42.975343Z"
    }
   },
   "outputs": [
    {
     "data": {
      "text/plain": [
       "344138"
      ]
     },
     "execution_count": 5,
     "metadata": {},
     "output_type": "execute_result"
    }
   ],
   "source": [
    "part = 1\n",
    "best_position = round(minimize(fun=calculate_cost, x0=median, args=(1)).x[0])\n",
    "\n",
    "int(calculate_cost(best_position, part=1))"
   ]
  },
  {
   "cell_type": "markdown",
   "metadata": {},
   "source": [
    "## Part 2"
   ]
  },
  {
   "cell_type": "code",
   "execution_count": 6,
   "metadata": {
    "execution": {
     "iopub.execute_input": "2024-10-10T04:06:43.237773Z",
     "iopub.status.busy": "2024-10-10T04:06:43.237773Z",
     "iopub.status.idle": "2024-10-10T04:06:43.464926Z",
     "shell.execute_reply": "2024-10-10T04:06:43.464926Z",
     "shell.execute_reply.started": "2024-10-10T04:06:43.237773Z"
    }
   },
   "outputs": [
    {
     "data": {
      "text/plain": [
       "94862124"
      ]
     },
     "execution_count": 6,
     "metadata": {},
     "output_type": "execute_result"
    }
   ],
   "source": [
    "best_position = round(minimize(fun=calculate_cost, x0=median, args=(2)).x[0])\n",
    "\n",
    "int(calculate_cost(best_position, part=2))"
   ]
  }
 ],
 "metadata": {
  "kernelspec": {
   "display_name": "Python 3 (ipykernel)",
   "language": "python",
   "name": "python3"
  },
  "language_info": {
   "codemirror_mode": {
    "name": "ipython",
    "version": 3
   },
   "file_extension": ".py",
   "mimetype": "text/x-python",
   "name": "python",
   "nbconvert_exporter": "python",
   "pygments_lexer": "ipython3",
   "version": "3.11.4"
  }
 },
 "nbformat": 4,
 "nbformat_minor": 4
}
