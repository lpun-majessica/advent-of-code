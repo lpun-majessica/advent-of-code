{
 "cells": [
  {
   "cell_type": "markdown",
   "metadata": {},
   "source": [
    "[Advent of Code - Day 13](https://adventofcode.com/2021/day/13)"
   ]
  },
  {
   "cell_type": "markdown",
   "metadata": {},
   "source": [
    "# Import input"
   ]
  },
  {
   "cell_type": "code",
   "execution_count": 1,
   "metadata": {
    "execution": {
     "iopub.execute_input": "2024-10-22T03:02:52.691928Z",
     "iopub.status.busy": "2024-10-22T03:02:52.690929Z",
     "iopub.status.idle": "2024-10-22T03:02:55.611826Z",
     "shell.execute_reply": "2024-10-22T03:02:55.610756Z",
     "shell.execute_reply.started": "2024-10-22T03:02:52.691928Z"
    }
   },
   "outputs": [],
   "source": [
    "import sys\n",
    "import itertools\n",
    "\n",
    "sys.path.insert(0, \"../\")\n",
    "from utils import aoc_input as inp\n",
    "\n",
    "INPUT = inp.download_input(year=\"2021\", day=\"13\")"
   ]
  },
  {
   "cell_type": "code",
   "execution_count": 2,
   "metadata": {
    "execution": {
     "iopub.execute_input": "2024-10-22T03:02:55.614847Z",
     "iopub.status.busy": "2024-10-22T03:02:55.613773Z",
     "iopub.status.idle": "2024-10-22T03:02:55.628680Z",
     "shell.execute_reply": "2024-10-22T03:02:55.628680Z",
     "shell.execute_reply.started": "2024-10-22T03:02:55.614847Z"
    }
   },
   "outputs": [
    {
     "data": {
      "text/plain": [
       "['797,352', '70,595', '1049,372', '887,710', '774,607']"
      ]
     },
     "execution_count": 2,
     "metadata": {},
     "output_type": "execute_result"
    }
   ],
   "source": [
    "INPUT[:5]"
   ]
  },
  {
   "cell_type": "markdown",
   "metadata": {},
   "source": [
    "# Solulu"
   ]
  },
  {
   "cell_type": "code",
   "execution_count": 3,
   "metadata": {
    "execution": {
     "iopub.execute_input": "2024-10-22T03:02:55.631888Z",
     "iopub.status.busy": "2024-10-22T03:02:55.631888Z",
     "iopub.status.idle": "2024-10-22T03:02:55.644220Z",
     "shell.execute_reply": "2024-10-22T03:02:55.644220Z",
     "shell.execute_reply.started": "2024-10-22T03:02:55.631888Z"
    }
   },
   "outputs": [],
   "source": [
    "separator = INPUT.index(\"\")\n",
    "\n",
    "dots = set()\n",
    "for line in INPUT[:separator]:\n",
    "    dots.add(tuple(map(int, line.split(\",\"))))\n",
    "\n",
    "instructions = []\n",
    "for line in INPUT[separator + 1 :]:\n",
    "    _, _, instr = line.split()\n",
    "    line, loc = instr.split(\"=\")\n",
    "    instructions.append([line, int(loc)])"
   ]
  },
  {
   "cell_type": "markdown",
   "metadata": {},
   "source": [
    "## Part 1"
   ]
  },
  {
   "cell_type": "code",
   "execution_count": 4,
   "metadata": {
    "execution": {
     "iopub.execute_input": "2024-10-22T03:02:55.644220Z",
     "iopub.status.busy": "2024-10-22T03:02:55.644220Z",
     "iopub.status.idle": "2024-10-22T03:02:55.656900Z",
     "shell.execute_reply": "2024-10-22T03:02:55.655895Z",
     "shell.execute_reply.started": "2024-10-22T03:02:55.644220Z"
    }
   },
   "outputs": [
    {
     "data": {
      "text/plain": [
       "592"
      ]
     },
     "execution_count": 4,
     "metadata": {},
     "output_type": "execute_result"
    }
   ],
   "source": [
    "for line, loc in instructions:\n",
    "    new_dots = set()\n",
    "    for col, row in dots:\n",
    "        if line == \"x\" and col > loc:\n",
    "            col = loc * 2 - col\n",
    "        elif line == \"y\" and row > loc:\n",
    "            row = loc * 2 - row\n",
    "        new_dots.add((col, row))\n",
    "    dots = new_dots\n",
    "    break\n",
    "\n",
    "len(dots)"
   ]
  },
  {
   "cell_type": "markdown",
   "metadata": {},
   "source": [
    "## Part 2"
   ]
  },
  {
   "cell_type": "code",
   "execution_count": 5,
   "metadata": {
    "execution": {
     "iopub.execute_input": "2024-10-22T03:02:55.657900Z",
     "iopub.status.busy": "2024-10-22T03:02:55.656900Z",
     "iopub.status.idle": "2024-10-22T03:02:55.667733Z",
     "shell.execute_reply": "2024-10-22T03:02:55.666728Z",
     "shell.execute_reply.started": "2024-10-22T03:02:55.657900Z"
    }
   },
   "outputs": [],
   "source": [
    "for line, loc in instructions:\n",
    "    new_dots = set()\n",
    "    for col, row in dots:\n",
    "        if line == \"x\" and col > loc:\n",
    "            col = loc * 2 - col\n",
    "        elif line == \"y\" and row > loc:\n",
    "            row = loc * 2 - row\n",
    "        new_dots.add((col, row))\n",
    "    dots = new_dots"
   ]
  },
  {
   "cell_type": "code",
   "execution_count": 6,
   "metadata": {
    "execution": {
     "iopub.execute_input": "2024-10-22T03:02:55.668734Z",
     "iopub.status.busy": "2024-10-22T03:02:55.668734Z",
     "iopub.status.idle": "2024-10-22T03:02:55.677106Z",
     "shell.execute_reply": "2024-10-22T03:02:55.677106Z",
     "shell.execute_reply.started": "2024-10-22T03:02:55.668734Z"
    }
   },
   "outputs": [
    {
     "name": "stdout",
     "output_type": "stream",
     "text": [
      "\n",
      "    # #     # #       # #         # #   # # # #   # # # #   #     #   #     # \n",
      "      #   #     #   #     #         #   #         #         #   #     #     # \n",
      "      #   #         #     #         #   # # #     # # #     # #       #     # \n",
      "      #   #   # #   # # # #         #   #         #         #   #     #     # \n",
      "#     #   #     #   #     #   #     #   #         #         #   #     #     # \n",
      "  # #       # # #   #     #     # #     # # # #   #         #     #     # #   "
     ]
    }
   ],
   "source": [
    "height, width = 0, 0\n",
    "for col, row in dots:\n",
    "    width = max(width, col)\n",
    "    height = max(height, row)\n",
    "\n",
    "for row in range(height + 1):\n",
    "    print()\n",
    "    for col in range(width + 1):\n",
    "        if (col, row) in dots:\n",
    "            print(\"#\", end=\" \")\n",
    "        else:\n",
    "            print(\" \", end=\" \")"
   ]
  }
 ],
 "metadata": {
  "kernelspec": {
   "display_name": "Python 3 (ipykernel)",
   "language": "python",
   "name": "python3"
  },
  "language_info": {
   "codemirror_mode": {
    "name": "ipython",
    "version": 3
   },
   "file_extension": ".py",
   "mimetype": "text/x-python",
   "name": "python",
   "nbconvert_exporter": "python",
   "pygments_lexer": "ipython3",
   "version": "3.11.4"
  }
 },
 "nbformat": 4,
 "nbformat_minor": 4
}
