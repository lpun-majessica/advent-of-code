{
 "cells": [
  {
   "cell_type": "markdown",
   "metadata": {},
   "source": [
    "[Advent of Code - Day 04](https://adventofcode.com/2021/day/4)"
   ]
  },
  {
   "cell_type": "markdown",
   "metadata": {},
   "source": [
    "# Import input"
   ]
  },
  {
   "cell_type": "code",
   "execution_count": 1,
   "metadata": {
    "execution": {
     "iopub.execute_input": "2024-10-08T04:22:42.471239Z",
     "iopub.status.busy": "2024-10-08T04:22:42.471239Z",
     "iopub.status.idle": "2024-10-08T04:22:43.729117Z",
     "shell.execute_reply": "2024-10-08T04:22:43.729117Z",
     "shell.execute_reply.started": "2024-10-08T04:22:42.471239Z"
    }
   },
   "outputs": [],
   "source": [
    "import sys\n",
    "\n",
    "sys.path.insert(0, \"../\")\n",
    "from utils import aoc_input as inp\n",
    "\n",
    "INPUT = inp.download_input(year=\"2021\", day=\"04\")"
   ]
  },
  {
   "cell_type": "code",
   "execution_count": 2,
   "metadata": {
    "execution": {
     "iopub.execute_input": "2024-10-08T04:22:43.729117Z",
     "iopub.status.busy": "2024-10-08T04:22:43.729117Z",
     "iopub.status.idle": "2024-10-08T04:22:43.746118Z",
     "shell.execute_reply": "2024-10-08T04:22:43.743823Z",
     "shell.execute_reply.started": "2024-10-08T04:22:43.729117Z"
    }
   },
   "outputs": [
    {
     "data": {
      "text/plain": [
       "['30,35,8,2,39,37,72,7,81,41,25,46,56,18,89,70,0,15,84,75,88,67,42,44,94,71,79,65,58,52,96,83,54,29,14,95,66,61,97,68,57,90,55,32,17,47,20,98,1,69,63,62,31,86,77,85,87,93,26,40,24,19,48,76,73,49,34,45,82,22,80,78,23,6,59,91,64,43,21,51,13,3,53,99,4,28,33,74,12,9,36,50,60,11,27,10,5,16,92,38',\n",
       " '',\n",
       " '94 97 41 22 48',\n",
       " '21 47 72 23 26',\n",
       " '12 81 86 24 91']"
      ]
     },
     "execution_count": 2,
     "metadata": {},
     "output_type": "execute_result"
    }
   ],
   "source": [
    "INPUT[:5]"
   ]
  },
  {
   "cell_type": "markdown",
   "metadata": {},
   "source": [
    "# Solulu"
   ]
  },
  {
   "cell_type": "code",
   "execution_count": 3,
   "metadata": {
    "execution": {
     "iopub.execute_input": "2024-10-08T04:22:43.747204Z",
     "iopub.status.busy": "2024-10-08T04:22:43.747204Z",
     "iopub.status.idle": "2024-10-08T04:22:43.783827Z",
     "shell.execute_reply": "2024-10-08T04:22:43.783827Z",
     "shell.execute_reply.started": "2024-10-08T04:22:43.747204Z"
    },
    "scrolled": true
   },
   "outputs": [],
   "source": [
    "def solve(part: int, inp=INPUT) -> int:\n",
    "    nums = eval(INPUT[0])\n",
    "    boards = _boardify(INPUT)\n",
    "    wINPUTboards = len(boards) if part == 2 else 1\n",
    "    inum = 0\n",
    "    bingo = None\n",
    "    last_called = None\n",
    "    won = list()\n",
    "\n",
    "    while not bingo:\n",
    "        num = nums[inum % len(nums)]\n",
    "        inum += 1\n",
    "        for i, board in enumerate(boards):\n",
    "            if i in won:\n",
    "                continue\n",
    "            boards[i] = update(board, num)\n",
    "            if is_bingo(boards[i]):\n",
    "                won.append(i)\n",
    "            if len(won) == wINPUTboards:\n",
    "                bingo = boards[won[-1]]\n",
    "                last_called = num\n",
    "\n",
    "    return calculate_final_score(bingo, last_called)\n",
    "\n",
    "\n",
    "def _boardify(INPUT):\n",
    "    boards = list()\n",
    "    board = list()\n",
    "\n",
    "    for line in INPUT[2:]:\n",
    "        if line:\n",
    "            row = list(map(int, line.split()))\n",
    "            board.append(row)\n",
    "            if len(board) == 5:\n",
    "                boards.append(board)\n",
    "                board = []\n",
    "    return boards\n",
    "\n",
    "\n",
    "def update(board, num):\n",
    "    for idx, row in enumerate(board):\n",
    "        if num in row:\n",
    "            board[idx][row.index(num)] = None\n",
    "\n",
    "    return board\n",
    "\n",
    "\n",
    "def is_bingo(board, n: int = 5) -> bool:\n",
    "    for i in range(n):\n",
    "        col = [board[j][i] for j in range(n)]\n",
    "        row = board[i]\n",
    "        vertical_bingo = all(not num for num in col)\n",
    "        horizontal_bingo = all(not num for num in row)\n",
    "\n",
    "        if vertical_bingo or horizontal_bingo:\n",
    "            return True\n",
    "    else:\n",
    "        return False\n",
    "\n",
    "\n",
    "def calculate_final_score(board, last_called):\n",
    "    score = 0\n",
    "    for row in board:\n",
    "        for num in row:\n",
    "            score += num if num else 0\n",
    "\n",
    "    return score * last_called"
   ]
  },
  {
   "cell_type": "markdown",
   "metadata": {},
   "source": [
    "## Part 1"
   ]
  },
  {
   "cell_type": "code",
   "execution_count": 4,
   "metadata": {
    "execution": {
     "iopub.execute_input": "2024-10-08T04:22:43.783827Z",
     "iopub.status.busy": "2024-10-08T04:22:43.783827Z",
     "iopub.status.idle": "2024-10-08T04:22:43.839177Z",
     "shell.execute_reply": "2024-10-08T04:22:43.839177Z",
     "shell.execute_reply.started": "2024-10-08T04:22:43.783827Z"
    }
   },
   "outputs": [
    {
     "data": {
      "text/plain": [
       "54275"
      ]
     },
     "execution_count": 4,
     "metadata": {},
     "output_type": "execute_result"
    }
   ],
   "source": [
    "solve(part=1)"
   ]
  },
  {
   "cell_type": "markdown",
   "metadata": {},
   "source": [
    "## Part 2"
   ]
  },
  {
   "cell_type": "code",
   "execution_count": 5,
   "metadata": {
    "execution": {
     "iopub.execute_input": "2024-10-08T04:22:43.839177Z",
     "iopub.status.busy": "2024-10-08T04:22:43.839177Z",
     "iopub.status.idle": "2024-10-08T04:22:43.941647Z",
     "shell.execute_reply": "2024-10-08T04:22:43.941647Z",
     "shell.execute_reply.started": "2024-10-08T04:22:43.839177Z"
    }
   },
   "outputs": [
    {
     "data": {
      "text/plain": [
       "13158"
      ]
     },
     "execution_count": 5,
     "metadata": {},
     "output_type": "execute_result"
    }
   ],
   "source": [
    "solve(part=2)"
   ]
  }
 ],
 "metadata": {
  "kernelspec": {
   "display_name": "Python 3 (ipykernel)",
   "language": "python",
   "name": "python3"
  },
  "language_info": {
   "codemirror_mode": {
    "name": "ipython",
    "version": 3
   },
   "file_extension": ".py",
   "mimetype": "text/x-python",
   "name": "python",
   "nbconvert_exporter": "python",
   "pygments_lexer": "ipython3",
   "version": "3.11.4"
  }
 },
 "nbformat": 4,
 "nbformat_minor": 4
}
