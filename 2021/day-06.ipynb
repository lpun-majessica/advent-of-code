{
 "cells": [
  {
   "cell_type": "markdown",
   "metadata": {},
   "source": [
    "[Advent of Code - Day 06](https://adventofcode.com/2021/day/6)"
   ]
  },
  {
   "cell_type": "markdown",
   "metadata": {},
   "source": [
    "# Import input"
   ]
  },
  {
   "cell_type": "code",
   "execution_count": 1,
   "metadata": {
    "execution": {
     "iopub.execute_input": "2024-10-09T10:33:22.897468Z",
     "iopub.status.busy": "2024-10-09T10:33:22.897468Z",
     "iopub.status.idle": "2024-10-09T10:33:24.272573Z",
     "shell.execute_reply": "2024-10-09T10:33:24.272573Z",
     "shell.execute_reply.started": "2024-10-09T10:33:22.897468Z"
    }
   },
   "outputs": [],
   "source": [
    "import sys\n",
    "\n",
    "sys.path.insert(0, \"../\")\n",
    "from utils import aoc_input as inp\n",
    "\n",
    "INPUT = inp.download_input(year=\"2021\", day=\"06\")[0]"
   ]
  },
  {
   "cell_type": "code",
   "execution_count": 2,
   "metadata": {
    "execution": {
     "iopub.execute_input": "2024-10-09T10:33:24.272573Z",
     "iopub.status.busy": "2024-10-09T10:33:24.272573Z",
     "iopub.status.idle": "2024-10-09T10:33:24.290443Z",
     "shell.execute_reply": "2024-10-09T10:33:24.289831Z",
     "shell.execute_reply.started": "2024-10-09T10:33:24.272573Z"
    }
   },
   "outputs": [
    {
     "data": {
      "text/plain": [
       "'1,1,1'"
      ]
     },
     "execution_count": 2,
     "metadata": {},
     "output_type": "execute_result"
    }
   ],
   "source": [
    "INPUT[:5]"
   ]
  },
  {
   "cell_type": "markdown",
   "metadata": {},
   "source": [
    "# Solulu"
   ]
  },
  {
   "cell_type": "code",
   "execution_count": 3,
   "metadata": {
    "execution": {
     "iopub.execute_input": "2024-10-09T10:33:24.293532Z",
     "iopub.status.busy": "2024-10-09T10:33:24.293532Z",
     "iopub.status.idle": "2024-10-09T10:33:24.313321Z",
     "shell.execute_reply": "2024-10-09T10:33:24.313321Z",
     "shell.execute_reply.started": "2024-10-09T10:33:24.293532Z"
    }
   },
   "outputs": [],
   "source": [
    "school = list(map(int, INPUT.split(\",\")))\n",
    "\n",
    "initial_state = {i: 0 for i in range(9)}\n",
    "for cycle in school:\n",
    "    initial_state[cycle] += 1"
   ]
  },
  {
   "cell_type": "code",
   "execution_count": 4,
   "metadata": {
    "execution": {
     "iopub.execute_input": "2024-10-09T10:33:24.313321Z",
     "iopub.status.busy": "2024-10-09T10:33:24.313321Z",
     "iopub.status.idle": "2024-10-09T10:33:24.329337Z",
     "shell.execute_reply": "2024-10-09T10:33:24.329337Z",
     "shell.execute_reply.started": "2024-10-09T10:33:24.313321Z"
    }
   },
   "outputs": [],
   "source": [
    "def count_growth(initial_state: int, days: int) -> dict:\n",
    "    next_day = {i: 0 for i in range(9)}\n",
    "    if days == 0:\n",
    "        return initial_state\n",
    "    else:\n",
    "        for i in range(8, -1, -1):\n",
    "            if i == 0:\n",
    "                next_day[8] = initial_state[i]\n",
    "                next_day[6] += initial_state[i]\n",
    "\n",
    "            elif i > 0:\n",
    "                next_day[i - 1] = initial_state[i]\n",
    "        return count_growth(next_day, days - 1)"
   ]
  },
  {
   "cell_type": "markdown",
   "metadata": {},
   "source": [
    "## Part 1"
   ]
  },
  {
   "cell_type": "code",
   "execution_count": 5,
   "metadata": {
    "execution": {
     "iopub.execute_input": "2024-10-09T10:33:24.329337Z",
     "iopub.status.busy": "2024-10-09T10:33:24.329337Z",
     "iopub.status.idle": "2024-10-09T10:33:24.346586Z",
     "shell.execute_reply": "2024-10-09T10:33:24.346586Z",
     "shell.execute_reply.started": "2024-10-09T10:33:24.329337Z"
    }
   },
   "outputs": [
    {
     "data": {
      "text/plain": [
       "386536"
      ]
     },
     "execution_count": 5,
     "metadata": {},
     "output_type": "execute_result"
    }
   ],
   "source": [
    "days = 80\n",
    "last_day = count_growth(initial_state, days)\n",
    "\n",
    "sum(last_day.values())"
   ]
  },
  {
   "cell_type": "markdown",
   "metadata": {},
   "source": [
    "## Part 2"
   ]
  },
  {
   "cell_type": "code",
   "execution_count": 6,
   "metadata": {
    "execution": {
     "iopub.execute_input": "2024-10-09T10:33:24.346586Z",
     "iopub.status.busy": "2024-10-09T10:33:24.346586Z",
     "iopub.status.idle": "2024-10-09T10:33:24.366848Z",
     "shell.execute_reply": "2024-10-09T10:33:24.366848Z",
     "shell.execute_reply.started": "2024-10-09T10:33:24.346586Z"
    }
   },
   "outputs": [
    {
     "data": {
      "text/plain": [
       "1732821262171"
      ]
     },
     "execution_count": 6,
     "metadata": {},
     "output_type": "execute_result"
    }
   ],
   "source": [
    "days = 256\n",
    "last_day = count_growth(initial_state, days)\n",
    "\n",
    "sum(last_day.values())"
   ]
  }
 ],
 "metadata": {
  "kernelspec": {
   "display_name": "Python 3 (ipykernel)",
   "language": "python",
   "name": "python3"
  },
  "language_info": {
   "codemirror_mode": {
    "name": "ipython",
    "version": 3
   },
   "file_extension": ".py",
   "mimetype": "text/x-python",
   "name": "python",
   "nbconvert_exporter": "python",
   "pygments_lexer": "ipython3",
   "version": "3.11.4"
  }
 },
 "nbformat": 4,
 "nbformat_minor": 4
}
