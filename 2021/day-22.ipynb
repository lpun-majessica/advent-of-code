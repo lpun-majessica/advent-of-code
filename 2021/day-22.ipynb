{
 "cells": [
  {
   "cell_type": "markdown",
   "metadata": {},
   "source": [
    "[Advent of Code - Day 22](https://adventofcode.com/2021/day/22)"
   ]
  },
  {
   "cell_type": "markdown",
   "metadata": {},
   "source": [
    "# Import input"
   ]
  },
  {
   "cell_type": "code",
   "execution_count": 1,
   "metadata": {
    "execution": {
     "iopub.execute_input": "2024-11-08T05:47:57.276123Z",
     "iopub.status.busy": "2024-11-08T05:47:57.276123Z",
     "iopub.status.idle": "2024-11-08T05:47:58.320662Z",
     "shell.execute_reply": "2024-11-08T05:47:58.320662Z",
     "shell.execute_reply.started": "2024-11-08T05:47:57.276123Z"
    }
   },
   "outputs": [],
   "source": [
    "import sys\n",
    "from collections import defaultdict\n",
    "from itertools import product\n",
    "\n",
    "sys.path.insert(0, \"../\")\n",
    "from utils import aoc_input as inp\n",
    "\n",
    "in_ = inp.download_input(year=\"2021\", day=\"22\")"
   ]
  },
  {
   "cell_type": "code",
   "execution_count": 2,
   "metadata": {
    "execution": {
     "iopub.execute_input": "2024-11-08T05:47:58.324757Z",
     "iopub.status.busy": "2024-11-08T05:47:58.323637Z",
     "iopub.status.idle": "2024-11-08T05:47:58.339953Z",
     "shell.execute_reply": "2024-11-08T05:47:58.338939Z",
     "shell.execute_reply.started": "2024-11-08T05:47:58.324757Z"
    }
   },
   "outputs": [
    {
     "data": {
      "text/plain": [
       "['on x=-3..43,y=-22..22,z=-15..34',\n",
       " 'on x=-9..42,y=-40..12,z=-30..19',\n",
       " 'on x=-5..46,y=-9..38,z=-31..21',\n",
       " 'on x=-27..25,y=-30..22,z=-9..42',\n",
       " 'on x=-25..27,y=-43..3,z=-22..31']"
      ]
     },
     "execution_count": 2,
     "metadata": {},
     "output_type": "execute_result"
    }
   ],
   "source": [
    "in_[:5]"
   ]
  },
  {
   "cell_type": "markdown",
   "metadata": {},
   "source": [
    "# Solulu"
   ]
  },
  {
   "cell_type": "code",
   "execution_count": 3,
   "metadata": {
    "execution": {
     "iopub.execute_input": "2024-11-08T05:47:58.343003Z",
     "iopub.status.busy": "2024-11-08T05:47:58.341998Z",
     "iopub.status.idle": "2024-11-08T05:47:58.350188Z",
     "shell.execute_reply": "2024-11-08T05:47:58.349101Z",
     "shell.execute_reply.started": "2024-11-08T05:47:58.343003Z"
    }
   },
   "outputs": [],
   "source": [
    "ON = \"on\""
   ]
  },
  {
   "cell_type": "markdown",
   "metadata": {},
   "source": [
    "## Part 1"
   ]
  },
  {
   "cell_type": "code",
   "execution_count": 4,
   "metadata": {
    "execution": {
     "iopub.execute_input": "2024-11-08T05:47:58.353161Z",
     "iopub.status.busy": "2024-11-08T05:47:58.353161Z",
     "iopub.status.idle": "2024-11-08T05:47:58.893544Z",
     "shell.execute_reply": "2024-11-08T05:47:58.893544Z",
     "shell.execute_reply.started": "2024-11-08T05:47:58.353161Z"
    }
   },
   "outputs": [
    {
     "data": {
      "text/plain": [
       "542711"
      ]
     },
     "execution_count": 4,
     "metadata": {},
     "output_type": "execute_result"
    }
   ],
   "source": [
    "lower, upper = -50, 50\n",
    "cubes = defaultdict(int)\n",
    "\n",
    "for line in in_:\n",
    "    instruction, coords = line.split()\n",
    "    xyz = [coord.split(\"=\")[1] for coord in coords.split(\",\")]\n",
    "    (minx, maxx), (miny, maxy), (minz, maxz) = [map(int, _.split(\"..\")) for _ in xyz]\n",
    "\n",
    "    rangex = (max(lower, minx), min(upper, maxx) + 1)\n",
    "    rangey = (max(lower, miny), min(upper, maxy) + 1)\n",
    "    rangez = (max(lower, minz), min(upper, maxz) + 1)\n",
    "\n",
    "    for cube in product(range(*rangex), range(*rangey), range(*rangez)):\n",
    "        cubes[cube] = instruction == ON\n",
    "\n",
    "sum(cubes.values())"
   ]
  },
  {
   "cell_type": "markdown",
   "metadata": {},
   "source": [
    "## Part 2"
   ]
  }
 ],
 "metadata": {
  "kernelspec": {
   "display_name": "Python 3 (ipykernel)",
   "language": "python",
   "name": "python3"
  },
  "language_info": {
   "codemirror_mode": {
    "name": "ipython",
    "version": 3
   },
   "file_extension": ".py",
   "mimetype": "text/x-python",
   "name": "python",
   "nbconvert_exporter": "python",
   "pygments_lexer": "ipython3",
   "version": "3.11.4"
  }
 },
 "nbformat": 4,
 "nbformat_minor": 4
}
