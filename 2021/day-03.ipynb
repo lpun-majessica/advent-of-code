{
 "cells": [
  {
   "cell_type": "markdown",
   "metadata": {},
   "source": [
    "[Advent of Code - Day 03](https://adventofcode.com/2021/day/3)"
   ]
  },
  {
   "cell_type": "markdown",
   "metadata": {},
   "source": [
    "# Import input"
   ]
  },
  {
   "cell_type": "code",
   "execution_count": 1,
   "metadata": {
    "execution": {
     "iopub.execute_input": "2024-10-07T10:57:44.267962Z",
     "iopub.status.busy": "2024-10-07T10:57:44.265852Z",
     "iopub.status.idle": "2024-10-07T10:57:45.552792Z",
     "shell.execute_reply": "2024-10-07T10:57:45.552649Z",
     "shell.execute_reply.started": "2024-10-07T10:57:44.267962Z"
    }
   },
   "outputs": [],
   "source": [
    "import sys\n",
    "\n",
    "sys.path.insert(0, \"../\")\n",
    "from utils import aoc_input as inp\n",
    "\n",
    "INPUT = inp.download_input(year=\"2021\", day=\"03\")"
   ]
  },
  {
   "cell_type": "code",
   "execution_count": 2,
   "metadata": {
    "execution": {
     "iopub.execute_input": "2024-10-07T10:57:45.552792Z",
     "iopub.status.busy": "2024-10-07T10:57:45.552792Z",
     "iopub.status.idle": "2024-10-07T10:57:45.581395Z",
     "shell.execute_reply": "2024-10-07T10:57:45.581395Z",
     "shell.execute_reply.started": "2024-10-07T10:57:45.552792Z"
    }
   },
   "outputs": [
    {
     "data": {
      "text/plain": [
       "['100000101101',\n",
       " '011011010101',\n",
       " '000000111000',\n",
       " '110101110111',\n",
       " '110000001100']"
      ]
     },
     "execution_count": 2,
     "metadata": {},
     "output_type": "execute_result"
    }
   ],
   "source": [
    "INPUT[:5]"
   ]
  },
  {
   "cell_type": "markdown",
   "metadata": {},
   "source": [
    "# Solulu"
   ]
  },
  {
   "cell_type": "code",
   "execution_count": 3,
   "metadata": {
    "execution": {
     "iopub.execute_input": "2024-10-07T10:57:45.585878Z",
     "iopub.status.busy": "2024-10-07T10:57:45.585878Z",
     "iopub.status.idle": "2024-10-07T10:57:45.596211Z",
     "shell.execute_reply": "2024-10-07T10:57:45.594357Z",
     "shell.execute_reply.started": "2024-10-07T10:57:45.585878Z"
    }
   },
   "outputs": [],
   "source": [
    "total_lines, total_bits = len(INPUT), len(INPUT[0])"
   ]
  },
  {
   "cell_type": "markdown",
   "metadata": {},
   "source": [
    "## Part 1"
   ]
  },
  {
   "cell_type": "code",
   "execution_count": 4,
   "metadata": {
    "execution": {
     "iopub.execute_input": "2024-10-07T10:57:45.602149Z",
     "iopub.status.busy": "2024-10-07T10:57:45.596211Z",
     "iopub.status.idle": "2024-10-07T10:57:45.619383Z",
     "shell.execute_reply": "2024-10-07T10:57:45.619383Z",
     "shell.execute_reply.started": "2024-10-07T10:57:45.601784Z"
    }
   },
   "outputs": [
    {
     "data": {
      "text/plain": [
       "3687446"
      ]
     },
     "execution_count": 4,
     "metadata": {},
     "output_type": "execute_result"
    }
   ],
   "source": [
    "gamma = \"\"\n",
    "epsilon = \"\"\n",
    "\n",
    "for i in range(total_bits):\n",
    "    bits = [INPUT[j][i] for j in range(total_lines)]\n",
    "    zeros = bits.count(\"0\")\n",
    "    ones = bits.count(\"1\")\n",
    "\n",
    "    if zeros > ones:\n",
    "        gamma += \"0\"\n",
    "        epsilon += \"1\"\n",
    "    else:\n",
    "        gamma += \"1\"\n",
    "        epsilon += \"0\"\n",
    "\n",
    "int(gamma, base=2) * int(epsilon, base=2)"
   ]
  },
  {
   "cell_type": "markdown",
   "metadata": {},
   "source": [
    "## Part 2"
   ]
  },
  {
   "cell_type": "code",
   "execution_count": 5,
   "metadata": {
    "execution": {
     "iopub.execute_input": "2024-10-07T10:57:45.619383Z",
     "iopub.status.busy": "2024-10-07T10:57:45.619383Z",
     "iopub.status.idle": "2024-10-07T10:57:45.634964Z",
     "shell.execute_reply": "2024-10-07T10:57:45.634777Z",
     "shell.execute_reply.started": "2024-10-07T10:57:45.619383Z"
    }
   },
   "outputs": [],
   "source": [
    "def life_support(INPUT, o2: bool) -> int:\n",
    "    nums = INPUT.copy()\n",
    "    filtered = set()\n",
    "    pattern = \"\"\n",
    "    final = None\n",
    "\n",
    "    for i in range(total_bits):\n",
    "        bits = [nums[j][i] for j in range(len(nums))]\n",
    "        zeros = bits.count(\"0\")\n",
    "        ones = bits.count(\"1\")\n",
    "\n",
    "        if zeros > ones:\n",
    "            pattern += \"0\" if o2 else \"1\"\n",
    "        else:\n",
    "            pattern += \"1\" if o2 else \"0\"\n",
    "\n",
    "        for num in nums:\n",
    "            if not num.startswith(pattern):\n",
    "                filtered.add(num)\n",
    "        nums = list(set(nums) - filtered)\n",
    "\n",
    "        if len(nums) == 1:\n",
    "            final = nums[0]\n",
    "            break\n",
    "\n",
    "    return int(final, base=2)"
   ]
  },
  {
   "cell_type": "code",
   "execution_count": 6,
   "metadata": {
    "execution": {
     "iopub.execute_input": "2024-10-07T10:57:45.634964Z",
     "iopub.status.busy": "2024-10-07T10:57:45.634964Z",
     "iopub.status.idle": "2024-10-07T10:57:45.649661Z",
     "shell.execute_reply": "2024-10-07T10:57:45.649661Z",
     "shell.execute_reply.started": "2024-10-07T10:57:45.634964Z"
    }
   },
   "outputs": [
    {
     "data": {
      "text/plain": [
       "4406844"
      ]
     },
     "execution_count": 6,
     "metadata": {},
     "output_type": "execute_result"
    }
   ],
   "source": [
    "o2 = life_support(INPUT, o2=True)\n",
    "co2 = life_support(INPUT, o2=False)\n",
    "\n",
    "o2 * co2"
   ]
  }
 ],
 "metadata": {
  "kernelspec": {
   "display_name": "Python 3 (ipykernel)",
   "language": "python",
   "name": "python3"
  },
  "language_info": {
   "codemirror_mode": {
    "name": "ipython",
    "version": 3
   },
   "file_extension": ".py",
   "mimetype": "text/x-python",
   "name": "python",
   "nbconvert_exporter": "python",
   "pygments_lexer": "ipython3",
   "version": "3.11.4"
  }
 },
 "nbformat": 4,
 "nbformat_minor": 4
}
