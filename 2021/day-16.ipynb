{
 "cells": [
  {
   "cell_type": "markdown",
   "metadata": {},
   "source": [
    "[Advent of Code - Day 16](https://adventofcode.com/2021/day/16)"
   ]
  },
  {
   "cell_type": "markdown",
   "metadata": {},
   "source": [
    "# Import input"
   ]
  },
  {
   "cell_type": "code",
   "execution_count": 1,
   "metadata": {
    "execution": {
     "iopub.execute_input": "2024-10-28T10:35:01.781996Z",
     "iopub.status.busy": "2024-10-28T10:35:01.780993Z",
     "iopub.status.idle": "2024-10-28T10:35:03.784940Z",
     "shell.execute_reply": "2024-10-28T10:35:03.784940Z",
     "shell.execute_reply.started": "2024-10-28T10:35:01.781996Z"
    }
   },
   "outputs": [],
   "source": [
    "import sys\n",
    "\n",
    "sys.path.insert(0, \"../\")\n",
    "from utils import aoc_input as inp\n",
    "\n",
    "INPUT = inp.download_input(year=\"2021\", day=\"16\")[0]"
   ]
  },
  {
   "cell_type": "code",
   "execution_count": 2,
   "metadata": {
    "execution": {
     "iopub.execute_input": "2024-10-28T10:35:03.784940Z",
     "iopub.status.busy": "2024-10-28T10:35:03.784940Z",
     "iopub.status.idle": "2024-10-28T10:35:03.801868Z",
     "shell.execute_reply": "2024-10-28T10:35:03.800818Z",
     "shell.execute_reply.started": "2024-10-28T10:35:03.784940Z"
    },
    "scrolled": true
   },
   "outputs": [
    {
     "data": {
      "text/plain": [
       "'E058F'"
      ]
     },
     "execution_count": 2,
     "metadata": {},
     "output_type": "execute_result"
    }
   ],
   "source": [
    "INPUT[:5]"
   ]
  },
  {
   "cell_type": "markdown",
   "metadata": {},
   "source": [
    "# Solulu"
   ]
  },
  {
   "cell_type": "code",
   "execution_count": 3,
   "metadata": {
    "execution": {
     "iopub.execute_input": "2024-10-28T10:35:03.803828Z",
     "iopub.status.busy": "2024-10-28T10:35:03.803828Z",
     "iopub.status.idle": "2024-10-28T10:35:03.813239Z",
     "shell.execute_reply": "2024-10-28T10:35:03.812330Z",
     "shell.execute_reply.started": "2024-10-28T10:35:03.803828Z"
    }
   },
   "outputs": [],
   "source": [
    "hexadec_2_bin = {\n",
    "    \"0\": \"0000\",\n",
    "    \"1\": \"0001\",\n",
    "    \"2\": \"0010\",\n",
    "    \"3\": \"0011\",\n",
    "    \"4\": \"0100\",\n",
    "    \"5\": \"0101\",\n",
    "    \"6\": \"0110\",\n",
    "    \"7\": \"0111\",\n",
    "    \"8\": \"1000\",\n",
    "    \"9\": \"1001\",\n",
    "    \"A\": \"1010\",\n",
    "    \"B\": \"1011\",\n",
    "    \"C\": \"1100\",\n",
    "    \"D\": \"1101\",\n",
    "    \"E\": \"1110\",\n",
    "    \"F\": \"1111\",\n",
    "}"
   ]
  },
  {
   "cell_type": "code",
   "execution_count": 4,
   "metadata": {
    "execution": {
     "iopub.execute_input": "2024-10-28T10:35:03.816246Z",
     "iopub.status.busy": "2024-10-28T10:35:03.815248Z",
     "iopub.status.idle": "2024-10-28T10:35:03.823664Z",
     "shell.execute_reply": "2024-10-28T10:35:03.822654Z",
     "shell.execute_reply.started": "2024-10-28T10:35:03.816246Z"
    }
   },
   "outputs": [],
   "source": [
    "original_packet = \"\"\n",
    "\n",
    "for ch in INPUT:\n",
    "    original_packet += hexadec_2_bin[ch]"
   ]
  },
  {
   "cell_type": "markdown",
   "metadata": {},
   "source": [
    "## Part 1"
   ]
  },
  {
   "cell_type": "code",
   "execution_count": 5,
   "metadata": {
    "execution": {
     "iopub.execute_input": "2024-10-28T10:35:03.824789Z",
     "iopub.status.busy": "2024-10-28T10:35:03.824789Z",
     "iopub.status.idle": "2024-10-28T10:35:03.837387Z",
     "shell.execute_reply": "2024-10-28T10:35:03.836377Z",
     "shell.execute_reply.started": "2024-10-28T10:35:03.824789Z"
    }
   },
   "outputs": [],
   "source": [
    "queue = [original_packet]\n",
    "packet_no = 0\n",
    "packets = dict()\n",
    "\n",
    "while queue:\n",
    "    packet = queue.pop(0)\n",
    "    if len(packet) == packet.count(\"0\"):\n",
    "        continue\n",
    "\n",
    "    version, type_id = packet[:3], packet[3:6]\n",
    "    version = int(version, base=2)\n",
    "    type_id = int(type_id, base=2)\n",
    "    packet = packet[6:]\n",
    "\n",
    "    packet_no += 1\n",
    "    packets[packet_no] = dict(version=version, type_id=type_id)\n",
    "\n",
    "    if type_id == 4:\n",
    "        num = \"\"\n",
    "        while True:\n",
    "            group = packet[:5]\n",
    "            packet = packet[5:]\n",
    "\n",
    "            num += group[1:]\n",
    "            if group[0] == \"0\":\n",
    "                num = int(num, base=2)\n",
    "                break\n",
    "        packets[packet_no][\"num\"] = num\n",
    "        queue.append(packet)\n",
    "\n",
    "    else:\n",
    "        length_type_id = packet[0]\n",
    "        packet = packet[1:]\n",
    "        packets[packet_no][\"length_type_id\"] = length_type_id\n",
    "\n",
    "        if length_type_id == \"0\":\n",
    "            total = int(packet[:15], base=2)\n",
    "            packet = packet[15:]\n",
    "\n",
    "            queue.append(packet[:total])\n",
    "            queue.append(packet[total:])\n",
    "\n",
    "        elif length_type_id == \"1\":\n",
    "            packet = packet[11:]\n",
    "            queue.append(packet)"
   ]
  },
  {
   "cell_type": "code",
   "execution_count": 6,
   "metadata": {
    "execution": {
     "iopub.execute_input": "2024-10-28T10:35:03.837947Z",
     "iopub.status.busy": "2024-10-28T10:35:03.837947Z",
     "iopub.status.idle": "2024-10-28T10:35:03.846544Z",
     "shell.execute_reply": "2024-10-28T10:35:03.845813Z",
     "shell.execute_reply.started": "2024-10-28T10:35:03.837947Z"
    }
   },
   "outputs": [
    {
     "data": {
      "text/plain": [
       "913"
      ]
     },
     "execution_count": 6,
     "metadata": {},
     "output_type": "execute_result"
    }
   ],
   "source": [
    "sum([packet[\"version\"] for packet in packets.values()])"
   ]
  },
  {
   "cell_type": "markdown",
   "metadata": {
    "jp-MarkdownHeadingCollapsed": true
   },
   "source": [
    "## Part 2"
   ]
  }
 ],
 "metadata": {
  "kernelspec": {
   "display_name": "Python 3 (ipykernel)",
   "language": "python",
   "name": "python3"
  },
  "language_info": {
   "codemirror_mode": {
    "name": "ipython",
    "version": 3
   },
   "file_extension": ".py",
   "mimetype": "text/x-python",
   "name": "python",
   "nbconvert_exporter": "python",
   "pygments_lexer": "ipython3",
   "version": "3.11.4"
  }
 },
 "nbformat": 4,
 "nbformat_minor": 4
}
