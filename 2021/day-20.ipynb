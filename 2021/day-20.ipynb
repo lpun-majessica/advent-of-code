{
 "cells": [
  {
   "cell_type": "markdown",
   "metadata": {},
   "source": [
    "[Advent of Code - Day 20](https://adventofcode.com/2021/day/20)"
   ]
  },
  {
   "cell_type": "markdown",
   "metadata": {},
   "source": [
    "# Import input"
   ]
  },
  {
   "cell_type": "code",
   "execution_count": 1,
   "metadata": {
    "execution": {
     "iopub.execute_input": "2024-11-06T08:49:03.791907Z",
     "iopub.status.busy": "2024-11-06T08:49:03.790905Z",
     "iopub.status.idle": "2024-11-06T08:49:05.576858Z",
     "shell.execute_reply": "2024-11-06T08:49:05.576858Z",
     "shell.execute_reply.started": "2024-11-06T08:49:03.791907Z"
    }
   },
   "outputs": [],
   "source": [
    "import sys\n",
    "from collections import defaultdict\n",
    "from itertools import product\n",
    "\n",
    "sys.path.insert(0, \"../\")\n",
    "from utils import puzzle\n",
    "\n",
    "P = puzzle.Puzzle(year=\"2021\", day=\"20\")\n",
"INPUT = P.load_input()"
   ]
  },
  {
   "cell_type": "code",
   "execution_count": 2,
   "metadata": {
    "execution": {
     "iopub.execute_input": "2024-11-06T08:49:05.581621Z",
     "iopub.status.busy": "2024-11-06T08:49:05.581621Z",
     "iopub.status.idle": "2024-11-06T08:49:05.595210Z",
     "shell.execute_reply": "2024-11-06T08:49:05.594173Z",
     "shell.execute_reply.started": "2024-11-06T08:49:05.581621Z"
    }
   },
   "outputs": [
    {
     "data": {
      "text/plain": [
       "['#....##..##...####...##.#..####..#.#.#.#..##....##....#.....#.##....##..###.#..####.#..#.###...##....##...#.#####..#.....#.#####.##....##..#.#####.....#.....###..#.#.###...###..#..#.#.#####....#.#..#..##..#.####.###.#.#...##.##.#.###...#####......#.........##.#.#####.##.##........#..#.##.####.#...#..#####.####.#.##.####.#.#.##.#..#..#.#....#.###.#.###.#......#..#...#.#..#..###..#....####...##....##.#..###...##.##.####..#..#..#..#.#...###.#.##.##.#..####.#.#..#....####......##.###.####..###.....##..##..##...',\n",
       " '',\n",
       " '.#...##.#...#.##.#.....#..###...#.##.##...##.##.##.###...##.#.#...#..##..###.....#..##...#....#.####',\n",
       " '##.#####..#.#...##.#..##..#.#.######...#.##.#...#...##.#...#.#.#......#.#####.....#.######.....#...#',\n",
       " '....#..###..#.###.####....##.#...#...##.###.###...#...####.#.......#########.####.#.#..###.##..###..']"
      ]
     },
     "execution_count": 2,
     "metadata": {},
     "output_type": "execute_result"
    }
   ],
   "source": [
    "INPUT[:5]"
   ]
  },
  {
   "cell_type": "markdown",
   "metadata": {},
   "source": [
    "# Solulu"
   ]
  },
  {
   "cell_type": "code",
   "execution_count": 3,
   "metadata": {
    "execution": {
     "iopub.execute_input": "2024-11-06T08:49:05.596193Z",
     "iopub.status.busy": "2024-11-06T08:49:05.596193Z",
     "iopub.status.idle": "2024-11-06T08:49:05.608307Z",
     "shell.execute_reply": "2024-11-06T08:49:05.607289Z",
     "shell.execute_reply.started": "2024-11-06T08:49:05.596193Z"
    }
   },
   "outputs": [],
   "source": [
    "algo = INPUT[0]\n",
    "img = INPUT[2:]\n",
    "LIGHT = \"#\""
   ]
  },
  {
   "cell_type": "code",
   "execution_count": 4,
   "metadata": {
    "execution": {
     "iopub.execute_input": "2024-11-06T08:49:05.609295Z",
     "iopub.status.busy": "2024-11-06T08:49:05.609295Z",
     "iopub.status.idle": "2024-11-06T08:49:05.621332Z",
     "shell.execute_reply": "2024-11-06T08:49:05.620499Z",
     "shell.execute_reply.started": "2024-11-06T08:49:05.609295Z"
    }
   },
   "outputs": [],
   "source": [
    "height, width = len(img), len(img[0])\n",
    "\n",
    "COLORS = defaultdict(int)\n",
    "\n",
    "for row, col in product(range(height), range(width)):\n",
    "    COLORS[(row, col)] = img[row][col] == LIGHT"
   ]
  },
  {
   "cell_type": "markdown",
   "metadata": {},
   "source": [
    "## Part 1"
   ]
  },
  {
   "cell_type": "code",
   "execution_count": 5,
   "metadata": {
    "execution": {
     "iopub.execute_input": "2024-11-06T08:49:05.622386Z",
     "iopub.status.busy": "2024-11-06T08:49:05.622386Z",
     "iopub.status.idle": "2024-11-06T08:49:05.758620Z",
     "shell.execute_reply": "2024-11-06T08:49:05.758620Z",
     "shell.execute_reply.started": "2024-11-06T08:49:05.622386Z"
    },
    "scrolled": true
   },
   "outputs": [],
   "source": [
    "enhance = 2\n",
    "offset = enhance * 2\n",
    "\n",
    "colors = COLORS.copy()\n",
    "\n",
    "for i in range(enhance):\n",
    "    new_colors = defaultdict(int)\n",
    "\n",
    "    for row, col in product(\n",
    "        range(-offset, height + offset), range(-offset, width + offset)\n",
    "    ):\n",
    "        square = [\n",
    "            (row - 1, col - 1),\n",
    "            (row - 1, col),\n",
    "            (row - 1, col + 1),\n",
    "            (row, col - 1),\n",
    "            (row, col),\n",
    "            (row, col + 1),\n",
    "            (row + 1, col - 1),\n",
    "            (row + 1, col),\n",
    "            (row + 1, col + 1),\n",
    "        ]\n",
    "\n",
    "        idx = \"\"\n",
    "        for pixel_row, pixel_col in square:\n",
    "            color = colors[(pixel_row, pixel_col)]\n",
    "            idx += str(int(color))\n",
    "\n",
    "        new_color = algo[int(idx, base=2)]\n",
    "        new_colors[(row, col)] = new_color == LIGHT\n",
    "\n",
    "    colors = new_colors"
   ]
  },
  {
   "cell_type": "code",
   "execution_count": 6,
   "metadata": {
    "execution": {
     "iopub.execute_input": "2024-11-06T08:49:05.758620Z",
     "iopub.status.busy": "2024-11-06T08:49:05.758620Z",
     "iopub.status.idle": "2024-11-06T08:49:05.771655Z",
     "shell.execute_reply": "2024-11-06T08:49:05.771655Z",
     "shell.execute_reply.started": "2024-11-06T08:49:05.758620Z"
    }
   },
   "outputs": [
    {
     "data": {
      "text/plain": [
       "5203"
      ]
     },
     "execution_count": 6,
     "metadata": {},
     "output_type": "execute_result"
    }
   ],
   "source": [
    "sum(\n",
    "    [\n",
    "        color\n",
    "        for (row, col), color in colors.items()\n",
    "        if row in range(-offset // 2, height + offset // 2)\n",
    "        and col in range(-offset // 2, width + offset // 2)\n",
    "    ]\n",
    ")"
   ]
  },
  {
   "cell_type": "markdown",
   "metadata": {},
   "source": [
    "## Part 2"
   ]
  },
  {
   "cell_type": "code",
   "execution_count": 7,
   "metadata": {
    "execution": {
     "iopub.execute_input": "2024-11-06T08:49:05.772728Z",
     "iopub.status.busy": "2024-11-06T08:49:05.772728Z",
     "iopub.status.idle": "2024-11-06T08:49:44.956480Z",
     "shell.execute_reply": "2024-11-06T08:49:44.956480Z",
     "shell.execute_reply.started": "2024-11-06T08:49:05.772728Z"
    },
    "scrolled": true
   },
   "outputs": [],
   "source": [
    "enhance = 50\n",
    "offset = enhance * 2\n",
    "\n",
    "colors = COLORS.copy()\n",
    "\n",
    "for i in range(enhance):\n",
    "    new_colors = defaultdict(int)\n",
    "\n",
    "    for row, col in product(\n",
    "        range(-offset, height + offset), range(-offset, width + offset)\n",
    "    ):\n",
    "        square = [\n",
    "            (row - 1, col - 1),\n",
    "            (row - 1, col),\n",
    "            (row - 1, col + 1),\n",
    "            (row, col - 1),\n",
    "            (row, col),\n",
    "            (row, col + 1),\n",
    "            (row + 1, col - 1),\n",
    "            (row + 1, col),\n",
    "            (row + 1, col + 1),\n",
    "        ]\n",
    "\n",
    "        idx = \"\"\n",
    "        for pixel_row, pixel_col in square:\n",
    "            color = colors[(pixel_row, pixel_col)]\n",
    "            idx += str(int(color))\n",
    "\n",
    "        new_color = algo[int(idx, base=2)]\n",
    "        new_colors[(row, col)] = new_color == LIGHT\n",
    "\n",
    "    colors = new_colors"
   ]
  },
  {
   "cell_type": "code",
   "execution_count": 8,
   "metadata": {
    "execution": {
     "iopub.execute_input": "2024-11-06T08:49:44.956480Z",
     "iopub.status.busy": "2024-11-06T08:49:44.956480Z",
     "iopub.status.idle": "2024-11-06T08:49:45.054632Z",
     "shell.execute_reply": "2024-11-06T08:49:45.053276Z",
     "shell.execute_reply.started": "2024-11-06T08:49:44.956480Z"
    }
   },
   "outputs": [
    {
     "data": {
      "text/plain": [
       "18806"
      ]
     },
     "execution_count": 8,
     "metadata": {},
     "output_type": "execute_result"
    }
   ],
   "source": [
    "sum(\n",
    "    [\n",
    "        color\n",
    "        for (row, col), color in colors.items()\n",
    "        if row in range(-offset // 2, height + offset // 2)\n",
    "        and col in range(-offset // 2, width + offset // 2)\n",
    "    ]\n",
    ")"
   ]
  }
 ],
 "metadata": {
  "kernelspec": {
   "display_name": "Python 3 (ipykernel)",
   "language": "python",
   "name": "python3"
  },
  "language_info": {
   "codemirror_mode": {
    "name": "ipython",
    "version": 3
   },
   "file_extension": ".py",
   "mimetype": "text/x-python",
   "name": "python",
   "nbconvert_exporter": "python",
   "pygments_lexer": "ipython3",
   "version": "3.11.4"
  }
 },
 "nbformat": 4,
 "nbformat_minor": 4
}
