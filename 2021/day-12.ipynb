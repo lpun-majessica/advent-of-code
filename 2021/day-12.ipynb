{
 "cells": [
  {
   "cell_type": "markdown",
   "metadata": {},
   "source": [
    "[Advent of Code - Day 12](https://adventofcode.com/2021/day/12)"
   ]
  },
  {
   "cell_type": "markdown",
   "metadata": {},
   "source": [
    "# Import input"
   ]
  },
  {
   "cell_type": "code",
   "execution_count": 1,
   "metadata": {
    "execution": {
     "iopub.execute_input": "2024-10-17T10:23:36.713513Z",
     "iopub.status.busy": "2024-10-17T10:23:36.713513Z",
     "iopub.status.idle": "2024-10-17T10:23:37.936320Z",
     "shell.execute_reply": "2024-10-17T10:23:37.935287Z",
     "shell.execute_reply.started": "2024-10-17T10:23:36.713513Z"
    }
   },
   "outputs": [],
   "source": [
    "import sys\n",
    "from collections import defaultdict\n",
    "\n",
    "sys.path.insert(0, \"../\")\n",
    "from utils import puzzle\n",
    "\n",
    "P = puzzle.Puzzle(year=\"2021\", day=\"12\")\n",
"INPUT = P.load_input()"
   ]
  },
  {
   "cell_type": "code",
   "execution_count": 2,
   "metadata": {
    "execution": {
     "iopub.execute_input": "2024-10-17T10:23:37.936320Z",
     "iopub.status.busy": "2024-10-17T10:23:37.936320Z",
     "iopub.status.idle": "2024-10-17T10:23:37.956789Z",
     "shell.execute_reply": "2024-10-17T10:23:37.956789Z",
     "shell.execute_reply.started": "2024-10-17T10:23:37.936320Z"
    }
   },
   "outputs": [
    {
     "data": {
      "text/plain": [
       "['zs-WO', 'zs-QJ', 'WO-zt', 'zs-DP', 'WO-end']"
      ]
     },
     "execution_count": 2,
     "metadata": {},
     "output_type": "execute_result"
    }
   ],
   "source": [
    "INPUT[:5]"
   ]
  },
  {
   "cell_type": "markdown",
   "metadata": {},
   "source": [
    "# Solulu"
   ]
  },
  {
   "cell_type": "code",
   "execution_count": 3,
   "metadata": {
    "execution": {
     "iopub.execute_input": "2024-10-17T10:23:37.959918Z",
     "iopub.status.busy": "2024-10-17T10:23:37.958903Z",
     "iopub.status.idle": "2024-10-17T10:23:37.984182Z",
     "shell.execute_reply": "2024-10-17T10:23:37.982665Z",
     "shell.execute_reply.started": "2024-10-17T10:23:37.959918Z"
    }
   },
   "outputs": [],
   "source": [
    "cave = defaultdict(set)\n",
    "for line in INPUT:\n",
    "    enter, exit = line.split(\"-\")\n",
    "    cave[enter].add(exit)\n",
    "    cave[exit].add(enter)"
   ]
  },
  {
   "cell_type": "code",
   "execution_count": 4,
   "metadata": {
    "execution": {
     "iopub.execute_input": "2024-10-17T10:23:37.984880Z",
     "iopub.status.busy": "2024-10-17T10:23:37.984880Z",
     "iopub.status.idle": "2024-10-17T10:23:37.994136Z",
     "shell.execute_reply": "2024-10-17T10:23:37.992926Z",
     "shell.execute_reply.started": "2024-10-17T10:23:37.984880Z"
    }
   },
   "outputs": [],
   "source": [
    "start, end = \"start\", \"end\""
   ]
  },
  {
   "cell_type": "markdown",
   "metadata": {},
   "source": [
    "## Part 1"
   ]
  },
  {
   "cell_type": "code",
   "execution_count": 5,
   "metadata": {
    "execution": {
     "iopub.execute_input": "2024-10-17T10:23:37.994136Z",
     "iopub.status.busy": "2024-10-17T10:23:37.994136Z",
     "iopub.status.idle": "2024-10-17T10:23:38.118497Z",
     "shell.execute_reply": "2024-10-17T10:23:38.118497Z",
     "shell.execute_reply.started": "2024-10-17T10:23:37.994136Z"
    }
   },
   "outputs": [
    {
     "data": {
      "text/plain": [
       "3738"
      ]
     },
     "execution_count": 5,
     "metadata": {},
     "output_type": "execute_result"
    }
   ],
   "source": [
    "queue = [[start]]\n",
    "paths = list()\n",
    "\n",
    "while queue:\n",
    "    path = queue.pop(0)\n",
    "    current_position = path[-1]\n",
    "    if current_position == end:\n",
    "        paths.append(path)\n",
    "    else:\n",
    "        for exit in cave[current_position]:\n",
    "            if exit == exit.lower() and exit in path:\n",
    "                continue\n",
    "            queue.append(path + [exit])\n",
    "\n",
    "len(paths)"
   ]
  },
  {
   "cell_type": "markdown",
   "metadata": {},
   "source": [
    "## Part 2"
   ]
  },
  {
   "cell_type": "code",
   "execution_count": 6,
   "metadata": {
    "execution": {
     "iopub.execute_input": "2024-10-17T10:23:38.118497Z",
     "iopub.status.busy": "2024-10-17T10:23:38.118497Z",
     "iopub.status.idle": "2024-10-17T10:23:59.206361Z",
     "shell.execute_reply": "2024-10-17T10:23:59.206361Z",
     "shell.execute_reply.started": "2024-10-17T10:23:38.118497Z"
    }
   },
   "outputs": [
    {
     "data": {
      "text/plain": [
       "120506"
      ]
     },
     "execution_count": 6,
     "metadata": {},
     "output_type": "execute_result"
    }
   ],
   "source": [
    "queue = [[[start], None]]\n",
    "paths = list()\n",
    "\n",
    "while queue:\n",
    "    path, small = queue.pop(0)\n",
    "    current_position = path[-1]\n",
    "    if current_position == end:\n",
    "        paths.append(path)\n",
    "    else:\n",
    "        for exit in cave[current_position]:\n",
    "            if exit == start:\n",
    "                continue\n",
    "\n",
    "            new_small = small\n",
    "            if exit == exit.lower() and exit in path:\n",
    "                if small:\n",
    "                    continue\n",
    "                else:\n",
    "                    new_small = True\n",
    "            queue.append([path + [exit], new_small])\n",
    "\n",
    "len(paths)"
   ]
  }
 ],
 "metadata": {
  "kernelspec": {
   "display_name": "Python 3 (ipykernel)",
   "language": "python",
   "name": "python3"
  },
  "language_info": {
   "codemirror_mode": {
    "name": "ipython",
    "version": 3
   },
   "file_extension": ".py",
   "mimetype": "text/x-python",
   "name": "python",
   "nbconvert_exporter": "python",
   "pygments_lexer": "ipython3",
   "version": "3.11.4"
  }
 },
 "nbformat": 4,
 "nbformat_minor": 4
}
