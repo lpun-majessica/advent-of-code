{
 "cells": [
  {
   "cell_type": "markdown",
   "metadata": {},
   "source": [
    "[Advent of Code - Day 15](https://adventofcode.com/2021/day/15)"
   ]
  },
  {
   "cell_type": "markdown",
   "metadata": {},
   "source": [
    "# Import input"
   ]
  },
  {
   "cell_type": "code",
   "execution_count": 1,
   "metadata": {
    "execution": {
     "iopub.execute_input": "2024-10-28T08:44:28.498964Z",
     "iopub.status.busy": "2024-10-28T08:44:28.498964Z",
     "iopub.status.idle": "2024-10-28T08:44:30.803772Z",
     "shell.execute_reply": "2024-10-28T08:44:30.803772Z",
     "shell.execute_reply.started": "2024-10-28T08:44:28.498964Z"
    }
   },
   "outputs": [],
   "source": [
    "import sys\n",
    "import numpy as np\n",
    "from heapq import heappush, heappop\n",
    "\n",
    "sys.path.insert(0, \"../\")\n",
    "from utils import aoc_input as inp\n",
    "\n",
    "in_ = inp.download_input(year=\"2021\", day=\"15\")"
   ]
  },
  {
   "cell_type": "code",
   "execution_count": 2,
   "metadata": {
    "execution": {
     "iopub.execute_input": "2024-10-28T08:44:30.808424Z",
     "iopub.status.busy": "2024-10-28T08:44:30.803772Z",
     "iopub.status.idle": "2024-10-28T08:44:30.826762Z",
     "shell.execute_reply": "2024-10-28T08:44:30.825201Z",
     "shell.execute_reply.started": "2024-10-28T08:44:30.808424Z"
    }
   },
   "outputs": [
    {
     "data": {
      "text/plain": [
       "['6489887186259823155119378351872148719812918213519649577918412241959623221389974192429139298912991367',\n",
       " '3859891261917894749518659872199265294116953513169391165342899913878588561865553734597561693917577259',\n",
       " '7821697449796196228941887781377133998193483644892699199569294366179448944296919898443894894653982299',\n",
       " '4521784638899152252884535888651941499199556787174181866459996191939865591888468793671399848719386874',\n",
       " '9191996931799877154649198443239834219617959491499995891819688991189512152374148611392199689771321748']"
      ]
     },
     "execution_count": 2,
     "metadata": {},
     "output_type": "execute_result"
    }
   ],
   "source": [
    "in_[:5]"
   ]
  },
  {
   "cell_type": "markdown",
   "metadata": {},
   "source": [
    "# Solulu"
   ]
  },
  {
   "cell_type": "code",
   "execution_count": 3,
   "metadata": {
    "execution": {
     "iopub.execute_input": "2024-10-28T08:44:30.829697Z",
     "iopub.status.busy": "2024-10-28T08:44:30.828331Z",
     "iopub.status.idle": "2024-10-28T08:44:30.855007Z",
     "shell.execute_reply": "2024-10-28T08:44:30.855007Z",
     "shell.execute_reply.started": "2024-10-28T08:44:30.829697Z"
    }
   },
   "outputs": [],
   "source": [
    "def solve(part: int) -> int:\n",
    "    multiply = 0 if part == 1 else 5\n",
    "    cave = create_cave(multiply)\n",
    "    height, width = len(cave), len(cave[0])\n",
    "\n",
    "    start, end = (0, 0), (height - 1, width - 1)\n",
    "\n",
    "    queue = [(0, start)]\n",
    "    visited = set()\n",
    "\n",
    "    while True:\n",
    "        risk, (row, col) = heappop(queue)\n",
    "        neighbors = [(row - 1, col), (row + 1, col), (row, col - 1), (row, col + 1)]\n",
    "\n",
    "        if (row, col) == end:\n",
    "            break\n",
    "        elif (row, col) in visited:\n",
    "            continue\n",
    "\n",
    "        visited.add((row, col))\n",
    "        for rn, cn in neighbors:\n",
    "            if rn not in range(height) or cn not in range(width):\n",
    "                continue\n",
    "            heappush(queue, (risk + cave[rn][cn], (rn, cn)))\n",
    "\n",
    "    return risk\n",
    "\n",
    "\n",
    "def create_cave(multiply: int = 0, inp=in_) -> list:\n",
    "    cave = [list(map(int, line)) for line in in_]\n",
    "\n",
    "    if not multiply:\n",
    "        return cave\n",
    "\n",
    "    tile = np.array(cave)\n",
    "    row = np.array(cave)\n",
    "\n",
    "    for i in range(1, multiply):\n",
    "        new_cave = tile + i\n",
    "        new_cave = np.where(new_cave >= 10, new_cave % 9, new_cave)\n",
    "        row = np.append(row, new_cave, axis=1)\n",
    "\n",
    "    real_cave = np.array(row)\n",
    "\n",
    "    for i in range(1, multiply):\n",
    "        new_cave = row + i\n",
    "        new_cave = np.where(new_cave >= 10, new_cave % 9, new_cave)\n",
    "        real_cave = np.append(real_cave, new_cave, axis=0)\n",
    "\n",
    "    return real_cave.tolist()"
   ]
  },
  {
   "cell_type": "markdown",
   "metadata": {},
   "source": [
    "## Part 1"
   ]
  },
  {
   "cell_type": "code",
   "execution_count": 4,
   "metadata": {
    "execution": {
     "iopub.execute_input": "2024-10-28T08:44:30.855007Z",
     "iopub.status.busy": "2024-10-28T08:44:30.855007Z",
     "iopub.status.idle": "2024-10-28T08:44:30.941135Z",
     "shell.execute_reply": "2024-10-28T08:44:30.941135Z",
     "shell.execute_reply.started": "2024-10-28T08:44:30.855007Z"
    }
   },
   "outputs": [
    {
     "data": {
      "text/plain": [
       "609"
      ]
     },
     "execution_count": 4,
     "metadata": {},
     "output_type": "execute_result"
    }
   ],
   "source": [
    "solve(part=1)"
   ]
  },
  {
   "cell_type": "markdown",
   "metadata": {},
   "source": [
    "## Part 2"
   ]
  },
  {
   "cell_type": "code",
   "execution_count": 5,
   "metadata": {
    "execution": {
     "iopub.execute_input": "2024-10-28T08:44:30.942702Z",
     "iopub.status.busy": "2024-10-28T08:44:30.942702Z",
     "iopub.status.idle": "2024-10-28T08:44:33.393696Z",
     "shell.execute_reply": "2024-10-28T08:44:33.393696Z",
     "shell.execute_reply.started": "2024-10-28T08:44:30.942702Z"
    }
   },
   "outputs": [
    {
     "data": {
      "text/plain": [
       "2925"
      ]
     },
     "execution_count": 5,
     "metadata": {},
     "output_type": "execute_result"
    }
   ],
   "source": [
    "solve(part=2)"
   ]
  }
 ],
 "metadata": {
  "kernelspec": {
   "display_name": "Python 3 (ipykernel)",
   "language": "python",
   "name": "python3"
  },
  "language_info": {
   "codemirror_mode": {
    "name": "ipython",
    "version": 3
   },
   "file_extension": ".py",
   "mimetype": "text/x-python",
   "name": "python",
   "nbconvert_exporter": "python",
   "pygments_lexer": "ipython3",
   "version": "3.11.4"
  }
 },
 "nbformat": 4,
 "nbformat_minor": 4
}
