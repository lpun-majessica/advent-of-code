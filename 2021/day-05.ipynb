{
 "cells": [
  {
   "cell_type": "markdown",
   "metadata": {},
   "source": [
    "[Advent of Code - Day 05](https://adventofcode.com/2021/day/5)"
   ]
  },
  {
   "cell_type": "markdown",
   "metadata": {},
   "source": [
    "# Import input"
   ]
  },
  {
   "cell_type": "code",
   "execution_count": 1,
   "metadata": {
    "execution": {
     "iopub.execute_input": "2024-10-08T11:12:27.220793Z",
     "iopub.status.busy": "2024-10-08T11:12:27.220793Z",
     "iopub.status.idle": "2024-10-08T11:12:28.304971Z",
     "shell.execute_reply": "2024-10-08T11:12:28.303456Z",
     "shell.execute_reply.started": "2024-10-08T11:12:27.220793Z"
    }
   },
   "outputs": [],
   "source": [
    "import sys\n",
    "\n",
    "sys.path.insert(0, \"../\")\n",
    "from utils import puzzle\n",
    "\n",
    "P = puzzle.Puzzle(year=\"2021\", day=\"05\")\n",
"INPUT = P.load_input()"
   ]
  },
  {
   "cell_type": "code",
   "execution_count": 2,
   "metadata": {
    "execution": {
     "iopub.execute_input": "2024-10-08T11:12:28.304971Z",
     "iopub.status.busy": "2024-10-08T11:12:28.304971Z",
     "iopub.status.idle": "2024-10-08T11:12:28.323909Z",
     "shell.execute_reply": "2024-10-08T11:12:28.322764Z",
     "shell.execute_reply.started": "2024-10-08T11:12:28.304971Z"
    }
   },
   "outputs": [
    {
     "data": {
      "text/plain": [
       "['609,916 -> 60,367',\n",
       " '349,494 -> 682,494',\n",
       " '75,370 -> 397,370',\n",
       " '55,623 -> 55,183',\n",
       " '296,865 -> 296,235']"
      ]
     },
     "execution_count": 2,
     "metadata": {},
     "output_type": "execute_result"
    }
   ],
   "source": [
    "INPUT[:5]"
   ]
  },
  {
   "cell_type": "markdown",
   "metadata": {},
   "source": [
    "# Solulu"
   ]
  },
  {
   "cell_type": "markdown",
   "metadata": {},
   "source": [
    "## Part 1"
   ]
  },
  {
   "cell_type": "code",
   "execution_count": 3,
   "metadata": {
    "execution": {
     "iopub.execute_input": "2024-10-08T11:12:28.325886Z",
     "iopub.status.busy": "2024-10-08T11:12:28.324882Z",
     "iopub.status.idle": "2024-10-08T11:12:28.412980Z",
     "shell.execute_reply": "2024-10-08T11:12:28.412980Z",
     "shell.execute_reply.started": "2024-10-08T11:12:28.325886Z"
    }
   },
   "outputs": [
    {
     "data": {
      "text/plain": [
       "6687"
      ]
     },
     "execution_count": 3,
     "metadata": {},
     "output_type": "execute_result"
    }
   ],
   "source": [
    "coords = set()\n",
    "overlap = set()\n",
    "\n",
    "for line in INPUT:\n",
    "    coord1, coord2 = line.split(\" -> \")\n",
    "    x1, y1 = map(int, coord1.split(\",\"))\n",
    "    x2, y2 = map(int, coord2.split(\",\"))\n",
    "\n",
    "    if x1 == x2:\n",
    "        x = x1\n",
    "        start = y1 if y1 < y2 else y2\n",
    "        end = y2 if y1 < y2 else y1\n",
    "\n",
    "        for y in range(start, end + 1):\n",
    "            if (x, y) in coords:\n",
    "                overlap.add((x, y))\n",
    "            else:\n",
    "                coords.add((x, y))\n",
    "\n",
    "    elif y1 == y2:\n",
    "        y = y1\n",
    "        start = x1 if x1 < x2 else x2\n",
    "        end = x2 if x1 < x2 else x1\n",
    "\n",
    "        for x in range(start, end + 1):\n",
    "            if (x, y) in coords:\n",
    "                overlap.add((x, y))\n",
    "            else:\n",
    "                coords.add((x, y))\n",
    "\n",
    "len(overlap)"
   ]
  },
  {
   "cell_type": "markdown",
   "metadata": {},
   "source": [
    "## Part 2"
   ]
  },
  {
   "cell_type": "code",
   "execution_count": 4,
   "metadata": {
    "execution": {
     "iopub.execute_input": "2024-10-08T11:12:28.414631Z",
     "iopub.status.busy": "2024-10-08T11:12:28.414631Z",
     "iopub.status.idle": "2024-10-08T11:12:28.526828Z",
     "shell.execute_reply": "2024-10-08T11:12:28.526828Z",
     "shell.execute_reply.started": "2024-10-08T11:12:28.414631Z"
    }
   },
   "outputs": [
    {
     "data": {
      "text/plain": [
       "19851"
      ]
     },
     "execution_count": 4,
     "metadata": {},
     "output_type": "execute_result"
    }
   ],
   "source": [
    "coords = set()\n",
    "overlap = set()\n",
    "\n",
    "for line in INPUT:\n",
    "    coord1, coord2 = line.split(\" -> \")\n",
    "    x1, y1 = map(int, coord1.split(\",\"))\n",
    "    x2, y2 = map(int, coord2.split(\",\"))\n",
    "\n",
    "    if x1 == x2:\n",
    "        x = x1\n",
    "        start = y1 if y1 < y2 else y2\n",
    "        end = y2 if y1 < y2 else y1\n",
    "\n",
    "        for y in range(start, end + 1):\n",
    "            if (x, y) in coords:\n",
    "                overlap.add((x, y))\n",
    "            else:\n",
    "                coords.add((x, y))\n",
    "\n",
    "    elif y1 == y2:\n",
    "        y = y1\n",
    "        start = x1 if x1 < x2 else x2\n",
    "        end = x2 if x1 < x2 else x1\n",
    "\n",
    "        for x in range(start, end + 1):\n",
    "            if (x, y) in coords:\n",
    "                overlap.add((x, y))\n",
    "            else:\n",
    "                coords.add((x, y))\n",
    "\n",
    "    elif (x1 - x2) * (y1 - y2) > 0:\n",
    "        x, y = x1, y1\n",
    "        if y1 < y2:\n",
    "            while y <= y2:\n",
    "                if (x, y) in coords:\n",
    "                    overlap.add((x, y))\n",
    "                else:\n",
    "                    coords.add((x, y))\n",
    "                x += 1\n",
    "                y += 1\n",
    "\n",
    "        elif y1 > y2:\n",
    "            while y >= y2:\n",
    "                if (x, y) in coords:\n",
    "                    overlap.add((x, y))\n",
    "                else:\n",
    "                    coords.add((x, y))\n",
    "                x -= 1\n",
    "                y -= 1\n",
    "\n",
    "    elif (x1 - x2) * (y1 - y2) < 0:\n",
    "        x, y = x1, y1\n",
    "        if y1 < y2:\n",
    "            while y <= y2:\n",
    "                if (x, y) in coords:\n",
    "                    overlap.add((x, y))\n",
    "                else:\n",
    "                    coords.add((x, y))\n",
    "                x -= 1\n",
    "                y += 1\n",
    "\n",
    "        elif y1 > y2:\n",
    "            while y >= y2:\n",
    "                if (x, y) in coords:\n",
    "                    overlap.add((x, y))\n",
    "                else:\n",
    "                    coords.add((x, y))\n",
    "                x += 1\n",
    "                y -= 1\n",
    "\n",
    "len(overlap)"
   ]
  }
 ],
 "metadata": {
  "kernelspec": {
   "display_name": "Python 3 (ipykernel)",
   "language": "python",
   "name": "python3"
  },
  "language_info": {
   "codemirror_mode": {
    "name": "ipython",
    "version": 3
   },
   "file_extension": ".py",
   "mimetype": "text/x-python",
   "name": "python",
   "nbconvert_exporter": "python",
   "pygments_lexer": "ipython3",
   "version": "3.11.4"
  }
 },
 "nbformat": 4,
 "nbformat_minor": 4
}
