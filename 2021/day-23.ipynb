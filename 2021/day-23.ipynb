{
 "cells": [
  {
   "cell_type": "markdown",
   "metadata": {},
   "source": [
    "[Advent of Code - Day 23](https://adventofcode.com/2021/day/23)"
   ]
  },
  {
   "cell_type": "markdown",
   "metadata": {},
   "source": [
    "# Import input"
   ]
  },
  {
   "cell_type": "code",
   "execution_count": 1,
   "metadata": {
    "execution": {
     "iopub.execute_input": "2024-11-08T08:14:05.238663Z",
     "iopub.status.busy": "2024-11-08T08:14:05.238663Z",
     "iopub.status.idle": "2024-11-08T08:14:06.250929Z",
     "shell.execute_reply": "2024-11-08T08:14:06.250929Z",
     "shell.execute_reply.started": "2024-11-08T08:14:05.238663Z"
    }
   },
   "outputs": [],
   "source": [
    "import sys\n",
    "\n",
    "sys.path.insert(0, \"../\")\n",
    "from utils import puzzle\n",
    "\n",
    "P = puzzle.Puzzle(year=\"2021\", day=\"23\")\n",
"INPUT = P.load_input()"
   ]
  },
  {
   "cell_type": "markdown",
   "metadata": {},
   "source": [
    "# Solulu"
   ]
  },
  {
   "cell_type": "markdown",
   "metadata": {},
   "source": [
    "## Part 1"
   ]
  },
  {
   "cell_type": "code",
   "execution_count": 2,
   "metadata": {
    "execution": {
     "iopub.execute_input": "2024-11-08T08:14:06.250929Z",
     "iopub.status.busy": "2024-11-08T08:14:06.250929Z",
     "iopub.status.idle": "2024-11-08T08:14:06.271279Z",
     "shell.execute_reply": "2024-11-08T08:14:06.270272Z",
     "shell.execute_reply.started": "2024-11-08T08:14:06.250929Z"
    }
   },
   "outputs": [
    {
     "data": {
      "text/plain": [
       "14627"
      ]
     },
     "execution_count": 2,
     "metadata": {},
     "output_type": "execute_result"
    }
   ],
   "source": [
    "A, B, C, D = 17, 11, 15, 13\n",
    "\n",
    "A + B * 10 + C * 100 + D * 1_000"
   ]
  },
  {
   "cell_type": "markdown",
   "metadata": {
    "jp-MarkdownHeadingCollapsed": true
   },
   "source": [
    "## Part 2"
   ]
  }
 ],
 "metadata": {
  "kernelspec": {
   "display_name": "Python 3 (ipykernel)",
   "language": "python",
   "name": "python3"
  },
  "language_info": {
   "codemirror_mode": {
    "name": "ipython",
    "version": 3
   },
   "file_extension": ".py",
   "mimetype": "text/x-python",
   "name": "python",
   "nbconvert_exporter": "python",
   "pygments_lexer": "ipython3",
   "version": "3.11.4"
  }
 },
 "nbformat": 4,
 "nbformat_minor": 4
}
