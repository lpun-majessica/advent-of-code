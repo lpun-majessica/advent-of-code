{
 "cells": [
  {
   "cell_type": "markdown",
   "metadata": {},
   "source": [
    "[Advent of Code - Day 01](https://adventofcode.com/2021/day/1)"
   ]
  },
  {
   "cell_type": "markdown",
   "metadata": {},
   "source": [
    "# Import input"
   ]
  },
  {
   "cell_type": "code",
   "execution_count": 1,
   "metadata": {
    "execution": {
     "iopub.execute_input": "2024-10-07T09:56:45.294849Z",
     "iopub.status.busy": "2024-10-07T09:56:45.294849Z",
     "iopub.status.idle": "2024-10-07T09:56:46.613417Z",
     "shell.execute_reply": "2024-10-07T09:56:46.613417Z",
     "shell.execute_reply.started": "2024-10-07T09:56:45.294849Z"
    }
   },
   "outputs": [],
   "source": [
    "import sys\n",
    "\n",
    "sys.path.insert(0, \"../\")\n",
    "from utils import aoc_input as inp\n",
    "\n",
    "INPUT = inp.download_input(year=\"2021\", day=\"01\")"
   ]
  },
  {
   "cell_type": "code",
   "execution_count": 2,
   "metadata": {
    "execution": {
     "iopub.execute_input": "2024-10-07T09:56:46.613417Z",
     "iopub.status.busy": "2024-10-07T09:56:46.613417Z",
     "iopub.status.idle": "2024-10-07T09:56:46.638144Z",
     "shell.execute_reply": "2024-10-07T09:56:46.634404Z",
     "shell.execute_reply.started": "2024-10-07T09:56:46.613417Z"
    }
   },
   "outputs": [
    {
     "data": {
      "text/plain": [
       "['188', '192', '193', '194', '192']"
      ]
     },
     "execution_count": 2,
     "metadata": {},
     "output_type": "execute_result"
    }
   ],
   "source": [
    "INPUT[:5]"
   ]
  },
  {
   "cell_type": "markdown",
   "metadata": {},
   "source": [
    "# Solulu"
   ]
  },
  {
   "cell_type": "code",
   "execution_count": 3,
   "metadata": {
    "execution": {
     "iopub.execute_input": "2024-10-07T09:56:46.638144Z",
     "iopub.status.busy": "2024-10-07T09:56:46.638144Z",
     "iopub.status.idle": "2024-10-07T09:56:46.663377Z",
     "shell.execute_reply": "2024-10-07T09:56:46.663377Z",
     "shell.execute_reply.started": "2024-10-07T09:56:46.638144Z"
    }
   },
   "outputs": [],
   "source": [
    "depths = list(map(int, INPUT))"
   ]
  },
  {
   "cell_type": "code",
   "execution_count": 4,
   "metadata": {
    "execution": {
     "iopub.execute_input": "2024-10-07T09:56:46.665387Z",
     "iopub.status.busy": "2024-10-07T09:56:46.665387Z",
     "iopub.status.idle": "2024-10-07T09:56:46.681180Z",
     "shell.execute_reply": "2024-10-07T09:56:46.681180Z",
     "shell.execute_reply.started": "2024-10-07T09:56:46.665387Z"
    }
   },
   "outputs": [],
   "source": [
    "def solve(window: int) -> int:\n",
    "    res = 0\n",
    "    for i in range(window, len(depths)):\n",
    "        curr = sum(depths[i - (window - 1) : i + 1])\n",
    "        prev = sum(depths[i - window : i])\n",
    "        if curr > prev:\n",
    "            res += 1\n",
    "\n",
    "    return res"
   ]
  },
  {
   "cell_type": "markdown",
   "metadata": {},
   "source": [
    "## Part 1"
   ]
  },
  {
   "cell_type": "code",
   "execution_count": 5,
   "metadata": {
    "execution": {
     "iopub.execute_input": "2024-10-07T09:56:46.690714Z",
     "iopub.status.busy": "2024-10-07T09:56:46.689947Z",
     "iopub.status.idle": "2024-10-07T09:56:46.712509Z",
     "shell.execute_reply": "2024-10-07T09:56:46.710500Z",
     "shell.execute_reply.started": "2024-10-07T09:56:46.690714Z"
    }
   },
   "outputs": [
    {
     "data": {
      "text/plain": [
       "1754"
      ]
     },
     "execution_count": 5,
     "metadata": {},
     "output_type": "execute_result"
    }
   ],
   "source": [
    "solve(window=1)"
   ]
  },
  {
   "cell_type": "markdown",
   "metadata": {},
   "source": [
    "## Part 2"
   ]
  },
  {
   "cell_type": "code",
   "execution_count": 6,
   "metadata": {
    "execution": {
     "iopub.execute_input": "2024-10-07T09:56:46.712509Z",
     "iopub.status.busy": "2024-10-07T09:56:46.712509Z",
     "iopub.status.idle": "2024-10-07T09:56:46.733722Z",
     "shell.execute_reply": "2024-10-07T09:56:46.732720Z",
     "shell.execute_reply.started": "2024-10-07T09:56:46.712509Z"
    }
   },
   "outputs": [
    {
     "data": {
      "text/plain": [
       "1789"
      ]
     },
     "execution_count": 6,
     "metadata": {},
     "output_type": "execute_result"
    }
   ],
   "source": [
    "solve(window=3)"
   ]
  }
 ],
 "metadata": {
  "kernelspec": {
   "display_name": "Python 3 (ipykernel)",
   "language": "python",
   "name": "python3"
  },
  "language_info": {
   "codemirror_mode": {
    "name": "ipython",
    "version": 3
   },
   "file_extension": ".py",
   "mimetype": "text/x-python",
   "name": "python",
   "nbconvert_exporter": "python",
   "pygments_lexer": "ipython3",
   "version": "3.11.4"
  }
 },
 "nbformat": 4,
 "nbformat_minor": 4
}
