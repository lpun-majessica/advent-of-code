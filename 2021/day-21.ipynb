{
 "cells": [
  {
   "cell_type": "markdown",
   "metadata": {},
   "source": [
    "[Advent of Code - Day 21](https://adventofcode.com/2021/day/21)"
   ]
  },
  {
   "cell_type": "markdown",
   "metadata": {},
   "source": [
    "# Import input"
   ]
  },
  {
   "cell_type": "code",
   "execution_count": 1,
   "metadata": {
    "execution": {
     "iopub.execute_input": "2024-11-06T10:43:06.325860Z",
     "iopub.status.busy": "2024-11-06T10:43:06.325860Z",
     "iopub.status.idle": "2024-11-06T10:43:07.310519Z",
     "shell.execute_reply": "2024-11-06T10:43:07.309476Z",
     "shell.execute_reply.started": "2024-11-06T10:43:06.325860Z"
    }
   },
   "outputs": [],
   "source": [
    "import sys\n",
    "from itertools import product\n",
    "\n",
    "sys.path.insert(0, \"../\")\n",
    "from utils import aoc_input as inp\n",
    "\n",
    "INPUT = inp.download_input(year=\"2021\", day=\"21\")"
   ]
  },
  {
   "cell_type": "markdown",
   "metadata": {},
   "source": [
    "# Solulu"
   ]
  },
  {
   "cell_type": "code",
   "execution_count": 2,
   "metadata": {
    "execution": {
     "iopub.execute_input": "2024-11-06T10:43:07.312487Z",
     "iopub.status.busy": "2024-11-06T10:43:07.312487Z",
     "iopub.status.idle": "2024-11-06T10:43:07.322372Z",
     "shell.execute_reply": "2024-11-06T10:43:07.321371Z",
     "shell.execute_reply.started": "2024-11-06T10:43:07.312487Z"
    }
   },
   "outputs": [],
   "source": [
    "p1 = int(INPUT[0][-1]) - 1\n",
    "p2 = int(INPUT[1][-1]) - 1\n",
    "\n",
    "positions = {1: p1, 2: p2}"
   ]
  },
  {
   "cell_type": "code",
   "execution_count": 3,
   "metadata": {
    "execution": {
     "iopub.execute_input": "2024-11-06T10:43:07.324132Z",
     "iopub.status.busy": "2024-11-06T10:43:07.324132Z",
     "iopub.status.idle": "2024-11-06T10:43:07.334641Z",
     "shell.execute_reply": "2024-11-06T10:43:07.334641Z",
     "shell.execute_reply.started": "2024-11-06T10:43:07.324132Z"
    }
   },
   "outputs": [],
   "source": [
    "track_spaces = 10\n",
    "rolls_per_player = 3"
   ]
  },
  {
   "cell_type": "markdown",
   "metadata": {},
   "source": [
    "## Part 1"
   ]
  },
  {
   "cell_type": "code",
   "execution_count": 4,
   "metadata": {
    "execution": {
     "iopub.execute_input": "2024-11-06T10:43:07.338348Z",
     "iopub.status.busy": "2024-11-06T10:43:07.337349Z",
     "iopub.status.idle": "2024-11-06T10:43:07.354852Z",
     "shell.execute_reply": "2024-11-06T10:43:07.353848Z",
     "shell.execute_reply.started": "2024-11-06T10:43:07.338348Z"
    }
   },
   "outputs": [
    {
     "data": {
      "text/plain": [
       "893700"
      ]
     },
     "execution_count": 4,
     "metadata": {},
     "output_type": "execute_result"
    }
   ],
   "source": [
    "wincon = 1_000\n",
    "sides = 100\n",
    "\n",
    "rolls = 0\n",
    "\n",
    "points = {1: 0, 2: 0}\n",
    "player = 2\n",
    "\n",
    "while points[player] < wincon:\n",
    "    player = sum(positions) - player\n",
    "\n",
    "    curr_side = (rolls % sides) + 1\n",
    "    moves = sum(range(curr_side, curr_side + rolls_per_player))\n",
    "    rolls += rolls_per_player\n",
    "\n",
    "    positions[player] = (positions[player] + moves) % track_spaces\n",
    "    points[player] += positions[player] + 1\n",
    "\n",
    "rolls * points[sum(positions) - player]"
   ]
  },
  {
   "cell_type": "markdown",
   "metadata": {},
   "source": [
    "## Part 2\n",
    "Ref: [jonathanpaulson](https://github.com/jonathanpaulson/AdventOfCode/blob/master/2021/21.py)"
   ]
  },
  {
   "cell_type": "code",
   "execution_count": 5,
   "metadata": {
    "execution": {
     "iopub.execute_input": "2024-11-06T10:43:07.356853Z",
     "iopub.status.busy": "2024-11-06T10:43:07.355851Z",
     "iopub.status.idle": "2024-11-06T10:43:07.604924Z",
     "shell.execute_reply": "2024-11-06T10:43:07.604359Z",
     "shell.execute_reply.started": "2024-11-06T10:43:07.356853Z"
    }
   },
   "outputs": [
    {
     "data": {
      "text/plain": [
       "568867175661958"
      ]
     },
     "execution_count": 5,
     "metadata": {},
     "output_type": "execute_result"
    }
   ],
   "source": [
    "wincon = 21\n",
    "sides = 3\n",
    "\n",
    "DP = {}\n",
    "universes = range(1, sides + 1)\n",
    "\n",
    "\n",
    "def count_win(p1, p2, s1, s2):\n",
    "    if s1 >= wincon:\n",
    "        return (1, 0)\n",
    "    if s2 >= wincon:\n",
    "        return (0, 1)\n",
    "    if (p1, p2, s1, s2) in DP:\n",
    "        return DP[(p1, p2, s1, s2)]\n",
    "    ans = (0, 0)\n",
    "\n",
    "    for d1, d2, d3 in product(universes, universes, universes):\n",
    "        new_p1 = (p1 + d1 + d2 + d3) % 10\n",
    "        new_s1 = s1 + new_p1 + 1\n",
    "\n",
    "        p2_wins, p1_wins = count_win(p2, new_p1, s2, new_s1)\n",
    "        ans = (ans[0] + p1_wins, ans[1] + p2_wins)\n",
    "\n",
    "    DP[(p1, p2, s1, s2)] = ans\n",
    "    return ans\n",
    "\n",
    "\n",
    "max(count_win(p1,p2, 0, 0))"
   ]
  }
 ],
 "metadata": {
  "kernelspec": {
   "display_name": "Python 3 (ipykernel)",
   "language": "python",
   "name": "python3"
  },
  "language_info": {
   "codemirror_mode": {
    "name": "ipython",
    "version": 3
   },
   "file_extension": ".py",
   "mimetype": "text/x-python",
   "name": "python",
   "nbconvert_exporter": "python",
   "pygments_lexer": "ipython3",
   "version": "3.11.4"
  }
 },
 "nbformat": 4,
 "nbformat_minor": 4
}
