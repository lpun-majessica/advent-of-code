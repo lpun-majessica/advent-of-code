{
 "cells": [
  {
   "cell_type": "markdown",
   "metadata": {},
   "source": [
    "[Advent of Code - Day 17](https://adventofcode.com/2021/day/17)"
   ]
  },
  {
   "cell_type": "markdown",
   "metadata": {},
   "source": [
    "# Import input"
   ]
  },
  {
   "cell_type": "code",
   "execution_count": 1,
   "metadata": {
    "execution": {
     "iopub.execute_input": "2024-10-29T11:10:55.502645Z",
     "iopub.status.busy": "2024-10-29T11:10:55.502645Z",
     "iopub.status.idle": "2024-10-29T11:10:56.569411Z",
     "shell.execute_reply": "2024-10-29T11:10:56.569411Z",
     "shell.execute_reply.started": "2024-10-29T11:10:55.502645Z"
    }
   },
   "outputs": [],
   "source": [
    "import sys\n",
    "from itertools import product\n",
    "\n",
    "sys.path.insert(0, \"../\")\n",
    "from utils import aoc_input as inp\n",
    "\n",
    "INPUT = inp.download_input(year=\"2021\", day=\"17\")[0]"
   ]
  },
  {
   "cell_type": "markdown",
   "metadata": {},
   "source": [
    "# Solulu\n",
    "\n",
    "Note from [3j0hn](https://www.reddit.com/r/adventofcode/comments/ri9kdq/comment/hphx7op/?utm_source=share&utm_medium=web3x&utm_name=web3xcss&utm_term=1&utm_content=share_button):\n",
    "> I used the observation that the y velocity will be the negative of it's initial velocity when it passes back below the x-axis, so it has to be just less than the bottom y-value of the target"
   ]
  },
  {
   "cell_type": "code",
   "execution_count": 2,
   "metadata": {
    "execution": {
     "iopub.execute_input": "2024-10-29T11:10:56.569411Z",
     "iopub.status.busy": "2024-10-29T11:10:56.569411Z",
     "iopub.status.idle": "2024-10-29T11:10:56.588946Z",
     "shell.execute_reply": "2024-10-29T11:10:56.588946Z",
     "shell.execute_reply.started": "2024-10-29T11:10:56.569411Z"
    }
   },
   "outputs": [],
   "source": [
    "x, y = INPUT.split()[2:]\n",
    "minx, maxx = map(int, x[2:-1].split(\"..\"))\n",
    "miny, maxy = map(int, y[2:].split(\"..\"))"
   ]
  },
  {
   "cell_type": "code",
   "execution_count": 3,
   "metadata": {
    "execution": {
     "iopub.execute_input": "2024-10-29T11:10:56.588946Z",
     "iopub.status.busy": "2024-10-29T11:10:56.588946Z",
     "iopub.status.idle": "2024-10-29T11:10:56.606595Z",
     "shell.execute_reply": "2024-10-29T11:10:56.606595Z",
     "shell.execute_reply.started": "2024-10-29T11:10:56.588946Z"
    }
   },
   "outputs": [],
   "source": [
    "vx_min = 0\n",
    "while True:\n",
    "    vx_min += 1\n",
    "    distx = vx_min * (vx_min + 1) // 2\n",
    "    if distx > minx:\n",
    "        break\n",
    "vx_max = maxx\n",
    "\n",
    "vy_min = miny\n",
    "vy_max = abs(miny) - 1"
   ]
  },
  {
   "cell_type": "markdown",
   "metadata": {},
   "source": [
    "## Part 1"
   ]
  },
  {
   "cell_type": "code",
   "execution_count": 4,
   "metadata": {
    "execution": {
     "iopub.execute_input": "2024-10-29T11:10:56.612609Z",
     "iopub.status.busy": "2024-10-29T11:10:56.612609Z",
     "iopub.status.idle": "2024-10-29T11:10:56.644964Z",
     "shell.execute_reply": "2024-10-29T11:10:56.644964Z",
     "shell.execute_reply.started": "2024-10-29T11:10:56.612609Z"
    }
   },
   "outputs": [
    {
     "data": {
      "text/plain": [
       "4753"
      ]
     },
     "execution_count": 4,
     "metadata": {},
     "output_type": "execute_result"
    }
   ],
   "source": [
    "max_height = vy_max * (vy_max + 1) // 2\n",
    "\n",
    "max_height"
   ]
  },
  {
   "cell_type": "markdown",
   "metadata": {},
   "source": [
    "## Part 2"
   ]
  },
  {
   "cell_type": "code",
   "execution_count": 5,
   "metadata": {
    "execution": {
     "iopub.execute_input": "2024-10-29T11:10:56.644964Z",
     "iopub.status.busy": "2024-10-29T11:10:56.644964Z",
     "iopub.status.idle": "2024-10-29T11:10:56.789032Z",
     "shell.execute_reply": "2024-10-29T11:10:56.789032Z",
     "shell.execute_reply.started": "2024-10-29T11:10:56.644964Z"
    }
   },
   "outputs": [
    {
     "data": {
      "text/plain": [
       "1546"
      ]
     },
     "execution_count": 5,
     "metadata": {},
     "output_type": "execute_result"
    }
   ],
   "source": [
    "velocities = list()\n",
    "\n",
    "for vx, vy in product(range(vx_min, vx_max + 1), range(vy_min, vy_max + 1)):\n",
    "    distx, disty = 0, 0\n",
    "    t = 0\n",
    "    while True:\n",
    "        distx += vx - t if vx > t else 0\n",
    "        disty += vy - t\n",
    "        t += 1\n",
    "\n",
    "        if distx in range(minx, maxx + 1) and disty in range(miny, maxy + 1):\n",
    "            velocities.append((vx, vy))\n",
    "            break\n",
    "        elif distx > maxx or disty < miny:\n",
    "            break\n",
    "\n",
    "len(velocities)"
   ]
  }
 ],
 "metadata": {
  "kernelspec": {
   "display_name": "Python 3 (ipykernel)",
   "language": "python",
   "name": "python3"
  },
  "language_info": {
   "codemirror_mode": {
    "name": "ipython",
    "version": 3
   },
   "file_extension": ".py",
   "mimetype": "text/x-python",
   "name": "python",
   "nbconvert_exporter": "python",
   "pygments_lexer": "ipython3",
   "version": "3.11.4"
  }
 },
 "nbformat": 4,
 "nbformat_minor": 4
}
