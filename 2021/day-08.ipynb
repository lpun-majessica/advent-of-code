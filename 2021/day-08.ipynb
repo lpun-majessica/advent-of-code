{
 "cells": [
  {
   "cell_type": "markdown",
   "metadata": {},
   "source": [
    "[Advent of Code - Day 08](https://adventofcode.com/2021/day/8)"
   ]
  },
  {
   "cell_type": "markdown",
   "metadata": {},
   "source": [
    "# Import input"
   ]
  },
  {
   "cell_type": "code",
   "execution_count": 1,
   "metadata": {
    "execution": {
     "iopub.execute_input": "2024-10-10T06:19:51.250750Z",
     "iopub.status.busy": "2024-10-10T06:19:51.250750Z",
     "iopub.status.idle": "2024-10-10T06:19:52.247402Z",
     "shell.execute_reply": "2024-10-10T06:19:52.245954Z",
     "shell.execute_reply.started": "2024-10-10T06:19:51.250750Z"
    }
   },
   "outputs": [],
   "source": [
    "import sys\n",
    "\n",
    "sys.path.insert(0, \"../\")\n",
    "from utils import aoc_input as inp\n",
    "\n",
    "in_ = inp.download_input(year=\"2021\", day=\"08\")"
   ]
  },
  {
   "cell_type": "code",
   "execution_count": 2,
   "metadata": {
    "execution": {
     "iopub.execute_input": "2024-10-10T06:19:52.247402Z",
     "iopub.status.busy": "2024-10-10T06:19:52.247402Z",
     "iopub.status.idle": "2024-10-10T06:19:52.264221Z",
     "shell.execute_reply": "2024-10-10T06:19:52.262764Z",
     "shell.execute_reply.started": "2024-10-10T06:19:52.247402Z"
    }
   },
   "outputs": [
    {
     "data": {
      "text/plain": [
       "['eadbcf faceb faecgd gdefabc adc ad adbf gfacbe bceda dcegb | gdfcae adc cedbfa dafb',\n",
       " 'ed acegbfd defb ead dbcfae dbeca caefdg bgecfa dabgc efacb | gfecab ed cdaegf de',\n",
       " 'fda dfbeg cegdab fa edfagcb acgde dagfe abcgdf ceaf dfecag | fgcead af caedgbf bdfeagc',\n",
       " 'fdae cebgfa df bdf ebcgdf bcdeafg cfbdae afebc fbadc cbgda | df cbgfae eadf bfd',\n",
       " 'facgb gdefabc decbfa cb cba cgfaeb gafec bgfad agcefd bcge | cfdage bc dbagfce gcbfae']"
      ]
     },
     "execution_count": 2,
     "metadata": {},
     "output_type": "execute_result"
    }
   ],
   "source": [
    "in_[:5]"
   ]
  },
  {
   "cell_type": "markdown",
   "metadata": {},
   "source": [
    "# Solulu"
   ]
  },
  {
   "cell_type": "markdown",
   "metadata": {},
   "source": [
    "## Part 1"
   ]
  },
  {
   "cell_type": "code",
   "execution_count": 3,
   "metadata": {
    "execution": {
     "iopub.execute_input": "2024-10-10T06:19:52.266428Z",
     "iopub.status.busy": "2024-10-10T06:19:52.266428Z",
     "iopub.status.idle": "2024-10-10T06:19:52.285231Z",
     "shell.execute_reply": "2024-10-10T06:19:52.285231Z",
     "shell.execute_reply.started": "2024-10-10T06:19:52.266428Z"
    }
   },
   "outputs": [
    {
     "data": {
      "text/plain": [
       "539"
      ]
     },
     "execution_count": 3,
     "metadata": {},
     "output_type": "execute_result"
    }
   ],
   "source": [
    "res = 0\n",
    "for line in in_:\n",
    "    i, o = line.split(\" | \")\n",
    "    o = o.split(\" \")\n",
    "    for digit in o:\n",
    "        if len(digit) in (2, 3, 4, 7):\n",
    "            res += 1\n",
    "\n",
    "res"
   ]
  },
  {
   "cell_type": "markdown",
   "metadata": {},
   "source": [
    "## Part 2"
   ]
  },
  {
   "cell_type": "code",
   "execution_count": 4,
   "metadata": {
    "execution": {
     "iopub.execute_input": "2024-10-10T06:19:52.285231Z",
     "iopub.status.busy": "2024-10-10T06:19:52.285231Z",
     "iopub.status.idle": "2024-10-10T06:19:52.299275Z",
     "shell.execute_reply": "2024-10-10T06:19:52.299275Z",
     "shell.execute_reply.started": "2024-10-10T06:19:52.285231Z"
    }
   },
   "outputs": [],
   "source": [
    "def decode(i: str) -> dict:\n",
    "    i = list(map(set, i.split()))\n",
    "    digits = dict()\n",
    "    unidentified = list()\n",
    "\n",
    "    for num in i:\n",
    "        if len(num) == 2:\n",
    "            digits[1] = num\n",
    "        elif len(num) == 4:\n",
    "            digits[4] = num\n",
    "        elif len(num) == 3:\n",
    "            digits[7] = num\n",
    "        elif len(num) == 7:\n",
    "            digits[8] = num\n",
    "        else:\n",
    "            unidentified.append(num)\n",
    "\n",
    "    bd = digits[4] - digits[1]\n",
    "    cf = digits[1]\n",
    "    eg = digits[8] - digits[7] - digits[4]\n",
    "\n",
    "    for num in unidentified:\n",
    "        if len(num & eg) == 2:\n",
    "            if len(num) == 5:\n",
    "                digits[2] = num\n",
    "            elif len(num & cf) == 2:\n",
    "                digits[0] = num\n",
    "            elif len(num & bd) == 2:\n",
    "                digits[6] = num\n",
    "        else:\n",
    "            if len(num) == 6:\n",
    "                digits[9] = num\n",
    "            elif len(num & cf) == 2:\n",
    "                digits[3] = num\n",
    "            elif len(num & bd) == 2:\n",
    "                digits[5] = num\n",
    "\n",
    "    return {tuple(sorted(lights)): num for num, lights in digits.items()}"
   ]
  },
  {
   "cell_type": "code",
   "execution_count": 5,
   "metadata": {
    "execution": {
     "iopub.execute_input": "2024-10-10T06:19:52.300985Z",
     "iopub.status.busy": "2024-10-10T06:19:52.300985Z",
     "iopub.status.idle": "2024-10-10T06:19:52.314219Z",
     "shell.execute_reply": "2024-10-10T06:19:52.314219Z",
     "shell.execute_reply.started": "2024-10-10T06:19:52.300985Z"
    }
   },
   "outputs": [
    {
     "data": {
      "text/plain": [
       "1084606"
      ]
     },
     "execution_count": 5,
     "metadata": {},
     "output_type": "execute_result"
    }
   ],
   "source": [
    "res = 0\n",
    "for line in in_:\n",
    "    i, o = line.split(\" | \")\n",
    "    o = list(map(set, o.split()))\n",
    "    digits = decode(i)\n",
    "    output_value = 0\n",
    "\n",
    "    for n, num in enumerate(o[::-1]):\n",
    "        num = tuple(sorted(num))\n",
    "        output_value += digits[num] * (10**n)\n",
    "\n",
    "    res += output_value\n",
    "\n",
    "res"
   ]
  }
 ],
 "metadata": {
  "kernelspec": {
   "display_name": "Python 3 (ipykernel)",
   "language": "python",
   "name": "python3"
  },
  "language_info": {
   "codemirror_mode": {
    "name": "ipython",
    "version": 3
   },
   "file_extension": ".py",
   "mimetype": "text/x-python",
   "name": "python",
   "nbconvert_exporter": "python",
   "pygments_lexer": "ipython3",
   "version": "3.11.4"
  }
 },
 "nbformat": 4,
 "nbformat_minor": 4
}
