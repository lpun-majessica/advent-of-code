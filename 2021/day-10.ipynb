{
 "cells": [
  {
   "cell_type": "markdown",
   "metadata": {},
   "source": [
    "[Advent of Code - Day 10](https://adventofcode.com/2021/day/10)"
   ]
  },
  {
   "cell_type": "markdown",
   "metadata": {},
   "source": [
    "# Import input"
   ]
  },
  {
   "cell_type": "code",
   "execution_count": 1,
   "metadata": {
    "execution": {
     "iopub.execute_input": "2024-10-17T07:26:34.627645Z",
     "iopub.status.busy": "2024-10-17T07:26:34.627645Z",
     "iopub.status.idle": "2024-10-17T07:26:35.742685Z",
     "shell.execute_reply": "2024-10-17T07:26:35.742685Z",
     "shell.execute_reply.started": "2024-10-17T07:26:34.627645Z"
    }
   },
   "outputs": [],
   "source": [
    "import sys\n",
    "\n",
    "sys.path.insert(0, \"../\")\n",
    "from utils import aoc_input as inp\n",
    "\n",
    "INPUT = inp.download_input(year=\"2021\", day=\"10\")"
   ]
  },
  {
   "cell_type": "code",
   "execution_count": 2,
   "metadata": {
    "execution": {
     "iopub.execute_input": "2024-10-17T07:26:35.742685Z",
     "iopub.status.busy": "2024-10-17T07:26:35.742685Z",
     "iopub.status.idle": "2024-10-17T07:26:35.761122Z",
     "shell.execute_reply": "2024-10-17T07:26:35.760109Z",
     "shell.execute_reply.started": "2024-10-17T07:26:35.742685Z"
    }
   },
   "outputs": [
    {
     "data": {
      "text/plain": [
       "['[<(<<([[[{<[{[[]()](<>())}<{()[]}<[]<>>>](<[()[]][()()]>)>[{{(()())(<>())}({()[]}{{}{}})}[(',\n",
       " '{{{(({[<<[{[(<()()>[<>{}])<<()()>[[]]>]{{<(){}>{()[]}}([()<>]<<>{}>)}}([[<[][]>({}{})]<({}[])',\n",
       " '<[[[(<[{{{(<({()<>)([][]))(<{}()>{[][]})>{[[{}()][[][]]]({{}[]}[()()])})}[{<([()()]{()<>}){([]',\n",
       " '[{[(<<{({{<<<{<>[]}{{}}>[({}<>){<>}]>[<<{}()>{<>[]}>[(()())({}())]]>}}({[(<({}{})<<>{}>>{<()()><[',\n",
       " '{{[{<<{[<{([({[]{}})])}>]}>><<<[[[<[([<>{}])<{[]{}}(<><>))]>]]({([{(<>())(()[])}<<()<>>>]<']"
      ]
     },
     "execution_count": 2,
     "metadata": {},
     "output_type": "execute_result"
    }
   ],
   "source": [
    "INPUT[:5]"
   ]
  },
  {
   "cell_type": "markdown",
   "metadata": {},
   "source": [
    "# Solulu"
   ]
  },
  {
   "cell_type": "code",
   "execution_count": 3,
   "metadata": {
    "execution": {
     "iopub.execute_input": "2024-10-17T07:26:35.761122Z",
     "iopub.status.busy": "2024-10-17T07:26:35.761122Z",
     "iopub.status.idle": "2024-10-17T07:26:35.775369Z",
     "shell.execute_reply": "2024-10-17T07:26:35.775369Z",
     "shell.execute_reply.started": "2024-10-17T07:26:35.761122Z"
    }
   },
   "outputs": [],
   "source": [
    "closing = {\n",
    "    \")\": \"(\",\n",
    "    \"]\": \"[\",\n",
    "    \"}\": \"{\",\n",
    "    \">\": \"<\",\n",
    "}\n",
    "\n",
    "opening = {op: cl for cl, op in closing.items()}"
   ]
  },
  {
   "cell_type": "markdown",
   "metadata": {},
   "source": [
    "## Part 1"
   ]
  },
  {
   "cell_type": "code",
   "execution_count": 4,
   "metadata": {
    "execution": {
     "iopub.execute_input": "2024-10-17T07:26:35.775369Z",
     "iopub.status.busy": "2024-10-17T07:26:35.775369Z",
     "iopub.status.idle": "2024-10-17T07:26:35.788455Z",
     "shell.execute_reply": "2024-10-17T07:26:35.788455Z",
     "shell.execute_reply.started": "2024-10-17T07:26:35.775369Z"
    }
   },
   "outputs": [
    {
     "data": {
      "text/plain": [
       "290691"
      ]
     },
     "execution_count": 4,
     "metadata": {},
     "output_type": "execute_result"
    }
   ],
   "source": [
    "points1 = {\n",
    "    \")\": 3,\n",
    "    \"]\": 57,\n",
    "    \"}\": 1_197,\n",
    "    \">\": 25_137,\n",
    "}\n",
    "syntax_errors = []\n",
    "\n",
    "for line in INPUT:\n",
    "    stack = list()\n",
    "\n",
    "    for bracket in line:\n",
    "        if bracket in closing:\n",
    "            if closing[bracket] == stack[-1]:\n",
    "                stack.pop()\n",
    "            else:\n",
    "                syntax_errors.append(bracket)\n",
    "                break\n",
    "        else:\n",
    "            stack.append(bracket)\n",
    "\n",
    "sum([points1[bracket] for bracket in syntax_errors])"
   ]
  },
  {
   "cell_type": "markdown",
   "metadata": {},
   "source": [
    "## Part 2"
   ]
  },
  {
   "cell_type": "code",
   "execution_count": 5,
   "metadata": {
    "execution": {
     "iopub.execute_input": "2024-10-17T07:26:35.788455Z",
     "iopub.status.busy": "2024-10-17T07:26:35.788455Z",
     "iopub.status.idle": "2024-10-17T07:26:35.806388Z",
     "shell.execute_reply": "2024-10-17T07:26:35.806388Z",
     "shell.execute_reply.started": "2024-10-17T07:26:35.788455Z"
    }
   },
   "outputs": [
    {
     "data": {
      "text/plain": [
       "2768166558"
      ]
     },
     "execution_count": 5,
     "metadata": {},
     "output_type": "execute_result"
    }
   ],
   "source": [
    "points2 = {op: i for i, op in enumerate(opening, start=1)}\n",
    "autocompletes = []\n",
    "\n",
    "for line in INPUT:\n",
    "    stack = list()\n",
    "    point = 0\n",
    "\n",
    "    for bracket in line:\n",
    "        if bracket in closing:\n",
    "            if closing[bracket] == stack[-1]:\n",
    "                stack.pop()\n",
    "            else:\n",
    "                break\n",
    "        else:\n",
    "            stack.append(bracket)\n",
    "    else:\n",
    "        for bracket in stack[::-1]:\n",
    "            point = point * 5 + points2[bracket]\n",
    "        autocompletes.append(point)\n",
    "\n",
    "sorted(autocompletes)[len(autocompletes) // 2]"
   ]
  }
 ],
 "metadata": {
  "kernelspec": {
   "display_name": "Python 3 (ipykernel)",
   "language": "python",
   "name": "python3"
  },
  "language_info": {
   "codemirror_mode": {
    "name": "ipython",
    "version": 3
   },
   "file_extension": ".py",
   "mimetype": "text/x-python",
   "name": "python",
   "nbconvert_exporter": "python",
   "pygments_lexer": "ipython3",
   "version": "3.11.4"
  }
 },
 "nbformat": 4,
 "nbformat_minor": 4
}
