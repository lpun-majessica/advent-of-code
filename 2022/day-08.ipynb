{
 "cells": [
  {
   "cell_type": "markdown",
   "metadata": {},
   "source": [
    "[Advent of Code - Day 08](https://adventofcode.com/2022/day/8)"
   ]
  },
  {
   "cell_type": "markdown",
   "metadata": {},
   "source": [
    "# Import input"
   ]
  },
  {
   "cell_type": "code",
   "execution_count": 1,
   "metadata": {
    "execution": {
     "iopub.execute_input": "2024-10-04T10:09:22.331730Z",
     "iopub.status.busy": "2024-10-04T10:09:22.330738Z",
     "iopub.status.idle": "2024-10-04T10:09:23.264711Z",
     "shell.execute_reply": "2024-10-04T10:09:23.263182Z",
     "shell.execute_reply.started": "2024-10-04T10:09:22.331730Z"
    }
   },
   "outputs": [],
   "source": [
    "import sys\n",
    "\n",
    "sys.path.insert(0, \"../\")\n",
    "from utils import puzzle\n",
    "\n",
    "P = puzzle.Puzzle(year=\"2022\", day=\"08\")\n",
"INPUT = P.load_input()"
   ]
  },
  {
   "cell_type": "code",
   "execution_count": 2,
   "metadata": {
    "execution": {
     "iopub.execute_input": "2024-10-04T10:09:23.265827Z",
     "iopub.status.busy": "2024-10-04T10:09:23.265827Z",
     "iopub.status.idle": "2024-10-04T10:09:23.280592Z",
     "shell.execute_reply": "2024-10-04T10:09:23.279576Z",
     "shell.execute_reply.started": "2024-10-04T10:09:23.265827Z"
    }
   },
   "outputs": [
    {
     "data": {
      "text/plain": [
       "['220311003030020403303010231542401043011111536600504555130543502251500155511123400111142111343321103',\n",
       " '112300011121001442140224403450400301003445152052111053406435260452010444113124523432423300221011201',\n",
       " '030210134102431134241312344101144221020600111540536441502615542526153154322105541510214043131203100',\n",
       " '030101204414334205055102335112246411105640305204415413550445035636165511302522134021011341010042300',\n",
       " '231333121332014225332001232453144631040416204620146621036153421503540461150044430323330010312004330']"
      ]
     },
     "execution_count": 2,
     "metadata": {},
     "output_type": "execute_result"
    }
   ],
   "source": [
    "INPUT[:5]"
   ]
  },
  {
   "cell_type": "markdown",
   "metadata": {},
   "source": [
    "# Solulu"
   ]
  },
  {
   "cell_type": "markdown",
   "metadata": {},
   "source": [
    "## Part 1"
   ]
  },
  {
   "cell_type": "code",
   "execution_count": 3,
   "metadata": {
    "execution": {
     "iopub.execute_input": "2024-10-04T10:09:23.283213Z",
     "iopub.status.busy": "2024-10-04T10:09:23.283213Z",
     "iopub.status.idle": "2024-10-04T10:09:23.609114Z",
     "shell.execute_reply": "2024-10-04T10:09:23.609114Z",
     "shell.execute_reply.started": "2024-10-04T10:09:23.283213Z"
    }
   },
   "outputs": [
    {
     "data": {
      "text/plain": [
       "1736"
      ]
     },
     "execution_count": 3,
     "metadata": {},
     "output_type": "execute_result"
    }
   ],
   "source": [
    "n = len(INPUT)\n",
    "visible = n * 4 - 4\n",
    "\n",
    "for row in range(1, n - 1):\n",
    "    for col in range(1, n - 1):\n",
    "        curr_h = int(INPUT[row][col])\n",
    "\n",
    "        max_left = max(map(int, INPUT[row][:col]))\n",
    "        max_right = max(map(int, INPUT[row][col + 1 :]))\n",
    "        max_up = max([int(INPUT[r][col]) for r in range(row)])\n",
    "        max_down = max([int(INPUT[r][col]) for r in range(row + 1, n)])\n",
    "\n",
    "        if any(side < curr_h for side in [max_left, max_right, max_up, max_down]):\n",
    "            visible += 1\n",
    "\n",
    "visible"
   ]
  },
  {
   "cell_type": "markdown",
   "metadata": {},
   "source": [
    "## Part 2"
   ]
  },
  {
   "cell_type": "code",
   "execution_count": 4,
   "metadata": {
    "execution": {
     "iopub.execute_input": "2024-10-04T10:09:23.610267Z",
     "iopub.status.busy": "2024-10-04T10:09:23.610267Z",
     "iopub.status.idle": "2024-10-04T10:09:23.894644Z",
     "shell.execute_reply": "2024-10-04T10:09:23.894644Z",
     "shell.execute_reply.started": "2024-10-04T10:09:23.610267Z"
    }
   },
   "outputs": [
    {
     "data": {
      "text/plain": [
       "268800"
      ]
     },
     "execution_count": 4,
     "metadata": {},
     "output_type": "execute_result"
    }
   ],
   "source": [
    "n = len(INPUT)\n",
    "res = 1\n",
    "\n",
    "for row in range(1, n - 1):\n",
    "    for col in range(1, n - 1):\n",
    "        l, r, u, d = 0, 0, 0, 0\n",
    "        curr_h = int(INPUT[row][col])\n",
    "\n",
    "        left = list(map(int, INPUT[row][:col]))\n",
    "        right = list(map(int, INPUT[row][col + 1 :]))\n",
    "        up = [int(INPUT[r][col]) for r in range(row)]\n",
    "        down = [int(INPUT[r][col]) for r in range(row + 1, n)]\n",
    "\n",
    "        for tree in left[::-1]:\n",
    "            if tree >= curr_h:\n",
    "                l += 1\n",
    "                break\n",
    "            l += 1\n",
    "\n",
    "        for tree in right:\n",
    "            if tree >= curr_h:\n",
    "                r += 1\n",
    "                break\n",
    "            r += 1\n",
    "\n",
    "        for tree in up[::-1]:\n",
    "            if tree >= curr_h:\n",
    "                u += 1\n",
    "                break\n",
    "            u += 1\n",
    "\n",
    "        for tree in down:\n",
    "            if tree >= curr_h:\n",
    "                d += 1\n",
    "                break\n",
    "            d += 1\n",
    "\n",
    "        res = max(res, l * r * u * d)\n",
    "\n",
    "res"
   ]
  }
 ],
 "metadata": {
  "kernelspec": {
   "display_name": "Python 3 (ipykernel)",
   "language": "python",
   "name": "python3"
  },
  "language_info": {
   "codemirror_mode": {
    "name": "ipython",
    "version": 3
   },
   "file_extension": ".py",
   "mimetype": "text/x-python",
   "name": "python",
   "nbconvert_exporter": "python",
   "pygments_lexer": "ipython3",
   "version": "3.11.4"
  }
 },
 "nbformat": 4,
 "nbformat_minor": 4
}
