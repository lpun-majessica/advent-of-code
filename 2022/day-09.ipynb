{
 "cells": [
  {
   "cell_type": "markdown",
   "metadata": {},
   "source": [
    "[Advent of Code - Day 09](https://adventofcode.com/2022/day/9)"
   ]
  },
  {
   "cell_type": "markdown",
   "metadata": {},
   "source": [
    "# Import input"
   ]
  },
  {
   "cell_type": "code",
   "execution_count": 1,
   "metadata": {
    "execution": {
     "iopub.execute_input": "2024-10-04T10:09:47.082169Z",
     "iopub.status.busy": "2024-10-04T10:09:47.082169Z",
     "iopub.status.idle": "2024-10-04T10:09:48.046333Z",
     "shell.execute_reply": "2024-10-04T10:09:48.044675Z",
     "shell.execute_reply.started": "2024-10-04T10:09:47.082169Z"
    }
   },
   "outputs": [],
   "source": [
    "import sys\n",
    "\n",
    "sys.path.insert(0, \"../\")\n",
    "from utils import puzzle\n",
    "\n",
    "P = puzzle.Puzzle(year=\"2022\", day=\"09\")\n",
"INPUT = P.load_input()"
   ]
  },
  {
   "cell_type": "code",
   "execution_count": 2,
   "metadata": {
    "execution": {
     "iopub.execute_input": "2024-10-04T10:09:48.049450Z",
     "iopub.status.busy": "2024-10-04T10:09:48.048459Z",
     "iopub.status.idle": "2024-10-04T10:09:48.066464Z",
     "shell.execute_reply": "2024-10-04T10:09:48.065942Z",
     "shell.execute_reply.started": "2024-10-04T10:09:48.049450Z"
    }
   },
   "outputs": [
    {
     "data": {
      "text/plain": [
       "['R 1', 'D 1', 'L 1', 'D 1', 'L 2']"
      ]
     },
     "execution_count": 2,
     "metadata": {},
     "output_type": "execute_result"
    }
   ],
   "source": [
    "INPUT[:5]"
   ]
  },
  {
   "cell_type": "markdown",
   "metadata": {},
   "source": [
    "# Solulu"
   ]
  },
  {
   "cell_type": "code",
   "execution_count": 3,
   "metadata": {
    "execution": {
     "iopub.execute_input": "2024-10-04T10:09:48.068488Z",
     "iopub.status.busy": "2024-10-04T10:09:48.068488Z",
     "iopub.status.idle": "2024-10-04T10:09:48.087473Z",
     "shell.execute_reply": "2024-10-04T10:09:48.086584Z",
     "shell.execute_reply.started": "2024-10-04T10:09:48.068488Z"
    }
   },
   "outputs": [],
   "source": [
    "def move_head(x: int, y: int, direction: str) -> tuple:\n",
    "    if direction == \"L\":\n",
    "        x -= 1\n",
    "    elif direction == \"R\":\n",
    "        x += 1\n",
    "    elif direction == \"U\":\n",
    "        y += 1\n",
    "    elif direction == \"D\":\n",
    "        y -= 1\n",
    "    return x, y\n",
    "\n",
    "\n",
    "def track_tail(hx: int, hy: int, tx: int, ty: int) -> tuple:\n",
    "    if not is_touching(hx, hy, tx, ty):\n",
    "        tx, ty = keep_up(hx, hy, tx, ty)\n",
    "    return tx, ty\n",
    "\n",
    "\n",
    "def is_touching(hx: int, hy: int, tx: int, ty: int) -> bool:\n",
    "    x_dist = hx - tx\n",
    "    y_dist = hy - ty\n",
    "\n",
    "    if abs(x_dist) <= 1 and abs(y_dist) <= 1:\n",
    "        return True\n",
    "    else:\n",
    "        return False\n",
    "\n",
    "\n",
    "def keep_up(hx: int, hy: int, tx: int, ty: int) -> tuple:\n",
    "    x_dist = hx - tx\n",
    "    y_dist = hy - ty\n",
    "\n",
    "    if abs(x_dist) > 1 and abs(y_dist) > 1:\n",
    "        tx = hx - 1 if x_dist > 0 else hx + 1\n",
    "        ty = hy - 1 if y_dist > 0 else hy + 1\n",
    "\n",
    "    elif abs(x_dist) > 1:\n",
    "        ty = hy\n",
    "        tx = hx - 1 if x_dist > 0 else hx + 1\n",
    "\n",
    "    elif abs(y_dist) > 1:\n",
    "        tx = hx\n",
    "        ty = hy - 1 if y_dist > 0 else hy + 1\n",
    "\n",
    "    return tx, ty"
   ]
  },
  {
   "cell_type": "markdown",
   "metadata": {},
   "source": [
    "## Part 1"
   ]
  },
  {
   "cell_type": "code",
   "execution_count": 4,
   "metadata": {
    "execution": {
     "iopub.execute_input": "2024-10-04T10:09:48.088476Z",
     "iopub.status.busy": "2024-10-04T10:09:48.087473Z",
     "iopub.status.idle": "2024-10-04T10:09:48.111272Z",
     "shell.execute_reply": "2024-10-04T10:09:48.111272Z",
     "shell.execute_reply.started": "2024-10-04T10:09:48.088476Z"
    }
   },
   "outputs": [
    {
     "data": {
      "text/plain": [
       "6522"
      ]
     },
     "execution_count": 4,
     "metadata": {},
     "output_type": "execute_result"
    }
   ],
   "source": [
    "tail_pos = set()\n",
    "hx, hy = 0, 0\n",
    "tx, ty = 0, 0\n",
    "\n",
    "for line in INPUT:\n",
    "    direction, num = line.split(\" \")\n",
    "    num = int(num)\n",
    "\n",
    "    for _ in range(num):\n",
    "        hx, hy = move_head(hx, hy, direction)\n",
    "        tx, ty = track_tail(hx, hy, tx, ty)\n",
    "\n",
    "        tail_pos.add(tuple([tx, ty]))\n",
    "\n",
    "len(tail_pos)"
   ]
  },
  {
   "cell_type": "markdown",
   "metadata": {},
   "source": [
    "## Part 2"
   ]
  },
  {
   "cell_type": "code",
   "execution_count": 5,
   "metadata": {
    "execution": {
     "iopub.execute_input": "2024-10-04T10:09:48.113290Z",
     "iopub.status.busy": "2024-10-04T10:09:48.113290Z",
     "iopub.status.idle": "2024-10-04T10:09:48.193616Z",
     "shell.execute_reply": "2024-10-04T10:09:48.193616Z",
     "shell.execute_reply.started": "2024-10-04T10:09:48.113290Z"
    }
   },
   "outputs": [
    {
     "data": {
      "text/plain": [
       "2717"
      ]
     },
     "execution_count": 5,
     "metadata": {},
     "output_type": "execute_result"
    }
   ],
   "source": [
    "total_knot = 10\n",
    "tail_pos = set()\n",
    "knots = [(0, 0) for _ in range(total_knot)]\n",
    "\n",
    "for line in INPUT:\n",
    "    direction, num = line.split(\" \")\n",
    "    num = int(num)\n",
    "\n",
    "    for _ in range(num):\n",
    "        x, y = knots[0]\n",
    "        knots[0] = move_head(x, y, direction)\n",
    "\n",
    "        for i in range(1, total_knot):\n",
    "            hx, hy = knots[i - 1]\n",
    "            tx, ty = knots[i]\n",
    "            knots[i] = track_tail(hx, hy, tx, ty)\n",
    "\n",
    "        tail_pos.add(tuple(knots[-1]))\n",
    "\n",
    "len(tail_pos)"
   ]
  }
 ],
 "metadata": {
  "kernelspec": {
   "display_name": "Python 3 (ipykernel)",
   "language": "python",
   "name": "python3"
  },
  "language_info": {
   "codemirror_mode": {
    "name": "ipython",
    "version": 3
   },
   "file_extension": ".py",
   "mimetype": "text/x-python",
   "name": "python",
   "nbconvert_exporter": "python",
   "pygments_lexer": "ipython3",
   "version": "3.11.4"
  }
 },
 "nbformat": 4,
 "nbformat_minor": 4
}
