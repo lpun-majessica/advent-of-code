{
 "cells": [
  {
   "cell_type": "markdown",
   "metadata": {},
   "source": [
    "[Advent of Code - Day 18](https://adventofcode.com/2022/day/18)"
   ]
  },
  {
   "cell_type": "markdown",
   "metadata": {},
   "source": [
    "# Import input"
   ]
  },
  {
   "cell_type": "code",
   "execution_count": 1,
   "metadata": {
    "execution": {
     "iopub.execute_input": "2024-10-04T10:18:38.564350Z",
     "iopub.status.busy": "2024-10-04T10:18:38.564350Z",
     "iopub.status.idle": "2024-10-04T10:18:39.480744Z",
     "shell.execute_reply": "2024-10-04T10:18:39.479720Z",
     "shell.execute_reply.started": "2024-10-04T10:18:38.564350Z"
    }
   },
   "outputs": [],
   "source": [
    "import sys\n",
    "\n",
    "sys.path.insert(0, \"../\")\n",
    "from utils import puzzle\n",
    "\n",
    "P = puzzle.Puzzle(year=\"2022\", day=\"18\")\n",
"INPUT = P.load_input()"
   ]
  },
  {
   "cell_type": "code",
   "execution_count": 2,
   "metadata": {
    "execution": {
     "iopub.execute_input": "2024-10-04T10:18:39.483769Z",
     "iopub.status.busy": "2024-10-04T10:18:39.482835Z",
     "iopub.status.idle": "2024-10-04T10:18:39.501857Z",
     "shell.execute_reply": "2024-10-04T10:18:39.500836Z",
     "shell.execute_reply.started": "2024-10-04T10:18:39.483769Z"
    }
   },
   "outputs": [
    {
     "data": {
      "text/plain": [
       "['12,13,19', '13,5,4', '11,8,1', '8,6,3', '19,9,12']"
      ]
     },
     "execution_count": 2,
     "metadata": {},
     "output_type": "execute_result"
    }
   ],
   "source": [
    "INPUT[:5]"
   ]
  },
  {
   "cell_type": "markdown",
   "metadata": {},
   "source": [
    "# Solulu"
   ]
  },
  {
   "cell_type": "code",
   "execution_count": 3,
   "metadata": {
    "execution": {
     "iopub.execute_input": "2024-10-04T10:18:39.503869Z",
     "iopub.status.busy": "2024-10-04T10:18:39.502901Z",
     "iopub.status.idle": "2024-10-04T10:18:39.515481Z",
     "shell.execute_reply": "2024-10-04T10:18:39.514473Z",
     "shell.execute_reply.started": "2024-10-04T10:18:39.503869Z"
    },
    "scrolled": true
   },
   "outputs": [],
   "source": [
    "for idx, line in enumerate(INPUT):\n",
    "    INPUT[idx] = tuple(map(int, line.split(\",\")))"
   ]
  },
  {
   "cell_type": "markdown",
   "metadata": {},
   "source": [
    "## Part 1"
   ]
  },
  {
   "cell_type": "code",
   "execution_count": 4,
   "metadata": {
    "execution": {
     "iopub.execute_input": "2024-10-04T10:18:39.517564Z",
     "iopub.status.busy": "2024-10-04T10:18:39.516545Z",
     "iopub.status.idle": "2024-10-04T10:18:40.117134Z",
     "shell.execute_reply": "2024-10-04T10:18:40.117134Z",
     "shell.execute_reply.started": "2024-10-04T10:18:39.517564Z"
    },
    "scrolled": true
   },
   "outputs": [
    {
     "data": {
      "text/plain": [
       "4314"
      ]
     },
     "execution_count": 4,
     "metadata": {},
     "output_type": "execute_result"
    }
   ],
   "source": [
    "obsidian = dict()\n",
    "res = 0\n",
    "\n",
    "for cube in INPUT:\n",
    "    x, y, z = cube\n",
    "    obsidian[cube] = []\n",
    "\n",
    "    possible_neighbors = [\n",
    "        (x + 1, y, z),\n",
    "        (x - 1, y, z),\n",
    "        (x, y + 1, z),\n",
    "        (x, y - 1, z),\n",
    "        (x, y, z + 1),\n",
    "        (x, y, z - 1),\n",
    "    ]\n",
    "    for neighbor in possible_neighbors:\n",
    "        if neighbor in INPUT:\n",
    "            obsidian[cube].append(neighbor)\n",
    "\n",
    "for neighbors in obsidian.values():\n",
    "    res += 6 - len(neighbors)\n",
    "\n",
    "res"
   ]
  },
  {
   "cell_type": "markdown",
   "metadata": {},
   "source": [
    "## Part 2"
   ]
  },
  {
   "cell_type": "code",
   "execution_count": 5,
   "metadata": {
    "execution": {
     "iopub.execute_input": "2024-10-04T10:18:40.119141Z",
     "iopub.status.busy": "2024-10-04T10:18:40.118174Z",
     "iopub.status.idle": "2024-10-04T10:18:40.124199Z",
     "shell.execute_reply": "2024-10-04T10:18:40.123646Z",
     "shell.execute_reply.started": "2024-10-04T10:18:40.119141Z"
    }
   },
   "outputs": [],
   "source": [
    "xx = [x for x, y, z in INPUT]\n",
    "minx, maxx = min(xx), max(xx)\n",
    "\n",
    "yy = [y for x, y, z in INPUT]\n",
    "miny, maxy = min(yy), max(yy)\n",
    "\n",
    "zz = [z for x, y, z in INPUT]\n",
    "minz, maxz = min(zz), max(zz)"
   ]
  },
  {
   "cell_type": "code",
   "execution_count": 6,
   "metadata": {
    "execution": {
     "iopub.execute_input": "2024-10-04T10:18:40.127231Z",
     "iopub.status.busy": "2024-10-04T10:18:40.126724Z",
     "iopub.status.idle": "2024-10-04T10:18:40.818557Z",
     "shell.execute_reply": "2024-10-04T10:18:40.818557Z",
     "shell.execute_reply.started": "2024-10-04T10:18:40.127231Z"
    },
    "scrolled": true
   },
   "outputs": [
    {
     "data": {
      "text/plain": [
       "2444"
      ]
     },
     "execution_count": 6,
     "metadata": {},
     "output_type": "execute_result"
    }
   ],
   "source": [
    "queue = [(minx, miny, minz)]\n",
    "visited = set()\n",
    "res = 0\n",
    "\n",
    "while queue:\n",
    "    water = queue.pop(0)\n",
    "    visited.add(water)\n",
    "    x, y, z = water\n",
    "\n",
    "    possible_neighbors = [\n",
    "        (x + 1, y, z),\n",
    "        (x - 1, y, z),\n",
    "        (x, y + 1, z),\n",
    "        (x, y - 1, z),\n",
    "        (x, y, z + 1),\n",
    "        (x, y, z - 1),\n",
    "    ]\n",
    "    for neighbor in possible_neighbors:\n",
    "        nx, ny, nz = neighbor\n",
    "        if (\n",
    "            minx - 1 <= nx <= maxx + 1\n",
    "            and miny - 1 <= ny <= maxy + 1\n",
    "            and minz - 1 <= nz <= maxz + 1\n",
    "        ):\n",
    "            if neighbor not in visited:\n",
    "                if neighbor not in INPUT:\n",
    "                    queue.append(neighbor)\n",
    "                    visited.add(neighbor)\n",
    "                elif neighbor in INPUT:\n",
    "                    res += 1\n",
    "\n",
    "res"
   ]
  }
 ],
 "metadata": {
  "kernelspec": {
   "display_name": "Python 3 (ipykernel)",
   "language": "python",
   "name": "python3"
  },
  "language_info": {
   "codemirror_mode": {
    "name": "ipython",
    "version": 3
   },
   "file_extension": ".py",
   "mimetype": "text/x-python",
   "name": "python",
   "nbconvert_exporter": "python",
   "pygments_lexer": "ipython3",
   "version": "3.11.4"
  }
 },
 "nbformat": 4,
 "nbformat_minor": 4
}
