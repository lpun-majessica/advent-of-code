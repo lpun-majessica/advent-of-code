{
 "cells": [
  {
   "cell_type": "markdown",
   "metadata": {},
   "source": [
    "[Advent of Code - Day 07](https://adventofcode.com/2022/day/7)"
   ]
  },
  {
   "cell_type": "markdown",
   "metadata": {},
   "source": [
    "# Import input"
   ]
  },
  {
   "cell_type": "code",
   "execution_count": 1,
   "metadata": {
    "execution": {
     "iopub.execute_input": "2024-10-04T10:08:52.135944Z",
     "iopub.status.busy": "2024-10-04T10:08:52.135944Z",
     "iopub.status.idle": "2024-10-04T10:08:53.125773Z",
     "shell.execute_reply": "2024-10-04T10:08:53.124227Z",
     "shell.execute_reply.started": "2024-10-04T10:08:52.135944Z"
    }
   },
   "outputs": [],
   "source": [
    "import sys\n",
    "from pathlib import Path\n",
    "\n",
    "sys.path.insert(0, \"../\")\n",
    "from utils import aoc_input as inp\n",
    "\n",
    "INPUT = inp.download_input(year=\"2022\", day=\"07\")"
   ]
  },
  {
   "cell_type": "code",
   "execution_count": 2,
   "metadata": {
    "execution": {
     "iopub.execute_input": "2024-10-04T10:08:53.127059Z",
     "iopub.status.busy": "2024-10-04T10:08:53.127059Z",
     "iopub.status.idle": "2024-10-04T10:08:53.141519Z",
     "shell.execute_reply": "2024-10-04T10:08:53.140129Z",
     "shell.execute_reply.started": "2024-10-04T10:08:53.127059Z"
    }
   },
   "outputs": [
    {
     "data": {
      "text/plain": [
       "['$ cd /',\n",
       " '$ ls',\n",
       " 'dir bntdgzs',\n",
       " '179593 cjw.jgc',\n",
       " '110209 grbwdwsm.znn',\n",
       " 'dir hsswswtq',\n",
       " 'dir jdfwmhg',\n",
       " 'dir jlcbpsr',\n",
       " '70323 qdtbvqjj',\n",
       " '48606 qdtbvqjj.zdg']"
      ]
     },
     "execution_count": 2,
     "metadata": {},
     "output_type": "execute_result"
    }
   ],
   "source": [
    "INPUT[:10]"
   ]
  },
  {
   "cell_type": "markdown",
   "metadata": {},
   "source": [
    "# Solulu"
   ]
  },
  {
   "cell_type": "markdown",
   "metadata": {},
   "source": [
    "## Part 1"
   ]
  },
  {
   "cell_type": "code",
   "execution_count": 3,
   "metadata": {
    "execution": {
     "iopub.execute_input": "2024-10-04T10:08:53.142345Z",
     "iopub.status.busy": "2024-10-04T10:08:53.142345Z",
     "iopub.status.idle": "2024-10-04T10:08:53.172802Z",
     "shell.execute_reply": "2024-10-04T10:08:53.171788Z",
     "shell.execute_reply.started": "2024-10-04T10:08:53.142345Z"
    }
   },
   "outputs": [],
   "source": [
    "tree = {}\n",
    "dirs = Path()\n",
    "for line in INPUT:\n",
    "    if line.startswith(\"$ cd\"):\n",
    "        if \"..\" in line:\n",
    "            for subdir in tree[dirs][\"subdirs\"]:\n",
    "                tree[dirs][\"size\"] += tree[subdir][\"size\"]\n",
    "            dirs = dirs.parent\n",
    "        else:\n",
    "            _, _, direc = line.split(\" \")\n",
    "            path = dirs / direc\n",
    "            tree[path] = {\"size\": 0, \"subdirs\": []}\n",
    "            dirs = dirs / direc\n",
    "    elif line.startswith(\"dir\"):\n",
    "        _, subdir = line.split(\" \")\n",
    "        tree[path][\"subdirs\"].append(path / subdir)\n",
    "    elif not line.startswith(\"$\"):\n",
    "        size, _ = line.split(\" \")\n",
    "        tree[path][\"size\"] += int(size)\n",
    "\n",
    "while dirs != Path(\"/\"):\n",
    "    dirs = dirs.parent\n",
    "    for subdir in tree[dirs][\"subdirs\"]:\n",
    "        tree[dirs][\"size\"] += tree[subdir][\"size\"]"
   ]
  },
  {
   "cell_type": "code",
   "execution_count": 4,
   "metadata": {
    "execution": {
     "iopub.execute_input": "2024-10-04T10:08:53.175101Z",
     "iopub.status.busy": "2024-10-04T10:08:53.175101Z",
     "iopub.status.idle": "2024-10-04T10:08:53.183133Z",
     "shell.execute_reply": "2024-10-04T10:08:53.183133Z",
     "shell.execute_reply.started": "2024-10-04T10:08:53.175101Z"
    }
   },
   "outputs": [
    {
     "data": {
      "text/plain": [
       "1206825"
      ]
     },
     "execution_count": 4,
     "metadata": {},
     "output_type": "execute_result"
    }
   ],
   "source": [
    "res = 0\n",
    "for d, meta in tree.items():\n",
    "    meta\n",
    "    if meta[\"size\"] <= 100_000:\n",
    "        res += meta[\"size\"]\n",
    "res"
   ]
  },
  {
   "cell_type": "markdown",
   "metadata": {},
   "source": [
    "## Part 2"
   ]
  },
  {
   "cell_type": "code",
   "execution_count": 5,
   "metadata": {
    "execution": {
     "iopub.execute_input": "2024-10-04T10:08:53.185144Z",
     "iopub.status.busy": "2024-10-04T10:08:53.185144Z",
     "iopub.status.idle": "2024-10-04T10:08:53.193583Z",
     "shell.execute_reply": "2024-10-04T10:08:53.193583Z",
     "shell.execute_reply.started": "2024-10-04T10:08:53.185144Z"
    }
   },
   "outputs": [
    {
     "data": {
      "text/plain": [
       "9608311"
      ]
     },
     "execution_count": 5,
     "metadata": {},
     "output_type": "execute_result"
    }
   ],
   "source": [
    "total_space = res = 70000000\n",
    "mINPUTavail_space = 30000000\n",
    "\n",
    "mINPUTdelete = tree[dirs][\"size\"] - (total_space - mINPUTavail_space)\n",
    "\n",
    "for meta in tree.values():\n",
    "    size = meta[\"size\"]\n",
    "    if size > mINPUTdelete:\n",
    "        res = min(res, size)\n",
    "\n",
    "res"
   ]
  }
 ],
 "metadata": {
  "kernelspec": {
   "display_name": "Python 3 (ipykernel)",
   "language": "python",
   "name": "python3"
  },
  "language_info": {
   "codemirror_mode": {
    "name": "ipython",
    "version": 3
   },
   "file_extension": ".py",
   "mimetype": "text/x-python",
   "name": "python",
   "nbconvert_exporter": "python",
   "pygments_lexer": "ipython3",
   "version": "3.11.4"
  }
 },
 "nbformat": 4,
 "nbformat_minor": 4
}
