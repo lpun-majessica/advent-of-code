{
 "cells": [
  {
   "cell_type": "markdown",
   "metadata": {},
   "source": [
    "[Advent of Code - Day 01](https://adventofcode.com/2022/day/1)"
   ]
  },
  {
   "cell_type": "markdown",
   "metadata": {},
   "source": [
    "# Import input"
   ]
  },
  {
   "cell_type": "code",
   "execution_count": 1,
   "metadata": {
    "execution": {
     "iopub.execute_input": "2024-10-04T10:01:17.740915Z",
     "iopub.status.busy": "2024-10-04T10:01:17.740915Z",
     "iopub.status.idle": "2024-10-04T10:01:18.691856Z",
     "shell.execute_reply": "2024-10-04T10:01:18.690723Z",
     "shell.execute_reply.started": "2024-10-04T10:01:17.740915Z"
    }
   },
   "outputs": [],
   "source": [
    "import sys\n",
    "\n",
    "sys.path.insert(0, \"../\")\n",
    "from utils import aoc_input as inp\n",
    "\n",
    "in_ = inp.download_input(year=\"2022\", day=\"01\")"
   ]
  },
  {
   "cell_type": "code",
   "execution_count": 2,
   "metadata": {
    "execution": {
     "iopub.execute_input": "2024-10-04T10:01:18.693874Z",
     "iopub.status.busy": "2024-10-04T10:01:18.693874Z",
     "iopub.status.idle": "2024-10-04T10:01:18.707829Z",
     "shell.execute_reply": "2024-10-04T10:01:18.706812Z",
     "shell.execute_reply.started": "2024-10-04T10:01:18.693874Z"
    }
   },
   "outputs": [
    {
     "data": {
      "text/plain": [
       "['15931', '8782', '16940', '14614', '']"
      ]
     },
     "execution_count": 2,
     "metadata": {},
     "output_type": "execute_result"
    }
   ],
   "source": [
    "in_[:5]"
   ]
  },
  {
   "cell_type": "markdown",
   "metadata": {},
   "source": [
    "# Solulu"
   ]
  },
  {
   "cell_type": "code",
   "execution_count": 3,
   "metadata": {
    "execution": {
     "iopub.execute_input": "2024-10-04T10:01:18.709958Z",
     "iopub.status.busy": "2024-10-04T10:01:18.709958Z",
     "iopub.status.idle": "2024-10-04T10:01:18.729371Z",
     "shell.execute_reply": "2024-10-04T10:01:18.728335Z",
     "shell.execute_reply.started": "2024-10-04T10:01:18.709958Z"
    }
   },
   "outputs": [],
   "source": [
    "elves = []\n",
    "calories = 0\n",
    "\n",
    "for line in in_:\n",
    "    if not line:\n",
    "        elves.append(calories)\n",
    "        calories = 0\n",
    "    else:\n",
    "        calories += int(line)"
   ]
  },
  {
   "cell_type": "markdown",
   "metadata": {},
   "source": [
    "## Part 1"
   ]
  },
  {
   "cell_type": "code",
   "execution_count": 4,
   "metadata": {
    "execution": {
     "iopub.execute_input": "2024-10-04T10:01:18.730370Z",
     "iopub.status.busy": "2024-10-04T10:01:18.730370Z",
     "iopub.status.idle": "2024-10-04T10:01:18.738424Z",
     "shell.execute_reply": "2024-10-04T10:01:18.738424Z",
     "shell.execute_reply.started": "2024-10-04T10:01:18.730370Z"
    }
   },
   "outputs": [
    {
     "data": {
      "text/plain": [
       "70116"
      ]
     },
     "execution_count": 4,
     "metadata": {},
     "output_type": "execute_result"
    }
   ],
   "source": [
    "max(elves)"
   ]
  },
  {
   "cell_type": "markdown",
   "metadata": {},
   "source": [
    "## Part 2"
   ]
  },
  {
   "cell_type": "code",
   "execution_count": 5,
   "metadata": {
    "execution": {
     "iopub.execute_input": "2024-10-04T10:01:18.740721Z",
     "iopub.status.busy": "2024-10-04T10:01:18.739431Z",
     "iopub.status.idle": "2024-10-04T10:01:18.750169Z",
     "shell.execute_reply": "2024-10-04T10:01:18.750169Z",
     "shell.execute_reply.started": "2024-10-04T10:01:18.740721Z"
    }
   },
   "outputs": [
    {
     "data": {
      "text/plain": [
       "206582"
      ]
     },
     "execution_count": 5,
     "metadata": {},
     "output_type": "execute_result"
    }
   ],
   "source": [
    "sum(sorted(elves, reverse=True)[:3])"
   ]
  }
 ],
 "metadata": {
  "kernelspec": {
   "display_name": "Python 3 (ipykernel)",
   "language": "python",
   "name": "python3"
  },
  "language_info": {
   "codemirror_mode": {
    "name": "ipython",
    "version": 3
   },
   "file_extension": ".py",
   "mimetype": "text/x-python",
   "name": "python",
   "nbconvert_exporter": "python",
   "pygments_lexer": "ipython3",
   "version": "3.11.4"
  }
 },
 "nbformat": 4,
 "nbformat_minor": 4
}
