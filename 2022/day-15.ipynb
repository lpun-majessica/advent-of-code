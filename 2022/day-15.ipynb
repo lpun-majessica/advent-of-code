{
 "cells": [
  {
   "cell_type": "markdown",
   "metadata": {},
   "source": [
    "[Advent of Code - Day 15](https://adventofcode.com/2022/day/15)"
   ]
  },
  {
   "cell_type": "markdown",
   "metadata": {},
   "source": [
    "# Import input"
   ]
  },
  {
   "cell_type": "code",
   "execution_count": 1,
   "metadata": {
    "execution": {
     "iopub.execute_input": "2024-10-04T10:15:51.930262Z",
     "iopub.status.busy": "2024-10-04T10:15:51.930262Z",
     "iopub.status.idle": "2024-10-04T10:15:52.830862Z",
     "shell.execute_reply": "2024-10-04T10:15:52.829558Z",
     "shell.execute_reply.started": "2024-10-04T10:15:51.930262Z"
    }
   },
   "outputs": [],
   "source": [
    "import sys\n",
    "\n",
    "sys.path.insert(0, \"../\")\n",
    "from utils import aoc_input as inp\n",
    "\n",
    "INPUT = inp.download_input(year=\"2022\", day=\"15\")"
   ]
  },
  {
   "cell_type": "code",
   "execution_count": 2,
   "metadata": {
    "execution": {
     "iopub.execute_input": "2024-10-04T10:15:52.832868Z",
     "iopub.status.busy": "2024-10-04T10:15:52.831867Z",
     "iopub.status.idle": "2024-10-04T10:15:52.846227Z",
     "shell.execute_reply": "2024-10-04T10:15:52.845210Z",
     "shell.execute_reply.started": "2024-10-04T10:15:52.832868Z"
    }
   },
   "outputs": [
    {
     "data": {
      "text/plain": [
       "['Sensor at x=3907621, y=2895218: closest beacon is at x=3790542, y=2949630',\n",
       " 'Sensor at x=1701067, y=3075142: closest beacon is at x=2275951, y=3717327',\n",
       " 'Sensor at x=3532369, y=884718: closest beacon is at x=2733699, y=2000000',\n",
       " 'Sensor at x=2362427, y=41763: closest beacon is at x=2999439, y=-958188',\n",
       " 'Sensor at x=398408, y=3688691: closest beacon is at x=2275951, y=3717327']"
      ]
     },
     "execution_count": 2,
     "metadata": {},
     "output_type": "execute_result"
    }
   ],
   "source": [
    "INPUT[:5]"
   ]
  },
  {
   "cell_type": "markdown",
   "metadata": {},
   "source": [
    "# Solulu"
   ]
  },
  {
   "cell_type": "markdown",
   "metadata": {},
   "source": [
    "## Part 1"
   ]
  },
  {
   "cell_type": "code",
   "execution_count": 3,
   "metadata": {
    "execution": {
     "iopub.execute_input": "2024-10-04T10:15:52.848783Z",
     "iopub.status.busy": "2024-10-04T10:15:52.848783Z",
     "iopub.status.idle": "2024-10-04T10:15:58.128072Z",
     "shell.execute_reply": "2024-10-04T10:15:58.128072Z",
     "shell.execute_reply.started": "2024-10-04T10:15:52.848783Z"
    }
   },
   "outputs": [],
   "source": [
    "target_row = 2_000_000\n",
    "res = set()\n",
    "beacons_on_target = set()\n",
    "\n",
    "for line in INPUT:\n",
    "    words = line.split(\" \")\n",
    "    xs, ys, xb, yb = words[2], words[3], words[8], words[9]\n",
    "    xs = int(xs[2:-1])\n",
    "    ys = int(ys[2:-1])\n",
    "    xb = int(xb[2:-1])\n",
    "    yb = int(yb[2:])\n",
    "\n",
    "    d = abs(xs - xb) + abs(ys - yb)\n",
    "\n",
    "    if ys - d <= target_row <= ys + d:\n",
    "        rem = d - abs(ys - target_row)\n",
    "        for i in range(rem + 1):\n",
    "            res.add(tuple([xs - i, target_row]))\n",
    "            res.add(tuple([xs + i, target_row]))\n",
    "\n",
    "    if yb == target_row:\n",
    "        beacons_on_target.add(tuple([xb, yb]))"
   ]
  },
  {
   "cell_type": "code",
   "execution_count": 4,
   "metadata": {
    "execution": {
     "iopub.execute_input": "2024-10-04T10:15:58.128072Z",
     "iopub.status.busy": "2024-10-04T10:15:58.128072Z",
     "iopub.status.idle": "2024-10-04T10:15:58.611995Z",
     "shell.execute_reply": "2024-10-04T10:15:58.610898Z",
     "shell.execute_reply.started": "2024-10-04T10:15:58.128072Z"
    }
   },
   "outputs": [
    {
     "data": {
      "text/plain": [
       "6124805"
      ]
     },
     "execution_count": 4,
     "metadata": {},
     "output_type": "execute_result"
    }
   ],
   "source": [
    "len(res - beacons_on_target)"
   ]
  },
  {
   "cell_type": "markdown",
   "metadata": {
    "jp-MarkdownHeadingCollapsed": true
   },
   "source": [
    "## Part 2"
   ]
  }
 ],
 "metadata": {
  "kernelspec": {
   "display_name": "Python 3 (ipykernel)",
   "language": "python",
   "name": "python3"
  },
  "language_info": {
   "codemirror_mode": {
    "name": "ipython",
    "version": 3
   },
   "file_extension": ".py",
   "mimetype": "text/x-python",
   "name": "python",
   "nbconvert_exporter": "python",
   "pygments_lexer": "ipython3",
   "version": "3.11.4"
  }
 },
 "nbformat": 4,
 "nbformat_minor": 4
}
