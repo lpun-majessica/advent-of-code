{
 "cells": [
  {
   "cell_type": "markdown",
   "metadata": {},
   "source": [
    "[Advent of Code - Day 05](https://adventofcode.com/2022/day/5)"
   ]
  },
  {
   "cell_type": "markdown",
   "metadata": {},
   "source": [
    "# Import input"
   ]
  },
  {
   "cell_type": "code",
   "execution_count": 1,
   "metadata": {
    "execution": {
     "iopub.execute_input": "2024-10-04T10:06:54.464326Z",
     "iopub.status.busy": "2024-10-04T10:06:54.464326Z",
     "iopub.status.idle": "2024-10-04T10:06:55.517406Z",
     "shell.execute_reply": "2024-10-04T10:06:55.516290Z",
     "shell.execute_reply.started": "2024-10-04T10:06:54.464326Z"
    }
   },
   "outputs": [],
   "source": [
    "import sys\n",
    "\n",
    "sys.path.insert(0, \"../\")\n",
    "from utils import aoc_input as inp\n",
    "\n",
    "INPUT = inp.download_input(year=\"2022\", day=\"05\")"
   ]
  },
  {
   "cell_type": "code",
   "execution_count": 2,
   "metadata": {
    "execution": {
     "iopub.execute_input": "2024-10-04T10:06:55.518409Z",
     "iopub.status.busy": "2024-10-04T10:06:55.518409Z",
     "iopub.status.idle": "2024-10-04T10:06:55.532652Z",
     "shell.execute_reply": "2024-10-04T10:06:55.530880Z",
     "shell.execute_reply.started": "2024-10-04T10:06:55.518409Z"
    }
   },
   "outputs": [
    {
     "data": {
      "text/plain": [
       "['[J]             [F] [M]            ',\n",
       " '[Z] [F]     [G] [Q] [F]            ',\n",
       " '[G] [P]     [H] [Z] [S] [Q]        ',\n",
       " '[V] [W] [Z] [P] [D] [G] [P]        ',\n",
       " '[T] [D] [S] [Z] [N] [W] [B] [N]    ']"
      ]
     },
     "execution_count": 2,
     "metadata": {},
     "output_type": "execute_result"
    }
   ],
   "source": [
    "INPUT[:5]"
   ]
  },
  {
   "cell_type": "markdown",
   "metadata": {},
   "source": [
    "# Solulu"
   ]
  },
  {
   "cell_type": "code",
   "execution_count": 3,
   "metadata": {
    "execution": {
     "iopub.execute_input": "2024-10-04T10:06:55.535220Z",
     "iopub.status.busy": "2024-10-04T10:06:55.533666Z",
     "iopub.status.idle": "2024-10-04T10:06:55.551855Z",
     "shell.execute_reply": "2024-10-04T10:06:55.550822Z",
     "shell.execute_reply.started": "2024-10-04T10:06:55.535220Z"
    },
    "scrolled": true
   },
   "outputs": [],
   "source": [
    "blank = INPUT.index(\"\")\n",
    "start = INPUT[:blank]\n",
    "procs = INPUT[blank + 1 :]"
   ]
  },
  {
   "cell_type": "markdown",
   "metadata": {},
   "source": [
    "## Part 1"
   ]
  },
  {
   "cell_type": "code",
   "execution_count": 4,
   "metadata": {
    "execution": {
     "iopub.execute_input": "2024-10-04T10:06:55.553868Z",
     "iopub.status.busy": "2024-10-04T10:06:55.552859Z",
     "iopub.status.idle": "2024-10-04T10:06:55.560130Z",
     "shell.execute_reply": "2024-10-04T10:06:55.559062Z",
     "shell.execute_reply.started": "2024-10-04T10:06:55.553868Z"
    },
    "scrolled": true
   },
   "outputs": [],
   "source": [
    "n = len(start)\n",
    "stacks = {}\n",
    "stack = 1\n",
    "for idx, ch in enumerate(start[-1]):\n",
    "    if ch.isdigit():\n",
    "        stacks[str(stack)] = []\n",
    "        for row in range(n - 2, -1, -1):\n",
    "            if start[row][idx] != \" \":\n",
    "                stacks[str(stack)].append(start[row][idx])\n",
    "        stack += 1"
   ]
  },
  {
   "cell_type": "code",
   "execution_count": 5,
   "metadata": {
    "execution": {
     "iopub.execute_input": "2024-10-04T10:06:55.561243Z",
     "iopub.status.busy": "2024-10-04T10:06:55.560241Z",
     "iopub.status.idle": "2024-10-04T10:06:55.569119Z",
     "shell.execute_reply": "2024-10-04T10:06:55.569119Z",
     "shell.execute_reply.started": "2024-10-04T10:06:55.561243Z"
    }
   },
   "outputs": [],
   "source": [
    "for proc in procs:\n",
    "    _, n, _, fr, _, t = proc.split(\" \")\n",
    "    for _ in range(int(n)):\n",
    "        cargo = stacks[fr].pop()\n",
    "        stacks[t].append(cargo)"
   ]
  },
  {
   "cell_type": "code",
   "execution_count": 6,
   "metadata": {
    "execution": {
     "iopub.execute_input": "2024-10-04T10:06:55.572145Z",
     "iopub.status.busy": "2024-10-04T10:06:55.571144Z",
     "iopub.status.idle": "2024-10-04T10:06:55.579382Z",
     "shell.execute_reply": "2024-10-04T10:06:55.579382Z",
     "shell.execute_reply.started": "2024-10-04T10:06:55.572145Z"
    }
   },
   "outputs": [
    {
     "data": {
      "text/plain": [
       "'GFTNRBZPF'"
      ]
     },
     "execution_count": 6,
     "metadata": {},
     "output_type": "execute_result"
    }
   ],
   "source": [
    "res = \"\"\n",
    "for col in stacks.values():\n",
    "    res += col[-1]\n",
    "\n",
    "res"
   ]
  },
  {
   "cell_type": "markdown",
   "metadata": {},
   "source": [
    "## Part 2"
   ]
  },
  {
   "cell_type": "code",
   "execution_count": 7,
   "metadata": {
    "execution": {
     "iopub.execute_input": "2024-10-04T10:06:55.580396Z",
     "iopub.status.busy": "2024-10-04T10:06:55.580396Z",
     "iopub.status.idle": "2024-10-04T10:06:55.589048Z",
     "shell.execute_reply": "2024-10-04T10:06:55.588009Z",
     "shell.execute_reply.started": "2024-10-04T10:06:55.580396Z"
    },
    "scrolled": true
   },
   "outputs": [],
   "source": [
    "n = len(start)\n",
    "stacks = {}\n",
    "stack = 1\n",
    "for idx, ch in enumerate(start[-1]):\n",
    "    if ch.isdigit():\n",
    "        stacks[str(stack)] = []\n",
    "        for row in range(n - 2, -1, -1):\n",
    "            if start[row][idx] != \" \":\n",
    "                stacks[str(stack)].append(start[row][idx])\n",
    "        stack += 1"
   ]
  },
  {
   "cell_type": "code",
   "execution_count": 8,
   "metadata": {
    "execution": {
     "iopub.execute_input": "2024-10-04T10:06:55.590067Z",
     "iopub.status.busy": "2024-10-04T10:06:55.589048Z",
     "iopub.status.idle": "2024-10-04T10:06:55.596411Z",
     "shell.execute_reply": "2024-10-04T10:06:55.596411Z",
     "shell.execute_reply.started": "2024-10-04T10:06:55.590067Z"
    }
   },
   "outputs": [],
   "source": [
    "for proc in procs:\n",
    "    _, n, _, fr, _, t = proc.split(\" \")\n",
    "    n = int(n)\n",
    "    cargo = stacks[fr][-n:]\n",
    "    stacks[fr] = stacks[fr][:-n]\n",
    "    stacks[t].extend(cargo)"
   ]
  },
  {
   "cell_type": "code",
   "execution_count": 9,
   "metadata": {
    "execution": {
     "iopub.execute_input": "2024-10-04T10:06:55.598430Z",
     "iopub.status.busy": "2024-10-04T10:06:55.597424Z",
     "iopub.status.idle": "2024-10-04T10:06:55.607371Z",
     "shell.execute_reply": "2024-10-04T10:06:55.606356Z",
     "shell.execute_reply.started": "2024-10-04T10:06:55.598430Z"
    }
   },
   "outputs": [
    {
     "data": {
      "text/plain": [
       "'VRQWPDSGP'"
      ]
     },
     "execution_count": 9,
     "metadata": {},
     "output_type": "execute_result"
    }
   ],
   "source": [
    "res = \"\"\n",
    "for col in stacks.values():\n",
    "    res += col[-1]\n",
    "\n",
    "res"
   ]
  }
 ],
 "metadata": {
  "kernelspec": {
   "display_name": "Python 3 (ipykernel)",
   "language": "python",
   "name": "python3"
  },
  "language_info": {
   "codemirror_mode": {
    "name": "ipython",
    "version": 3
   },
   "file_extension": ".py",
   "mimetype": "text/x-python",
   "name": "python",
   "nbconvert_exporter": "python",
   "pygments_lexer": "ipython3",
   "version": "3.11.4"
  }
 },
 "nbformat": 4,
 "nbformat_minor": 4
}
