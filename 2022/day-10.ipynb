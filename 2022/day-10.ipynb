{
 "cells": [
  {
   "cell_type": "markdown",
   "metadata": {},
   "source": [
    "[Advent of Code - Day 10](https://adventofcode.com/2022/day/10)"
   ]
  },
  {
   "cell_type": "markdown",
   "metadata": {},
   "source": [
    "# Import input"
   ]
  },
  {
   "cell_type": "code",
   "execution_count": 1,
   "metadata": {
    "execution": {
     "iopub.execute_input": "2024-10-04T10:10:11.134725Z",
     "iopub.status.busy": "2024-10-04T10:10:11.134725Z",
     "iopub.status.idle": "2024-10-04T10:10:12.057894Z",
     "shell.execute_reply": "2024-10-04T10:10:12.057894Z",
     "shell.execute_reply.started": "2024-10-04T10:10:11.134725Z"
    }
   },
   "outputs": [],
   "source": [
    "import sys\n",
    "\n",
    "sys.path.insert(0, \"../\")\n",
    "from utils import aoc_input as inp\n",
    "\n",
    "in_ = inp.download_input(year=\"2022\", day=\"10\")"
   ]
  },
  {
   "cell_type": "code",
   "execution_count": 2,
   "metadata": {
    "execution": {
     "iopub.execute_input": "2024-10-04T10:10:12.057894Z",
     "iopub.status.busy": "2024-10-04T10:10:12.057894Z",
     "iopub.status.idle": "2024-10-04T10:10:12.075738Z",
     "shell.execute_reply": "2024-10-04T10:10:12.075738Z",
     "shell.execute_reply.started": "2024-10-04T10:10:12.057894Z"
    }
   },
   "outputs": [
    {
     "data": {
      "text/plain": [
       "['addx 1', 'noop', 'addx 4', 'noop', 'noop']"
      ]
     },
     "execution_count": 2,
     "metadata": {},
     "output_type": "execute_result"
    }
   ],
   "source": [
    "in_[:5]"
   ]
  },
  {
   "cell_type": "markdown",
   "metadata": {},
   "source": [
    "# Solulu"
   ]
  },
  {
   "cell_type": "markdown",
   "metadata": {},
   "source": [
    "## Part 1"
   ]
  },
  {
   "cell_type": "code",
   "execution_count": 3,
   "metadata": {
    "execution": {
     "iopub.execute_input": "2024-10-04T10:10:12.078894Z",
     "iopub.status.busy": "2024-10-04T10:10:12.078894Z",
     "iopub.status.idle": "2024-10-04T10:10:12.092628Z",
     "shell.execute_reply": "2024-10-04T10:10:12.091739Z",
     "shell.execute_reply.started": "2024-10-04T10:10:12.078894Z"
    }
   },
   "outputs": [
    {
     "data": {
      "text/plain": [
       "11820"
      ]
     },
     "execution_count": 3,
     "metadata": {},
     "output_type": "execute_result"
    }
   ],
   "source": [
    "cycles = 0\n",
    "res, x = 0, 1\n",
    "for line in in_:\n",
    "    cycles += 1\n",
    "    if (cycles % 40) - 20 == 0:\n",
    "        res += x * cycles\n",
    "    if line.startswith(\"addx\"):\n",
    "        _, value = line.split(\" \")\n",
    "        cycles += 1\n",
    "        if (cycles % 40) - 20 == 0:\n",
    "            res += x * cycles\n",
    "        x += int(value)\n",
    "\n",
    "res"
   ]
  },
  {
   "cell_type": "markdown",
   "metadata": {},
   "source": [
    "## Part 2"
   ]
  },
  {
   "cell_type": "code",
   "execution_count": 4,
   "metadata": {
    "execution": {
     "iopub.execute_input": "2024-10-04T10:10:12.094070Z",
     "iopub.status.busy": "2024-10-04T10:10:12.094070Z",
     "iopub.status.idle": "2024-10-04T10:10:12.101746Z",
     "shell.execute_reply": "2024-10-04T10:10:12.101746Z",
     "shell.execute_reply.started": "2024-10-04T10:10:12.094070Z"
    }
   },
   "outputs": [
    {
     "name": "stdout",
     "output_type": "stream",
     "text": [
      "# # # #   # # #         # #   # # #     # # #     #     #     # #     #     #  \n",
      "#         #     #         #   #     #   #     #   #   #     #     #   #     #  \n",
      "# # #     #     #         #   # # #     #     #   # #       #     #   # # # #  \n",
      "#         # # #           #   #     #   # # #     #   #     # # # #   #     #  \n",
      "#         #         #     #   #     #   #   #     #   #     #     #   #     #  \n",
      "# # # #   #           # #     # # #     #     #   #     #   #     #   #     #  \n"
     ]
    }
   ],
   "source": [
    "screen_w = 40\n",
    "screen_h = 6\n",
    "cycles, x = 0, 1\n",
    "\n",
    "screen = [[\" \" for _ in range(screen_w)] for _ in range(screen_h)]\n",
    "\n",
    "for line in in_:\n",
    "    crt_row, crt_col = divmod(cycles, screen_w)\n",
    "    if abs(crt_col - x) <= 1:\n",
    "        screen[crt_row][crt_col] = \"#\"\n",
    "    cycles += 1\n",
    "\n",
    "    if line.startswith(\"addx\"):\n",
    "        _, value = line.split(\" \")\n",
    "        crt_row, crt_col = divmod(cycles, screen_w)\n",
    "        if abs(crt_col - x) <= 1:\n",
    "            screen[crt_row][crt_col] = \"#\"\n",
    "        cycles += 1\n",
    "        x += int(value)\n",
    "\n",
    "for row in screen:\n",
    "    print(\" \".join(row))"
   ]
  }
 ],
 "metadata": {
  "kernelspec": {
   "display_name": "Python 3 (ipykernel)",
   "language": "python",
   "name": "python3"
  },
  "language_info": {
   "codemirror_mode": {
    "name": "ipython",
    "version": 3
   },
   "file_extension": ".py",
   "mimetype": "text/x-python",
   "name": "python",
   "nbconvert_exporter": "python",
   "pygments_lexer": "ipython3",
   "version": "3.11.4"
  }
 },
 "nbformat": 4,
 "nbformat_minor": 4
}
