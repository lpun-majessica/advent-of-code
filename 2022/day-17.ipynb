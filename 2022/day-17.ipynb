{
 "cells": [
  {
   "cell_type": "markdown",
   "metadata": {},
   "source": [
    "[Advent of Code - Day 17](https://adventofcode.com/2022/day/17)"
   ]
  },
  {
   "cell_type": "markdown",
   "metadata": {},
   "source": [
    "# Import input"
   ]
  },
  {
   "cell_type": "code",
   "execution_count": 1,
   "metadata": {
    "execution": {
     "iopub.execute_input": "2024-10-04T10:17:53.119364Z",
     "iopub.status.busy": "2024-10-04T10:17:53.119364Z",
     "iopub.status.idle": "2024-10-04T10:17:54.111183Z",
     "shell.execute_reply": "2024-10-04T10:17:54.110512Z",
     "shell.execute_reply.started": "2024-10-04T10:17:53.119364Z"
    }
   },
   "outputs": [],
   "source": [
    "import sys\n",
    "\n",
    "sys.path.insert(0, \"../\")\n",
    "from utils import aoc_input as inp\n",
    "\n",
    "in_ = inp.download_input(year=\"2022\", day=\"17\")[0]"
   ]
  },
  {
   "cell_type": "code",
   "execution_count": 2,
   "metadata": {
    "execution": {
     "iopub.execute_input": "2024-10-04T10:17:54.114004Z",
     "iopub.status.busy": "2024-10-04T10:17:54.113839Z",
     "iopub.status.idle": "2024-10-04T10:17:54.129718Z",
     "shell.execute_reply": "2024-10-04T10:17:54.128638Z",
     "shell.execute_reply.started": "2024-10-04T10:17:54.114004Z"
    }
   },
   "outputs": [
    {
     "data": {
      "text/plain": [
       "'>>><<'"
      ]
     },
     "execution_count": 2,
     "metadata": {},
     "output_type": "execute_result"
    }
   ],
   "source": [
    "in_[:5]"
   ]
  },
  {
   "cell_type": "markdown",
   "metadata": {},
   "source": [
    "# Solulu"
   ]
  },
  {
   "cell_type": "code",
   "execution_count": 3,
   "metadata": {
    "execution": {
     "iopub.execute_input": "2024-10-04T10:17:54.131654Z",
     "iopub.status.busy": "2024-10-04T10:17:54.131654Z",
     "iopub.status.idle": "2024-10-04T10:17:54.141053Z",
     "shell.execute_reply": "2024-10-04T10:17:54.141053Z",
     "shell.execute_reply.started": "2024-10-04T10:17:54.131654Z"
    }
   },
   "outputs": [],
   "source": [
    "def valid_move(rock, x, y, horz, vert):\n",
    "    for i, row in enumerate(rock):\n",
    "        for j, cell in enumerate(row):\n",
    "            new_x = x + j + horz\n",
    "            new_y = y + i + vert\n",
    "            try:\n",
    "                if new_x < 0:\n",
    "                    return False\n",
    "                elif cell == \"#\" and (grid[new_y][new_x] != 0):\n",
    "                    return False\n",
    "            except IndexError:\n",
    "                return False\n",
    "    return True\n",
    "\n",
    "\n",
    "def lock_piece(rock, x, y):\n",
    "    for i, row in enumerate(rock):\n",
    "        for j, cell in enumerate(row):\n",
    "            if cell == \"#\":\n",
    "                grid[y + i][x + j] = 1"
   ]
  },
  {
   "cell_type": "code",
   "execution_count": 4,
   "metadata": {
    "execution": {
     "iopub.execute_input": "2024-10-04T10:17:54.142971Z",
     "iopub.status.busy": "2024-10-04T10:17:54.142971Z",
     "iopub.status.idle": "2024-10-04T10:17:54.150377Z",
     "shell.execute_reply": "2024-10-04T10:17:54.149257Z",
     "shell.execute_reply.started": "2024-10-04T10:17:54.142971Z"
    }
   },
   "outputs": [],
   "source": [
    "rocks = [\n",
    "    [\n",
    "        \"####\",\n",
    "    ],\n",
    "    [\n",
    "        \".#.\",\n",
    "        \"###\",\n",
    "        \".#.\",\n",
    "    ],\n",
    "    [\n",
    "        \"..#\",\n",
    "        \"..#\",\n",
    "        \"###\",\n",
    "    ],\n",
    "    [\n",
    "        \"#\",\n",
    "        \"#\",\n",
    "        \"#\",\n",
    "        \"#\",\n",
    "    ],\n",
    "    [\n",
    "        \"##\",\n",
    "        \"##\",\n",
    "    ],\n",
    "]"
   ]
  },
  {
   "cell_type": "markdown",
   "metadata": {},
   "source": [
    "## Part 1"
   ]
  },
  {
   "cell_type": "code",
   "execution_count": 5,
   "metadata": {
    "execution": {
     "iopub.execute_input": "2024-10-04T10:17:54.151381Z",
     "iopub.status.busy": "2024-10-04T10:17:54.150377Z",
     "iopub.status.idle": "2024-10-04T10:17:54.162687Z",
     "shell.execute_reply": "2024-10-04T10:17:54.162687Z",
     "shell.execute_reply.started": "2024-10-04T10:17:54.151381Z"
    }
   },
   "outputs": [],
   "source": [
    "total_rocks = 2022\n",
    "d, m = divmod(total_rocks, 5)\n",
    "height = d * sum(len(rock) for rock in rocks) + sum(len(rock) for rock in rocks[:m])\n",
    "width = 7"
   ]
  },
  {
   "cell_type": "code",
   "execution_count": 6,
   "metadata": {
    "execution": {
     "iopub.execute_input": "2024-10-04T10:17:54.164949Z",
     "iopub.status.busy": "2024-10-04T10:17:54.164949Z",
     "iopub.status.idle": "2024-10-04T10:17:54.224632Z",
     "shell.execute_reply": "2024-10-04T10:17:54.223583Z",
     "shell.execute_reply.started": "2024-10-04T10:17:54.164949Z"
    }
   },
   "outputs": [
    {
     "data": {
      "text/plain": [
       "3215"
      ]
     },
     "execution_count": 6,
     "metadata": {},
     "output_type": "execute_result"
    }
   ],
   "source": [
    "count_rock = 0\n",
    "wind = 0\n",
    "irock = 0\n",
    "max_height = height - 1\n",
    "grid = [[0 for _ in range(width)] for _ in range(height)]\n",
    "\n",
    "while count_rock < total_rocks:\n",
    "    rock = rocks[irock]\n",
    "    x, y = 2, max_height - (2 + len(rock))\n",
    "    irock = (irock + 1) % len(rocks)\n",
    "    count_rock += 1\n",
    "    falling = True\n",
    "\n",
    "    while falling:\n",
    "        direction = in_[wind]\n",
    "        wind = (wind + 1) % len(in_)\n",
    "        if direction == \">\" and valid_move(rock, x, y, 1, 0):\n",
    "            x += 1\n",
    "        elif direction == \"<\" and valid_move(rock, x, y, -1, 0):\n",
    "            x -= 1\n",
    "\n",
    "        if valid_move(rock, x, y, 0, 1):\n",
    "            y += 1\n",
    "        else:\n",
    "            lock_piece(rock, x, y)\n",
    "            falling = False\n",
    "            max_height = min(max_height, y - 1)\n",
    "\n",
    "height - max_height - 1"
   ]
  },
  {
   "cell_type": "markdown",
   "metadata": {},
   "source": [
    "## Part 2"
   ]
  }
 ],
 "metadata": {
  "kernelspec": {
   "display_name": "Python 3 (ipykernel)",
   "language": "python",
   "name": "python3"
  },
  "language_info": {
   "codemirror_mode": {
    "name": "ipython",
    "version": 3
   },
   "file_extension": ".py",
   "mimetype": "text/x-python",
   "name": "python",
   "nbconvert_exporter": "python",
   "pygments_lexer": "ipython3",
   "version": "3.11.4"
  }
 },
 "nbformat": 4,
 "nbformat_minor": 4
}
