{
 "cells": [
  {
   "cell_type": "markdown",
   "metadata": {},
   "source": [
    "[Advent of Code - Day 23](https://adventofcode.com/2022/day/23)"
   ]
  },
  {
   "cell_type": "markdown",
   "metadata": {},
   "source": [
    "# Import input"
   ]
  },
  {
   "cell_type": "code",
   "execution_count": 1,
   "metadata": {
    "execution": {
     "iopub.execute_input": "2024-10-04T10:21:20.547145Z",
     "iopub.status.busy": "2024-10-04T10:21:20.547145Z",
     "iopub.status.idle": "2024-10-04T10:21:21.514183Z",
     "shell.execute_reply": "2024-10-04T10:21:21.512634Z",
     "shell.execute_reply.started": "2024-10-04T10:21:20.547145Z"
    }
   },
   "outputs": [],
   "source": [
    "import sys\n",
    "\n",
    "sys.path.insert(0, \"../\")\n",
    "from utils import puzzle\n",
    "\n",
    "P = puzzle.Puzzle(year=\"2022\", day=\"23\")\n",
"INPUT = P.load_input()"
   ]
  },
  {
   "cell_type": "code",
   "execution_count": 2,
   "metadata": {
    "execution": {
     "iopub.execute_input": "2024-10-04T10:21:21.516704Z",
     "iopub.status.busy": "2024-10-04T10:21:21.516704Z",
     "iopub.status.idle": "2024-10-04T10:21:21.535566Z",
     "shell.execute_reply": "2024-10-04T10:21:21.534206Z",
     "shell.execute_reply.started": "2024-10-04T10:21:21.516704Z"
    }
   },
   "outputs": [
    {
     "data": {
      "text/plain": [
       "['#..##.....###..##..##...#.#..#..#.#.#.#..#...###..#.....#.##..##.#.##.#.##',\n",
       " '..###.##.....#...####.........####..##....########.#.#..########.......#..',\n",
       " '##.....##..##.#..#.#....#.##..###.#..#.#.....##..#.###...##..#..##....#...',\n",
       " '.####..#...#.....#....###....###.###.##..##..#.##..#.#..##..###....##..###',\n",
       " '#.##.#.#.#.###..###.#..##...##.##...#.###.#.#.#.....#.##.#.#.#...#...#.###']"
      ]
     },
     "execution_count": 2,
     "metadata": {},
     "output_type": "execute_result"
    }
   ],
   "source": [
    "INPUT[:5]"
   ]
  },
  {
   "cell_type": "markdown",
   "metadata": {},
   "source": [
    "# Solulu"
   ]
  },
  {
   "cell_type": "code",
   "execution_count": 3,
   "metadata": {
    "execution": {
     "iopub.execute_input": "2024-10-04T10:21:21.537645Z",
     "iopub.status.busy": "2024-10-04T10:21:21.536564Z",
     "iopub.status.idle": "2024-10-04T10:21:21.547198Z",
     "shell.execute_reply": "2024-10-04T10:21:21.546187Z",
     "shell.execute_reply.started": "2024-10-04T10:21:21.537645Z"
    }
   },
   "outputs": [],
   "source": [
    "elves = {}\n",
    "i_elf = 0\n",
    "height, width = len(INPUT), len(INPUT[0])\n",
    "\n",
    "for row in range(height):\n",
    "    for col in range(width):\n",
    "        if INPUT[row][col] == \"#\":\n",
    "            elves[i_elf] = (row, col)\n",
    "            i_elf += 1"
   ]
  },
  {
   "cell_type": "code",
   "execution_count": 4,
   "metadata": {
    "execution": {
     "iopub.execute_input": "2024-10-04T10:21:21.549212Z",
     "iopub.status.busy": "2024-10-04T10:21:21.548200Z",
     "iopub.status.idle": "2024-10-04T10:21:21.557853Z",
     "shell.execute_reply": "2024-10-04T10:21:21.557853Z",
     "shell.execute_reply.started": "2024-10-04T10:21:21.549212Z"
    }
   },
   "outputs": [],
   "source": [
    "def record_coord(elves: dict, part: int) -> tuple:\n",
    "    elves = elves.copy()\n",
    "    prio = [\"N\", \"S\", \"W\", \"E\"]\n",
    "    rounds = 0\n",
    "\n",
    "    while True:\n",
    "        rounds += 1\n",
    "        proposal = {}\n",
    "        occupied = set(elves.values())\n",
    "\n",
    "        for elf, coord in elves.items():\n",
    "            row, col = coord\n",
    "            if is_spreaded_out(row, col, occupied):\n",
    "                continue\n",
    "\n",
    "            directions = {\n",
    "                \"N\": [(row - 1, col), (row - 1, col - 1), (row - 1, col + 1)],\n",
    "                \"S\": [(row + 1, col), (row + 1, col - 1), (row + 1, col + 1)],\n",
    "                \"W\": [(row, col - 1), (row - 1, col - 1), (row + 1, col - 1)],\n",
    "                \"E\": [(row, col + 1), (row - 1, col + 1), (row + 1, col + 1)],\n",
    "            }\n",
    "\n",
    "            for d in prio:\n",
    "                if any(coord in occupied for coord in directions[d]):\n",
    "                    continue\n",
    "                else:\n",
    "                    if directions[d][0] not in proposal:\n",
    "                        proposal[directions[d][0]] = elf\n",
    "                    else:\n",
    "                        proposal[directions[d][0]] = -1\n",
    "                    break\n",
    "\n",
    "        for coord, elf in proposal.items():\n",
    "            if elf == -1:\n",
    "                continue\n",
    "            else:\n",
    "                elves[elf] = coord\n",
    "\n",
    "        if part == 1:\n",
    "            if rounds == 10:\n",
    "                break\n",
    "        elif part == 2:\n",
    "            if not proposal:\n",
    "                if all(is_spreaded_out(*coord, occupied) for coord in occupied):\n",
    "                    break\n",
    "\n",
    "        prio.append(prio.pop(0))\n",
    "\n",
    "    return rounds, elves"
   ]
  },
  {
   "cell_type": "code",
   "execution_count": 5,
   "metadata": {
    "execution": {
     "iopub.execute_input": "2024-10-04T10:21:21.559974Z",
     "iopub.status.busy": "2024-10-04T10:21:21.559865Z",
     "iopub.status.idle": "2024-10-04T10:21:21.566787Z",
     "shell.execute_reply": "2024-10-04T10:21:21.566787Z",
     "shell.execute_reply.started": "2024-10-04T10:21:21.559974Z"
    }
   },
   "outputs": [],
   "source": [
    "def is_spreaded_out(row: int, col: int, occupied: set) -> bool:\n",
    "    surrounds = [\n",
    "        (row - 1, col - 1),\n",
    "        (row - 1, col + 1),\n",
    "        (row + 1, col - 1),\n",
    "        (row + 1, col + 1),\n",
    "        (row - 1, col),\n",
    "        (row + 1, col),\n",
    "        (row, col - 1),\n",
    "        (row, col + 1),\n",
    "    ]\n",
    "\n",
    "    if any(coord in occupied for coord in surrounds):\n",
    "        return False\n",
    "    else:\n",
    "        return True"
   ]
  },
  {
   "cell_type": "markdown",
   "metadata": {},
   "source": [
    "## Part 1"
   ]
  },
  {
   "cell_type": "code",
   "execution_count": 6,
   "metadata": {
    "execution": {
     "iopub.execute_input": "2024-10-04T10:21:21.566787Z",
     "iopub.status.busy": "2024-10-04T10:21:21.566787Z",
     "iopub.status.idle": "2024-10-04T10:21:21.718565Z",
     "shell.execute_reply": "2024-10-04T10:21:21.717544Z",
     "shell.execute_reply.started": "2024-10-04T10:21:21.566787Z"
    }
   },
   "outputs": [
    {
     "data": {
      "text/plain": [
       "4082"
      ]
     },
     "execution_count": 6,
     "metadata": {},
     "output_type": "execute_result"
    }
   ],
   "source": [
    "import math\n",
    "\n",
    "rounds, elves1 = record_coord(elves, part=1)\n",
    "mINPUTrow, max_row = math.inf, -math.inf\n",
    "mINPUTcol, max_col = math.inf, -math.inf\n",
    "\n",
    "for row, col in elves1.values():\n",
    "    mINPUTrow = min(mINPUTrow, row)\n",
    "    mINPUTcol = min(mINPUTcol, col)\n",
    "    max_row = max(max_row, row)\n",
    "    max_col = max(max_col, col)\n",
    "\n",
    "(abs(max_col - mINPUTcol) + 1) * (abs(max_row - mINPUTrow) + 1) - i_elf"
   ]
  },
  {
   "cell_type": "markdown",
   "metadata": {},
   "source": [
    "## Part 2"
   ]
  },
  {
   "cell_type": "code",
   "execution_count": 7,
   "metadata": {
    "execution": {
     "iopub.execute_input": "2024-10-04T10:21:21.719555Z",
     "iopub.status.busy": "2024-10-04T10:21:21.719555Z",
     "iopub.status.idle": "2024-10-04T10:21:31.528962Z",
     "shell.execute_reply": "2024-10-04T10:21:31.527944Z",
     "shell.execute_reply.started": "2024-10-04T10:21:21.719555Z"
    }
   },
   "outputs": [
    {
     "data": {
      "text/plain": [
       "1065"
      ]
     },
     "execution_count": 7,
     "metadata": {},
     "output_type": "execute_result"
    }
   ],
   "source": [
    "rounds, _ = record_coord(elves, part=2)\n",
    "\n",
    "rounds"
   ]
  }
 ],
 "metadata": {
  "kernelspec": {
   "display_name": "Python 3 (ipykernel)",
   "language": "python",
   "name": "python3"
  },
  "language_info": {
   "codemirror_mode": {
    "name": "ipython",
    "version": 3
   },
   "file_extension": ".py",
   "mimetype": "text/x-python",
   "name": "python",
   "nbconvert_exporter": "python",
   "pygments_lexer": "ipython3",
   "version": "3.11.4"
  }
 },
 "nbformat": 4,
 "nbformat_minor": 4
}
