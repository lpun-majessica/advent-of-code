{
 "cells": [
  {
   "cell_type": "markdown",
   "metadata": {},
   "source": [
    "[Advent of Code - Day 04](https://adventofcode.com/2022/day/4)"
   ]
  },
  {
   "cell_type": "markdown",
   "metadata": {},
   "source": [
    "# Import input"
   ]
  },
  {
   "cell_type": "code",
   "execution_count": 1,
   "metadata": {
    "execution": {
     "iopub.execute_input": "2024-10-04T10:05:52.914416Z",
     "iopub.status.busy": "2024-10-04T10:05:52.914416Z",
     "iopub.status.idle": "2024-10-04T10:05:54.444535Z",
     "shell.execute_reply": "2024-10-04T10:05:54.443590Z",
     "shell.execute_reply.started": "2024-10-04T10:05:52.914416Z"
    }
   },
   "outputs": [],
   "source": [
    "import sys\n",
    "\n",
    "sys.path.insert(0, \"../\")\n",
    "from utils import aoc_input as inp\n",
    "\n",
    "in_ = inp.download_input(year=\"2022\", day=\"04\")"
   ]
  },
  {
   "cell_type": "code",
   "execution_count": 2,
   "metadata": {
    "execution": {
     "iopub.execute_input": "2024-10-04T10:05:54.446545Z",
     "iopub.status.busy": "2024-10-04T10:05:54.446545Z",
     "iopub.status.idle": "2024-10-04T10:05:54.464966Z",
     "shell.execute_reply": "2024-10-04T10:05:54.462923Z",
     "shell.execute_reply.started": "2024-10-04T10:05:54.446545Z"
    }
   },
   "outputs": [
    {
     "data": {
      "text/plain": [
       "['36-92,35-78', '26-31,25-27', '17-72,16-71', '3-77,76-90', '20-22,21-87']"
      ]
     },
     "execution_count": 2,
     "metadata": {},
     "output_type": "execute_result"
    }
   ],
   "source": [
    "in_[:5]"
   ]
  },
  {
   "cell_type": "markdown",
   "metadata": {},
   "source": [
    "# Solulu"
   ]
  },
  {
   "cell_type": "markdown",
   "metadata": {},
   "source": [
    "## Part 1"
   ]
  },
  {
   "cell_type": "code",
   "execution_count": 3,
   "metadata": {
    "execution": {
     "iopub.execute_input": "2024-10-04T10:05:54.466958Z",
     "iopub.status.busy": "2024-10-04T10:05:54.465958Z",
     "iopub.status.idle": "2024-10-04T10:05:54.479885Z",
     "shell.execute_reply": "2024-10-04T10:05:54.479885Z",
     "shell.execute_reply.started": "2024-10-04T10:05:54.466958Z"
    }
   },
   "outputs": [
    {
     "data": {
      "text/plain": [
       "494"
      ]
     },
     "execution_count": 3,
     "metadata": {},
     "output_type": "execute_result"
    }
   ],
   "source": [
    "res = 0\n",
    "\n",
    "for line in in_:\n",
    "    elf1, elf2 = line.split(\",\")\n",
    "    start1, end1 = map(int, elf1.split(\"-\"))\n",
    "    start2, end2 = map(int, elf2.split(\"-\"))\n",
    "\n",
    "    if start1 <= start2 and end1 >= end2:\n",
    "        res += 1\n",
    "    elif start1 >= start2 and end1 <= end2:\n",
    "        res += 1\n",
    "\n",
    "res"
   ]
  },
  {
   "cell_type": "markdown",
   "metadata": {},
   "source": [
    "## Part 2"
   ]
  },
  {
   "cell_type": "code",
   "execution_count": 4,
   "metadata": {
    "execution": {
     "iopub.execute_input": "2024-10-04T10:05:54.481897Z",
     "iopub.status.busy": "2024-10-04T10:05:54.481897Z",
     "iopub.status.idle": "2024-10-04T10:05:54.493238Z",
     "shell.execute_reply": "2024-10-04T10:05:54.492227Z",
     "shell.execute_reply.started": "2024-10-04T10:05:54.481897Z"
    }
   },
   "outputs": [
    {
     "data": {
      "text/plain": [
       "833"
      ]
     },
     "execution_count": 4,
     "metadata": {},
     "output_type": "execute_result"
    }
   ],
   "source": [
    "res = 0\n",
    "\n",
    "for line in in_:\n",
    "    elf1, elf2 = line.split(\",\")\n",
    "    start1, end1 = map(int, elf1.split(\"-\"))\n",
    "    start2, end2 = map(int, elf2.split(\"-\"))\n",
    "\n",
    "    if start2 <= start1 <= end2 or start2 <= end1 <= end2:\n",
    "        res += 1\n",
    "    elif start1 <= start2 <= end1 or start1 <= end2 <= end1:\n",
    "        res += 1\n",
    "\n",
    "res"
   ]
  }
 ],
 "metadata": {
  "kernelspec": {
   "display_name": "Python 3 (ipykernel)",
   "language": "python",
   "name": "python3"
  },
  "language_info": {
   "codemirror_mode": {
    "name": "ipython",
    "version": 3
   },
   "file_extension": ".py",
   "mimetype": "text/x-python",
   "name": "python",
   "nbconvert_exporter": "python",
   "pygments_lexer": "ipython3",
   "version": "3.11.4"
  }
 },
 "nbformat": 4,
 "nbformat_minor": 4
}
