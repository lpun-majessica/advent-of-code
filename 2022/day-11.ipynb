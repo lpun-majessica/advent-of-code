{
 "cells": [
  {
   "cell_type": "markdown",
   "metadata": {},
   "source": [
    "[Advent of Code - Day 11](https://adventofcode.com/2022/day/11)"
   ]
  },
  {
   "cell_type": "markdown",
   "metadata": {},
   "source": [
    "# Import input"
   ]
  },
  {
   "cell_type": "code",
   "execution_count": 1,
   "metadata": {
    "execution": {
     "iopub.execute_input": "2024-10-04T10:13:08.545919Z",
     "iopub.status.busy": "2024-10-04T10:13:08.545919Z",
     "iopub.status.idle": "2024-10-04T10:13:09.466703Z",
     "shell.execute_reply": "2024-10-04T10:13:09.466703Z",
     "shell.execute_reply.started": "2024-10-04T10:13:08.545919Z"
    }
   },
   "outputs": [],
   "source": [
    "import sys\n",
    "import math\n",
    "\n",
    "sys.path.insert(0, \"../\")\n",
    "from utils import aoc_input as inp\n",
    "\n",
    "in_ = inp.download_input(year=\"2022\", day=\"11\")"
   ]
  },
  {
   "cell_type": "code",
   "execution_count": 2,
   "metadata": {
    "execution": {
     "iopub.execute_input": "2024-10-04T10:13:09.470066Z",
     "iopub.status.busy": "2024-10-04T10:13:09.466703Z",
     "iopub.status.idle": "2024-10-04T10:13:09.486299Z",
     "shell.execute_reply": "2024-10-04T10:13:09.485256Z",
     "shell.execute_reply.started": "2024-10-04T10:13:09.470066Z"
    }
   },
   "outputs": [
    {
     "data": {
      "text/plain": [
       "['Monkey 0:',\n",
       " '  Starting items: 57, 58',\n",
       " '  Operation: new = old * 19',\n",
       " '  Test: divisible by 7',\n",
       " '    If true: throw to monkey 2']"
      ]
     },
     "execution_count": 2,
     "metadata": {},
     "output_type": "execute_result"
    }
   ],
   "source": [
    "in_[:5]"
   ]
  },
  {
   "cell_type": "markdown",
   "metadata": {},
   "source": [
    "# Solulu"
   ]
  },
  {
   "cell_type": "code",
   "execution_count": 3,
   "metadata": {
    "execution": {
     "iopub.execute_input": "2024-10-04T10:13:09.487304Z",
     "iopub.status.busy": "2024-10-04T10:13:09.487304Z",
     "iopub.status.idle": "2024-10-04T10:13:09.495054Z",
     "shell.execute_reply": "2024-10-04T10:13:09.495054Z",
     "shell.execute_reply.started": "2024-10-04T10:13:09.487304Z"
    }
   },
   "outputs": [],
   "source": [
    "def create_input(in_):\n",
    "    monke = {}\n",
    "\n",
    "    for line in in_:\n",
    "        line = line.lower()\n",
    "        if line.startswith(\"monkey\"):\n",
    "            num = int(line.strip(\":\").split(\" \")[-1])\n",
    "            monke[num] = {\"inspects\": 0}\n",
    "\n",
    "        elif \"items\" in line:\n",
    "            items = \"\".join(line.split(\":\")[1:]).strip().split(\", \")\n",
    "            monke[num][\"items\"] = list(map(int, items))\n",
    "\n",
    "        elif \"operation\" in line:\n",
    "            monke[num][\"operation\"] = line.replace(\"old\", \"item\").split(\" = \")[-1]\n",
    "\n",
    "        elif \"test\" in line:\n",
    "            divisible = int(line.split(\" \")[-1])\n",
    "            monke[num][\"test\"] = [0, 0, divisible]\n",
    "\n",
    "        elif \"true\" in line:\n",
    "            throw = int(line.split(\" \")[-1])\n",
    "            monke[num][\"test\"][1] = throw\n",
    "\n",
    "        elif \"false\" in line:\n",
    "            throw = int(line.split(\" \")[-1])\n",
    "            monke[num][\"test\"][0] = throw\n",
    "    return monke"
   ]
  },
  {
   "cell_type": "markdown",
   "metadata": {},
   "source": [
    "## Part 1"
   ]
  },
  {
   "cell_type": "code",
   "execution_count": 4,
   "metadata": {
    "execution": {
     "iopub.execute_input": "2024-10-04T10:13:09.497059Z",
     "iopub.status.busy": "2024-10-04T10:13:09.496057Z",
     "iopub.status.idle": "2024-10-04T10:13:09.512541Z",
     "shell.execute_reply": "2024-10-04T10:13:09.512541Z",
     "shell.execute_reply.started": "2024-10-04T10:13:09.497059Z"
    }
   },
   "outputs": [],
   "source": [
    "turns = 20\n",
    "monke = create_input(in_)\n",
    "total_monke = len(monke.keys())\n",
    "\n",
    "for _ in range(turns):\n",
    "    for i in range(total_monke):\n",
    "        op = monke[i][\"operation\"]\n",
    "        test = monke[i][\"test\"][-1]\n",
    "        while monke[i][\"items\"]:\n",
    "            monke[i][\"inspects\"] += 1\n",
    "            item = monke[i][\"items\"].pop(0)\n",
    "            item = eval(op) // 3\n",
    "            divisible = item % test == 0\n",
    "\n",
    "            throw = monke[i][\"test\"][divisible]\n",
    "            monke[throw][\"items\"].append(item)"
   ]
  },
  {
   "cell_type": "code",
   "execution_count": 5,
   "metadata": {
    "execution": {
     "iopub.execute_input": "2024-10-04T10:13:09.514339Z",
     "iopub.status.busy": "2024-10-04T10:13:09.514339Z",
     "iopub.status.idle": "2024-10-04T10:13:09.527386Z",
     "shell.execute_reply": "2024-10-04T10:13:09.526383Z",
     "shell.execute_reply.started": "2024-10-04T10:13:09.514339Z"
    }
   },
   "outputs": [
    {
     "data": {
      "text/plain": [
       "50830"
      ]
     },
     "execution_count": 5,
     "metadata": {},
     "output_type": "execute_result"
    }
   ],
   "source": [
    "inspects = []\n",
    "for mk, curr in monke.items():\n",
    "    inspects.append(curr[\"inspects\"])\n",
    "\n",
    "inspects = sorted(inspects, reverse=True)[:2]\n",
    "inspects[0] * inspects[1]"
   ]
  },
  {
   "cell_type": "markdown",
   "metadata": {},
   "source": [
    "## Part 2"
   ]
  },
  {
   "cell_type": "code",
   "execution_count": 6,
   "metadata": {
    "execution": {
     "iopub.execute_input": "2024-10-04T10:13:09.528099Z",
     "iopub.status.busy": "2024-10-04T10:13:09.528099Z",
     "iopub.status.idle": "2024-10-04T10:13:13.836189Z",
     "shell.execute_reply": "2024-10-04T10:13:13.836189Z",
     "shell.execute_reply.started": "2024-10-04T10:13:09.528099Z"
    }
   },
   "outputs": [],
   "source": [
    "turns = 10_000\n",
    "monke = create_input(in_)\n",
    "total_monke = len(monke.keys())\n",
    "\n",
    "lcm = []\n",
    "for i in range(total_monke):\n",
    "    lcm.append(monke[i][\"test\"][-1])\n",
    "lcm = math.lcm(*lcm)\n",
    "\n",
    "for _ in range(turns):\n",
    "    for i in range(total_monke):\n",
    "        op = monke[i][\"operation\"]\n",
    "        test = monke[i][\"test\"][-1]\n",
    "        while monke[i][\"items\"]:\n",
    "            monke[i][\"inspects\"] += 1\n",
    "            item = monke[i][\"items\"].pop(0)\n",
    "            item = eval(op) % lcm\n",
    "            divisible = item % test == 0\n",
    "\n",
    "            throw = monke[i][\"test\"][divisible]\n",
    "            monke[throw][\"items\"].append(item)"
   ]
  },
  {
   "cell_type": "code",
   "execution_count": 7,
   "metadata": {
    "execution": {
     "iopub.execute_input": "2024-10-04T10:13:13.837715Z",
     "iopub.status.busy": "2024-10-04T10:13:13.837715Z",
     "iopub.status.idle": "2024-10-04T10:13:13.846084Z",
     "shell.execute_reply": "2024-10-04T10:13:13.845025Z",
     "shell.execute_reply.started": "2024-10-04T10:13:13.837715Z"
    }
   },
   "outputs": [
    {
     "data": {
      "text/plain": [
       "14399640002"
      ]
     },
     "execution_count": 7,
     "metadata": {},
     "output_type": "execute_result"
    }
   ],
   "source": [
    "inspects = []\n",
    "for mk, curr in monke.items():\n",
    "    inspects.append(curr[\"inspects\"])\n",
    "\n",
    "inspects = sorted(inspects, reverse=True)[:2]\n",
    "inspects[0] * inspects[1]"
   ]
  }
 ],
 "metadata": {
  "kernelspec": {
   "display_name": "Python 3 (ipykernel)",
   "language": "python",
   "name": "python3"
  },
  "language_info": {
   "codemirror_mode": {
    "name": "ipython",
    "version": 3
   },
   "file_extension": ".py",
   "mimetype": "text/x-python",
   "name": "python",
   "nbconvert_exporter": "python",
   "pygments_lexer": "ipython3",
   "version": "3.11.4"
  }
 },
 "nbformat": 4,
 "nbformat_minor": 4
}
