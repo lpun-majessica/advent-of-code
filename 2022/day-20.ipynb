{
 "cells": [
  {
   "cell_type": "markdown",
   "metadata": {},
   "source": [
    "[Advent of Code - Day 20](https://adventofcode.com/2022/day/20)"
   ]
  },
  {
   "cell_type": "markdown",
   "metadata": {},
   "source": [
    "# Import input"
   ]
  },
  {
   "cell_type": "code",
   "execution_count": 1,
   "metadata": {
    "execution": {
     "iopub.execute_input": "2024-10-04T10:19:34.876271Z",
     "iopub.status.busy": "2024-10-04T10:19:34.876271Z",
     "iopub.status.idle": "2024-10-04T10:19:36.069246Z",
     "shell.execute_reply": "2024-10-04T10:19:36.068239Z",
     "shell.execute_reply.started": "2024-10-04T10:19:34.876271Z"
    }
   },
   "outputs": [],
   "source": [
    "import sys\n",
    "\n",
    "sys.path.insert(0, \"../\")\n",
    "from utils import aoc_input as inp\n",
    "\n",
    "INPUT = inp.download_input(year=\"2022\", day=\"20\")"
   ]
  },
  {
   "cell_type": "code",
   "execution_count": 2,
   "metadata": {
    "execution": {
     "iopub.execute_input": "2024-10-04T10:19:36.071261Z",
     "iopub.status.busy": "2024-10-04T10:19:36.071261Z",
     "iopub.status.idle": "2024-10-04T10:19:36.087300Z",
     "shell.execute_reply": "2024-10-04T10:19:36.086272Z",
     "shell.execute_reply.started": "2024-10-04T10:19:36.071261Z"
    }
   },
   "outputs": [
    {
     "data": {
      "text/plain": [
       "['7063', '-550', '5206', '-9194', '-2569']"
      ]
     },
     "execution_count": 2,
     "metadata": {},
     "output_type": "execute_result"
    }
   ],
   "source": [
    "INPUT[:5]"
   ]
  },
  {
   "cell_type": "markdown",
   "metadata": {},
   "source": [
    "# Solulu"
   ]
  },
  {
   "cell_type": "code",
   "execution_count": 3,
   "metadata": {
    "execution": {
     "iopub.execute_input": "2024-10-04T10:19:36.089297Z",
     "iopub.status.busy": "2024-10-04T10:19:36.089297Z",
     "iopub.status.idle": "2024-10-04T10:19:36.103565Z",
     "shell.execute_reply": "2024-10-04T10:19:36.102030Z",
     "shell.execute_reply.started": "2024-10-04T10:19:36.089297Z"
    }
   },
   "outputs": [],
   "source": [
    "def solve(inp: list = INPUT, decryption_key: int = 1, mixes: int = 1) -> int:\n",
    "    file = [int(num) * decryption_key for num in INPUT]\n",
    "    file_index = {i: num for i, num in enumerate(file)}\n",
    "    total_numbers = len(file)\n",
    "    mixing = [i for i in range(len(file))]\n",
    "\n",
    "    while mixes > 0:\n",
    "        idx = 0\n",
    "        mixes -= 1\n",
    "        while idx < total_numbers:\n",
    "            order = mixing.index(idx)\n",
    "            move = file_index[idx]\n",
    "            new_order = order + move\n",
    "            idx += 1\n",
    "\n",
    "            if new_order == 0:\n",
    "                new_order = total_numbers\n",
    "            else:\n",
    "                new_order = new_order % (total_numbers - 1)\n",
    "\n",
    "            mixing.insert(new_order, mixing.pop(order))\n",
    "\n",
    "    i_zero = [k for k, v in file_index.items() if v == 0][0]\n",
    "    i_zero_after_mix = mixing.index(i_zero)\n",
    "    res = 0\n",
    "\n",
    "    for i in [1000, 2000, 3000]:\n",
    "        grove_coord = (i_zero_after_mix + i) % total_numbers\n",
    "        res += file_index[mixing[grove_coord]]\n",
    "\n",
    "    return res"
   ]
  },
  {
   "cell_type": "markdown",
   "metadata": {},
   "source": [
    "## Part 1"
   ]
  },
  {
   "cell_type": "code",
   "execution_count": 4,
   "metadata": {
    "execution": {
     "iopub.execute_input": "2024-10-04T10:19:36.106608Z",
     "iopub.status.busy": "2024-10-04T10:19:36.105609Z",
     "iopub.status.idle": "2024-10-04T10:19:36.244286Z",
     "shell.execute_reply": "2024-10-04T10:19:36.244286Z",
     "shell.execute_reply.started": "2024-10-04T10:19:36.105609Z"
    }
   },
   "outputs": [
    {
     "data": {
      "text/plain": [
       "6712"
      ]
     },
     "execution_count": 4,
     "metadata": {},
     "output_type": "execute_result"
    }
   ],
   "source": [
    "solve(decryption_key=1, mixes=1)"
   ]
  },
  {
   "cell_type": "markdown",
   "metadata": {},
   "source": [
    "## Part 2"
   ]
  },
  {
   "cell_type": "code",
   "execution_count": 5,
   "metadata": {
    "execution": {
     "iopub.execute_input": "2024-10-04T10:19:36.245345Z",
     "iopub.status.busy": "2024-10-04T10:19:36.245345Z",
     "iopub.status.idle": "2024-10-04T10:19:37.985940Z",
     "shell.execute_reply": "2024-10-04T10:19:37.985940Z",
     "shell.execute_reply.started": "2024-10-04T10:19:36.245345Z"
    }
   },
   "outputs": [
    {
     "data": {
      "text/plain": [
       "1595584274798"
      ]
     },
     "execution_count": 5,
     "metadata": {},
     "output_type": "execute_result"
    }
   ],
   "source": [
    "solve(decryption_key=811_589_153, mixes=10)"
   ]
  }
 ],
 "metadata": {
  "kernelspec": {
   "display_name": "Python 3 (ipykernel)",
   "language": "python",
   "name": "python3"
  },
  "language_info": {
   "codemirror_mode": {
    "name": "ipython",
    "version": 3
   },
   "file_extension": ".py",
   "mimetype": "text/x-python",
   "name": "python",
   "nbconvert_exporter": "python",
   "pygments_lexer": "ipython3",
   "version": "3.11.4"
  }
 },
 "nbformat": 4,
 "nbformat_minor": 4
}
