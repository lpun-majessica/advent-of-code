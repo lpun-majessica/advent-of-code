{
 "cells": [
  {
   "cell_type": "markdown",
   "metadata": {},
   "source": [
    "[Advent of Code - Day 24](https://adventofcode.com/2022/day/24)"
   ]
  },
  {
   "cell_type": "markdown",
   "metadata": {},
   "source": [
    "# Import input"
   ]
  },
  {
   "cell_type": "code",
   "execution_count": 1,
   "metadata": {
    "execution": {
     "iopub.execute_input": "2024-10-04T10:22:15.142443Z",
     "iopub.status.busy": "2024-10-04T10:22:15.142443Z",
     "iopub.status.idle": "2024-10-04T10:22:16.130192Z",
     "shell.execute_reply": "2024-10-04T10:22:16.128517Z",
     "shell.execute_reply.started": "2024-10-04T10:22:15.142443Z"
    }
   },
   "outputs": [],
   "source": [
    "import sys\n",
    "from math import lcm\n",
    "from heapq import heappush, heappop\n",
    "\n",
    "sys.path.insert(0, \"../\")\n",
    "from utils import puzzle\n",
    "\n",
    "P = puzzle.Puzzle(year=\"2022\", day=\"24\")\n",
"INPUT = P.load_input()"
   ]
  },
  {
   "cell_type": "code",
   "execution_count": 2,
   "metadata": {
    "execution": {
     "iopub.execute_input": "2024-10-04T10:22:16.132708Z",
     "iopub.status.busy": "2024-10-04T10:22:16.131198Z",
     "iopub.status.idle": "2024-10-04T10:22:16.146006Z",
     "shell.execute_reply": "2024-10-04T10:22:16.145193Z",
     "shell.execute_reply.started": "2024-10-04T10:22:16.132708Z"
    }
   },
   "outputs": [
    {
     "data": {
      "text/plain": [
       "['#.########################################################################################################################',\n",
       " '#>v>^>^<<^>v^>vv<.><>v^>vvv><.>^^.<.^>^vv>v^v>.>>>.v^>>^<v<v<.<<>v^v<^>^<<v>^<<v>><>^v<.^v^^v<v>>>^<.v<^^v>^^<>><v^v^<.v.#',\n",
       " '#.>.^<.>^<v<.v>v^<^>>^v^>v>v<.v>v^v.>^><>v<>.^v><>.<v^>.v<<^..>^<<^<<>vv^<v<><v<^^>>v^><.>v<v<^>^^^^>..<<><>>^>^^<.>>v...#',\n",
       " '#<<.><<<v^vv^<>>..<<>>>^<.<v^..vv><^vv^^<^<>>v<^>.<>^>v<>^>v><v^>v^>v><>>v^>vv>v^v>.>^v<^<^><^vv<^v>v^^v^.^<>v.^<>^.>v>v<#',\n",
       " '#<^v^^><^^<^<v^^<^^<>.<^<v>v..<v^^vvv<>><v^.<>>><>v>^v>v<v.v.vv<vv<>><>><^^<vv>.>>.<>>^>v>^v.>.><<<<>^>^>v>v>^><^^v<^vv<>#']"
      ]
     },
     "execution_count": 2,
     "metadata": {},
     "output_type": "execute_result"
    }
   ],
   "source": [
    "INPUT[:5]"
   ]
  },
  {
   "cell_type": "markdown",
   "metadata": {},
   "source": [
    "# Solulu\n",
    "\n",
    "Inspired by [silentw0lf's solution](https://github.com/silentw0lf/advent_of_code_2022/blob/main/24/solve.py#L35)"
   ]
  },
  {
   "cell_type": "code",
   "execution_count": 3,
   "metadata": {
    "execution": {
     "iopub.execute_input": "2024-10-04T10:22:16.147015Z",
     "iopub.status.busy": "2024-10-04T10:22:16.147015Z",
     "iopub.status.idle": "2024-10-04T10:22:16.163659Z",
     "shell.execute_reply": "2024-10-04T10:22:16.162618Z",
     "shell.execute_reply.started": "2024-10-04T10:22:16.147015Z"
    }
   },
   "outputs": [],
   "source": [
    "height, width = len(INPUT), len(INPUT[0])\n",
    "start = (0, INPUT[0].index(\".\"))\n",
    "end = (height - 1, INPUT[height - 1].index(\".\"))"
   ]
  },
  {
   "cell_type": "code",
   "execution_count": 4,
   "metadata": {
    "execution": {
     "iopub.execute_input": "2024-10-04T10:22:16.164661Z",
     "iopub.status.busy": "2024-10-04T10:22:16.164661Z",
     "iopub.status.idle": "2024-10-04T10:22:16.173445Z",
     "shell.execute_reply": "2024-10-04T10:22:16.172424Z",
     "shell.execute_reply.started": "2024-10-04T10:22:16.164661Z"
    }
   },
   "outputs": [],
   "source": [
    "def solve(start: tuple, end: tuple, start_time: int = 0) -> int:\n",
    "    time = start_time\n",
    "    visited = set()\n",
    "    queue = []\n",
    "    heappush(queue, (time, start))\n",
    "\n",
    "    while True:\n",
    "        time, (row, col) = heappop(queue)\n",
    "        state = time % blizzard_states\n",
    "\n",
    "        if (row, col, state) not in visited:\n",
    "            visited.add((row, col, state))\n",
    "            if (row, col) == end:\n",
    "                return time - start_time\n",
    "\n",
    "            moves = [\n",
    "                (row - 1, col),\n",
    "                (row + 1, col),\n",
    "                (row, col - 1),\n",
    "                (row, col + 1),\n",
    "                (row, col),\n",
    "            ]\n",
    "            for move in moves:\n",
    "                r, c = move\n",
    "                if is_valid(*move, state):\n",
    "                    heappush(queue, (time + 1, move))"
   ]
  },
  {
   "cell_type": "code",
   "execution_count": 5,
   "metadata": {
    "execution": {
     "iopub.execute_input": "2024-10-04T10:22:16.174480Z",
     "iopub.status.busy": "2024-10-04T10:22:16.174480Z",
     "iopub.status.idle": "2024-10-04T10:22:16.181701Z",
     "shell.execute_reply": "2024-10-04T10:22:16.180686Z",
     "shell.execute_reply.started": "2024-10-04T10:22:16.174480Z"
    }
   },
   "outputs": [],
   "source": [
    "def is_valid(row, col, state) -> bool:\n",
    "    global height, width\n",
    "\n",
    "    if row in range(height) and col in range(width):\n",
    "        if INPUT[row][col] == \"#\" or (row, col) in blizzard_coords[state]:\n",
    "            return False\n",
    "        else:\n",
    "            return True\n",
    "    else:\n",
    "        return False"
   ]
  },
  {
   "cell_type": "code",
   "execution_count": 6,
   "metadata": {
    "execution": {
     "iopub.execute_input": "2024-10-04T10:22:16.184275Z",
     "iopub.status.busy": "2024-10-04T10:22:16.183268Z",
     "iopub.status.idle": "2024-10-04T10:22:16.190042Z",
     "shell.execute_reply": "2024-10-04T10:22:16.190042Z",
     "shell.execute_reply.started": "2024-10-04T10:22:16.184275Z"
    }
   },
   "outputs": [],
   "source": [
    "def update(blizzards: dict) -> dict:\n",
    "    global height, width\n",
    "    new_blizzards = {coord: [] for coord in blizzards.keys()}\n",
    "\n",
    "    for (row, col), blizz in blizzards.items():\n",
    "        blizz_copy = blizz.copy()\n",
    "\n",
    "        while blizz_copy:\n",
    "            bl = blizz_copy.pop(0)\n",
    "            if bl == \"^\":\n",
    "                new_row = height - 2 if row == 1 else row - 1\n",
    "                new_col = col\n",
    "\n",
    "            elif bl == \"v\":\n",
    "                new_row = 1 if row == height - 2 else row + 1\n",
    "                new_col = col\n",
    "\n",
    "            elif bl == \"<\":\n",
    "                new_row = row\n",
    "                new_col = width - 2 if col == 1 else col - 1\n",
    "\n",
    "            elif bl == \">\":\n",
    "                new_row = row\n",
    "                new_col = 1 if col == width - 2 else col + 1\n",
    "\n",
    "            new_blizzards[(new_row, new_col)].append(bl)\n",
    "\n",
    "    return new_blizzards"
   ]
  },
  {
   "cell_type": "code",
   "execution_count": 7,
   "metadata": {
    "execution": {
     "iopub.execute_input": "2024-10-04T10:22:16.191052Z",
     "iopub.status.busy": "2024-10-04T10:22:16.191052Z",
     "iopub.status.idle": "2024-10-04T10:22:16.203416Z",
     "shell.execute_reply": "2024-10-04T10:22:16.202403Z",
     "shell.execute_reply.started": "2024-10-04T10:22:16.191052Z"
    }
   },
   "outputs": [],
   "source": [
    "blizzards = dict()\n",
    "\n",
    "for irow in range(height):\n",
    "    for icol in range(width):\n",
    "        if INPUT[irow][icol] == \"#\":\n",
    "            continue\n",
    "        blizzards[(irow, icol)] = []\n",
    "\n",
    "        if INPUT[irow][icol] in [\"^\", \"v\", \"<\", \">\"]:\n",
    "            blizzards[(irow, icol)].append(INPUT[irow][icol])"
   ]
  },
  {
   "cell_type": "code",
   "execution_count": 8,
   "metadata": {
    "execution": {
     "iopub.execute_input": "2024-10-04T10:22:16.203416Z",
     "iopub.status.busy": "2024-10-04T10:22:16.203416Z",
     "iopub.status.idle": "2024-10-04T10:22:18.107391Z",
     "shell.execute_reply": "2024-10-04T10:22:18.106469Z",
     "shell.execute_reply.started": "2024-10-04T10:22:16.203416Z"
    },
    "scrolled": true
   },
   "outputs": [],
   "source": [
    "blizzard_states = lcm(height - 2, width - 2)\n",
    "blizzard_coords = {}\n",
    "\n",
    "for state in range(0, blizzard_states):\n",
    "    blizzards = update(blizzards)\n",
    "    blizzard_coords[state] = set([coord for coord, blizz in blizzards.items() if blizz])"
   ]
  },
  {
   "cell_type": "markdown",
   "metadata": {},
   "source": [
    "## Part 1"
   ]
  },
  {
   "cell_type": "code",
   "execution_count": 9,
   "metadata": {
    "execution": {
     "iopub.execute_input": "2024-10-04T10:22:18.107391Z",
     "iopub.status.busy": "2024-10-04T10:22:18.107391Z",
     "iopub.status.idle": "2024-10-04T10:22:18.980001Z",
     "shell.execute_reply": "2024-10-04T10:22:18.978994Z",
     "shell.execute_reply.started": "2024-10-04T10:22:18.107391Z"
    }
   },
   "outputs": [
    {
     "data": {
      "text/plain": [
       "257"
      ]
     },
     "execution_count": 9,
     "metadata": {},
     "output_type": "execute_result"
    }
   ],
   "source": [
    "solve(start=start, end=end, start_time=0)"
   ]
  },
  {
   "cell_type": "markdown",
   "metadata": {},
   "source": [
    "## Part 2"
   ]
  },
  {
   "cell_type": "code",
   "execution_count": 10,
   "metadata": {
    "execution": {
     "iopub.execute_input": "2024-10-04T10:22:18.981002Z",
     "iopub.status.busy": "2024-10-04T10:22:18.980001Z",
     "iopub.status.idle": "2024-10-04T10:22:22.735804Z",
     "shell.execute_reply": "2024-10-04T10:22:22.734694Z",
     "shell.execute_reply.started": "2024-10-04T10:22:18.981002Z"
    }
   },
   "outputs": [
    {
     "data": {
      "text/plain": [
       "828"
      ]
     },
     "execution_count": 10,
     "metadata": {},
     "output_type": "execute_result"
    }
   ],
   "source": [
    "time = solve(start=start, end=end, start_time=0)\n",
    "time += solve(start=end, end=start, start_time=time)\n",
    "time += solve(start=start, end=end, start_time=time)\n",
    "\n",
    "time"
   ]
  }
 ],
 "metadata": {
  "kernelspec": {
   "display_name": "Python 3 (ipykernel)",
   "language": "python",
   "name": "python3"
  },
  "language_info": {
   "codemirror_mode": {
    "name": "ipython",
    "version": 3
   },
   "file_extension": ".py",
   "mimetype": "text/x-python",
   "name": "python",
   "nbconvert_exporter": "python",
   "pygments_lexer": "ipython3",
   "version": "3.11.4"
  }
 },
 "nbformat": 4,
 "nbformat_minor": 4
}
