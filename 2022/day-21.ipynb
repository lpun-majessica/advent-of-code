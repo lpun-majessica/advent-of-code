{
 "cells": [
  {
   "cell_type": "markdown",
   "metadata": {},
   "source": [
    "[Advent of Code - Day 21](https://adventofcode.com/2022/day/21)"
   ]
  },
  {
   "cell_type": "markdown",
   "metadata": {},
   "source": [
    "# Import input"
   ]
  },
  {
   "cell_type": "code",
   "execution_count": 1,
   "metadata": {
    "execution": {
     "iopub.execute_input": "2024-10-04T10:20:15.511651Z",
     "iopub.status.busy": "2024-10-04T10:20:15.511651Z",
     "iopub.status.idle": "2024-10-04T10:20:16.874046Z",
     "shell.execute_reply": "2024-10-04T10:20:16.872426Z",
     "shell.execute_reply.started": "2024-10-04T10:20:15.511651Z"
    }
   },
   "outputs": [],
   "source": [
    "import sys\n",
    "\n",
    "sys.path.insert(0, \"../\")\n",
    "from utils import aoc_input as inp\n",
    "\n",
    "INPUT = inp.download_input(year=\"2022\", day=\"21\")"
   ]
  },
  {
   "cell_type": "code",
   "execution_count": 2,
   "metadata": {
    "execution": {
     "iopub.execute_input": "2024-10-04T10:20:16.876235Z",
     "iopub.status.busy": "2024-10-04T10:20:16.876235Z",
     "iopub.status.idle": "2024-10-04T10:20:16.898227Z",
     "shell.execute_reply": "2024-10-04T10:20:16.897137Z",
     "shell.execute_reply.started": "2024-10-04T10:20:16.876235Z"
    }
   },
   "outputs": [
    {
     "data": {
      "text/plain": [
       "['jjpb: vzzs + nngm', 'dmzc: 2', 'mlsm: 5', 'tjgv: qfpr / qsqj', 'wclg: 2']"
      ]
     },
     "execution_count": 2,
     "metadata": {},
     "output_type": "execute_result"
    }
   ],
   "source": [
    "INPUT[:5]"
   ]
  },
  {
   "cell_type": "markdown",
   "metadata": {},
   "source": [
    "# Solulu"
   ]
  },
  {
   "cell_type": "code",
   "execution_count": 3,
   "metadata": {
    "execution": {
     "iopub.execute_input": "2024-10-04T10:20:16.901630Z",
     "iopub.status.busy": "2024-10-04T10:20:16.900259Z",
     "iopub.status.idle": "2024-10-04T10:20:16.926691Z",
     "shell.execute_reply": "2024-10-04T10:20:16.924461Z",
     "shell.execute_reply.started": "2024-10-04T10:20:16.901630Z"
    },
    "scrolled": true
   },
   "outputs": [],
   "source": [
    "monke = dict()\n",
    "for line in INPUT:\n",
    "    m, yell = line.split(\": \")\n",
    "    if \" \" not in yell:\n",
    "        monke[m] = {\"number\": True, \"yell\": yell}\n",
    "    else:\n",
    "        m1, op, m2 = yell.split(\" \")\n",
    "        monke[m] = {\"number\": False, \"monkes\": [m1, m2], \"yell\": yell, \"operation\": op}"
   ]
  },
  {
   "cell_type": "markdown",
   "metadata": {},
   "source": [
    "## Part 1"
   ]
  },
  {
   "cell_type": "code",
   "execution_count": 4,
   "metadata": {
    "execution": {
     "iopub.execute_input": "2024-10-04T10:20:16.929691Z",
     "iopub.status.busy": "2024-10-04T10:20:16.928691Z",
     "iopub.status.idle": "2024-10-04T10:20:16.967158Z",
     "shell.execute_reply": "2024-10-04T10:20:16.966121Z",
     "shell.execute_reply.started": "2024-10-04T10:20:16.929691Z"
    }
   },
   "outputs": [
    {
     "data": {
      "text/plain": [
       "282285213953670"
      ]
     },
     "execution_count": 4,
     "metadata": {},
     "output_type": "execute_result"
    }
   ],
   "source": [
    "start = \"root\"\n",
    "equation = monke[start][\"yell\"]\n",
    "queue = [start]\n",
    "\n",
    "while queue:\n",
    "    m = queue.pop(0)\n",
    "    equation = equation.replace(m, f\"({monke[m]['yell']})\")\n",
    "    if not monke[m][\"number\"]:\n",
    "        next_monkeys = monke[m][\"monkes\"]\n",
    "        for n in next_monkeys:\n",
    "            queue.append(n)\n",
    "\n",
    "int(eval(equation))"
   ]
  },
  {
   "cell_type": "markdown",
   "metadata": {},
   "source": [
    "## Part 2"
   ]
  },
  {
   "cell_type": "code",
   "execution_count": 5,
   "metadata": {
    "execution": {
     "iopub.execute_input": "2024-10-04T10:20:16.972139Z",
     "iopub.status.busy": "2024-10-04T10:20:16.970139Z",
     "iopub.status.idle": "2024-10-04T10:20:17.867554Z",
     "shell.execute_reply": "2024-10-04T10:20:17.866993Z",
     "shell.execute_reply.started": "2024-10-04T10:20:16.972139Z"
    }
   },
   "outputs": [],
   "source": [
    "from sympy import solve"
   ]
  },
  {
   "cell_type": "code",
   "execution_count": 6,
   "metadata": {
    "execution": {
     "iopub.execute_input": "2024-10-04T10:20:17.870907Z",
     "iopub.status.busy": "2024-10-04T10:20:17.870907Z",
     "iopub.status.idle": "2024-10-04T10:20:17.987246Z",
     "shell.execute_reply": "2024-10-04T10:20:17.987246Z",
     "shell.execute_reply.started": "2024-10-04T10:20:17.870907Z"
    }
   },
   "outputs": [
    {
     "data": {
      "text/plain": [
       "3699945358564"
      ]
     },
     "execution_count": 6,
     "metadata": {},
     "output_type": "execute_result"
    }
   ],
   "source": [
    "start = \"root\"\n",
    "equation = monke[start][\"yell\"].replace(monke[start][\"operation\"], \"=\")\n",
    "queue = [start]\n",
    "human = \"humn\"\n",
    "\n",
    "while queue:\n",
    "    m = queue.pop(0)\n",
    "    if m == human:\n",
    "        continue\n",
    "    equation = equation.replace(m, f\"({monke[m]['yell']})\")\n",
    "    if not monke[m][\"number\"]:\n",
    "        next_monkeys = monke[m][\"monkes\"]\n",
    "        for n in next_monkeys:\n",
    "            queue.append(n)\n",
    "\n",
    "left, right = equation.split(\"=\")\n",
    "if human in left:\n",
    "    num = int(eval(right))\n",
    "    assess = left\n",
    "else:\n",
    "    num = int(eval(left))\n",
    "    assess = right\n",
    "\n",
    "assess += f\"- {num}\"\n",
    "res = solve(assess, human)\n",
    "\n",
    "int(res[0])"
   ]
  }
 ],
 "metadata": {
  "kernelspec": {
   "display_name": "Python 3 (ipykernel)",
   "language": "python",
   "name": "python3"
  },
  "language_info": {
   "codemirror_mode": {
    "name": "ipython",
    "version": 3
   },
   "file_extension": ".py",
   "mimetype": "text/x-python",
   "name": "python",
   "nbconvert_exporter": "python",
   "pygments_lexer": "ipython3",
   "version": "3.11.4"
  }
 },
 "nbformat": 4,
 "nbformat_minor": 4
}
