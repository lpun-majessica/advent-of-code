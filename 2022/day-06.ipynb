{
 "cells": [
  {
   "cell_type": "markdown",
   "metadata": {},
   "source": [
    "[Advent of Code - Day 06](https://adventofcode.com/2022/day/6)"
   ]
  },
  {
   "cell_type": "markdown",
   "metadata": {},
   "source": [
    "# Import input"
   ]
  },
  {
   "cell_type": "code",
   "execution_count": 1,
   "metadata": {
    "execution": {
     "iopub.execute_input": "2024-10-04T10:07:51.176150Z",
     "iopub.status.busy": "2024-10-04T10:07:51.176150Z",
     "iopub.status.idle": "2024-10-04T10:07:52.228479Z",
     "shell.execute_reply": "2024-10-04T10:07:52.227404Z",
     "shell.execute_reply.started": "2024-10-04T10:07:51.176150Z"
    }
   },
   "outputs": [],
   "source": [
    "import sys\n",
    "\n",
    "sys.path.insert(0, \"../\")\n",
    "from utils import aoc_input as inp\n",
    "\n",
    "INPUT = inp.download_input(year=\"2022\", day=\"06\")[0]"
   ]
  },
  {
   "cell_type": "code",
   "execution_count": 2,
   "metadata": {
    "execution": {
     "iopub.execute_input": "2024-10-04T10:07:52.230455Z",
     "iopub.status.busy": "2024-10-04T10:07:52.230455Z",
     "iopub.status.idle": "2024-10-04T10:07:52.246061Z",
     "shell.execute_reply": "2024-10-04T10:07:52.245050Z",
     "shell.execute_reply.started": "2024-10-04T10:07:52.230455Z"
    }
   },
   "outputs": [
    {
     "data": {
      "text/plain": [
       "'vmsvstvtzv'"
      ]
     },
     "execution_count": 2,
     "metadata": {},
     "output_type": "execute_result"
    }
   ],
   "source": [
    "INPUT[:10]"
   ]
  },
  {
   "cell_type": "markdown",
   "metadata": {},
   "source": [
    "# Solulu"
   ]
  },
  {
   "cell_type": "code",
   "execution_count": 3,
   "metadata": {
    "execution": {
     "iopub.execute_input": "2024-10-04T10:07:52.248135Z",
     "iopub.status.busy": "2024-10-04T10:07:52.248135Z",
     "iopub.status.idle": "2024-10-04T10:07:52.256012Z",
     "shell.execute_reply": "2024-10-04T10:07:52.254957Z",
     "shell.execute_reply.started": "2024-10-04T10:07:52.248135Z"
    }
   },
   "outputs": [],
   "source": [
    "n = len(INPUT)\n",
    "\n",
    "\n",
    "def solver(distinct_num: int, n: int) -> int:\n",
    "    for i in range(n - distinct_num):\n",
    "        if len(set(INPUT[i : i + distinct_num])) == distinct_num:\n",
    "            return i + distinct_num"
   ]
  },
  {
   "cell_type": "markdown",
   "metadata": {},
   "source": [
    "## Part 1"
   ]
  },
  {
   "cell_type": "code",
   "execution_count": 4,
   "metadata": {
    "execution": {
     "iopub.execute_input": "2024-10-04T10:07:52.257447Z",
     "iopub.status.busy": "2024-10-04T10:07:52.257447Z",
     "iopub.status.idle": "2024-10-04T10:07:52.270743Z",
     "shell.execute_reply": "2024-10-04T10:07:52.270743Z",
     "shell.execute_reply.started": "2024-10-04T10:07:52.257447Z"
    }
   },
   "outputs": [
    {
     "data": {
      "text/plain": [
       "1582"
      ]
     },
     "execution_count": 4,
     "metadata": {},
     "output_type": "execute_result"
    }
   ],
   "source": [
    "solver(distinct_num=4, n=n)"
   ]
  },
  {
   "cell_type": "markdown",
   "metadata": {},
   "source": [
    "## Part 2"
   ]
  },
  {
   "cell_type": "code",
   "execution_count": 5,
   "metadata": {
    "execution": {
     "iopub.execute_input": "2024-10-04T10:07:52.272752Z",
     "iopub.status.busy": "2024-10-04T10:07:52.272752Z",
     "iopub.status.idle": "2024-10-04T10:07:52.281785Z",
     "shell.execute_reply": "2024-10-04T10:07:52.281785Z",
     "shell.execute_reply.started": "2024-10-04T10:07:52.272752Z"
    }
   },
   "outputs": [
    {
     "data": {
      "text/plain": [
       "3588"
      ]
     },
     "execution_count": 5,
     "metadata": {},
     "output_type": "execute_result"
    }
   ],
   "source": [
    "solver(distinct_num=14, n=n)"
   ]
  }
 ],
 "metadata": {
  "kernelspec": {
   "display_name": "Python 3 (ipykernel)",
   "language": "python",
   "name": "python3"
  },
  "language_info": {
   "codemirror_mode": {
    "name": "ipython",
    "version": 3
   },
   "file_extension": ".py",
   "mimetype": "text/x-python",
   "name": "python",
   "nbconvert_exporter": "python",
   "pygments_lexer": "ipython3",
   "version": "3.11.4"
  }
 },
 "nbformat": 4,
 "nbformat_minor": 4
}
