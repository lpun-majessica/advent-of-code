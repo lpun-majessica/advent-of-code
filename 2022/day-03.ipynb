{
 "cells": [
  {
   "cell_type": "markdown",
   "metadata": {},
   "source": [
    "[Advent of Code - Day 03](https://adventofcode.com/2022/day/3)"
   ]
  },
  {
   "cell_type": "markdown",
   "metadata": {},
   "source": [
    "# Import input"
   ]
  },
  {
   "cell_type": "code",
   "execution_count": 1,
   "metadata": {
    "execution": {
     "iopub.execute_input": "2024-10-04T10:04:59.585459Z",
     "iopub.status.busy": "2024-10-04T10:04:59.585459Z",
     "iopub.status.idle": "2024-10-04T10:05:00.602975Z",
     "shell.execute_reply": "2024-10-04T10:05:00.601955Z",
     "shell.execute_reply.started": "2024-10-04T10:04:59.585459Z"
    }
   },
   "outputs": [],
   "source": [
    "import sys\n",
    "import string\n",
    "\n",
    "sys.path.insert(0, \"../\")\n",
    "from utils import aoc_input as inp\n",
    "\n",
    "INPUT = inp.download_input(year=\"2022\", day=\"03\")"
   ]
  },
  {
   "cell_type": "code",
   "execution_count": 2,
   "metadata": {
    "execution": {
     "iopub.execute_input": "2024-10-04T10:05:00.604975Z",
     "iopub.status.busy": "2024-10-04T10:05:00.604975Z",
     "iopub.status.idle": "2024-10-04T10:05:00.622216Z",
     "shell.execute_reply": "2024-10-04T10:05:00.621092Z",
     "shell.execute_reply.started": "2024-10-04T10:05:00.604975Z"
    }
   },
   "outputs": [
    {
     "data": {
      "text/plain": [
       "['RCMRQjLLWGTjnlnZwwnZJRZH',\n",
       " 'qnvfhpSbvSppNddNdSqbbmmdPrwttJVrVPDVrJtHtwPZhrPJ',\n",
       " 'BFpFzSSqSFFSvQsnWgCMjTLzng',\n",
       " 'DbWVcVRRdlLffvtqjTWNgQ',\n",
       " 'mJJMpsmrMrJSHJpsHrFHvBvgHvqfNvzffgTvfj']"
      ]
     },
     "execution_count": 2,
     "metadata": {},
     "output_type": "execute_result"
    }
   ],
   "source": [
    "INPUT[:5]"
   ]
  },
  {
   "cell_type": "markdown",
   "metadata": {},
   "source": [
    "# Solulu"
   ]
  },
  {
   "cell_type": "code",
   "execution_count": 3,
   "metadata": {
    "execution": {
     "iopub.execute_input": "2024-10-04T10:05:00.624754Z",
     "iopub.status.busy": "2024-10-04T10:05:00.624754Z",
     "iopub.status.idle": "2024-10-04T10:05:00.641956Z",
     "shell.execute_reply": "2024-10-04T10:05:00.640931Z",
     "shell.execute_reply.started": "2024-10-04T10:05:00.624754Z"
    }
   },
   "outputs": [],
   "source": [
    "priorities = string.ascii_letters"
   ]
  },
  {
   "cell_type": "markdown",
   "metadata": {},
   "source": [
    "## Part 1"
   ]
  },
  {
   "cell_type": "code",
   "execution_count": 4,
   "metadata": {
    "execution": {
     "iopub.execute_input": "2024-10-04T10:05:00.643956Z",
     "iopub.status.busy": "2024-10-04T10:05:00.642955Z",
     "iopub.status.idle": "2024-10-04T10:05:00.653462Z",
     "shell.execute_reply": "2024-10-04T10:05:00.653462Z",
     "shell.execute_reply.started": "2024-10-04T10:05:00.643956Z"
    }
   },
   "outputs": [
    {
     "data": {
      "text/plain": [
       "7746"
      ]
     },
     "execution_count": 4,
     "metadata": {},
     "output_type": "execute_result"
    }
   ],
   "source": [
    "res = 0\n",
    "\n",
    "for line in INPUT:\n",
    "    total_items = len(line)\n",
    "    compartment1 = set(line[: total_items // 2])\n",
    "    compartment2 = set(line[total_items // 2 :])\n",
    "\n",
    "    common = list(compartment1 & compartment2)[0]\n",
    "    res += priorities.index(common) + 1\n",
    "\n",
    "res"
   ]
  },
  {
   "cell_type": "markdown",
   "metadata": {},
   "source": [
    "## Part 2"
   ]
  },
  {
   "cell_type": "code",
   "execution_count": 5,
   "metadata": {
    "execution": {
     "iopub.execute_input": "2024-10-04T10:05:00.655495Z",
     "iopub.status.busy": "2024-10-04T10:05:00.654492Z",
     "iopub.status.idle": "2024-10-04T10:05:00.664136Z",
     "shell.execute_reply": "2024-10-04T10:05:00.663115Z",
     "shell.execute_reply.started": "2024-10-04T10:05:00.655495Z"
    }
   },
   "outputs": [
    {
     "data": {
      "text/plain": [
       "2604"
      ]
     },
     "execution_count": 5,
     "metadata": {},
     "output_type": "execute_result"
    }
   ],
   "source": [
    "res = 0\n",
    "total_elves = len(INPUT)\n",
    "\n",
    "for i in range(0, total_elves, 3):\n",
    "    elf1 = set(INPUT[i])\n",
    "    elf2 = set(INPUT[i + 1])\n",
    "    elf3 = set(INPUT[i + 2])\n",
    "\n",
    "    common = list(elf1 & elf2 & elf3)[0]\n",
    "    res += priorities.index(common) + 1\n",
    "\n",
    "res"
   ]
  }
 ],
 "metadata": {
  "kernelspec": {
   "display_name": "Python 3 (ipykernel)",
   "language": "python",
   "name": "python3"
  },
  "language_info": {
   "codemirror_mode": {
    "name": "ipython",
    "version": 3
   },
   "file_extension": ".py",
   "mimetype": "text/x-python",
   "name": "python",
   "nbconvert_exporter": "python",
   "pygments_lexer": "ipython3",
   "version": "3.11.4"
  }
 },
 "nbformat": 4,
 "nbformat_minor": 4
}
