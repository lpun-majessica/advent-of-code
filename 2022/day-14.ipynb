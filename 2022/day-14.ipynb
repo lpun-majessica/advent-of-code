{
 "cells": [
  {
   "cell_type": "markdown",
   "metadata": {},
   "source": [
    "[Advent of Code - Day 14](https://adventofcode.com/2022/day/14)"
   ]
  },
  {
   "cell_type": "markdown",
   "metadata": {},
   "source": [
    "# Import input"
   ]
  },
  {
   "cell_type": "code",
   "execution_count": 1,
   "metadata": {
    "execution": {
     "iopub.execute_input": "2024-10-04T10:15:16.397087Z",
     "iopub.status.busy": "2024-10-04T10:15:16.396088Z",
     "iopub.status.idle": "2024-10-04T10:15:17.364694Z",
     "shell.execute_reply": "2024-10-04T10:15:17.363658Z",
     "shell.execute_reply.started": "2024-10-04T10:15:16.397087Z"
    }
   },
   "outputs": [],
   "source": [
    "import sys\n",
    "\n",
    "sys.path.insert(0, \"../\")\n",
    "from utils import puzzle\n",
    "\n",
    "P = puzzle.Puzzle(year=\"2022\", day=\"14\")\n",
"INPUT = P.load_input()"
   ]
  },
  {
   "cell_type": "code",
   "execution_count": 2,
   "metadata": {
    "execution": {
     "iopub.execute_input": "2024-10-04T10:15:17.366671Z",
     "iopub.status.busy": "2024-10-04T10:15:17.366671Z",
     "iopub.status.idle": "2024-10-04T10:15:17.383625Z",
     "shell.execute_reply": "2024-10-04T10:15:17.382535Z",
     "shell.execute_reply.started": "2024-10-04T10:15:17.366671Z"
    }
   },
   "outputs": [
    {
     "data": {
      "text/plain": [
       "['500,30 -> 504,30',\n",
       " '503,28 -> 507,28',\n",
       " '477,136 -> 477,133 -> 477,136 -> 479,136 -> 479,135 -> 479,136 -> 481,136 -> 481,127 -> 481,136 -> 483,136 -> 483,131 -> 483,136 -> 485,136 -> 485,129 -> 485,136 -> 487,136 -> 487,135 -> 487,136',\n",
       " '496,97 -> 496,99 -> 488,99 -> 488,103 -> 508,103 -> 508,99 -> 502,99 -> 502,97',\n",
       " '537,66 -> 541,66']"
      ]
     },
     "execution_count": 2,
     "metadata": {},
     "output_type": "execute_result"
    }
   ],
   "source": [
    "INPUT[:5]"
   ]
  },
  {
   "cell_type": "markdown",
   "metadata": {},
   "source": [
    "# Solulu"
   ]
  },
  {
   "cell_type": "code",
   "execution_count": 3,
   "metadata": {
    "execution": {
     "iopub.execute_input": "2024-10-04T10:15:17.385552Z",
     "iopub.status.busy": "2024-10-04T10:15:17.385552Z",
     "iopub.status.idle": "2024-10-04T10:15:17.404367Z",
     "shell.execute_reply": "2024-10-04T10:15:17.404367Z",
     "shell.execute_reply.started": "2024-10-04T10:15:17.385552Z"
    }
   },
   "outputs": [],
   "source": [
    "paths = set()\n",
    "max_depth = 0\n",
    "\n",
    "for line in INPUT:\n",
    "    coords = line.split(\" -> \")\n",
    "\n",
    "    for idx, coord in enumerate(coords):\n",
    "        x, y = map(int, coord.split(\",\"))\n",
    "        max_depth = max(max_depth, y)\n",
    "\n",
    "        if idx == 0:\n",
    "            paths.add(tuple([x, y]))\n",
    "        else:\n",
    "            prev_x, prev_y = map(int, coords[idx - 1].split(\",\"))\n",
    "            if prev_x == x:\n",
    "                for yy in range(min(prev_y, y), max(prev_y, y) + 1):\n",
    "                    paths.add(tuple([x, yy]))\n",
    "            elif prev_y == y:\n",
    "                for xx in range(min(prev_x, x), max(prev_x, x) + 1):\n",
    "                    paths.add(tuple([xx, y]))"
   ]
  },
  {
   "cell_type": "markdown",
   "metadata": {},
   "source": [
    "## Part 1"
   ]
  },
  {
   "cell_type": "code",
   "execution_count": 4,
   "metadata": {
    "execution": {
     "iopub.execute_input": "2024-10-04T10:15:17.406379Z",
     "iopub.status.busy": "2024-10-04T10:15:17.406379Z",
     "iopub.status.idle": "2024-10-04T10:15:17.464805Z",
     "shell.execute_reply": "2024-10-04T10:15:17.464805Z",
     "shell.execute_reply.started": "2024-10-04T10:15:17.406379Z"
    }
   },
   "outputs": [
    {
     "data": {
      "text/plain": [
       "1406"
      ]
     },
     "execution_count": 4,
     "metadata": {},
     "output_type": "execute_result"
    }
   ],
   "source": [
    "sands = set()\n",
    "abyss = False\n",
    "\n",
    "while not abyss:\n",
    "    x, y = 500, 0\n",
    "\n",
    "    while True:\n",
    "        if (x, y + 1) not in paths and (x, y + 1) not in sands:\n",
    "            y += 1\n",
    "        elif (x - 1, y + 1) not in paths and (x - 1, y + 1) not in sands:\n",
    "            x -= 1\n",
    "            y += 1\n",
    "        elif (x + 1, y + 1) not in paths and (x + 1, y + 1) not in sands:\n",
    "            x += 1\n",
    "            y += 1\n",
    "        else:\n",
    "            break\n",
    "\n",
    "        if y > max_depth:\n",
    "            abyss = True\n",
    "            break\n",
    "\n",
    "    if not abyss:\n",
    "        sands.add(tuple([x, y]))\n",
    "\n",
    "len(sands)"
   ]
  },
  {
   "cell_type": "markdown",
   "metadata": {},
   "source": [
    "## Part 2"
   ]
  },
  {
   "cell_type": "code",
   "execution_count": 5,
   "metadata": {
    "execution": {
     "iopub.execute_input": "2024-10-04T10:15:17.466581Z",
     "iopub.status.busy": "2024-10-04T10:15:17.466581Z",
     "iopub.status.idle": "2024-10-04T10:15:18.712010Z",
     "shell.execute_reply": "2024-10-04T10:15:18.711000Z",
     "shell.execute_reply.started": "2024-10-04T10:15:17.466581Z"
    }
   },
   "outputs": [
    {
     "data": {
      "text/plain": [
       "20870"
      ]
     },
     "execution_count": 5,
     "metadata": {},
     "output_type": "execute_result"
    }
   ],
   "source": [
    "floor = max_depth + 2\n",
    "sands = set()\n",
    "\n",
    "while (500, 0) not in sands:\n",
    "    x, y = 500, 0\n",
    "\n",
    "    while y + 1 < floor:\n",
    "        if (x, y + 1) not in paths and (x, y + 1) not in sands:\n",
    "            y += 1\n",
    "        elif (x - 1, y + 1) not in paths and (x - 1, y + 1) not in sands:\n",
    "            x -= 1\n",
    "            y += 1\n",
    "        elif (x + 1, y + 1) not in paths and (x + 1, y + 1) not in sands:\n",
    "            x += 1\n",
    "            y += 1\n",
    "        else:\n",
    "            break\n",
    "\n",
    "    sands.add(tuple([x, y]))\n",
    "\n",
    "len(sands)"
   ]
  }
 ],
 "metadata": {
  "kernelspec": {
   "display_name": "Python 3 (ipykernel)",
   "language": "python",
   "name": "python3"
  },
  "language_info": {
   "codemirror_mode": {
    "name": "ipython",
    "version": 3
   },
   "file_extension": ".py",
   "mimetype": "text/x-python",
   "name": "python",
   "nbconvert_exporter": "python",
   "pygments_lexer": "ipython3",
   "version": "3.11.4"
  }
 },
 "nbformat": 4,
 "nbformat_minor": 4
}
