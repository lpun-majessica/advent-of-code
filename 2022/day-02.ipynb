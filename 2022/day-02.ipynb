{
 "cells": [
  {
   "cell_type": "markdown",
   "metadata": {},
   "source": [
    "[Advent of Code - Day 02](https://adventofcode.com/2022/day/2)"
   ]
  },
  {
   "cell_type": "markdown",
   "metadata": {},
   "source": [
    "# Import input"
   ]
  },
  {
   "cell_type": "code",
   "execution_count": 1,
   "metadata": {
    "execution": {
     "iopub.execute_input": "2024-10-04T10:02:45.366055Z",
     "iopub.status.busy": "2024-10-04T10:02:45.365706Z",
     "iopub.status.idle": "2024-10-04T10:02:46.355253Z",
     "shell.execute_reply": "2024-10-04T10:02:46.354230Z",
     "shell.execute_reply.started": "2024-10-04T10:02:45.366055Z"
    }
   },
   "outputs": [],
   "source": [
    "import sys\n",
    "\n",
    "sys.path.insert(0, \"../\")\n",
    "from utils import aoc_input as inp\n",
    "\n",
    "in_ = inp.download_input(year=\"2022\", day=\"02\")"
   ]
  },
  {
   "cell_type": "code",
   "execution_count": 2,
   "metadata": {
    "execution": {
     "iopub.execute_input": "2024-10-04T10:02:46.357260Z",
     "iopub.status.busy": "2024-10-04T10:02:46.356260Z",
     "iopub.status.idle": "2024-10-04T10:02:46.371631Z",
     "shell.execute_reply": "2024-10-04T10:02:46.370609Z",
     "shell.execute_reply.started": "2024-10-04T10:02:46.357260Z"
    }
   },
   "outputs": [
    {
     "data": {
      "text/plain": [
       "['C Z', 'A Y', 'C Z', 'A Y', 'C Y']"
      ]
     },
     "execution_count": 2,
     "metadata": {},
     "output_type": "execute_result"
    }
   ],
   "source": [
    "in_[:5]"
   ]
  },
  {
   "cell_type": "markdown",
   "metadata": {},
   "source": [
    "# Solulu"
   ]
  },
  {
   "cell_type": "markdown",
   "metadata": {},
   "source": [
    "## Part 1"
   ]
  },
  {
   "cell_type": "code",
   "execution_count": 3,
   "metadata": {
    "execution": {
     "iopub.execute_input": "2024-10-04T10:02:46.373905Z",
     "iopub.status.busy": "2024-10-04T10:02:46.373905Z",
     "iopub.status.idle": "2024-10-04T10:02:46.394971Z",
     "shell.execute_reply": "2024-10-04T10:02:46.394971Z",
     "shell.execute_reply.started": "2024-10-04T10:02:46.373905Z"
    }
   },
   "outputs": [
    {
     "data": {
      "text/plain": [
       "12586"
      ]
     },
     "execution_count": 3,
     "metadata": {},
     "output_type": "execute_result"
    }
   ],
   "source": [
    "rps = [[3, 6, 0], [0, 3, 6], [6, 0, 3]]\n",
    "res = 0\n",
    "\n",
    "rock_opp = ord(\"A\")\n",
    "rock_you = ord(\"X\")\n",
    "for line in in_:\n",
    "    opp = ord(line.split(\" \")[0]) - rock_opp\n",
    "    you = ord(line.split(\" \")[1]) - rock_you\n",
    "    res += rps[opp][you] + you + 1\n",
    "\n",
    "res"
   ]
  },
  {
   "cell_type": "markdown",
   "metadata": {},
   "source": [
    "## Part 2"
   ]
  },
  {
   "cell_type": "code",
   "execution_count": 4,
   "metadata": {
    "execution": {
     "iopub.execute_input": "2024-10-04T10:02:46.396980Z",
     "iopub.status.busy": "2024-10-04T10:02:46.395981Z",
     "iopub.status.idle": "2024-10-04T10:02:46.406891Z",
     "shell.execute_reply": "2024-10-04T10:02:46.406891Z",
     "shell.execute_reply.started": "2024-10-04T10:02:46.396980Z"
    }
   },
   "outputs": [
    {
     "data": {
      "text/plain": [
       "13193"
      ]
     },
     "execution_count": 4,
     "metadata": {},
     "output_type": "execute_result"
    }
   ],
   "source": [
    "rps = [\"C\", \"A\", \"B\", \"C\", \"A\"]\n",
    "points = {\"A\": 1, \"B\": 2, \"C\": 3}\n",
    "res = 0\n",
    "\n",
    "for line in in_:\n",
    "    opp, you = line.split(\" \")\n",
    "    iopp = rps.index(opp, 1, 4)\n",
    "\n",
    "    if you == \"X\":\n",
    "        iyou = iopp - 1\n",
    "        res += 0\n",
    "    elif you == \"Y\":\n",
    "        iyou = iopp\n",
    "        res += 3\n",
    "    elif you == \"Z\":\n",
    "        iyou = iopp + 1\n",
    "        res += 6\n",
    "\n",
    "    res += points[rps[iyou]]\n",
    "\n",
    "res"
   ]
  }
 ],
 "metadata": {
  "kernelspec": {
   "display_name": "Python 3 (ipykernel)",
   "language": "python",
   "name": "python3"
  },
  "language_info": {
   "codemirror_mode": {
    "name": "ipython",
    "version": 3
   },
   "file_extension": ".py",
   "mimetype": "text/x-python",
   "name": "python",
   "nbconvert_exporter": "python",
   "pygments_lexer": "ipython3",
   "version": "3.11.4"
  }
 },
 "nbformat": 4,
 "nbformat_minor": 4
}
