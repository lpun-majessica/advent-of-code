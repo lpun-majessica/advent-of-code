{
 "cells": [
  {
   "cell_type": "markdown",
   "metadata": {},
   "source": [
    "[Advent of Code - Day 16](https://adventofcode.com/2022/day/16)"
   ]
  },
  {
   "cell_type": "markdown",
   "metadata": {},
   "source": [
    "# Import input"
   ]
  },
  {
   "cell_type": "code",
   "execution_count": 1,
   "metadata": {
    "execution": {
     "iopub.execute_input": "2024-10-04T10:16:42.660565Z",
     "iopub.status.busy": "2024-10-04T10:16:42.660565Z",
     "iopub.status.idle": "2024-10-04T10:16:43.903954Z",
     "shell.execute_reply": "2024-10-04T10:16:43.902897Z",
     "shell.execute_reply.started": "2024-10-04T10:16:42.660565Z"
    }
   },
   "outputs": [],
   "source": [
    "import sys\n",
    "import networkx as nx\n",
    "from itertools import permutations\n",
    "\n",
    "sys.path.insert(0, \"../\")\n",
    "from utils import aoc_input as inp\n",
    "\n",
    "in_ = inp.download_input(year=\"2022\", day=\"16\")"
   ]
  },
  {
   "cell_type": "code",
   "execution_count": 2,
   "metadata": {
    "execution": {
     "iopub.execute_input": "2024-10-04T10:16:43.905968Z",
     "iopub.status.busy": "2024-10-04T10:16:43.905968Z",
     "iopub.status.idle": "2024-10-04T10:16:43.920369Z",
     "shell.execute_reply": "2024-10-04T10:16:43.918841Z",
     "shell.execute_reply.started": "2024-10-04T10:16:43.905968Z"
    }
   },
   "outputs": [
    {
     "data": {
      "text/plain": [
       "['Valve XB has flow rate=0; tunnels lead to valves WZ, LE',\n",
       " 'Valve BM has flow rate=0; tunnels lead to valves PL, RI',\n",
       " 'Valve GC has flow rate=0; tunnels lead to valves HN, IT',\n",
       " 'Valve RM has flow rate=0; tunnels lead to valves ZQ, YL',\n",
       " 'Valve ZM has flow rate=5; tunnels lead to valves SN, KE, UW, MY, GW']"
      ]
     },
     "execution_count": 2,
     "metadata": {},
     "output_type": "execute_result"
    }
   ],
   "source": [
    "in_[:5]"
   ]
  },
  {
   "cell_type": "markdown",
   "metadata": {},
   "source": [
    "# Solulu"
   ]
  },
  {
   "cell_type": "code",
   "execution_count": 3,
   "metadata": {
    "execution": {
     "iopub.execute_input": "2024-10-04T10:16:43.922914Z",
     "iopub.status.busy": "2024-10-04T10:16:43.922403Z",
     "iopub.status.idle": "2024-10-04T10:16:43.939470Z",
     "shell.execute_reply": "2024-10-04T10:16:43.938452Z",
     "shell.execute_reply.started": "2024-10-04T10:16:43.922914Z"
    }
   },
   "outputs": [],
   "source": [
    "cave = {}\n",
    "\n",
    "for line in in_:\n",
    "    words = line.split(\" \")\n",
    "    valve, pressure, outlets = words[1], words[4], words[9:]\n",
    "    pressure = int(pressure.split(\"=\")[1][:-1])\n",
    "    cave[valve] = {\n",
    "        \"pressure\": pressure,\n",
    "        \"out\": [outlet.strip(\",\") for outlet in outlets],\n",
    "    }"
   ]
  },
  {
   "cell_type": "code",
   "execution_count": 4,
   "metadata": {
    "execution": {
     "iopub.execute_input": "2024-10-04T10:16:43.940469Z",
     "iopub.status.busy": "2024-10-04T10:16:43.940469Z",
     "iopub.status.idle": "2024-10-04T10:16:43.947867Z",
     "shell.execute_reply": "2024-10-04T10:16:43.946861Z",
     "shell.execute_reply.started": "2024-10-04T10:16:43.940469Z"
    }
   },
   "outputs": [],
   "source": [
    "G = nx.Graph()\n",
    "\n",
    "for valve, info in cave.items():\n",
    "    G.add_edges_from([(valve, tunnel) for tunnel in info[\"out\"]])"
   ]
  },
  {
   "cell_type": "markdown",
   "metadata": {},
   "source": [
    "## Part 1"
   ]
  },
  {
   "cell_type": "code",
   "execution_count": 5,
   "metadata": {
    "execution": {
     "iopub.execute_input": "2024-10-04T10:16:43.948375Z",
     "iopub.status.busy": "2024-10-04T10:16:43.948375Z",
     "iopub.status.idle": "2024-10-04T10:16:43.957012Z",
     "shell.execute_reply": "2024-10-04T10:16:43.956001Z",
     "shell.execute_reply.started": "2024-10-04T10:16:43.948375Z"
    }
   },
   "outputs": [],
   "source": [
    "def dfs(time: int, pressure: int, start: str, opened: set):\n",
    "    non_zero = [\n",
    "        valve\n",
    "        for valve, info in cave.items()\n",
    "        if info[\"pressure\"] > 0 and valve not in opened\n",
    "    ]\n",
    "    if not non_zero:\n",
    "        res.append(pressure)\n",
    "\n",
    "    for valve in non_zero:\n",
    "        travel_time = nx.shortest_path_length(G, source=start, target=valve)\n",
    "\n",
    "        next_time = time - travel_time - 1\n",
    "        next_pressure = pressure + next_time * cave[valve][\"pressure\"]\n",
    "        next_start = valve\n",
    "        next_opened = opened.union([valve])\n",
    "\n",
    "        if next_time < 0:\n",
    "            res.append(pressure)\n",
    "        else:\n",
    "            dfs(next_time, next_pressure, next_start, next_opened)"
   ]
  },
  {
   "cell_type": "code",
   "execution_count": 6,
   "metadata": {
    "execution": {
     "iopub.execute_input": "2024-10-04T10:16:43.958011Z",
     "iopub.status.busy": "2024-10-04T10:16:43.958011Z",
     "iopub.status.idle": "2024-10-04T10:17:26.720382Z",
     "shell.execute_reply": "2024-10-04T10:17:26.719345Z",
     "shell.execute_reply.started": "2024-10-04T10:16:43.958011Z"
    }
   },
   "outputs": [
    {
     "data": {
      "text/plain": [
       "2265"
      ]
     },
     "execution_count": 6,
     "metadata": {},
     "output_type": "execute_result"
    }
   ],
   "source": [
    "res = []\n",
    "time = 30\n",
    "pressure = 0\n",
    "start = \"AA\"\n",
    "opened = set()\n",
    "\n",
    "dfs(time, pressure, start, opened)\n",
    "\n",
    "max(res)"
   ]
  },
  {
   "cell_type": "markdown",
   "metadata": {
    "jp-MarkdownHeadingCollapsed": true
   },
   "source": [
    "## Part 2"
   ]
  }
 ],
 "metadata": {
  "kernelspec": {
   "display_name": "Python 3 (ipykernel)",
   "language": "python",
   "name": "python3"
  },
  "language_info": {
   "codemirror_mode": {
    "name": "ipython",
    "version": 3
   },
   "file_extension": ".py",
   "mimetype": "text/x-python",
   "name": "python",
   "nbconvert_exporter": "python",
   "pygments_lexer": "ipython3",
   "version": "3.11.4"
  }
 },
 "nbformat": 4,
 "nbformat_minor": 4
}
