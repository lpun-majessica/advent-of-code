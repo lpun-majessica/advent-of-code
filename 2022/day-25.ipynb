{
 "cells": [
  {
   "cell_type": "markdown",
   "metadata": {},
   "source": [
    "[Advent of Code - Day 25](https://adventofcode.com/2022/day/25)"
   ]
  },
  {
   "cell_type": "markdown",
   "metadata": {},
   "source": [
    "# Import input"
   ]
  },
  {
   "cell_type": "code",
   "execution_count": 1,
   "metadata": {
    "execution": {
     "iopub.execute_input": "2024-10-07T09:25:13.649632Z",
     "iopub.status.busy": "2024-10-07T09:25:13.649632Z",
     "iopub.status.idle": "2024-10-07T09:25:14.991683Z",
     "shell.execute_reply": "2024-10-07T09:25:14.991683Z",
     "shell.execute_reply.started": "2024-10-07T09:25:13.649632Z"
    }
   },
   "outputs": [],
   "source": [
    "import sys\n",
    "import math\n",
    "\n",
    "sys.path.insert(0, \"../\")\n",
    "from utils import aoc_input as inp\n",
    "\n",
    "INPUT = inp.download_input(year=\"2022\", day=\"25\")"
   ]
  },
  {
   "cell_type": "code",
   "execution_count": 2,
   "metadata": {
    "execution": {
     "iopub.execute_input": "2024-10-07T09:25:14.995196Z",
     "iopub.status.busy": "2024-10-07T09:25:14.995196Z",
     "iopub.status.idle": "2024-10-07T09:25:15.011619Z",
     "shell.execute_reply": "2024-10-07T09:25:15.011071Z",
     "shell.execute_reply.started": "2024-10-07T09:25:14.995196Z"
    }
   },
   "outputs": [
    {
     "data": {
      "text/plain": [
       "['1=---001012-', '1=0', '1-2=20---', '22--021102', '102=10=']"
      ]
     },
     "execution_count": 2,
     "metadata": {},
     "output_type": "execute_result"
    }
   ],
   "source": [
    "INPUT[:5]"
   ]
  },
  {
   "cell_type": "markdown",
   "metadata": {},
   "source": [
    "# Solulu"
   ]
  },
  {
   "cell_type": "code",
   "execution_count": 3,
   "metadata": {
    "execution": {
     "iopub.execute_input": "2024-10-07T09:25:15.011619Z",
     "iopub.status.busy": "2024-10-07T09:25:15.011619Z",
     "iopub.status.idle": "2024-10-07T09:25:15.046943Z",
     "shell.execute_reply": "2024-10-07T09:25:15.046943Z",
     "shell.execute_reply.started": "2024-10-07T09:25:15.011619Z"
    }
   },
   "outputs": [],
   "source": [
    "snafu2dec = {\"2\": 2, \"1\": 1, \"0\": 0, \"-\": -1, \"=\": -2}\n",
    "dec2snafu = {v: k for k,v in snafu2dec.items()}"
   ]
  },
  {
   "cell_type": "code",
   "execution_count": 4,
   "metadata": {
    "execution": {
     "iopub.execute_input": "2024-10-07T09:25:15.046943Z",
     "iopub.status.busy": "2024-10-07T09:25:15.046943Z",
     "iopub.status.idle": "2024-10-07T09:25:15.065423Z",
     "shell.execute_reply": "2024-10-07T09:25:15.065423Z",
     "shell.execute_reply.started": "2024-10-07T09:25:15.046943Z"
    }
   },
   "outputs": [],
   "source": [
    "total = 0\n",
    "for line in INPUT:\n",
    "    n = len(line)\n",
    "    decimal = 0\n",
    "    for num in line:\n",
    "        n -= 1\n",
    "        decimal += snafu2dec[num] * (5**n)\n",
    "    total += decimal"
   ]
  },
  {
   "cell_type": "code",
   "execution_count": 5,
   "metadata": {
    "execution": {
     "iopub.execute_input": "2024-10-07T09:25:15.070054Z",
     "iopub.status.busy": "2024-10-07T09:25:15.070054Z",
     "iopub.status.idle": "2024-10-07T09:25:15.084334Z",
     "shell.execute_reply": "2024-10-07T09:25:15.084334Z",
     "shell.execute_reply.started": "2024-10-07T09:25:15.070054Z"
    }
   },
   "outputs": [],
   "source": [
    "digits = round(math.log(total, 5))\n",
    "pseudo_snafu = []\n",
    "\n",
    "for d in range(digits, -1, -1):\n",
    "    mINPUTdiff = math.inf\n",
    "    chosen_digit = 0\n",
    "\n",
    "    for num in range(-2, 3):\n",
    "        diff = total - num * (5**d)\n",
    "        if abs(diff) <= mINPUTdiff:\n",
    "            mINPUTdiff = abs(diff)\n",
    "            chosen_digit = num\n",
    "\n",
    "    total -= chosen_digit * (5**d)\n",
    "    pseudo_snafu.append(chosen_digit)"
   ]
  },
  {
   "cell_type": "code",
   "execution_count": 6,
   "metadata": {
    "execution": {
     "iopub.execute_input": "2024-10-07T09:25:15.088861Z",
     "iopub.status.busy": "2024-10-07T09:25:15.088861Z",
     "iopub.status.idle": "2024-10-07T09:25:15.104721Z",
     "shell.execute_reply": "2024-10-07T09:25:15.103662Z",
     "shell.execute_reply.started": "2024-10-07T09:25:15.088861Z"
    }
   },
   "outputs": [
    {
     "data": {
      "text/plain": [
       "'2=--=0000-1-0-=1=0=2'"
      ]
     },
     "execution_count": 6,
     "metadata": {},
     "output_type": "execute_result"
    }
   ],
   "source": [
    "res = \"\"\n",
    "for num in pseudo_snafu:\n",
    "    res += str(dec2snafu[num])\n",
    "\n",
    "res"
   ]
  }
 ],
 "metadata": {
  "kernelspec": {
   "display_name": "Python 3 (ipykernel)",
   "language": "python",
   "name": "python3"
  },
  "language_info": {
   "codemirror_mode": {
    "name": "ipython",
    "version": 3
   },
   "file_extension": ".py",
   "mimetype": "text/x-python",
   "name": "python",
   "nbconvert_exporter": "python",
   "pygments_lexer": "ipython3",
   "version": "3.11.4"
  }
 },
 "nbformat": 4,
 "nbformat_minor": 4
}
