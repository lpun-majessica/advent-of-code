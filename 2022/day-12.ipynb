{
 "cells": [
  {
   "cell_type": "markdown",
   "metadata": {},
   "source": [
    "[Advent of Code - Day 12](https://adventofcode.com/2022/day/12)"
   ]
  },
  {
   "cell_type": "markdown",
   "metadata": {},
   "source": [
    "# Import input"
   ]
  },
  {
   "cell_type": "code",
   "execution_count": 1,
   "metadata": {
    "execution": {
     "iopub.execute_input": "2024-10-04T10:13:40.776199Z",
     "iopub.status.busy": "2024-10-04T10:13:40.776199Z",
     "iopub.status.idle": "2024-10-04T10:13:41.679357Z",
     "shell.execute_reply": "2024-10-04T10:13:41.678379Z",
     "shell.execute_reply.started": "2024-10-04T10:13:40.776199Z"
    }
   },
   "outputs": [],
   "source": [
    "import sys\n",
    "\n",
    "sys.path.insert(0, \"../\")\n",
    "from utils import aoc_input as inp\n",
    "\n",
    "in_ = inp.download_input(year=\"2022\", day=\"12\")"
   ]
  },
  {
   "cell_type": "code",
   "execution_count": 2,
   "metadata": {
    "execution": {
     "iopub.execute_input": "2024-10-04T10:13:41.681556Z",
     "iopub.status.busy": "2024-10-04T10:13:41.680468Z",
     "iopub.status.idle": "2024-10-04T10:13:41.697938Z",
     "shell.execute_reply": "2024-10-04T10:13:41.696417Z",
     "shell.execute_reply.started": "2024-10-04T10:13:41.681556Z"
    }
   },
   "outputs": [
    {
     "data": {
      "text/plain": [
       "['abcccccccccccaaaaacccccccaaaaaaccccccccccccccccccccccccccccccccaaaaaaaaaaaaaacccccccccccccccccccaaaaaacccccccacccccccccaaccaaccccccccccccccccccccccccccccccaaaaaa',\n",
       " 'abcccccccccccaaaaaaacccccaaaaaaccccccccaaccccccccccaaaaccccccccaaaaaaaaaaaaaccccccccccccccccccccaaaaaaccccaaaacccccccccaaaaaaccccccccccccccccccccccccccccccccaaaa',\n",
       " 'abccccccccccaaaaaaaacccccaaaaaccccccccaaaacccccccccaaaacccccccccccaaaaaaacccccccccccccccccccccccaaaaacccccaaaaaaccccccccaaaaacccccccccccaaaccccccccccccccccccaaaa',\n",
       " 'abccccccccccaaaaaaaaccccccaaaaacccccccaaaacccccccccaaaacccccaaaccccaaaaaaccccccccccccccccccccccccaaaaacccccaaaaacccccccaaaaaacccccccccccaaaacccccccccccccccccaaaa',\n",
       " 'abccccccccccaaaaaaccccccccaaaaacccccccaaaaccccccccccaaacccccaaaaccaaaaaaaacccccccccccccccccccccccaaaaaccccaaaaacccccccaaaaaaaaccccccccccaaaaccaaccccccccccccaaaaa']"
      ]
     },
     "execution_count": 2,
     "metadata": {},
     "output_type": "execute_result"
    }
   ],
   "source": [
    "in_[:5]"
   ]
  },
  {
   "cell_type": "markdown",
   "metadata": {},
   "source": [
    "# Solulu"
   ]
  },
  {
   "cell_type": "code",
   "execution_count": 3,
   "metadata": {
    "execution": {
     "iopub.execute_input": "2024-10-04T10:13:41.699967Z",
     "iopub.status.busy": "2024-10-04T10:13:41.698969Z",
     "iopub.status.idle": "2024-10-04T10:13:41.714885Z",
     "shell.execute_reply": "2024-10-04T10:13:41.713869Z",
     "shell.execute_reply.started": "2024-10-04T10:13:41.699967Z"
    }
   },
   "outputs": [],
   "source": [
    "width, height = len(in_[0]), len(in_)\n",
    "\n",
    "base = ord(\"a\")\n",
    "area = []\n",
    "start, end = [0, 0, 0], [0, 0, 0]\n",
    "\n",
    "for row in range(height):\n",
    "    r = []\n",
    "    for col in range(width):\n",
    "        coord = in_[row][col]\n",
    "        if coord not in \"SE\":\n",
    "            r.append(ord(coord) - base)\n",
    "        elif coord == \"S\":\n",
    "            r.append(ord(\"a\") - base)\n",
    "            start = [row, col, 0]\n",
    "        elif coord == \"E\":\n",
    "            r.append(ord(\"z\") - base)\n",
    "            end = [row, col, 0]\n",
    "    area.append(r)"
   ]
  },
  {
   "cell_type": "code",
   "execution_count": 4,
   "metadata": {
    "execution": {
     "iopub.execute_input": "2024-10-04T10:13:41.716125Z",
     "iopub.status.busy": "2024-10-04T10:13:41.716125Z",
     "iopub.status.idle": "2024-10-04T10:13:41.726661Z",
     "shell.execute_reply": "2024-10-04T10:13:41.725880Z",
     "shell.execute_reply.started": "2024-10-04T10:13:41.716125Z"
    }
   },
   "outputs": [],
   "source": [
    "def is_valid(row, col):\n",
    "    if (row not in range(height)) or (col not in range(width)):\n",
    "        return False\n",
    "    elif visited[row][col]:\n",
    "        return False\n",
    "    else:\n",
    "        return True"
   ]
  },
  {
   "cell_type": "markdown",
   "metadata": {},
   "source": [
    "## Part 1"
   ]
  },
  {
   "cell_type": "code",
   "execution_count": 5,
   "metadata": {
    "execution": {
     "iopub.execute_input": "2024-10-04T10:13:41.728170Z",
     "iopub.status.busy": "2024-10-04T10:13:41.728170Z",
     "iopub.status.idle": "2024-10-04T10:13:41.762709Z",
     "shell.execute_reply": "2024-10-04T10:13:41.761678Z",
     "shell.execute_reply.started": "2024-10-04T10:13:41.728170Z"
    }
   },
   "outputs": [
    {
     "data": {
      "text/plain": [
       "481"
      ]
     },
     "execution_count": 5,
     "metadata": {},
     "output_type": "execute_result"
    }
   ],
   "source": [
    "visited = [[False for _ in range(width)] for _ in range(height)]\n",
    "queue = [start]\n",
    "visited[start[0]][start[1]] = True\n",
    "\n",
    "while len(queue) != 0:\n",
    "    row, col, steps = queue.pop(0)\n",
    "\n",
    "    if [row, col] == end[:-1]:\n",
    "        break\n",
    "\n",
    "    if is_valid(row - 1, col) and (area[row - 1][col] - area[row][col] <= 1):\n",
    "        queue.append([row - 1, col, steps + 1])\n",
    "        visited[row - 1][col] = True\n",
    "\n",
    "    if is_valid(row + 1, col) and (area[row + 1][col] - area[row][col] <= 1):\n",
    "        queue.append([row + 1, col, steps + 1])\n",
    "        visited[row + 1][col] = True\n",
    "\n",
    "    if is_valid(row, col - 1) and (area[row][col - 1] - area[row][col] <= 1):\n",
    "        queue.append([row, col - 1, steps + 1])\n",
    "        visited[row][col - 1] = True\n",
    "\n",
    "    if is_valid(row, col + 1) and (area[row][col + 1] - area[row][col] <= 1):\n",
    "        queue.append([row, col + 1, steps + 1])\n",
    "        visited[row][col + 1] = True\n",
    "\n",
    "steps"
   ]
  },
  {
   "cell_type": "markdown",
   "metadata": {},
   "source": [
    "## Part 2"
   ]
  },
  {
   "cell_type": "code",
   "execution_count": 6,
   "metadata": {
    "execution": {
     "iopub.execute_input": "2024-10-04T10:13:41.764709Z",
     "iopub.status.busy": "2024-10-04T10:13:41.763714Z",
     "iopub.status.idle": "2024-10-04T10:13:41.811569Z",
     "shell.execute_reply": "2024-10-04T10:13:41.810297Z",
     "shell.execute_reply.started": "2024-10-04T10:13:41.763714Z"
    }
   },
   "outputs": [
    {
     "data": {
      "text/plain": [
       "480"
      ]
     },
     "execution_count": 6,
     "metadata": {},
     "output_type": "execute_result"
    }
   ],
   "source": [
    "visited = [[False for _ in range(width)] for _ in range(height)]\n",
    "queue = [end]\n",
    "visited[end[0]][end[1]] = True\n",
    "\n",
    "while len(queue) != 0:\n",
    "    row, col, steps = queue.pop(0)\n",
    "\n",
    "    if area[row][col] == 0:\n",
    "        break\n",
    "\n",
    "    if is_valid(row - 1, col) and (area[row][col] - area[row - 1][col] <= 1):\n",
    "        queue.append([row - 1, col, steps + 1])\n",
    "        visited[row - 1][col] = True\n",
    "\n",
    "    if is_valid(row + 1, col) and (area[row][col] - area[row + 1][col] <= 1):\n",
    "        queue.append([row + 1, col, steps + 1])\n",
    "        visited[row + 1][col] = True\n",
    "\n",
    "    if is_valid(row, col - 1) and (area[row][col] - area[row][col - 1] <= 1):\n",
    "        queue.append([row, col - 1, steps + 1])\n",
    "        visited[row][col - 1] = True\n",
    "\n",
    "    if is_valid(row, col + 1) and (area[row][col] - area[row][col + 1] <= 1):\n",
    "        queue.append([row, col + 1, steps + 1])\n",
    "        visited[row][col + 1] = True\n",
    "\n",
    "steps"
   ]
  }
 ],
 "metadata": {
  "kernelspec": {
   "display_name": "Python 3 (ipykernel)",
   "language": "python",
   "name": "python3"
  },
  "language_info": {
   "codemirror_mode": {
    "name": "ipython",
    "version": 3
   },
   "file_extension": ".py",
   "mimetype": "text/x-python",
   "name": "python",
   "nbconvert_exporter": "python",
   "pygments_lexer": "ipython3",
   "version": "3.11.4"
  }
 },
 "nbformat": 4,
 "nbformat_minor": 4
}
