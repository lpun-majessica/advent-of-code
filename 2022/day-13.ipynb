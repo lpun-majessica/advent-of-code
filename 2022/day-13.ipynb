{
 "cells": [
  {
   "cell_type": "markdown",
   "metadata": {},
   "source": [
    "[Advent of Code - Day 13](https://adventofcode.com/2022/day/13)"
   ]
  },
  {
   "cell_type": "markdown",
   "metadata": {},
   "source": [
    "# Import input"
   ]
  },
  {
   "cell_type": "code",
   "execution_count": 1,
   "metadata": {
    "execution": {
     "iopub.execute_input": "2024-10-04T10:14:08.058294Z",
     "iopub.status.busy": "2024-10-04T10:14:08.057788Z",
     "iopub.status.idle": "2024-10-04T10:14:09.021145Z",
     "shell.execute_reply": "2024-10-04T10:14:09.020178Z",
     "shell.execute_reply.started": "2024-10-04T10:14:08.058294Z"
    }
   },
   "outputs": [],
   "source": [
    "import sys\n",
    "\n",
    "sys.path.insert(0, \"../\")\n",
    "from utils import puzzle\n",
    "\n",
    "P = puzzle.Puzzle(year=\"2022\", day=\"13\")\n",
"INPUT = P.load_input()"
   ]
  },
  {
   "cell_type": "code",
   "execution_count": 2,
   "metadata": {
    "execution": {
     "iopub.execute_input": "2024-10-04T10:14:09.023157Z",
     "iopub.status.busy": "2024-10-04T10:14:09.022162Z",
     "iopub.status.idle": "2024-10-04T10:14:09.036333Z",
     "shell.execute_reply": "2024-10-04T10:14:09.035127Z",
     "shell.execute_reply.started": "2024-10-04T10:14:09.023157Z"
    }
   },
   "outputs": [
    {
     "data": {
      "text/plain": [
       "['[[],[[[0],[8,10,2,8],[4]],[[7,7,2,2],10,1,2,[]]],[[[6,1,6,8,10],[8,6,4],[],[],2]]]',\n",
       " '[[[[]],9],[]]',\n",
       " '',\n",
       " '[[8]]',\n",
       " '[[10,[6,3,[1,7],[4,4,2,7],[1,10]]],[[[5,5,7,9,1],3],[],[],2,3],[3,3,[1,[]],2],[2,10,6,[3,[],[],[1]]]]']"
      ]
     },
     "execution_count": 2,
     "metadata": {},
     "output_type": "execute_result"
    }
   ],
   "source": [
    "INPUT[:5]"
   ]
  },
  {
   "cell_type": "markdown",
   "metadata": {},
   "source": [
    "# Solulu"
   ]
  },
  {
   "cell_type": "markdown",
   "metadata": {},
   "source": [
    "## Part 1"
   ]
  },
  {
   "cell_type": "code",
   "execution_count": 3,
   "metadata": {
    "execution": {
     "iopub.execute_input": "2024-10-04T10:14:09.038046Z",
     "iopub.status.busy": "2024-10-04T10:14:09.037489Z",
     "iopub.status.idle": "2024-10-04T10:14:09.058257Z",
     "shell.execute_reply": "2024-10-04T10:14:09.057252Z",
     "shell.execute_reply.started": "2024-10-04T10:14:09.038046Z"
    }
   },
   "outputs": [],
   "source": [
    "def recurse(left, right):\n",
    "    if isinstance(left, int) and isinstance(right, int):\n",
    "        if left < right:\n",
    "            return True\n",
    "        elif left > right:\n",
    "            return False\n",
    "\n",
    "    elif isinstance(left, list) and isinstance(right, list):\n",
    "        l, r = left.copy(), right.copy()\n",
    "        while l and r:\n",
    "            res = recurse(l.pop(0), r.pop(0))\n",
    "            if res is not None:\n",
    "                return res\n",
    "        if r:\n",
    "            return True\n",
    "        elif l:\n",
    "            return False\n",
    "\n",
    "    else:\n",
    "        if isinstance(left, int):\n",
    "            left = [left]\n",
    "        elif isinstance(right, int):\n",
    "            right = [right]\n",
    "        return recurse(left, right)"
   ]
  },
  {
   "cell_type": "code",
   "execution_count": 4,
   "metadata": {
    "execution": {
     "iopub.execute_input": "2024-10-04T10:14:09.060421Z",
     "iopub.status.busy": "2024-10-04T10:14:09.060421Z",
     "iopub.status.idle": "2024-10-04T10:14:09.090419Z",
     "shell.execute_reply": "2024-10-04T10:14:09.089408Z",
     "shell.execute_reply.started": "2024-10-04T10:14:09.060421Z"
    }
   },
   "outputs": [
    {
     "data": {
      "text/plain": [
       "4821"
      ]
     },
     "execution_count": 4,
     "metadata": {},
     "output_type": "execute_result"
    }
   ],
   "source": [
    "pair = []\n",
    "res, ipair = 0, 1\n",
    "\n",
    "for line in INPUT:\n",
    "    if not line:\n",
    "        if recurse(*pair):\n",
    "            res += ipair\n",
    "        pair = []\n",
    "        ipair += 1\n",
    "    else:\n",
    "        pair.append(eval(line))\n",
    "\n",
    "res"
   ]
  },
  {
   "cell_type": "markdown",
   "metadata": {},
   "source": [
    "## Part 2"
   ]
  },
  {
   "cell_type": "code",
   "execution_count": 5,
   "metadata": {
    "execution": {
     "iopub.execute_input": "2024-10-04T10:14:09.091561Z",
     "iopub.status.busy": "2024-10-04T10:14:09.091420Z",
     "iopub.status.idle": "2024-10-04T10:14:09.156207Z",
     "shell.execute_reply": "2024-10-04T10:14:09.156207Z",
     "shell.execute_reply.started": "2024-10-04T10:14:09.091561Z"
    }
   },
   "outputs": [
    {
     "data": {
      "text/plain": [
       "21890"
      ]
     },
     "execution_count": 5,
     "metadata": {},
     "output_type": "execute_result"
    }
   ],
   "source": [
    "packets = [[[2]], [[6]]]\n",
    "for line in INPUT:\n",
    "    if line:\n",
    "        packets.append(eval(line))\n",
    "\n",
    "for i in range(1, len(packets)):\n",
    "    while i >= 1:\n",
    "        if recurse(packets[i - 1], packets[i]):\n",
    "            break\n",
    "        else:\n",
    "            packets[i], packets[i - 1] = packets[i - 1], packets[i]\n",
    "            i -= 1\n",
    "\n",
    "(packets.index([[2]]) + 1) * (packets.index([[6]]) + 1)"
   ]
  }
 ],
 "metadata": {
  "kernelspec": {
   "display_name": "Python 3 (ipykernel)",
   "language": "python",
   "name": "python3"
  },
  "language_info": {
   "codemirror_mode": {
    "name": "ipython",
    "version": 3
   },
   "file_extension": ".py",
   "mimetype": "text/x-python",
   "name": "python",
   "nbconvert_exporter": "python",
   "pygments_lexer": "ipython3",
   "version": "3.11.4"
  }
 },
 "nbformat": 4,
 "nbformat_minor": 4
}
