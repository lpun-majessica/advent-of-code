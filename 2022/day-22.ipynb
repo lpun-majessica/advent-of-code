{
 "cells": [
  {
   "cell_type": "markdown",
   "metadata": {},
   "source": [
    "[Advent of Code - Day 22](https://adventofcode.com/2022/day/22)"
   ]
  },
  {
   "cell_type": "markdown",
   "metadata": {},
   "source": [
    "# Import input"
   ]
  },
  {
   "cell_type": "code",
   "execution_count": 1,
   "metadata": {
    "execution": {
     "iopub.execute_input": "2024-10-04T10:20:47.396640Z",
     "iopub.status.busy": "2024-10-04T10:20:47.396640Z",
     "iopub.status.idle": "2024-10-04T10:20:48.297647Z",
     "shell.execute_reply": "2024-10-04T10:20:48.295503Z",
     "shell.execute_reply.started": "2024-10-04T10:20:47.396640Z"
    }
   },
   "outputs": [],
   "source": [
    "import sys\n",
    "\n",
    "sys.path.insert(0, \"../\")\n",
    "from utils import aoc_input as inp\n",
    "\n",
    "INPUT = inp.download_input(year=\"2022\", day=\"22\")"
   ]
  },
  {
   "cell_type": "code",
   "execution_count": 2,
   "metadata": {
    "execution": {
     "iopub.execute_input": "2024-10-04T10:20:48.300646Z",
     "iopub.status.busy": "2024-10-04T10:20:48.299648Z",
     "iopub.status.idle": "2024-10-04T10:20:48.320073Z",
     "shell.execute_reply": "2024-10-04T10:20:48.318534Z",
     "shell.execute_reply.started": "2024-10-04T10:20:48.299648Z"
    }
   },
   "outputs": [
    {
     "data": {
      "text/plain": [
       "['                                                  ..................#..#..............................##.#......#...##..............#...........#.....',\n",
       " '                                                  ..........#..#...#....#.................#.#......#...##...............#.............#..#......#.....',\n",
       " '                                                  ........#..........#........#......#...#.........................#............#.....................',\n",
       " '                                                  ......................#......#..............#..........##...#.....................#.................',\n",
       " '                                                  ......#.......##..#.....#..........#.............................#.............................#....']"
      ]
     },
     "execution_count": 2,
     "metadata": {},
     "output_type": "execute_result"
    }
   ],
   "source": [
    "INPUT[:5]"
   ]
  },
  {
   "cell_type": "markdown",
   "metadata": {},
   "source": [
    "# Solulu"
   ]
  },
  {
   "cell_type": "code",
   "execution_count": 3,
   "metadata": {
    "execution": {
     "iopub.execute_input": "2024-10-04T10:20:48.322111Z",
     "iopub.status.busy": "2024-10-04T10:20:48.321097Z",
     "iopub.status.idle": "2024-10-04T10:20:48.337318Z",
     "shell.execute_reply": "2024-10-04T10:20:48.336307Z",
     "shell.execute_reply.started": "2024-10-04T10:20:48.322111Z"
    }
   },
   "outputs": [],
   "source": [
    "directions = {\n",
    "    0: {\"is_vert\": False, \"step\": +1, \"sign\": \">\"},\n",
    "    1: {\"is_vert\": True, \"step\": +1, \"sign\": \"v\"},\n",
    "    2: {\"is_vert\": False, \"step\": -1, \"sign\": \"<\"},\n",
    "    3: {\"is_vert\": True, \"step\": -1, \"sign\": \"^\"},\n",
    "}"
   ]
  },
  {
   "cell_type": "code",
   "execution_count": 4,
   "metadata": {
    "execution": {
     "iopub.execute_input": "2024-10-04T10:20:48.338365Z",
     "iopub.status.busy": "2024-10-04T10:20:48.338365Z",
     "iopub.status.idle": "2024-10-04T10:20:48.352131Z",
     "shell.execute_reply": "2024-10-04T10:20:48.352131Z",
     "shell.execute_reply.started": "2024-10-04T10:20:48.338365Z"
    },
    "scrolled": true
   },
   "outputs": [],
   "source": [
    "board_map = INPUT[:-2]\n",
    "height = len(board_map)\n",
    "width = max(len(board_map[i]) for i in range(height))\n",
    "board_map = [list(line.ljust(width)) for line in board_map]\n",
    "\n",
    "horzs = {}\n",
    "for irow in range(height):\n",
    "    row = board_map[irow]\n",
    "    if \"#\" in row:\n",
    "        start = min(row.index(\".\"), row.index(\"#\"))\n",
    "        end = width + ~min(row[::-1].index(\".\"), row[::-1].index(\"#\"))\n",
    "    else:\n",
    "        start = row.index(\".\")\n",
    "        end = width + ~row[::-1].index(\".\")\n",
    "    horzs[irow] = {\"start\": start, \"end\": end}\n",
    "\n",
    "verts = {}\n",
    "for icol in range(width):\n",
    "    col = [board_map[ir][icol] for ir in range(height)]\n",
    "    if \"#\" in col:\n",
    "        start = min(col.index(\".\"), col.index(\"#\"))\n",
    "        end = height + ~min(col[::-1].index(\".\"), col[::-1].index(\"#\"))\n",
    "    else:\n",
    "        start = col.index(\".\")\n",
    "        end = height + ~col[::-1].index(\".\")\n",
    "    verts[icol] = {\"start\": start, \"end\": end}"
   ]
  },
  {
   "cell_type": "code",
   "execution_count": 5,
   "metadata": {
    "execution": {
     "iopub.execute_input": "2024-10-04T10:20:48.353645Z",
     "iopub.status.busy": "2024-10-04T10:20:48.353645Z",
     "iopub.status.idle": "2024-10-04T10:20:48.362196Z",
     "shell.execute_reply": "2024-10-04T10:20:48.362196Z",
     "shell.execute_reply.started": "2024-10-04T10:20:48.353645Z"
    }
   },
   "outputs": [],
   "source": [
    "instructions = []\n",
    "ele = \"\"\n",
    "for i in INPUT[-1]:\n",
    "    if i in [\"L\", \"R\"]:\n",
    "        instructions.extend([int(ele), i])\n",
    "        ele = \"\"\n",
    "    else:\n",
    "        ele += i\n",
    "else:\n",
    "    if ele:\n",
    "        instructions.append(int(ele))"
   ]
  },
  {
   "cell_type": "markdown",
   "metadata": {},
   "source": [
    "## Part 1"
   ]
  },
  {
   "cell_type": "code",
   "execution_count": 6,
   "metadata": {
    "execution": {
     "iopub.execute_input": "2024-10-04T10:20:48.366205Z",
     "iopub.status.busy": "2024-10-04T10:20:48.366205Z",
     "iopub.status.idle": "2024-10-04T10:20:48.387117Z",
     "shell.execute_reply": "2024-10-04T10:20:48.386095Z",
     "shell.execute_reply.started": "2024-10-04T10:20:48.366205Z"
    }
   },
   "outputs": [
    {
     "data": {
      "text/plain": [
       "36518"
      ]
     },
     "execution_count": 6,
     "metadata": {},
     "output_type": "execute_result"
    }
   ],
   "source": [
    "num = \"\"\n",
    "idir = 0\n",
    "row = 0\n",
    "col = horzs[row][\"start\"]\n",
    "\n",
    "for instr in instructions:\n",
    "    if isinstance(instr, int):\n",
    "        is_vertical, step = directions[idir][\"is_vert\"], directions[idir][\"step\"]\n",
    "\n",
    "        if is_vertical:\n",
    "            start, end = verts[col][\"start\"], verts[col][\"end\"]\n",
    "        else:\n",
    "            start, end = horzs[row][\"start\"], horzs[row][\"end\"]\n",
    "\n",
    "        for _ in range(instr):\n",
    "            board_map[row][col] = directions[idir][\"sign\"]\n",
    "            if is_vertical:\n",
    "                if row == start and step < 0:\n",
    "                    next_row = end\n",
    "                elif row == end and step > 0:\n",
    "                    next_row = start\n",
    "                else:\n",
    "                    next_row = row + step\n",
    "                next_col = col\n",
    "\n",
    "            else:\n",
    "                next_row = row\n",
    "                if col == start and step < 0:\n",
    "                    next_col = end\n",
    "                elif col == end and step > 0:\n",
    "                    next_col = start\n",
    "                else:\n",
    "                    next_col = col + step\n",
    "\n",
    "            if board_map[next_row][next_col] == \"#\":\n",
    "                break\n",
    "            else:\n",
    "                row, col = next_row, next_col\n",
    "\n",
    "    else:\n",
    "        if instr == \"L\":\n",
    "            idir = (idir - 1) % len(directions)\n",
    "        elif instr == \"R\":\n",
    "            idir = (idir + 1) % len(directions)\n",
    "\n",
    "1000 * (row + 1) + 4 * (col + 1) + idir"
   ]
  },
  {
   "cell_type": "markdown",
   "metadata": {
    "jp-MarkdownHeadingCollapsed": true
   },
   "source": [
    "## Part 2"
   ]
  }
 ],
 "metadata": {
  "kernelspec": {
   "display_name": "Python 3 (ipykernel)",
   "language": "python",
   "name": "python3"
  },
  "language_info": {
   "codemirror_mode": {
    "name": "ipython",
    "version": 3
   },
   "file_extension": ".py",
   "mimetype": "text/x-python",
   "name": "python",
   "nbconvert_exporter": "python",
   "pygments_lexer": "ipython3",
   "version": "3.11.4"
  }
 },
 "nbformat": 4,
 "nbformat_minor": 4
}
