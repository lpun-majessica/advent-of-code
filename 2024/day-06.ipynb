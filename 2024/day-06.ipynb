{
 "cells": [
  {
   "cell_type": "markdown",
   "metadata": {},
   "source": [
    "[Advent of Code - Day 06](https://adventofcode.com/2024/day/6)"
   ]
  },
  {
   "cell_type": "markdown",
   "metadata": {},
   "source": [
    "# Import input"
   ]
  },
  {
   "cell_type": "code",
   "execution_count": 1,
   "metadata": {
    "execution": {
     "iopub.execute_input": "2024-12-06T06:08:30.561530Z",
     "iopub.status.busy": "2024-12-06T06:08:30.561530Z",
     "iopub.status.idle": "2024-12-06T06:08:32.178671Z",
     "shell.execute_reply": "2024-12-06T06:08:32.178671Z",
     "shell.execute_reply.started": "2024-12-06T06:08:30.561530Z"
    }
   },
   "outputs": [],
   "source": [
    "import sys\n",
    "from itertools import product\n",
    "\n",
    "sys.path.insert(0, \"../\")\n",
    "from utils import puzzle\n",
    "\n",
    "P = puzzle.Puzzle(year=\"2024\", day=\"06\")\n",
"INPUT = P.load_input()"
   ]
  },
  {
   "cell_type": "code",
   "execution_count": 2,
   "metadata": {
    "execution": {
     "iopub.execute_input": "2024-12-06T06:08:32.184227Z",
     "iopub.status.busy": "2024-12-06T06:08:32.178671Z",
     "iopub.status.idle": "2024-12-06T06:08:32.198757Z",
     "shell.execute_reply": "2024-12-06T06:08:32.197504Z",
     "shell.execute_reply.started": "2024-12-06T06:08:32.178671Z"
    }
   },
   "outputs": [
    {
     "data": {
      "text/plain": [
       "['......#........#..........#.................##......................#.............#..................#............#............#..',\n",
       " '.....#............................................#.......................#.......##.................#..#...................#.#...',\n",
       " '......#...................#............................#.....#.........#................................................#.........',\n",
       " '...........................................#.......#..........#..#......#.........#.#.#.#................#.##........##...........',\n",
       " '........#.........................................#.......#.....#..........#...#....##....#..#.......##................#......#...']"
      ]
     },
     "execution_count": 2,
     "metadata": {},
     "output_type": "execute_result"
    }
   ],
   "source": [
    "INPUT[:5]"
   ]
  },
  {
   "cell_type": "markdown",
   "metadata": {},
   "source": [
    "# Solulu"
   ]
  },
  {
   "cell_type": "code",
   "execution_count": 3,
   "metadata": {
    "execution": {
     "iopub.execute_input": "2024-12-06T06:08:32.198757Z",
     "iopub.status.busy": "2024-12-06T06:08:32.198757Z",
     "iopub.status.idle": "2024-12-06T06:08:32.216963Z",
     "shell.execute_reply": "2024-12-06T06:08:32.216963Z",
     "shell.execute_reply.started": "2024-12-06T06:08:32.198757Z"
    }
   },
   "outputs": [],
   "source": [
    "GUARD, OBSTACLE = \"^\", \"#\"\n",
    "INPUT = [list(line) for line in INPUT]\n",
    "HEIGHT, WIDTH = len(INPUT), len(INPUT[0])\n",
    "directions = [(-1, 0), (0, +1), (+1, 0), (0, -1)]\n",
    "\n",
    "for row, col in product(range(HEIGHT), range(WIDTH)):\n",
    "    if INPUT[row][col] == GUARD:\n",
    "        break"
   ]
  },
  {
   "cell_type": "markdown",
   "metadata": {},
   "source": [
    "## Part 1"
   ]
  },
  {
   "cell_type": "code",
   "execution_count": 4,
   "metadata": {
    "execution": {
     "iopub.execute_input": "2024-12-06T06:08:32.221147Z",
     "iopub.status.busy": "2024-12-06T06:08:32.221147Z",
     "iopub.status.idle": "2024-12-06T06:08:32.256909Z",
     "shell.execute_reply": "2024-12-06T06:08:32.255396Z",
     "shell.execute_reply.started": "2024-12-06T06:08:32.221147Z"
    }
   },
   "outputs": [
    {
     "data": {
      "text/plain": [
       "4374"
      ]
     },
     "execution_count": 4,
     "metadata": {},
     "output_type": "execute_result"
    }
   ],
   "source": [
    "grow, gcol = row, col\n",
    "visited = set()\n",
    "direction = 0\n",
    "\n",
    "while True:\n",
    "    visited.add((grow, gcol))\n",
    "    r, c = directions[direction]\n",
    "\n",
    "    if grow + r not in range(HEIGHT) or gcol + c not in range(WIDTH):\n",
    "        break\n",
    "    elif INPUT[grow + r][gcol + c] == OBSTACLE:\n",
    "        direction = (direction + 1) % len(directions)\n",
    "    else:\n",
    "        grow += r\n",
    "        gcol += c\n",
    "\n",
    "len(visited)"
   ]
  },
  {
   "cell_type": "markdown",
   "metadata": {},
   "source": [
    "## Part 2"
   ]
  },
  {
   "cell_type": "code",
   "execution_count": 5,
   "metadata": {
    "execution": {
     "iopub.execute_input": "2024-12-06T06:08:32.256909Z",
     "iopub.status.busy": "2024-12-06T06:08:32.256909Z",
     "iopub.status.idle": "2024-12-06T06:09:05.993499Z",
     "shell.execute_reply": "2024-12-06T06:09:05.993499Z",
     "shell.execute_reply.started": "2024-12-06T06:08:32.256909Z"
    }
   },
   "outputs": [
    {
     "data": {
      "text/plain": [
       "1705"
      ]
     },
     "execution_count": 5,
     "metadata": {},
     "output_type": "execute_result"
    }
   ],
   "source": [
    "res = 0\n",
    "\n",
    "for orow, ocol in visited:\n",
    "    if (orow, ocol) == (row, col):\n",
    "        continue\n",
    "\n",
    "    INPUT[orow][ocol] = OBSTACLE\n",
    "    grow, gcol = row, col\n",
    "    visited2 = set()\n",
    "    direction = 0\n",
    "\n",
    "    while True:\n",
    "        if (grow, gcol, direction) in visited2:\n",
    "            res += 1\n",
    "            break\n",
    "\n",
    "        visited2.add((grow, gcol, direction))\n",
    "        r, c = directions[direction]\n",
    "\n",
    "        if grow + r not in range(HEIGHT) or gcol + c not in range(WIDTH):\n",
    "            break\n",
    "        elif INPUT[grow + r][gcol + c] == OBSTACLE:\n",
    "            direction = (direction + 1) % len(directions)\n",
    "        else:\n",
    "            grow += r\n",
    "            gcol += c\n",
    "\n",
    "    INPUT[orow][ocol] = \".\"\n",
    "\n",
    "res"
   ]
  }
 ],
 "metadata": {
  "kernelspec": {
   "display_name": "Python 3 (ipykernel)",
   "language": "python",
   "name": "python3"
  },
  "language_info": {
   "codemirror_mode": {
    "name": "ipython",
    "version": 3
   },
   "file_extension": ".py",
   "mimetype": "text/x-python",
   "name": "python",
   "nbconvert_exporter": "python",
   "pygments_lexer": "ipython3",
   "version": "3.11.4"
  }
 },
 "nbformat": 4,
 "nbformat_minor": 4
}
