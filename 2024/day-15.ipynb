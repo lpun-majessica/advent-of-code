{
 "cells": [
  {
   "cell_type": "markdown",
   "metadata": {},
   "source": [
    "[Advent of Code - Day 15](https://adventofcode.com/2024/day/15)"
   ]
  },
  {
   "cell_type": "markdown",
   "metadata": {},
   "source": [
    "# Import input"
   ]
  },
  {
   "cell_type": "code",
   "execution_count": 1,
   "metadata": {
    "execution": {
     "iopub.execute_input": "2024-12-26T04:39:19.020748Z",
     "iopub.status.busy": "2024-12-26T04:39:19.020748Z",
     "iopub.status.idle": "2024-12-26T04:39:20.321348Z",
     "shell.execute_reply": "2024-12-26T04:39:20.321348Z",
     "shell.execute_reply.started": "2024-12-26T04:39:19.020748Z"
    }
   },
   "outputs": [],
   "source": [
    "import sys\n",
    "from collections import defaultdict\n",
    "from itertools import product\n",
    "\n",
    "sys.path.insert(0, \"../\")\n",
    "from utils import puzzle\n",
    "\n",
    "P = puzzle.Puzzle(year=\"2024\", day=\"15\")\n",
    "INPUT = P.load_input()"
   ]
  },
  {
   "cell_type": "code",
   "execution_count": 2,
   "metadata": {
    "execution": {
     "iopub.execute_input": "2024-12-26T04:39:20.321348Z",
     "iopub.status.busy": "2024-12-26T04:39:20.321348Z",
     "iopub.status.idle": "2024-12-26T04:39:20.338968Z",
     "shell.execute_reply": "2024-12-26T04:39:20.338968Z",
     "shell.execute_reply.started": "2024-12-26T04:39:20.321348Z"
    }
   },
   "outputs": [
    {
     "data": {
      "text/plain": [
       "['##################################################',\n",
       " '#O..OOOO......#...O.#O..........OOO..O#.O..OO..###',\n",
       " '#...O#...#...O.O...O.O........#OO...O.#O..O.O..O.#',\n",
       " '#..O.......#O..OO.#..O..O...O....O#O.O.....O.....#',\n",
       " '#O...O.O...O.O#.O..O....O..#OOO......#O......#.O.#']"
      ]
     },
     "execution_count": 2,
     "metadata": {},
     "output_type": "execute_result"
    }
   ],
   "source": [
    "INPUT[:5]"
   ]
  },
  {
   "cell_type": "markdown",
   "metadata": {},
   "source": [
    "# Solulu"
   ]
  },
  {
   "cell_type": "code",
   "execution_count": 3,
   "metadata": {
    "execution": {
     "iopub.execute_input": "2024-12-26T04:39:20.342191Z",
     "iopub.status.busy": "2024-12-26T04:39:20.342191Z",
     "iopub.status.idle": "2024-12-26T04:39:20.359377Z",
     "shell.execute_reply": "2024-12-26T04:39:20.359377Z",
     "shell.execute_reply.started": "2024-12-26T04:39:20.342191Z"
    }
   },
   "outputs": [],
   "source": [
    "WALL, BOX, ROBOT = \"#\", \"O\", \"@\"\n",
    "DIRS = {\"^\": (-1, 0), \"v\": (+1, 0), \"<\": (0, -1), \">\": (0, +1)}\n",
    "\n",
    "INSTR = \"\".join(INPUT[INPUT.index(\"\") + 1 :])\n",
    "\n",
    "\n",
    "def prep(part: int):\n",
    "    MAP = list()\n",
    "    row = list()\n",
    "\n",
    "    for line in INPUT[: INPUT.index(\"\")]:\n",
    "        for cell in line:\n",
    "            if cell == WALL:\n",
    "                row += WALL if part == 1 else list(WALL * 2)\n",
    "            elif cell == BOX:\n",
    "                row += BOX if part == 1 else list(\"[]\")\n",
    "            elif cell == ROBOT:\n",
    "                row += \".\" if part == 1 else list(\"..\")\n",
    "                start = (len(MAP), len(row) - (1 if part == 1 else 2))\n",
    "            elif cell == \".\":\n",
    "                row += \".\" if part == 1 else list(\"..\")\n",
    "        MAP.append(row)\n",
    "        row = list()\n",
    "\n",
    "    return MAP, start"
   ]
  },
  {
   "cell_type": "markdown",
   "metadata": {},
   "source": [
    "## Part 1"
   ]
  },
  {
   "cell_type": "code",
   "execution_count": 4,
   "metadata": {
    "execution": {
     "iopub.execute_input": "2024-12-26T04:39:20.364332Z",
     "iopub.status.busy": "2024-12-26T04:39:20.359377Z",
     "iopub.status.idle": "2024-12-26T04:39:20.413548Z",
     "shell.execute_reply": "2024-12-26T04:39:20.413548Z",
     "shell.execute_reply.started": "2024-12-26T04:39:20.364332Z"
    }
   },
   "outputs": [
    {
     "data": {
      "text/plain": [
       "1495147"
      ]
     },
     "execution_count": 4,
     "metadata": {},
     "output_type": "execute_result"
    }
   ],
   "source": [
    "MAP, (row, col) = prep(part=1)\n",
    "HEIGHT, WIDTH = len(MAP), len(MAP[0])\n",
    "res = 0\n",
    "\n",
    "for i in INSTR:\n",
    "    r, c = DIRS[i]\n",
    "    nrow, ncol = row + r, col + c\n",
    "    if MAP[nrow][ncol] == WALL:\n",
    "        continue\n",
    "    elif MAP[nrow][ncol] == BOX:\n",
    "        n = 0\n",
    "        while MAP[nrow + n * r][ncol + n * c] == BOX:\n",
    "            n += 1\n",
    "        if MAP[nrow + n * r][ncol + n * c] == WALL:\n",
    "            continue\n",
    "        MAP[nrow][ncol] = \".\"\n",
    "        MAP[nrow + n * r][ncol + n * c] = BOX\n",
    "    row, col = nrow, ncol\n",
    "\n",
    "for r, c in product(range(HEIGHT), range(WIDTH)):\n",
    "    if MAP[r][c] == BOX:\n",
    "        res += 100 * r + c\n",
    "\n",
    "res"
   ]
  },
  {
   "cell_type": "markdown",
   "metadata": {},
   "source": [
    "## Part 2"
   ]
  },
  {
   "cell_type": "code",
   "execution_count": 5,
   "metadata": {
    "execution": {
     "iopub.execute_input": "2024-12-26T04:39:20.413548Z",
     "iopub.status.busy": "2024-12-26T04:39:20.413548Z",
     "iopub.status.idle": "2024-12-26T04:39:20.495646Z",
     "shell.execute_reply": "2024-12-26T04:39:20.495646Z",
     "shell.execute_reply.started": "2024-12-26T04:39:20.413548Z"
    }
   },
   "outputs": [
    {
     "data": {
      "text/plain": [
       "1524905"
      ]
     },
     "execution_count": 5,
     "metadata": {},
     "output_type": "execute_result"
    }
   ],
   "source": [
    "MAP, (row, col) = prep(part=2)\n",
    "HEIGHT, WIDTH = len(MAP), len(MAP[0])\n",
    "res = 0\n",
    "\n",
    "for i in INSTR:\n",
    "    r, c = DIRS[i]\n",
    "    nrow, ncol = row + r, col + c\n",
    "\n",
    "    if MAP[nrow][ncol] == WALL:\n",
    "        continue\n",
    "    elif MAP[nrow][ncol] in \"[]\":\n",
    "        queue = [(nrow, ncol, MAP[nrow][ncol])]\n",
    "        seen = set()\n",
    "        move = True\n",
    "        while queue:\n",
    "            brow, bcol, shape = queue.pop(0)\n",
    "            if (brow, bcol, shape) in seen:\n",
    "                continue\n",
    "            elif shape == WALL:\n",
    "                move = False\n",
    "                break\n",
    "            elif shape == \".\":\n",
    "                continue\n",
    "            seen.add((brow, bcol, shape))\n",
    "\n",
    "            if shape == \"]\":\n",
    "                queue.append((brow, bcol - 1, MAP[brow][bcol - 1]))\n",
    "            elif shape == \"[\":\n",
    "                queue.append((brow, bcol + 1, MAP[brow][bcol + 1]))\n",
    "            queue.append((brow + r, bcol + c, MAP[brow + r][bcol + c]))\n",
    "        if not move:\n",
    "            continue\n",
    "        elif move:\n",
    "            for brow, bcol, _ in seen:\n",
    "                MAP[brow][bcol] = \".\"\n",
    "            for brow, bcol, shape in seen:\n",
    "                MAP[brow + r][bcol + c] = shape\n",
    "    row, col = nrow, ncol\n",
    "\n",
    "for r, c in product(range(HEIGHT), range(WIDTH)):\n",
    "    if MAP[r][c] == \"[\":\n",
    "        res += 100 * r + c\n",
    "\n",
    "res"
   ]
  }
 ],
 "metadata": {
  "kernelspec": {
   "display_name": "Python 3 (ipykernel)",
   "language": "python",
   "name": "python3"
  },
  "language_info": {
   "codemirror_mode": {
    "name": "ipython",
    "version": 3
   },
   "file_extension": ".py",
   "mimetype": "text/x-python",
   "name": "python",
   "nbconvert_exporter": "python",
   "pygments_lexer": "ipython3",
   "version": "3.11.4"
  }
 },
 "nbformat": 4,
 "nbformat_minor": 4
}
