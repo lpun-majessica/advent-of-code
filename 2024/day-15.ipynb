{
 "cells": [
  {
   "cell_type": "markdown",
   "metadata": {},
   "source": [
    "[Advent of Code - Day 15](https://adventofcode.com/2024/day/15)"
   ]
  },
  {
   "cell_type": "markdown",
   "metadata": {},
   "source": [
    "# Import input"
   ]
  },
  {
   "cell_type": "code",
   "execution_count": 1,
   "metadata": {
    "execution": {
     "iopub.execute_input": "2024-12-18T04:57:21.961901Z",
     "iopub.status.busy": "2024-12-18T04:57:21.961901Z",
     "iopub.status.idle": "2024-12-18T04:57:23.273107Z",
     "shell.execute_reply": "2024-12-18T04:57:23.273107Z",
     "shell.execute_reply.started": "2024-12-18T04:57:21.961901Z"
    }
   },
   "outputs": [],
   "source": [
    "import sys\n",
    "from collections import defaultdict\n",
    "from itertools import product\n",
    "\n",
    "sys.path.insert(0, \"../\")\n",
    "from utils import aoc_input as inp\n",
    "\n",
    "INPUT = inp.download_input(year=\"2024\", day=\"15\")"
   ]
  },
  {
   "cell_type": "code",
   "execution_count": 2,
   "metadata": {
    "execution": {
     "iopub.execute_input": "2024-12-18T04:57:23.276959Z",
     "iopub.status.busy": "2024-12-18T04:57:23.276959Z",
     "iopub.status.idle": "2024-12-18T04:57:23.291279Z",
     "shell.execute_reply": "2024-12-18T04:57:23.291279Z",
     "shell.execute_reply.started": "2024-12-18T04:57:23.276959Z"
    }
   },
   "outputs": [
    {
     "data": {
      "text/plain": [
       "['##################################################',\n",
       " '#O..OOOO......#...O.#O..........OOO..O#.O..OO..###',\n",
       " '#...O#...#...O.O...O.O........#OO...O.#O..O.O..O.#',\n",
       " '#..O.......#O..OO.#..O..O...O....O#O.O.....O.....#',\n",
       " '#O...O.O...O.O#.O..O....O..#OOO......#O......#.O.#']"
      ]
     },
     "execution_count": 2,
     "metadata": {},
     "output_type": "execute_result"
    }
   ],
   "source": [
    "INPUT[:5]"
   ]
  },
  {
   "cell_type": "markdown",
   "metadata": {},
   "source": [
    "# Solulu"
   ]
  },
  {
   "cell_type": "code",
   "execution_count": 3,
   "metadata": {
    "execution": {
     "iopub.execute_input": "2024-12-18T04:57:23.291279Z",
     "iopub.status.busy": "2024-12-18T04:57:23.291279Z",
     "iopub.status.idle": "2024-12-18T04:57:23.314922Z",
     "shell.execute_reply": "2024-12-18T04:57:23.314922Z",
     "shell.execute_reply.started": "2024-12-18T04:57:23.291279Z"
    }
   },
   "outputs": [],
   "source": [
    "WALL, BOX, ROBOT = \"#\", \"O\", \"@\"\n",
    "DIRS = {\"^\": (-1, 0), \"v\": (+1, 0), \"<\": (0, -1), \">\": (0, +1)}\n",
    "\n",
    "MAP = INPUT[: INPUT.index(\"\")]\n",
    "INSTR = \"\".join(INPUT[INPUT.index(\"\") + 1 :])\n",
    "HEIGHT, WIDTH = len(MAP), len(MAP[0])\n",
    "\n",
    "\n",
    "def get_coord(part: int, m: list = MAP):\n",
    "    BOXES = set()\n",
    "    WALLS = set()\n",
    "\n",
    "    for row, col in product(range(HEIGHT), range(WIDTH)):\n",
    "        curr = MAP[row][col]\n",
    "        if curr == WALL:\n",
    "            if part == 1:\n",
    "                WALLS.add((row, col))\n",
    "            elif part == 2:\n",
    "                WALLS.update(((row, col * 2), (row, col * 2 + 1)))\n",
    "        elif curr == BOX:\n",
    "            if part == 1:\n",
    "                BOXES.add((row, col))\n",
    "            elif part == 2:\n",
    "                BOXES.update(((row, col * 2), (row, col * 2 + 1)))\n",
    "        elif curr == ROBOT:\n",
    "            robot = (row, col) if part == 1 else (row, col * 2)\n",
    "\n",
    "    return BOXES, WALLS, robot"
   ]
  },
  {
   "cell_type": "markdown",
   "metadata": {},
   "source": [
    "## Part 1"
   ]
  },
  {
   "cell_type": "code",
   "execution_count": 4,
   "metadata": {
    "execution": {
     "iopub.execute_input": "2024-12-18T04:57:23.332584Z",
     "iopub.status.busy": "2024-12-18T04:57:23.323033Z",
     "iopub.status.idle": "2024-12-18T04:57:23.492306Z",
     "shell.execute_reply": "2024-12-18T04:57:23.486925Z",
     "shell.execute_reply.started": "2024-12-18T04:57:23.332584Z"
    }
   },
   "outputs": [
    {
     "data": {
      "text/plain": [
       "1495147"
      ]
     },
     "execution_count": 4,
     "metadata": {},
     "output_type": "execute_result"
    }
   ],
   "source": [
    "BOXES, WALLS, (row, col) = get_coord(part=1)\n",
    "res = 0\n",
    "\n",
    "for i in INSTR:\n",
    "    r, c = DIRS[i]\n",
    "    nrow, ncol = row + r, col + c\n",
    "    if (nrow, ncol) in WALLS:\n",
    "        continue\n",
    "    elif (nrow, ncol) in BOXES:\n",
    "        n = 0\n",
    "        while (nrow + n * r, ncol + n * c) in BOXES:\n",
    "            n += 1\n",
    "        if (nrow + n * r, ncol + n * c) in WALLS:\n",
    "            continue\n",
    "        BOXES.remove((nrow, ncol))\n",
    "        BOXES.add((nrow + n * r, ncol + n * c))\n",
    "    row, col = nrow, ncol\n",
    "\n",
    "for r, c in BOXES:\n",
    "    res += 100 * r + c\n",
    "\n",
    "res"
   ]
  },
  {
   "cell_type": "markdown",
   "metadata": {},
   "source": [
    "## Part 2"
   ]
  },
  {
   "cell_type": "code",
   "execution_count": 5,
   "metadata": {
    "execution": {
     "iopub.execute_input": "2024-12-18T04:57:23.493329Z",
     "iopub.status.busy": "2024-12-18T04:57:23.493329Z",
     "iopub.status.idle": "2024-12-18T04:57:23.511695Z",
     "shell.execute_reply": "2024-12-18T04:57:23.511695Z",
     "shell.execute_reply.started": "2024-12-18T04:57:23.493329Z"
    }
   },
   "outputs": [],
   "source": [
    "BOXES, WALLS, (row, col) = get_coord(part=2)\n",
    "res = 0\n",
    "\n",
    "# for i in INSTR:\n",
    "#     r, c = DIRS[i]\n",
    "#     nrow, ncol = row + r, col + c\n",
    "#     if (nrow, ncol) in WALLS:\n",
    "#         continue\n",
    "#     elif (nrow, ncol) in BOXES:\n",
    "#         if r == 0:\n",
    "#             n = 0\n",
    "#             while (nrow + n * r, ncol + n * c) in BOXES:\n",
    "#                 n += 1\n",
    "#             if (nrow + n * r, ncol + n * c) in WALLS:\n",
    "#                 continue\n",
    "#             BOXES.remove((nrow, ncol))\n",
    "#             BOXES.add((nrow + n * r, ncol + n * c))\n",
    "#         else:\n",
    "\n",
    "#     row, col = nrow, ncol\n",
    "\n",
    "# for r, c in BOXES:\n",
    "#     res += 100 * r + c\n",
    "\n",
    "# res"
   ]
  }
 ],
 "metadata": {
  "kernelspec": {
   "display_name": "Python 3 (ipykernel)",
   "language": "python",
   "name": "python3"
  },
  "language_info": {
   "codemirror_mode": {
    "name": "ipython",
    "version": 3
   },
   "file_extension": ".py",
   "mimetype": "text/x-python",
   "name": "python",
   "nbconvert_exporter": "python",
   "pygments_lexer": "ipython3",
   "version": "3.11.4"
  }
 },
 "nbformat": 4,
 "nbformat_minor": 4
}
