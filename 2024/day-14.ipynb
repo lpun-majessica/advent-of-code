{
 "cells": [
  {
   "cell_type": "markdown",
   "metadata": {},
   "source": [
    "[Advent of Code - Day 14](https://adventofcode.com/2024/day/14)"
   ]
  },
  {
   "cell_type": "markdown",
   "metadata": {},
   "source": [
    "# Import input"
   ]
  },
  {
   "cell_type": "code",
   "execution_count": 1,
   "metadata": {
    "execution": {
     "iopub.execute_input": "2024-12-14T07:40:19.798670Z",
     "iopub.status.busy": "2024-12-14T07:40:19.798670Z",
     "iopub.status.idle": "2024-12-14T07:40:20.908664Z",
     "shell.execute_reply": "2024-12-14T07:40:20.907623Z",
     "shell.execute_reply.started": "2024-12-14T07:40:19.798670Z"
    }
   },
   "outputs": [],
   "source": [
    "import sys\n",
    "from collections import defaultdict\n",
    "from math import prod\n",
    "\n",
    "sys.path.insert(0, \"../\")\n",
    "from utils import aoc_input as inp\n",
    "\n",
    "INPUT = inp.download_input(year=\"2024\", day=\"14\")"
   ]
  },
  {
   "cell_type": "code",
   "execution_count": 2,
   "metadata": {
    "execution": {
     "iopub.execute_input": "2024-12-14T07:40:20.912675Z",
     "iopub.status.busy": "2024-12-14T07:40:20.910746Z",
     "iopub.status.idle": "2024-12-14T07:40:20.928972Z",
     "shell.execute_reply": "2024-12-14T07:40:20.927946Z",
     "shell.execute_reply.started": "2024-12-14T07:40:20.912675Z"
    }
   },
   "outputs": [
    {
     "data": {
      "text/plain": [
       "['p=82,15 v=-7,-48',\n",
       " 'p=39,5 v=28,65',\n",
       " 'p=32,82 v=-40,69',\n",
       " 'p=74,67 v=92,-85',\n",
       " 'p=58,76 v=30,86']"
      ]
     },
     "execution_count": 2,
     "metadata": {},
     "output_type": "execute_result"
    }
   ],
   "source": [
    "INPUT[:5]"
   ]
  },
  {
   "cell_type": "markdown",
   "metadata": {},
   "source": [
    "# Solulu"
   ]
  },
  {
   "cell_type": "code",
   "execution_count": 3,
   "metadata": {
    "execution": {
     "iopub.execute_input": "2024-12-14T07:40:20.932612Z",
     "iopub.status.busy": "2024-12-14T07:40:20.931530Z",
     "iopub.status.idle": "2024-12-14T07:40:20.954627Z",
     "shell.execute_reply": "2024-12-14T07:40:20.953605Z",
     "shell.execute_reply.started": "2024-12-14T07:40:20.932612Z"
    }
   },
   "outputs": [],
   "source": [
    "HEIGHT, WIDTH = 103, 101\n",
    "robots = dict()\n",
    "\n",
    "for i, line in enumerate(INPUT):\n",
    "    p, v = line.split()\n",
    "    pcol, prow = map(int, p[2:].split(\",\"))\n",
    "    vcol, vrow = map(int, v[2:].split(\",\"))\n",
    "\n",
    "    robots[i] = [prow, pcol, vrow, vcol]"
   ]
  },
  {
   "cell_type": "markdown",
   "metadata": {},
   "source": [
    "## Part 1"
   ]
  },
  {
   "cell_type": "code",
   "execution_count": 4,
   "metadata": {
    "execution": {
     "iopub.execute_input": "2024-12-14T07:40:20.955622Z",
     "iopub.status.busy": "2024-12-14T07:40:20.955622Z",
     "iopub.status.idle": "2024-12-14T07:40:20.968058Z",
     "shell.execute_reply": "2024-12-14T07:40:20.967046Z",
     "shell.execute_reply.started": "2024-12-14T07:40:20.955622Z"
    }
   },
   "outputs": [
    {
     "data": {
      "text/plain": [
       "217328832"
      ]
     },
     "execution_count": 4,
     "metadata": {},
     "output_type": "execute_result"
    }
   ],
   "source": [
    "t = 100\n",
    "quads = [0 for _ in range(4)]\n",
    "\n",
    "for prow, pcol, vrow, vcol in robots.values():\n",
    "    prow = (prow + (vrow * t)) % HEIGHT\n",
    "    pcol = (pcol + (vcol * t)) % WIDTH\n",
    "\n",
    "    if pcol < WIDTH // 2 and prow < HEIGHT // 2:\n",
    "        quad = 0\n",
    "    elif pcol > WIDTH // 2 and prow < HEIGHT // 2:\n",
    "        quad = 1\n",
    "    elif pcol < WIDTH // 2 and prow > HEIGHT // 2:\n",
    "        quad = 2\n",
    "    elif pcol > WIDTH // 2 and prow > HEIGHT // 2:\n",
    "        quad = 3\n",
    "    else:\n",
    "        continue\n",
    "\n",
    "    quads[quad] += 1\n",
    "\n",
    "prod(quads)"
   ]
  },
  {
   "cell_type": "markdown",
   "metadata": {},
   "source": [
    "## Part 2\n",
    "Credit: [hyper neutrino](https://www.youtube.com/watch?v=ySUUTxVv31U)"
   ]
  },
  {
   "cell_type": "code",
   "execution_count": 5,
   "metadata": {
    "execution": {
     "iopub.execute_input": "2024-12-14T07:40:20.969063Z",
     "iopub.status.busy": "2024-12-14T07:40:20.969063Z",
     "iopub.status.idle": "2024-12-14T07:40:27.916475Z",
     "shell.execute_reply": "2024-12-14T07:40:27.914864Z",
     "shell.execute_reply.started": "2024-12-14T07:40:20.969063Z"
    }
   },
   "outputs": [
    {
     "data": {
      "text/plain": [
       "7412"
      ]
     },
     "execution_count": 5,
     "metadata": {},
     "output_type": "execute_result"
    }
   ],
   "source": [
    "min_prod = float(\"inf\")\n",
    "time = None\n",
    "\n",
    "for t in range(HEIGHT * WIDTH):\n",
    "    quads = [0 for _ in range(4)]\n",
    "\n",
    "    for prow, pcol, vrow, vcol in robots.values():\n",
    "        prow = (prow + (vrow * t)) % HEIGHT\n",
    "        pcol = (pcol + (vcol * t)) % WIDTH\n",
    "\n",
    "        if pcol < WIDTH // 2 and prow < HEIGHT // 2:\n",
    "            quad = 0\n",
    "        elif pcol > WIDTH // 2 and prow < HEIGHT // 2:\n",
    "            quad = 1\n",
    "        elif pcol < WIDTH // 2 and prow > HEIGHT // 2:\n",
    "            quad = 2\n",
    "        elif pcol > WIDTH // 2 and prow > HEIGHT // 2:\n",
    "            quad = 3\n",
    "        else:\n",
    "            continue\n",
    "        quads[quad] += 1\n",
    "\n",
    "    if prod(quads) < min_prod:\n",
    "        min_prod = prod(quads)\n",
    "        time = t\n",
    "\n",
    "time"
   ]
  }
 ],
 "metadata": {
  "kernelspec": {
   "display_name": "Python 3 (ipykernel)",
   "language": "python",
   "name": "python3"
  },
  "language_info": {
   "codemirror_mode": {
    "name": "ipython",
    "version": 3
   },
   "file_extension": ".py",
   "mimetype": "text/x-python",
   "name": "python",
   "nbconvert_exporter": "python",
   "pygments_lexer": "ipython3",
   "version": "3.11.4"
  }
 },
 "nbformat": 4,
 "nbformat_minor": 4
}
