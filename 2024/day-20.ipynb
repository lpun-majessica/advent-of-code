{
 "cells": [
  {
   "cell_type": "markdown",
   "metadata": {},
   "source": [
    "[Advent of Code - Day 20](https://adventofcode.com/2024/day/20)"
   ]
  },
  {
   "cell_type": "markdown",
   "metadata": {},
   "source": [
    "# Import input"
   ]
  },
  {
   "cell_type": "code",
   "execution_count": 1,
   "metadata": {
    "execution": {
     "iopub.execute_input": "2024-12-30T06:21:45.378242Z",
     "iopub.status.busy": "2024-12-30T06:21:45.378242Z",
     "iopub.status.idle": "2024-12-30T06:21:45.722858Z",
     "shell.execute_reply": "2024-12-30T06:21:45.722090Z",
     "shell.execute_reply.started": "2024-12-30T06:21:45.378242Z"
    }
   },
   "outputs": [],
   "source": [
    "import sys\n",
    "from collections import defaultdict\n",
    "from itertools import product\n",
    "\n",
    "sys.path.insert(0, \"../\")\n",
    "from utils import puzzle"
   ]
  },
  {
   "cell_type": "code",
   "execution_count": 2,
   "metadata": {
    "execution": {
     "iopub.execute_input": "2024-12-30T06:21:45.723365Z",
     "iopub.status.busy": "2024-12-30T06:21:45.723365Z",
     "iopub.status.idle": "2024-12-30T06:21:46.833103Z",
     "shell.execute_reply": "2024-12-30T06:21:46.833103Z",
     "shell.execute_reply.started": "2024-12-30T06:21:45.723365Z"
    }
   },
   "outputs": [],
   "source": [
    "P = puzzle.Puzzle(year=\"2024\", day=\"20\")\n",
    "INPUT = P.load_input()"
   ]
  },
  {
   "cell_type": "code",
   "execution_count": 3,
   "metadata": {
    "execution": {
     "iopub.execute_input": "2024-12-30T06:21:46.833103Z",
     "iopub.status.busy": "2024-12-30T06:21:46.833103Z",
     "iopub.status.idle": "2024-12-30T06:21:46.853391Z",
     "shell.execute_reply": "2024-12-30T06:21:46.851165Z",
     "shell.execute_reply.started": "2024-12-30T06:21:46.833103Z"
    }
   },
   "outputs": [
    {
     "data": {
      "text/plain": [
       "['#############################################################################################################################################',\n",
       " '#.....#.........#...#...#.........###.....###...#.......#...###...#.......###...#...#.....#...###.....#...###...###...#.......#...#...###...#',\n",
       " '#.###.#.#######.#.#.#.#.#.#######.###.###.###.#.#.#####.#.#.###.#.#.#####.###.#.#.#.#.###.#.#.###.###.#.#.###.#.###.#.#.#####.#.#.#.#.###.#.#',\n",
       " '#...#.#...#...#...#...#...#.....#...#...#.....#.#.#.....#.#.#...#.#.#.....#...#...#.#...#.#.#...#...#...#...#.#.#...#.#.#.....#.#.#.#.....#.#',\n",
       " '###.#.###.#.#.#############.###.###.###.#######.#.#.#####.#.#.###.#.#.#####.#######.###.#.#.###.###.#######.#.#.#.###.#.#.#####.#.#.#######.#']"
      ]
     },
     "execution_count": 3,
     "metadata": {},
     "output_type": "execute_result"
    }
   ],
   "source": [
    "INPUT[:5]"
   ]
  },
  {
   "cell_type": "markdown",
   "metadata": {},
   "source": [
    "# Solulu"
   ]
  },
  {
   "cell_type": "code",
   "execution_count": 4,
   "metadata": {
    "execution": {
     "iopub.execute_input": "2024-12-30T06:21:46.855736Z",
     "iopub.status.busy": "2024-12-30T06:21:46.855736Z",
     "iopub.status.idle": "2024-12-30T06:21:46.892998Z",
     "shell.execute_reply": "2024-12-30T06:21:46.890662Z",
     "shell.execute_reply.started": "2024-12-30T06:21:46.855736Z"
    }
   },
   "outputs": [],
   "source": [
    "DIRS = [(+1, 0), (0, +1), (-1, 0), (0, -1)]\n",
    "HEIGHT, WIDTH = len(INPUT), len(INPUT[0])\n",
    "\n",
    "for row, col in product(range(HEIGHT), range(WIDTH)):\n",
    "    if INPUT[row][col] == \"S\":\n",
    "        START = (row, col)\n",
    "    elif INPUT[row][col] == \"E\":\n",
    "        END = (row, col)"
   ]
  },
  {
   "cell_type": "code",
   "execution_count": 5,
   "metadata": {
    "execution": {
     "iopub.execute_input": "2024-12-30T06:21:46.896020Z",
     "iopub.status.busy": "2024-12-30T06:21:46.895479Z",
     "iopub.status.idle": "2024-12-30T06:21:46.945128Z",
     "shell.execute_reply": "2024-12-30T06:21:46.942883Z",
     "shell.execute_reply.started": "2024-12-30T06:21:46.896020Z"
    }
   },
   "outputs": [],
   "source": [
    "queue = [(START, 0)]\n",
    "path = dict()\n",
    "\n",
    "while queue:\n",
    "    (r, c), steps = queue.pop(0)\n",
    "    if (r, c) in path:\n",
    "        continue\n",
    "    path[(r, c)] = steps\n",
    "    if (r, c) == END:\n",
    "        break\n",
    "    for dr, dc in DIRS:\n",
    "        if INPUT[r + dr][c + dc] == \"#\":\n",
    "            continue\n",
    "        queue.append(((r + dr, c + dc), steps + 1))"
   ]
  },
  {
   "cell_type": "markdown",
   "metadata": {},
   "source": [
    "## Part 1"
   ]
  },
  {
   "cell_type": "code",
   "execution_count": 6,
   "metadata": {
    "execution": {
     "iopub.execute_input": "2024-12-30T06:21:46.948492Z",
     "iopub.status.busy": "2024-12-30T06:21:46.947977Z",
     "iopub.status.idle": "2024-12-30T06:21:47.074476Z",
     "shell.execute_reply": "2024-12-30T06:21:47.074476Z",
     "shell.execute_reply.started": "2024-12-30T06:21:46.948492Z"
    }
   },
   "outputs": [
    {
     "data": {
      "text/plain": [
       "1289"
      ]
     },
     "execution_count": 6,
     "metadata": {},
     "output_type": "execute_result"
    }
   ],
   "source": [
    "queue = [(START, 0)]\n",
    "seen = set()\n",
    "res = defaultdict(int)\n",
    "\n",
    "while queue:\n",
    "    (r, c), steps = queue.pop(0)\n",
    "    if (r, c) in seen:\n",
    "        continue\n",
    "    if (r, c) == END:\n",
    "        break\n",
    "    seen.add((r, c))\n",
    "\n",
    "    for dr, dc in DIRS:\n",
    "        if INPUT[r + dr][c + dc] == \"#\":\n",
    "            cheat_move = (r + (2 * dr), c + (2 * dc))\n",
    "            if cheat_move in path:\n",
    "                res[path[cheat_move] - (steps + 2)] += 1\n",
    "            continue\n",
    "        queue.append(((r + dr, c + dc), steps + 1))\n",
    "\n",
    "answer = sum([v for k, v in res.items() if k >= 100])\n",
    "answer"
   ]
  },
  {
   "cell_type": "markdown",
   "metadata": {},
   "source": [
    "## Part 2"
   ]
  },
  {
   "cell_type": "code",
   "execution_count": 7,
   "metadata": {
    "execution": {
     "iopub.execute_input": "2024-12-30T06:21:47.074476Z",
     "iopub.status.busy": "2024-12-30T06:21:47.074476Z",
     "iopub.status.idle": "2024-12-30T06:22:16.178797Z",
     "shell.execute_reply": "2024-12-30T06:22:16.178797Z",
     "shell.execute_reply.started": "2024-12-30T06:21:47.074476Z"
    }
   },
   "outputs": [
    {
     "data": {
      "text/plain": [
       "982425"
      ]
     },
     "execution_count": 7,
     "metadata": {},
     "output_type": "execute_result"
    }
   ],
   "source": [
    "target = 100\n",
    "res = 0\n",
    "lpath = list(path)\n",
    "\n",
    "for i, (rs, cs) in enumerate(lpath):\n",
    "    for re, ce in lpath[i + 1 :]:\n",
    "        if (cheat := abs(re - rs) + abs(ce - cs)) <= 20:\n",
    "            if path[(re, ce)] - path[(rs, cs)] >= target + cheat:\n",
    "                res += 1\n",
    "\n",
    "res"
   ]
  }
 ],
 "metadata": {
  "kernelspec": {
   "display_name": "Python 3 (ipykernel)",
   "language": "python",
   "name": "python3"
  },
  "language_info": {
   "codemirror_mode": {
    "name": "ipython",
    "version": 3
   },
   "file_extension": ".py",
   "mimetype": "text/x-python",
   "name": "python",
   "nbconvert_exporter": "python",
   "pygments_lexer": "ipython3",
   "version": "3.11.4"
  }
 },
 "nbformat": 4,
 "nbformat_minor": 4
}
