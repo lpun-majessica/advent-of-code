{
 "cells": [
  {
   "cell_type": "markdown",
   "metadata": {},
   "source": [
    "[Advent of Code - Day 20](https://adventofcode.com/2024/day/20)"
   ]
  },
  {
   "cell_type": "markdown",
   "metadata": {},
   "source": [
    "# Import input"
   ]
  },
  {
   "cell_type": "code",
   "execution_count": 1,
   "metadata": {
    "execution": {
     "iopub.execute_input": "2024-12-23T06:01:43.267042Z",
     "iopub.status.busy": "2024-12-23T06:01:43.267042Z",
     "iopub.status.idle": "2024-12-23T06:01:43.770066Z",
     "shell.execute_reply": "2024-12-23T06:01:43.770066Z",
     "shell.execute_reply.started": "2024-12-23T06:01:43.267042Z"
    }
   },
   "outputs": [],
   "source": [
    "import sys\n",
    "from collections import defaultdict\n",
    "from itertools import product\n",
    "\n",
    "sys.path.insert(0, \"../\")\n",
    "from utils import puzzle"
   ]
  },
  {
   "cell_type": "code",
   "execution_count": 2,
   "metadata": {
    "execution": {
     "iopub.execute_input": "2024-12-23T06:01:43.770066Z",
     "iopub.status.busy": "2024-12-23T06:01:43.770066Z",
     "iopub.status.idle": "2024-12-23T06:01:44.822791Z",
     "shell.execute_reply": "2024-12-23T06:01:44.822791Z",
     "shell.execute_reply.started": "2024-12-23T06:01:43.770066Z"
    }
   },
   "outputs": [],
   "source": [
    "P = puzzle.Puzzle(year=\"2024\", day=\"20\")\n",
    "INPUT = P.load_input()"
   ]
  },
  {
   "cell_type": "code",
   "execution_count": 3,
   "metadata": {
    "execution": {
     "iopub.execute_input": "2024-12-23T06:01:44.822791Z",
     "iopub.status.busy": "2024-12-23T06:01:44.822791Z",
     "iopub.status.idle": "2024-12-23T06:01:44.846061Z",
     "shell.execute_reply": "2024-12-23T06:01:44.844554Z",
     "shell.execute_reply.started": "2024-12-23T06:01:44.822791Z"
    }
   },
   "outputs": [
    {
     "data": {
      "text/plain": [
       "['#############################################################################################################################################',\n",
       " '#.....#.........#...#...#.........###.....###...#.......#...###...#.......###...#...#.....#...###.....#...###...###...#.......#...#...###...#',\n",
       " '#.###.#.#######.#.#.#.#.#.#######.###.###.###.#.#.#####.#.#.###.#.#.#####.###.#.#.#.#.###.#.#.###.###.#.#.###.#.###.#.#.#####.#.#.#.#.###.#.#',\n",
       " '#...#.#...#...#...#...#...#.....#...#...#.....#.#.#.....#.#.#...#.#.#.....#...#...#.#...#.#.#...#...#...#...#.#.#...#.#.#.....#.#.#.#.....#.#',\n",
       " '###.#.###.#.#.#############.###.###.###.#######.#.#.#####.#.#.###.#.#.#####.#######.###.#.#.###.###.#######.#.#.#.###.#.#.#####.#.#.#######.#']"
      ]
     },
     "execution_count": 3,
     "metadata": {},
     "output_type": "execute_result"
    }
   ],
   "source": [
    "INPUT[:5]"
   ]
  },
  {
   "cell_type": "markdown",
   "metadata": {},
   "source": [
    "# Solulu"
   ]
  },
  {
   "cell_type": "code",
   "execution_count": 4,
   "metadata": {
    "execution": {
     "iopub.execute_input": "2024-12-23T06:01:44.848722Z",
     "iopub.status.busy": "2024-12-23T06:01:44.848722Z",
     "iopub.status.idle": "2024-12-23T06:01:44.859310Z",
     "shell.execute_reply": "2024-12-23T06:01:44.859310Z",
     "shell.execute_reply.started": "2024-12-23T06:01:44.848722Z"
    }
   },
   "outputs": [],
   "source": [
    "# INPUT = [\n",
    "#     \"###############\",\n",
    "#     \"#...#...#.....#\",\n",
    "#     \"#.#.#.#.#.###.#\",\n",
    "#     \"#S#...#.#.#...#\",\n",
    "#     \"#######.#.#.###\",\n",
    "#     \"#######.#.#...#\",\n",
    "#     \"#######.#.###.#\",\n",
    "#     \"###..E#...#...#\",\n",
    "#     \"###.#######.###\",\n",
    "#     \"#...###...#...#\",\n",
    "#     \"#.#####.#.###.#\",\n",
    "#     \"#.#...#.#.#...#\",\n",
    "#     \"#.#.#.#.#.#.###\",\n",
    "#     \"#...#...#...###\",\n",
    "#     \"###############\",\n",
    "# ]"
   ]
  },
  {
   "cell_type": "code",
   "execution_count": 5,
   "metadata": {
    "execution": {
     "iopub.execute_input": "2024-12-23T06:01:44.861850Z",
     "iopub.status.busy": "2024-12-23T06:01:44.861850Z",
     "iopub.status.idle": "2024-12-23T06:01:44.884923Z",
     "shell.execute_reply": "2024-12-23T06:01:44.884923Z",
     "shell.execute_reply.started": "2024-12-23T06:01:44.861850Z"
    }
   },
   "outputs": [],
   "source": [
    "DIRS = [(+1, 0), (0, +1), (-1, 0), (0, -1)]\n",
    "HEIGHT, WIDTH = len(INPUT), len(INPUT[0])\n",
    "\n",
    "for row, col in product(range(HEIGHT), range(WIDTH)):\n",
    "    if INPUT[row][col] == \"S\":\n",
    "        START = (row, col)\n",
    "    elif INPUT[row][col] == \"E\":\n",
    "        END = (row, col)"
   ]
  },
  {
   "cell_type": "markdown",
   "metadata": {},
   "source": [
    "## Part 1"
   ]
  },
  {
   "cell_type": "code",
   "execution_count": 6,
   "metadata": {
    "execution": {
     "iopub.execute_input": "2024-12-23T06:01:44.884923Z",
     "iopub.status.busy": "2024-12-23T06:01:44.884923Z",
     "iopub.status.idle": "2024-12-23T06:01:44.987778Z",
     "shell.execute_reply": "2024-12-23T06:01:44.987778Z",
     "shell.execute_reply.started": "2024-12-23T06:01:44.884923Z"
    }
   },
   "outputs": [],
   "source": [
    "queue = [(START, 0)]\n",
    "seen = set()\n",
    "path = dict()\n",
    "walls = set()\n",
    "\n",
    "while queue:\n",
    "    (r, c), steps = queue.pop(0)\n",
    "    if (r, c) in seen:\n",
    "        continue\n",
    "    seen.add((r, c))\n",
    "    path[(r, c)] = steps\n",
    "    if (r, c) == END:\n",
    "        break\n",
    "    for dr, dc in DIRS:\n",
    "        if INPUT[r + dr][c + dc] == \"#\":\n",
    "            walls.add(((r + dr, c + dc), steps + 1))\n",
    "            continue\n",
    "        queue.append(((r + dr, c + dc), steps + 1))"
   ]
  },
  {
   "cell_type": "code",
   "execution_count": 7,
   "metadata": {
    "execution": {
     "iopub.execute_input": "2024-12-23T06:01:44.987778Z",
     "iopub.status.busy": "2024-12-23T06:01:44.987778Z",
     "iopub.status.idle": "2024-12-23T06:01:45.052496Z",
     "shell.execute_reply": "2024-12-23T06:01:45.052496Z",
     "shell.execute_reply.started": "2024-12-23T06:01:44.987778Z"
    }
   },
   "outputs": [
    {
     "data": {
      "text/plain": [
       "1289"
      ]
     },
     "execution_count": 7,
     "metadata": {},
     "output_type": "execute_result"
    }
   ],
   "source": [
    "queue = [(START, 0)]\n",
    "seen = set()\n",
    "res = defaultdict(int)\n",
    "\n",
    "while queue:\n",
    "    (r, c), steps = queue.pop(0)\n",
    "    if (r, c) in seen:\n",
    "        continue\n",
    "    if (r, c) == END:\n",
    "        break\n",
    "    seen.add((r, c))\n",
    "    \n",
    "    for dr, dc in DIRS:\n",
    "        if INPUT[r + dr][c + dc] == \"#\":\n",
    "            cheat_move = (r + (2 * dr), c + (2 * dc))\n",
    "            if cheat_move in path:\n",
    "                res[path[cheat_move] - (steps + 2)] += 1\n",
    "            continue\n",
    "        queue.append(((r + dr, c + dc), steps + 1))\n",
    "\n",
    "answer = sum([v for k, v in res.items() if k >= 100])\n",
    "answer"
   ]
  },
  {
   "cell_type": "markdown",
   "metadata": {},
   "source": [
    "## Part 2"
   ]
  },
  {
   "cell_type": "code",
   "execution_count": 11,
   "metadata": {
    "execution": {
     "iopub.execute_input": "2024-12-23T06:01:46.056652Z",
     "iopub.status.busy": "2024-12-23T06:01:46.056652Z",
     "iopub.status.idle": "2024-12-23T06:02:13.100212Z",
     "shell.execute_reply": "2024-12-23T06:02:13.100212Z",
     "shell.execute_reply.started": "2024-12-23T06:01:46.056652Z"
    }
   },
   "outputs": [
    {
     "ename": "KeyboardInterrupt",
     "evalue": "",
     "output_type": "error",
     "traceback": [
      "\u001b[1;31m---------------------------------------------------------------------------\u001b[0m",
      "\u001b[1;31mKeyboardInterrupt\u001b[0m                         Traceback (most recent call last)",
      "Cell \u001b[1;32mIn[11], line 16\u001b[0m\n\u001b[0;32m     13\u001b[0m     res[path[(r,c)] \u001b[38;5;241m-\u001b[39m s] \u001b[38;5;241m+\u001b[39m\u001b[38;5;241m=\u001b[39m \u001b[38;5;241m1\u001b[39m\n\u001b[0;32m     15\u001b[0m \u001b[38;5;28;01mfor\u001b[39;00m dr, dc \u001b[38;5;129;01min\u001b[39;00m DIRS:\n\u001b[1;32m---> 16\u001b[0m     \u001b[38;5;28;01mif\u001b[39;00m r \u001b[38;5;241m+\u001b[39m dr \u001b[38;5;129;01mnot\u001b[39;00m \u001b[38;5;129;01min\u001b[39;00m \u001b[38;5;28mrange\u001b[39m(HEIGHT) \u001b[38;5;129;01mor\u001b[39;00m c \u001b[38;5;241m+\u001b[39m dc \u001b[38;5;129;01mnot\u001b[39;00m \u001b[38;5;129;01min\u001b[39;00m \u001b[38;5;28mrange\u001b[39m(WIDTH):\n\u001b[0;32m     17\u001b[0m         \u001b[38;5;28;01mcontinue\u001b[39;00m\n\u001b[0;32m     18\u001b[0m     \u001b[38;5;28;01mif\u001b[39;00m (r\u001b[38;5;241m+\u001b[39mdr, c\u001b[38;5;241m+\u001b[39mdc) \u001b[38;5;129;01min\u001b[39;00m path \u001b[38;5;129;01mand\u001b[39;00m path[(r\u001b[38;5;241m+\u001b[39mdr, c\u001b[38;5;241m+\u001b[39mdc)] \u001b[38;5;241m<\u001b[39m s:\n",
      "\u001b[1;31mKeyboardInterrupt\u001b[0m: "
     ]
    }
   ],
   "source": [
    "res = defaultdict(int)\n",
    " \n",
    "for (row,col), steps in path.items():\n",
    "    queue = [((row,col), steps, set())]\n",
    "    \n",
    "    while queue:\n",
    "        (r, c), s, cheats = queue.pop(0)\n",
    "        if len(cheats) > 20:\n",
    "            continue\n",
    "        if (r,c) in cheats:\n",
    "            continue\n",
    "        if (r,c) != (row,col) and (r,c) in path:\n",
    "            res[path[(r,c)] - s] += 1\n",
    "            \n",
    "        for dr, dc in DIRS:\n",
    "            if r + dr not in range(HEIGHT) or c + dc not in range(WIDTH):\n",
    "                continue\n",
    "            if (r+dr, c+dc) in path and path[(r+dr, c+dc)] < s:\n",
    "                continue\n",
    "            queue.append(((r + dr, c + dc), s + 1,cheats | {(r,c)}))"
   ]
  }
 ],
 "metadata": {
  "kernelspec": {
   "display_name": "Python 3 (ipykernel)",
   "language": "python",
   "name": "python3"
  },
  "language_info": {
   "codemirror_mode": {
    "name": "ipython",
    "version": 3
   },
   "file_extension": ".py",
   "mimetype": "text/x-python",
   "name": "python",
   "nbconvert_exporter": "python",
   "pygments_lexer": "ipython3",
   "version": "3.11.4"
  }
 },
 "nbformat": 4,
 "nbformat_minor": 4
}
