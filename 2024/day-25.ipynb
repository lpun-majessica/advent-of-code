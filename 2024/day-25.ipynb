{
 "cells": [
  {
   "cell_type": "markdown",
   "metadata": {},
   "source": [
    "[Advent of Code - Day 25](https://adventofcode.com/2024/day/25)"
   ]
  },
  {
   "cell_type": "markdown",
   "metadata": {},
   "source": [
    "# Import input"
   ]
  },
  {
   "cell_type": "code",
   "execution_count": 1,
   "metadata": {
    "execution": {
     "iopub.execute_input": "2024-12-25T05:26:47.044390Z",
     "iopub.status.busy": "2024-12-25T05:26:47.044390Z",
     "iopub.status.idle": "2024-12-25T05:26:48.892973Z",
     "shell.execute_reply": "2024-12-25T05:26:48.892973Z",
     "shell.execute_reply.started": "2024-12-25T05:26:47.044390Z"
    }
   },
   "outputs": [],
   "source": [
    "import sys\n",
    "from collections import defaultdict\n",
    "\n",
    "sys.path.insert(0, \"../\")\n",
    "from utils import puzzle\n",
    "\n",
    "P = puzzle.Puzzle(year=\"2024\", day=\"25\")\n",
    "INPUT = P.load_input()"
   ]
  },
  {
   "cell_type": "code",
   "execution_count": 2,
   "metadata": {
    "execution": {
     "iopub.execute_input": "2024-12-25T05:26:48.892973Z",
     "iopub.status.busy": "2024-12-25T05:26:48.892973Z",
     "iopub.status.idle": "2024-12-25T05:26:48.914136Z",
     "shell.execute_reply": "2024-12-25T05:26:48.914136Z",
     "shell.execute_reply.started": "2024-12-25T05:26:48.892973Z"
    }
   },
   "outputs": [
    {
     "data": {
      "text/plain": [
       "['#####', '.####', '.####', '.##.#', '.##..']"
      ]
     },
     "execution_count": 2,
     "metadata": {},
     "output_type": "execute_result"
    }
   ],
   "source": [
    "INPUT[:5]"
   ]
  },
  {
   "cell_type": "markdown",
   "metadata": {},
   "source": [
    "# Solulu"
   ]
  },
  {
   "cell_type": "code",
   "execution_count": 3,
   "metadata": {
    "execution": {
     "iopub.execute_input": "2024-12-25T05:26:48.915551Z",
     "iopub.status.busy": "2024-12-25T05:26:48.915551Z",
     "iopub.status.idle": "2024-12-25T05:26:48.953759Z",
     "shell.execute_reply": "2024-12-25T05:26:48.952747Z",
     "shell.execute_reply.started": "2024-12-25T05:26:48.915551Z"
    }
   },
   "outputs": [],
   "source": [
    "PIN = 5\n",
    "KEYS = set()\n",
    "LOCKS = set()\n",
    "\n",
    "scheme = [0 for _ in range(PIN)]\n",
    "key = False\n",
    "\n",
    "INPUT.append(\"\")\n",
    "for line in INPUT:\n",
    "    if not line and any(height for height in scheme):\n",
    "        if key:\n",
    "            KEYS.add(tuple(scheme))\n",
    "        if not key:\n",
    "            LOCKS.add(tuple(scheme))\n",
    "        scheme = [0 for _ in range(PIN)]\n",
    "    elif line == \".....\":\n",
    "        key = not any(height for height in scheme)\n",
    "    else:\n",
    "        for i, char in enumerate(line):\n",
    "            scheme[i] += char == \"#\""
   ]
  },
  {
   "cell_type": "code",
   "execution_count": 4,
   "metadata": {
    "execution": {
     "iopub.execute_input": "2024-12-25T05:26:48.955125Z",
     "iopub.status.busy": "2024-12-25T05:26:48.955125Z",
     "iopub.status.idle": "2024-12-25T05:26:49.014658Z",
     "shell.execute_reply": "2024-12-25T05:26:49.014658Z",
     "shell.execute_reply.started": "2024-12-25T05:26:48.955125Z"
    }
   },
   "outputs": [
    {
     "data": {
      "text/plain": [
       "2900"
      ]
     },
     "execution_count": 4,
     "metadata": {},
     "output_type": "execute_result"
    }
   ],
   "source": [
    "res = 0\n",
    "\n",
    "for key in KEYS:\n",
    "    for lock in LOCKS:\n",
    "        for knum, lnum in zip(key, lock):\n",
    "            if knum + lnum - 2 > PIN:\n",
    "                break\n",
    "        else:\n",
    "            res += 1\n",
    "\n",
    "res"
   ]
  }
 ],
 "metadata": {
  "kernelspec": {
   "display_name": "Python 3 (ipykernel)",
   "language": "python",
   "name": "python3"
  },
  "language_info": {
   "codemirror_mode": {
    "name": "ipython",
    "version": 3
   },
   "file_extension": ".py",
   "mimetype": "text/x-python",
   "name": "python",
   "nbconvert_exporter": "python",
   "pygments_lexer": "ipython3",
   "version": "3.11.4"
  }
 },
 "nbformat": 4,
 "nbformat_minor": 4
}
