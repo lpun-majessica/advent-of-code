{
 "cells": [
  {
   "cell_type": "markdown",
   "metadata": {},
   "source": [
    "[Advent of Code - Day 08](https://adventofcode.com/2024/day/8)"
   ]
  },
  {
   "cell_type": "markdown",
   "metadata": {},
   "source": [
    "# Import input"
   ]
  },
  {
   "cell_type": "code",
   "execution_count": 1,
   "metadata": {
    "execution": {
     "iopub.execute_input": "2024-12-08T05:30:51.115365Z",
     "iopub.status.busy": "2024-12-08T05:30:51.114058Z",
     "iopub.status.idle": "2024-12-08T05:30:52.290432Z",
     "shell.execute_reply": "2024-12-08T05:30:52.290432Z",
     "shell.execute_reply.started": "2024-12-08T05:30:51.115365Z"
    }
   },
   "outputs": [],
   "source": [
    "import sys\n",
    "from collections import defaultdict\n",
    "from itertools import product, combinations\n",
    "\n",
    "sys.path.insert(0, \"../\")\n",
    "from utils import puzzle\n",
    "\n",
    "P = puzzle.Puzzle(year=\"2024\", day=\"08\")\n",
"INPUT = P.load_input()"
   ]
  },
  {
   "cell_type": "code",
   "execution_count": 2,
   "metadata": {
    "execution": {
     "iopub.execute_input": "2024-12-08T05:30:52.290432Z",
     "iopub.status.busy": "2024-12-08T05:30:52.290432Z",
     "iopub.status.idle": "2024-12-08T05:30:52.309517Z",
     "shell.execute_reply": "2024-12-08T05:30:52.308973Z",
     "shell.execute_reply.started": "2024-12-08T05:30:52.290432Z"
    }
   },
   "outputs": [
    {
     "data": {
      "text/plain": [
       "['....1.y.D...Y..........w....m.....................',\n",
       " '..R..D..5....Y...1.........w.........G............',\n",
       " '........R........D..o.............................',\n",
       " '.............H......Y...w.....m...................',\n",
       " '.......R..................3.........v.............']"
      ]
     },
     "execution_count": 2,
     "metadata": {},
     "output_type": "execute_result"
    }
   ],
   "source": [
    "INPUT[:5]"
   ]
  },
  {
   "cell_type": "markdown",
   "metadata": {},
   "source": [
    "# Solulu"
   ]
  },
  {
   "cell_type": "code",
   "execution_count": 3,
   "metadata": {
    "execution": {
     "iopub.execute_input": "2024-12-08T05:30:52.314684Z",
     "iopub.status.busy": "2024-12-08T05:30:52.313299Z",
     "iopub.status.idle": "2024-12-08T05:30:52.326360Z",
     "shell.execute_reply": "2024-12-08T05:30:52.326360Z",
     "shell.execute_reply.started": "2024-12-08T05:30:52.314684Z"
    }
   },
   "outputs": [],
   "source": [
    "HEIGHT, WIDTH = len(INPUT), len(INPUT[0])\n",
    "antennas = defaultdict(list)\n",
    "\n",
    "for row, col in product(range(HEIGHT), range(WIDTH)):\n",
    "    antenna = INPUT[row][col]\n",
    "    if antenna == \".\":\n",
    "        continue\n",
    "\n",
    "    antennas[antenna].append((row, col))"
   ]
  },
  {
   "cell_type": "markdown",
   "metadata": {},
   "source": [
    "## Part 1"
   ]
  },
  {
   "cell_type": "code",
   "execution_count": 4,
   "metadata": {
    "execution": {
     "iopub.execute_input": "2024-12-08T05:30:52.329517Z",
     "iopub.status.busy": "2024-12-08T05:30:52.329517Z",
     "iopub.status.idle": "2024-12-08T05:30:52.346479Z",
     "shell.execute_reply": "2024-12-08T05:30:52.346479Z",
     "shell.execute_reply.started": "2024-12-08T05:30:52.329517Z"
    }
   },
   "outputs": [
    {
     "data": {
      "text/plain": [
       "367"
      ]
     },
     "execution_count": 4,
     "metadata": {},
     "output_type": "execute_result"
    }
   ],
   "source": [
    "antinodes = set()\n",
    "\n",
    "for coords in antennas.values():\n",
    "    for (r1, c1), (r2, c2) in combinations(coords, 2):\n",
    "        diffrow = r1 - r2\n",
    "        diffcol = c1 - c2\n",
    "\n",
    "        an = [(r1 + diffrow, c1 + diffcol), (r2 - diffrow, c2 - diffcol)]\n",
    "        for anrow, ancol in an:\n",
    "            if anrow not in range(HEIGHT) or ancol not in range(WIDTH):\n",
    "                continue\n",
    "\n",
    "            antinodes.add((anrow, ancol))\n",
    "\n",
    "len(antinodes)"
   ]
  },
  {
   "cell_type": "markdown",
   "metadata": {},
   "source": [
    "## Part 2"
   ]
  },
  {
   "cell_type": "code",
   "execution_count": 5,
   "metadata": {
    "execution": {
     "iopub.execute_input": "2024-12-08T05:30:52.349497Z",
     "iopub.status.busy": "2024-12-08T05:30:52.349497Z",
     "iopub.status.idle": "2024-12-08T05:30:52.367186Z",
     "shell.execute_reply": "2024-12-08T05:30:52.367186Z",
     "shell.execute_reply.started": "2024-12-08T05:30:52.349497Z"
    }
   },
   "outputs": [
    {
     "data": {
      "text/plain": [
       "1285"
      ]
     },
     "execution_count": 5,
     "metadata": {},
     "output_type": "execute_result"
    }
   ],
   "source": [
    "antinodes = set()\n",
    "\n",
    "for coords in antennas.values():\n",
    "    for (r1, c1), (r2, c2) in combinations(coords, 2):\n",
    "        diffrow = r1 - r2\n",
    "        diffcol = c1 - c2\n",
    "\n",
    "        while r1 in range(HEIGHT) and c1 in range(WIDTH):\n",
    "            antinodes.add((r1, c1))\n",
    "            r1 += diffrow\n",
    "            c1 += diffcol\n",
    "\n",
    "        while r2 in range(HEIGHT) and c2 in range(WIDTH):\n",
    "            antinodes.add((r2, c2))\n",
    "            r2 -= diffrow\n",
    "            c2 -= diffcol\n",
    "\n",
    "len(antinodes)"
   ]
  }
 ],
 "metadata": {
  "kernelspec": {
   "display_name": "Python 3 (ipykernel)",
   "language": "python",
   "name": "python3"
  },
  "language_info": {
   "codemirror_mode": {
    "name": "ipython",
    "version": 3
   },
   "file_extension": ".py",
   "mimetype": "text/x-python",
   "name": "python",
   "nbconvert_exporter": "python",
   "pygments_lexer": "ipython3",
   "version": "3.11.4"
  }
 },
 "nbformat": 4,
 "nbformat_minor": 4
}
