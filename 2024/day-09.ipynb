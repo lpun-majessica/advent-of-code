{
 "cells": [
  {
   "cell_type": "markdown",
   "metadata": {},
   "source": [
    "[Advent of Code - Day 09](https://adventofcode.com/2024/day/9)"
   ]
  },
  {
   "cell_type": "markdown",
   "metadata": {},
   "source": [
    "# Import input"
   ]
  },
  {
   "cell_type": "code",
   "execution_count": 1,
   "metadata": {
    "execution": {
     "iopub.execute_input": "2024-12-09T07:14:19.740317Z",
     "iopub.status.busy": "2024-12-09T07:14:19.740317Z",
     "iopub.status.idle": "2024-12-09T07:14:22.814475Z",
     "shell.execute_reply": "2024-12-09T07:14:22.813365Z",
     "shell.execute_reply.started": "2024-12-09T07:14:19.740317Z"
    }
   },
   "outputs": [],
   "source": [
    "import sys\n",
    "from collections import defaultdict\n",
    "from heapq import heappush, heappop\n",
    "\n",
    "sys.path.insert(0, \"../\")\n",
    "from utils import aoc_input as inp\n",
    "\n",
    "INPUT = inp.download_input(year=\"2024\", day=\"09\")[0]"
   ]
  },
  {
   "cell_type": "code",
   "execution_count": 2,
   "metadata": {
    "execution": {
     "iopub.execute_input": "2024-12-09T07:14:22.817393Z",
     "iopub.status.busy": "2024-12-09T07:14:22.816407Z",
     "iopub.status.idle": "2024-12-09T07:14:22.828321Z",
     "shell.execute_reply": "2024-12-09T07:14:22.827313Z",
     "shell.execute_reply.started": "2024-12-09T07:14:22.816407Z"
    }
   },
   "outputs": [
    {
     "data": {
      "text/plain": [
       "'14202'"
      ]
     },
     "execution_count": 2,
     "metadata": {},
     "output_type": "execute_result"
    }
   ],
   "source": [
    "INPUT[:5]"
   ]
  },
  {
   "cell_type": "markdown",
   "metadata": {},
   "source": [
    "# Solulu"
   ]
  },
  {
   "cell_type": "code",
   "execution_count": 3,
   "metadata": {
    "execution": {
     "iopub.execute_input": "2024-12-09T07:14:22.829858Z",
     "iopub.status.busy": "2024-12-09T07:14:22.829858Z",
     "iopub.status.idle": "2024-12-09T07:14:22.846009Z",
     "shell.execute_reply": "2024-12-09T07:14:22.846009Z",
     "shell.execute_reply.started": "2024-12-09T07:14:22.829858Z"
    }
   },
   "outputs": [],
   "source": [
    "def reset_input(INPUT=INPUT):\n",
    "    INPUT += \"0\"\n",
    "    n = len(INPUT)\n",
    "    DISK_MAP = [int(num) for num in INPUT]\n",
    "    BLOCKS = list()\n",
    "    SPACES = defaultdict(list)\n",
    "\n",
    "    for i in range(n // 2):\n",
    "        ID = 2 * i\n",
    "        file = DISK_MAP[ID]\n",
    "        space = DISK_MAP[ID + 1]\n",
    "\n",
    "        BLOCKS += [i for _ in range(file)] + [-1 for _ in range(space)]\n",
    "        if space > 0:\n",
    "            SPACES[space].append(len(BLOCKS) - space)\n",
    "\n",
    "    for i in range(max(SPACES)):\n",
    "        if SPACES[i]:\n",
    "            continue\n",
    "        SPACES[i] = list()\n",
    "\n",
    "    return BLOCKS, SPACES"
   ]
  },
  {
   "cell_type": "markdown",
   "metadata": {},
   "source": [
    "## Part 1"
   ]
  },
  {
   "cell_type": "code",
   "execution_count": 4,
   "metadata": {
    "execution": {
     "iopub.execute_input": "2024-12-09T07:14:22.848019Z",
     "iopub.status.busy": "2024-12-09T07:14:22.847018Z",
     "iopub.status.idle": "2024-12-09T07:14:22.896308Z",
     "shell.execute_reply": "2024-12-09T07:14:22.895274Z",
     "shell.execute_reply.started": "2024-12-09T07:14:22.848019Z"
    }
   },
   "outputs": [],
   "source": [
    "blocks, _ = reset_input()\n",
    "left, right = 0, len(blocks) - 1\n",
    "\n",
    "while left < right:\n",
    "    if blocks[left] >= 0:\n",
    "        left += 1\n",
    "    if blocks[right] < 0:\n",
    "        right -= 1\n",
    "\n",
    "    if blocks[left] < 0 and blocks[right] >= 0:\n",
    "        blocks[left], blocks[right] = blocks[right], blocks[left]\n",
    "        left += 1\n",
    "        right -= 1"
   ]
  },
  {
   "cell_type": "code",
   "execution_count": 5,
   "metadata": {
    "execution": {
     "iopub.execute_input": "2024-12-09T07:14:22.897309Z",
     "iopub.status.busy": "2024-12-09T07:14:22.897309Z",
     "iopub.status.idle": "2024-12-09T07:14:22.921126Z",
     "shell.execute_reply": "2024-12-09T07:14:22.921126Z",
     "shell.execute_reply.started": "2024-12-09T07:14:22.897309Z"
    }
   },
   "outputs": [
    {
     "data": {
      "text/plain": [
       "6395800119709"
      ]
     },
     "execution_count": 5,
     "metadata": {},
     "output_type": "execute_result"
    }
   ],
   "source": [
    "res = 0\n",
    "\n",
    "for i, pos in enumerate(blocks):\n",
    "    if pos <= -1:\n",
    "        continue\n",
    "    res += i * pos\n",
    "\n",
    "res"
   ]
  },
  {
   "cell_type": "markdown",
   "metadata": {},
   "source": [
    "## Part 2"
   ]
  },
  {
   "cell_type": "code",
   "execution_count": 6,
   "metadata": {
    "execution": {
     "iopub.execute_input": "2024-12-09T07:14:22.924747Z",
     "iopub.status.busy": "2024-12-09T07:14:22.923730Z",
     "iopub.status.idle": "2024-12-09T07:14:29.003210Z",
     "shell.execute_reply": "2024-12-09T07:14:29.002200Z",
     "shell.execute_reply.started": "2024-12-09T07:14:22.924747Z"
    }
   },
   "outputs": [],
   "source": [
    "blocks, spaces = reset_input()\n",
    "index = defaultdict(list)\n",
    "\n",
    "for i, block in enumerate(blocks):\n",
    "    if block >= 0:\n",
    "        index[block].append(i)\n",
    "\n",
    "for file in range(max(index), -1, -1):\n",
    "    idx = index[file]\n",
    "    num = len(idx)\n",
    "    start, end = idx[0], idx[-1]\n",
    "\n",
    "    positions = list()\n",
    "\n",
    "    for space in spaces:\n",
    "        if num <= space:\n",
    "            for i in spaces[space]:\n",
    "                if i < start:\n",
    "                    heappush(positions, (i, space))\n",
    "\n",
    "    if not positions:\n",
    "        continue\n",
    "    pos, s = heappop(positions)\n",
    "    blocks[pos : pos + num], blocks[start : end + 1] = (\n",
    "        blocks[start : end + 1],\n",
    "        blocks[pos : pos + num],\n",
    "    )\n",
    "    spaces[s].remove(pos)\n",
    "    spaces[s - num].append(pos + num)"
   ]
  },
  {
   "cell_type": "code",
   "execution_count": 7,
   "metadata": {
    "execution": {
     "iopub.execute_input": "2024-12-09T07:14:29.006217Z",
     "iopub.status.busy": "2024-12-09T07:14:29.005213Z",
     "iopub.status.idle": "2024-12-09T07:14:29.062025Z",
     "shell.execute_reply": "2024-12-09T07:14:29.060445Z",
     "shell.execute_reply.started": "2024-12-09T07:14:29.006217Z"
    }
   },
   "outputs": [
    {
     "data": {
      "text/plain": [
       "6418529470362"
      ]
     },
     "execution_count": 7,
     "metadata": {},
     "output_type": "execute_result"
    }
   ],
   "source": [
    "res = 0\n",
    "\n",
    "for i, pos in enumerate(blocks):\n",
    "    if pos <= -1:\n",
    "        continue\n",
    "    res += i * pos\n",
    "\n",
    "res"
   ]
  }
 ],
 "metadata": {
  "kernelspec": {
   "display_name": "Python 3 (ipykernel)",
   "language": "python",
   "name": "python3"
  },
  "language_info": {
   "codemirror_mode": {
    "name": "ipython",
    "version": 3
   },
   "file_extension": ".py",
   "mimetype": "text/x-python",
   "name": "python",
   "nbconvert_exporter": "python",
   "pygments_lexer": "ipython3",
   "version": "3.11.4"
  }
 },
 "nbformat": 4,
 "nbformat_minor": 4
}
