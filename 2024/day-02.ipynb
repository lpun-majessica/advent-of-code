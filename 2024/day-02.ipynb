{
 "cells": [
  {
   "cell_type": "markdown",
   "metadata": {},
   "source": [
    "[Advent of Code - Day 02](https://adventofcode.com/2024/day/2)"
   ]
  },
  {
   "cell_type": "markdown",
   "metadata": {},
   "source": [
    "# Import input"
   ]
  },
  {
   "cell_type": "code",
   "execution_count": 1,
   "metadata": {
    "execution": {
     "iopub.execute_input": "2024-12-02T05:36:19.907797Z",
     "iopub.status.busy": "2024-12-02T05:36:19.907797Z",
     "iopub.status.idle": "2024-12-02T05:36:21.167639Z",
     "shell.execute_reply": "2024-12-02T05:36:21.167639Z",
     "shell.execute_reply.started": "2024-12-02T05:36:19.907797Z"
    }
   },
   "outputs": [],
   "source": [
    "import sys\n",
    "\n",
    "sys.path.insert(0, \"../\")\n",
    "from utils import aoc_input as inp\n",
    "\n",
    "INPUT = inp.download_input(year=\"2024\", day=\"02\")"
   ]
  },
  {
   "cell_type": "code",
   "execution_count": 2,
   "metadata": {
    "execution": {
     "iopub.execute_input": "2024-12-02T05:36:21.167639Z",
     "iopub.status.busy": "2024-12-02T05:36:21.167639Z",
     "iopub.status.idle": "2024-12-02T05:36:21.198832Z",
     "shell.execute_reply": "2024-12-02T05:36:21.198017Z",
     "shell.execute_reply.started": "2024-12-02T05:36:21.167639Z"
    }
   },
   "outputs": [
    {
     "data": {
      "text/plain": [
       "['35 37 38 41 43 41',\n",
       " '64 66 69 71 72 72',\n",
       " '45 47 50 51 52 53 55 59',\n",
       " '16 18 19 20 23 29',\n",
       " '36 39 41 43 44 41 44']"
      ]
     },
     "execution_count": 2,
     "metadata": {},
     "output_type": "execute_result"
    }
   ],
   "source": [
    "INPUT[:5]"
   ]
  },
  {
   "cell_type": "markdown",
   "metadata": {},
   "source": [
    "# Solulu"
   ]
  },
  {
   "cell_type": "code",
   "execution_count": 3,
   "metadata": {
    "execution": {
     "iopub.execute_input": "2024-12-02T05:36:21.198832Z",
     "iopub.status.busy": "2024-12-02T05:36:21.198832Z",
     "iopub.status.idle": "2024-12-02T05:36:21.209364Z",
     "shell.execute_reply": "2024-12-02T05:36:21.209364Z",
     "shell.execute_reply.started": "2024-12-02T05:36:21.198832Z"
    }
   },
   "outputs": [],
   "source": [
    "def is_safe(report: list) -> bool:\n",
    "    diffs = [report[i - 1] - report[i] for i in range(1, len(report))]\n",
    "    \n",
    "    if all(-3<=diff<=-1  for diff in diffs):\n",
    "        return True\n",
    "    if all(+1 <=diff<=+3 for diff in diffs):\n",
    "        return True\n",
    "    return False"
   ]
  },
  {
   "cell_type": "markdown",
   "metadata": {},
   "source": [
    "## Part 1"
   ]
  },
  {
   "cell_type": "code",
   "execution_count": 4,
   "metadata": {
    "execution": {
     "iopub.execute_input": "2024-12-02T05:36:21.211373Z",
     "iopub.status.busy": "2024-12-02T05:36:21.211373Z",
     "iopub.status.idle": "2024-12-02T05:36:21.249058Z",
     "shell.execute_reply": "2024-12-02T05:36:21.249058Z",
     "shell.execute_reply.started": "2024-12-02T05:36:21.211373Z"
    }
   },
   "outputs": [
    {
     "data": {
      "text/plain": [
       "524"
      ]
     },
     "execution_count": 4,
     "metadata": {},
     "output_type": "execute_result"
    }
   ],
   "source": [
    "res = 0\n",
    "\n",
    "for line in INPUT:\n",
    "    report = list(map(int, line.split()))\n",
    "    res += is_safe(report)\n",
    "    \n",
    "res"
   ]
  },
  {
   "cell_type": "markdown",
   "metadata": {},
   "source": [
    "## Part 2"
   ]
  },
  {
   "cell_type": "code",
   "execution_count": 5,
   "metadata": {
    "execution": {
     "iopub.execute_input": "2024-12-02T05:36:21.249058Z",
     "iopub.status.busy": "2024-12-02T05:36:21.249058Z",
     "iopub.status.idle": "2024-12-02T05:36:21.283606Z",
     "shell.execute_reply": "2024-12-02T05:36:21.283606Z",
     "shell.execute_reply.started": "2024-12-02T05:36:21.249058Z"
    }
   },
   "outputs": [
    {
     "data": {
      "text/plain": [
       "569"
      ]
     },
     "execution_count": 5,
     "metadata": {},
     "output_type": "execute_result"
    }
   ],
   "source": [
    "res = 0\n",
    "\n",
    "for line in INPUT:\n",
    "    report = list(map(int, line.split()))\n",
    "\n",
    "    for i in range(len(report)):\n",
    "        new_report = report[:i] + report[i + 1 :]\n",
    "        if is_safe(new_report):\n",
    "            res += 1\n",
    "            break\n",
    "res"
   ]
  }
 ],
 "metadata": {
  "kernelspec": {
   "display_name": "Python 3 (ipykernel)",
   "language": "python",
   "name": "python3"
  },
  "language_info": {
   "codemirror_mode": {
    "name": "ipython",
    "version": 3
   },
   "file_extension": ".py",
   "mimetype": "text/x-python",
   "name": "python",
   "nbconvert_exporter": "python",
   "pygments_lexer": "ipython3",
   "version": "3.11.4"
  }
 },
 "nbformat": 4,
 "nbformat_minor": 4
}
