{
 "cells": [
  {
   "cell_type": "markdown",
   "metadata": {},
   "source": [
    "[Advent of Code - Day 03](https://adventofcode.com/2024/day/3)"
   ]
  },
  {
   "cell_type": "markdown",
   "metadata": {},
   "source": [
    "# Import input"
   ]
  },
  {
   "cell_type": "code",
   "execution_count": 1,
   "metadata": {
    "execution": {
     "iopub.execute_input": "2024-12-03T06:17:50.244438Z",
     "iopub.status.busy": "2024-12-03T06:17:50.244438Z",
     "iopub.status.idle": "2024-12-03T06:17:51.411290Z",
     "shell.execute_reply": "2024-12-03T06:17:51.411290Z",
     "shell.execute_reply.started": "2024-12-03T06:17:50.244438Z"
    }
   },
   "outputs": [],
   "source": [
    "import sys\n",
    "\n",
    "sys.path.insert(0, \"../\")\n",
    "from utils import puzzle\n",
    "\n",
    "P = puzzle.Puzzle(year=\"2024\", day=\"03\")\n",
"INPUT = P.load_input()"
   ]
  },
  {
   "cell_type": "code",
   "execution_count": 2,
   "metadata": {
    "execution": {
     "iopub.execute_input": "2024-12-03T06:17:51.413634Z",
     "iopub.status.busy": "2024-12-03T06:17:51.413634Z",
     "iopub.status.idle": "2024-12-03T06:17:51.430918Z",
     "shell.execute_reply": "2024-12-03T06:17:51.430918Z",
     "shell.execute_reply.started": "2024-12-03T06:17:51.413634Z"
    }
   },
   "outputs": [
    {
     "data": {
      "text/plain": [
       "\"' mul\""
      ]
     },
     "execution_count": 2,
     "metadata": {},
     "output_type": "execute_result"
    }
   ],
   "source": [
    "INPUT[0][:5]"
   ]
  },
  {
   "cell_type": "markdown",
   "metadata": {},
   "source": [
    "# Solulu"
   ]
  },
  {
   "cell_type": "code",
   "execution_count": 3,
   "metadata": {
    "execution": {
     "iopub.execute_input": "2024-12-03T06:17:51.430918Z",
     "iopub.status.busy": "2024-12-03T06:17:51.430918Z",
     "iopub.status.idle": "2024-12-03T06:17:51.465979Z",
     "shell.execute_reply": "2024-12-03T06:17:51.465979Z",
     "shell.execute_reply.started": "2024-12-03T06:17:51.430918Z"
    }
   },
   "outputs": [],
   "source": [
    "def is_valid(nums: str) -> bool:\n",
    "    for ch in nums:\n",
    "        if not ch.isdigit() and ch != \",\":\n",
    "            return False\n",
    "    else:\n",
    "        return True"
   ]
  },
  {
   "cell_type": "markdown",
   "metadata": {},
   "source": [
    "## Part 1"
   ]
  },
  {
   "cell_type": "code",
   "execution_count": 4,
   "metadata": {
    "execution": {
     "iopub.execute_input": "2024-12-03T06:17:51.471992Z",
     "iopub.status.busy": "2024-12-03T06:17:51.471992Z",
     "iopub.status.idle": "2024-12-03T06:17:51.493172Z",
     "shell.execute_reply": "2024-12-03T06:17:51.493172Z",
     "shell.execute_reply.started": "2024-12-03T06:17:51.471992Z"
    }
   },
   "outputs": [
    {
     "data": {
      "text/plain": [
       "168539636"
      ]
     },
     "execution_count": 4,
     "metadata": {},
     "output_type": "execute_result"
    }
   ],
   "source": [
    "res = 0\n",
    "memory = \"\".join(INPUT)\n",
    "\n",
    "for grp in memory.split(\"mul(\")[1:]:\n",
    "    if \")\" not in grp:\n",
    "        continue\n",
    "    nums = grp.split(\")\")[0]\n",
    "\n",
    "    if is_valid(nums):\n",
    "        n1, n2 = map(int, nums.split(\",\"))\n",
    "        res += n1 * n2\n",
    "\n",
    "res"
   ]
  },
  {
   "cell_type": "markdown",
   "metadata": {},
   "source": [
    "## Part 2"
   ]
  },
  {
   "cell_type": "code",
   "execution_count": 5,
   "metadata": {
    "execution": {
     "iopub.execute_input": "2024-12-03T06:17:51.503608Z",
     "iopub.status.busy": "2024-12-03T06:17:51.500091Z",
     "iopub.status.idle": "2024-12-03T06:17:51.521773Z",
     "shell.execute_reply": "2024-12-03T06:17:51.521773Z",
     "shell.execute_reply.started": "2024-12-03T06:17:51.503608Z"
    }
   },
   "outputs": [
    {
     "data": {
      "text/plain": [
       "97529391"
      ]
     },
     "execution_count": 5,
     "metadata": {},
     "output_type": "execute_result"
    }
   ],
   "source": [
    "res = 0\n",
    "memory = \"\".join(INPUT)\n",
    "do = True\n",
    "\n",
    "for grp in memory.split(\"mul(\")[1:]:\n",
    "    if \")\" not in grp:\n",
    "        continue\n",
    "    nums = grp.split(\")\")[0]\n",
    "\n",
    "    if do and is_valid(nums):\n",
    "        n1, n2 = map(int, nums.split(\",\"))\n",
    "        res += n1 * n2\n",
    "\n",
    "    if \"don't()\" in grp:\n",
    "        do = False\n",
    "    elif \"do()\" in grp:\n",
    "        do = True\n",
    "\n",
    "res"
   ]
  }
 ],
 "metadata": {
  "kernelspec": {
   "display_name": "Python 3 (ipykernel)",
   "language": "python",
   "name": "python3"
  },
  "language_info": {
   "codemirror_mode": {
    "name": "ipython",
    "version": 3
   },
   "file_extension": ".py",
   "mimetype": "text/x-python",
   "name": "python",
   "nbconvert_exporter": "python",
   "pygments_lexer": "ipython3",
   "version": "3.11.4"
  }
 },
 "nbformat": 4,
 "nbformat_minor": 4
}
