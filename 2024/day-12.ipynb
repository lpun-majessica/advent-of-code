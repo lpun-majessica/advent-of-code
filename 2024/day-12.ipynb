{
 "cells": [
  {
   "cell_type": "markdown",
   "metadata": {},
   "source": [
    "[Advent of Code - Day 12](https://adventofcode.com/2024/day/12)"
   ]
  },
  {
   "cell_type": "markdown",
   "metadata": {},
   "source": [
    "# Import input"
   ]
  },
  {
   "cell_type": "code",
   "execution_count": 1,
   "metadata": {
    "execution": {
     "iopub.execute_input": "2024-12-13T06:14:16.335428Z",
     "iopub.status.busy": "2024-12-13T06:14:16.335428Z",
     "iopub.status.idle": "2024-12-13T06:14:17.727842Z",
     "shell.execute_reply": "2024-12-13T06:14:17.727842Z",
     "shell.execute_reply.started": "2024-12-13T06:14:16.335428Z"
    }
   },
   "outputs": [],
   "source": [
    "import sys\n",
    "from collections import defaultdict\n",
    "from itertools import product\n",
    "\n",
    "sys.path.insert(0, \"../\")\n",
    "from utils import aoc_input as inp\n",
    "\n",
    "INPUT = inp.download_input(year=\"2024\", day=\"12\")"
   ]
  },
  {
   "cell_type": "code",
   "execution_count": 2,
   "metadata": {
    "execution": {
     "iopub.execute_input": "2024-12-13T06:14:17.727842Z",
     "iopub.status.busy": "2024-12-13T06:14:17.727842Z",
     "iopub.status.idle": "2024-12-13T06:14:17.741095Z",
     "shell.execute_reply": "2024-12-13T06:14:17.741095Z",
     "shell.execute_reply.started": "2024-12-13T06:14:17.727842Z"
    }
   },
   "outputs": [
    {
     "data": {
      "text/plain": [
       "['ZZZZPPDDDDDDDDDDDGPPPPPPPPPPZZZZZZXXXXXXXXXXXXXQQQQYYXYUUUFBBBBBBBDDDDDDDDDDDDCCNNNNOOOORUUUUUUUUUUUDZZZZZZZVVCCCCCCCCCCCCCCCCCCCCLLLLQQQQQQ',\n",
       " 'ZZZZPPPDDDDDDDDDDPPPPPPPPPPPPPZZXXXXXXXXXXXXXXXYQYQQYYYYUUFBBBBBBDDDDDDDDDDDDDDDNNNOOOOOUUUUUUUUUUUUUZZZZZZZVZCCCCCCCCCCCCCCCCCCCLLLLLQQQQQQ',\n",
       " 'PPPPPPDDDDDDDDDDDDPPPPPPPPPPPSZZZXXXXXXXXXXXXXYYYYYQYBYYFUFBBBBBBBDDDDDDDDDDDDDDNNNOOOOOOUUUUUUUUUUUURZZZZZZZZZCCCCCCCCGGCCCCCCCCCLLLLLLLLQQ',\n",
       " 'PPPPPPDDDDDDDDDDDPPPPPPPPPPPZZZZOXXXXXXXXXXXYYYYYYYYYYYYFFFBBBBBBBBDDDDDDDDDDKDDONNNOOOOOUUUUUUUUUUUUUZZZZZZZZCCCCCCCCCGGGGCCCCLCLLLLLLLLLQQ',\n",
       " 'PPPPPPDDDDDDGGGGGPPPPPPPPPPPPZZXXXXXXXXXXXXXYYYYYYYYYYYYFFFBBBBBBBBDDDDDDDDDDDOOOWWFOOOOUUUUUUUUUUUUUUZZZZZCCCCCCCCCCCCGGGGGCCCLLLLLLLLLLLQQ']"
      ]
     },
     "execution_count": 2,
     "metadata": {},
     "output_type": "execute_result"
    }
   ],
   "source": [
    "INPUT[:5]"
   ]
  },
  {
   "cell_type": "markdown",
   "metadata": {},
   "source": [
    "# Solulu"
   ]
  },
  {
   "cell_type": "code",
   "execution_count": 3,
   "metadata": {
    "execution": {
     "iopub.execute_input": "2024-12-13T06:14:17.742999Z",
     "iopub.status.busy": "2024-12-13T06:14:17.742999Z",
     "iopub.status.idle": "2024-12-13T06:14:17.750340Z",
     "shell.execute_reply": "2024-12-13T06:14:17.750340Z",
     "shell.execute_reply.started": "2024-12-13T06:14:17.742999Z"
    }
   },
   "outputs": [],
   "source": [
    "HEIGHT, WIDTH = len(INPUT), len(INPUT[0])\n",
    "directions = [(+1, 0), (-1, 0), (0, +1), (0, -1)]"
   ]
  },
  {
   "cell_type": "markdown",
   "metadata": {},
   "source": [
    "## Part 1"
   ]
  },
  {
   "cell_type": "code",
   "execution_count": 4,
   "metadata": {
    "execution": {
     "iopub.execute_input": "2024-12-13T06:14:17.750340Z",
     "iopub.status.busy": "2024-12-13T06:14:17.750340Z",
     "iopub.status.idle": "2024-12-13T06:14:17.939659Z",
     "shell.execute_reply": "2024-12-13T06:14:17.939659Z",
     "shell.execute_reply.started": "2024-12-13T06:14:17.750340Z"
    }
   },
   "outputs": [
    {
     "data": {
      "text/plain": [
       "1471452"
      ]
     },
     "execution_count": 4,
     "metadata": {},
     "output_type": "execute_result"
    }
   ],
   "source": [
    "plants = defaultdict(list)\n",
    "seen = set()\n",
    "res = 0\n",
    "\n",
    "for row, col in product(range(HEIGHT), range(WIDTH)):\n",
    "    plant = INPUT[row][col]\n",
    "    if (row, col) in seen:\n",
    "        continue\n",
    "\n",
    "    plot = set()\n",
    "    queue = [(row, col)]\n",
    "    perimeter = 0\n",
    "    while queue:\n",
    "        r, c = queue.pop(0)\n",
    "        if (r, c) in seen:\n",
    "            continue\n",
    "\n",
    "        seen.add((r, c))\n",
    "        plot.add((r, c))\n",
    "        for drow, dcol in directions:\n",
    "            nrow, ncol = r + drow, c + dcol\n",
    "            if (\n",
    "                nrow in range(HEIGHT)\n",
    "                and ncol in range(WIDTH)\n",
    "                and INPUT[nrow][ncol] == plant\n",
    "            ):\n",
    "                queue.append((nrow, ncol))\n",
    "            else:\n",
    "                perimeter += 1\n",
    "\n",
    "    res += len(plot) * perimeter\n",
    "    plants[plant].append((len(plot), plot))\n",
    "\n",
    "res"
   ]
  },
  {
   "cell_type": "markdown",
   "metadata": {},
   "source": [
    "## Part 2"
   ]
  },
  {
   "cell_type": "code",
   "execution_count": 5,
   "metadata": {
    "execution": {
     "iopub.execute_input": "2024-12-13T06:14:17.942391Z",
     "iopub.status.busy": "2024-12-13T06:14:17.939659Z",
     "iopub.status.idle": "2024-12-13T06:14:17.951357Z",
     "shell.execute_reply": "2024-12-13T06:14:17.951357Z",
     "shell.execute_reply.started": "2024-12-13T06:14:17.942391Z"
    }
   },
   "outputs": [],
   "source": [
    "def count_corners(plot: set) -> int:\n",
    "    corners = 0\n",
    "    corner_cands = set()\n",
    "    for r, c in plot:\n",
    "        for cr, cc in [\n",
    "            (r + 0.5, c + 0.5),\n",
    "            (r - 0.5, c + 0.5),\n",
    "            (r - 0.5, c - 0.5),\n",
    "            (r + 0.5, c - 0.5),\n",
    "        ]:\n",
    "            corner_cands.add((cr, cc))\n",
    "\n",
    "    for cr, cc in corner_cands:\n",
    "        cells = [\n",
    "            cell in plot\n",
    "            for cell in [\n",
    "                (cr + 0.5, cc + 0.5),\n",
    "                (cr - 0.5, cc + 0.5),\n",
    "                (cr - 0.5, cc - 0.5),\n",
    "                (cr + 0.5, cc - 0.5),\n",
    "            ]\n",
    "        ]\n",
    "        neighbors = sum(cells)\n",
    "        if neighbors == 1:\n",
    "            corners += 1\n",
    "        elif neighbors == 2:\n",
    "            if cells == [True, False, True, False] or cells == [\n",
    "                False,\n",
    "                True,\n",
    "                False,\n",
    "                True,\n",
    "            ]:\n",
    "                corners += 2\n",
    "        elif neighbors == 3:\n",
    "            corners += 1\n",
    "\n",
    "    return corners"
   ]
  },
  {
   "cell_type": "code",
   "execution_count": 6,
   "metadata": {
    "execution": {
     "iopub.execute_input": "2024-12-13T06:14:17.951357Z",
     "iopub.status.busy": "2024-12-13T06:14:17.951357Z",
     "iopub.status.idle": "2024-12-13T06:14:18.042703Z",
     "shell.execute_reply": "2024-12-13T06:14:18.042703Z",
     "shell.execute_reply.started": "2024-12-13T06:14:17.951357Z"
    }
   },
   "outputs": [
    {
     "data": {
      "text/plain": [
       "863366"
      ]
     },
     "execution_count": 6,
     "metadata": {},
     "output_type": "execute_result"
    }
   ],
   "source": [
    "res = 0\n",
    "\n",
    "for plant, plots in plants.items():\n",
    "    for area, plot in plots:\n",
    "        corners = count_corners(plot)\n",
    "        res += area * corners\n",
    "\n",
    "res"
   ]
  }
 ],
 "metadata": {
  "kernelspec": {
   "display_name": "Python 3 (ipykernel)",
   "language": "python",
   "name": "python3"
  },
  "language_info": {
   "codemirror_mode": {
    "name": "ipython",
    "version": 3
   },
   "file_extension": ".py",
   "mimetype": "text/x-python",
   "name": "python",
   "nbconvert_exporter": "python",
   "pygments_lexer": "ipython3",
   "version": "3.11.4"
  }
 },
 "nbformat": 4,
 "nbformat_minor": 4
}
