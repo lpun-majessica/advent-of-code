{
 "cells": [
  {
   "cell_type": "markdown",
   "metadata": {},
   "source": [
    "[Advent of Code - Day 18](https://adventofcode.com/2024/day/18)"
   ]
  },
  {
   "cell_type": "markdown",
   "metadata": {},
   "source": [
    "# Import input"
   ]
  },
  {
   "cell_type": "code",
   "execution_count": 1,
   "metadata": {
    "execution": {
     "iopub.execute_input": "2024-12-18T09:58:22.362921Z",
     "iopub.status.busy": "2024-12-18T09:58:22.362921Z",
     "iopub.status.idle": "2024-12-18T09:58:23.758847Z",
     "shell.execute_reply": "2024-12-18T09:58:23.758847Z",
     "shell.execute_reply.started": "2024-12-18T09:58:22.362921Z"
    }
   },
   "outputs": [],
   "source": [
    "import sys\n",
    "\n",
    "sys.path.insert(0, \"../\")\n",
    "from utils import puzzle\n",
    "\n",
    "P = puzzle.Puzzle(year=2024, day=18)\n",
    "INPUT = P.load_input()"
   ]
  },
  {
   "cell_type": "code",
   "execution_count": 2,
   "metadata": {
    "execution": {
     "iopub.execute_input": "2024-12-18T09:58:23.758847Z",
     "iopub.status.busy": "2024-12-18T09:58:23.758847Z",
     "iopub.status.idle": "2024-12-18T09:58:23.778506Z",
     "shell.execute_reply": "2024-12-18T09:58:23.775814Z",
     "shell.execute_reply.started": "2024-12-18T09:58:23.758847Z"
    }
   },
   "outputs": [
    {
     "data": {
      "text/plain": [
       "['49,36', '51,2', '13,8', '66,49', '19,66']"
      ]
     },
     "execution_count": 2,
     "metadata": {},
     "output_type": "execute_result"
    }
   ],
   "source": [
    "INPUT[:5]"
   ]
  },
  {
   "cell_type": "markdown",
   "metadata": {},
   "source": [
    "# Solulu"
   ]
  },
  {
   "cell_type": "code",
   "execution_count": 3,
   "metadata": {
    "execution": {
     "iopub.execute_input": "2024-12-18T09:58:23.780698Z",
     "iopub.status.busy": "2024-12-18T09:58:23.780698Z",
     "iopub.status.idle": "2024-12-18T09:58:23.807315Z",
     "shell.execute_reply": "2024-12-18T09:58:23.807315Z",
     "shell.execute_reply.started": "2024-12-18T09:58:23.780698Z"
    }
   },
   "outputs": [],
   "source": [
    "BYTES = [tuple(map(int, line.split(\",\"))) for line in INPUT]\n",
    "DIRS = [(0, +1), (0, -1), (+1, 0), (-1, 0)]\n",
    "HEIGHT, WIDTH = 70 + 1, 70 + 1"
   ]
  },
  {
   "cell_type": "markdown",
   "metadata": {},
   "source": [
    "## Part 1"
   ]
  },
  {
   "cell_type": "code",
   "execution_count": 4,
   "metadata": {
    "execution": {
     "iopub.execute_input": "2024-12-18T09:58:23.813324Z",
     "iopub.status.busy": "2024-12-18T09:58:23.807315Z",
     "iopub.status.idle": "2024-12-18T09:58:23.882144Z",
     "shell.execute_reply": "2024-12-18T09:58:23.882144Z",
     "shell.execute_reply.started": "2024-12-18T09:58:23.813324Z"
    }
   },
   "outputs": [
    {
     "data": {
      "text/plain": [
       "312"
      ]
     },
     "execution_count": 4,
     "metadata": {},
     "output_type": "execute_result"
    }
   ],
   "source": [
    "kB = 1024\n",
    "START, END = (0, 0), (HEIGHT - 1, WIDTH - 1)\n",
    "queue = [(0, START)]\n",
    "corrupted = set(BYTES[:kB])\n",
    "seen = set()\n",
    "\n",
    "while queue:\n",
    "    steps, (row, col) = queue.pop(0)\n",
    "    if (row, col) == END:\n",
    "        break\n",
    "    elif (row, col) in corrupted or (row, col) in seen:\n",
    "        continue\n",
    "    seen.add((row, col))\n",
    "\n",
    "    for dr, dc in DIRS:\n",
    "        if row + dr not in range(HEIGHT) or col + dc not in range(WIDTH):\n",
    "            continue\n",
    "        queue.append((steps + 1, (row + dr, col + dc)))\n",
    "\n",
    "steps"
   ]
  },
  {
   "cell_type": "markdown",
   "metadata": {},
   "source": [
    "## Part 2"
   ]
  },
  {
   "cell_type": "code",
   "execution_count": 5,
   "metadata": {
    "execution": {
     "iopub.execute_input": "2024-12-18T09:58:23.882144Z",
     "iopub.status.busy": "2024-12-18T09:58:23.882144Z",
     "iopub.status.idle": "2024-12-18T09:58:24.108854Z",
     "shell.execute_reply": "2024-12-18T09:58:24.108074Z",
     "shell.execute_reply.started": "2024-12-18T09:58:23.882144Z"
    }
   },
   "outputs": [
    {
     "data": {
      "text/plain": [
       "'28,26'"
      ]
     },
     "execution_count": 5,
     "metadata": {},
     "output_type": "execute_result"
    }
   ],
   "source": [
    "for cutoff in range(len(BYTES), 0, -1):\n",
    "    exit = False\n",
    "    start, end = (0, 0), (HEIGHT - 1, WIDTH - 1)\n",
    "    queue = [(0, start)]\n",
    "    corrupted = set(BYTES[:cutoff])\n",
    "    seen = set()\n",
    "\n",
    "    while queue:\n",
    "        steps, (row, col) = queue.pop(0)\n",
    "        if (row, col) == end:\n",
    "            exit = True\n",
    "            break\n",
    "        elif (row, col) in corrupted or (row, col) in seen:\n",
    "            continue\n",
    "        seen.add((row, col))\n",
    "\n",
    "        for dr, dc in DIRS:\n",
    "            if row + dr not in range(HEIGHT) or col + dc not in range(WIDTH):\n",
    "                continue\n",
    "            queue.append((steps + 1, (row + dr, col + dc)))\n",
    "\n",
    "    if exit:\n",
    "        break\n",
    "\n",
    "\",\".join([str(num) for num in BYTES[cutoff]])"
   ]
  }
 ],
 "metadata": {
  "kernelspec": {
   "display_name": "Python 3 (ipykernel)",
   "language": "python",
   "name": "python3"
  },
  "language_info": {
   "codemirror_mode": {
    "name": "ipython",
    "version": 3
   },
   "file_extension": ".py",
   "mimetype": "text/x-python",
   "name": "python",
   "nbconvert_exporter": "python",
   "pygments_lexer": "ipython3",
   "version": "3.11.4"
  }
 },
 "nbformat": 4,
 "nbformat_minor": 4
}
