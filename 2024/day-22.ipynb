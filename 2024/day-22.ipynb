{
 "cells": [
  {
   "cell_type": "markdown",
   "metadata": {},
   "source": [
    "[Advent of Code - Day 22](https://adventofcode.com/2024/day/22)"
   ]
  },
  {
   "cell_type": "markdown",
   "metadata": {},
   "source": [
    "# Import input"
   ]
  },
  {
   "cell_type": "code",
   "execution_count": 1,
   "metadata": {
    "execution": {
     "iopub.execute_input": "2024-12-23T05:00:04.762319Z",
     "iopub.status.busy": "2024-12-23T05:00:04.746701Z",
     "iopub.status.idle": "2024-12-23T05:00:06.183142Z",
     "shell.execute_reply": "2024-12-23T05:00:06.183142Z",
     "shell.execute_reply.started": "2024-12-23T05:00:04.762319Z"
    }
   },
   "outputs": [],
   "source": [
    "import sys\n",
    "from collections import defaultdict\n",
    "\n",
    "sys.path.insert(0, \"../\")\n",
    "from utils import puzzle\n",
    "\n",
    "P = puzzle.Puzzle(year=\"2024\", day=\"22\")\n",
    "INPUT = P.load_input()"
   ]
  },
  {
   "cell_type": "code",
   "execution_count": 2,
   "metadata": {
    "execution": {
     "iopub.execute_input": "2024-12-23T05:00:06.183142Z",
     "iopub.status.busy": "2024-12-23T05:00:06.183142Z",
     "iopub.status.idle": "2024-12-23T05:00:06.200834Z",
     "shell.execute_reply": "2024-12-23T05:00:06.200834Z",
     "shell.execute_reply.started": "2024-12-23T05:00:06.183142Z"
    }
   },
   "outputs": [
    {
     "data": {
      "text/plain": [
       "['590111', '2975950', '7934555', '15754306', '2817533']"
      ]
     },
     "execution_count": 2,
     "metadata": {},
     "output_type": "execute_result"
    }
   ],
   "source": [
    "INPUT[:5]"
   ]
  },
  {
   "cell_type": "markdown",
   "metadata": {},
   "source": [
    "# Solulu"
   ]
  },
  {
   "cell_type": "code",
   "execution_count": 3,
   "metadata": {
    "execution": {
     "iopub.execute_input": "2024-12-23T05:00:06.200834Z",
     "iopub.status.busy": "2024-12-23T05:00:06.200834Z",
     "iopub.status.idle": "2024-12-23T05:00:06.209159Z",
     "shell.execute_reply": "2024-12-23T05:00:06.208654Z",
     "shell.execute_reply.started": "2024-12-23T05:00:06.200834Z"
    }
   },
   "outputs": [],
   "source": [
    "NUMS = list(map(int, INPUT))"
   ]
  },
  {
   "cell_type": "code",
   "execution_count": 4,
   "metadata": {
    "execution": {
     "iopub.execute_input": "2024-12-23T05:00:06.209159Z",
     "iopub.status.busy": "2024-12-23T05:00:06.209159Z",
     "iopub.status.idle": "2024-12-23T05:00:06.217039Z",
     "shell.execute_reply": "2024-12-23T05:00:06.217039Z",
     "shell.execute_reply.started": "2024-12-23T05:00:06.209159Z"
    },
    "scrolled": true
   },
   "outputs": [],
   "source": [
    "def evolve(num: int):\n",
    "    evolved = num * 64\n",
    "    evolved ^= num\n",
    "    evolved %= 16777216\n",
    "    num = evolved\n",
    "\n",
    "    evolved //= 32\n",
    "    evolved ^= num\n",
    "    evolved %= 16777216\n",
    "    num = evolved\n",
    "\n",
    "    evolved *= 2048\n",
    "    evolved ^= num\n",
    "    evolved %= 16777216\n",
    "    return evolved"
   ]
  },
  {
   "cell_type": "markdown",
   "metadata": {},
   "source": [
    "## Part 1"
   ]
  },
  {
   "cell_type": "code",
   "execution_count": 5,
   "metadata": {
    "execution": {
     "iopub.execute_input": "2024-12-23T05:00:06.217039Z",
     "iopub.status.busy": "2024-12-23T05:00:06.217039Z",
     "iopub.status.idle": "2024-12-23T05:00:09.034762Z",
     "shell.execute_reply": "2024-12-23T05:00:09.034762Z",
     "shell.execute_reply.started": "2024-12-23T05:00:06.217039Z"
    }
   },
   "outputs": [
    {
     "data": {
      "text/plain": [
       "15303617151"
      ]
     },
     "execution_count": 5,
     "metadata": {},
     "output_type": "execute_result"
    }
   ],
   "source": [
    "res = 0\n",
    "reruns = 2_000\n",
    "for num in NUMS:\n",
    "    for i in range(reruns):\n",
    "        niu = evolve(num)\n",
    "        num = niu\n",
    "    res += num\n",
    "\n",
    "res"
   ]
  },
  {
   "cell_type": "markdown",
   "metadata": {},
   "source": [
    "## Part 2"
   ]
  },
  {
   "cell_type": "code",
   "execution_count": 6,
   "metadata": {
    "execution": {
     "iopub.execute_input": "2024-12-23T05:00:09.034762Z",
     "iopub.status.busy": "2024-12-23T05:00:09.034762Z",
     "iopub.status.idle": "2024-12-23T05:00:30.073549Z",
     "shell.execute_reply": "2024-12-23T05:00:30.072463Z",
     "shell.execute_reply.started": "2024-12-23T05:00:09.034762Z"
    }
   },
   "outputs": [
    {
     "data": {
      "text/plain": [
       "1727"
      ]
     },
     "execution_count": 6,
     "metadata": {},
     "output_type": "execute_result"
    }
   ],
   "source": [
    "res = 0\n",
    "prices = defaultdict(dict)\n",
    "reruns = 2_000\n",
    "\n",
    "for n, num in enumerate(NUMS):\n",
    "    sequence = list()\n",
    "    for i in range(reruns):\n",
    "        niu = evolve(num)\n",
    "        num = niu\n",
    "        sequence.append(num % 10)\n",
    "\n",
    "        if len(sequence) == 5:\n",
    "            changes = tuple([s2 - s1 for s1, s2 in zip(sequence, sequence[1:])])\n",
    "            sequence = sequence[1:]\n",
    "            if n not in prices[changes]:\n",
    "                prices[changes][n] = sequence[-1]\n",
    "\n",
    "for bananas in prices.values():\n",
    "    res = max(res, sum(bananas.values()))\n",
    "\n",
    "res"
   ]
  }
 ],
 "metadata": {
  "kernelspec": {
   "display_name": "Python 3 (ipykernel)",
   "language": "python",
   "name": "python3"
  },
  "language_info": {
   "codemirror_mode": {
    "name": "ipython",
    "version": 3
   },
   "file_extension": ".py",
   "mimetype": "text/x-python",
   "name": "python",
   "nbconvert_exporter": "python",
   "pygments_lexer": "ipython3",
   "version": "3.11.4"
  }
 },
 "nbformat": 4,
 "nbformat_minor": 4
}
