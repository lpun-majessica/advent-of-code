{
 "cells": [
  {
   "cell_type": "markdown",
   "metadata": {},
   "source": [
    "[Advent of Code - Day 23](https://adventofcode.com/2024/day/23)"
   ]
  },
  {
   "cell_type": "markdown",
   "metadata": {},
   "source": [
    "# Import input"
   ]
  },
  {
   "cell_type": "code",
   "execution_count": 1,
   "metadata": {
    "execution": {
     "iopub.execute_input": "2024-12-23T05:59:34.049961Z",
     "iopub.status.busy": "2024-12-23T05:59:34.049961Z",
     "iopub.status.idle": "2024-12-23T05:59:34.564601Z",
     "shell.execute_reply": "2024-12-23T05:59:34.564601Z",
     "shell.execute_reply.started": "2024-12-23T05:59:34.049961Z"
    }
   },
   "outputs": [],
   "source": [
    "import sys\n",
    "from collections import defaultdict\n",
    "from itertools import combinations\n",
    "\n",
    "sys.path.insert(0, \"../\")\n",
    "from utils import puzzle"
   ]
  },
  {
   "cell_type": "code",
   "execution_count": 2,
   "metadata": {
    "execution": {
     "iopub.execute_input": "2024-12-23T05:59:34.569116Z",
     "iopub.status.busy": "2024-12-23T05:59:34.564601Z",
     "iopub.status.idle": "2024-12-23T05:59:35.492262Z",
     "shell.execute_reply": "2024-12-23T05:59:35.492262Z",
     "shell.execute_reply.started": "2024-12-23T05:59:34.569116Z"
    }
   },
   "outputs": [],
   "source": [
    "P = puzzle.Puzzle(year=\"2024\", day=\"23\")\n",
    "INPUT = P.load_input()"
   ]
  },
  {
   "cell_type": "code",
   "execution_count": 3,
   "metadata": {
    "execution": {
     "iopub.execute_input": "2024-12-23T05:59:35.495235Z",
     "iopub.status.busy": "2024-12-23T05:59:35.495235Z",
     "iopub.status.idle": "2024-12-23T05:59:35.508824Z",
     "shell.execute_reply": "2024-12-23T05:59:35.508824Z",
     "shell.execute_reply.started": "2024-12-23T05:59:35.495235Z"
    }
   },
   "outputs": [
    {
     "data": {
      "text/plain": [
       "['xu-xg', 'vj-rd', 'yx-gb', 'dl-db', 'lw-zw']"
      ]
     },
     "execution_count": 3,
     "metadata": {},
     "output_type": "execute_result"
    }
   ],
   "source": [
    "INPUT[:5]"
   ]
  },
  {
   "cell_type": "markdown",
   "metadata": {},
   "source": [
    "# Solulu"
   ]
  },
  {
   "cell_type": "code",
   "execution_count": 4,
   "metadata": {
    "execution": {
     "iopub.execute_input": "2024-12-23T05:59:35.515332Z",
     "iopub.status.busy": "2024-12-23T05:59:35.515332Z",
     "iopub.status.idle": "2024-12-23T05:59:35.551314Z",
     "shell.execute_reply": "2024-12-23T05:59:35.551314Z",
     "shell.execute_reply.started": "2024-12-23T05:59:35.515332Z"
    }
   },
   "outputs": [],
   "source": [
    "G = defaultdict(set)\n",
    "\n",
    "for line in INPUT:\n",
    "    n1, n2 = line.split(\"-\")\n",
    "    G[n1].add(n2)\n",
    "    G[n2].add(n1)"
   ]
  },
  {
   "cell_type": "markdown",
   "metadata": {},
   "source": [
    "## Part 1"
   ]
  },
  {
   "cell_type": "code",
   "execution_count": 5,
   "metadata": {
    "execution": {
     "iopub.execute_input": "2024-12-23T05:59:35.551314Z",
     "iopub.status.busy": "2024-12-23T05:59:35.551314Z",
     "iopub.status.idle": "2024-12-23T05:59:35.569593Z",
     "shell.execute_reply": "2024-12-23T05:59:35.569593Z",
     "shell.execute_reply.started": "2024-12-23T05:59:35.551314Z"
    }
   },
   "outputs": [
    {
     "data": {
      "text/plain": [
       "1238"
      ]
     },
     "execution_count": 5,
     "metadata": {},
     "output_type": "execute_result"
    }
   ],
   "source": [
    "res = set()\n",
    "seen = set()\n",
    "\n",
    "for node, neighbors in G.items():\n",
    "    if node.startswith(\"t\"):\n",
    "        for n1, n2 in combinations(neighbors, 2):\n",
    "            if n2 in G[n1] and n1 in G[n2]:\n",
    "                res.add(tuple(sorted([node, n1, n2])))\n",
    "\n",
    "len(res)"
   ]
  },
  {
   "cell_type": "markdown",
   "metadata": {},
   "source": [
    "## Part 2"
   ]
  },
  {
   "cell_type": "code",
   "execution_count": 6,
   "metadata": {
    "execution": {
     "iopub.execute_input": "2024-12-23T05:59:35.571977Z",
     "iopub.status.busy": "2024-12-23T05:59:35.571977Z",
     "iopub.status.idle": "2024-12-23T05:59:35.707752Z",
     "shell.execute_reply": "2024-12-23T05:59:35.707752Z",
     "shell.execute_reply.started": "2024-12-23T05:59:35.571977Z"
    }
   },
   "outputs": [
    {
     "data": {
      "text/plain": [
       "'bg,bl,ch,fn,fv,gd,jn,kk,lk,pv,rr,tb,vw'"
      ]
     },
     "execution_count": 6,
     "metadata": {},
     "output_type": "execute_result"
    }
   ],
   "source": [
    "lans = set()\n",
    "for node, neighbors in G.items():\n",
    "    for nei1 in neighbors:\n",
    "        connected = set([node, nei1])\n",
    "        for nei2 in neighbors:\n",
    "            if all([nei2 in G[comp] for comp in connected]):\n",
    "                connected.add(nei2)\n",
    "\n",
    "        lans.add(\",\".join(sorted(connected)))\n",
    "\n",
    "res = sorted(lans, key=len, reverse=True)[0]\n",
    "res"
   ]
  }
 ],
 "metadata": {
  "kernelspec": {
   "display_name": "Python 3 (ipykernel)",
   "language": "python",
   "name": "python3"
  },
  "language_info": {
   "codemirror_mode": {
    "name": "ipython",
    "version": 3
   },
   "file_extension": ".py",
   "mimetype": "text/x-python",
   "name": "python",
   "nbconvert_exporter": "python",
   "pygments_lexer": "ipython3",
   "version": "3.11.4"
  }
 },
 "nbformat": 4,
 "nbformat_minor": 4
}
