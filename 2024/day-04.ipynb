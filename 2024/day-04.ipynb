{
 "cells": [
  {
   "cell_type": "markdown",
   "metadata": {},
   "source": [
    "[Advent of Code - Day 04](https://adventofcode.com/2024/day/4)"
   ]
  },
  {
   "cell_type": "markdown",
   "metadata": {},
   "source": [
    "# Import input"
   ]
  },
  {
   "cell_type": "code",
   "execution_count": 1,
   "metadata": {
    "execution": {
     "iopub.execute_input": "2024-12-04T05:34:07.069270Z",
     "iopub.status.busy": "2024-12-04T05:34:07.069270Z",
     "iopub.status.idle": "2024-12-04T05:34:11.097447Z",
     "shell.execute_reply": "2024-12-04T05:34:11.097447Z",
     "shell.execute_reply.started": "2024-12-04T05:34:07.069270Z"
    }
   },
   "outputs": [],
   "source": [
    "import sys\n",
    "from itertools import product\n",
    "\n",
    "sys.path.insert(0, \"../\")\n",
    "from utils import puzzle\n",
    "\n",
    "P = puzzle.Puzzle(year=\"2024\", day=\"04\")\n",
"INPUT = P.load_input()"
   ]
  },
  {
   "cell_type": "code",
   "execution_count": 2,
   "metadata": {
    "execution": {
     "iopub.execute_input": "2024-12-04T05:34:11.097447Z",
     "iopub.status.busy": "2024-12-04T05:34:11.097447Z",
     "iopub.status.idle": "2024-12-04T05:34:11.118929Z",
     "shell.execute_reply": "2024-12-04T05:34:11.117112Z",
     "shell.execute_reply.started": "2024-12-04T05:34:11.097447Z"
    }
   },
   "outputs": [
    {
     "data": {
      "text/plain": [
       "['XMMXMASAMSAAAXSXMASAMSMXSAMXMMMMXMSSSSXMAMSAMXMSXMMASAMXMMMMAXMXMSMSMXSXMXSMXXSAXXMSXSMXXXSASXSMMSSSMMXMAMSMSSSMXMAXXXXSSXXXXMXSXAXMASMMSASM',\n",
       " 'SAMXXAMXMAMAMMMAXSAXMAAMSMSXSAXMAMAAASAMXMSASAMMAMXAAASAMAASAMXXSAAAMMSAMASMMAMASMMSAMXSXMSASAAXAXMAMMAMAMAAAAAAAXSMMMMMMMMMXMAMXMAXXMAXSAMX',\n",
       " 'MAAAMSSMSASASASXMXMXSMSMXAAAXAXSAMMSMXXMSXSMMAMSAMMMMAMASXMMXMMMSMSASASAMASASAMAMAAMAMASXAMAMXMMMXSAMSMSASMMMSMMMXAAXAAAAAAXAMASAMAASMSMMXMX',\n",
       " 'SMMXXAAAMAXASAMSAXXXAMXMMMMMMAMSASAXMXSSMMXASAMMXMASMMMMMMAMXMAMXXXMMMXAMMSAMMMSMMMMXMASMSMAMAXAXAMXMAAXXMXMAXAAMSSMMSSSSSMSMSASMMSXMAMMXSSX',\n",
       " 'XXMMSMMMMSMMMXMMMMXAMMAMXMASXSXSAMXSMAMAAXMMMASMASMSAAXSASAMAXSSSMXSASMSMXMMMMAMAAAAXMMXAXMAXXXSMASXSSSXSXXMAMMMMAMXAAMXAXAAXMASXAMAMMMSAAXX']"
      ]
     },
     "execution_count": 2,
     "metadata": {},
     "output_type": "execute_result"
    }
   ],
   "source": [
    "INPUT[:5]"
   ]
  },
  {
   "cell_type": "markdown",
   "metadata": {},
   "source": [
    "# Solulu"
   ]
  },
  {
   "cell_type": "code",
   "execution_count": 3,
   "metadata": {
    "execution": {
     "iopub.execute_input": "2024-12-04T05:34:11.120015Z",
     "iopub.status.busy": "2024-12-04T05:34:11.120015Z",
     "iopub.status.idle": "2024-12-04T05:34:11.143216Z",
     "shell.execute_reply": "2024-12-04T05:34:11.143216Z",
     "shell.execute_reply.started": "2024-12-04T05:34:11.120015Z"
    }
   },
   "outputs": [],
   "source": [
    "HEIGHT, WIDTH = len(INPUT), len(INPUT[0])\n",
    "X, M, A, S = XMAS = \"XMAS\""
   ]
  },
  {
   "cell_type": "markdown",
   "metadata": {},
   "source": [
    "## Part 1"
   ]
  },
  {
   "cell_type": "code",
   "execution_count": 4,
   "metadata": {
    "execution": {
     "iopub.execute_input": "2024-12-04T05:34:11.145061Z",
     "iopub.status.busy": "2024-12-04T05:34:11.145061Z",
     "iopub.status.idle": "2024-12-04T05:34:11.154995Z",
     "shell.execute_reply": "2024-12-04T05:34:11.154995Z",
     "shell.execute_reply.started": "2024-12-04T05:34:11.145061Z"
    }
   },
   "outputs": [],
   "source": [
    "directions = [\n",
    "    (-1, -1),\n",
    "    (-1, +0),\n",
    "    (-1, +1),\n",
    "    (+0, -1),\n",
    "    (+0, +1),\n",
    "    (+1, -1),\n",
    "    (+1, +0),\n",
    "    (+1, +1),\n",
    "]"
   ]
  },
  {
   "cell_type": "code",
   "execution_count": 5,
   "metadata": {
    "execution": {
     "iopub.execute_input": "2024-12-04T05:34:11.157487Z",
     "iopub.status.busy": "2024-12-04T05:34:11.157487Z",
     "iopub.status.idle": "2024-12-04T05:34:11.290411Z",
     "shell.execute_reply": "2024-12-04T05:34:11.290411Z",
     "shell.execute_reply.started": "2024-12-04T05:34:11.157487Z"
    }
   },
   "outputs": [
    {
     "data": {
      "text/plain": [
       "2654"
      ]
     },
     "execution_count": 5,
     "metadata": {},
     "output_type": "execute_result"
    }
   ],
   "source": [
    "xmas = 0\n",
    "\n",
    "for row, col in product(range(HEIGHT), range(WIDTH)):\n",
    "    if INPUT[row][col] != X:\n",
    "        continue\n",
    "\n",
    "    for drow, dcol in directions:\n",
    "        queue = [((row, col), X, (drow, dcol))]\n",
    "\n",
    "        while queue:\n",
    "            (r, c), char, (dr, dc) = queue.pop(0)\n",
    "            if char == S:\n",
    "                xmas += 1\n",
    "                continue\n",
    "\n",
    "            next_row, next_col = r + dr, c + dc\n",
    "\n",
    "            if next_row not in range(HEIGHT) or next_col not in range(WIDTH):\n",
    "                continue\n",
    "            next_char = INPUT[next_row][next_col]\n",
    "            if XMAS.index(next_char) - XMAS.index(char) == 1:\n",
    "                queue.append(((next_row, next_col), next_char, (dr, dc)))\n",
    "\n",
    "xmas"
   ]
  },
  {
   "cell_type": "markdown",
   "metadata": {},
   "source": [
    "## Part 2"
   ]
  },
  {
   "cell_type": "code",
   "execution_count": 6,
   "metadata": {
    "execution": {
     "iopub.execute_input": "2024-12-04T05:34:11.295640Z",
     "iopub.status.busy": "2024-12-04T05:34:11.295640Z",
     "iopub.status.idle": "2024-12-04T05:34:11.303889Z",
     "shell.execute_reply": "2024-12-04T05:34:11.303889Z",
     "shell.execute_reply.started": "2024-12-04T05:34:11.295640Z"
    }
   },
   "outputs": [],
   "source": [
    "directions = [\n",
    "    [(-1, -1), (+1, +1)],\n",
    "    [(-1, +1), (+1, -1)],\n",
    "]"
   ]
  },
  {
   "cell_type": "code",
   "execution_count": 7,
   "metadata": {
    "execution": {
     "iopub.execute_input": "2024-12-04T05:34:11.309223Z",
     "iopub.status.busy": "2024-12-04T05:34:11.303889Z",
     "iopub.status.idle": "2024-12-04T05:34:11.338968Z",
     "shell.execute_reply": "2024-12-04T05:34:11.338968Z",
     "shell.execute_reply.started": "2024-12-04T05:34:11.309223Z"
    }
   },
   "outputs": [
    {
     "data": {
      "text/plain": [
       "1990"
      ]
     },
     "execution_count": 7,
     "metadata": {},
     "output_type": "execute_result"
    }
   ],
   "source": [
    "xmas = 0\n",
    "\n",
    "for row, col in product(range(1, HEIGHT - 1), range(1, WIDTH - 1)):\n",
    "    if INPUT[row][col] != A:\n",
    "        continue\n",
    "\n",
    "    x = True\n",
    "    for d in directions:\n",
    "        diag = [INPUT[row + r][col + c] for r, c in d]\n",
    "        if set(diag) != set([M, S]):\n",
    "            x = False\n",
    "        \n",
    "    xmas += x\n",
    "\n",
    "xmas"
   ]
  }
 ],
 "metadata": {
  "kernelspec": {
   "display_name": "Python 3 (ipykernel)",
   "language": "python",
   "name": "python3"
  },
  "language_info": {
   "codemirror_mode": {
    "name": "ipython",
    "version": 3
   },
   "file_extension": ".py",
   "mimetype": "text/x-python",
   "name": "python",
   "nbconvert_exporter": "python",
   "pygments_lexer": "ipython3",
   "version": "3.11.4"
  }
 },
 "nbformat": 4,
 "nbformat_minor": 4
}
