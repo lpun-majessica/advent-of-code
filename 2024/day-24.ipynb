{
 "cells": [
  {
   "cell_type": "markdown",
   "metadata": {},
   "source": [
    "[Advent of Code - Day 24](https://adventofcode.com/2024/day/24)"
   ]
  },
  {
   "cell_type": "markdown",
   "metadata": {},
   "source": [
    "# Import input"
   ]
  },
  {
   "cell_type": "code",
   "execution_count": 1,
   "metadata": {
    "execution": {
     "iopub.execute_input": "2024-12-24T06:33:36.395900Z",
     "iopub.status.busy": "2024-12-24T06:33:36.394903Z",
     "iopub.status.idle": "2024-12-24T06:33:37.641219Z",
     "shell.execute_reply": "2024-12-24T06:33:37.640213Z",
     "shell.execute_reply.started": "2024-12-24T06:33:36.395900Z"
    }
   },
   "outputs": [],
   "source": [
    "import sys\n",
    "\n",
    "sys.path.insert(0, \"../\")\n",
    "from utils import puzzle\n",
    "\n",
    "P = puzzle.Puzzle(year=\"2024\", day=\"24\")\n",
    "INPUT = P.load_input()"
   ]
  },
  {
   "cell_type": "code",
   "execution_count": 2,
   "metadata": {
    "execution": {
     "iopub.execute_input": "2024-12-24T06:33:37.643214Z",
     "iopub.status.busy": "2024-12-24T06:33:37.642218Z",
     "iopub.status.idle": "2024-12-24T06:33:37.653782Z",
     "shell.execute_reply": "2024-12-24T06:33:37.652931Z",
     "shell.execute_reply.started": "2024-12-24T06:33:37.643214Z"
    }
   },
   "outputs": [
    {
     "data": {
      "text/plain": [
       "['x00: 1', 'x01: 1', 'x02: 0', 'x03: 0', 'x04: 0']"
      ]
     },
     "execution_count": 2,
     "metadata": {},
     "output_type": "execute_result"
    }
   ],
   "source": [
    "INPUT[:5]"
   ]
  },
  {
   "cell_type": "markdown",
   "metadata": {},
   "source": [
    "# Solulu"
   ]
  },
  {
   "cell_type": "code",
   "execution_count": 3,
   "metadata": {
    "execution": {
     "iopub.execute_input": "2024-12-24T06:33:37.656340Z",
     "iopub.status.busy": "2024-12-24T06:33:37.654824Z",
     "iopub.status.idle": "2024-12-24T06:33:37.673130Z",
     "shell.execute_reply": "2024-12-24T06:33:37.672270Z",
     "shell.execute_reply.started": "2024-12-24T06:33:37.656340Z"
    }
   },
   "outputs": [],
   "source": [
    "VALS = dict()\n",
    "for i, line in enumerate(INPUT):\n",
    "    if not line:\n",
    "        sep = i + 1\n",
    "        break\n",
    "    val, num = line.split(\": \")\n",
    "    VALS[val] = int(num)"
   ]
  },
  {
   "cell_type": "markdown",
   "metadata": {},
   "source": [
    "## Part 1"
   ]
  },
  {
   "cell_type": "code",
   "execution_count": 4,
   "metadata": {
    "execution": {
     "iopub.execute_input": "2024-12-24T06:33:37.676201Z",
     "iopub.status.busy": "2024-12-24T06:33:37.675129Z",
     "iopub.status.idle": "2024-12-24T06:33:37.695113Z",
     "shell.execute_reply": "2024-12-24T06:33:37.694235Z",
     "shell.execute_reply.started": "2024-12-24T06:33:37.676201Z"
    }
   },
   "outputs": [
    {
     "data": {
      "text/plain": [
       "51745744348272"
      ]
     },
     "execution_count": 4,
     "metadata": {},
     "output_type": "execute_result"
    }
   ],
   "source": [
    "res = \"\"\n",
    "done = {i: 0 for i in range(sep, len(INPUT))}\n",
    "\n",
    "while any(d == 0 for d in done.values()):\n",
    "    for i, line in enumerate(INPUT[sep:], start=sep):\n",
    "        if done[i]:\n",
    "            continue\n",
    "        words = line.split()\n",
    "        val1, op, val2, dest = words[0], words[1], words[2], words[-1]\n",
    "        try:\n",
    "            if op == \"OR\":\n",
    "                VALS[dest] = VALS[val1] or VALS[val2]\n",
    "            elif op == \"XOR\":\n",
    "                VALS[dest] = VALS[val1] ^ VALS[val2]\n",
    "            elif op == \"AND\":\n",
    "                VALS[dest] = VALS[val1] and VALS[val2]\n",
    "            done[i] = 1\n",
    "        except:\n",
    "            continue\n",
    "\n",
    "for i in range(int(max(VALS)[1:]), -1, -1):\n",
    "    val = f\"z{i:02d}\"\n",
    "    res += str(VALS[val])\n",
    "\n",
    "int(res, base=2)"
   ]
  },
  {
   "cell_type": "markdown",
   "metadata": {},
   "source": [
    "## Part 2"
   ]
  },
  {
   "cell_type": "code",
   "execution_count": 5,
   "metadata": {
    "execution": {
     "iopub.execute_input": "2024-12-24T06:33:37.695113Z",
     "iopub.status.busy": "2024-12-24T06:33:37.695113Z",
     "iopub.status.idle": "2024-12-24T06:33:37.732995Z",
     "shell.execute_reply": "2024-12-24T06:33:37.702315Z",
     "shell.execute_reply.started": "2024-12-24T06:33:37.695113Z"
    }
   },
   "outputs": [],
   "source": [
    "x, y = \"\", \"\"\n",
    "for i in range(int(max(VALS)[1:]), -1, -1):\n",
    "    valx = f\"x{i:02d}\"\n",
    "    if valx in VALS:\n",
    "        x += str(VALS[valx])\n",
    "\n",
    "    valy = f\"y{i:02d}\"\n",
    "    if valy in VALS:\n",
    "        y += str(VALS[valy])\n",
    "\n",
    "z = bin(int(x, base=2) + int(y, base=2))[2:]"
   ]
  },
  {
   "cell_type": "code",
   "execution_count": 6,
   "metadata": {
    "execution": {
     "iopub.execute_input": "2024-12-24T06:33:37.737091Z",
     "iopub.status.busy": "2024-12-24T06:33:37.737091Z",
     "iopub.status.idle": "2024-12-24T06:33:37.747715Z",
     "shell.execute_reply": "2024-12-24T06:33:37.747715Z",
     "shell.execute_reply.started": "2024-12-24T06:33:37.737091Z"
    }
   },
   "outputs": [
    {
     "name": "stdout",
     "output_type": "stream",
     "text": [
      "39 0 1\n",
      "36 0 1\n",
      "35 1 0\n",
      "34 1 0\n",
      "33 1 0\n",
      "32 1 0\n",
      "30 1 0\n",
      "29 1 0\n",
      "28 1 0\n",
      "27 1 0\n",
      "19 0 1\n",
      "18 1 0\n"
     ]
    }
   ],
   "source": [
    "for i, (p1, p2) in enumerate(zip(res, z)):\n",
    "    if p1 != p2:\n",
    "        print(int(max(VALS)[1:]) - i, p1, p2)"
   ]
  }
 ],
 "metadata": {
  "kernelspec": {
   "display_name": "Python 3 (ipykernel)",
   "language": "python",
   "name": "python3"
  },
  "language_info": {
   "codemirror_mode": {
    "name": "ipython",
    "version": 3
   },
   "file_extension": ".py",
   "mimetype": "text/x-python",
   "name": "python",
   "nbconvert_exporter": "python",
   "pygments_lexer": "ipython3",
   "version": "3.11.4"
  }
 },
 "nbformat": 4,
 "nbformat_minor": 4
}
