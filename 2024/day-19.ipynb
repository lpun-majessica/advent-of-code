{
 "cells": [
  {
   "cell_type": "markdown",
   "metadata": {},
   "source": [
    "[Advent of Code - Day 19](https://adventofcode.com/2024/day/19)"
   ]
  },
  {
   "cell_type": "markdown",
   "metadata": {},
   "source": [
    "# Import input"
   ]
  },
  {
   "cell_type": "code",
   "execution_count": 1,
   "metadata": {
    "execution": {
     "iopub.execute_input": "2024-12-19T05:38:53.820220Z",
     "iopub.status.busy": "2024-12-19T05:38:53.820220Z",
     "iopub.status.idle": "2024-12-19T05:38:55.117024Z",
     "shell.execute_reply": "2024-12-19T05:38:55.117024Z",
     "shell.execute_reply.started": "2024-12-19T05:38:53.820220Z"
    }
   },
   "outputs": [],
   "source": [
    "import sys\n",
    "\n",
    "sys.path.insert(0, \"../\")\n",
    "from utils import puzzle\n",
    "\n",
    "P = puzzle.Puzzle(year=\"2024\", day=\"19\")\n",
    "INPUT = P.load_input()"
   ]
  },
  {
   "cell_type": "markdown",
   "metadata": {},
   "source": [
    "# Solulu"
   ]
  },
  {
   "cell_type": "code",
   "execution_count": 2,
   "metadata": {
    "execution": {
     "iopub.execute_input": "2024-12-19T05:38:55.121576Z",
     "iopub.status.busy": "2024-12-19T05:38:55.117024Z",
     "iopub.status.idle": "2024-12-19T05:38:55.128378Z",
     "shell.execute_reply": "2024-12-19T05:38:55.127372Z",
     "shell.execute_reply.started": "2024-12-19T05:38:55.121576Z"
    }
   },
   "outputs": [],
   "source": [
    "PATTERNS = set(INPUT[0].split(', '))\n",
    "TOWELS = INPUT[2:]"
   ]
  },
  {
   "cell_type": "markdown",
   "metadata": {},
   "source": [
    "## Part 1"
   ]
  },
  {
   "cell_type": "code",
   "execution_count": 3,
   "metadata": {
    "execution": {
     "iopub.execute_input": "2024-12-19T05:38:55.129643Z",
     "iopub.status.busy": "2024-12-19T05:38:55.129643Z",
     "iopub.status.idle": "2024-12-19T05:38:55.402131Z",
     "shell.execute_reply": "2024-12-19T05:38:55.402131Z",
     "shell.execute_reply.started": "2024-12-19T05:38:55.129643Z"
    }
   },
   "outputs": [
    {
     "data": {
      "text/plain": [
       "338"
      ]
     },
     "execution_count": 3,
     "metadata": {},
     "output_type": "execute_result"
    }
   ],
   "source": [
    "res = 0\n",
    "\n",
    "for towel in TOWELS:\n",
    "    n = len(towel)\n",
    "    DP = [0 for _ in range(n)]\n",
    "    \n",
    "    for i in range(n):\n",
    "        for j in range(i+1):\n",
    "            color = towel[j:i+1]\n",
    "            if color in PATTERNS and (j==0 or DP[j-1]== 1):\n",
    "                DP[i] = 1\n",
    "    \n",
    "    res += DP[-1]\n",
    "res"
   ]
  },
  {
   "cell_type": "markdown",
   "metadata": {},
   "source": [
    "## Part 2"
   ]
  },
  {
   "cell_type": "code",
   "execution_count": 4,
   "metadata": {
    "execution": {
     "iopub.execute_input": "2024-12-19T05:38:55.405413Z",
     "iopub.status.busy": "2024-12-19T05:38:55.402131Z",
     "iopub.status.idle": "2024-12-19T05:38:55.699776Z",
     "shell.execute_reply": "2024-12-19T05:38:55.699776Z",
     "shell.execute_reply.started": "2024-12-19T05:38:55.405413Z"
    }
   },
   "outputs": [
    {
     "data": {
      "text/plain": [
       "841533074412361"
      ]
     },
     "execution_count": 4,
     "metadata": {},
     "output_type": "execute_result"
    }
   ],
   "source": [
    "res = 0\n",
    "\n",
    "for towel in TOWELS:\n",
    "    n = len(towel)\n",
    "    DP = [0 for _ in range(n)]\n",
    "    \n",
    "    for i in range(n):\n",
    "        for j in range(i+1):\n",
    "            color = towel[j:i+1]\n",
    "            if color in PATTERNS: \n",
    "                if j==0:\n",
    "                    DP[i] += 1\n",
    "                elif DP[j-1] > 0:\n",
    "                    DP[i] += DP[j-1] \n",
    "    res += DP[-1]\n",
    "res"
   ]
  }
 ],
 "metadata": {
  "kernelspec": {
   "display_name": "Python 3 (ipykernel)",
   "language": "python",
   "name": "python3"
  },
  "language_info": {
   "codemirror_mode": {
    "name": "ipython",
    "version": 3
   },
   "file_extension": ".py",
   "mimetype": "text/x-python",
   "name": "python",
   "nbconvert_exporter": "python",
   "pygments_lexer": "ipython3",
   "version": "3.11.4"
  }
 },
 "nbformat": 4,
 "nbformat_minor": 4
}
