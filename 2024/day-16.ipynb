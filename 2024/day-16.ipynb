{
 "cells": [
  {
   "cell_type": "markdown",
   "metadata": {},
   "source": [
    "[Advent of Code - Day 16](https://adventofcode.com/2024/day/16)"
   ]
  },
  {
   "cell_type": "markdown",
   "metadata": {},
   "source": [
    "# Import input"
   ]
  },
  {
   "cell_type": "code",
   "execution_count": 1,
   "metadata": {
    "execution": {
     "iopub.execute_input": "2024-12-16T07:12:08.535983Z",
     "iopub.status.busy": "2024-12-16T07:12:08.535983Z",
     "iopub.status.idle": "2024-12-16T07:12:09.933738Z",
     "shell.execute_reply": "2024-12-16T07:12:09.933738Z",
     "shell.execute_reply.started": "2024-12-16T07:12:08.535983Z"
    }
   },
   "outputs": [],
   "source": [
    "import sys\n",
    "from heapq import heappush, heappop\n",
    "from itertools import product\n",
    "\n",
    "sys.path.insert(0, \"../\")\n",
    "from utils import puzzle\n",
    "\n",
    "P = puzzle.Puzzle(year=\"2024\", day=\"16\")\n",
"INPUT = P.load_input()"
   ]
  },
  {
   "cell_type": "code",
   "execution_count": 2,
   "metadata": {
    "execution": {
     "iopub.execute_input": "2024-12-16T07:12:09.938212Z",
     "iopub.status.busy": "2024-12-16T07:12:09.938212Z",
     "iopub.status.idle": "2024-12-16T07:12:09.950992Z",
     "shell.execute_reply": "2024-12-16T07:12:09.949750Z",
     "shell.execute_reply.started": "2024-12-16T07:12:09.938212Z"
    }
   },
   "outputs": [
    {
     "data": {
      "text/plain": [
       "['#############################################################################################################################################',\n",
       " '#.......................#.....#...........#.......#...........#...#.....#.......#...#.........#.......#.#.................#...........#....E#',\n",
       " '#.#.#.#.#.#.#.###.#.###.#.#.###.#####.###.#####.###.###.#.#.#.#.#.#.#.#.#####.#.#.###.#.#####.#.#####.#.#.#######.#.#####.#.###.#######.#.#.#',\n",
       " '#.#.#.#.#.#.#...#.#.#.....#.#.......#...#.......#...#.#.........#.#.#.#.......#.#.....#...#.#.#.#...#.#.#.......#...#...#.#...#.........#.#.#',\n",
       " '#.#.#.#.#.#.###.#.#.#####.#.#.#######.#.#####.###.#.#.#.#.###.#.###.#.#######.#.#########.#.#.#.#.###.#.#####.#.###.###.#.#.#######.#####.#.#']"
      ]
     },
     "execution_count": 2,
     "metadata": {},
     "output_type": "execute_result"
    }
   ],
   "source": [
    "INPUT[:5]"
   ]
  },
  {
   "cell_type": "markdown",
   "metadata": {},
   "source": [
    "# Solulu"
   ]
  },
  {
   "cell_type": "code",
   "execution_count": 3,
   "metadata": {
    "execution": {
     "iopub.execute_input": "2024-12-16T07:12:09.951997Z",
     "iopub.status.busy": "2024-12-16T07:12:09.951997Z",
     "iopub.status.idle": "2024-12-16T07:12:09.969522Z",
     "shell.execute_reply": "2024-12-16T07:12:09.969522Z",
     "shell.execute_reply.started": "2024-12-16T07:12:09.951997Z"
    }
   },
   "outputs": [],
   "source": [
    "START, END = None, None\n",
    "HEIGHT, WIDTH = len(INPUT), len(INPUT[0])\n",
    "NEWS = [(0, +1), (0, -1), (+1, 0), (-1, 0)]\n",
    "\n",
    "for row, col in product(range(HEIGHT), range(WIDTH)):\n",
    "    if INPUT[row][col] == \"S\":\n",
    "        START = (row, col)\n",
    "    elif INPUT[row][col] == \"E\":\n",
    "        END = (row, col)"
   ]
  },
  {
   "cell_type": "markdown",
   "metadata": {},
   "source": [
    "## Part 1"
   ]
  },
  {
   "cell_type": "code",
   "execution_count": 4,
   "metadata": {
    "execution": {
     "iopub.execute_input": "2024-12-16T07:12:09.969522Z",
     "iopub.status.busy": "2024-12-16T07:12:09.969522Z",
     "iopub.status.idle": "2024-12-16T07:12:10.028370Z",
     "shell.execute_reply": "2024-12-16T07:12:10.028370Z",
     "shell.execute_reply.started": "2024-12-16T07:12:09.969522Z"
    }
   },
   "outputs": [
    {
     "data": {
      "text/plain": [
       "107468"
      ]
     },
     "execution_count": 4,
     "metadata": {},
     "output_type": "execute_result"
    }
   ],
   "source": [
    "queue = [(0, START, NEWS[0])]\n",
    "seen = set()\n",
    "\n",
    "while queue:\n",
    "    points, (row, col), (dr, dc) = heappop(queue)\n",
    "    if (row, col) == END:\n",
    "        break\n",
    "    elif (row, col, dr, dc) in seen:\n",
    "        continue\n",
    "    seen.add((row, col, dr, dc))\n",
    "\n",
    "    for r, c in NEWS:\n",
    "        nr, nc = row + r, col + c\n",
    "        if INPUT[nr][nc] == \"#\":\n",
    "            continue\n",
    "        if (r, c) == (dr, dc):\n",
    "            heappush(queue, (points + 1, (nr, nc), (r, c)))\n",
    "        elif r == dr or c == dc:\n",
    "            continue\n",
    "        else:\n",
    "            heappush(queue, (points + 1001, (nr, nc), (r, c)))\n",
    "\n",
    "points"
   ]
  },
  {
   "cell_type": "markdown",
   "metadata": {},
   "source": [
    "## Part 2"
   ]
  },
  {
   "cell_type": "code",
   "execution_count": 5,
   "metadata": {
    "execution": {
     "iopub.execute_input": "2024-12-16T07:12:10.030165Z",
     "iopub.status.busy": "2024-12-16T07:12:10.030165Z",
     "iopub.status.idle": "2024-12-16T07:12:13.530859Z",
     "shell.execute_reply": "2024-12-16T07:12:13.530409Z",
     "shell.execute_reply.started": "2024-12-16T07:12:10.030165Z"
    }
   },
   "outputs": [
    {
     "data": {
      "text/plain": [
       "533"
      ]
     },
     "execution_count": 5,
     "metadata": {},
     "output_type": "execute_result"
    }
   ],
   "source": [
    "queue = [(0, START, NEWS[0], set())]\n",
    "seen = dict()\n",
    "best = None\n",
    "seats = set()\n",
    "paths = 0\n",
    "\n",
    "while queue:\n",
    "    points, (row, col), (dr, dc), path = heappop(queue)\n",
    "    if (row, col) == END:\n",
    "        if not best:\n",
    "            best = points\n",
    "        elif points > best:\n",
    "            seats.add(END)\n",
    "            break\n",
    "        paths += 1\n",
    "        seats |= path\n",
    "        continue\n",
    "    elif (row, col, dr, dc) in seen and seen[(row, col, dr, dc)] < points:\n",
    "        continue\n",
    "    elif (row, col, dr, dc) not in seen:\n",
    "        seen[(row, col, dr, dc)] = points\n",
    "\n",
    "    for r, c in NEWS:\n",
    "        nr, nc = row + r, col + c\n",
    "        if INPUT[nr][nc] == \"#\":\n",
    "            continue\n",
    "        new_path = path | {(row, col)}\n",
    "        if (r, c) == (dr, dc):\n",
    "            heappush(queue, (points + 1, (nr, nc), (r, c), new_path))\n",
    "        elif r == dr or c == dc:\n",
    "            continue\n",
    "        else:\n",
    "            heappush(queue, (points + 1001, (nr, nc), (r, c), new_path))\n",
    "\n",
    "len(seats)"
   ]
  }
 ],
 "metadata": {
  "kernelspec": {
   "display_name": "Python 3 (ipykernel)",
   "language": "python",
   "name": "python3"
  },
  "language_info": {
   "codemirror_mode": {
    "name": "ipython",
    "version": 3
   },
   "file_extension": ".py",
   "mimetype": "text/x-python",
   "name": "python",
   "nbconvert_exporter": "python",
   "pygments_lexer": "ipython3",
   "version": "3.11.4"
  }
 },
 "nbformat": 4,
 "nbformat_minor": 4
}
