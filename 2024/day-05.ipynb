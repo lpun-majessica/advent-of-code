{
 "cells": [
  {
   "cell_type": "markdown",
   "metadata": {},
   "source": [
    "[Advent of Code - Day 05](https://adventofcode.com/2024/day/5)"
   ]
  },
  {
   "cell_type": "markdown",
   "metadata": {},
   "source": [
    "# Import input"
   ]
  },
  {
   "cell_type": "code",
   "execution_count": 1,
   "metadata": {
    "execution": {
     "iopub.execute_input": "2024-12-05T05:45:10.508646Z",
     "iopub.status.busy": "2024-12-05T05:45:10.508646Z",
     "iopub.status.idle": "2024-12-05T05:45:11.680171Z",
     "shell.execute_reply": "2024-12-05T05:45:11.679114Z",
     "shell.execute_reply.started": "2024-12-05T05:45:10.508646Z"
    }
   },
   "outputs": [],
   "source": [
    "import sys\n",
    "from collections import defaultdict\n",
    "\n",
    "sys.path.insert(0, \"../\")\n",
    "from utils import aoc_input as inp\n",
    "\n",
    "INPUT = inp.download_input(year=\"2024\", day=\"05\")"
   ]
  },
  {
   "cell_type": "code",
   "execution_count": 2,
   "metadata": {
    "execution": {
     "iopub.execute_input": "2024-12-05T05:45:11.683510Z",
     "iopub.status.busy": "2024-12-05T05:45:11.682381Z",
     "iopub.status.idle": "2024-12-05T05:45:11.694052Z",
     "shell.execute_reply": "2024-12-05T05:45:11.694052Z",
     "shell.execute_reply.started": "2024-12-05T05:45:11.683510Z"
    }
   },
   "outputs": [
    {
     "data": {
      "text/plain": [
       "['96|15', '69|95', '69|66', '41|61', '41|26']"
      ]
     },
     "execution_count": 2,
     "metadata": {},
     "output_type": "execute_result"
    }
   ],
   "source": [
    "INPUT[:5]"
   ]
  },
  {
   "cell_type": "markdown",
   "metadata": {},
   "source": [
    "# Solulu"
   ]
  },
  {
   "cell_type": "code",
   "execution_count": 3,
   "metadata": {
    "execution": {
     "iopub.execute_input": "2024-12-05T05:45:11.694052Z",
     "iopub.status.busy": "2024-12-05T05:45:11.694052Z",
     "iopub.status.idle": "2024-12-05T05:45:11.709581Z",
     "shell.execute_reply": "2024-12-05T05:45:11.709581Z",
     "shell.execute_reply.started": "2024-12-05T05:45:11.694052Z"
    }
   },
   "outputs": [],
   "source": [
    "sep = INPUT.index(\"\")\n",
    "ORDERS = INPUT[:sep]\n",
    "UPDATES = INPUT[sep + 1 :]\n",
    "\n",
    "orders = defaultdict(set)\n",
    "\n",
    "for order in ORDERS:\n",
    "    b4, aft = map(int, order.split(\"|\"))\n",
    "    orders[aft].add(b4)"
   ]
  },
  {
   "cell_type": "markdown",
   "metadata": {},
   "source": [
    "## Part 1"
   ]
  },
  {
   "cell_type": "code",
   "execution_count": 4,
   "metadata": {
    "execution": {
     "iopub.execute_input": "2024-12-05T05:45:11.709581Z",
     "iopub.status.busy": "2024-12-05T05:45:11.709581Z",
     "iopub.status.idle": "2024-12-05T05:45:11.721374Z",
     "shell.execute_reply": "2024-12-05T05:45:11.721374Z",
     "shell.execute_reply.started": "2024-12-05T05:45:11.709581Z"
    }
   },
   "outputs": [
    {
     "data": {
      "text/plain": [
       "4569"
      ]
     },
     "execution_count": 4,
     "metadata": {},
     "output_type": "execute_result"
    }
   ],
   "source": [
    "res = 0\n",
    "\n",
    "for update in UPDATES:\n",
    "    pages = list(map(int, update.split(\",\")))\n",
    "    broke_rules = False\n",
    "\n",
    "    for i, page in enumerate(pages):\n",
    "        misorder = set(pages[:i]) - orders[page]\n",
    "        if misorder:\n",
    "            broke_rules = True\n",
    "            break\n",
    "\n",
    "    if not broke_rules:\n",
    "        res += pages[len(pages) // 2]\n",
    "\n",
    "res"
   ]
  },
  {
   "cell_type": "markdown",
   "metadata": {},
   "source": [
    "## Part 2"
   ]
  },
  {
   "cell_type": "code",
   "execution_count": 5,
   "metadata": {
    "execution": {
     "iopub.execute_input": "2024-12-05T05:45:11.723599Z",
     "iopub.status.busy": "2024-12-05T05:45:11.723038Z",
     "iopub.status.idle": "2024-12-05T05:45:11.736925Z",
     "shell.execute_reply": "2024-12-05T05:45:11.736925Z",
     "shell.execute_reply.started": "2024-12-05T05:45:11.723599Z"
    }
   },
   "outputs": [
    {
     "data": {
      "text/plain": [
       "6456"
      ]
     },
     "execution_count": 5,
     "metadata": {},
     "output_type": "execute_result"
    }
   ],
   "source": [
    "res = 0\n",
    "\n",
    "for update in UPDATES:\n",
    "    pages = list(map(int, update.split(\",\")))\n",
    "    broke_rules = False\n",
    "\n",
    "    for i, page in enumerate(pages):\n",
    "        misorder = set(pages[:i]) - orders[page]\n",
    "        if misorder:\n",
    "            n = len(misorder)\n",
    "            broke_rules = True\n",
    "            pages = pages[: i - n] + [page] + pages[i - n : i] + pages[i + 1 :]\n",
    "\n",
    "    if broke_rules:\n",
    "        res += pages[len(pages) // 2]\n",
    "\n",
    "res"
   ]
  }
 ],
 "metadata": {
  "kernelspec": {
   "display_name": "Python 3 (ipykernel)",
   "language": "python",
   "name": "python3"
  },
  "language_info": {
   "codemirror_mode": {
    "name": "ipython",
    "version": 3
   },
   "file_extension": ".py",
   "mimetype": "text/x-python",
   "name": "python",
   "nbconvert_exporter": "python",
   "pygments_lexer": "ipython3",
   "version": "3.11.4"
  }
 },
 "nbformat": 4,
 "nbformat_minor": 4
}
