{
 "cells": [
  {
   "cell_type": "markdown",
   "metadata": {},
   "source": [
    "[Advent of Code - Day 11](https://adventofcode.com/2024/day/11)"
   ]
  },
  {
   "cell_type": "markdown",
   "metadata": {},
   "source": [
    "# Import input"
   ]
  },
  {
   "cell_type": "code",
   "execution_count": 1,
   "metadata": {
    "execution": {
     "iopub.execute_input": "2024-12-11T05:21:36.346698Z",
     "iopub.status.busy": "2024-12-11T05:21:36.346698Z",
     "iopub.status.idle": "2024-12-11T05:21:37.637689Z",
     "shell.execute_reply": "2024-12-11T05:21:37.637689Z",
     "shell.execute_reply.started": "2024-12-11T05:21:36.346698Z"
    }
   },
   "outputs": [],
   "source": [
    "import sys\n",
    "from collections import defaultdict\n",
    "\n",
    "sys.path.insert(0, \"../\")\n",
    "from utils import aoc_input as inp\n",
    "\n",
    "INPUT = inp.download_input(year=\"2024\", day=\"11\")[0]"
   ]
  },
  {
   "cell_type": "code",
   "execution_count": 2,
   "metadata": {
    "execution": {
     "iopub.execute_input": "2024-12-11T05:21:37.637689Z",
     "iopub.status.busy": "2024-12-11T05:21:37.637689Z",
     "iopub.status.idle": "2024-12-11T05:21:37.658761Z",
     "shell.execute_reply": "2024-12-11T05:21:37.656714Z",
     "shell.execute_reply.started": "2024-12-11T05:21:37.637689Z"
    }
   },
   "outputs": [
    {
     "data": {
      "text/plain": [
       "'4189 '"
      ]
     },
     "execution_count": 2,
     "metadata": {},
     "output_type": "execute_result"
    }
   ],
   "source": [
    "INPUT[:5]"
   ]
  },
  {
   "cell_type": "markdown",
   "metadata": {},
   "source": [
    "# Solulu"
   ]
  },
  {
   "cell_type": "code",
   "execution_count": 3,
   "metadata": {
    "execution": {
     "iopub.execute_input": "2024-12-11T05:21:37.661306Z",
     "iopub.status.busy": "2024-12-11T05:21:37.658761Z",
     "iopub.status.idle": "2024-12-11T05:21:37.670757Z",
     "shell.execute_reply": "2024-12-11T05:21:37.670757Z",
     "shell.execute_reply.started": "2024-12-11T05:21:37.661306Z"
    }
   },
   "outputs": [],
   "source": [
    "STONES = [int(num) for num in INPUT.split()]"
   ]
  },
  {
   "cell_type": "code",
   "execution_count": 4,
   "metadata": {
    "execution": {
     "iopub.execute_input": "2024-12-11T05:21:37.670757Z",
     "iopub.status.busy": "2024-12-11T05:21:37.670757Z",
     "iopub.status.idle": "2024-12-11T05:21:37.688540Z",
     "shell.execute_reply": "2024-12-11T05:21:37.688540Z",
     "shell.execute_reply.started": "2024-12-11T05:21:37.670757Z"
    }
   },
   "outputs": [],
   "source": [
    "def solve(blinks: int) -> int:\n",
    "    global STONES\n",
    "    stones = {stone: 1 for stone in STONES}\n",
    "\n",
    "    for _ in range(blinks):\n",
    "        new_stones = defaultdict(int)\n",
    "        for stone, count in stones.items():\n",
    "            if stone == 0:\n",
    "                new_stones[1] += count\n",
    "            elif len(str(stone)) % 2 == 0:\n",
    "                sstone = str(stone)\n",
    "                n = len(sstone) // 2\n",
    "                left, right = int(sstone[:n]), int(sstone[n:])\n",
    "                new_stones[left] += count\n",
    "                new_stones[right] += count\n",
    "            else:\n",
    "                new_stones[stone * 2024] += count\n",
    "\n",
    "        stones = new_stones\n",
    "\n",
    "    return sum(stones.values())"
   ]
  },
  {
   "cell_type": "markdown",
   "metadata": {},
   "source": [
    "## Part 1"
   ]
  },
  {
   "cell_type": "code",
   "execution_count": 5,
   "metadata": {
    "execution": {
     "iopub.execute_input": "2024-12-11T05:21:37.693060Z",
     "iopub.status.busy": "2024-12-11T05:21:37.693060Z",
     "iopub.status.idle": "2024-12-11T05:21:37.710943Z",
     "shell.execute_reply": "2024-12-11T05:21:37.710943Z",
     "shell.execute_reply.started": "2024-12-11T05:21:37.693060Z"
    }
   },
   "outputs": [
    {
     "data": {
      "text/plain": [
       "186203"
      ]
     },
     "execution_count": 5,
     "metadata": {},
     "output_type": "execute_result"
    }
   ],
   "source": [
    "solve(blinks=25)"
   ]
  },
  {
   "cell_type": "markdown",
   "metadata": {},
   "source": [
    "## Part 2"
   ]
  },
  {
   "cell_type": "code",
   "execution_count": 6,
   "metadata": {
    "execution": {
     "iopub.execute_input": "2024-12-11T05:21:37.715549Z",
     "iopub.status.busy": "2024-12-11T05:21:37.715549Z",
     "iopub.status.idle": "2024-12-11T05:21:37.918195Z",
     "shell.execute_reply": "2024-12-11T05:21:37.918195Z",
     "shell.execute_reply.started": "2024-12-11T05:21:37.715549Z"
    }
   },
   "outputs": [
    {
     "data": {
      "text/plain": [
       "221291560078593"
      ]
     },
     "execution_count": 6,
     "metadata": {},
     "output_type": "execute_result"
    }
   ],
   "source": [
    "solve(blinks=75)"
   ]
  }
 ],
 "metadata": {
  "kernelspec": {
   "display_name": "Python 3 (ipykernel)",
   "language": "python",
   "name": "python3"
  },
  "language_info": {
   "codemirror_mode": {
    "name": "ipython",
    "version": 3
   },
   "file_extension": ".py",
   "mimetype": "text/x-python",
   "name": "python",
   "nbconvert_exporter": "python",
   "pygments_lexer": "ipython3",
   "version": "3.11.4"
  }
 },
 "nbformat": 4,
 "nbformat_minor": 4
}
