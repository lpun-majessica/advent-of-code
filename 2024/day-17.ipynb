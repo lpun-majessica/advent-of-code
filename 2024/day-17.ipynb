{
 "cells": [
  {
   "cell_type": "markdown",
   "metadata": {},
   "source": [
    "[Advent of Code - Day 17](https://adventofcode.com/2024/day/17)"
   ]
  },
  {
   "cell_type": "markdown",
   "metadata": {},
   "source": [
    "# Import input"
   ]
  },
  {
   "cell_type": "code",
   "execution_count": 1,
   "metadata": {
    "execution": {
     "iopub.execute_input": "2024-12-18T04:56:55.402066Z",
     "iopub.status.busy": "2024-12-18T04:56:55.402066Z",
     "iopub.status.idle": "2024-12-18T04:56:56.753374Z",
     "shell.execute_reply": "2024-12-18T04:56:56.751864Z",
     "shell.execute_reply.started": "2024-12-18T04:56:55.402066Z"
    }
   },
   "outputs": [],
   "source": [
    "import sys\n",
    "\n",
    "sys.path.insert(0, \"../\")\n",
    "from utils import aoc_input as inp\n",
    "\n",
    "INPUT = inp.download_input(year=\"2024\", day=\"17\")"
   ]
  },
  {
   "cell_type": "code",
   "execution_count": 2,
   "metadata": {
    "execution": {
     "iopub.execute_input": "2024-12-18T04:56:56.755836Z",
     "iopub.status.busy": "2024-12-18T04:56:56.755836Z",
     "iopub.status.idle": "2024-12-18T04:56:56.770836Z",
     "shell.execute_reply": "2024-12-18T04:56:56.769142Z",
     "shell.execute_reply.started": "2024-12-18T04:56:56.755836Z"
    }
   },
   "outputs": [
    {
     "data": {
      "text/plain": [
       "['Register A: 21539243',\n",
       " 'Register B: 0',\n",
       " 'Register C: 0',\n",
       " '',\n",
       " 'Program: 2,4,1,3,7,5,1,5,0,3,4,1,5,5,3,0']"
      ]
     },
     "execution_count": 2,
     "metadata": {},
     "output_type": "execute_result"
    }
   ],
   "source": [
    "INPUT[:5]"
   ]
  },
  {
   "cell_type": "markdown",
   "metadata": {},
   "source": [
    "# Solulu"
   ]
  },
  {
   "cell_type": "code",
   "execution_count": 3,
   "metadata": {
    "execution": {
     "iopub.execute_input": "2024-12-18T04:56:56.773136Z",
     "iopub.status.busy": "2024-12-18T04:56:56.772127Z",
     "iopub.status.idle": "2024-12-18T04:56:56.791028Z",
     "shell.execute_reply": "2024-12-18T04:56:56.791028Z",
     "shell.execute_reply.started": "2024-12-18T04:56:56.773136Z"
    }
   },
   "outputs": [],
   "source": [
    "A, B, C = \"ABC\"\n",
    "PROGRAM = [int(num) for num in INPUT[-1][9:].split(\",\")]\n",
    "REGISTER = dict()\n",
    "\n",
    "for line in INPUT[:3]:\n",
    "    words = line.split()\n",
    "    REGISTER[words[1][:-1]] = int(words[-1])"
   ]
  },
  {
   "cell_type": "markdown",
   "metadata": {},
   "source": [
    "## Part 1"
   ]
  },
  {
   "cell_type": "code",
   "execution_count": 4,
   "metadata": {
    "execution": {
     "iopub.execute_input": "2024-12-18T04:56:56.799137Z",
     "iopub.status.busy": "2024-12-18T04:56:56.791028Z",
     "iopub.status.idle": "2024-12-18T04:56:56.815825Z",
     "shell.execute_reply": "2024-12-18T04:56:56.815825Z",
     "shell.execute_reply.started": "2024-12-18T04:56:56.799137Z"
    }
   },
   "outputs": [
    {
     "name": "stdout",
     "output_type": "stream",
     "text": [
      "6,7,5,2,1,3,5,1,7\n"
     ]
    }
   ],
   "source": [
    "pointer = 0\n",
    "register = REGISTER.copy()\n",
    "n = len(PROGRAM)\n",
    "res = list()\n",
    "\n",
    "while pointer < n:\n",
    "    instr = PROGRAM[pointer]\n",
    "\n",
    "    if instr == 3 and register[A] != 0:\n",
    "        pointer = PROGRAM[pointer + 1]\n",
    "        continue\n",
    "    elif instr == 1:\n",
    "        num = PROGRAM[pointer + 1]\n",
    "        register[B] ^= num\n",
    "    elif instr == 4:\n",
    "        register[B] ^= register[C]\n",
    "    elif instr in (0, 2, 5, 6, 7):\n",
    "        combo = PROGRAM[pointer + 1]\n",
    "        if combo in range(3 + 1):\n",
    "            num = combo\n",
    "        elif combo == 4:\n",
    "            num = register[A]\n",
    "        elif combo == 5:\n",
    "            num = register[B]\n",
    "        elif combo == 6:\n",
    "            num = register[C]\n",
    "        assert combo < 7\n",
    "\n",
    "        if instr == 0:\n",
    "            register[A] = register[A] // 2**num\n",
    "        elif instr == 2:\n",
    "            register[B] = num % 8\n",
    "        elif instr == 5:\n",
    "            res.append(num % 8)\n",
    "        elif instr == 6:\n",
    "            register[B] = register[A] // 2**num\n",
    "        elif instr == 7:\n",
    "            register[C] = register[A] // 2**num\n",
    "\n",
    "    pointer += 2\n",
    "\n",
    "print(\",\".join([str(num) for num in res]))"
   ]
  },
  {
   "cell_type": "markdown",
   "metadata": {},
   "source": [
    "## Part 2"
   ]
  },
  {
   "cell_type": "code",
   "execution_count": 5,
   "metadata": {
    "execution": {
     "iopub.execute_input": "2024-12-18T04:56:56.818911Z",
     "iopub.status.busy": "2024-12-18T04:56:56.818911Z",
     "iopub.status.idle": "2024-12-18T04:57:00.234159Z",
     "shell.execute_reply": "2024-12-18T04:57:00.233117Z",
     "shell.execute_reply.started": "2024-12-18T04:56:56.818911Z"
    }
   },
   "outputs": [
    {
     "ename": "KeyboardInterrupt",
     "evalue": "",
     "output_type": "error",
     "traceback": [
      "\u001b[1;31m---------------------------------------------------------------------------\u001b[0m",
      "\u001b[1;31mKeyboardInterrupt\u001b[0m                         Traceback (most recent call last)",
      "Cell \u001b[1;32mIn[5], line 23\u001b[0m\n\u001b[0;32m     21\u001b[0m \u001b[38;5;28;01melif\u001b[39;00m instr \u001b[38;5;129;01min\u001b[39;00m (\u001b[38;5;241m0\u001b[39m, \u001b[38;5;241m2\u001b[39m, \u001b[38;5;241m5\u001b[39m, \u001b[38;5;241m6\u001b[39m, \u001b[38;5;241m7\u001b[39m):\n\u001b[0;32m     22\u001b[0m     combo \u001b[38;5;241m=\u001b[39m PROGRAM[pointer \u001b[38;5;241m+\u001b[39m \u001b[38;5;241m1\u001b[39m]\n\u001b[1;32m---> 23\u001b[0m     \u001b[38;5;28;01mif\u001b[39;00m combo \u001b[38;5;129;01min\u001b[39;00m \u001b[38;5;28mrange\u001b[39m(\u001b[38;5;241m3\u001b[39m \u001b[38;5;241m+\u001b[39m \u001b[38;5;241m1\u001b[39m):\n\u001b[0;32m     24\u001b[0m         num \u001b[38;5;241m=\u001b[39m combo\n\u001b[0;32m     25\u001b[0m     \u001b[38;5;28;01melif\u001b[39;00m combo \u001b[38;5;241m==\u001b[39m \u001b[38;5;241m4\u001b[39m:\n",
      "\u001b[1;31mKeyboardInterrupt\u001b[0m: "
     ]
    }
   ],
   "source": [
    "n = len(PROGRAM)\n",
    "\n",
    "for a in range(8**n + 1, 8 ** (n + 1)):\n",
    "    pointer = 0\n",
    "    register = REGISTER.copy()\n",
    "    register[A] = a\n",
    "    res = list()\n",
    "    valid = True\n",
    "\n",
    "    while pointer < n:\n",
    "        instr = PROGRAM[pointer]\n",
    "\n",
    "        if instr == 3 and register[A] != 0:\n",
    "            pointer = PROGRAM[pointer + 1]\n",
    "            continue\n",
    "        elif instr == 1:\n",
    "            num = PROGRAM[pointer + 1]\n",
    "            register[B] ^= num\n",
    "        elif instr == 4:\n",
    "            register[B] ^= register[C]\n",
    "        elif instr in (0, 2, 5, 6, 7):\n",
    "            combo = PROGRAM[pointer + 1]\n",
    "            if combo in range(3 + 1):\n",
    "                num = combo\n",
    "            elif combo == 4:\n",
    "                num = register[A]\n",
    "            elif combo == 5:\n",
    "                num = register[B]\n",
    "            elif combo == 6:\n",
    "                num = register[C]\n",
    "            assert combo < 7\n",
    "\n",
    "            if instr == 0:\n",
    "                register[A] = register[A] // 2**num\n",
    "            elif instr == 2:\n",
    "                register[B] = num % 8\n",
    "            elif instr == 5:\n",
    "                res.append(num % 8)\n",
    "                lenres = len(res)\n",
    "                if res != PROGRAM[:lenres]:\n",
    "                    valid = False\n",
    "                    break\n",
    "            elif instr == 6:\n",
    "                register[B] = register[A] // 2**num\n",
    "            elif instr == 7:\n",
    "                register[C] = register[A] // 2**num\n",
    "\n",
    "        pointer += 2\n",
    "\n",
    "    if valid:\n",
    "        break\n",
    "\n",
    "a"
   ]
  }
 ],
 "metadata": {
  "kernelspec": {
   "display_name": "Python 3 (ipykernel)",
   "language": "python",
   "name": "python3"
  },
  "language_info": {
   "codemirror_mode": {
    "name": "ipython",
    "version": 3
   },
   "file_extension": ".py",
   "mimetype": "text/x-python",
   "name": "python",
   "nbconvert_exporter": "python",
   "pygments_lexer": "ipython3",
   "version": "3.11.4"
  }
 },
 "nbformat": 4,
 "nbformat_minor": 4
}
