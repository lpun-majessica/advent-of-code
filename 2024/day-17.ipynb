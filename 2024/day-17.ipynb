{
 "cells": [
  {
   "cell_type": "markdown",
   "metadata": {},
   "source": [
    "[Advent of Code - Day 17](https://adventofcode.com/2024/day/17)"
   ]
  },
  {
   "cell_type": "markdown",
   "metadata": {},
   "source": [
    "# Import input"
   ]
  },
  {
   "cell_type": "code",
   "execution_count": 1,
   "metadata": {
    "execution": {
     "iopub.execute_input": "2024-12-27T06:13:24.996152Z",
     "iopub.status.busy": "2024-12-27T06:13:24.996152Z",
     "iopub.status.idle": "2024-12-27T06:13:26.541375Z",
     "shell.execute_reply": "2024-12-27T06:13:26.541375Z",
     "shell.execute_reply.started": "2024-12-27T06:13:24.996152Z"
    }
   },
   "outputs": [],
   "source": [
    "import sys\n",
    "\n",
    "sys.path.insert(0, \"../\")\n",
    "from utils import puzzle\n",
    "\n",
    "P = puzzle.Puzzle(year=\"2024\", day=\"17\")\n",
    "INPUT = P.load_input()"
   ]
  },
  {
   "cell_type": "code",
   "execution_count": 2,
   "metadata": {
    "execution": {
     "iopub.execute_input": "2024-12-27T06:13:26.544459Z",
     "iopub.status.busy": "2024-12-27T06:13:26.544459Z",
     "iopub.status.idle": "2024-12-27T06:13:26.568566Z",
     "shell.execute_reply": "2024-12-27T06:13:26.568566Z",
     "shell.execute_reply.started": "2024-12-27T06:13:26.544459Z"
    }
   },
   "outputs": [
    {
     "data": {
      "text/plain": [
       "['Register A: 21539243',\n",
       " 'Register B: 0',\n",
       " 'Register C: 0',\n",
       " '',\n",
       " 'Program: 2,4,1,3,7,5,1,5,0,3,4,1,5,5,3,0']"
      ]
     },
     "execution_count": 2,
     "metadata": {},
     "output_type": "execute_result"
    }
   ],
   "source": [
    "INPUT[:5]"
   ]
  },
  {
   "cell_type": "markdown",
   "metadata": {},
   "source": [
    "# Solulu"
   ]
  },
  {
   "cell_type": "code",
   "execution_count": 3,
   "metadata": {
    "execution": {
     "iopub.execute_input": "2024-12-27T06:13:26.571608Z",
     "iopub.status.busy": "2024-12-27T06:13:26.571608Z",
     "iopub.status.idle": "2024-12-27T06:13:26.601664Z",
     "shell.execute_reply": "2024-12-27T06:13:26.601664Z",
     "shell.execute_reply.started": "2024-12-27T06:13:26.571608Z"
    }
   },
   "outputs": [],
   "source": [
    "A, B, C = map(int, [line.split()[-1] for line in INPUT[:3]])\n",
    "PROGRAM = [int(num) for num in INPUT[-1][9:].split(\",\")]"
   ]
  },
  {
   "cell_type": "markdown",
   "metadata": {},
   "source": [
    "## Part 1"
   ]
  },
  {
   "cell_type": "code",
   "execution_count": 4,
   "metadata": {
    "execution": {
     "iopub.execute_input": "2024-12-27T06:13:26.601664Z",
     "iopub.status.busy": "2024-12-27T06:13:26.601664Z",
     "iopub.status.idle": "2024-12-27T06:13:26.640581Z",
     "shell.execute_reply": "2024-12-27T06:13:26.640581Z",
     "shell.execute_reply.started": "2024-12-27T06:13:26.601664Z"
    }
   },
   "outputs": [
    {
     "name": "stdout",
     "output_type": "stream",
     "text": [
      "6,7,5,2,1,3,5,1,7\n"
     ]
    }
   ],
   "source": [
    "pointer = 0\n",
    "n = len(PROGRAM)\n",
    "res = list()\n",
    "\n",
    "\n",
    "def combo(operand):\n",
    "    if 0 <= operand <= 3:\n",
    "        return operand\n",
    "    if operand == 4:\n",
    "        return A\n",
    "    if operand == 5:\n",
    "        return B\n",
    "    if operand == 6:\n",
    "        return C\n",
    "    assert operand < 7\n",
    "\n",
    "\n",
    "while pointer < n:\n",
    "    instr = PROGRAM[pointer]\n",
    "    operand = PROGRAM[pointer + 1]\n",
    "\n",
    "    if instr == 0:\n",
    "        A = A >> combo(operand)\n",
    "    elif instr == 1:\n",
    "        B ^= operand\n",
    "    elif instr == 2:\n",
    "        B = combo(operand) % 8\n",
    "    elif instr == 3 and A != 0:\n",
    "        pointer = operand\n",
    "        continue\n",
    "    elif instr == 4:\n",
    "        B ^= C\n",
    "    elif instr == 5:\n",
    "        res.append(combo(operand) % 8)\n",
    "    elif instr == 6:\n",
    "        B = A >> combo(operand)\n",
    "    elif instr == 7:\n",
    "        C = A >> combo(operand)\n",
    "\n",
    "    pointer += 2\n",
    "\n",
    "print(\",\".join([str(num) for num in res]))"
   ]
  },
  {
   "cell_type": "markdown",
   "metadata": {},
   "source": [
    "## Part 2\n",
    "\n",
    "Cre: [HyperNeutrino](https://youtu.be/y-UPxMAh2N8?si=1loj5B6HAwR_th9V)"
   ]
  },
  {
   "cell_type": "code",
   "execution_count": 5,
   "metadata": {
    "execution": {
     "iopub.execute_input": "2024-12-27T06:13:26.640581Z",
     "iopub.status.busy": "2024-12-27T06:13:26.640581Z",
     "iopub.status.idle": "2024-12-27T06:13:26.667225Z",
     "shell.execute_reply": "2024-12-27T06:13:26.667225Z",
     "shell.execute_reply.started": "2024-12-27T06:13:26.640581Z"
    }
   },
   "outputs": [],
   "source": [
    "def solve(program, start):\n",
    "    if not program:\n",
    "        return start\n",
    "\n",
    "    for t in range(8):\n",
    "        a = (start << 3) + t\n",
    "        b = 0\n",
    "        c = 0\n",
    "        output = None\n",
    "\n",
    "        def combo(operand):\n",
    "            if 0 <= operand <= 3:\n",
    "                return operand\n",
    "            if operand == 4:\n",
    "                return a\n",
    "            if operand == 5:\n",
    "                return b\n",
    "            if operand == 6:\n",
    "                return c\n",
    "            assert operand < 7\n",
    "\n",
    "        for pointer in range(0, len(PROGRAM) - 2, 2):\n",
    "            instr = PROGRAM[pointer]\n",
    "            operand = PROGRAM[pointer + 1]\n",
    "\n",
    "            if instr == 0:\n",
    "                continue\n",
    "            elif instr == 1:\n",
    "                b ^= operand\n",
    "            elif instr == 2:\n",
    "                b = combo(operand) % 8\n",
    "            elif instr == 4:\n",
    "                b ^= c\n",
    "            elif instr == 5:\n",
    "                output = combo(operand) % 8\n",
    "            elif instr == 6:\n",
    "                b = a >> combo(operand)\n",
    "            elif instr == 7:\n",
    "                c = a >> combo(operand)\n",
    "\n",
    "            if output == program[-1]:\n",
    "                nxt = solve(program[:-1], a)\n",
    "                if nxt is None:\n",
    "                    continue\n",
    "                return nxt"
   ]
  },
  {
   "cell_type": "code",
   "execution_count": 6,
   "metadata": {
    "execution": {
     "iopub.execute_input": "2024-12-27T06:13:26.667225Z",
     "iopub.status.busy": "2024-12-27T06:13:26.667225Z",
     "iopub.status.idle": "2024-12-27T06:13:26.687466Z",
     "shell.execute_reply": "2024-12-27T06:13:26.687466Z",
     "shell.execute_reply.started": "2024-12-27T06:13:26.667225Z"
    }
   },
   "outputs": [
    {
     "data": {
      "text/plain": [
       "216549846240877"
      ]
     },
     "execution_count": 6,
     "metadata": {},
     "output_type": "execute_result"
    }
   ],
   "source": [
    "solve(PROGRAM, 0)"
   ]
  }
 ],
 "metadata": {
  "kernelspec": {
   "display_name": "Python 3 (ipykernel)",
   "language": "python",
   "name": "python3"
  },
  "language_info": {
   "codemirror_mode": {
    "name": "ipython",
    "version": 3
   },
   "file_extension": ".py",
   "mimetype": "text/x-python",
   "name": "python",
   "nbconvert_exporter": "python",
   "pygments_lexer": "ipython3",
   "version": "3.11.4"
  }
 },
 "nbformat": 4,
 "nbformat_minor": 4
}
