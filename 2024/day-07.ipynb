{
 "cells": [
  {
   "cell_type": "markdown",
   "metadata": {},
   "source": [
    "[Advent of Code - Day 07](https://adventofcode.com/2024/day/7)"
   ]
  },
  {
   "cell_type": "markdown",
   "metadata": {},
   "source": [
    "# Import input"
   ]
  },
  {
   "cell_type": "code",
   "execution_count": 1,
   "metadata": {
    "execution": {
     "iopub.execute_input": "2024-12-07T06:14:56.468858Z",
     "iopub.status.busy": "2024-12-07T06:14:56.468858Z",
     "iopub.status.idle": "2024-12-07T06:14:57.888976Z",
     "shell.execute_reply": "2024-12-07T06:14:57.887454Z",
     "shell.execute_reply.started": "2024-12-07T06:14:56.468858Z"
    }
   },
   "outputs": [],
   "source": [
    "import sys\n",
    "\n",
    "sys.path.insert(0, \"../\")\n",
    "from utils import puzzle\n",
    "\n",
    "P = puzzle.Puzzle(year=\"2024\", day=\"07\")\n",
"INPUT = P.load_input()"
   ]
  },
  {
   "cell_type": "code",
   "execution_count": 2,
   "metadata": {
    "execution": {
     "iopub.execute_input": "2024-12-07T06:14:57.892021Z",
     "iopub.status.busy": "2024-12-07T06:14:57.891002Z",
     "iopub.status.idle": "2024-12-07T06:14:57.908878Z",
     "shell.execute_reply": "2024-12-07T06:14:57.907842Z",
     "shell.execute_reply.started": "2024-12-07T06:14:57.892021Z"
    }
   },
   "outputs": [
    {
     "data": {
      "text/plain": [
       "['503516274925: 9 314 8 83 6 45 997 25',\n",
       " '999: 45 25 5 645 4',\n",
       " '15456974992821: 22 96 792 149 491 23',\n",
       " '139006: 6 238 288 81 1 9',\n",
       " '755796: 1 82 53 8 311 7 3 49 6 4']"
      ]
     },
     "execution_count": 2,
     "metadata": {},
     "output_type": "execute_result"
    }
   ],
   "source": [
    "INPUT[:5]"
   ]
  },
  {
   "cell_type": "markdown",
   "metadata": {},
   "source": [
    "# Solulu"
   ]
  },
  {
   "cell_type": "markdown",
   "metadata": {},
   "source": [
    "## Part 1"
   ]
  },
  {
   "cell_type": "code",
   "execution_count": 3,
   "metadata": {
    "execution": {
     "iopub.execute_input": "2024-12-07T06:14:57.911910Z",
     "iopub.status.busy": "2024-12-07T06:14:57.910903Z",
     "iopub.status.idle": "2024-12-07T06:14:58.261657Z",
     "shell.execute_reply": "2024-12-07T06:14:58.260442Z",
     "shell.execute_reply.started": "2024-12-07T06:14:57.911910Z"
    }
   },
   "outputs": [
    {
     "data": {
      "text/plain": [
       "7579994664753"
      ]
     },
     "execution_count": 3,
     "metadata": {},
     "output_type": "execute_result"
    }
   ],
   "source": [
    "total = 0\n",
    "for line in INPUT:\n",
    "    res, nums = line.split(\": \")\n",
    "    res = int(res)\n",
    "    nums = [int(num) for num in nums.split()]\n",
    "    n = len(nums)\n",
    "\n",
    "    start = 0\n",
    "    queue = [(start, nums[start])]\n",
    "\n",
    "    while queue:\n",
    "        i, val = queue.pop()\n",
    "        if i < n - 1:\n",
    "            next_num = nums[i + 1]\n",
    "            queue.append((i + 1, val + next_num))\n",
    "            queue.append((i + 1, val * next_num))\n",
    "        else:\n",
    "            if val == res:\n",
    "                total += res\n",
    "                break\n",
    "\n",
    "total"
   ]
  },
  {
   "cell_type": "markdown",
   "metadata": {},
   "source": [
    "## Part 2"
   ]
  },
  {
   "cell_type": "code",
   "execution_count": 4,
   "metadata": {
    "execution": {
     "iopub.execute_input": "2024-12-07T06:14:58.263777Z",
     "iopub.status.busy": "2024-12-07T06:14:58.262734Z",
     "iopub.status.idle": "2024-12-07T06:15:23.382190Z",
     "shell.execute_reply": "2024-12-07T06:15:23.380080Z",
     "shell.execute_reply.started": "2024-12-07T06:14:58.263777Z"
    }
   },
   "outputs": [
    {
     "data": {
      "text/plain": [
       "438027111276610"
      ]
     },
     "execution_count": 4,
     "metadata": {},
     "output_type": "execute_result"
    }
   ],
   "source": [
    "total = 0\n",
    "for line in INPUT:\n",
    "    res, nums = line.split(\": \")\n",
    "    res = int(res)\n",
    "    nums = [int(num) for num in nums.split()]\n",
    "    n = len(nums)\n",
    "\n",
    "    start = 0\n",
    "    queue = [(start, nums[start])]\n",
    "\n",
    "    while queue:\n",
    "        i, val = queue.pop()\n",
    "        if i < n - 1:\n",
    "            next_num = nums[i + 1]\n",
    "            queue.append((i + 1, val + next_num))\n",
    "            queue.append((i + 1, val * next_num))\n",
    "            queue.append((i + 1, int(f\"{val}{next_num}\")))\n",
    "        else:\n",
    "            if val == res:\n",
    "                total += res\n",
    "                break\n",
    "\n",
    "total"
   ]
  }
 ],
 "metadata": {
  "kernelspec": {
   "display_name": "Python 3 (ipykernel)",
   "language": "python",
   "name": "python3"
  },
  "language_info": {
   "codemirror_mode": {
    "name": "ipython",
    "version": 3
   },
   "file_extension": ".py",
   "mimetype": "text/x-python",
   "name": "python",
   "nbconvert_exporter": "python",
   "pygments_lexer": "ipython3",
   "version": "3.11.4"
  }
 },
 "nbformat": 4,
 "nbformat_minor": 4
}
