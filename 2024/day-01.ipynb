{
 "cells": [
  {
   "cell_type": "markdown",
   "metadata": {},
   "source": [
    "[Advent of Code - Day 01](https://adventofcode.com/2024/day/1)"
   ]
  },
  {
   "cell_type": "markdown",
   "metadata": {},
   "source": [
    "# Import input"
   ]
  },
  {
   "cell_type": "code",
   "execution_count": 1,
   "metadata": {
    "execution": {
     "iopub.execute_input": "2024-12-01T05:04:52.705649Z",
     "iopub.status.busy": "2024-12-01T05:04:52.705649Z",
     "iopub.status.idle": "2024-12-01T05:04:53.998253Z",
     "shell.execute_reply": "2024-12-01T05:04:53.998253Z",
     "shell.execute_reply.started": "2024-12-01T05:04:52.705649Z"
    }
   },
   "outputs": [],
   "source": [
    "import sys\n",
    "\n",
    "sys.path.insert(0, \"../\")\n",
    "from utils import aoc_input as inp\n",
    "\n",
    "INPUT = inp.download_input(year=\"2024\", day=\"01\")"
   ]
  },
  {
   "cell_type": "code",
   "execution_count": 2,
   "metadata": {
    "execution": {
     "iopub.execute_input": "2024-12-01T05:04:53.998253Z",
     "iopub.status.busy": "2024-12-01T05:04:53.998253Z",
     "iopub.status.idle": "2024-12-01T05:04:54.021840Z",
     "shell.execute_reply": "2024-12-01T05:04:54.019829Z",
     "shell.execute_reply.started": "2024-12-01T05:04:53.998253Z"
    }
   },
   "outputs": [
    {
     "data": {
      "text/plain": [
       "['99006   28305',\n",
       " '38540   91683',\n",
       " '18133   49738',\n",
       " '70780   13081',\n",
       " '38316   55879']"
      ]
     },
     "execution_count": 2,
     "metadata": {},
     "output_type": "execute_result"
    }
   ],
   "source": [
    "INPUT[:5]"
   ]
  },
  {
   "cell_type": "markdown",
   "metadata": {},
   "source": [
    "# Solulu"
   ]
  },
  {
   "cell_type": "code",
   "execution_count": 3,
   "metadata": {
    "execution": {
     "iopub.execute_input": "2024-12-01T05:04:54.022757Z",
     "iopub.status.busy": "2024-12-01T05:04:54.022757Z",
     "iopub.status.idle": "2024-12-01T05:04:54.038044Z",
     "shell.execute_reply": "2024-12-01T05:04:54.038044Z",
     "shell.execute_reply.started": "2024-12-01T05:04:54.022757Z"
    }
   },
   "outputs": [],
   "source": [
    "left, right = list(), list()\n",
    "\n",
    "for line in INPUT:\n",
    "    l, r = map(int, line.split())\n",
    "    left.append(l)\n",
    "    right.append(r)\n",
    "\n",
    "left.sort()\n",
    "right.sort()"
   ]
  },
  {
   "cell_type": "markdown",
   "metadata": {},
   "source": [
    "## Part 1"
   ]
  },
  {
   "cell_type": "code",
   "execution_count": 4,
   "metadata": {
    "execution": {
     "iopub.execute_input": "2024-12-01T05:04:54.042787Z",
     "iopub.status.busy": "2024-12-01T05:04:54.042787Z",
     "iopub.status.idle": "2024-12-01T05:04:54.058194Z",
     "shell.execute_reply": "2024-12-01T05:04:54.058194Z",
     "shell.execute_reply.started": "2024-12-01T05:04:54.042787Z"
    }
   },
   "outputs": [
    {
     "data": {
      "text/plain": [
       "3508942"
      ]
     },
     "execution_count": 4,
     "metadata": {},
     "output_type": "execute_result"
    }
   ],
   "source": [
    "res = 0\n",
    "\n",
    "for l, r in zip(left, right):\n",
    "    res += abs(l - r)\n",
    "\n",
    "res"
   ]
  },
  {
   "cell_type": "markdown",
   "metadata": {},
   "source": [
    "## Part 2"
   ]
  },
  {
   "cell_type": "code",
   "execution_count": 5,
   "metadata": {
    "execution": {
     "iopub.execute_input": "2024-12-01T05:04:54.062021Z",
     "iopub.status.busy": "2024-12-01T05:04:54.062021Z",
     "iopub.status.idle": "2024-12-01T05:04:54.095550Z",
     "shell.execute_reply": "2024-12-01T05:04:54.095550Z",
     "shell.execute_reply.started": "2024-12-01T05:04:54.062021Z"
    }
   },
   "outputs": [
    {
     "data": {
      "text/plain": [
       "26593248"
      ]
     },
     "execution_count": 5,
     "metadata": {},
     "output_type": "execute_result"
    }
   ],
   "source": [
    "res = 0\n",
    "\n",
    "for l in left:\n",
    "    res += l * right.count(l)\n",
    "\n",
    "res"
   ]
  }
 ],
 "metadata": {
  "kernelspec": {
   "display_name": "Python 3 (ipykernel)",
   "language": "python",
   "name": "python3"
  },
  "language_info": {
   "codemirror_mode": {
    "name": "ipython",
    "version": 3
   },
   "file_extension": ".py",
   "mimetype": "text/x-python",
   "name": "python",
   "nbconvert_exporter": "python",
   "pygments_lexer": "ipython3",
   "version": "3.11.4"
  }
 },
 "nbformat": 4,
 "nbformat_minor": 4
}
