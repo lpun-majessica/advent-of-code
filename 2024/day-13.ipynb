{
 "cells": [
  {
   "cell_type": "markdown",
   "metadata": {},
   "source": [
    "[Advent of Code - Day 13](https://adventofcode.com/2024/day/13)"
   ]
  },
  {
   "cell_type": "markdown",
   "metadata": {},
   "source": [
    "# Import input"
   ]
  },
  {
   "cell_type": "code",
   "execution_count": 1,
   "metadata": {
    "execution": {
     "iopub.execute_input": "2024-12-13T05:40:13.912772Z",
     "iopub.status.busy": "2024-12-13T05:40:13.912772Z",
     "iopub.status.idle": "2024-12-13T05:40:16.097381Z",
     "shell.execute_reply": "2024-12-13T05:40:16.097381Z",
     "shell.execute_reply.started": "2024-12-13T05:40:13.912772Z"
    }
   },
   "outputs": [],
   "source": [
    "import sys\n",
    "from itertools import product\n",
    "from sympy import solve\n",
    "from sympy.abc import a, b\n",
    "\n",
    "sys.path.insert(0, \"../\")\n",
    "from utils import puzzle\n",
    "\n",
    "P = puzzle.Puzzle(year=\"2024\", day=\"13\")\n",
"INPUT = P.load_input()"
   ]
  },
  {
   "cell_type": "code",
   "execution_count": 2,
   "metadata": {
    "execution": {
     "iopub.execute_input": "2024-12-13T05:40:16.097381Z",
     "iopub.status.busy": "2024-12-13T05:40:16.097381Z",
     "iopub.status.idle": "2024-12-13T05:40:16.174361Z",
     "shell.execute_reply": "2024-12-13T05:40:16.174361Z",
     "shell.execute_reply.started": "2024-12-13T05:40:16.097381Z"
    }
   },
   "outputs": [
    {
     "data": {
      "text/plain": [
       "['Button A: X+23, Y+57',\n",
       " 'Button B: X+58, Y+28',\n",
       " 'Prize: X=11852, Y=17598',\n",
       " '',\n",
       " 'Button A: X+41, Y+97']"
      ]
     },
     "execution_count": 2,
     "metadata": {},
     "output_type": "execute_result"
    }
   ],
   "source": [
    "INPUT[:5]"
   ]
  },
  {
   "cell_type": "markdown",
   "metadata": {},
   "source": [
    "# Solulu"
   ]
  },
  {
   "cell_type": "code",
   "execution_count": 3,
   "metadata": {
    "execution": {
     "iopub.execute_input": "2024-12-13T05:40:16.174361Z",
     "iopub.status.busy": "2024-12-13T05:40:16.174361Z",
     "iopub.status.idle": "2024-12-13T05:40:16.233549Z",
     "shell.execute_reply": "2024-12-13T05:40:16.233549Z",
     "shell.execute_reply.started": "2024-12-13T05:40:16.174361Z"
    }
   },
   "outputs": [],
   "source": [
    "PRIZE = \"Prize\"\n",
    "machines = dict()\n",
    "i = 0\n",
    "INPUT.append(\"\")\n",
    "\n",
    "for line in INPUT:\n",
    "    if not line:\n",
    "        machines[i] = [A, B, target]\n",
    "        i += 1\n",
    "\n",
    "    words = line.split()\n",
    "    if line.startswith(PRIZE):\n",
    "        target = int(words[-2][2:-1]), int(words[-1][2:])\n",
    "    elif \"A\" in line:\n",
    "        A = (int(words[-2][1:-1]), int(words[-1][1:]))\n",
    "    elif \"B\" in line:\n",
    "        B = (int(words[-2][1:-1]), int(words[-1][1:]))"
   ]
  },
  {
   "cell_type": "markdown",
   "metadata": {},
   "source": [
    "## Part 1"
   ]
  },
  {
   "cell_type": "code",
   "execution_count": 4,
   "metadata": {
    "execution": {
     "iopub.execute_input": "2024-12-13T05:40:16.245598Z",
     "iopub.status.busy": "2024-12-13T05:40:16.245598Z",
     "iopub.status.idle": "2024-12-13T05:40:18.003591Z",
     "shell.execute_reply": "2024-12-13T05:40:18.003591Z",
     "shell.execute_reply.started": "2024-12-13T05:40:16.245598Z"
    }
   },
   "outputs": [
    {
     "data": {
      "text/plain": [
       "28753"
      ]
     },
     "execution_count": 4,
     "metadata": {},
     "output_type": "execute_result"
    }
   ],
   "source": [
    "res = 0\n",
    "\n",
    "for (xa, ya), (xb, yb), (xt, yt) in machines.values():\n",
    "    coord = solve([a * xa + b * xb - xt, a * ya + b * yb - yt], [a, b], dict=True)\n",
    "    if not coord:\n",
    "        continue\n",
    "        \n",
    "    A, B = map(float, [coord[0][a], coord[0][b]])\n",
    "    if A % 1 == 0 and B % 1 == 0:\n",
    "        res += 3 * A + B\n",
    "\n",
    "int(res)"
   ]
  },
  {
   "cell_type": "markdown",
   "metadata": {},
   "source": [
    "## Part 2"
   ]
  },
  {
   "cell_type": "code",
   "execution_count": 5,
   "metadata": {
    "execution": {
     "iopub.execute_input": "2024-12-13T05:40:18.015124Z",
     "iopub.status.busy": "2024-12-13T05:40:18.003591Z",
     "iopub.status.idle": "2024-12-13T05:40:20.391016Z",
     "shell.execute_reply": "2024-12-13T05:40:20.391016Z",
     "shell.execute_reply.started": "2024-12-13T05:40:18.015124Z"
    }
   },
   "outputs": [
    {
     "data": {
      "text/plain": [
       "102718967795500"
      ]
     },
     "execution_count": 5,
     "metadata": {},
     "output_type": "execute_result"
    }
   ],
   "source": [
    "buffer = 10_000_000_000_000\n",
    "res = 0\n",
    "\n",
    "for (xa, ya), (xb, yb), (xt, yt) in machines.values():\n",
    "    xt += buffer\n",
    "    yt += buffer\n",
    "    coord = solve([a * xa + b * xb - xt, a * ya + b * yb - yt], [a, b], dict=True)\n",
    "    if not coord:\n",
    "        continue\n",
    "        \n",
    "    A, B = map(float, [coord[0][a], coord[0][b]])\n",
    "    if A % 1 == 0 and B % 1 == 0:\n",
    "        res += 3 * A + B\n",
    "\n",
    "int(res)"
   ]
  }
 ],
 "metadata": {
  "kernelspec": {
   "display_name": "Python 3 (ipykernel)",
   "language": "python",
   "name": "python3"
  },
  "language_info": {
   "codemirror_mode": {
    "name": "ipython",
    "version": 3
   },
   "file_extension": ".py",
   "mimetype": "text/x-python",
   "name": "python",
   "nbconvert_exporter": "python",
   "pygments_lexer": "ipython3",
   "version": "3.11.4"
  }
 },
 "nbformat": 4,
 "nbformat_minor": 4
}
