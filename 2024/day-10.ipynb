{
 "cells": [
  {
   "cell_type": "markdown",
   "metadata": {},
   "source": [
    "[Advent of Code - Day 10](https://adventofcode.com/2024/day/10)"
   ]
  },
  {
   "cell_type": "markdown",
   "metadata": {},
   "source": [
    "# Import input"
   ]
  },
  {
   "cell_type": "code",
   "execution_count": 1,
   "metadata": {
    "execution": {
     "iopub.execute_input": "2024-12-10T05:19:17.507761Z",
     "iopub.status.busy": "2024-12-10T05:19:17.507761Z",
     "iopub.status.idle": "2024-12-10T05:19:18.721391Z",
     "shell.execute_reply": "2024-12-10T05:19:18.721391Z",
     "shell.execute_reply.started": "2024-12-10T05:19:17.507761Z"
    }
   },
   "outputs": [],
   "source": [
    "import sys\n",
    "from itertools import product\n",
    "\n",
    "sys.path.insert(0, \"../\")\n",
    "from utils import puzzle\n",
    "\n",
    "P = puzzle.Puzzle(year=\"2024\", day=\"10\")\n",
"INPUT = P.load_input()"
   ]
  },
  {
   "cell_type": "code",
   "execution_count": 2,
   "metadata": {
    "execution": {
     "iopub.execute_input": "2024-12-10T05:19:18.723906Z",
     "iopub.status.busy": "2024-12-10T05:19:18.723906Z",
     "iopub.status.idle": "2024-12-10T05:19:18.741322Z",
     "shell.execute_reply": "2024-12-10T05:19:18.741322Z",
     "shell.execute_reply.started": "2024-12-10T05:19:18.723906Z"
    }
   },
   "outputs": [
    {
     "data": {
      "text/plain": [
       "['654329854329876510123231016987212010510218565101234510343',\n",
       " '789218765010945678754122987878900123424309654345679623490',\n",
       " '543201698541232789669003456987210874535698701234388701581',\n",
       " '650165467432871694578712012076321965549785698323897632672',\n",
       " '569870346501960543209873453125409876678012587610432543543']"
      ]
     },
     "execution_count": 2,
     "metadata": {},
     "output_type": "execute_result"
    }
   ],
   "source": [
    "INPUT[:5]"
   ]
  },
  {
   "cell_type": "markdown",
   "metadata": {},
   "source": [
    "# Solulu"
   ]
  },
  {
   "cell_type": "code",
   "execution_count": 3,
   "metadata": {
    "execution": {
     "iopub.execute_input": "2024-12-10T05:19:18.744926Z",
     "iopub.status.busy": "2024-12-10T05:19:18.744926Z",
     "iopub.status.idle": "2024-12-10T05:19:18.755951Z",
     "shell.execute_reply": "2024-12-10T05:19:18.752696Z",
     "shell.execute_reply.started": "2024-12-10T05:19:18.744926Z"
    }
   },
   "outputs": [],
   "source": [
    "MAP = [list(map(int, line)) for line in INPUT]\n",
    "HEIGHT, WIDTH = len(MAP), len(MAP[0])\n",
    "\n",
    "neighbors = [(0, +1), (0, -1), (+1, 0), (-1, 0)]"
   ]
  },
  {
   "cell_type": "markdown",
   "metadata": {
    "execution": {
     "iopub.execute_input": "2024-12-10T05:07:18.031880Z",
     "iopub.status.busy": "2024-12-10T05:07:18.031880Z",
     "iopub.status.idle": "2024-12-10T05:07:18.046992Z",
     "shell.execute_reply": "2024-12-10T05:07:18.045867Z",
     "shell.execute_reply.started": "2024-12-10T05:07:18.031880Z"
    }
   },
   "source": [
    "## Part 1"
   ]
  },
  {
   "cell_type": "code",
   "execution_count": 4,
   "metadata": {
    "execution": {
     "iopub.execute_input": "2024-12-10T05:19:18.755951Z",
     "iopub.status.busy": "2024-12-10T05:19:18.755951Z",
     "iopub.status.idle": "2024-12-10T05:19:18.804761Z",
     "shell.execute_reply": "2024-12-10T05:19:18.803601Z",
     "shell.execute_reply.started": "2024-12-10T05:19:18.755951Z"
    }
   },
   "outputs": [
    {
     "data": {
      "text/plain": [
       "719"
      ]
     },
     "execution_count": 4,
     "metadata": {},
     "output_type": "execute_result"
    }
   ],
   "source": [
    "res = 0\n",
    "\n",
    "for row, col in product(range(HEIGHT), range(WIDTH)):\n",
    "    if MAP[row][col] != 0:\n",
    "        continue\n",
    "    queue = [(row, col, 0)]\n",
    "    nine = set()\n",
    "\n",
    "    while queue:\n",
    "        r, c, height = queue.pop(0)\n",
    "        if height == 9:\n",
    "            nine.add((r, c))\n",
    "            continue\n",
    "        for rr, cc in neighbors:\n",
    "            if r + rr not in range(HEIGHT) or c + cc not in range(WIDTH):\n",
    "                continue\n",
    "            elif MAP[r + rr][c + cc] == height + 1:\n",
    "                queue.append((r + rr, c + cc, height + 1))\n",
    "\n",
    "    res += len(nine)\n",
    "\n",
    "res"
   ]
  },
  {
   "cell_type": "markdown",
   "metadata": {},
   "source": [
    "## Part 2"
   ]
  },
  {
   "cell_type": "code",
   "execution_count": 5,
   "metadata": {
    "execution": {
     "iopub.execute_input": "2024-12-10T05:19:18.811044Z",
     "iopub.status.busy": "2024-12-10T05:19:18.811044Z",
     "iopub.status.idle": "2024-12-10T05:19:18.864572Z",
     "shell.execute_reply": "2024-12-10T05:19:18.864572Z",
     "shell.execute_reply.started": "2024-12-10T05:19:18.811044Z"
    }
   },
   "outputs": [
    {
     "data": {
      "text/plain": [
       "1530"
      ]
     },
     "execution_count": 5,
     "metadata": {},
     "output_type": "execute_result"
    }
   ],
   "source": [
    "res = 0\n",
    "\n",
    "for row, col in product(range(HEIGHT), range(WIDTH)):\n",
    "    if MAP[row][col] != 0:\n",
    "        continue\n",
    "    queue = [(row, col, 0)]\n",
    "\n",
    "    while queue:\n",
    "        r, c, height = queue.pop()\n",
    "        if height == 9:\n",
    "            res += 1\n",
    "            continue\n",
    "        for rr, cc in neighbors:\n",
    "            if r + rr not in range(HEIGHT) or c + cc not in range(WIDTH):\n",
    "                continue\n",
    "            elif MAP[r + rr][c + cc] == height + 1:\n",
    "                queue.append((r + rr, c + cc, height + 1))\n",
    "\n",
    "res"
   ]
  }
 ],
 "metadata": {
  "kernelspec": {
   "display_name": "Python 3 (ipykernel)",
   "language": "python",
   "name": "python3"
  },
  "language_info": {
   "codemirror_mode": {
    "name": "ipython",
    "version": 3
   },
   "file_extension": ".py",
   "mimetype": "text/x-python",
   "name": "python",
   "nbconvert_exporter": "python",
   "pygments_lexer": "ipython3",
   "version": "3.11.4"
  }
 },
 "nbformat": 4,
 "nbformat_minor": 4
}
